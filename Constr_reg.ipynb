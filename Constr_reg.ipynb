{
 "cells": [
  {
   "cell_type": "markdown",
   "metadata": {},
   "source": [
    "# Constrained Least Squares"
   ]
  },
  {
   "cell_type": "markdown",
   "metadata": {},
   "source": [
    "Assume we have a dataset for which we want to do regression on. We know this dataset is divided into reliable and unreliable data, such that it takes the form \n",
    "$$\\begin{align}\n",
    "    A_1 x &\\approx b_1\\\\\n",
    "    A_2 x &= b_2\n",
    "  \\end{align}\n",
    "$$\n",
    "Consequently we have the program:\n",
    "$$\\begin{align}\n",
    "    \\min_x \\quad &\\frac{1}{2} \\| A_1 x - b_1\\|^2 \\\\\n",
    "    \\text{s.t.} \\quad &A_2 x = b_2\n",
    "  \\end{align}\n",
    "$$"
   ]
  },
  {
   "cell_type": "markdown",
   "metadata": {},
   "source": [
    "We capture the constraint by projecting the gradient descent function onto the set $C$ which is defined as $$C = \\{x \\in \\mathbb{R}^n : Ax = b\\}.$$ The formula for the projection onto $C$ using the Moore-Penrose pseudo-inverse is $$P_C(z) = z - (A^{\\intercal} A)^{-1} A^{\\intercal}(Az - b).$$\n",
    "\n",
    "If  $$A^+ = (A^{\\intercal} A)^{-1} A^{\\intercal}$$ the above reduces to $$ P_C(z) = z - A^+(Az - b).$$\n"
   ]
  },
  {
   "cell_type": "markdown",
   "metadata": {},
   "source": [
    "We thus have the following procedure:\n",
    "$$\\begin{align}\n",
    "f(x) &= \\frac{1}{2} \\| A_1 x - b_1\\|^2 \\\\\n",
    "\\nabla f(x) &= A_1^{\\intercal} (A_1 x - b_1)\\\\\n",
    "y^k &= x^k - \\lambda \\nabla f(x^k)\\\\\n",
    "&= x^k - \\lambda \\nabla \\big(A_1^{\\intercal} (A_1 x^k - b_1)\\big)\\\\\n",
    "x^{k+1} &= P_C(y^k)\\\\\n",
    "&= y^k - A_2^+ (A_2 y^k - b_2)\\\\\n",
    "&= x^k - \\lambda \\nabla f(x^k) - A_2^+ \\big(A_2(x^k - \\lambda \\nabla f(x^k)) - b_2\\big)\\\\\n",
    "&= x^k - \\lambda \\nabla \\big(A_1^{\\intercal} (A_1 x^k - b_1)\\big) - (A_2^{\\intercal} A_2)^{-1} A_2^{\\intercal}\\Bigg(A_2\\bigg(x^k - \\lambda \\nabla \\big(A_1^{\\intercal} (A_1 x^k - b_1)\\big)\\bigg) - b_2\\Bigg)\n",
    "\\end{align}$$"
   ]
  },
  {
   "cell_type": "code",
   "execution_count": 1,
   "metadata": {},
   "outputs": [],
   "source": [
    "import matplotlib.pyplot as plt\n",
    "import random\n",
    "import numpy as np\n",
    "import pandas as pd\n",
    "import time\n",
    "from copy import deepcopy\n",
    "from sklearn.datasets import make_regression\n",
    "from sklearn.model_selection import train_test_split\n",
    "def ren(y): return range(len(y))\n",
    "rng = np.random.default_rng()"
   ]
  },
  {
   "cell_type": "code",
   "execution_count": 2,
   "metadata": {},
   "outputs": [],
   "source": [
    "def f(x,A,b): # function\n",
    "    return 0.5*(np.linalg.norm( A @ x - b )**2)\n",
    "def f_grad(x,A,b): # gradient function\n",
    "    return A.T @ ( A @ x - b )\n",
    "def y(x,grad,lam): # `classic' gradient descent\n",
    "    return x - lam*grad\n",
    "def GD_P(Y, A, Ainv, b): # Projection function\n",
    "    return Y - Ainv @ (A@Y - b)\n",
    "\n",
    "DS = make_regression() # generate regression dataset\n",
    "A1, A2, b1, b2 = train_test_split(DS[0],DS[1], test_size=0.1) # break data into two sections\n",
    "b1 = np.array([i+rng.uniform(-1,1)*10 for i in b1]) # warp the unreliable data\n",
    "A2inv = np.linalg.pinv(A2) # calculate the pseudo inverse of A2\n",
    "x0 = rng.random(len(A1[0])) # generate a len n vector x\n",
    "epsilon = 1e-6"
   ]
  },
  {
   "cell_type": "markdown",
   "metadata": {},
   "source": [
    "# Vanilla"
   ]
  },
  {
   "cell_type": "code",
   "execution_count": 3,
   "metadata": {},
   "outputs": [],
   "source": [
    "init_time = time.time()\n",
    "x0 = rng.random(len(A1[0])) # generate a len n vector x\n",
    "lam = 1/np.max(np.linalg.svd(A1@A1.T)[1]) # 1/L\n",
    "Grad = f_grad(x0,A1,b1)\n",
    "y0 = y(x0,Grad,lam) # perform `classic' gradient descent part\n",
    "x1 = GD_P(y0, A2, A2inv, b2) # calculate projection onto C\n",
    "ApproxGrad = (x1-x0)/lam\n",
    "ApproxGradNorm = np.linalg.norm(ApproxGrad)\n",
    "AprGrList = [ApproxGradNorm]\n",
    "timeList = [time.time() - init_time]\n",
    "while ApproxGradNorm > epsilon:\n",
    "    Grad = f_grad(x1,A1,b1)\n",
    "    yk = y(x1,Grad,lam)\n",
    "    x0 = deepcopy(x1)\n",
    "    x1 = GD_P(yk,A2,A2inv,b2)\n",
    "    ApproxGrad = (x1-x0)/lam\n",
    "    ApproxGradNorm = np.linalg.norm(ApproxGrad)\n",
    "    AprGrList.append(ApproxGradNorm)\n",
    "    timeList.append(time.time() - init_time)"
   ]
  },
  {
   "cell_type": "code",
   "execution_count": 4,
   "metadata": {},
   "outputs": [
    {
     "data": {
      "image/png": "[encoded data removed]",
      "text/plain": [
       "<Figure size 432x288 with 1 Axes>"
      ]
     },
     "metadata": {
      "needs_background": "light"
     },
     "output_type": "display_data"
    }
   ],
   "source": [
    "plt.plot(timeList,AprGrList)\n",
    "plt.yscale('log')\n",
    "plt.xlabel('Time')\n",
    "plt.ylabel('Approximate Gradient Norm')\n",
    "plt.show()"
   ]
  },
  {
   "cell_type": "code",
   "execution_count": 7,
   "metadata": {},
   "outputs": [
    {
     "data": {
      "text/plain": [
       "True"
      ]
     },
     "execution_count": 7,
     "metadata": {},
     "output_type": "execute_result"
    }
   ],
   "source": [
    "np.allclose(A1@x1,b1)"
   ]
  },
  {
   "cell_type": "code",
   "execution_count": 8,
   "metadata": {},
   "outputs": [
    {
     "data": {
      "text/plain": [
       "True"
      ]
     },
     "execution_count": 8,
     "metadata": {},
     "output_type": "execute_result"
    }
   ],
   "source": [
    "np.allclose(A2@x1,b2)"
   ]
  },
  {
   "cell_type": "markdown",
   "metadata": {},
   "source": [
    "# Adaptive"
   ]
  },
  {
   "cell_type": "code",
   "execution_count": 9,
   "metadata": {},
   "outputs": [],
   "source": [
    "init_time = time.time()\n",
    "x0 = rng.random(len(A1[0])) # generate a len n vector x\n",
    "oldGrad = f_grad(x0, A1, b1)\n",
    "lam = rng.random()+1e-12\n",
    "theta = np.inf\n",
    "y0 = y(x0,oldGrad,lam) # perform `classic' gradient descent part\n",
    "x1 = GD_P(y0, A2, A2inv, b2) # calculate projection onto C\n",
    "Grad = f_grad(x1, A1, b1)\n",
    "ApproxGrad = (x1-x0)/lam\n",
    "ApproxGradNorm = np.linalg.norm(ApproxGrad)\n",
    "AprGrList = [ApproxGradNorm]\n",
    "timeList = [time.time() - init_time]\n",
    "while ApproxGradNorm > epsilon:\n",
    "    lam0 = deepcopy(lam)\n",
    "    min1 = np.sqrt(1 + theta)*lam0\n",
    "    min2Nom = np.linalg.norm(x1 - x0)\n",
    "    min2Denom = 2*np.linalg.norm(Grad - oldGrad)\n",
    "    lam = np.min([min1, min2Nom/min2Denom])\n",
    "    yk = y(x1,Grad,lam)\n",
    "    x0 = deepcopy(x1)\n",
    "    x1 = GD_P(yk,A2,A2inv,b2)\n",
    "    oldGrad = deepcopy(Grad)\n",
    "    Grad = f_grad(x1,A1,b1)\n",
    "    ApproxGrad = (x1-x0)/lam\n",
    "    ApproxGradNorm = np.linalg.norm(ApproxGrad)\n",
    "    AprGrList.append(ApproxGradNorm)\n",
    "    timeList.append(time.time() - init_time)"
   ]
  },
  {
   "cell_type": "code",
   "execution_count": 10,
   "metadata": {},
   "outputs": [
    {
     "data": {
      "image/png": "[encoded data removed]",
      "text/plain": [
       "<Figure size 432x288 with 1 Axes>"
      ]
     },
     "metadata": {
      "needs_background": "light"
     },
     "output_type": "display_data"
    }
   ],
   "source": [
    "plt.plot(timeList,AprGrList)\n",
    "plt.yscale('log')\n",
    "plt.xlabel('Time')\n",
    "plt.ylabel('Approximate Gradient Norm')\n",
    "plt.show()"
   ]
  },
  {
   "cell_type": "code",
   "execution_count": 11,
   "metadata": {},
   "outputs": [
    {
     "data": {
      "text/plain": [
       "True"
      ]
     },
     "execution_count": 11,
     "metadata": {},
     "output_type": "execute_result"
    }
   ],
   "source": [
    "np.allclose(A1@x1,b1)"
   ]
  },
  {
   "cell_type": "code",
   "execution_count": 12,
   "metadata": {},
   "outputs": [
    {
     "data": {
      "text/plain": [
       "True"
      ]
     },
     "execution_count": 12,
     "metadata": {},
     "output_type": "execute_result"
    }
   ],
   "source": [
    "np.allclose(A2@x1,b2)"
   ]
  },
  {
   "cell_type": "markdown",
   "metadata": {},
   "source": [
    "# Line Search"
   ]
  },
  {
   "cell_type": "code",
   "execution_count": 22,
   "metadata": {},
   "outputs": [],
   "source": [
    "init_time = time.time()\n",
    "x1 = rng.random(len(A1[0])) # generate a len n vector x\n",
    "Grad = f_grad(x1,A1,b1)\n",
    "ApproxGrad = deepcopy(Grad)\n",
    "ApproxGradNorm = np.linalg.norm(ApproxGrad)\n",
    "AprGrList = [ApproxGradNorm]\n",
    "timeList = [time.time() - init_time]\n",
    "while ApproxGradNorm > epsilon:\n",
    "    LStime = time.time()\n",
    "    rho = rng.random()+1e-12\n",
    "    Lam = rng.uniform(0.1,10)\n",
    "    while 1 > (np.linalg.norm(Grad)/ np.linalg.norm(f_grad(x1 - Lam*Grad, A1,b1) - Grad) ):\n",
    "        Lam = rho*Lam\n",
    "        if time.time() - LStime > 10:\n",
    "            break\n",
    "    lam = Lam\n",
    "    Grad = f_grad(x1,A1,b1)\n",
    "    yk = y(x1,Grad,lam)\n",
    "    x0 = deepcopy(x1)\n",
    "    x1 = GD_P(yk,A2,A2inv,b2)\n",
    "    ApproxGrad = (x1-x0)/lam\n",
    "    ApproxGradNorm = np.linalg.norm(ApproxGrad)\n",
    "    AprGrList.append(ApproxGradNorm)\n",
    "    timeList.append(time.time() - init_time)\n",
    "    if timeList[-1] > 120:\n",
    "        break"
   ]
  },
  {
   "cell_type": "code",
   "execution_count": 23,
   "metadata": {},
   "outputs": [
    {
     "data": {
      "image/png": "[encoded data removed]",
      "text/plain": [
       "<Figure size 432x288 with 1 Axes>"
      ]
     },
     "metadata": {
      "needs_background": "light"
     },
     "output_type": "display_data"
    }
   ],
   "source": [
    "plt.plot(timeList,AprGrList)\n",
    "plt.yscale('log')\n",
    "plt.xlabel('Time')\n",
    "plt.ylabel('Approximate Gradient Norm')\n",
    "plt.show()"
   ]
  },
  {
   "cell_type": "code",
   "execution_count": 24,
   "metadata": {},
   "outputs": [
    {
     "data": {
      "text/plain": [
       "False"
      ]
     },
     "execution_count": 24,
     "metadata": {},
     "output_type": "execute_result"
    }
   ],
   "source": [
    "np.allclose(A1@x1,b1)"
   ]
  },
  {
   "cell_type": "code",
   "execution_count": 25,
   "metadata": {},
   "outputs": [
    {
     "data": {
      "text/plain": [
       "True"
      ]
     },
     "execution_count": 25,
     "metadata": {},
     "output_type": "execute_result"
    }
   ],
   "source": [
    "np.allclose(A2@x1,b2)"
   ]
  },
  {
   "cell_type": "code",
   "execution_count": null,
   "metadata": {},
   "outputs": [],
   "source": []
  },
  {
   "cell_type": "markdown",
   "metadata": {},
   "source": [
    "# Barzilai-Borwein"
   ]
  },
  {
   "cell_type": "code",
   "execution_count": 14,
   "metadata": {},
   "outputs": [],
   "source": [
    "init_time = time.time()\n",
    "x0 = rng.random(len(A1[0])) # generate a len n vector x\n",
    "oldGrad = f_grad(x0, A1, b1)\n",
    "lam = rng.random()+1e-12\n",
    "y0 = y(x0,oldGrad,lam) # perform `classic' gradient descent part\n",
    "x1 = GD_P(y0, A2, A2inv, b2) # calculate projection onto C\n",
    "Grad = f_grad(x1, A1, b1)\n",
    "ApproxGrad = (x1-x0)/lam\n",
    "ApproxGradNorm = np.linalg.norm(ApproxGrad)\n",
    "AprGrList = [ApproxGradNorm]\n",
    "timeList = [time.time() - init_time]\n",
    "while ApproxGradNorm > epsilon:\n",
    "    Nom = np.dot(x1 - x0, Grad - oldGrad)\n",
    "    Denom = np.linalg.norm(Grad - oldGrad)**2\n",
    "    lam = Nom/Denom\n",
    "    yk = y(x1,Grad,lam)\n",
    "    x0 = deepcopy(x1)\n",
    "    x1 = GD_P(yk,A2,A2inv,b2)\n",
    "    oldGrad = deepcopy(Grad)\n",
    "    Grad = f_grad(x1,A1,b1)\n",
    "    ApproxGrad = (x1-x0)/lam\n",
    "    ApproxGradNorm = np.linalg.norm(ApproxGrad)\n",
    "    AprGrList.append(ApproxGradNorm)\n",
    "    timeList.append(time.time() - init_time)"
   ]
  },
  {
   "cell_type": "code",
   "execution_count": 15,
   "metadata": {},
   "outputs": [
    {
     "data": {
      "image/png": "[encoded data removed]",
      "text/plain": [
       "<Figure size 432x288 with 1 Axes>"
      ]
     },
     "metadata": {
      "needs_background": "light"
     },
     "output_type": "display_data"
    }
   ],
   "source": [
    "plt.plot(timeList,AprGrList)\n",
    "plt.yscale('log')\n",
    "plt.xlabel('Time')\n",
    "plt.ylabel('Approximate Gradient Norm')\n",
    "plt.show()"
   ]
  },
  {
   "cell_type": "code",
   "execution_count": 16,
   "metadata": {},
   "outputs": [
    {
     "data": {
      "text/plain": [
       "True"
      ]
     },
     "execution_count": 16,
     "metadata": {},
     "output_type": "execute_result"
    }
   ],
   "source": [
    "np.allclose(A1@x1,b1)"
   ]
  },
  {
   "cell_type": "code",
   "execution_count": 17,
   "metadata": {},
   "outputs": [
    {
     "data": {
      "text/plain": [
       "True"
      ]
     },
     "execution_count": 17,
     "metadata": {},
     "output_type": "execute_result"
    }
   ],
   "source": [
    "np.allclose(A2@x1,b2)"
   ]
  },
  {
   "cell_type": "markdown",
   "metadata": {},
   "source": [
    "# Nesterov Acceleration"
   ]
  },
  {
   "cell_type": "code",
   "execution_count": 18,
   "metadata": {},
   "outputs": [],
   "source": [
    "init_time = time.time()\n",
    "x1 = rng.random(len(A1[0])) # generate a len n vector x\n",
    "x0 = deepcopy(x1)\n",
    "z0 = deepcopy(x1)\n",
    "L = np.max(np.linalg.svd(A1@A1.T)[1]) # L\n",
    "Grad = f_grad(x1,A1,b1)\n",
    "ApproxGrad = deepcopy(Grad)\n",
    "ApproxGradNorm = np.linalg.norm(ApproxGrad)\n",
    "AprGrList = [ApproxGradNorm]\n",
    "timeList = [time.time() - init_time]\n",
    "lam0 = 1\n",
    "while ApproxGradNorm > epsilon:\n",
    "    lam = (1+np.sqrt(1+4*lam0**2))/2\n",
    "    gamma = (1-lam0)/lam\n",
    "    Grad = f_grad(x1,A1,b1)\n",
    "    z1 = y(x1, Grad, 1/L )   \n",
    "    yk = (1-gamma)*z1 + gamma*z0\n",
    "    x0 = deepcopy(x1)\n",
    "    z0 = deepcopy(z1)\n",
    "    x1 = GD_P(yk,A2,A2inv,b2)\n",
    "    ApproxGrad = (x1-x0)/lam\n",
    "    ApproxGradNorm = np.linalg.norm(ApproxGrad)\n",
    "    AprGrList.append(ApproxGradNorm)\n",
    "    timeList.append(time.time() - init_time)"
   ]
  },
  {
   "cell_type": "code",
   "execution_count": 19,
   "metadata": {},
   "outputs": [
    {
     "data": {
      "image/png": "[encoded data removed]",
      "text/plain": [
       "<Figure size 432x288 with 1 Axes>"
      ]
     },
     "metadata": {
      "needs_background": "light"
     },
     "output_type": "display_data"
    }
   ],
   "source": [
    "plt.plot(timeList,AprGrList)\n",
    "plt.yscale('log')\n",
    "plt.xlabel('Time')\n",
    "plt.ylabel('Approximate Gradient Norm')\n",
    "plt.show()"
   ]
  },
  {
   "cell_type": "code",
   "execution_count": 20,
   "metadata": {},
   "outputs": [
    {
     "data": {
      "text/plain": [
       "False"
      ]
     },
     "execution_count": 20,
     "metadata": {},
     "output_type": "execute_result"
    }
   ],
   "source": [
    "np.allclose(A1@x1,b1)"
   ]
  },
  {
   "cell_type": "code",
   "execution_count": 21,
   "metadata": {},
   "outputs": [
    {
     "data": {
      "text/plain": [
       "True"
      ]
     },
     "execution_count": 21,
     "metadata": {},
     "output_type": "execute_result"
    }
   ],
   "source": [
    "np.allclose(A2@x1,b2)"
   ]
  },
  {
   "cell_type": "code",
   "execution_count": null,
   "metadata": {},
   "outputs": [],
   "source": []
  }
 ],
 "metadata": {
  "kernelspec": {
   "display_name": "Python 3",
   "language": "python",
   "name": "python3"
  },
  "language_info": {
   "codemirror_mode": {
    "name": "ipython",
    "version": 3
   },
   "file_extension": ".py",
   "mimetype": "text/x-python",
   "name": "python",
   "nbconvert_exporter": "python",
   "pygments_lexer": "ipython3",
   "version": "3.8.6"
  }
 },
 "nbformat": 4,
 "nbformat_minor": 4
}
