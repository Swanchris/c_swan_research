{
 "cells": [
  {
   "cell_type": "markdown",
   "metadata": {},
   "source": [
    "# ALL REGRESSIONS"
   ]
  },
  {
   "cell_type": "markdown",
   "metadata": {},
   "source": [
    "In this version, all plotting will take place separately. We will save data to a csv and then plot from there. In doing so, we will be able save results."
   ]
  },
  {
   "cell_type": "markdown",
   "metadata": {},
   "source": [
    "Still need to implement the idea of train/test for linear regression: seeing how well our model works"
   ]
  },
  {
   "cell_type": "code",
   "execution_count": 17,
   "metadata": {},
   "outputs": [],
   "source": [
    "import matplotlib.pyplot as plt\n",
    "import random\n",
    "import numpy as np\n",
    "import pandas as pd\n",
    "import time\n",
    "from copy import deepcopy\n",
    "from sklearn.datasets import make_regression as Make_reg # default is 100 samples, 100 features\n",
    "from sklearn.datasets import make_classification as Make_class # default is 100 samples, 20 features, 2 classes\n",
    "from sklearn.model_selection import train_test_split as split\n",
    "def ren(x): return range(len(x))\n",
    "\n",
    "class Regression:\n",
    "    def __init__(self, error, time_limit):\n",
    "        self.time_limit = time_limit\n",
    "        self.error = error # epsilon/tolerence\n",
    "            \n",
    "    def makeLinearRegressionDataset(self): # make a dataset using sklearn's Make Regression\n",
    "        dataset = Make_reg()\n",
    "        self.a_copy = dataset[0]\n",
    "        self.b_copy = dataset[1]\n",
    "        self.x_copy = np.random.rand(len(self.a_copy[0]))\n",
    "    \n",
    "    def importLinearRegressionDataset(self, dataset): # import a regression dataset from sklearn\n",
    "        dataset = dataset(return_X_y=True)\n",
    "        self.a_copy = dataset[0]\n",
    "        self.b_copy = dataset[1]\n",
    "        self.x_copy = np.random.rand(len(self.a_copy[0]))\n",
    "        \n",
    "    def customLinearRegressionDataset(self, a, b):\n",
    "        self.a_copy = a\n",
    "        self.b_copy = b\n",
    "        self.x_copy = np.random.rand(len(self.a_copy[0]))\n",
    "        \n",
    "    def f_Lin(self, X): # linear Regression Function\n",
    "        return 0.5 * np.linalg.norm(self.a @ X - self.b)**2\n",
    "    def g_Lin(self, X): # linearRegressionFunctionGradient\n",
    "        return self.a.T @ (self.a @ X - self.b)\n",
    "    def GD_Lin(self): # Linear Regression gradient descent\n",
    "        self.x = self.x - self.lam*self.grad\n",
    "    \n",
    "    def Vanilla_Linear_Reg(self, directory): # using a fixed step size of 1/L\n",
    "        # set up\n",
    "        self.initialTime = time.time() # start the clock\n",
    "        self.x = deepcopy(self.x_copy) # make copies to use\n",
    "        self.a = deepcopy(self.a_copy)\n",
    "        self.b = deepcopy(self.b_copy)\n",
    "        self.lam = 1/np.max( np.linalg.svd( self.a @ self.a.T ) [1] ) # find step size\n",
    "        self.grad = self.g_Lin(self.x) # calculate gradient\n",
    "        self.gradNorm = np.linalg.norm(self.grad) # calc the l2 norm of the gradient\n",
    "        self.gradientValuesList = [self.gradNorm] # initialise ...\n",
    "#         self.functionVals = [self.f_Lin(self.x)] # to show function value convergence\n",
    "        self.timeList = [time.time() - self.initialTime]\n",
    "        # loop\n",
    "        while self.gradNorm > self.error:\n",
    "            self.GD_Lin()\n",
    "            self.grad = self.g_Lin(self.x)\n",
    "            self.gradNorm = np.linalg.norm(self.grad)\n",
    "            self.gradientValuesList.append(self.gradNorm)\n",
    "#             self.functionVals.append(self.f_Lin(self.x))\n",
    "            self.timeList.append(time.time() - self.initialTime)\n",
    "            if self.time_limit > 0:\n",
    "                if (time.time() - self.initialTime) > self.time_limit:\n",
    "                    break\n",
    "        self.LinearVanDF = pd.DataFrame(\n",
    "            {'GradientNorms': self.gradientValuesList , \n",
    "             'TimeTaken': self.timeList})\n",
    "#         self.LinearVanDF = pd.DataFrame(\n",
    "#             {'GradientNorms': self.gradientValuesList , \n",
    "#              'TimeTaken': self.timeList, 'FunctionValues': self.functionVals})\n",
    "        self.LinearVanDF.to_csv(directory, index = False)\n",
    "    \n",
    "    def Adaptive_Linear_Reg(self, directory): # in which the step size adapts to local curvature\n",
    "        #set up\n",
    "        self.initialTime = time.time() # start the clock\n",
    "        self.x = deepcopy(self.x_copy) # make copies to use\n",
    "        self.a = deepcopy(self.a_copy)\n",
    "        self.b = deepcopy(self.b_copy)\n",
    "        self.lam = random.random()+1e-12 # initialise step size > 0\n",
    "        self.theta = np.inf # initialise theta = infty\n",
    "        x0 = deepcopy(self.x) # make a coopy of x to preserve previous x\n",
    "        self.grad = self.g_Lin(self.x) # calculate gradient\n",
    "        self.gradNorm = np.linalg.norm(self.grad) # calc the l2 norm of the gradient\n",
    "        self.gradientValuesList = [self.gradNorm] # initialise ...\n",
    "#         self.functionVals = [self.f_Lin(self.x)] # to show function value convergence\n",
    "        self.timeList = [time.time() - self.initialTime] # to show time taken\n",
    "        \n",
    "        self.GD_Lin()\n",
    "        self.oldGrad = deepcopy(self.grad)\n",
    "        self.grad = self.g_Lin(self.x)\n",
    "        self.gradNorm = np.linalg.norm(self.grad)\n",
    "        self.gradientValuesList.append(self.gradNorm)\n",
    "#         self.functionVals.append(self.f_Lin(self.x))\n",
    "        self.timeList.append(time.time() - self.initialTime)\n",
    "        # loop\n",
    "        while self.gradNorm > self.error:\n",
    "            lam0 = deepcopy(self.lam) # copy initial step size\n",
    "            min1 = np.sqrt(1 + self.theta)*self.lam # 1st part of step size calc\n",
    "            min2_nom = np.linalg.norm(self.x - x0) # 2nd part of step size calc\n",
    "            min2_denom = 2*np.linalg.norm(self.grad - self.oldGrad) # as above\n",
    "            self.lam = np.min([min1, (min2_nom / min2_denom) ]) # calc new step size\n",
    "            x0 = deepcopy(self.x) # make a coopy of x to preserve previous x\n",
    "            self.GD_Lin() # steepest descent\n",
    "            self.theta = self.lam / lam0 # calc theta\n",
    "            self.oldGrad = deepcopy(self.grad)\n",
    "            self.grad = self.g_Lin(self.x)\n",
    "            self.gradNorm = np.linalg.norm(self.grad)\n",
    "            self.gradientValuesList.append(self.gradNorm)\n",
    "#             self.functionVals.append(self.f_Lin(self.x))\n",
    "            self.timeList.append(time.time() - self.initialTime)\n",
    "            if self.time_limit > 0:\n",
    "                if (time.time() - self.initialTime) > self.time_limit:\n",
    "                    break\n",
    "        self.LinearAdapDF = pd.DataFrame(\n",
    "            {'GradientNorms': self.gradientValuesList , \n",
    "             'TimeTaken': self.timeList})\n",
    "#         self.LinearAdapDF = pd.DataFrame(\n",
    "#             {'GradientNorms': self.gradientValuesList , \n",
    "#              'TimeTaken': self.timeList, 'FunctionValues': self.functionVals})\n",
    "        self.LinearAdapDF.to_csv(directory, index = False)\n",
    "    \n",
    "    def Grad_LineSearch_Linear_Reg(self, directory): # using a line search\n",
    "        def BackTrack():\n",
    "            rho = random.random()\n",
    "            lam = random.randrange(10)\n",
    "            while 1 > ( self.gradNorm/np.linalg.norm(self.g_Lin(self.x - lam*self.grad) - self.grad) ):\n",
    "                lam = rho * lam\n",
    "                if self.time_limit > 0:\n",
    "                    if (time.time() - self.initialTime) > self.time_limit:\n",
    "                        return None\n",
    "            self.lam = lam\n",
    "            \n",
    "        #set up\n",
    "        self.initialTime = time.time() # start the clock\n",
    "        self.x = deepcopy(self.x_copy) # make copies to use\n",
    "        self.a = deepcopy(self.a_copy)\n",
    "        self.b = deepcopy(self.b_copy)\n",
    "        self.grad = self.g_Lin(self.x) # calculate gradient\n",
    "        self.gradNorm = np.linalg.norm(self.grad) # calc the l2 norm of the gradient\n",
    "        self.gradientValuesList = [self.gradNorm] # initialise ...\n",
    "#         self.functionVals = [self.f_Lin(self.x)] # to show function value convergence\n",
    "        self.timeList = [time.time() - self.initialTime]\n",
    "        # loop\n",
    "        while self.gradNorm > self.error:\n",
    "            BackTrack()\n",
    "            self.GD_Lin()\n",
    "            self.grad = self.g_Lin(self.x)\n",
    "            self.gradNorm = np.linalg.norm(self.grad)\n",
    "            self.gradientValuesList.append(self.gradNorm)\n",
    "#             self.functionVals.append(self.f_Lin(self.x))\n",
    "            self.timeList.append(time.time() - self.initialTime)\n",
    "            if self.time_limit > 0:\n",
    "                if (time.time() - self.initialTime) > self.time_limit:\n",
    "                    break\n",
    "        self.LinearLineSearchDF = pd.DataFrame(\n",
    "            {'GradientNorms': self.gradientValuesList , \n",
    "             'TimeTaken': self.timeList})\n",
    "#         self.LinearLineSearchDF = pd.DataFrame(\n",
    "#             {'GradientNorms': self.gradientValuesList , \n",
    "#              'TimeTaken': self.timeList, 'FunctionValues': self.functionVals})\n",
    "        self.LinearLineSearchDF.to_csv(directory, index = False)\n",
    "            \n",
    "    def Barzilai_Linear_Reg(self, directory):\n",
    "        #set up\n",
    "        self.initialTime = time.time() # start the clock\n",
    "        self.x = deepcopy(self.x_copy) # make copies to use\n",
    "        self.a = deepcopy(self.a_copy)\n",
    "        self.b = deepcopy(self.b_copy)\n",
    "        self.lam = random.random()+1e-12 # initialise step size > 0\n",
    "        x0 = deepcopy(self.x) # make a coopy of x to preserve previous x\n",
    "        self.grad = self.g_Lin(self.x) # calculate gradient\n",
    "        self.gradNorm = np.linalg.norm(self.grad) # calc the l2 norm of the gradient\n",
    "        self.gradientValuesList = [self.gradNorm] # initialise ...\n",
    "#         self.functionVals = [self.f_Lin(self.x)] # to show function value convergence\n",
    "        self.timeList = [time.time() - self.initialTime] # to show time taken\n",
    "        self.GD_Lin()\n",
    "        self.oldGrad = deepcopy(self.grad)\n",
    "        self.grad = self.g_Lin(self.x) # calculate gradient\n",
    "        self.gradNorm = np.linalg.norm(self.grad) # calc the l2 norm of the gradient\n",
    "        self.gradientValuesList.append(self.gradNorm)\n",
    "#         self.functionVals.append(self.f_Lin(self.x))\n",
    "        self.timeList.append(time.time() - self.initialTime)\n",
    "        # loop\n",
    "        while self.gradNorm > self.error:\n",
    "            nom = np.dot(self.x - x0, self.grad - self.oldGrad )\n",
    "            denom = np.linalg.norm(self.grad - self.oldGrad)**2\n",
    "            self.lam = nom / denom            \n",
    "            x0 = deepcopy(self.x) # make a coopy of x to preserve previous x\n",
    "            self.GD_Lin() # steepest descent\n",
    "            self.oldGrad = deepcopy(self.grad)\n",
    "            self.grad = self.g_Lin(self.x)\n",
    "            self.gradNorm = np.linalg.norm(self.grad)\n",
    "            self.gradientValuesList.append(self.gradNorm)\n",
    "#             self.functionVals.append(self.f_Lin(self.x))\n",
    "            self.timeList.append(time.time() - self.initialTime)\n",
    "            if self.time_limit > 0:\n",
    "                if (time.time() - self.initialTime) > self.time_limit:\n",
    "                    break\n",
    "#         self.LinearBarzDF = pd.DataFrame(\n",
    "#             {'GradientNorms': self.gradientValuesList , \n",
    "#              'TimeTaken': self.timeList, 'FunctionValues': self.functionVals})\n",
    "        self.LinearBarzDF = pd.DataFrame(\n",
    "            {'GradientNorms': self.gradientValuesList , \n",
    "             'TimeTaken': self.timeList})\n",
    "        self.LinearBarzDF.to_csv(directory, index = False)\n",
    "        \n",
    "    def Nesterov_Linear_Reg(self, directory):\n",
    "        #set up\n",
    "        self.initialTime = time.time() # start the clock\n",
    "        self.x = deepcopy(self.x_copy) # make copies to use\n",
    "        self.a = deepcopy(self.a_copy)\n",
    "        self.b = deepcopy(self.b_copy)\n",
    "        L = np.max( np.linalg.svd( self.a @ self.a.T ) [1] )\n",
    "        self.grad = self.g_Lin(self.x) # calculate gradient\n",
    "        self.gradNorm = np.linalg.norm(self.grad) # calc the l2 norm of the gradient\n",
    "        self.gradientValuesList = [self.gradNorm] # initialise ...\n",
    "#         self.functionVals = [self.f_Lin(self.x)] # to show function value convergence\n",
    "        self.timeList = [time.time() - self.initialTime]\n",
    "        lam1 = 1\n",
    "        y0 = deepcopy(self.x)\n",
    "        while self.gradNorm > self.error:\n",
    "            self.lam = 0.5*(1 + np.sqrt(1 + 4*lam1**2))\n",
    "            self.gamma = (1 - lam1)/self.lam\n",
    "            y1 = self.x - self.grad/L\n",
    "            self.x = (1 - self.gamma)*y1 + self.gamma*y0\n",
    "            lam1 = deepcopy(self.lam)\n",
    "            y0 = deepcopy(y1)\n",
    "            self.grad = self.g_Lin(self.x)\n",
    "            self.gradNorm = np.linalg.norm(self.grad)\n",
    "            self.gradientValuesList.append(self.gradNorm)\n",
    "#             self.functionVals.append(self.f_Lin(self.x))\n",
    "            self.timeList.append(time.time() - self.initialTime)\n",
    "            if self.time_limit > 0:\n",
    "                if (time.time() - self.initialTime) > self.time_limit:\n",
    "                    break\n",
    "        self.LinearNestDF = pd.DataFrame(\n",
    "            {'GradientNorms': self.gradientValuesList , \n",
    "             'TimeTaken': self.timeList})\n",
    "#         self.LinearNestDF = pd.DataFrame(\n",
    "#             {'GradientNorms': self.gradientValuesList , \n",
    "#              'TimeTaken': self.timeList, 'FunctionValues': self.functionVals})\n",
    "        self.LinearNestDF.to_csv(directory, index = False)\n",
    "    \n",
    "    #-------------------------------------------------------------------------------------------\n",
    "    \n",
    "    def makeLogisticRegressionDataset(self):\n",
    "        sample_data = Make_class()\n",
    "        ones = np.array([[1]*len(sample_data[0])])\n",
    "        augmented_data = np.concatenate((ones.T, self.normalise(sample_data[0])), axis =1) # add a 1 to the start of each feature\n",
    "        self.xTrain, self.xTest, self.yTrain, self.yTest = split( augmented_data, sample_data[1], \\\n",
    "                                                                 test_size = 0.1)\n",
    "        self.weights_copy = np.random.rand( len(self.xTrain[0]) )\n",
    "        \n",
    "    def importLogisticRegressionDataset(self, dataset, multi = False):\n",
    "        if multi == True:\n",
    "            sample_data = dataset(return_X_y=True, n_class = 2)\n",
    "        else:\n",
    "            sample_data = dataset(return_X_y=True)\n",
    "        ones = np.array([[1]*len(sample_data[0])])\n",
    "        augmented_data = np.concatenate((ones.T, self.normalise(sample_data[0])), axis =1) # add a 1 to the start of each feature\n",
    "        self.xTrain, self.xTest, self.yTrain, self.yTest = split( augmented_data, sample_data[1], \\\n",
    "                                                                 test_size = 0.1)\n",
    "        self.weights_copy = np.random.rand( len(self.xTrain[0]) )\n",
    "    \n",
    "    def sigmoid(self, w, X): return 1.0/(1 + np.exp(-(X @ w))) # sigmoid function\n",
    "    \n",
    "    def normalise(self, X): # normalises the input data to values between 0 and 1\n",
    "        mins = np.min(X, axis = 0) \n",
    "        maxs = np.max(X, axis = 0) \n",
    "        rng = maxs - mins \n",
    "        norm_X = 1 - ((maxs - X)/rng) \n",
    "        return norm_X\n",
    "    \n",
    "    def f_Log(self, W): # function f: the inverse of the log likelihood function, modelling the probability of the data xTrain and xTest\n",
    "        sig = self.sigmoid(W, self.xTrain)\n",
    "        step1 = self.yTrain * np.log(sig + 1e-300) # returns an array with log(sig) values where yTrain =1, else 0\n",
    "        step2 = (1 - self.yTrain) * np.log(1 - sig + 1e-300 )\n",
    "        final = -step1 - step2 \n",
    "        return np.mean(final)\n",
    "    \n",
    "    def g_Log(self, W): # the gradient function of f, simply (h(w) - y) * x\n",
    "        sig = self.sigmoid(W, self.xTrain)\n",
    "        inner_expr = sig - self.yTrain\n",
    "        return inner_expr.T @ self.xTrain\n",
    "    \n",
    "    def GD_Log(self): # Step size calculator - w_1 = w_0 - lam* gradient(w)\n",
    "        self.weights = self.weights - self.lam * self.g_Log(self.weights)\n",
    "        \n",
    "    def classify(self):\n",
    "        sig = self.sigmoid(self.weights, self.xTest)\n",
    "        predict = np.squeeze( np.where( sig >= 0.5, 1, 0 ) )\n",
    "        self.preds = sum( predict == self.yTest ) / len(self.xTest)\n",
    "    \n",
    "    def Vanilla_Logistic_Reg(self, directory):\n",
    "        self.initialTime= time.time() # start the clock\n",
    "        self.weights = deepcopy(self.weights_copy) # make a copy of the weights\n",
    "        self.lam = 1/np.max(np.linalg.svd( self.xTrain @ self.xTrain.T )[1]) # find step size\n",
    "        self.grad = self.g_Log(self.weights) # calculate gradient\n",
    "        self.gradNorm = np.linalg.norm(self.grad) # calc the l2 norm of the gradient\n",
    "        self.gradientValuesList = [self.gradNorm] # initialise ...\n",
    "        self.functionVals = [self.f_Log(self.weights)] # to show function value convergence\n",
    "        self.classify()\n",
    "        self.predList = [self.preds]\n",
    "        self.timeList = [time.time() - self.initialTime]\n",
    "        while self.gradNorm > self.error:\n",
    "            self.GD_Log()\n",
    "            self.grad = self.g_Log(self.weights)\n",
    "            self.gradNorm = np.linalg.norm(self.grad)\n",
    "            self.gradientValuesList.append(self.gradNorm)\n",
    "            self.functionVals.append(self.f_Log(self.weights))\n",
    "            self.classify()\n",
    "            self.predList.append(self.preds)\n",
    "            self.timeList.append(time.time() - self.initialTime)\n",
    "            if self.time_limit > 0:\n",
    "                if (time.time() - self.initialTime) > self.time_limit:\n",
    "                    break\n",
    "        self.LogisticVanDF = pd.DataFrame(\n",
    "            {'GradientNorms': self.gradientValuesList , \n",
    "             'TimeTaken': self.timeList, 'FunctionValues': self.functionVals, 'Accuracy': self.predList})\n",
    "        self.LogisticVanDF.to_csv(directory, index = False)\n",
    "    \n",
    "    def Adaptive_Logistic_Reg(self, directory):\n",
    "        self.initialTime= time.time() # start the clock\n",
    "        self.weights = deepcopy(self.weights_copy) # make a copy of the weights\n",
    "        self.lam = random.random()+1e-12 # initialise step size > 0\n",
    "        self.theta = np.inf # initialise theta = infty\n",
    "        weights0 = deepcopy(self.weights) # make a coopy of weights to preserve previous weights\n",
    "        self.grad = self.g_Log(self.weights) # calculate gradient\n",
    "        self.gradNorm = np.linalg.norm(self.grad) # calc the l2 norm of the gradient\n",
    "        self.gradientValuesList = [self.gradNorm] # initialise ...\n",
    "        self.functionVals = [self.f_Log(self.weights)] # to show function value convergence\n",
    "        self.classify()\n",
    "        self.predList = [self.preds]\n",
    "        self.timeList = [time.time() - self.initialTime]\n",
    "        \n",
    "        self.GD_Log()\n",
    "        self.oldGrad = deepcopy(self.grad)\n",
    "        self.grad = self.g_Log(self.weights) # calculate gradient\n",
    "        self.gradNorm = np.linalg.norm(self.grad) # calc the l2 norm of the gradient\n",
    "        self.gradientValuesList.append(self.gradNorm)\n",
    "        self.functionVals.append(self.f_Log(self.weights))\n",
    "        self.classify()\n",
    "        self.predList.append(self.preds)\n",
    "        self.timeList.append(time.time() - self.initialTime)\n",
    "        while self.gradNorm > self.error:\n",
    "            lam0 = deepcopy(self.lam)\n",
    "            min1 = np.sqrt(1 + self.theta)*self.lam # 1st part of step size calc\n",
    "            min2_nom = np.linalg.norm(self.weights - weights0) # 2nd part of step size calc\n",
    "            min2_denom = 2*np.linalg.norm(self.grad - self.oldGrad) # as above\n",
    "            self.lam = np.min([min1, (min2_nom / min2_denom) ]) # calc new step size\n",
    "            weights0 = deepcopy(self.weights) # make a coopy of x to preserve previous x\n",
    "            self.GD_Log() # steepest descent\n",
    "            self.theta = self.lam / lam0 # calc theta\n",
    "            self.oldGrad = deepcopy(self.grad)\n",
    "            self.grad = self.g_Log(self.weights)\n",
    "            self.gradNorm = np.linalg.norm(self.grad)\n",
    "            self.gradientValuesList.append(self.gradNorm)\n",
    "            self.functionVals.append(self.f_Log(self.weights))\n",
    "            self.classify()\n",
    "            self.predList.append(self.preds)\n",
    "            self.timeList.append(time.time() - self.initialTime)\n",
    "            if self.time_limit > 0:\n",
    "                if (time.time() - self.initialTime) > self.time_limit:\n",
    "                    break\n",
    "        self.LogisticAdapDF = pd.DataFrame(\n",
    "            {'GradientNorms': self.gradientValuesList , \n",
    "             'TimeTaken': self.timeList, 'FunctionValues': self.functionVals, 'Accuracy': self.predList})\n",
    "        self.LogisticAdapDF.to_csv(directory, index = False)\n",
    "        \n",
    "    def Grad_LineSearch_Logistic_Reg(self, directory): # using a line search\n",
    "        def BackTrack():\n",
    "            rho = random.random()\n",
    "            lam = random.randrange(10) # try using a less stupid number\n",
    "            while 1>(self.gradNorm/np.linalg.norm(self.g_Log(self.weights - lam*self.grad) - self.grad)):\n",
    "                lam = rho * lam\n",
    "                if self.time_limit > 0:\n",
    "                    if (time.time() - self.initialTime) > self.time_limit:\n",
    "                        return None\n",
    "            self.lam = lam\n",
    "        #set up\n",
    "        self.initialTime = time.time() # start the clock\n",
    "        self.weights = deepcopy(self.weights_copy)\n",
    "        self.grad = self.g_Log(self.weights) # calculate gradient\n",
    "        self.gradNorm = np.linalg.norm(self.grad) # calc the l2 norm of the gradient\n",
    "        self.gradientValuesList = [self.gradNorm] # initialise ...\n",
    "        self.functionVals = [self.f_Log(self.weights)] # to show function value convergence\n",
    "        self.classify()\n",
    "        self.predList = [self.preds]\n",
    "        self.timeList = [time.time() - self.initialTime]\n",
    "        # loop\n",
    "        while self.gradNorm > self.error:\n",
    "            BackTrack()\n",
    "            self.GD_Log()\n",
    "            self.grad = self.g_Log(self.weights)\n",
    "            self.gradNorm = np.linalg.norm(self.grad)\n",
    "            self.gradientValuesList.append(self.gradNorm)\n",
    "            self.functionVals.append(self.f_Log(self.weights))\n",
    "            self.classify()\n",
    "            self.predList.append(self.preds)\n",
    "            self.timeList.append(time.time() - self.initialTime)\n",
    "            if self.time_limit > 0:\n",
    "                if (time.time() - self.initialTime) > self.time_limit:\n",
    "                    break\n",
    "#             k+=1\n",
    "        self.LogisticLineDF = pd.DataFrame(\n",
    "            {'GradientNorms': self.gradientValuesList , \n",
    "             'TimeTaken': self.timeList, 'FunctionValues': self.functionVals, 'Accuracy': self.predList})\n",
    "        self.LogisticLineDF.to_csv(directory, index = False)\n",
    "    \n",
    "    def Barzilai_Logistic_Reg(self, directory):\n",
    "        #set up\n",
    "        self.initialTime = time.time() # start the clock\n",
    "        self.weights = deepcopy(self.weights_copy) # make copies to use\n",
    "        self.lam = random.random()+1e-12 # initialise step size > 0\n",
    "        weights0 = deepcopy(self.weights) # make a copy of weughts to preserve previous weights\n",
    "        self.grad = self.g_Log(self.weights) # calculate gradient\n",
    "        self.gradNorm = np.linalg.norm(self.grad) # calc the l2 norm of the gradient\n",
    "        self.gradientValuesList = [self.gradNorm] # initialise ...\n",
    "        self.functionVals = [self.f_Log(self.weights)] # to show function value convergence\n",
    "        self.classify()\n",
    "        self.predList = [self.preds]\n",
    "        self.timeList = [time.time() - self.initialTime] # to show time taken\n",
    "        \n",
    "        self.GD_Log()\n",
    "        self.oldGrad = deepcopy(self.grad)\n",
    "        self.grad = self.g_Log(self.weights) # calculate gradient\n",
    "        self.gradNorm = np.linalg.norm(self.grad) # calc the l2 norm of the gradient\n",
    "        self.gradientValuesList.append(self.gradNorm)\n",
    "        self.functionVals.append(self.f_Log(self.weights))\n",
    "        self.classify()\n",
    "        self.predList.append(self.preds)\n",
    "        self.timeList.append(time.time() - self.initialTime)\n",
    "        # loop\n",
    "        k = 0\n",
    "        while (self.gradNorm > self.error and k <10):\n",
    "            nom = np.dot(self.weights - weights0, self.grad - self.oldGrad )\n",
    "            denom = np.linalg.norm(self.grad - self.oldGrad)**2\n",
    "            self.lam = nom / (denom +1e-300)           \n",
    "            weight_backup = deepcopy(self.weights)\n",
    "            self.GD_Log() # steepest descent\n",
    "            # we don't update oldGrad in this loop\n",
    "            self.grad = self.g_Log(self.weights)\n",
    "            self.gradNorm = np.linalg.norm(self.grad)\n",
    "            self.gradientValuesList.append(self.gradNorm)\n",
    "            self.functionVals.append(self.f_Log(self.weights))\n",
    "            self.classify()\n",
    "            self.predList.append(self.preds)\n",
    "            self.timeList.append(time.time() - self.initialTime)\n",
    "            if self.time_limit > 0:\n",
    "                if (time.time() - self.initialTime) > self.time_limit:\n",
    "                    break\n",
    "            k=k+1\n",
    "        weights0 = weight_backup\n",
    "        self.oldGrad = self.g_Log(weights0)\n",
    "        while self.gradNorm > self.error:\n",
    "            nom = np.dot(self.weights - weights0, self.grad - self.oldGrad )\n",
    "            denom = np.linalg.norm(self.grad - self.oldGrad)**2\n",
    "            self.lam = nom / (denom +1e-300)          \n",
    "            weights0 = deepcopy(self.weights) # make a coopy of x to preserve previous x\n",
    "            self.GD_Log() # steepest descent\n",
    "            self.oldGrad = deepcopy(self.grad)\n",
    "            self.grad = self.g_Log(self.weights)\n",
    "            self.gradNorm = np.linalg.norm(self.grad)\n",
    "            self.gradientValuesList.append(self.gradNorm)\n",
    "            self.functionVals.append(self.f_Log(self.weights))\n",
    "            self.classify()\n",
    "            self.predList.append(self.preds)\n",
    "            self.timeList.append(time.time() - self.initialTime)\n",
    "            if self.time_limit > 0:\n",
    "                if (time.time() - self.initialTime) > self.time_limit:\n",
    "                    break\n",
    "        self.LogisticBarzDF = pd.DataFrame(\n",
    "            {'GradientNorms': self.gradientValuesList , \n",
    "             'TimeTaken': self.timeList, 'FunctionValues': self.functionVals, 'Accuracy': self.predList})\n",
    "        self.LogisticBarzDF.to_csv(directory, index = False)\n",
    "        \n",
    "    def Nesterov_Logistic_Reg(self, directory):\n",
    "        #set up\n",
    "        self.initialTime = time.time() # start the clock\n",
    "        L = np.max(np.linalg.svd( self.xTrain @ self.xTrain.T )[1]) # find L\n",
    "        self.weights = deepcopy(self.weights_copy) # make copies to use\n",
    "        self.grad = self.g_Log(self.weights) # calculate gradient\n",
    "        self.gradNorm = np.linalg.norm(self.grad) # calc the l2 norm of the gradient\n",
    "        self.gradientValuesList = [self.gradNorm] # initialise ...\n",
    "        self.functionVals = [self.f_Log(self.weights)] # to show function value convergence\n",
    "        self.classify()\n",
    "        self.predList = [self.preds]\n",
    "        lam1 = 1\n",
    "        y0 = deepcopy(self.weights)\n",
    "        self.timeList = [time.time() - self.initialTime]\n",
    "        while self.gradNorm > self.error:\n",
    "            self.lam = 0.5*(1 + np.sqrt(1 + 4*lam1**2))\n",
    "            self.gamma = (1 - lam1)/self.lam \n",
    "            y1 = self.weights - self.grad/L\n",
    "            self.weights = (1 - self.gamma)*y1 + self.gamma*y0\n",
    "            lam1 = deepcopy(self.lam)\n",
    "            y0 = deepcopy(y1)\n",
    "            self.grad = self.g_Log(self.weights)\n",
    "            self.gradNorm = np.linalg.norm(self.grad)\n",
    "            self.gradientValuesList.append(self.gradNorm)\n",
    "            self.functionVals.append(self.f_Log(self.weights))\n",
    "            self.classify()\n",
    "            self.predList.append(self.preds)\n",
    "            self.timeList.append(time.time() - self.initialTime)\n",
    "            if self.time_limit > 0:\n",
    "                if (time.time() - self.initialTime) > self.time_limit:\n",
    "                    break\n",
    "        self.LogisticNestDF = pd.DataFrame(\n",
    "            {'GradientNorms': self.gradientValuesList , \n",
    "             'TimeTaken': self.timeList, 'FunctionValues': self.functionVals, 'Accuracy': self.predList})\n",
    "        self.LogisticNestDF.to_csv(directory, index = False)\n",
    "\n",
    "def RunAll(error, runtime, date_time):\n",
    "    global H\n",
    "    H = Regression(error, runtime)\n",
    "    run_lin(date_time)\n",
    "    print('Linear Regression complete')\n",
    "    run_log(date_time)\n",
    "    print('Logistic Regression complete')\n",
    "    read_lin(date_time)\n",
    "    read_log(date_time)\n",
    "\n",
    "def run_lin(date_time):\n",
    "    H.makeLinearRegressionDataset()\n",
    "    H.Adaptive_Linear_Reg(\"output/Lin_Test_Adap_{}.csv\".format(date_time))\n",
    "    H.Grad_LineSearch_Linear_Reg(\"output/Lin_Test_LS_{}.csv\".format(date_time))\n",
    "    H.Vanilla_Linear_Reg(\"output/Lin_Test_Van_{}.csv\".format(date_time))\n",
    "    H.Barzilai_Linear_Reg(\"output/Lin_Test_Baz_{}.csv\".format(date_time))\n",
    "    H.Nesterov_Linear_Reg(\"output/Lin_Test_Nest_{}.csv\".format(date_time))\n",
    "def read_lin(date_time):\n",
    "    global Lin_vanilla_out\n",
    "    Lin_vanilla_out = pd.read_csv(\"output/Lin_Test_Van_{}.csv\".format(date_time))\n",
    "    global Lin_adap_out\n",
    "    Lin_adap_out = pd.read_csv(\"output/Lin_Test_Adap_{}.csv\".format(date_time))\n",
    "    global Lin_line_out\n",
    "    Lin_line_out = pd.read_csv(\"output/Lin_Test_LS_{}.csv\".format(date_time))\n",
    "    global Lin_baz_out\n",
    "    Lin_baz_out = pd.read_csv(\"output/Lin_Test_Baz_{}.csv\".format(date_time))\n",
    "    global Lin_nest_out\n",
    "    Lin_nest_out = pd.read_csv(\"output/Lin_Test_Nest_{}.csv\".format(date_time))\n",
    "\n",
    "def run_log(date_time):\n",
    "    H.makeLogisticRegressionDataset()\n",
    "    H.Adaptive_Logistic_Reg(\"output/Log_Test_Adap_{}.csv\".format(date_time))\n",
    "    H.Grad_LineSearch_Logistic_Reg(\"output/Log_Test_LS_{}.csv\".format(date_time))\n",
    "    H.Vanilla_Logistic_Reg(\"output/Log_Test_Van_{}.csv\".format(date_time))\n",
    "    H.Barzilai_Logistic_Reg(\"output/Log_Test_Baz_{}.csv\".format(date_time))\n",
    "    H.Nesterov_Logistic_Reg(\"output/Log_Test_Nest_{}.csv\".format(date_time))\n",
    "def read_log(date_time):\n",
    "    global Log_vanilla_out\n",
    "    Log_vanilla_out = pd.read_csv(\"output/Log_Test_Van_{}.csv\".format(date_time))\n",
    "    global Log_adap_out\n",
    "    Log_adap_out = pd.read_csv(\"output/Log_Test_Adap_{}.csv\".format(date_time))\n",
    "    global Log_line_out\n",
    "    Log_line_out = pd.read_csv(\"output/Log_Test_LS_{}.csv\".format(date_time))\n",
    "    global Log_baz_out\n",
    "    Log_baz_out = pd.read_csv(\"output/Log_Test_Baz_{}.csv\".format(date_time))\n",
    "    global Log_nest_out\n",
    "    Log_nest_out = pd.read_csv(\"output/Log_Test_Nest_{}.csv\".format(date_time))"
   ]
  },
  {
   "cell_type": "code",
   "execution_count": 2,
   "metadata": {},
   "outputs": [
    {
     "name": "stderr",
     "output_type": "stream",
     "text": [
      "<ipython-input-1-666ce6431c6d>:119: RuntimeWarning: divide by zero encountered in double_scalars\n",
      "  while 1 > ( self.gradNorm/np.linalg.norm(self.g_Lin(self.x - lam*self.grad) - self.grad) ):\n"
     ]
    },
    {
     "name": "stdout",
     "output_type": "stream",
     "text": [
      "Linear Regression complete\n"
     ]
    },
    {
     "name": "stderr",
     "output_type": "stream",
     "text": [
      "<ipython-input-1-666ce6431c6d>:334: RuntimeWarning: divide by zero encountered in double_scalars\n",
      "  self.lam = np.min([min1, (min2_nom / min2_denom) ]) # calc new step size\n",
      "<ipython-input-1-666ce6431c6d>:358: RuntimeWarning: divide by zero encountered in double_scalars\n",
      "  while 1>(self.gradNorm/np.linalg.norm(self.g_Log(self.weights - lam*self.grad) - self.grad)):\n"
     ]
    },
    {
     "name": "stdout",
     "output_type": "stream",
     "text": [
      "Logistic Regression complete\n"
     ]
    }
   ],
   "source": [
    "RunAll(1e-6,10,\"14.09.21_12.14\")"
   ]
  },
  {
   "cell_type": "code",
   "execution_count": 20,
   "metadata": {},
   "outputs": [
    {
     "name": "stderr",
     "output_type": "stream",
     "text": [
      "<ipython-input-17-593b4abb8dd4>:125: RuntimeWarning: divide by zero encountered in double_scalars\n",
      "  while 1 > ( self.gradNorm/np.linalg.norm(self.g_Lin(self.x - lam*self.grad) - self.grad) ):\n"
     ]
    }
   ],
   "source": [
    "H = Regression(1e-6, 20)\n",
    "run_lin(\"14.09_12.54\")\n",
    "read_lin(\"14.09_12.54\")"
   ]
  },
  {
   "cell_type": "markdown",
   "metadata": {},
   "source": [
    "# Linear Regression Output"
   ]
  },
  {
   "cell_type": "markdown",
   "metadata": {},
   "source": [
    "Full plot"
   ]
  },
  {
   "cell_type": "code",
   "execution_count": 27,
   "metadata": {
    "scrolled": true
   },
   "outputs": [
    {
     "data": {
      "image/png": "[encoded data removed]",
      "text/plain": [
       "<Figure size 432x288 with 1 Axes>"
      ]
     },
     "metadata": {
      "needs_background": "light"
     },
     "output_type": "display_data"
    }
   ],
   "source": [
    "plt.plot(Lin_baz_out.TimeTaken, Lin_baz_out.GradientNorms, c = 'm')\n",
    "plt.plot(Lin_adap_out.TimeTaken, Lin_adap_out.GradientNorms, c = 'g')\n",
    "plt.plot(Lin_line_out.TimeTaken, Lin_line_out.GradientNorms, c = 'r')\n",
    "plt.plot(Lin_nest_out.TimeTaken, Lin_nest_out.GradientNorms, c = 'b')\n",
    "plt.plot(Lin_vanilla_out.TimeTaken, Lin_vanilla_out.GradientNorms, c = 'y')\n",
    "plt.yscale('log')\n",
    "plt.xlabel('Time in seconds')\n",
    "plt.show()"
   ]
  },
  {
   "cell_type": "code",
   "execution_count": 22,
   "metadata": {},
   "outputs": [
    {
     "name": "stderr",
     "output_type": "stream",
     "text": [
      "<ipython-input-17-593b4abb8dd4>:373: RuntimeWarning: divide by zero encountered in double_scalars\n",
      "  while 1>(self.gradNorm/np.linalg.norm(self.g_Log(self.weights - lam*self.grad) - self.grad)):\n"
     ]
    }
   ],
   "source": [
    "run_log(\"14.09_12.54\")\n",
    "read_log(\"14.09_12.54\")"
   ]
  },
  {
   "cell_type": "code",
   "execution_count": 6,
   "metadata": {},
   "outputs": [
    {
     "data": {
      "text/plain": [
       "26.989213705062863"
      ]
     },
     "execution_count": 6,
     "metadata": {},
     "output_type": "execute_result"
    }
   ],
   "source": [
    "Lin_adap_out.TimeTaken.iloc[-1]"
   ]
  },
  {
   "cell_type": "code",
   "execution_count": 7,
   "metadata": {},
   "outputs": [
    {
     "name": "stdout",
     "output_type": "stream",
     "text": [
      "Van final         GradientNorms  TimeTaken  FunctionValues\n",
      "119319       0.016337  29.999000        0.133781\n",
      "119320       0.016337  29.999496        0.133781\n",
      "119321       0.016337  29.999496        0.133780\n",
      "119322       0.016336  29.999993        0.133779\n",
      "119323       0.016336  30.000488        0.133779\n",
      "Adap final        GradientNorms  TimeTaken  FunctionValues\n",
      "98403       0.016184  29.999446        0.043710\n",
      "98404       0.011314  29.999446        0.043710\n",
      "98405       0.009661  29.999942        0.043710\n",
      "98406       0.009342  29.999942        0.043709\n",
      "98407       0.009339  30.000438        0.043709\n",
      "LS final       GradientNorms  TimeTaken  FunctionValues\n",
      "2289       0.105945  29.996943        0.382954\n",
      "2290       0.105385  29.997935        0.382908\n",
      "2291       0.105385  29.998571        0.382908\n",
      "2292       0.096926  29.999918        0.382892\n",
      "2293       0.095250  30.000416        0.382878\n",
      "Baz final       GradientNorms  TimeTaken  FunctionValues\n",
      "8147   1.001002e-06   2.340477    5.008189e-10\n",
      "8148   9.489733e-06   2.340477    5.004721e-10\n",
      "8149   1.026500e-06   2.340973    5.003519e-10\n",
      "8150   1.000834e-06   2.341469    5.003492e-10\n",
      "8151   9.991879e-07   2.341469    5.003459e-10\n",
      "Nest final        GradientNorms  TimeTaken  FunctionValues\n",
      "48944   1.317163e-06  13.572370    8.471302e-10\n",
      "48945   1.231234e-06  13.572370    7.495778e-10\n",
      "48946   1.148264e-06  13.572866    6.581155e-10\n",
      "48947   1.068944e-06  13.572866    5.727433e-10\n",
      "48948   9.941450e-07  13.573363    4.934607e-10\n"
     ]
    }
   ],
   "source": [
    "print(\"Van final\", Lin_vanilla_out.tail())\n",
    "print(\"Adap final\", Lin_adap_out.tail())\n",
    "print(\"LS final\", Lin_line_out.tail())\n",
    "print(\"Baz final\", Lin_baz_out.tail())\n",
    "print(\"Nest final\", Lin_nest_out.tail())"
   ]
  },
  {
   "cell_type": "markdown",
   "metadata": {},
   "source": [
    "# Logistic Regression output"
   ]
  },
  {
   "cell_type": "code",
   "execution_count": 25,
   "metadata": {},
   "outputs": [
    {
     "data": {
      "image/png": "[encoded data removed]",
      "text/plain": [
       "<Figure size 432x288 with 1 Axes>"
      ]
     },
     "metadata": {
      "needs_background": "light"
     },
     "output_type": "display_data"
    }
   ],
   "source": [
    "plt.plot(Log_baz_out.TimeTaken, Log_baz_out.GradientNorms, c = 'm')\n",
    "plt.plot(Log_adap_out.TimeTaken, Log_adap_out.GradientNorms, c = 'g')\n",
    "plt.plot(Log_line_out.TimeTaken, Log_line_out.GradientNorms, c = 'r')\n",
    "plt.plot(Log_nest_out.TimeTaken, Log_nest_out.GradientNorms, c = 'b')\n",
    "plt.plot(Log_vanilla_out.TimeTaken, Log_vanilla_out.GradientNorms, c = 'y')\n",
    "plt.yscale('log')\n",
    "plt.xlabel('Time in seconds')\n",
    "plt.show()"
   ]
  },
  {
   "cell_type": "code",
   "execution_count": 24,
   "metadata": {},
   "outputs": [
    {
     "name": "stdout",
     "output_type": "stream",
     "text": [
      "Van final         GradientNorms  TimeTaken  FunctionValues  Accuracy\n",
      "158306       0.000026  19.999986        0.266524       0.8\n",
      "158307       0.000026  19.999986        0.266524       0.8\n",
      "158308       0.000026  19.999986        0.266524       0.8\n",
      "158309       0.000026  19.999986        0.266524       0.8\n",
      "158310       0.000026  20.000483        0.266524       0.8\n",
      "Adap final       GradientNorms  TimeTaken  FunctionValues  Accuracy\n",
      "5374   1.491682e-06   0.942872        0.266524       0.8\n",
      "5375   1.128125e-06   0.942872        0.266524       0.8\n",
      "5376   1.019933e-06   0.942872        0.266524       0.8\n",
      "5377   1.000463e-06   0.943367        0.266524       0.8\n",
      "5378   9.994029e-07   0.943367        0.266524       0.8\n",
      "LS final       GradientNorms  TimeTaken  FunctionValues  Accuracy\n",
      "4133   1.328206e-06   3.422856        0.266524       0.8\n",
      "4134   1.085875e-06   3.422856        0.266524       0.8\n",
      "4135   1.011570e-06   3.422856        0.266524       0.8\n",
      "4136   1.253390e-06   3.423389        0.266524       0.8\n",
      "4137   9.885811e-07   3.423851        0.266524       0.8\n",
      "Baz final      GradientNorms  TimeTaken  FunctionValues  Accuracy\n",
      "103   1.346305e-06   0.054114        0.266524       0.8\n",
      "104   1.344341e-06   0.054114        0.266524       0.8\n",
      "105   1.047204e-06   0.054607        0.266524       0.8\n",
      "106   2.224941e-06   0.054607        0.266524       0.8\n",
      "107   8.030590e-07   0.054607        0.266524       0.8\n",
      "Nest final        GradientNorms  TimeTaken  FunctionValues  Accuracy\n",
      "37016   1.418237e-06   5.004452        0.266524       0.8\n",
      "37017   1.272782e-06   5.004452        0.266524       0.8\n",
      "37018   1.147132e-06   5.004452        0.266524       0.8\n",
      "37019   1.048452e-06   5.004452        0.266524       0.8\n",
      "37020   9.848904e-07   5.004948        0.266524       0.8\n"
     ]
    }
   ],
   "source": [
    "print(\"Van final\", Log_vanilla_out.tail())\n",
    "print(\"Adap final\", Log_adap_out.tail())\n",
    "print(\"LS final\", Log_line_out.tail())\n",
    "print(\"Baz final\", Log_baz_out.tail())\n",
    "print(\"Nest final\", Log_nest_out.tail())"
   ]
  },
  {
   "cell_type": "markdown",
   "metadata": {},
   "source": [
    "# Real data"
   ]
  },
  {
   "cell_type": "markdown",
   "metadata": {},
   "source": [
    "We'll look at two datasets for each type (initally):\n",
    "\n",
    "Linear Regression:\n",
    "- Diabetes https://scikit-learn.org/stable/modules/generated/sklearn.datasets.load_diabetes.html#sklearn.datasets.load_diabetes\n",
    "- Boston Housing: https://scikit-learn.org/stable/modules/generated/sklearn.datasets.load_boston.html#sklearn.datasets.load_boston\n",
    "\n",
    "Logistic Regression:\n",
    "- Digits https://scikit-learn.org/stable/modules/generated/sklearn.datasets.load_digits.html#sklearn.datasets.load_digits\n",
    "- Breast Cancer https://scikit-learn.org/stable/modules/generated/sklearn.datasets.load_breast_cancer.html#sklearn.datasets.load_breast_cancer"
   ]
  },
  {
   "cell_type": "markdown",
   "metadata": {},
   "source": [
    "## Diabetes"
   ]
  },
  {
   "cell_type": "code",
   "execution_count": 28,
   "metadata": {},
   "outputs": [],
   "source": [
    "from sklearn.datasets import load_diabetes as diabetes"
   ]
  },
  {
   "cell_type": "code",
   "execution_count": 29,
   "metadata": {},
   "outputs": [
    {
     "name": "stderr",
     "output_type": "stream",
     "text": [
      "<ipython-input-17-593b4abb8dd4>:125: RuntimeWarning: divide by zero encountered in double_scalars\n",
      "  while 1 > ( self.gradNorm/np.linalg.norm(self.g_Lin(self.x - lam*self.grad) - self.grad) ):\n"
     ]
    }
   ],
   "source": [
    "G = Regression(1e-6, 10)\n",
    "G.importLinearRegressionDataset(diabetes)\n",
    "G.Adaptive_Linear_Reg(\"output/Lin_Test_Adap_diabetes.csv\")\n",
    "G.Grad_LineSearch_Linear_Reg(\"output/Lin_Test_LS_diabetes.csv\".format(diabetes))\n",
    "G.Vanilla_Linear_Reg(\"output/Lin_Test_Van_diabetes.csv\".format(diabetes))\n",
    "G.Barzilai_Linear_Reg(\"output/Lin_Test_Baz_diabetes.csv\".format(diabetes))\n",
    "G.Nesterov_Linear_Reg(\"output/Lin_Test_Nest_diabetes.csv\".format(diabetes))"
   ]
  },
  {
   "cell_type": "code",
   "execution_count": 30,
   "metadata": {},
   "outputs": [],
   "source": [
    "read_lin(\"diabetes\")"
   ]
  },
  {
   "cell_type": "code",
   "execution_count": 31,
   "metadata": {
    "scrolled": true
   },
   "outputs": [
    {
     "name": "stdout",
     "output_type": "stream",
     "text": [
      "Van final       GradientNorms  TimeTaken\n",
      "7526   1.008096e-06   0.321786\n",
      "7527   1.005952e-06   0.321786\n",
      "7528   1.003812e-06   0.321786\n",
      "7529   1.001677e-06   0.321786\n",
      "7530   9.995459e-07   0.321786\n",
      "Adap final       GradientNorms  TimeTaken\n",
      "2118   1.231715e-06   0.134444\n",
      "2119   4.001547e-06   0.134444\n",
      "2120   1.162788e-06   0.134444\n",
      "2121   1.018953e-06   0.134444\n",
      "2122   9.753764e-07   0.134444\n",
      "LS final       GradientNorms  TimeTaken\n",
      "2466   1.057117e-06   0.869482\n",
      "2467   1.136181e-06   0.869482\n",
      "2468   1.054377e-06   0.869482\n",
      "2469   1.130837e-06   0.869979\n",
      "2470   9.962436e-07   0.869979\n",
      "Baz final      GradientNorms  TimeTaken\n",
      "225   1.299870e-06   0.009464\n",
      "226   1.209841e-06   0.009464\n",
      "227   1.276141e-05   0.009464\n",
      "228   1.080773e-06   0.009464\n",
      "229   9.290591e-07   0.009464\n",
      "Nest final       GradientNorms  TimeTaken\n",
      "2938   7.672189e-05   0.255967\n",
      "2939   5.748126e-05   0.255967\n",
      "2940   3.817883e-05   0.255967\n",
      "2941   1.885586e-05   0.255967\n",
      "2942   4.464878e-07   0.255967\n"
     ]
    }
   ],
   "source": [
    "print(\"Van final\", Lin_vanilla_out.tail())\n",
    "print(\"Adap final\", Lin_adap_out.tail())\n",
    "print(\"LS final\", Lin_line_out.tail())\n",
    "print(\"Baz final\", Lin_baz_out.tail())\n",
    "print(\"Nest final\", Lin_nest_out.tail())"
   ]
  },
  {
   "cell_type": "code",
   "execution_count": 32,
   "metadata": {},
   "outputs": [
    {
     "data": {
      "text/plain": [
       "1573"
      ]
     },
     "execution_count": 32,
     "metadata": {},
     "output_type": "execute_result"
    }
   ],
   "source": [
    "np.argmax(np.where(Lin_line_out.TimeTaken >0.5, 1, 0))"
   ]
  },
  {
   "cell_type": "code",
   "execution_count": 33,
   "metadata": {},
   "outputs": [
    {
     "data": {
      "image/png": "[encoded data removed]",
      "text/plain": [
       "<Figure size 432x288 with 1 Axes>"
      ]
     },
     "metadata": {
      "needs_background": "light"
     },
     "output_type": "display_data"
    }
   ],
   "source": [
    "plt.plot(Lin_baz_out.TimeTaken, Lin_baz_out.GradientNorms, c = 'm')\n",
    "plt.plot(Lin_adap_out.TimeTaken, Lin_adap_out.GradientNorms, c = 'g')\n",
    "plt.plot(Lin_line_out.TimeTaken, Lin_line_out.GradientNorms, c = 'r')\n",
    "plt.plot(Lin_nest_out.TimeTaken, Lin_nest_out.GradientNorms, c = 'b')\n",
    "plt.plot(Lin_vanilla_out.TimeTaken, Lin_vanilla_out.GradientNorms, c = 'y')\n",
    "plt.yscale('log')\n",
    "plt.xlabel('Time in seconds')\n",
    "plt.show()"
   ]
  },
  {
   "cell_type": "markdown",
   "metadata": {},
   "source": [
    "## Boston Housing"
   ]
  },
  {
   "cell_type": "code",
   "execution_count": 34,
   "metadata": {},
   "outputs": [],
   "source": [
    "from sklearn.datasets import load_boston as boston"
   ]
  },
  {
   "cell_type": "code",
   "execution_count": 35,
   "metadata": {},
   "outputs": [
    {
     "name": "stderr",
     "output_type": "stream",
     "text": [
      "<ipython-input-17-593b4abb8dd4>:125: RuntimeWarning: divide by zero encountered in double_scalars\n",
      "  while 1 > ( self.gradNorm/np.linalg.norm(self.g_Lin(self.x - lam*self.grad) - self.grad) ):\n"
     ]
    }
   ],
   "source": [
    "I = Regression(1e-6, 60)\n",
    "I.importLinearRegressionDataset(diabetes)\n",
    "I.Adaptive_Linear_Reg(\"output/Lin_Test_Adap_boston.csv\")\n",
    "I.Grad_LineSearch_Linear_Reg(\"output/Lin_Test_LS_boston.csv\")\n",
    "I.Vanilla_Linear_Reg(\"output/Lin_Test_Van_boston.csv\")\n",
    "I.Barzilai_Linear_Reg(\"output/Lin_Test_Baz_boston.csv\")\n",
    "I.Nesterov_Linear_Reg(\"output/Lin_Test_Nest_boston.csv\")"
   ]
  },
  {
   "cell_type": "code",
   "execution_count": 36,
   "metadata": {},
   "outputs": [],
   "source": [
    "read_lin(\"boston\")"
   ]
  },
  {
   "cell_type": "code",
   "execution_count": 37,
   "metadata": {},
   "outputs": [
    {
     "name": "stdout",
     "output_type": "stream",
     "text": [
      "Van final       GradientNorms  TimeTaken\n",
      "7526   1.008210e-06   0.331782\n",
      "7527   1.006065e-06   0.331782\n",
      "7528   1.003925e-06   0.332278\n",
      "7529   1.001789e-06   0.332278\n",
      "7530   9.996579e-07   0.332278\n",
      "Adap final       GradientNorms  TimeTaken\n",
      "2132   1.127266e-06   0.141825\n",
      "2133   4.584687e-06   0.141825\n",
      "2134   1.229147e-06   0.141825\n",
      "2135   1.052943e-06   0.141825\n",
      "2136   9.998823e-07   0.141825\n",
      "LS final       GradientNorms  TimeTaken\n",
      "2440   1.024747e-06   0.901243\n",
      "2441   1.062882e-06   0.901243\n",
      "2442   1.000669e-06   0.901715\n",
      "2443   1.064199e-06   0.901715\n",
      "2444   9.910164e-07   0.901715\n",
      "Baz final      GradientNorms  TimeTaken\n",
      "179   1.098629e-05    0.00847\n",
      "180   7.776358e-06    0.00847\n",
      "181   3.692223e-06    0.00847\n",
      "182   1.999601e-06    0.00847\n",
      "183   9.750660e-07    0.00847\n",
      "Nest final       GradientNorms  TimeTaken\n",
      "2938   7.673050e-05   0.273315\n",
      "2939   5.748771e-05   0.273315\n",
      "2940   3.818312e-05   0.273315\n",
      "2941   1.885798e-05   0.273315\n",
      "2942   4.465382e-07   0.273315\n"
     ]
    }
   ],
   "source": [
    "print(\"Van final\", Lin_vanilla_out.tail())\n",
    "print(\"Adap final\", Lin_adap_out.tail())\n",
    "print(\"LS final\", Lin_line_out.tail())\n",
    "print(\"Baz final\", Lin_baz_out.tail())\n",
    "print(\"Nest final\", Lin_nest_out.tail())"
   ]
  },
  {
   "cell_type": "code",
   "execution_count": 38,
   "metadata": {},
   "outputs": [
    {
     "name": "stdout",
     "output_type": "stream",
     "text": [
      "Van final    GradientNorms  TimeTaken\n",
      "0    1948.367357   0.148261\n",
      "1     547.948619   0.148261\n",
      "2     403.046236   0.148261\n",
      "3     300.211719   0.148261\n",
      "4     226.134697   0.148261\n",
      "Adap final    GradientNorms  TimeTaken\n",
      "0    1948.367357    0.00049\n",
      "1    1814.042642    0.00049\n",
      "2     990.216678    0.00049\n",
      "3     640.490680    0.00049\n",
      "4     465.010598    0.00049\n",
      "LS final    GradientNorms  TimeTaken\n",
      "0    1948.367357   0.000484\n",
      "1     544.531756   0.000484\n",
      "2     204.690416   0.000980\n",
      "3     105.866422   0.000980\n",
      "4      64.587617   0.000980\n",
      "Baz final    GradientNorms  TimeTaken\n",
      "0    1948.367357   0.000503\n",
      "1    3858.072115   0.001017\n",
      "2     188.394156   0.001017\n",
      "3     104.580016   0.001017\n",
      "4      78.978905   0.001017\n",
      "Nest final    GradientNorms  TimeTaken\n",
      "0    1948.367357   0.145320\n",
      "1     547.948619   0.145320\n",
      "2     362.950764   0.145815\n",
      "3     216.585056   0.145815\n",
      "4     113.229953   0.145815\n"
     ]
    }
   ],
   "source": [
    "print(\"Van final\", Lin_vanilla_out.head())\n",
    "print(\"Adap final\", Lin_adap_out.head())\n",
    "print(\"LS final\", Lin_line_out.head())\n",
    "print(\"Baz final\", Lin_baz_out.head())\n",
    "print(\"Nest final\", Lin_nest_out.head())"
   ]
  },
  {
   "cell_type": "code",
   "execution_count": 39,
   "metadata": {},
   "outputs": [
    {
     "data": {
      "text/plain": [
       "1278"
      ]
     },
     "execution_count": 39,
     "metadata": {},
     "output_type": "execute_result"
    }
   ],
   "source": [
    "np.argmax(np.where(Lin_line_out.TimeTaken >0.5, 1, 0))"
   ]
  },
  {
   "cell_type": "code",
   "execution_count": 40,
   "metadata": {},
   "outputs": [
    {
     "data": {
      "image/png": "[encoded data removed]",
      "text/plain": [
       "<Figure size 432x288 with 1 Axes>"
      ]
     },
     "metadata": {
      "needs_background": "light"
     },
     "output_type": "display_data"
    }
   ],
   "source": [
    "plt.plot(Lin_baz_out.TimeTaken, Lin_baz_out.GradientNorms, c = 'm')\n",
    "plt.plot(Lin_adap_out.TimeTaken, Lin_adap_out.GradientNorms, c = 'g')\n",
    "plt.plot(Lin_line_out.TimeTaken, Lin_line_out.GradientNorms, c = 'r')\n",
    "plt.plot(Lin_nest_out.TimeTaken, Lin_nest_out.GradientNorms, c = 'b')\n",
    "plt.plot(Lin_vanilla_out.TimeTaken, Lin_vanilla_out.GradientNorms, c = 'y')\n",
    "plt.yscale('log')\n",
    "plt.xlabel('Time in seconds')\n",
    "plt.show()"
   ]
  },
  {
   "cell_type": "markdown",
   "metadata": {},
   "source": [
    "## Breast Cancer"
   ]
  },
  {
   "cell_type": "code",
   "execution_count": 41,
   "metadata": {},
   "outputs": [],
   "source": [
    "from sklearn.datasets import load_breast_cancer as cancer"
   ]
  },
  {
   "cell_type": "code",
   "execution_count": 42,
   "metadata": {},
   "outputs": [
    {
     "name": "stderr",
     "output_type": "stream",
     "text": [
      "<ipython-input-17-593b4abb8dd4>:264: RuntimeWarning: overflow encountered in exp\n",
      "  def sigmoid(self, w, X): return 1.0/(1 + np.exp(-(X @ w))) # sigmoid function\n",
      "<ipython-input-17-593b4abb8dd4>:349: RuntimeWarning: divide by zero encountered in double_scalars\n",
      "  self.lam = np.min([min1, (min2_nom / min2_denom) ]) # calc new step size\n",
      "<ipython-input-17-593b4abb8dd4>:373: RuntimeWarning: divide by zero encountered in double_scalars\n",
      "  while 1>(self.gradNorm/np.linalg.norm(self.g_Log(self.weights - lam*self.grad) - self.grad)):\n"
     ]
    }
   ],
   "source": [
    "K = Regression(1e-6, 10)\n",
    "K.importLogisticRegressionDataset(cancer)\n",
    "K.Adaptive_Logistic_Reg(\"output/Log_Test_Adap_cancer.csv\")\n",
    "K.Grad_LineSearch_Logistic_Reg(\"output/Log_Test_LS_cancer.csv\")\n",
    "K.Vanilla_Logistic_Reg(\"output/Log_Test_Van_cancer.csv\")\n",
    "K.Barzilai_Logistic_Reg(\"output/Log_Test_Baz_cancer.csv\")\n",
    "K.Nesterov_Logistic_Reg(\"output/Log_Test_Nest_cancer.csv\")"
   ]
  },
  {
   "cell_type": "code",
   "execution_count": 43,
   "metadata": {},
   "outputs": [],
   "source": [
    "read_log(\"cancer\")"
   ]
  },
  {
   "cell_type": "code",
   "execution_count": 44,
   "metadata": {},
   "outputs": [
    {
     "name": "stdout",
     "output_type": "stream",
     "text": [
      "Van final        GradientNorms  TimeTaken  FunctionValues  Accuracy\n",
      "14353       0.934579   9.997418        0.067331       1.0\n",
      "14354       0.934535   9.998409        0.067330       1.0\n",
      "14355       0.934491   9.998905        0.067329       1.0\n",
      "14356       0.934447   9.999401        0.067328       1.0\n",
      "14357       0.934403  10.000393        0.067327       1.0\n",
      "Adap final        GradientNorms  TimeTaken  FunctionValues  Accuracy\n",
      "13139       0.031376   9.997885        0.013104  0.894737\n",
      "13140       0.031375   9.998876        0.013104  0.894737\n",
      "13141       0.031376   9.999373        0.013103  0.894737\n",
      "13142       0.031411   9.999868        0.013102  0.894737\n",
      "13143       0.032946  10.000860        0.013101  0.894737\n",
      "LS final       GradientNorms  TimeTaken  FunctionValues  Accuracy\n",
      "2166       0.130185   9.811371        0.030566  0.929825\n",
      "2167       0.137421   9.819308        0.030563  0.929825\n",
      "2168       0.136780   9.826252        0.030561  0.929825\n",
      "2169       0.135609   9.835676        0.030558  0.929825\n",
      "2170       0.134509  10.000844        0.030556  0.929825\n",
      "Baz final       GradientNorms  TimeTaken  FunctionValues  Accuracy\n",
      "3141   7.987801e-05   2.265010    3.929097e-07  0.894737\n",
      "3142   1.216435e-06   2.265872    3.820655e-07  0.894737\n",
      "3143   1.092483e-06   2.266498    3.820609e-07  0.894737\n",
      "3144   1.087281e-06   2.266993    3.820568e-07  0.894737\n",
      "3145   9.632716e-07   2.267985    3.819015e-07  0.894737\n",
      "Nest final        GradientNorms  TimeTaken  FunctionValues  Accuracy\n",
      "17578       0.005486   9.998010        0.002379  0.894737\n",
      "17579       0.005486   9.998505        0.002379  0.894737\n",
      "17580       0.005485   9.999002        0.002378  0.894737\n",
      "17581       0.005485   9.999497        0.002378  0.894737\n",
      "17582       0.005484  10.000489        0.002378  0.894737\n"
     ]
    }
   ],
   "source": [
    "print(\"Van final\", Log_vanilla_out.tail())\n",
    "print(\"Adap final\", Log_adap_out.tail())\n",
    "print(\"LS final\", Log_line_out.tail())\n",
    "print(\"Baz final\", Log_baz_out.tail())\n",
    "print(\"Nest final\", Log_nest_out.tail())"
   ]
  },
  {
   "cell_type": "code",
   "execution_count": 45,
   "metadata": {
    "scrolled": true
   },
   "outputs": [
    {
     "data": {
      "image/png": "[encoded data removed]",
      "text/plain": [
       "<Figure size 432x288 with 1 Axes>"
      ]
     },
     "metadata": {
      "needs_background": "light"
     },
     "output_type": "display_data"
    }
   ],
   "source": [
    "plt.plot(Log_baz_out.TimeTaken, Log_baz_out.GradientNorms, c = 'm')\n",
    "plt.plot(Log_adap_out.TimeTaken, Log_adap_out.GradientNorms, c = 'g')\n",
    "plt.plot(Log_line_out.TimeTaken, Log_line_out.GradientNorms, c = 'r')\n",
    "plt.plot(Log_nest_out.TimeTaken, Log_nest_out.GradientNorms, c = 'b')\n",
    "plt.plot(Log_vanilla_out.TimeTaken, Log_vanilla_out.GradientNorms, c = 'y')\n",
    "plt.yscale('log')\n",
    "plt.xlabel('Time in seconds')\n",
    "plt.show()"
   ]
  },
  {
   "cell_type": "markdown",
   "metadata": {},
   "source": [
    "## Digits"
   ]
  },
  {
   "cell_type": "code",
   "execution_count": 38,
   "metadata": {},
   "outputs": [],
   "source": [
    "from sklearn.datasets import load_digits as digits"
   ]
  },
  {
   "cell_type": "code",
   "execution_count": null,
   "metadata": {},
   "outputs": [],
   "source": []
  },
  {
   "cell_type": "code",
   "execution_count": 39,
   "metadata": {},
   "outputs": [],
   "source": [
    "dig = digits(n_class=2, return_X_y=True)"
   ]
  },
  {
   "cell_type": "code",
   "execution_count": 40,
   "metadata": {},
   "outputs": [
    {
     "name": "stderr",
     "output_type": "stream",
     "text": [
      "<ipython-input-1-cf99a8526701>:250: RuntimeWarning: invalid value encountered in true_divide\n",
      "  norm_X = 1 - ((maxs - X)/rng)\n"
     ]
    },
    {
     "ename": "LinAlgError",
     "evalue": "SVD did not converge",
     "output_type": "error",
     "traceback": [
      "\u001b[1;31m---------------------------------------------------------------------------\u001b[0m",
      "\u001b[1;31mLinAlgError\u001b[0m                               Traceback (most recent call last)",
      "\u001b[1;32m<ipython-input-40-e217ea8d5aa0>\u001b[0m in \u001b[0;36m<module>\u001b[1;34m\u001b[0m\n\u001b[0;32m      3\u001b[0m \u001b[0mD\u001b[0m\u001b[1;33m.\u001b[0m\u001b[0mAdaptive_Logistic_Reg\u001b[0m\u001b[1;33m(\u001b[0m\u001b[1;34m\"output/Log_Test_Adap_digits.csv\"\u001b[0m\u001b[1;33m)\u001b[0m\u001b[1;33m\u001b[0m\u001b[1;33m\u001b[0m\u001b[0m\n\u001b[0;32m      4\u001b[0m \u001b[0mD\u001b[0m\u001b[1;33m.\u001b[0m\u001b[0mGrad_LineSearch_Logistic_Reg\u001b[0m\u001b[1;33m(\u001b[0m\u001b[1;34m\"output/Log_Test_LS_digits.csv\"\u001b[0m\u001b[1;33m)\u001b[0m\u001b[1;33m\u001b[0m\u001b[1;33m\u001b[0m\u001b[0m\n\u001b[1;32m----> 5\u001b[1;33m \u001b[0mD\u001b[0m\u001b[1;33m.\u001b[0m\u001b[0mVanilla_Logistic_Reg\u001b[0m\u001b[1;33m(\u001b[0m\u001b[1;34m\"output/Log_Test_Van_digits.csv\"\u001b[0m\u001b[1;33m)\u001b[0m\u001b[1;33m\u001b[0m\u001b[1;33m\u001b[0m\u001b[0m\n\u001b[0m\u001b[0;32m      6\u001b[0m \u001b[0mD\u001b[0m\u001b[1;33m.\u001b[0m\u001b[0mBarzilai_Logistic_Reg\u001b[0m\u001b[1;33m(\u001b[0m\u001b[1;34m\"output/Log_Test_Baz_digits.csv\"\u001b[0m\u001b[1;33m)\u001b[0m\u001b[1;33m\u001b[0m\u001b[1;33m\u001b[0m\u001b[0m\n\u001b[0;32m      7\u001b[0m \u001b[0mD\u001b[0m\u001b[1;33m.\u001b[0m\u001b[0mNesterov_Logistic_Reg\u001b[0m\u001b[1;33m(\u001b[0m\u001b[1;34m\"output/Log_Test_Nest_digits.csv\"\u001b[0m\u001b[1;33m)\u001b[0m\u001b[1;33m\u001b[0m\u001b[1;33m\u001b[0m\u001b[0m\n",
      "\u001b[1;32m<ipython-input-1-cf99a8526701>\u001b[0m in \u001b[0;36mVanilla_Logistic_Reg\u001b[1;34m(self, directory)\u001b[0m\n\u001b[0;32m    274\u001b[0m         \u001b[0mself\u001b[0m\u001b[1;33m.\u001b[0m\u001b[0minitialTime\u001b[0m\u001b[1;33m=\u001b[0m \u001b[0mtime\u001b[0m\u001b[1;33m.\u001b[0m\u001b[0mtime\u001b[0m\u001b[1;33m(\u001b[0m\u001b[1;33m)\u001b[0m \u001b[1;31m# start the clock\u001b[0m\u001b[1;33m\u001b[0m\u001b[1;33m\u001b[0m\u001b[0m\n\u001b[0;32m    275\u001b[0m         \u001b[0mself\u001b[0m\u001b[1;33m.\u001b[0m\u001b[0mweights\u001b[0m \u001b[1;33m=\u001b[0m \u001b[0mdeepcopy\u001b[0m\u001b[1;33m(\u001b[0m\u001b[0mself\u001b[0m\u001b[1;33m.\u001b[0m\u001b[0mweights_copy\u001b[0m\u001b[1;33m)\u001b[0m \u001b[1;31m# make a copy of the weights\u001b[0m\u001b[1;33m\u001b[0m\u001b[1;33m\u001b[0m\u001b[0m\n\u001b[1;32m--> 276\u001b[1;33m         \u001b[0mself\u001b[0m\u001b[1;33m.\u001b[0m\u001b[0mlam\u001b[0m \u001b[1;33m=\u001b[0m \u001b[1;36m1\u001b[0m\u001b[1;33m/\u001b[0m\u001b[0mnp\u001b[0m\u001b[1;33m.\u001b[0m\u001b[0mmax\u001b[0m\u001b[1;33m(\u001b[0m\u001b[0mnp\u001b[0m\u001b[1;33m.\u001b[0m\u001b[0mlinalg\u001b[0m\u001b[1;33m.\u001b[0m\u001b[0msvd\u001b[0m\u001b[1;33m(\u001b[0m \u001b[0mself\u001b[0m\u001b[1;33m.\u001b[0m\u001b[0mxTrain\u001b[0m \u001b[1;33m@\u001b[0m \u001b[0mself\u001b[0m\u001b[1;33m.\u001b[0m\u001b[0mxTrain\u001b[0m\u001b[1;33m.\u001b[0m\u001b[0mT\u001b[0m \u001b[1;33m)\u001b[0m\u001b[1;33m[\u001b[0m\u001b[1;36m1\u001b[0m\u001b[1;33m]\u001b[0m\u001b[1;33m)\u001b[0m \u001b[1;31m# find step size\u001b[0m\u001b[1;33m\u001b[0m\u001b[1;33m\u001b[0m\u001b[0m\n\u001b[0m\u001b[0;32m    277\u001b[0m         \u001b[0mself\u001b[0m\u001b[1;33m.\u001b[0m\u001b[0mgrad\u001b[0m \u001b[1;33m=\u001b[0m \u001b[0mself\u001b[0m\u001b[1;33m.\u001b[0m\u001b[0mg_Log\u001b[0m\u001b[1;33m(\u001b[0m\u001b[0mself\u001b[0m\u001b[1;33m.\u001b[0m\u001b[0mweights\u001b[0m\u001b[1;33m)\u001b[0m \u001b[1;31m# calculate gradient\u001b[0m\u001b[1;33m\u001b[0m\u001b[1;33m\u001b[0m\u001b[0m\n\u001b[0;32m    278\u001b[0m         \u001b[0mself\u001b[0m\u001b[1;33m.\u001b[0m\u001b[0mgradNorm\u001b[0m \u001b[1;33m=\u001b[0m \u001b[0mnp\u001b[0m\u001b[1;33m.\u001b[0m\u001b[0mlinalg\u001b[0m\u001b[1;33m.\u001b[0m\u001b[0mnorm\u001b[0m\u001b[1;33m(\u001b[0m\u001b[0mself\u001b[0m\u001b[1;33m.\u001b[0m\u001b[0mgrad\u001b[0m\u001b[1;33m)\u001b[0m \u001b[1;31m# calc the l2 norm of the gradient\u001b[0m\u001b[1;33m\u001b[0m\u001b[1;33m\u001b[0m\u001b[0m\n",
      "\u001b[1;32m<__array_function__ internals>\u001b[0m in \u001b[0;36msvd\u001b[1;34m(*args, **kwargs)\u001b[0m\n",
      "\u001b[1;32mc:\\users\\asus\\appdata\\local\\programs\\python\\python38-32\\lib\\site-packages\\numpy\\linalg\\linalg.py\u001b[0m in \u001b[0;36msvd\u001b[1;34m(a, full_matrices, compute_uv, hermitian)\u001b[0m\n\u001b[0;32m   1659\u001b[0m \u001b[1;33m\u001b[0m\u001b[0m\n\u001b[0;32m   1660\u001b[0m         \u001b[0msignature\u001b[0m \u001b[1;33m=\u001b[0m \u001b[1;34m'D->DdD'\u001b[0m \u001b[1;32mif\u001b[0m \u001b[0misComplexType\u001b[0m\u001b[1;33m(\u001b[0m\u001b[0mt\u001b[0m\u001b[1;33m)\u001b[0m \u001b[1;32melse\u001b[0m \u001b[1;34m'd->ddd'\u001b[0m\u001b[1;33m\u001b[0m\u001b[1;33m\u001b[0m\u001b[0m\n\u001b[1;32m-> 1661\u001b[1;33m         \u001b[0mu\u001b[0m\u001b[1;33m,\u001b[0m \u001b[0ms\u001b[0m\u001b[1;33m,\u001b[0m \u001b[0mvh\u001b[0m \u001b[1;33m=\u001b[0m \u001b[0mgufunc\u001b[0m\u001b[1;33m(\u001b[0m\u001b[0ma\u001b[0m\u001b[1;33m,\u001b[0m \u001b[0msignature\u001b[0m\u001b[1;33m=\u001b[0m\u001b[0msignature\u001b[0m\u001b[1;33m,\u001b[0m \u001b[0mextobj\u001b[0m\u001b[1;33m=\u001b[0m\u001b[0mextobj\u001b[0m\u001b[1;33m)\u001b[0m\u001b[1;33m\u001b[0m\u001b[1;33m\u001b[0m\u001b[0m\n\u001b[0m\u001b[0;32m   1662\u001b[0m         \u001b[0mu\u001b[0m \u001b[1;33m=\u001b[0m \u001b[0mu\u001b[0m\u001b[1;33m.\u001b[0m\u001b[0mastype\u001b[0m\u001b[1;33m(\u001b[0m\u001b[0mresult_t\u001b[0m\u001b[1;33m,\u001b[0m \u001b[0mcopy\u001b[0m\u001b[1;33m=\u001b[0m\u001b[1;32mFalse\u001b[0m\u001b[1;33m)\u001b[0m\u001b[1;33m\u001b[0m\u001b[1;33m\u001b[0m\u001b[0m\n\u001b[0;32m   1663\u001b[0m         \u001b[0ms\u001b[0m \u001b[1;33m=\u001b[0m \u001b[0ms\u001b[0m\u001b[1;33m.\u001b[0m\u001b[0mastype\u001b[0m\u001b[1;33m(\u001b[0m\u001b[0m_realType\u001b[0m\u001b[1;33m(\u001b[0m\u001b[0mresult_t\u001b[0m\u001b[1;33m)\u001b[0m\u001b[1;33m,\u001b[0m \u001b[0mcopy\u001b[0m\u001b[1;33m=\u001b[0m\u001b[1;32mFalse\u001b[0m\u001b[1;33m)\u001b[0m\u001b[1;33m\u001b[0m\u001b[1;33m\u001b[0m\u001b[0m\n",
      "\u001b[1;32mc:\\users\\asus\\appdata\\local\\programs\\python\\python38-32\\lib\\site-packages\\numpy\\linalg\\linalg.py\u001b[0m in \u001b[0;36m_raise_linalgerror_svd_nonconvergence\u001b[1;34m(err, flag)\u001b[0m\n\u001b[0;32m     95\u001b[0m \u001b[1;33m\u001b[0m\u001b[0m\n\u001b[0;32m     96\u001b[0m \u001b[1;32mdef\u001b[0m \u001b[0m_raise_linalgerror_svd_nonconvergence\u001b[0m\u001b[1;33m(\u001b[0m\u001b[0merr\u001b[0m\u001b[1;33m,\u001b[0m \u001b[0mflag\u001b[0m\u001b[1;33m)\u001b[0m\u001b[1;33m:\u001b[0m\u001b[1;33m\u001b[0m\u001b[1;33m\u001b[0m\u001b[0m\n\u001b[1;32m---> 97\u001b[1;33m     \u001b[1;32mraise\u001b[0m \u001b[0mLinAlgError\u001b[0m\u001b[1;33m(\u001b[0m\u001b[1;34m\"SVD did not converge\"\u001b[0m\u001b[1;33m)\u001b[0m\u001b[1;33m\u001b[0m\u001b[1;33m\u001b[0m\u001b[0m\n\u001b[0m\u001b[0;32m     98\u001b[0m \u001b[1;33m\u001b[0m\u001b[0m\n\u001b[0;32m     99\u001b[0m \u001b[1;32mdef\u001b[0m \u001b[0m_raise_linalgerror_lstsq\u001b[0m\u001b[1;33m(\u001b[0m\u001b[0merr\u001b[0m\u001b[1;33m,\u001b[0m \u001b[0mflag\u001b[0m\u001b[1;33m)\u001b[0m\u001b[1;33m:\u001b[0m\u001b[1;33m\u001b[0m\u001b[1;33m\u001b[0m\u001b[0m\n",
      "\u001b[1;31mLinAlgError\u001b[0m: SVD did not converge"
     ]
    }
   ],
   "source": [
    "D = Regression(1e-6, 60)\n",
    "D.importLogisticRegressionDataset(digits, multi=True)\n",
    "D.Adaptive_Logistic_Reg(\"output/Log_Test_Adap_digits.csv\")\n",
    "D.Grad_LineSearch_Logistic_Reg(\"output/Log_Test_LS_digits.csv\")\n",
    "D.Vanilla_Logistic_Reg(\"output/Log_Test_Van_digits.csv\")\n",
    "D.Barzilai_Logistic_Reg(\"output/Log_Test_Baz_digits.csv\")\n",
    "D.Nesterov_Logistic_Reg(\"output/Log_Test_Nest_digits.csv\")"
   ]
  },
  {
   "cell_type": "code",
   "execution_count": 27,
   "metadata": {},
   "outputs": [
    {
     "name": "stderr",
     "output_type": "stream",
     "text": [
      "<ipython-input-1-cf99a8526701>:250: RuntimeWarning: invalid value encountered in true_divide\n",
      "  norm_X = 1 - ((maxs - X)/rng)\n"
     ]
    }
   ],
   "source": [
    "D = Regression(1e-12, 60)\n",
    "D.importLogisticRegressionDataset(digits, multi=True)"
   ]
  },
  {
   "cell_type": "code",
   "execution_count": 33,
   "metadata": {},
   "outputs": [
    {
     "data": {
      "text/plain": [
       "array([0.        , 0.        , 0.33333333, 0.86666667, 0.6       ,\n",
       "       0.06666667, 0.        , 0.        , 0.        , 0.        ,\n",
       "       0.86666667, 1.        , 0.66666667, 1.        , 0.33333333,\n",
       "       0.        , 0.        , 0.2       , 1.        , 0.13333333,\n",
       "       0.        , 0.73333333, 0.53333333, 0.        , 0.        ,\n",
       "       0.26666667, 0.8       , 0.        , 0.        , 0.53333333,\n",
       "       0.53333333, 0.        , 0.        , 0.33333333, 0.53333333,\n",
       "       0.        , 0.        , 0.6       , 0.53333333, 0.        ,\n",
       "       0.        , 0.26666667, 0.73333333, 0.        , 0.06666667,\n",
       "       0.8       , 0.46666667, 0.        , 0.        , 0.13333333,\n",
       "       0.93333333, 0.33333333, 0.66666667, 0.8       , 0.        ,\n",
       "       0.        , 0.        , 0.        , 0.4       , 0.86666667,\n",
       "       0.66666667, 0.        , 0.        , 0.        ])"
      ]
     },
     "execution_count": 33,
     "metadata": {},
     "output_type": "execute_result"
    }
   ],
   "source": [
    "H.normalise(dig[0][0])"
   ]
  },
  {
   "cell_type": "code",
   "execution_count": 28,
   "metadata": {},
   "outputs": [
    {
     "data": {
      "text/plain": [
       "array([1.        ,        nan, 0.        , 0.        , 0.5       ,\n",
       "       0.75      , 0.5625    , 0.18181818,        nan,        nan,\n",
       "       0.        , 0.3125    , 1.        , 1.        , 1.        ,\n",
       "       0.36363636,        nan, 0.        , 0.        , 0.5625    ,\n",
       "       1.        , 1.        , 0.6875    , 0.        ,        nan,\n",
       "       0.        , 0.21428571, 1.        , 1.        , 1.        ,\n",
       "       0.3125    , 0.        ,        nan,        nan, 0.36363636,\n",
       "       1.        , 1.        , 1.        , 0.25      , 0.        ,\n",
       "              nan,        nan, 0.125     , 0.9375    , 1.        ,\n",
       "       1.        , 0.1875    , 0.        ,        nan,        nan,\n",
       "       0.        , 0.5       , 1.        , 1.        , 0.5625    ,\n",
       "       0.        , 0.        ,        nan, 0.        , 0.        ,\n",
       "       0.5625    , 0.73333333, 0.375     , 0.        , 0.        ])"
      ]
     },
     "execution_count": 28,
     "metadata": {},
     "output_type": "execute_result"
    }
   ],
   "source": [
    "D.xTrain[0]"
   ]
  },
  {
   "cell_type": "code",
   "execution_count": 37,
   "metadata": {},
   "outputs": [
    {
     "ename": "NameError",
     "evalue": "name 'digits' is not defined",
     "output_type": "error",
     "traceback": [
      "\u001b[1;31m---------------------------------------------------------------------------\u001b[0m",
      "\u001b[1;31mNameError\u001b[0m                                 Traceback (most recent call last)",
      "\u001b[1;32m<ipython-input-37-c6f128219338>\u001b[0m in \u001b[0;36m<module>\u001b[1;34m\u001b[0m\n\u001b[0;32m      1\u001b[0m \u001b[0mD\u001b[0m \u001b[1;33m=\u001b[0m \u001b[0mRegression\u001b[0m\u001b[1;33m(\u001b[0m\u001b[1;36m1e-12\u001b[0m\u001b[1;33m,\u001b[0m \u001b[1;36m60\u001b[0m\u001b[1;33m)\u001b[0m\u001b[1;33m\u001b[0m\u001b[1;33m\u001b[0m\u001b[0m\n\u001b[1;32m----> 2\u001b[1;33m \u001b[0mD\u001b[0m\u001b[1;33m.\u001b[0m\u001b[0mimportLogisticRegressionDataset\u001b[0m\u001b[1;33m(\u001b[0m\u001b[0mdigits\u001b[0m\u001b[1;33m,\u001b[0m \u001b[0mmulti\u001b[0m\u001b[1;33m=\u001b[0m\u001b[1;32mTrue\u001b[0m\u001b[1;33m)\u001b[0m\u001b[1;33m\u001b[0m\u001b[1;33m\u001b[0m\u001b[0m\n\u001b[0m\u001b[0;32m      3\u001b[0m \u001b[0mD\u001b[0m\u001b[1;33m.\u001b[0m\u001b[0mAdaptive_Logistic_Reg\u001b[0m\u001b[1;33m(\u001b[0m\u001b[1;34m\"output/Log_Test_Adap_digits.csv\"\u001b[0m\u001b[1;33m)\u001b[0m\u001b[1;33m\u001b[0m\u001b[1;33m\u001b[0m\u001b[0m\n\u001b[0;32m      4\u001b[0m \u001b[0mD\u001b[0m\u001b[1;33m.\u001b[0m\u001b[0mGrad_LineSearch_Logistic_Reg\u001b[0m\u001b[1;33m(\u001b[0m\u001b[1;34m\"output/Log_Test_LS_digits.csv\"\u001b[0m\u001b[1;33m)\u001b[0m\u001b[1;33m\u001b[0m\u001b[1;33m\u001b[0m\u001b[0m\n\u001b[0;32m      5\u001b[0m \u001b[1;31m# D.Vanilla_Logistic_Reg(\"output/Log_Test_Van_digits.csv\")\u001b[0m\u001b[1;33m\u001b[0m\u001b[1;33m\u001b[0m\u001b[1;33m\u001b[0m\u001b[0m\n",
      "\u001b[1;31mNameError\u001b[0m: name 'digits' is not defined"
     ]
    }
   ],
   "source": [
    "D = Regression(1e-12, 60)\n",
    "D.importLogisticRegressionDataset(digits, multi=True)\n",
    "D.Adaptive_Logistic_Reg(\"output/Log_Test_Adap_digits.csv\")\n",
    "D.Grad_LineSearch_Logistic_Reg(\"output/Log_Test_LS_digits.csv\")\n",
    "# D.Vanilla_Logistic_Reg(\"output/Log_Test_Van_digits.csv\")\n",
    "D.Barzilai_Logistic_Reg(\"output/Log_Test_Baz_digits.csv\")\n",
    "# D.Nesterov_Logistic_Reg(\"output/Log_Test_Nest_digits.csv\")"
   ]
  },
  {
   "cell_type": "code",
   "execution_count": 12,
   "metadata": {},
   "outputs": [
    {
     "ename": "KeyError",
     "evalue": "0",
     "output_type": "error",
     "traceback": [
      "\u001b[1;31m---------------------------------------------------------------------------\u001b[0m",
      "\u001b[1;31mKeyError\u001b[0m                                  Traceback (most recent call last)",
      "\u001b[1;32m<ipython-input-12-50637221f990>\u001b[0m in \u001b[0;36m<module>\u001b[1;34m\u001b[0m\n\u001b[1;32m----> 1\u001b[1;33m \u001b[0mnp\u001b[0m\u001b[1;33m.\u001b[0m\u001b[0mshape\u001b[0m\u001b[1;33m(\u001b[0m\u001b[0mdigits\u001b[0m\u001b[1;33m(\u001b[0m\u001b[0mn_class\u001b[0m\u001b[1;33m=\u001b[0m\u001b[1;36m2\u001b[0m\u001b[1;33m)\u001b[0m\u001b[1;33m[\u001b[0m\u001b[1;36m0\u001b[0m\u001b[1;33m]\u001b[0m\u001b[1;33m)\u001b[0m\u001b[1;33m\u001b[0m\u001b[1;33m\u001b[0m\u001b[0m\n\u001b[0m",
      "\u001b[1;31mKeyError\u001b[0m: 0"
     ]
    }
   ],
   "source": []
  },
  {
   "cell_type": "code",
   "execution_count": null,
   "metadata": {},
   "outputs": [],
   "source": []
  },
  {
   "cell_type": "code",
   "execution_count": null,
   "metadata": {},
   "outputs": [],
   "source": []
  },
  {
   "cell_type": "markdown",
   "metadata": {},
   "source": [
    "# Other stuff"
   ]
  },
  {
   "cell_type": "code",
   "execution_count": null,
   "metadata": {},
   "outputs": [],
   "source": []
  },
  {
   "cell_type": "markdown",
   "metadata": {},
   "source": [
    "Oscilation in Gradient values (last 200 iterations)"
   ]
  },
  {
   "cell_type": "code",
   "execution_count": 47,
   "metadata": {},
   "outputs": [
    {
     "data": {
      "image/png": "[encoded data removed]",
      "text/plain": [
       "<Figure size 432x288 with 1 Axes>"
      ]
     },
     "metadata": {
      "needs_background": "light"
     },
     "output_type": "display_data"
    }
   ],
   "source": [
    "plt.plot(Lin_adap_out.TimeTaken.iloc[-200:-1], Lin_adap_out.GradientNorms.iloc[-200:-1], c = 'g')\n",
    "plt.yscale('log')\n",
    "plt.xlabel('Time in seconds')\n",
    "plt.show()"
   ]
  },
  {
   "cell_type": "markdown",
   "metadata": {},
   "source": [
    "non-monotone method"
   ]
  },
  {
   "cell_type": "markdown",
   "metadata": {},
   "source": [
    "Oscilation in Function values (last 200 iterations)"
   ]
  },
  {
   "cell_type": "code",
   "execution_count": 48,
   "metadata": {},
   "outputs": [
    {
     "data": {
      "image/png": "[encoded data removed]",
      "text/plain": [
       "<Figure size 432x288 with 1 Axes>"
      ]
     },
     "metadata": {
      "needs_background": "light"
     },
     "output_type": "display_data"
    }
   ],
   "source": [
    "plt.plot(Lin_adap_out.TimeTaken.iloc[-200:-1], Lin_adap_out.FunctionValues.iloc[-200:-1], c = 'g')\n",
    "plt.yscale('log')\n",
    "plt.xlabel('Time in seconds')\n",
    "plt.show()"
   ]
  },
  {
   "cell_type": "code",
   "execution_count": 50,
   "metadata": {},
   "outputs": [
    {
     "name": "stdout",
     "output_type": "stream",
     "text": [
      "Van final        GradientNorms  TimeTaken  FunctionValues  Accuracy\n",
      "40901       0.169685   4.999646        0.103069       0.9\n",
      "40902       0.169682   4.999646        0.103069       0.9\n",
      "40903       0.169680   4.999646        0.103068       0.9\n",
      "40904       0.169678   4.999646        0.103067       0.9\n",
      "40905       0.169675   5.000142        0.103067       0.9\n",
      "Adap final        GradientNorms  TimeTaken  FunctionValues  Accuracy\n",
      "25862       0.010151   4.999189        0.006087       0.9\n",
      "25863       0.007823   4.999684        0.006087       0.9\n",
      "25864       0.007117   4.999684        0.006087       0.9\n",
      "25865       0.007040   4.999684        0.006087       0.9\n",
      "25866       0.007039   5.000223        0.006086       0.9\n",
      "LS final      GradientNorms  TimeTaken  FunctionValues  Accuracy\n",
      "306       0.420536   1.953322        0.137341       0.9\n",
      "307       0.370990   1.957789        0.137280       0.9\n",
      "308       0.456602   1.966725        0.137101       0.9\n",
      "309       0.365408   1.971178        0.137042       0.9\n",
      "310       0.361427   5.001759        0.136994       0.9\n",
      "Baz final       GradientNorms  TimeTaken  FunctionValues  Accuracy\n",
      "9901   1.369913e-06   2.092110    8.562923e-07       0.9\n",
      "9902   1.002406e-06   2.092606    8.562604e-07       0.9\n",
      "9903   1.002348e-06   2.093102    8.562382e-07       0.9\n",
      "9904   1.000690e-06   2.093601    8.550837e-07       0.9\n",
      "9905   9.990881e-07   2.094095    8.537489e-07       0.9\n",
      "Nest final        GradientNorms  TimeTaken  FunctionValues  Accuracy\n",
      "39200       0.000106   4.999750         0.00009  4.999750\n",
      "39201       0.000106   4.999750         0.00009  4.999750\n",
      "39202       0.000106   4.999750         0.00009  4.999750\n",
      "39203       0.000106   4.999750         0.00009  4.999750\n",
      "39204       0.000106   5.000245         0.00009  5.000245\n"
     ]
    }
   ],
   "source": [
    "print(\"Van final\", Log_vanilla_out.tail())\n",
    "print(\"Adap final\", Log_adap_out.tail())\n",
    "print(\"LS final\", Log_line_out.tail())\n",
    "print(\"Baz final\", Log_baz_out.tail())\n",
    "print(\"Nest final\", Log_nest_out.tail())"
   ]
  },
  {
   "cell_type": "code",
   "execution_count": 51,
   "metadata": {},
   "outputs": [
    {
     "data": {
      "text/plain": [
       "0        0.009953\n",
       "1        0.010453\n",
       "2        0.010453\n",
       "3        0.010947\n",
       "4        0.010947\n",
       "           ...   \n",
       "39200    4.999750\n",
       "39201    4.999750\n",
       "39202    4.999750\n",
       "39203    4.999750\n",
       "39204    5.000245\n",
       "Name: Accuracy, Length: 39205, dtype: float64"
      ]
     },
     "execution_count": 51,
     "metadata": {},
     "output_type": "execute_result"
    }
   ],
   "source": [
    "Log_nest_out.Accuracy"
   ]
  },
  {
   "cell_type": "markdown",
   "metadata": {},
   "source": [
    "Check Lipschitz approx with SVD holds..."
   ]
  },
  {
   "cell_type": "code",
   "execution_count": 36,
   "metadata": {},
   "outputs": [
    {
     "data": {
      "image/png": "[encoded data removed]",
      "text/plain": [
       "<Figure size 432x288 with 1 Axes>"
      ]
     },
     "metadata": {
      "needs_background": "light"
     },
     "output_type": "display_data"
    }
   ],
   "source": [
    "plt.plot(Log_nest_out.TimeTaken, Log_nest_out.FunctionValues, c = 'g')\n",
    "plt.yscale('log')\n",
    "plt.xlabel('Time in seconds')\n",
    "plt.show()"
   ]
  },
  {
   "cell_type": "code",
   "execution_count": null,
   "metadata": {},
   "outputs": [],
   "source": []
  }
 ],
 "metadata": {
  "kernelspec": {
   "display_name": "Python 3",
   "language": "python",
   "name": "python3"
  },
  "language_info": {
   "codemirror_mode": {
    "name": "ipython",
    "version": 3
   },
   "file_extension": ".py",
   "mimetype": "text/x-python",
   "name": "python",
   "nbconvert_exporter": "python",
   "pygments_lexer": "ipython3",
   "version": "3.8.6"
  }
 },
 "nbformat": 4,
 "nbformat_minor": 4
}
