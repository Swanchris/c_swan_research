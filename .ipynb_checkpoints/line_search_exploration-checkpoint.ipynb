{
 "cells": [
  {
   "cell_type": "code",
   "execution_count": 1,
   "metadata": {},
   "outputs": [],
   "source": [
    "import matplotlib.pyplot as plt\n",
    "import random\n",
    "import numpy as np\n",
    "import time"
   ]
  },
  {
   "cell_type": "markdown",
   "metadata": {},
   "source": [
    "Generate data based on a linear equation ($y = 2x + 5$) distorted with noise."
   ]
  },
  {
   "cell_type": "code",
   "execution_count": 8,
   "metadata": {
    "scrolled": true
   },
   "outputs": [
    {
     "data": {
      "text/plain": [
       "<function matplotlib.pyplot.show(close=None, block=None)>"
      ]
     },
     "execution_count": 8,
     "metadata": {},
     "output_type": "execute_result"
    },
    {
     "data": {
      "image/png": "[encoded data removed]",
      "text/plain": [
       "<Figure size 432x288 with 1 Axes>"
      ]
     },
     "metadata": {
      "needs_background": "light"
     },
     "output_type": "display_data"
    }
   ],
   "source": [
    "def lin():\n",
    "    \"\"\"\n",
    "    Where A is an array of inputs for 'x'\n",
    "    \"\"\"\n",
    "    li = [0]*100\n",
    "    Y = [0]*100\n",
    "    O = [0]*100\n",
    "    for i in range(100):\n",
    "        li[i] = random.random()*10\n",
    "        y = 2*li[i] + 5\n",
    "        Y[i] = y + np.random.normal(0,3) #adding noise\n",
    "        O[i] = [li[i],Y[i]]\n",
    "    return O\n",
    "\n",
    "A = lin()\n",
    "\n",
    "xVec = np.random.rand(2)*10\n",
    "temp = np.matmul(A,xVec)\n",
    "b = temp + np.random.normal(0,3,temp.shape)\n",
    "\n",
    "def f(X, a=A,B=b):\n",
    "    return 0.5*np.linalg.norm(np.matmul(a,X)-B)**2\n",
    "\n",
    "def f_grad(X,a=A, B=b):\n",
    "    return np.matmul(np.array(a).transpose(),(np.matmul(a,X)-B))\n",
    "\n",
    "def GD(x, lamb, gradient_function):\n",
    "    x1 = x - lamb*gradient_function(x)\n",
    "    return x1\n",
    "\n",
    "aaa = [0]*100\n",
    "bbb = [0]*100\n",
    "ccc = [0]*100\n",
    "for i in range(100):\n",
    "    aaa[i] = A[i][0]\n",
    "    bbb[i] = A[i][1]\n",
    "    ccc[i] = 2*A[i][0] + 5\n",
    "plt.scatter(aaa, bbb, label = 'A')\n",
    "plt.scatter(aaa, b, c = 'r', label = 'b')\n",
    "plt.scatter(xVec[0], xVec[1], c = 'g', label = 'x')\n",
    "plt.plot(aaa, ccc, 'y')\n",
    "plt.legend(loc = 'best')\n",
    "plt.show"
   ]
  },
  {
   "cell_type": "markdown",
   "metadata": {},
   "source": [
    "\\begin{align}\n",
    "\\text{min } \\mathbf{x}: \\\\\n",
    "f(\\mathbf{x}) &= \\frac{1}{2} \\|A \\mathbf{x} - b \\|^2\\\\\n",
    "\\nabla f(\\mathbf{\\mathbf{x}}) &= A^T(A \\mathbf{x} -b)\\\\\n",
    "{\\mathbf{x}}_{k+1} &= \\mathbf{x}_k - \\lambda_k \\nabla f(\\mathbf{x}_k)\n",
    "\\end{align}\n"
   ]
  },
  {
   "cell_type": "markdown",
   "metadata": {},
   "source": [
    "## Backtracking Line Search"
   ]
  },
  {
   "cell_type": "code",
   "execution_count": 42,
   "metadata": {},
   "outputs": [],
   "source": [
    "def Line(x,f,f_grad):\n",
    "    line_time = time.time()\n",
    "    rho = random.random() + 1e-20\n",
    "    c = random.random() + 1e-20\n",
    "    alph = 1\n",
    "    p = np.linalg.norm(f_grad(x))**2\n",
    "    while ((f(x - alph*f_grad(x)) > f(x) - c*alph*p) and \\\n",
    "           (np.linalg.norm(f_grad(x - alph*f_grad(x)))**2 > p)):\n",
    "#         print('LHS: ', f(x - alph*f_grad(x)))\n",
    "#         print('RHS: ', f(x) - c*alph*np.linalg.norm(f_grad(x))**2)\n",
    "        ## is norm the right move here?\n",
    "        alph = rho*alph\n",
    "#     print('Alpha:', alph)\n",
    "    print('At iteration ', count, 'The line search took ', \\\n",
    "          time.time() - line_time , 'to produce a step size of ', alph)    \n",
    "    return alph\n",
    "    "
   ]
  },
  {
   "cell_type": "code",
   "execution_count": 30,
   "metadata": {},
   "outputs": [
    {
     "data": {
      "text/plain": [
       "6.523107980554297e-09"
      ]
     },
     "execution_count": 30,
     "metadata": {},
     "output_type": "execute_result"
    }
   ],
   "source": [
    "np.linalg.norm(f_grad(x))**2"
   ]
  },
  {
   "cell_type": "code",
   "execution_count": 41,
   "metadata": {},
   "outputs": [
    {
     "data": {
      "text/plain": [
       "4.080141054844047e-09"
      ]
     },
     "execution_count": 41,
     "metadata": {},
     "output_type": "execute_result"
    }
   ],
   "source": [
    "np.linalg.norm(f_grad(x - 1e-5*f_grad(x)))**2"
   ]
  },
  {
   "cell_type": "code",
   "execution_count": 38,
   "metadata": {},
   "outputs": [
    {
     "data": {
      "text/plain": [
       "array([1.4990564 , 8.80689001])"
      ]
     },
     "execution_count": 38,
     "metadata": {},
     "output_type": "execute_result"
    }
   ],
   "source": [
    "x"
   ]
  },
  {
   "cell_type": "code",
   "execution_count": 39,
   "metadata": {},
   "outputs": [
    {
     "data": {
      "text/plain": [
       "array([5.76387469e-05, 5.65763452e-05])"
      ]
     },
     "execution_count": 39,
     "metadata": {},
     "output_type": "execute_result"
    }
   ],
   "source": [
    "f_grad(x)"
   ]
  },
  {
   "cell_type": "code",
   "execution_count": 49,
   "metadata": {},
   "outputs": [
    {
     "name": "stdout",
     "output_type": "stream",
     "text": [
      "At iteration  1 The line search took  0.04959988594055176 to produce a step size of  7.136430624714848e-05\n",
      "At iteration  2 The line search took  0.006953716278076172 to produce a step size of  1.8995666414497394e-05\n",
      "At iteration  3 The line search took  0.01686573028564453 to produce a step size of  7.051349124480958e-05\n",
      "At iteration  4 The line search took  0.0064694881439208984 to produce a step size of  2.8860544888557013e-05\n",
      "At iteration  5 The line search took  0.004464149475097656 to produce a step size of  2.035280996223232e-05\n",
      "At iteration  6 The line search took  0.009435415267944336 to produce a step size of  5.5717812532424877e-05\n",
      "At iteration  7 The line search took  0.020298480987548828 to produce a step size of  7.508538577562307e-05\n",
      "At iteration  8 The line search took  0.012424945831298828 to produce a step size of  0.00038890690306007757\n",
      "At iteration  9 The line search took  0.0242917537689209 to produce a step size of  7.198086607309684e-05\n",
      "At iteration  10 The line search took  0.003962993621826172 to produce a step size of  1.5999922158454026e-05\n",
      "At iteration  11 The line search took  0.013410806655883789 to produce a step size of  4.5756179135768434e-05\n",
      "At iteration  12 The line search took  0.11902904510498047 to produce a step size of  0.00010040490112250459\n",
      "At iteration  13 The line search took  0.003941535949707031 to produce a step size of  7.77701620049177e-06\n",
      "At iteration  14 The line search took  0.025324344635009766 to produce a step size of  0.00012392152662317045\n",
      "At iteration  15 The line search took  0.0069239139556884766 to produce a step size of  2.0470723161481597e-05\n",
      "At iteration  16 The line search took  0.18504667282104492 to produce a step size of  8.572379875865153e-05\n",
      "At iteration  17 The line search took  0.05799555778503418 to produce a step size of  7.00250188746692e-05\n",
      "At iteration  18 The line search took  0.016381025314331055 to produce a step size of  6.802362222099663e-05\n",
      "At iteration  19 The line search took  0.05754256248474121 to produce a step size of  7.341386704670891e-05\n",
      "At iteration  20 The line search took  0.036704301834106445 to produce a step size of  7.045967106889695e-05\n",
      "At iteration  21 The line search took  0.009448528289794922 to produce a step size of  9.361564720106565e-05\n",
      "At iteration  22 The line search took  0.0109100341796875 to produce a step size of  4.472534243112266e-05\n",
      "At iteration  23 The line search took  0.004960298538208008 to produce a step size of  0.00012918370341124733\n",
      "At iteration  24 The line search took  0.05703854560852051 to produce a step size of  0.00010309290119343324\n",
      "At iteration  25 The line search took  0.00645756721496582 to produce a step size of  5.1490648933276754e-05\n",
      "At iteration  26 The line search took  0.005431175231933594 to produce a step size of  0.00032446878274965585\n",
      "At iteration  27 The line search took  0.015872478485107422 to produce a step size of  6.681159059071184e-05\n",
      "At iteration  28 The line search took  0.027776241302490234 to produce a step size of  6.166061925675338e-05\n",
      "At iteration  29 The line search took  0.01242518424987793 to produce a step size of  4.533560793805587e-05\n",
      "At iteration  30 The line search took  0.007439851760864258 to produce a step size of  0.0002765949899604582\n",
      "At iteration  31 The line search took  0.008428096771240234 to produce a step size of  3.508905804298032e-05\n",
      "At iteration  32 The line search took  0.004959583282470703 to produce a step size of  0.00041997862854514746\n",
      "At iteration  33 The line search took  0.17609047889709473 to produce a step size of  7.107134289253259e-05\n",
      "At iteration  34 The line search took  0.012925148010253906 to produce a step size of  6.33310313154915e-05\n",
      "At iteration  35 The line search took  0.04913043975830078 to produce a step size of  6.80590427106602e-05\n",
      "At iteration  36 The line search took  0.05650758743286133 to produce a step size of  6.666381934871025e-05\n",
      "At iteration  37 The line search took  0.011409282684326172 to produce a step size of  5.8239201215106855e-05\n",
      "At iteration  38 The line search took  0.006943941116333008 to produce a step size of  8.342802504012029e-05\n",
      "At iteration  39 The line search took  0.01735973358154297 to produce a step size of  7.372737690751522e-05\n",
      "At iteration  40 The line search took  0.018351078033447266 to produce a step size of  0.0001267497862998792\n",
      "At iteration  41 The line search took  0.10718679428100586 to produce a step size of  7.405775086615827e-05\n",
      "At iteration  42 The line search took  0.007923603057861328 to produce a step size of  3.780578127750866e-05\n",
      "At iteration  43 The line search took  0.13190603256225586 to produce a step size of  0.0006019564981209272\n",
      "At iteration  44 The line search took  0.0069427490234375 to produce a step size of  0.00025399758499092213\n",
      "At iteration  45 The line search took  0.009941577911376953 to produce a step size of  5.5680062071515925e-05\n",
      "At iteration  46 The line search took  0.03121352195739746 to produce a step size of  6.063971162860536e-05\n",
      "At iteration  47 The line search took  0.042680978775024414 to produce a step size of  6.750316050760876e-05\n",
      "At iteration  48 The line search took  0.004960298538208008 to produce a step size of  1.5993652247314594e-05\n",
      "At iteration  49 The line search took  0.009920120239257812 to produce a step size of  0.0002463112156388063\n",
      "At iteration  50 The line search took  0.007440805435180664 to produce a step size of  4.9561708315300234e-05\n",
      "At iteration  51 The line search took  0.02823925018310547 to produce a step size of  7.11552502027175e-05\n",
      "At iteration  52 The line search took  0.09621119499206543 to produce a step size of  7.060508414987883e-05\n",
      "At iteration  53 The line search took  0.004948854446411133 to produce a step size of  5.4512312460253833e-05\n",
      "At iteration  54 The line search took  0.006447792053222656 to produce a step size of  0.0001233747798402858\n",
      "At iteration  55 The line search took  0.03372550010681152 to produce a step size of  9.71700890117678e-05\n",
      "At iteration  56 The line search took  0.012399435043334961 to produce a step size of  5.208315076752125e-05\n",
      "At iteration  57 The line search took  0.0054433345794677734 to produce a step size of  6.997088106141631e-05\n",
      "At iteration  58 The line search took  0.0069446563720703125 to produce a step size of  0.0001527445980809477\n",
      "At iteration  59 The line search took  0.010416269302368164 to produce a step size of  4.646678904174556e-05\n",
      "At iteration  60 The line search took  0.010543346405029297 to produce a step size of  4.6098428543705606e-05\n",
      "At iteration  61 The line search took  0.027768373489379883 to produce a step size of  0.0010139950397891324\n",
      "At iteration  62 The line search took  0.006926774978637695 to produce a step size of  3.583400286884341e-05\n",
      "At iteration  63 The line search took  0.015846967697143555 to produce a step size of  0.0019650622781992697\n",
      "At iteration  64 The line search took  0.006436824798583984 to produce a step size of  3.973914309372848e-05\n",
      "At iteration  65 The line search took  0.013391733169555664 to produce a step size of  4.863210367015907e-05\n",
      "At iteration  66 The line search took  0.25890254974365234 to produce a step size of  0.0010829239607556007\n",
      "At iteration  67 The line search took  0.22617650032043457 to produce a step size of  7.30787953454805e-05\n",
      "At iteration  68 The line search took  0.004960060119628906 to produce a step size of  2.826831904546481e-05\n",
      "At iteration  69 The line search took  0.041661977767944336 to produce a step size of  8.839417699058478e-05\n",
      "At iteration  70 The line search took  0.033231496810913086 to produce a step size of  6.202101901292533e-05\n",
      "At iteration  71 The line search took  0.008896112442016602 to produce a step size of  6.7859165581353e-05\n",
      "At iteration  72 The line search took  0.010896444320678711 to produce a step size of  9.782424516676757e-05\n",
      "At iteration  73 The line search took  0.010945796966552734 to produce a step size of  3.9072386047934656e-05\n",
      "At iteration  74 The line search took  0.37097597122192383 to produce a step size of  0.0019541937660451287\n",
      "At iteration  75 The line search took  0.006439924240112305 to produce a step size of  1.8861177353440878e-05\n",
      "At iteration  76 The line search took  0.02130436897277832 to produce a step size of  5.6652831679560275e-05\n",
      "At iteration  77 The line search took  0.007927179336547852 to produce a step size of  1.660148549243575e-05\n",
      "At iteration  78 The line search took  0.18798160552978516 to produce a step size of  7.279769068323887e-05\n",
      "At iteration  79 The line search took  0.04709029197692871 to produce a step size of  6.87508367554298e-05\n",
      "At iteration  80 The line search took  0.0069408416748046875 to produce a step size of  5.9897421064943836e-05\n",
      "At iteration  81 The line search took  0.005970001220703125 to produce a step size of  9.891769797428484e-05\n",
      "At iteration  82 The line search took  0.0029764175415039062 to produce a step size of  6.464839230395533e-07\n",
      "At iteration  83 The line search took  0.006916999816894531 to produce a step size of  2.967288180482737e-05\n",
      "At iteration  84 The line search took  0.006472587585449219 to produce a step size of  0.00030179479310174647\n",
      "At iteration  85 The line search took  0.019840717315673828 to produce a step size of  5.3099470851651845e-05\n",
      "At iteration  86 The line search took  0.02529740333557129 to produce a step size of  0.00011281184477458784\n",
      "At iteration  87 The line search took  0.01587820053100586 to produce a step size of  6.674422519147069e-05\n",
      "At iteration  88 The line search took  0.021788358688354492 to produce a step size of  8.842198939751002e-05\n",
      "At iteration  89 The line search took  0.011903524398803711 to produce a step size of  5.81984555108509e-05\n",
      "At iteration  90 The line search took  0.006476879119873047 to produce a step size of  4.036812069496047e-05\n",
      "At iteration  91 The line search took  0.0049896240234375 to produce a step size of  0.0001376135608028149\n",
      "At iteration  92 The line search took  0.015856027603149414 to produce a step size of  0.0005725709299814363\n",
      "At iteration  93 The line search took  0.010912656784057617 to produce a step size of  5.9780007127401486e-05\n"
     ]
    },
    {
     "name": "stdout",
     "output_type": "stream",
     "text": [
      "At iteration  94 The line search took  0.019857168197631836 to produce a step size of  5.028027348791773e-05\n",
      "At iteration  95 The line search took  0.003968000411987305 to produce a step size of  9.205961212326385e-06\n",
      "At iteration  96 The line search took  0.007937192916870117 to produce a step size of  2.8383119323851932e-05\n",
      "At iteration  97 The line search took  0.010416269302368164 to produce a step size of  0.00014587047633789262\n",
      "At iteration  98 The line search took  0.006474971771240234 to produce a step size of  0.0001102970281925991\n",
      "At iteration  99 The line search took  0.15724802017211914 to produce a step size of  0.00010668949404110902\n",
      "At iteration  100 The line search took  0.008955240249633789 to produce a step size of  1.255933681060393e-05\n",
      "At iteration  101 The line search took  0.011887550354003906 to produce a step size of  4.8821045189401455e-05\n",
      "At iteration  102 The line search took  0.026247501373291016 to produce a step size of  6.360376699892282e-05\n",
      "At iteration  103 The line search took  0.010886430740356445 to produce a step size of  6.1706058969548e-05\n",
      "At iteration  104 The line search took  0.003473997116088867 to produce a step size of  0.0007189201800271944\n",
      "At iteration  105 The line search took  0.040222883224487305 to produce a step size of  6.308886415548043e-05\n",
      "At iteration  106 The line search took  0.01739215850830078 to produce a step size of  6.190409540159869e-05\n",
      "At iteration  107 The line search took  0.004461765289306641 to produce a step size of  1.7586947265593104e-05\n",
      "At iteration  108 The line search took  0.005492687225341797 to produce a step size of  1.2158500068399717e-05\n",
      "At iteration  109 The line search took  0.017385005950927734 to produce a step size of  7.11450638224795e-05\n",
      "At iteration  110 The line search took  0.028767824172973633 to produce a step size of  0.0001417377007714215\n",
      "At iteration  111 The line search took  0.029255390167236328 to produce a step size of  7.368633977325651e-05\n",
      "At iteration  112 The line search took  0.14681720733642578 to produce a step size of  7.247384602982983e-05\n",
      "At iteration  113 The line search took  0.1929638385772705 to produce a step size of  7.387315756295113e-05\n",
      "At iteration  114 The line search took  0.0293123722076416 to produce a step size of  5.739433553648686e-05\n",
      "At iteration  115 The line search took  0.02430438995361328 to produce a step size of  5.8178704712930925e-05\n",
      "At iteration  116 The line search took  0.03174400329589844 to produce a step size of  0.00012993359824569578\n",
      "At iteration  117 The line search took  0.0019485950469970703 to produce a step size of  2.0788634236725413e-05\n",
      "At iteration  118 The line search took  0.007943868637084961 to produce a step size of  0.00011872008039619619\n",
      "At iteration  119 The line search took  0.004462480545043945 to produce a step size of  4.081714342590136e-05\n",
      "At iteration  120 The line search took  0.00501561164855957 to produce a step size of  0.0009005146682704346\n",
      "At iteration  121 The line search took  1.3580386638641357 to produce a step size of  7.358983265276464e-05\n",
      "At iteration  122 The line search took  0.014383077621459961 to produce a step size of  4.0396809709492324e-05\n",
      "At iteration  123 The line search took  0.021327972412109375 to produce a step size of  0.00015570445790140386\n",
      "At iteration  124 The line search took  0.0104522705078125 to produce a step size of  5.216531182014606e-05\n",
      "At iteration  125 The line search took  0.02484726905822754 to produce a step size of  9.953335508052466e-05\n",
      "At iteration  126 The line search took  0.008430719375610352 to produce a step size of  6.798808752799544e-05\n",
      "At iteration  127 The line search took  0.03322744369506836 to produce a step size of  6.430647892736888e-05\n",
      "At iteration  128 The line search took  0.03871321678161621 to produce a step size of  7.112295237926118e-05\n",
      "At iteration  129 The line search took  0.06694602966308594 to produce a step size of  7.979080323783941e-05\n",
      "At iteration  130 The line search took  0.022297382354736328 to produce a step size of  6.477454026193081e-05\n",
      "At iteration  131 The line search took  0.03273630142211914 to produce a step size of  6.74540350534905e-05\n",
      "At iteration  132 The line search took  0.010442018508911133 to produce a step size of  7.180883366646701e-05\n",
      "At iteration  133 The line search took  0.031248807907104492 to produce a step size of  0.0002109584214466206\n",
      "At iteration  134 The line search took  0.013391733169555664 to produce a step size of  4.6215765320785e-05\n",
      "At iteration  135 The line search took  0.020833492279052734 to produce a step size of  5.420011077733452e-05\n",
      "At iteration  136 The line search took  0.018822193145751953 to produce a step size of  0.0006118246603092793\n",
      "At iteration  137 The line search took  0.023337364196777344 to produce a step size of  6.561398896035505e-05\n",
      "At iteration  138 The line search took  0.17258310317993164 to produce a step size of  7.151047030293754e-05\n",
      "At iteration  139 The line search took  0.005929231643676758 to produce a step size of  1.2674558671392598e-05\n",
      "At iteration  140 The line search took  0.030750751495361328 to produce a step size of  5.647942133973897e-05\n",
      "At iteration  141 The line search took  0.003967761993408203 to produce a step size of  2.5542551126185328e-05\n",
      "At iteration  142 The line search took  0.012359142303466797 to produce a step size of  0.0003082092398131381\n",
      "At iteration  143 The line search took  0.009419918060302734 to produce a step size of  5.427023009147621e-05\n",
      "At iteration  144 The line search took  0.03868269920349121 to produce a step size of  7.499332308137402e-05\n",
      "At iteration  145 The line search took  0.004463672637939453 to produce a step size of  8.82893066725605e-06\n",
      "At iteration  146 The line search took  0.004426479339599609 to produce a step size of  5.631538636895598e-05\n",
      "At iteration  147 The line search took  0.03769326210021973 to produce a step size of  0.0002494098695586662\n",
      "At iteration  148 The line search took  0.17460012435913086 to produce a step size of  7.086325345319959e-05\n",
      "At iteration  149 The line search took  0.005917549133300781 to produce a step size of  3.046366730946019e-05\n",
      "At iteration  150 The line search took  0.00990152359008789 to produce a step size of  3.986317941760914e-05\n",
      "At iteration  151 The line search took  0.007459402084350586 to produce a step size of  0.004609099513825059\n",
      "At iteration  152 The line search took  0.004960060119628906 to produce a step size of  4.6526725722843394e-05\n",
      "At iteration  153 The line search took  0.08385968208312988 to produce a step size of  6.892698058781866e-05\n",
      "At iteration  154 The line search took  0.005419492721557617 to produce a step size of  1.3182489199220241e-05\n",
      "At iteration  155 The line search took  0.05160856246948242 to produce a step size of  7.005073032966726e-05\n",
      "At iteration  156 The line search took  0.04213428497314453 to produce a step size of  7.266261540395168e-05\n",
      "At iteration  157 The line search took  0.017856121063232422 to produce a step size of  6.826582863665135e-05\n",
      "At iteration  158 The line search took  0.0401766300201416 to produce a step size of  7.261888060040416e-05\n",
      "At iteration  159 The line search took  0.021825313568115234 to produce a step size of  6.704668190035428e-05\n",
      "At iteration  160 The line search took  0.012894153594970703 to produce a step size of  6.020095322828723e-05\n",
      "At iteration  161 The line search took  0.009926557540893555 to produce a step size of  5.606017815967921e-05\n",
      "At iteration  162 The line search took  0.005951881408691406 to produce a step size of  3.109459186578179e-05\n",
      "At iteration  163 The line search took  0.013406991958618164 to produce a step size of  0.0027768557466358343\n",
      "At iteration  164 The line search took  0.010936975479125977 to produce a step size of  4.201035612860072e-05\n",
      "At iteration  165 The line search took  0.033228397369384766 to produce a step size of  6.539883589007027e-05\n",
      "At iteration  166 The line search took  0.014359235763549805 to produce a step size of  5.173684940666167e-05\n",
      "At iteration  167 The line search took  0.03717446327209473 to produce a step size of  7.43457637198149e-05\n",
      "At iteration  168 The line search took  0.01686406135559082 to produce a step size of  6.079158262412891e-05\n"
     ]
    },
    {
     "name": "stdout",
     "output_type": "stream",
     "text": [
      "At iteration  169 The line search took  0.11308789253234863 to produce a step size of  0.00041602827721784724\n",
      "At iteration  170 The line search took  0.019840002059936523 to produce a step size of  5.520490337888777e-05\n",
      "At iteration  171 The line search took  0.11556816101074219 to produce a step size of  7.107103257378556e-05\n",
      "At iteration  172 The line search took  0.004960060119628906 to produce a step size of  2.8763480921561677e-05\n",
      "At iteration  173 The line search took  0.6427981853485107 to produce a step size of  0.0003730798772591717\n",
      "At iteration  174 The line search took  0.005455970764160156 to produce a step size of  3.175823494220294e-05\n",
      "At iteration  175 The line search took  0.0029735565185546875 to produce a step size of  1.1648415920643393e-05\n",
      "At iteration  176 The line search took  2.005328893661499 to produce a step size of  0.00039097174917692644\n",
      "At iteration  177 The line search took  0.013894319534301758 to produce a step size of  6.358442636032434e-05\n",
      "At iteration  178 The line search took  0.025791406631469727 to produce a step size of  7.039641954444406e-05\n",
      "At iteration  179 The line search took  0.011431217193603516 to produce a step size of  3.4941095748277684e-05\n",
      "At iteration  180 The line search took  0.007448434829711914 to produce a step size of  7.409414234525601e-05\n",
      "At iteration  181 The line search took  0.0034401416778564453 to produce a step size of  0.0003286177372141811\n",
      "At iteration  182 The line search took  0.01534581184387207 to produce a step size of  5.085208347022095e-05\n",
      "At iteration  183 The line search took  0.016862869262695312 to produce a step size of  0.00017190848947534152\n",
      "At iteration  184 The line search took  0.010415792465209961 to produce a step size of  4.1623770969564555e-05\n",
      "At iteration  185 The line search took  0.028271913528442383 to produce a step size of  0.00015570429128671897\n",
      "At iteration  186 The line search took  0.05903887748718262 to produce a step size of  7.596136099091435e-05\n",
      "At iteration  187 The line search took  0.024312734603881836 to produce a step size of  0.00011321437352575239\n",
      "At iteration  188 The line search took  0.013408899307250977 to produce a step size of  4.537324679803821e-05\n",
      "At iteration  189 The line search took  0.006448030471801758 to produce a step size of  0.0003366911561298903\n",
      "At iteration  190 The line search took  0.006944417953491211 to produce a step size of  2.0298306651301212e-05\n",
      "At iteration  191 The line search took  0.003943920135498047 to produce a step size of  2.3379732177498868e-05\n",
      "At iteration  192 The line search took  0.015896320343017578 to produce a step size of  0.00017943385610003142\n",
      "At iteration  193 The line search took  0.037198781967163086 to produce a step size of  6.160793584053851e-05\n",
      "At iteration  194 The line search took  0.26880717277526855 to produce a step size of  8.442600018738477e-05\n",
      "At iteration  195 The line search took  0.006943702697753906 to produce a step size of  3.9402383617942676e-05\n",
      "At iteration  196 The line search took  0.006411314010620117 to produce a step size of  0.0019011720099105388\n",
      "At iteration  197 The line search took  0.051583290100097656 to produce a step size of  7.074710107750394e-05\n",
      "At iteration  198 The line search took  0.019369125366210938 to produce a step size of  4.8480019079205396e-05\n",
      "At iteration  199 The line search took  0.025790691375732422 to produce a step size of  5.280631771529676e-05\n",
      "At iteration  200 The line search took  0.034239768981933594 to produce a step size of  8.096180620684286e-05\n",
      "At iteration  201 The line search took  0.022815942764282227 to produce a step size of  6.693985817076552e-05\n",
      "At iteration  202 The line search took  0.015367984771728516 to produce a step size of  4.399674655771677e-05\n",
      "At iteration  203 The line search took  0.02378249168395996 to produce a step size of  0.00042149469820470907\n",
      "At iteration  204 The line search took  0.0059621334075927734 to produce a step size of  4.8087729204483514e-05\n",
      "At iteration  205 The line search took  0.002517223358154297 to produce a step size of  3.900559198086283e-06\n",
      "At iteration  206 The line search took  0.05105257034301758 to produce a step size of  7.456554095650783e-05\n",
      "At iteration  207 The line search took  0.007936716079711914 to produce a step size of  8.982041537057984e-05\n",
      "At iteration  208 The line search took  0.011371374130249023 to produce a step size of  5.164458456795419e-05\n",
      "At iteration  209 The line search took  0.008952856063842773 to produce a step size of  0.00023941389898424616\n",
      "At iteration  210 The line search took  0.015348672866821289 to produce a step size of  6.457264637003764e-05\n",
      "At iteration  211 The line search took  0.0029757022857666016 to produce a step size of  1.2082609784344428e-06\n",
      "At iteration  212 The line search took  0.01934075355529785 to produce a step size of  4.8240596053356946e-05\n",
      "At iteration  213 The line search took  0.005430459976196289 to produce a step size of  4.583898690969947e-05\n",
      "At iteration  214 The line search took  0.006422519683837891 to produce a step size of  0.0014714963230376076\n",
      "At iteration  215 The line search took  0.02828812599182129 to produce a step size of  7.153508373007097e-05\n",
      "At iteration  216 The line search took  0.14534783363342285 to produce a step size of  7.150761975651502e-05\n",
      "At iteration  217 The line search took  0.004439592361450195 to produce a step size of  4.375335788226305e-06\n",
      "At iteration  218 The line search took  0.42111754417419434 to produce a step size of  7.343906118869932e-05\n",
      "At iteration  219 The line search took  0.010361909866333008 to produce a step size of  3.273452671384191e-05\n",
      "At iteration  220 The line search took  0.015401840209960938 to produce a step size of  0.00016661110205139345\n",
      "At iteration  221 The line search took  0.007960796356201172 to produce a step size of  6.397902800646465e-05\n",
      "At iteration  222 The line search took  0.009461641311645508 to produce a step size of  6.876693132429737e-05\n",
      "At iteration  223 The line search took  0.020333051681518555 to produce a step size of  6.111132100403765e-05\n",
      "At iteration  224 The line search took  0.009390830993652344 to produce a step size of  5.8437764929420704e-05\n",
      "At iteration  225 The line search took  0.019805431365966797 to produce a step size of  6.102758907540208e-05\n",
      "At iteration  226 The line search took  0.0034706592559814453 to produce a step size of  0.00016210183972261533\n",
      "At iteration  227 The line search took  0.005953073501586914 to produce a step size of  2.4971129025679096e-05\n",
      "At iteration  228 The line search took  0.028768539428710938 to produce a step size of  0.00019700901517945055\n",
      "At iteration  229 The line search took  0.05407524108886719 to produce a step size of  7.034253270667528e-05\n",
      "At iteration  230 The line search took  0.051041603088378906 to produce a step size of  6.914017495441636e-05\n",
      "At iteration  231 The line search took  0.03670310974121094 to produce a step size of  7.90869290626522e-05\n",
      "At iteration  232 The line search took  0.005953073501586914 to produce a step size of  1.906111836622051e-05\n",
      "At iteration  233 The line search took  0.007903099060058594 to produce a step size of  0.00016662062440118768\n",
      "At iteration  234 The line search took  0.005009651184082031 to produce a step size of  5.638440026163076e-05\n",
      "At iteration  235 The line search took  0.0069732666015625 to produce a step size of  2.020335158547989e-05\n",
      "At iteration  236 The line search took  0.019830942153930664 to produce a step size of  5.459818962910698e-05\n",
      "At iteration  237 The line search took  1.5658555030822754 to produce a step size of  0.00022341150438610555\n",
      "At iteration  238 The line search took  0.013888835906982422 to produce a step size of  6.532942359258459e-05\n",
      "At iteration  239 The line search took  0.019344091415405273 to produce a step size of  7.566337745417968e-05\n",
      "At iteration  240 The line search took  0.012895584106445312 to produce a step size of  6.574632274041381e-05\n",
      "At iteration  241 The line search took  0.06147885322570801 to produce a step size of  7.007764108659227e-05\n",
      "At iteration  242 The line search took  0.009424448013305664 to produce a step size of  4.119960071950865e-05\n",
      "At iteration  243 The line search took  0.0034716129302978516 to produce a step size of  0.0004344597783997052\n",
      "At iteration  244 The line search took  0.011371612548828125 to produce a step size of  4.4836916391881014e-05\n",
      "At iteration  245 The line search took  0.010903596878051758 to produce a step size of  6.53331514399794e-05\n",
      "At iteration  246 The line search took  0.016872167587280273 to produce a step size of  0.00038503227068108106\n",
      "At iteration  247 The line search took  0.008385658264160156 to produce a step size of  3.410696738160842e-05\n",
      "At iteration  248 The line search took  0.004464626312255859 to produce a step size of  4.501362397388365e-05\n"
     ]
    },
    {
     "name": "stdout",
     "output_type": "stream",
     "text": [
      "At iteration  249 The line search took  0.02231884002685547 to produce a step size of  0.00398636888149892\n",
      "At iteration  250 The line search took  0.05655193328857422 to produce a step size of  6.777220194946822e-05\n",
      "At iteration  251 The line search took  0.0029754638671875 to produce a step size of  1.1998787283119425e-05\n",
      "At iteration  252 The line search took  0.004027843475341797 to produce a step size of  3.9276970810298756e-05\n",
      "At iteration  253 The line search took  0.06051182746887207 to produce a step size of  0.00026335090355105654\n",
      "At iteration  254 The line search took  0.037188053131103516 to produce a step size of  7.14375047574757e-05\n",
      "At iteration  255 The line search took  0.006962776184082031 to produce a step size of  4.291673041405759e-05\n",
      "At iteration  256 The line search took  0.0059773921966552734 to produce a step size of  0.0005102500455046461\n",
      "At iteration  257 The line search took  0.01140737533569336 to produce a step size of  6.86984924632392e-05\n",
      "At iteration  258 The line search took  0.007439851760864258 to produce a step size of  6.614763463202578e-05\n",
      "At iteration  259 The line search took  0.14283990859985352 to produce a step size of  7.077792725816378e-05\n",
      "At iteration  260 The line search took  0.08235955238342285 to produce a step size of  6.893568658045233e-05\n",
      "At iteration  261 The line search took  0.004463911056518555 to produce a step size of  8.099356127280814e-06\n",
      "At iteration  262 The line search took  0.0228121280670166 to produce a step size of  5.656265895008601e-05\n",
      "At iteration  263 The line search took  0.011928558349609375 to produce a step size of  7.227253300987952e-05\n",
      "At iteration  264 The line search took  0.005457401275634766 to produce a step size of  5.594710683824837e-05\n",
      "At iteration  265 The line search took  0.008419036865234375 to produce a step size of  9.010433074825462e-05\n",
      "At iteration  266 The line search took  0.15571212768554688 to produce a step size of  7.092374463208964e-05\n",
      "At iteration  267 The line search took  0.03819155693054199 to produce a step size of  9.557448130294939e-05\n",
      "At iteration  268 The line search took  0.013418197631835938 to produce a step size of  5.814622731595858e-05\n",
      "At iteration  269 The line search took  0.017856121063232422 to produce a step size of  6.678713628930445e-05\n",
      "At iteration  270 The line search took  0.014401435852050781 to produce a step size of  7.027436914479253e-05\n",
      "At iteration  271 The line search took  0.009424448013305664 to produce a step size of  5.957848454692096e-05\n",
      "At iteration  272 The line search took  0.016872406005859375 to produce a step size of  0.00012094873514908405\n",
      "At iteration  273 The line search took  0.02874302864074707 to produce a step size of  5.995032850266513e-05\n",
      "At iteration  274 The line search took  0.03821706771850586 to produce a step size of  0.00013964712104069368\n",
      "At iteration  275 The line search took  0.014358043670654297 to produce a step size of  7.236750122794158e-05\n",
      "At iteration  276 The line search took  0.012895822525024414 to produce a step size of  5.4868014921222824e-05\n",
      "At iteration  277 The line search took  0.006982564926147461 to produce a step size of  3.818056285225138e-05\n",
      "At iteration  278 The line search took  0.002479076385498047 to produce a step size of  0.006706707112022324\n",
      "At iteration  279 The line search took  0.005415439605712891 to produce a step size of  4.470590958432602e-05\n",
      "At iteration  280 The line search took  0.010911941528320312 to produce a step size of  6.347482590362678e-05\n",
      "At iteration  281 The line search took  0.005951642990112305 to produce a step size of  2.301385197271862e-05\n",
      "At iteration  282 The line search took  0.027321338653564453 to produce a step size of  6.507300456404408e-05\n",
      "At iteration  283 The line search took  0.005413055419921875 to produce a step size of  2.6697305912790852e-05\n",
      "At iteration  284 The line search took  0.07142472267150879 to produce a step size of  0.00012971474962843876\n",
      "At iteration  285 The line search took  0.22917985916137695 to produce a step size of  7.173906900079345e-05\n",
      "At iteration  286 The line search took  0.008384466171264648 to produce a step size of  3.059157562625504e-05\n",
      "At iteration  287 The line search took  0.025791645050048828 to produce a step size of  0.00024225432630137095\n",
      "At iteration  288 The line search took  0.007937192916870117 to produce a step size of  2.7370110507921614e-05\n",
      "At iteration  289 The line search took  0.015376567840576172 to produce a step size of  0.00010586379331604124\n",
      "At iteration  290 The line search took  0.0897514820098877 to produce a step size of  7.23828218249282e-05\n",
      "At iteration  291 The line search took  0.013391971588134766 to produce a step size of  0.00010705788302757635\n",
      "At iteration  292 The line search took  0.004464387893676758 to produce a step size of  5.934467008535809e-05\n",
      "At iteration  293 The line search took  0.012399435043334961 to produce a step size of  7.35198583337165e-05\n",
      "At iteration  294 The line search took  0.09123849868774414 to produce a step size of  6.967532145084515e-05\n",
      "At iteration  295 The line search took  0.0019767284393310547 to produce a step size of  2.6298687166958895e-05\n",
      "At iteration  296 The line search took  0.026250839233398438 to produce a step size of  6.310546880941578e-05\n",
      "At iteration  297 The line search took  0.024327516555786133 to produce a step size of  0.0003710957401202935\n",
      "At iteration  298 The line search took  0.009424209594726562 to produce a step size of  7.676968058864345e-05\n",
      "At iteration  299 The line search took  0.012897253036499023 to produce a step size of  5.185592901620527e-05\n",
      "At iteration  300 The line search took  0.014358758926391602 to produce a step size of  7.190700009860023e-05\n",
      "At iteration  301 The line search took  0.018390655517578125 to produce a step size of  0.00013533510711398765\n",
      "At iteration  302 The line search took  0.004012107849121094 to produce a step size of  2.036148731228864e-05\n",
      "At iteration  303 The line search took  0.04311013221740723 to produce a step size of  7.002149001725714e-05\n",
      "At iteration  304 The line search took  0.012398958206176758 to produce a step size of  6.613173104360458e-05\n",
      "At iteration  305 The line search took  0.004960298538208008 to produce a step size of  2.1634748213258308e-05\n",
      "At iteration  306 The line search took  0.02924942970275879 to produce a step size of  0.0005251588292149346\n",
      "At iteration  307 The line search took  0.008431434631347656 to produce a step size of  4.068973367825985e-05\n",
      "At iteration  308 The line search took  0.33774852752685547 to produce a step size of  0.00033826900698473683\n",
      "At iteration  309 The line search took  0.006469249725341797 to produce a step size of  3.317551093939087e-05\n",
      "At iteration  310 The line search took  0.01683664321899414 to produce a step size of  7.439238817217839e-05\n",
      "At iteration  311 The line search took  0.004455089569091797 to produce a step size of  0.0002821828540710841\n",
      "At iteration  312 The line search took  0.01684856414794922 to produce a step size of  7.381636528832122e-05\n",
      "At iteration  313 The line search took  0.002975940704345703 to produce a step size of  8.108134121508034e-07\n",
      "At iteration  314 The line search took  0.07438993453979492 to produce a step size of  7.152227568864368e-05\n",
      "At iteration  315 The line search took  0.04610323905944824 to produce a step size of  6.230722677480477e-05\n",
      "At iteration  316 The line search took  0.005452156066894531 to produce a step size of  1.5612111584176793e-05\n",
      "At iteration  317 The line search took  0.12642359733581543 to produce a step size of  7.044715905209789e-05\n",
      "At iteration  318 The line search took  0.018421411514282227 to produce a step size of  5.535949674010507e-05\n",
      "At iteration  319 The line search took  0.003969430923461914 to produce a step size of  1.8907404819986964e-05\n",
      "At iteration  320 The line search took  0.00548100471496582 to produce a step size of  0.00013638325824961745\n",
      "At iteration  321 The line search took  0.034699440002441406 to produce a step size of  9.223731274416109e-05\n",
      "At iteration  322 The line search took  0.003471851348876953 to produce a step size of  3.823804987671643e-06\n",
      "At iteration  323 The line search took  0.003968477249145508 to produce a step size of  7.551314389981794e-05\n",
      "At iteration  324 The line search took  0.00542449951171875 to produce a step size of  6.142936187240465e-05\n",
      "At iteration  325 The line search took  0.038687705993652344 to produce a step size of  8.375638466189522e-05\n",
      "At iteration  326 The line search took  0.015872478485107422 to produce a step size of  6.737794217575521e-05\n",
      "At iteration  327 The line search took  0.007934808731079102 to produce a step size of  4.793628578733772e-05\n",
      "At iteration  328 The line search took  0.022321224212646484 to produce a step size of  6.845804747769379e-05\n",
      "At iteration  329 The line search took  0.006943464279174805 to produce a step size of  0.0001832790841418381\n",
      "At iteration  330 The line search took  0.0074651241302490234 to produce a step size of  5.432184356474336e-05\n",
      "At iteration  331 The line search took  0.010880708694458008 to produce a step size of  0.00013375286474284325\n",
      "At iteration  332 The line search took  0.008386611938476562 to produce a step size of  6.234367182021709e-05\n"
     ]
    },
    {
     "name": "stdout",
     "output_type": "stream",
     "text": [
      "At iteration  333 The line search took  0.01587224006652832 to produce a step size of  0.00011790730866651546\n",
      "At iteration  334 The line search took  0.018352270126342773 to produce a step size of  6.475114332576933e-05\n",
      "At iteration  335 The line search took  0.008927345275878906 to produce a step size of  2.7442209598803533e-05\n",
      "At iteration  336 The line search took  0.0054814815521240234 to produce a step size of  8.755593221709225e-05\n",
      "At iteration  337 The line search took  0.07787084579467773 to produce a step size of  0.00028181972711655023\n",
      "At iteration  338 The line search took  0.03871440887451172 to produce a step size of  7.070118423624274e-05\n",
      "At iteration  339 The line search took  0.3611130714416504 to produce a step size of  7.293749878203088e-05\n",
      "At iteration  340 The line search took  0.014434337615966797 to produce a step size of  6.459216138176222e-05\n",
      "At iteration  341 The line search took  0.04906487464904785 to produce a step size of  9.088234732471021e-05\n",
      "At iteration  342 The line search took  0.003968000411987305 to produce a step size of  2.1401092767827403e-05\n",
      "At iteration  343 The line search took  0.0059359073638916016 to produce a step size of  2.5905264903037738e-05\n",
      "At iteration  344 The line search took  0.09224724769592285 to produce a step size of  0.00030787283380803824\n",
      "At iteration  345 The line search took  0.11607217788696289 to produce a step size of  6.97582466244508e-05\n",
      "At iteration  346 The line search took  0.08035135269165039 to produce a step size of  6.996153885373018e-05\n",
      "At iteration  347 The line search took  0.0049343109130859375 to produce a step size of  6.595490684338363e-05\n",
      "At iteration  348 The line search took  0.004486799240112305 to produce a step size of  8.883861446006772e-06\n",
      "At iteration  349 The line search took  0.005951881408691406 to produce a step size of  3.4087782485171006e-05\n",
      "At iteration  350 The line search took  0.016358137130737305 to produce a step size of  0.0022054633235425083\n",
      "At iteration  351 The line search took  0.008904457092285156 to produce a step size of  4.5696409895089575e-05\n",
      "At iteration  352 The line search took  0.0173642635345459 to produce a step size of  5.088100347017389e-05\n",
      "At iteration  353 The line search took  0.008928060531616211 to produce a step size of  0.0001131938198369787\n",
      "At iteration  354 The line search took  0.0034716129302978516 to produce a step size of  3.0399344517868266e-05\n",
      "At iteration  355 The line search took  0.0034737586975097656 to produce a step size of  0.0005404355509235311\n",
      "At iteration  356 The line search took  0.011408805847167969 to produce a step size of  5.147980448556874e-05\n",
      "At iteration  357 The line search took  0.10614418983459473 to produce a step size of  7.119482223661305e-05\n",
      "At iteration  358 The line search took  0.06250476837158203 to produce a step size of  7.64430857942902e-05\n",
      "At iteration  359 The line search took  0.014880895614624023 to produce a step size of  6.510675159824491e-05\n",
      "At iteration  360 The line search took  0.019840717315673828 to produce a step size of  6.757720414283199e-05\n",
      "At iteration  361 The line search took  0.004961252212524414 to produce a step size of  6.156298329437074e-06\n",
      "At iteration  362 The line search took  0.3893585205078125 to produce a step size of  8.260141417403455e-05\n",
      "At iteration  363 The line search took  0.03571176528930664 to produce a step size of  5.9469571538485094e-05\n",
      "At iteration  364 The line search took  0.19196867942810059 to produce a step size of  0.00019675382945187795\n",
      "At iteration  365 The line search took  0.010936737060546875 to produce a step size of  7.245736199971395e-05\n",
      "At iteration  366 The line search took  0.005455970764160156 to produce a step size of  1.9228511349562092e-05\n",
      "At iteration  367 The line search took  0.020857810974121094 to produce a step size of  7.577132027655706e-05\n",
      "At iteration  368 The line search took  0.0064487457275390625 to produce a step size of  1.550127555129439e-05\n",
      "At iteration  369 The line search took  0.004464387893676758 to produce a step size of  3.557122053800879e-05\n",
      "At iteration  370 The line search took  0.001984119415283203 to produce a step size of  7.811005527181269e-05\n",
      "At iteration  371 The line search took  0.015387296676635742 to produce a step size of  0.00017929096388947252\n",
      "At iteration  372 The line search took  0.00545501708984375 to produce a step size of  0.0002470112257748361\n",
      "At iteration  373 The line search took  0.0034635066986083984 to produce a step size of  3.1562166616202274e-05\n",
      "At iteration  374 The line search took  0.006424903869628906 to produce a step size of  4.6896535140917954e-05\n",
      "At iteration  375 The line search took  0.006450176239013672 to produce a step size of  0.005213895509399612\n",
      "At iteration  376 The line search took  0.0352175235748291 to produce a step size of  6.158236666482428e-05\n",
      "At iteration  377 The line search took  0.011408567428588867 to produce a step size of  7.313919666609726e-05\n",
      "At iteration  378 The line search took  0.025292634963989258 to produce a step size of  7.126363758584389e-05\n",
      "At iteration  379 The line search took  0.009946107864379883 to produce a step size of  4.461468424155682e-05\n",
      "At iteration  380 The line search took  0.03476238250732422 to produce a step size of  6.786019834071514e-05\n",
      "At iteration  381 The line search took  0.008431196212768555 to produce a step size of  6.014647716082754e-05\n",
      "At iteration  382 The line search took  0.0024797916412353516 to produce a step size of  1.9769416628103263e-05\n",
      "At iteration  383 The line search took  0.0054361820220947266 to produce a step size of  1.626884989343721e-05\n",
      "At iteration  384 The line search took  0.003962516784667969 to produce a step size of  0.0005865099654348021\n",
      "At iteration  385 The line search took  0.010415792465209961 to produce a step size of  4.258770623877906e-05\n",
      "At iteration  386 The line search took  0.019343852996826172 to produce a step size of  0.0003271516536334043\n",
      "At iteration  387 The line search took  0.008893966674804688 to produce a step size of  3.78762300081735e-05\n",
      "At iteration  388 The line search took  0.017717838287353516 to produce a step size of  0.0025219520444319365\n",
      "At iteration  389 The line search took  0.05654454231262207 to produce a step size of  6.802584757717541e-05\n",
      "At iteration  390 The line search took  0.048623085021972656 to produce a step size of  7.182817112440156e-05\n",
      "At iteration  391 The line search took  0.0044519901275634766 to produce a step size of  5.452876917663573e-05\n",
      "At iteration  392 The line search took  0.08783268928527832 to produce a step size of  0.00017184278005369\n",
      "At iteration  393 The line search took  0.012896299362182617 to produce a step size of  4.7298953391204464e-05\n",
      "At iteration  394 The line search took  0.004475593566894531 to produce a step size of  3.5840929406697276e-05\n",
      "At iteration  395 The line search took  0.005412578582763672 to produce a step size of  0.00212944031427593\n",
      "At iteration  396 The line search took  0.028769493103027344 to produce a step size of  6.428687488897951e-05\n",
      "At iteration  397 The line search took  5.330016136169434 to produce a step size of  0.00016262051548947422\n",
      "At iteration  398 The line search took  0.08236169815063477 to produce a step size of  7.094289507109232e-05\n",
      "At iteration  399 The line search took  0.0034656524658203125 to produce a step size of  5.236972193983429e-05\n",
      "At iteration  400 The line search took  0.03323197364807129 to produce a step size of  6.727835430067847e-05\n",
      "At iteration  401 The line search took  0.004477024078369141 to produce a step size of  4.274043880442466e-05\n",
      "At iteration  402 The line search took  0.11504697799682617 to produce a step size of  0.0005142037066037704\n",
      "At iteration  403 The line search took  0.05257582664489746 to produce a step size of  6.850374523216434e-05\n",
      "At iteration  404 The line search took  0.006943702697753906 to produce a step size of  6.495466717252e-05\n",
      "At iteration  405 The line search took  0.020360946655273438 to produce a step size of  6.930308542483512e-05\n",
      "At iteration  406 The line search took  0.007963418960571289 to produce a step size of  2.3643053235093922e-05\n",
      "At iteration  407 The line search took  0.018854379653930664 to produce a step size of  0.0001382553432668374\n",
      "At iteration  408 The line search took  0.011417627334594727 to produce a step size of  6.894422519016538e-05\n",
      "At iteration  409 The line search took  0.02331233024597168 to produce a step size of  5.196661649996927e-05\n",
      "At iteration  410 The line search took  0.015337705612182617 to produce a step size of  4.409777756464967e-05\n",
      "At iteration  411 The line search took  0.004510402679443359 to produce a step size of  0.00040348048204513315\n",
      "At iteration  412 The line search took  0.006919384002685547 to produce a step size of  7.166641337822332e-05\n",
      "At iteration  413 The line search took  0.03277277946472168 to produce a step size of  0.00017407470203195798\n",
      "At iteration  414 The line search took  0.02333378791809082 to produce a step size of  6.0864220421321744e-05\n"
     ]
    },
    {
     "name": "stdout",
     "output_type": "stream",
     "text": [
      "At iteration  415 The line search took  0.21274781227111816 to produce a step size of  7.216588466446806e-05\n",
      "At iteration  416 The line search took  0.06298375129699707 to produce a step size of  7.538908735984457e-05\n",
      "At iteration  417 The line search took  0.10219407081604004 to produce a step size of  7.057420675191856e-05\n",
      "At iteration  418 The line search took  0.020778894424438477 to produce a step size of  6.923516738709489e-05\n",
      "At iteration  419 The line search took  0.0029747486114501953 to produce a step size of  4.7937920986038584e-05\n",
      "At iteration  420 The line search took  0.0054819583892822266 to produce a step size of  9.524547418882863e-06\n",
      "At iteration  421 The line search took  0.005476713180541992 to produce a step size of  2.3716420255138054e-05\n",
      "At iteration  422 The line search took  0.004415273666381836 to produce a step size of  0.00018891979893521807\n",
      "At iteration  423 The line search took  0.028234243392944336 to produce a step size of  0.0001675031577994075\n",
      "At iteration  424 The line search took  0.00746464729309082 to produce a step size of  1.571639386762307e-05\n",
      "At iteration  425 The line search took  0.007897377014160156 to produce a step size of  4.6037693358116716e-05\n",
      "At iteration  426 The line search took  0.06941366195678711 to produce a step size of  0.00014432121314392784\n",
      "At iteration  427 The line search took  0.10065150260925293 to produce a step size of  0.00010128216362505312\n",
      "At iteration  428 The line search took  0.02132892608642578 to produce a step size of  6.972512782074448e-05\n",
      "At iteration  429 The line search took  0.005456686019897461 to produce a step size of  6.99883368951318e-06\n",
      "At iteration  430 The line search took  0.009919881820678711 to produce a step size of  6.563126314907392e-05\n",
      "At iteration  431 The line search took  0.006943702697753906 to produce a step size of  6.418274519119424e-05\n",
      "At iteration  432 The line search took  0.014878511428833008 to produce a step size of  0.00010375120693356439\n",
      "At iteration  433 The line search took  0.005949974060058594 to produce a step size of  4.931661588002991e-05\n",
      "At iteration  434 The line search took  0.005937814712524414 to produce a step size of  0.00030964072167416056\n",
      "At iteration  435 The line search took  0.035712242126464844 to produce a step size of  6.406798108486397e-05\n",
      "At iteration  436 The line search took  0.024311542510986328 to produce a step size of  0.00011252015478080097\n",
      "At iteration  437 The line search took  0.030255794525146484 to produce a step size of  7.225617825513431e-05\n",
      "At iteration  438 The line search took  0.004951000213623047 to produce a step size of  1.589592609344918e-05\n",
      "At iteration  439 The line search took  0.6066038608551025 to produce a step size of  7.653558780052635e-05\n",
      "At iteration  440 The line search took  0.034696102142333984 to produce a step size of  6.654203688669196e-05\n",
      "At iteration  441 The line search took  0.009452342987060547 to produce a step size of  8.961163177232553e-05\n",
      "At iteration  442 The line search took  0.014384269714355469 to produce a step size of  6.626262227558169e-05\n",
      "At iteration  443 The line search took  0.014881134033203125 to produce a step size of  5.23451890854771e-05\n",
      "At iteration  444 The line search took  0.23160552978515625 to produce a step size of  0.0001181058154097396\n",
      "At iteration  445 The line search took  0.005976438522338867 to produce a step size of  4.980194191309668e-05\n",
      "At iteration  446 The line search took  0.010410547256469727 to produce a step size of  0.0002259481658406419\n",
      "At iteration  447 The line search took  0.004414558410644531 to produce a step size of  4.760702234011652e-05\n",
      "At iteration  448 The line search took  0.0252840518951416 to produce a step size of  6.749533696689056e-05\n",
      "At iteration  449 The line search took  0.09918427467346191 to produce a step size of  0.00020525150019462646\n",
      "At iteration  450 The line search took  0.019345998764038086 to produce a step size of  6.816796142864042e-05\n",
      "At iteration  451 The line search took  0.00746917724609375 to produce a step size of  1.9898865071857563e-05\n",
      "At iteration  452 The line search took  0.005457162857055664 to produce a step size of  2.0423471887038817e-05\n",
      "At iteration  453 The line search took  0.0059528350830078125 to produce a step size of  6.685247835619826e-05\n",
      "At iteration  454 The line search took  0.005951881408691406 to produce a step size of  4.610489793474388e-05\n",
      "At iteration  455 The line search took  0.06054854393005371 to produce a step size of  0.0006304512552967371\n",
      "At iteration  456 The line search took  0.05258917808532715 to produce a step size of  7.172961904463247e-05\n",
      "At iteration  457 The line search took  0.03866314888000488 to produce a step size of  7.277855374325153e-05\n",
      "At iteration  458 The line search took  0.010424137115478516 to produce a step size of  4.000118661231256e-05\n",
      "At iteration  459 The line search took  0.02529597282409668 to produce a step size of  0.0007202873499459371\n",
      "At iteration  460 The line search took  0.24847149848937988 to produce a step size of  8.470127287188388e-05\n",
      "At iteration  461 The line search took  0.010415792465209961 to produce a step size of  4.9967254431844514e-05\n",
      "At iteration  462 The line search took  0.04166531562805176 to produce a step size of  7.265253146749588e-05\n",
      "At iteration  463 The line search took  0.016366004943847656 to produce a step size of  5.7693070546869675e-05\n",
      "At iteration  464 The line search took  0.014363288879394531 to produce a step size of  9.669575870055339e-05\n",
      "At iteration  465 The line search took  0.02528095245361328 to produce a step size of  5.070418599300119e-05\n",
      "At iteration  466 The line search took  0.0034742355346679688 to produce a step size of  5.863595320832513e-05\n",
      "At iteration  467 The line search took  0.004464387893676758 to produce a step size of  0.0004192338314918589\n",
      "At iteration  468 The line search took  0.010391950607299805 to produce a step size of  3.8488672753797916e-05\n",
      "At iteration  469 The line search took  0.00498509407043457 to produce a step size of  2.5527014736842143e-05\n",
      "At iteration  470 The line search took  0.006439685821533203 to produce a step size of  4.629069002515115e-05\n",
      "At iteration  471 The line search took  0.0074231624603271484 to produce a step size of  0.0013179205457376705\n"
     ]
    }
   ],
   "source": [
    "\n",
    "current = time.time()\n",
    "X = []\n",
    "# L = np.max(np.linalg.svd(np.matmul(A,np.array(A).transpose()))[1])\n",
    "# lamb = 1/L\n",
    "x = xVec\n",
    "count = 1\n",
    "lamb = Line(x,f,f_grad)\n",
    "step_size_list = [lamb]\n",
    "gr2 = []\n",
    "\n",
    "while np.linalg.norm(f_grad(x)) > 1e-6:\n",
    "    x1 = GD(x,lamb,f_grad)\n",
    "    x = x1\n",
    "    X.append(f(x))\n",
    "    gr2.append(np.linalg.norm(f_grad(x)))\n",
    "    count += 1\n",
    "    lamb = Line(x,f,f_grad)\n",
    "    step_size_list.append(lamb)\n",
    "#     if time.time() - current > 30:\n",
    "#         break\n",
    "#     print('x= ', x)\n",
    "#     print('lambda', lamb)\n"
   ]
  },
  {
   "cell_type": "code",
   "execution_count": 50,
   "metadata": {},
   "outputs": [
    {
     "name": "stdout",
     "output_type": "stream",
     "text": [
      "----------------------\n"
     ]
    },
    {
     "data": {
      "image/png": "[encoded data removed]",
      "text/plain": [
       "<Figure size 432x288 with 1 Axes>"
      ]
     },
     "metadata": {
      "needs_background": "light"
     },
     "output_type": "display_data"
    },
    {
     "name": "stdout",
     "output_type": "stream",
     "text": [
      "X: [1.49905617 8.80689009]\n",
      "Gradient: [-6.05874821e-07 -1.80028586e-07]\n",
      "Iterations: 471\n",
      "Time taken: 27.61085867881775\n",
      "Lambda:  0.0013179205457376705\n"
     ]
    }
   ],
   "source": [
    "print('----------------------')\n",
    "# plt.plot(range(len(gr2)), gr2)\n",
    "plt.plot(range(len(step_size_list)), step_size_list)\n",
    "plt.yscale('log')\n",
    "plt.show()\n",
    "print('X:', x)\n",
    "print('Gradient:', f_grad(x))\n",
    "print('Iterations:', count)\n",
    "print('Time taken:', time.time() - current)\n",
    "print('Lambda: ', lamb)"
   ]
  },
  {
   "cell_type": "code",
   "execution_count": 51,
   "metadata": {},
   "outputs": [
    {
     "data": {
      "image/png": "[encoded data removed]",
      "text/plain": [
       "<Figure size 432x288 with 1 Axes>"
      ]
     },
     "metadata": {
      "needs_background": "light"
     },
     "output_type": "display_data"
    }
   ],
   "source": [
    "plt.plot(range(len(gr2)), gr2)\n",
    "plt.yscale('log')\n",
    "plt.show()"
   ]
  },
  {
   "cell_type": "code",
   "execution_count": 52,
   "metadata": {},
   "outputs": [
    {
     "data": {
      "text/plain": [
       "6.320558439496658e-07"
      ]
     },
     "execution_count": 52,
     "metadata": {},
     "output_type": "execute_result"
    }
   ],
   "source": [
    "gr2[-1]"
   ]
  },
  {
   "cell_type": "code",
   "execution_count": null,
   "metadata": {},
   "outputs": [],
   "source": []
  },
  {
   "cell_type": "code",
   "execution_count": null,
   "metadata": {},
   "outputs": [],
   "source": []
  },
  {
   "cell_type": "code",
   "execution_count": null,
   "metadata": {},
   "outputs": [],
   "source": []
  },
  {
   "cell_type": "code",
   "execution_count": null,
   "metadata": {},
   "outputs": [],
   "source": []
  },
  {
   "cell_type": "code",
   "execution_count": null,
   "metadata": {},
   "outputs": [],
   "source": []
  },
  {
   "cell_type": "markdown",
   "metadata": {},
   "source": [
    "Previous version"
   ]
  },
  {
   "cell_type": "code",
   "execution_count": null,
   "metadata": {},
   "outputs": [],
   "source": []
  },
  {
   "cell_type": "markdown",
   "metadata": {},
   "source": [
    "## Backtracking Line Search"
   ]
  },
  {
   "cell_type": "code",
   "execution_count": 13,
   "metadata": {},
   "outputs": [],
   "source": [
    "def Line(x,f,f_grad):\n",
    "    line_time = time.time()\n",
    "    rho = random.random() + 1e-20\n",
    "    c = random.random() + 1e-20\n",
    "    alph = 1\n",
    "#     gold_1 = \n",
    "#     gold_2\n",
    "    while f(x - alph*f_grad(x)) > f(x) - c*alph*np.linalg.norm(f_grad(x))**2:\n",
    "#         print('LHS: ', f(x - alph*f_grad(x)))\n",
    "#         print('RHS: ', f(x) - c*alph*np.linalg.norm(f_grad(x))**2)\n",
    "        ## is norm the right move here?\n",
    "        alph = rho*alph\n",
    "#     print('Alpha:', alph)\n",
    "    print('At iteration ', count, 'The line search took ', \\\n",
    "          time.time() - line_time , 'to produce a step size of ', alph)    \n",
    "    return alph\n",
    "    "
   ]
  },
  {
   "cell_type": "code",
   "execution_count": 14,
   "metadata": {},
   "outputs": [
    {
     "name": "stdout",
     "output_type": "stream",
     "text": [
      "At iteration  1 The line search took  0.006941795349121094 to produce a step size of  3.420440928848516e-05\n",
      "At iteration  2 The line search took  0.006448030471801758 to produce a step size of  5.277655214384802e-05\n",
      "At iteration  3 The line search took  0.023311614990234375 to produce a step size of  0.0002556200354366343\n",
      "At iteration  4 The line search took  0.03571677207946777 to produce a step size of  3.226821620119023e-05\n",
      "At iteration  5 The line search took  0.008437633514404297 to produce a step size of  0.0001295298474362168\n",
      "At iteration  6 The line search took  0.002477884292602539 to produce a step size of  6.157910105486619e-05\n",
      "At iteration  7 The line search took  0.005918025970458984 to produce a step size of  5.1747571397454645e-05\n",
      "At iteration  8 The line search took  0.0059680938720703125 to produce a step size of  0.0005781165555180079\n",
      "At iteration  9 The line search took  0.003471851348876953 to produce a step size of  4.944005591310247e-06\n",
      "At iteration  10 The line search took  0.021821975708007812 to produce a step size of  2.3548704582223788e-05\n",
      "At iteration  11 The line search took  0.007976293563842773 to produce a step size of  1.967269511368289e-05\n",
      "At iteration  12 The line search took  0.00644683837890625 to produce a step size of  9.351344348881605e-05\n",
      "At iteration  13 The line search took  0.003965616226196289 to produce a step size of  7.740162826414316e-06\n",
      "At iteration  14 The line search took  0.03075385093688965 to produce a step size of  8.920641456449527e-05\n",
      "At iteration  15 The line search took  0.00739741325378418 to produce a step size of  6.932780410429892e-05\n",
      "At iteration  16 The line search took  0.0069942474365234375 to produce a step size of  7.814283356971155e-05\n",
      "At iteration  17 The line search took  0.009377479553222656 to produce a step size of  5.315711299014954e-07\n",
      "At iteration  18 The line search took  0.24604082107543945 to produce a step size of  2.111877546362255e-05\n",
      "At iteration  19 The line search took  0.00446319580078125 to produce a step size of  4.4495491941651254e-05\n",
      "At iteration  20 The line search took  0.030231952667236328 to produce a step size of  0.0003388195321595467\n",
      "At iteration  21 The line search took  0.007970333099365234 to produce a step size of  3.249835689778071e-05\n",
      "At iteration  22 The line search took  0.002975940704345703 to produce a step size of  0.001190218331261796\n",
      "At iteration  23 The line search took  0.007431507110595703 to produce a step size of  2.7087371810068485e-05\n",
      "At iteration  24 The line search took  0.020335912704467773 to produce a step size of  9.474017572761878e-05\n",
      "At iteration  25 The line search took  0.002974987030029297 to produce a step size of  2.2274709480659593e-05\n",
      "At iteration  26 The line search took  0.002969980239868164 to produce a step size of  9.266388551028534e-06\n",
      "At iteration  27 The line search took  0.0029273033142089844 to produce a step size of  0.00014377640928042433\n",
      "At iteration  28 The line search took  0.0024814605712890625 to produce a step size of  8.39556306450999e-05\n",
      "At iteration  29 The line search took  0.005456209182739258 to produce a step size of  4.221233722716914e-05\n",
      "At iteration  30 The line search took  0.014393091201782227 to produce a step size of  0.0005550048228767381\n",
      "At iteration  31 The line search took  0.024799585342407227 to produce a step size of  1.9058156503814234e-05\n",
      "At iteration  32 The line search took  0.00396728515625 to produce a step size of  5.606968577999781e-05\n",
      "At iteration  33 The line search took  0.015902280807495117 to produce a step size of  0.0001129085303021169\n",
      "At iteration  34 The line search took  0.00940251350402832 to produce a step size of  2.00303722809604e-06\n",
      "At iteration  35 The line search took  0.0030052661895751953 to produce a step size of  2.6721330373677367e-05\n",
      "At iteration  36 The line search took  0.011905431747436523 to produce a step size of  0.00016729318670296654\n",
      "At iteration  37 The line search took  0.02974987030029297 to produce a step size of  1.843319321883183e-05\n",
      "At iteration  38 The line search took  0.003000497817993164 to produce a step size of  1.6559412839447156e-05\n",
      "At iteration  39 The line search took  0.019822359085083008 to produce a step size of  0.00011692700110560216\n",
      "At iteration  40 The line search took  0.017377853393554688 to produce a step size of  5.3155341450115905e-05\n",
      "At iteration  41 The line search took  0.060538291931152344 to produce a step size of  0.00025082137967599456\n",
      "At iteration  42 The line search took  0.08627939224243164 to produce a step size of  2.7413697885619035e-05\n",
      "At iteration  43 The line search took  0.004464864730834961 to produce a step size of  4.701283898564183e-05\n",
      "At iteration  44 The line search took  0.0044651031494140625 to produce a step size of  0.0005271234262254821\n",
      "At iteration  45 The line search took  0.005456447601318359 to produce a step size of  6.192289141195274e-05\n",
      "At iteration  46 The line search took  0.004479169845581055 to produce a step size of  2.581554660786818e-05\n",
      "At iteration  47 The line search took  0.037195444107055664 to produce a step size of  0.00018305824237487814\n",
      "At iteration  48 The line search took  0.003471851348876953 to produce a step size of  4.150059472655522e-05\n",
      "At iteration  49 The line search took  0.05355978012084961 to produce a step size of  8.128014845699903e-06\n",
      "At iteration  50 The line search took  0.009423255920410156 to produce a step size of  0.00045168869358531164\n",
      "At iteration  51 The line search took  0.017333507537841797 to produce a step size of  5.926074264226471e-05\n",
      "At iteration  52 The line search took  0.02926325798034668 to produce a step size of  7.459203231417337e-05\n",
      "At iteration  53 The line search took  0.07591414451599121 to produce a step size of  4.2878797754855155e-05\n",
      "At iteration  54 The line search took  0.014882087707519531 to produce a step size of  0.000363156826938708\n",
      "At iteration  55 The line search took  0.003968000411987305 to produce a step size of  3.586000310193066e-05\n",
      "At iteration  56 The line search took  0.0074405670166015625 to produce a step size of  0.0026035876721730903\n",
      "At iteration  57 The line search took  0.0034720897674560547 to produce a step size of  3.124497553313286e-07\n",
      "At iteration  58 The line search took  0.11904096603393555 to produce a step size of  3.891266930752768e-05\n",
      "At iteration  59 The line search took  0.013888835906982422 to produce a step size of  8.740265716448588e-05\n",
      "At iteration  60 The line search took  0.043622493743896484 to produce a step size of  7.724556525503605e-05\n",
      "At iteration  61 The line search took  0.036221981048583984 to produce a step size of  5.718283364092979e-05\n",
      "At iteration  62 The line search took  0.006447315216064453 to produce a step size of  5.8997524945945136e-05\n",
      "At iteration  63 The line search took  0.014400959014892578 to produce a step size of  0.0002822911533953273\n",
      "At iteration  64 The line search took  0.0461273193359375 to produce a step size of  6.630337270669348e-05\n",
      "At iteration  65 The line search took  0.010416269302368164 to produce a step size of  1.2113002261448682e-05\n",
      "At iteration  66 The line search took  0.10809206962585449 to produce a step size of  8.914461879671774e-05\n",
      "At iteration  67 The line search took  0.0039424896240234375 to produce a step size of  1.3071371679174883e-06\n",
      "At iteration  68 The line search took  0.008432388305664062 to produce a step size of  2.1339702217732987e-05\n",
      "At iteration  69 The line search took  0.07588052749633789 to produce a step size of  6.0623363901781334e-05\n",
      "At iteration  70 The line search took  0.0029761791229248047 to produce a step size of  8.269180324643984e-06\n",
      "At iteration  71 The line search took  0.008959531784057617 to produce a step size of  1.1084339555670626e-06\n",
      "At iteration  72 The line search took  0.0023818016052246094 to produce a step size of  6.768070444372914e-05\n",
      "At iteration  73 The line search took  0.004465579986572266 to produce a step size of  0.00023074767789983146\n",
      "At iteration  74 The line search took  0.00843191146850586 to produce a step size of  3.2370304952974334e-05\n",
      "At iteration  75 The line search took  0.09722423553466797 to produce a step size of  0.00036290832765968075\n",
      "At iteration  76 The line search took  39.93801307678223 to produce a step size of  1.4527785798554467e-05\n"
     ]
    }
   ],
   "source": [
    "\n",
    "current = time.time()\n",
    "X = []\n",
    "# L = np.max(np.linalg.svd(np.matmul(A,np.array(A).transpose()))[1])\n",
    "# lamb = 1/L\n",
    "x = xVec\n",
    "count = 1\n",
    "lamb = Line(x,f,f_grad)\n",
    "step_size_list = [lamb]\n",
    "gr2 = []\n",
    "\n",
    "while np.linalg.norm(f_grad(x)) > 1e-6:\n",
    "    x1 = GD(x,lamb,f_grad)\n",
    "    x = x1\n",
    "    X.append(f(x))\n",
    "    gr2.append(np.linalg.norm(f_grad(x)))\n",
    "    count += 1\n",
    "    lamb = Line(x,f,f_grad)\n",
    "    step_size_list.append(lamb)\n",
    "    if time.time() - current > 15:\n",
    "        break\n",
    "#     print('x= ', x)\n",
    "#     print('lambda', lamb)\n"
   ]
  },
  {
   "cell_type": "code",
   "execution_count": 15,
   "metadata": {},
   "outputs": [
    {
     "name": "stdout",
     "output_type": "stream",
     "text": [
      "----------------------\n"
     ]
    },
    {
     "data": {
      "image/png": "[encoded data removed]",
      "text/plain": [
       "<Figure size 432x288 with 1 Axes>"
      ]
     },
     "metadata": {
      "needs_background": "light"
     },
     "output_type": "display_data"
    },
    {
     "name": "stdout",
     "output_type": "stream",
     "text": [
      "X: [1.52069362 8.79922846]\n",
      "Gradient: [ 1.32563934 -7.33779044]\n",
      "Iterations: 76\n",
      "Time taken: 66.88159251213074\n",
      "Lambda:  1.4527785798554467e-05\n"
     ]
    }
   ],
   "source": [
    "print('----------------------')\n",
    "# plt.plot(range(len(gr2)), gr2)\n",
    "plt.plot(range(len(step_size_list)), step_size_list)\n",
    "plt.yscale('log')\n",
    "plt.show()\n",
    "print('X:', x)\n",
    "print('Gradient:', f_grad(x))\n",
    "print('Iterations:', count)\n",
    "print('Time taken:', time.time() - current)\n",
    "print('Lambda: ', lamb)"
   ]
  },
  {
   "cell_type": "code",
   "execution_count": 16,
   "metadata": {},
   "outputs": [
    {
     "data": {
      "image/png": "[encoded data removed]",
      "text/plain": [
       "<Figure size 432x288 with 1 Axes>"
      ]
     },
     "metadata": {
      "needs_background": "light"
     },
     "output_type": "display_data"
    }
   ],
   "source": [
    "plt.plot(range(len(gr2)), gr2)\n",
    "plt.yscale('log')\n",
    "plt.show()"
   ]
  },
  {
   "cell_type": "code",
   "execution_count": null,
   "metadata": {},
   "outputs": [],
   "source": []
  },
  {
   "cell_type": "code",
   "execution_count": null,
   "metadata": {},
   "outputs": [],
   "source": []
  },
  {
   "cell_type": "code",
   "execution_count": null,
   "metadata": {},
   "outputs": [],
   "source": []
  },
  {
   "cell_type": "code",
   "execution_count": null,
   "metadata": {},
   "outputs": [],
   "source": []
  },
  {
   "cell_type": "code",
   "execution_count": null,
   "metadata": {},
   "outputs": [],
   "source": []
  },
  {
   "cell_type": "code",
   "execution_count": null,
   "metadata": {},
   "outputs": [],
   "source": []
  },
  {
   "cell_type": "code",
   "execution_count": 27,
   "metadata": {},
   "outputs": [
    {
     "data": {
      "image/png": "[encoded data removed]",
      "text/plain": [
       "<Figure size 432x288 with 1 Axes>"
      ]
     },
     "metadata": {
      "needs_background": "light"
     },
     "output_type": "display_data"
    }
   ],
   "source": [
    "plt.plot(range(len(alph_list[980:985])), alph_list[980:985])\n",
    "plt.yscale('log')\n",
    "plt.show()"
   ]
  },
  {
   "cell_type": "code",
   "execution_count": 28,
   "metadata": {},
   "outputs": [
    {
     "data": {
      "text/plain": [
       "[0.000124243498823773,\n",
       " 7.947003602983226e-05,\n",
       " 5.4876861112153264e-05,\n",
       " 5.486364366084622e-05,\n",
       " 5.486364366084622e-05]"
      ]
     },
     "execution_count": 28,
     "metadata": {},
     "output_type": "execute_result"
    }
   ],
   "source": [
    "gr2[980:985]"
   ]
  },
  {
   "cell_type": "code",
   "execution_count": 29,
   "metadata": {},
   "outputs": [
    {
     "data": {
      "text/plain": [
       "[572.460347914123,\n",
       " 572.4603479141225,\n",
       " 572.4603479141222,\n",
       " 572.4603479141222,\n",
       " 572.4603479141222]"
      ]
     },
     "execution_count": 29,
     "metadata": {},
     "output_type": "execute_result"
    }
   ],
   "source": [
    "X[980:985]"
   ]
  },
  {
   "cell_type": "code",
   "execution_count": 32,
   "metadata": {},
   "outputs": [
    {
     "data": {
      "image/png": "[encoded data removed]",
      "text/plain": [
       "<Figure size 432x288 with 1 Axes>"
      ]
     },
     "metadata": {
      "needs_background": "light"
     },
     "output_type": "display_data"
    }
   ],
   "source": [
    "plt.plot(range(len(X[:500])), X[:500])\n",
    "plt.yscale('log')\n",
    "plt.show()"
   ]
  },
  {
   "cell_type": "code",
   "execution_count": null,
   "metadata": {},
   "outputs": [],
   "source": []
  },
  {
   "cell_type": "code",
   "execution_count": null,
   "metadata": {},
   "outputs": [],
   "source": []
  },
  {
   "cell_type": "code",
   "execution_count": null,
   "metadata": {},
   "outputs": [],
   "source": []
  },
  {
   "cell_type": "code",
   "execution_count": null,
   "metadata": {},
   "outputs": [],
   "source": []
  },
  {
   "cell_type": "code",
   "execution_count": null,
   "metadata": {},
   "outputs": [],
   "source": []
  },
  {
   "cell_type": "code",
   "execution_count": null,
   "metadata": {},
   "outputs": [],
   "source": []
  },
  {
   "cell_type": "code",
   "execution_count": null,
   "metadata": {},
   "outputs": [],
   "source": []
  },
  {
   "cell_type": "code",
   "execution_count": null,
   "metadata": {},
   "outputs": [],
   "source": []
  },
  {
   "cell_type": "code",
   "execution_count": null,
   "metadata": {},
   "outputs": [],
   "source": []
  },
  {
   "cell_type": "code",
   "execution_count": null,
   "metadata": {},
   "outputs": [],
   "source": []
  },
  {
   "cell_type": "markdown",
   "metadata": {},
   "source": [
    "### Vanilla Gradient Descent"
   ]
  },
  {
   "cell_type": "code",
   "execution_count": 22,
   "metadata": {},
   "outputs": [],
   "source": [
    "L = np.max(np.linalg.svd(np.matmul(A,np.array(A).transpose()))[1])"
   ]
  },
  {
   "cell_type": "code",
   "execution_count": 23,
   "metadata": {},
   "outputs": [
    {
     "data": {
      "text/plain": [
       "30051.721100578787"
      ]
     },
     "execution_count": 23,
     "metadata": {},
     "output_type": "execute_result"
    }
   ],
   "source": [
    "L"
   ]
  },
  {
   "cell_type": "code",
   "execution_count": 25,
   "metadata": {
    "scrolled": true
   },
   "outputs": [
    {
     "name": "stdout",
     "output_type": "stream",
     "text": [
      "----------------------\n"
     ]
    },
    {
     "data": {
      "image/png": "[encoded data removed]",
      "text/plain": [
       "<Figure size 432x288 with 1 Axes>"
      ]
     },
     "metadata": {
      "needs_background": "light"
     },
     "output_type": "display_data"
    },
    {
     "name": "stdout",
     "output_type": "stream",
     "text": [
      "X: [2.97696038 8.03044321]\n",
      "Gradient: [-9.42288779e-07  3.21379105e-07]\n",
      "Iterations: 2523\n",
      "Time taken: 2.5663037300109863\n",
      "Lambda:  3.3275964350033194e-05\n"
     ]
    }
   ],
   "source": [
    "current = time.time()\n",
    "X = []\n",
    "L = np.max(np.linalg.svd(np.matmul(A,np.array(A).transpose()))[1])\n",
    "lamb = 1/L\n",
    "x = xVec\n",
    "gr = []\n",
    "count = 1\n",
    "while np.linalg.norm(f_grad(x)) > 1e-6:\n",
    "    x1 = GD(x,lamb,f_grad)\n",
    "    x = x1\n",
    "    X.append(f(x))\n",
    "    gr.append(np.linalg.norm(f_grad(x)))\n",
    "    count += 1\n",
    "print('----------------------')\n",
    "plt.plot(range(len(gr)), gr, c='g')\n",
    "plt.yscale('log')\n",
    "plt.title(label = 'Norm of Gradient')\n",
    "plt.show()\n",
    "print('X:', x)\n",
    "print('Gradient:', f_grad(x))\n",
    "print('Iterations:', count)\n",
    "print('Time taken:', time.time() - current)\n",
    "print('Lambda: ', lamb)"
   ]
  },
  {
   "cell_type": "markdown",
   "metadata": {},
   "source": [
    "Adaptive Gradient Descent"
   ]
  },
  {
   "cell_type": "code",
   "execution_count": 28,
   "metadata": {},
   "outputs": [
    {
     "name": "stdout",
     "output_type": "stream",
     "text": [
      "----------------------\n",
      "x value [2.97696039 8.03044321]\n",
      "Gradient [ 8.43805026e-11 -4.51336746e-11]\n",
      "Iterations: 1492\n",
      "Time taken: 1.6229116916656494\n",
      "Lambda:  [0.14662867626418408, 1.676633104211331e-05, 1.6637987374467706e-05, 1.7202211627091162e-05, 1.92114811118082e-05, 0.00011819078521288929, 0.0003205181531516811, 0.00020902364502613807, 0.00012146543096276834, 7.928894413074248e-05, 4.665966855210577e-05, 6.468348740012828e-05]\n"
     ]
    },
    {
     "data": {
      "image/png": "[encoded data removed]",
      "text/plain": [
       "<Figure size 432x288 with 1 Axes>"
      ]
     },
     "metadata": {
      "needs_background": "light"
     },
     "output_type": "display_data"
    }
   ],
   "source": [
    "current = time.time()\n",
    "X =[]\n",
    "lam = random.random()\n",
    "# print('lambda initial: ',lam)\n",
    "Lambd = [lam]\n",
    "theta = 100000\n",
    "# print('theta intial:', theta)\n",
    "x = xVec\n",
    "# print('x intial:', x)\n",
    "x1 = GD(x,lam,f_grad)\n",
    "# print('x1 intial:', x1)\n",
    "gr2 = []\n",
    "count =1\n",
    "while np.linalg.norm(f_grad(x1)) > 1e-10:\n",
    "    lam_prev = lam\n",
    "    min1 = np.sqrt(1 + theta)*lam\n",
    "    min2 = (np.linalg.norm(x1 - x))/(2*np.linalg.norm(f_grad(x1) - f_grad(x)))\n",
    "#     print('min1:', min1)\n",
    "#     print('min2:', min2)\n",
    "    lam = np.min([min1, min2])\n",
    "#     print('lambda: ',lam)\n",
    "    Lambd.append(lam)\n",
    "    temp = x1\n",
    "    x1 = GD(x1, lam, f_grad)\n",
    "#     print('x1:', x1)\n",
    "    x = temp\n",
    "#     print('x:', x)\n",
    "    theta = (lam/lam_prev)\n",
    "#     print('theta:', theta)\n",
    "    count += 1\n",
    "    grad = np.linalg.norm(f_grad(x1))\n",
    "#     print('Gradient Norm:', grad)\n",
    "    gr2.append(grad)\n",
    "print('----------------------')\n",
    "plt.plot(range(len(gr2)) , gr2)\n",
    "plt.yscale('log')\n",
    "# plt.plot(range(10), gr2[:10], c='g')\n",
    "# plt.title(label = 'Norm of Gradient: [0,10]')\n",
    "# plt.show()\n",
    "# plt.plot(range(11,50), gr2[11:50], c='g')\n",
    "# plt.title(label = 'Norm of Gradient: [11,50]')\n",
    "# plt.show()\n",
    "# plt.plot(range(51,100), gr2[51:100], c='g')\n",
    "# plt.title(label = 'Norm of Gradient: [51,100]')\n",
    "# plt.show()\n",
    "# plt.plot(range(101,600), gr2[101:600], c='g')\n",
    "# plt.title(label = 'Norm of Gradient: [101,600]')\n",
    "# plt.show()\n",
    "# plt.plot(range(601,len(gr2)), gr2[601:], c='g')\n",
    "# plt.title(label = 'Norm of Gradient: [601, end]')\n",
    "# plt.show()\n",
    "\n",
    "print('x value', x1)\n",
    "print('Gradient', f_grad(x1))\n",
    "print('Iterations:', count)\n",
    "print('Time taken:', time.time() - current)\n",
    "La = [Lambd[0], Lambd[1]]\n",
    "for i in range(2,len(Lambd), int(np.floor(len(Lambd)/10))):\n",
    "    La.append(Lambd[i])\n",
    "print('Lambda: ', La)"
   ]
  },
  {
   "cell_type": "markdown",
   "metadata": {},
   "source": [
    "Generating data"
   ]
  },
  {
   "cell_type": "code",
   "execution_count": null,
   "metadata": {},
   "outputs": [],
   "source": [
    "k = 5\n",
    "for i in range(100):\n",
    "    globals()['x'+str(i)] = k\n",
    "    k = k*2"
   ]
  },
  {
   "cell_type": "code",
   "execution_count": null,
   "metadata": {},
   "outputs": [],
   "source": [
    "for i in range(10):\n",
    "    globals()['X'+str(i)] = [0]*10\n",
    "for j in range(10):\n",
    "    globals()['X'+str(0)][j] = (random.random()+1e-12)*10\n",
    "    y = 2*globals()['X'+str(0)][j] + 5\n",
    "    noiz = 3\n",
    "    for k in range(10):\n",
    "        globals()['X'+str(k)][j] = y + np.random.normal(0,noiz)\n",
    "        noiz += 3\n",
    "A = [globals()['X'+str(i)] for i in range(10)]"
   ]
  },
  {
   "cell_type": "code",
   "execution_count": null,
   "metadata": {},
   "outputs": [],
   "source": [
    "def linFunc(x):\n",
    "    return 2*x + 5"
   ]
  },
  {
   "cell_type": "code",
   "execution_count": null,
   "metadata": {},
   "outputs": [],
   "source": [
    "def generate(function, dim, vec_len, scale):\n",
    "    \"\"\"\n",
    "    Where A is an array of inputs for 'x'\n",
    "    \"\"\"\n",
    "    for i in range(dim):\n",
    "        globals()['X'+str(i)] = [0]*vec_len\n",
    "    for j in range(vec_len):\n",
    "        globals()['X'+str(0)][j] = (random.random()+1e-12)*scale\n",
    "        y = function(globals()['X'+str(0)][j])\n",
    "        noiz = 3\n",
    "        for k in range(dim):\n",
    "            globals()['X'+str(k)][j] = y + np.random.normal(0,noiz)\n",
    "            noiz += 3\n",
    "    A = [globals()['X'+str(i)] for i in range(dim)]\n",
    "    return(A)"
   ]
  },
  {
   "cell_type": "code",
   "execution_count": null,
   "metadata": {},
   "outputs": [],
   "source": []
  },
  {
   "cell_type": "code",
   "execution_count": null,
   "metadata": {},
   "outputs": [],
   "source": []
  },
  {
   "cell_type": "code",
   "execution_count": null,
   "metadata": {},
   "outputs": [],
   "source": []
  },
  {
   "cell_type": "code",
   "execution_count": null,
   "metadata": {},
   "outputs": [],
   "source": []
  },
  {
   "cell_type": "code",
   "execution_count": null,
   "metadata": {},
   "outputs": [],
   "source": []
  },
  {
   "cell_type": "code",
   "execution_count": null,
   "metadata": {},
   "outputs": [],
   "source": []
  },
  {
   "cell_type": "code",
   "execution_count": null,
   "metadata": {},
   "outputs": [],
   "source": []
  },
  {
   "cell_type": "code",
   "execution_count": null,
   "metadata": {},
   "outputs": [],
   "source": []
  }
 ],
 "metadata": {
  "kernelspec": {
   "display_name": "Python 3",
   "language": "python",
   "name": "python3"
  },
  "language_info": {
   "codemirror_mode": {
    "name": "ipython",
    "version": 3
   },
   "file_extension": ".py",
   "mimetype": "text/x-python",
   "name": "python",
   "nbconvert_exporter": "python",
   "pygments_lexer": "ipython3",
   "version": "3.8.6"
  }
 },
 "nbformat": 4,
 "nbformat_minor": 4
}
