{
 "cells": [
  {
   "cell_type": "markdown",
   "metadata": {},
   "source": [
    "# Logistic testing"
   ]
  },
  {
   "cell_type": "code",
   "execution_count": 1,
   "metadata": {},
   "outputs": [],
   "source": [
    "import matplotlib.pyplot as plt\n",
    "import random\n",
    "import numpy as np\n",
    "import pandas as pd\n",
    "import time\n",
    "from copy import deepcopy\n",
    "from sklearn.datasets import make_regression as Make_reg # default is 100 samples, 100 features\n",
    "from sklearn.datasets import make_classification as Make_class # default is 100 samples, 20 features, 2 classes\n",
    "from sklearn.model_selection import train_test_split as split"
   ]
  },
  {
   "cell_type": "markdown",
   "metadata": {},
   "source": [
    "$h(w)$: Sigmoid function:\n",
    "\n",
    "$$\\frac{1}{1 + e^{-\\langle x, w \\rangle}}$$\n",
    "\n",
    "$f_{\\text{LOG}}(w)$: negative log liklihood function:\n",
    "\n",
    "$$-\\frac{1}{k}  \\sum_{i=1}^k \\bigg( y_k \\log(h(w)) + (1 - y_k) \\log(1 -h(w))\\bigg) $$\n",
    "\n",
    "Explicitly:\n",
    "\n",
    "$$\\frac{1}{k} \\sum_{i=1}^k \\Bigg( -y_k \\log\\bigg(\\frac{1}{1 + e^{-\\langle x_k, w \\rangle}}\\bigg) - (1 - y_k) \\log\\bigg(1 - \\frac{1}{1 + e^{-\\langle x_k, w \\rangle}}\\bigg) \\Bigg)$$\n",
    "\n",
    "$g_{\\text{LOG}}(w) = f'_{\\text{LOG}}(w)$: gradient function of negative log liklihood:\n",
    "\n",
    "$$ \\langle h(w) - y, x \\rangle $$\n",
    "\n",
    "Explicitly:\n",
    "\n",
    "$$ \\Bigg\\langle \\frac{1}{1 + e^{-\\langle x, w \\rangle}} - y, x \\Bigg\\rangle = \\frac{1}{k} \\sum_{i=1}^k  x_k \\Bigg( \\frac{1}{1 + e^{-\\langle x_k, w \\rangle}} - y_k \\Bigg) $$\n",
    "\n",
    "A note on the data:\n",
    "\n",
    "$x$ is an $m \\times n$ matrix of $m$ samples and $n$ features. So it is a dataset in $\\mathbb{R}^n$.\n",
    "\n",
    "$y$ is a $m \\times 1$ vector with a binary classifier for each sample.\n",
    "\n",
    "$w$ is a $1 \\times n$ array."
   ]
  },
  {
   "cell_type": "markdown",
   "metadata": {},
   "source": [
    "### Defining Functions"
   ]
  },
  {
   "cell_type": "code",
   "execution_count": 69,
   "metadata": {},
   "outputs": [],
   "source": [
    "def ren(x): return range(len(x)) # a function for plotting iterates of a list\n",
    "def sigmoid(w, x): # a basic sigmoid function\n",
    "    denom = 1 + np.exp( - np.dot(x,w) )\n",
    "    return 1 / denom\n",
    "def normalise(x): # normalises the input data to values between 0 and 1\n",
    "    mins = np.min(x, axis = 0)\n",
    "    maxs = np.max(x, axis = 0)\n",
    "    rng = maxs - mins\n",
    "    return  1 - (maxs- x)/rng\n",
    "def f_Log(w, x, y): # neg log likli func: see LaTeX above\n",
    "    sig = sigmoid(w,x)\n",
    "    step1 = y*np.log(sig + 1e-300)\n",
    "    step2 = (1-y)*np.log(1 - sig + 1e-300)\n",
    "    return np.mean(-step1 - step2)\n",
    "def g_Log(w, x, y): # simplified gradient function, essentially just x(h(w) - y): see LaTeX above\n",
    "    sig = sigmoid(w,x)\n",
    "    inner = sig - y\n",
    "    return np.dot(inner, x)\n",
    "def GD_Log(w, lam, x, y):\n",
    "    return w - lam*g_Log(w,x,y)\n",
    "def predict(w, x):\n",
    "    sig = sigmoid(w, x)\n",
    "    return np.squeeze( np.where(sig >= 0.5, 1, 0) )\n",
    "def classify(w, x_Te, y_Te):\n",
    "    return sum( predict(w, x_Te) == y_Te ) / len(x_Te)"
   ]
  },
  {
   "cell_type": "markdown",
   "metadata": {},
   "source": [
    "### Make classification dataset"
   ]
  },
  {
   "cell_type": "code",
   "execution_count": 99,
   "metadata": {},
   "outputs": [],
   "source": [
    "my_classes = Make_class(n_samples=1000)\n",
    "ones_array = np.array([[1]*len(my_classes[0])])\n",
    "aug_data = np.concatenate((ones_array.T, normalise(my_classes[0])), axis = 1)\n",
    "xTrain, xTest, yTrain, yTest = split( aug_data, my_classes[1], test_size = 0.1)\n",
    "w_copy = np.random.rand(len(xTrain[0]))"
   ]
  },
  {
   "cell_type": "markdown",
   "metadata": {},
   "source": [
    "## Vanilla Gradient Descent"
   ]
  },
  {
   "cell_type": "markdown",
   "metadata": {},
   "source": [
    "Time limit of 30 seconds"
   ]
  },
  {
   "cell_type": "code",
   "execution_count": 108,
   "metadata": {},
   "outputs": [
    {
     "data": {
      "image/png": "[encoded data removed]",
      "text/plain": [
       "<Figure size 432x288 with 1 Axes>"
      ]
     },
     "metadata": {
      "needs_background": "light"
     },
     "output_type": "display_data"
    }
   ],
   "source": [
    "error = 1e-2\n",
    "initialTime = time.time()\n",
    "w = w_copy\n",
    "lam = 1/np.max( np.linalg.svd(xTrain @ xTrain.T)[1] )\n",
    "grad = g_Log(w, xTrain, yTrain)\n",
    "gradNorm = np.linalg.norm(grad)\n",
    "gradientValList = [gradNorm]\n",
    "functionValList = [f_Log(w, xTrain, yTrain)]\n",
    "timeList = [time.time() - initialTime]\n",
    "predList = [classify(w, xTest, yTest)]\n",
    "while gradNorm > error:\n",
    "    w = GD_Log(w, lam, xTrain, yTrain)\n",
    "    grad = g_Log(w, xTrain, yTrain)\n",
    "    gradNorm = np.linalg.norm(grad)\n",
    "    gradientValList.append(gradNorm)\n",
    "    functionValList.append(f_Log(w, xTrain, yTrain))\n",
    "    timeList.append(time.time() - initialTime)\n",
    "    predList.append(classify(w,xTest,yTest))\n",
    "    if timeList[-1] > 30:\n",
    "        break\n",
    "plt.scatter(timeList[- (np.argmax(predList[::-1])+1)], gradientValList[- (np.argmax(predList[::-1])+1)], c= 'r')\n",
    "plt.plot(timeList, gradientValList)\n",
    "plt.yscale('log')\n",
    "plt.show()"
   ]
  },
  {
   "cell_type": "markdown",
   "metadata": {},
   "source": [
    "## Adaptive Gradient Descent"
   ]
  },
  {
   "cell_type": "markdown",
   "metadata": {},
   "source": [
    "Time limit of 30 seconds"
   ]
  },
  {
   "cell_type": "code",
   "execution_count": 119,
   "metadata": {},
   "outputs": [
    {
     "name": "stderr",
     "output_type": "stream",
     "text": [
      "<ipython-input-69-403024de6bf8>:3: RuntimeWarning: overflow encountered in exp\n",
      "  denom = 1 + np.exp( - np.dot(x,w) )\n",
      "<ipython-input-119-334ff27cfb41>:21: RuntimeWarning: divide by zero encountered in double_scalars\n",
      "  lam = np.min([ min1, min2a/min2b ])\n"
     ]
    },
    {
     "data": {
      "image/png": "[encoded data removed]",
      "text/plain": [
       "<Figure size 432x288 with 1 Axes>"
      ]
     },
     "metadata": {
      "needs_background": "light"
     },
     "output_type": "display_data"
    }
   ],
   "source": [
    "error = 1e-6\n",
    "initialTime = time.time()\n",
    "w = w_copy\n",
    "w0 = w\n",
    "lam = random.random()+1e-12\n",
    "lam0 = lam\n",
    "theta = np.inf\n",
    "grad = g_Log(w, xTrain, yTrain)\n",
    "grad0 = grad\n",
    "gradNorm = np.linalg.norm(grad)\n",
    "gradientValList = [gradNorm]\n",
    "functionValList = [f_Log(w, xTrain, yTrain)]\n",
    "timeList = [time.time() - initialTime]\n",
    "predList = [classify(w, xTest, yTest)]\n",
    "w = GD_Log(w, lam, xTrain, yTrain)\n",
    "grad = g_Log(w, xTrain, yTrain)\n",
    "while gradNorm > error:\n",
    "    min1 = np.sqrt(1 + theta)*lam\n",
    "    min2a = np.linalg.norm( w - w0)\n",
    "    min2b = 2*np.linalg.norm( grad - grad0 )\n",
    "    lam = np.min([ min1, min2a/min2b ])\n",
    "    w0 = w\n",
    "    grad0 = grad\n",
    "    w = GD_Log(w,lam,xTrain,yTrain)\n",
    "    theta = lam / lam0\n",
    "    lam0 = lam\n",
    "    grad = g_Log(w, xTrain, yTrain)\n",
    "    gradNorm = np.linalg.norm(grad)\n",
    "    gradientValList.append(gradNorm)\n",
    "    functionValList.append(f_Log(w, xTrain, yTrain))\n",
    "    timeList.append(time.time() - initialTime)\n",
    "    predList.append(classify(w,xTest,yTest))\n",
    "    if timeList[-1] > 30:\n",
    "        break\n",
    "\n",
    "plt.scatter(timeList[np.argmax(predList)], gradientValList[np.argmax(predList)], c= 'r')\n",
    "plt.scatter(timeList[- (np.argmax(predList[::-1])+1)], gradientValList[- (np.argmax(predList[::-1])+1)], c= 'm')\n",
    "plt.plot(timeList, gradientValList)\n",
    "plt.yscale('log')\n",
    "plt.show()"
   ]
  },
  {
   "cell_type": "code",
   "execution_count": 113,
   "metadata": {},
   "outputs": [
    {
     "name": "stdout",
     "output_type": "stream",
     "text": [
      "0.99\n",
      "0.98\n"
     ]
    }
   ],
   "source": [
    "print(np.max(predList))\n",
    "print(predList[-1])"
   ]
  },
  {
   "cell_type": "markdown",
   "metadata": {},
   "source": [
    "## Gradient Line Search Gradient Descent"
   ]
  },
  {
   "cell_type": "code",
   "execution_count": 118,
   "metadata": {},
   "outputs": [
    {
     "name": "stderr",
     "output_type": "stream",
     "text": [
      "<ipython-input-69-403024de6bf8>:3: RuntimeWarning: overflow encountered in exp\n",
      "  denom = 1 + np.exp( - np.dot(x,w) )\n"
     ]
    },
    {
     "data": {
      "image/png": "[encoded data removed]",
      "text/plain": [
       "<Figure size 432x288 with 1 Axes>"
      ]
     },
     "metadata": {
      "needs_background": "light"
     },
     "output_type": "display_data"
    }
   ],
   "source": [
    "def BackTrack(w,x,y,grad):\n",
    "    rho = random.random()\n",
    "    lam = random.randrange(1e6)\n",
    "    while lam > ( np.linalg.norm(lam * grad) / np.linalg.norm( g_Log(w - lam*grad, x, y) - grad )):\n",
    "        lam = rho*lam\n",
    "    return lam\n",
    "\n",
    "error = 1e-2\n",
    "initialTime = time.time()\n",
    "w = w_copy\n",
    "grad = g_Log(w, xTrain, yTrain)\n",
    "gradNorm = np.linalg.norm(grad)\n",
    "gradientValList = [gradNorm]\n",
    "functionValList = [f_Log(w, xTrain, yTrain)]\n",
    "timeList = [time.time() - initialTime]\n",
    "predList = [classify(w, xTest, yTest)]\n",
    "while gradNorm > error:\n",
    "    lam = BackTrack(w, xTrain, yTrain, grad)\n",
    "    w = GD_Log(w, lam, xTrain, yTrain)\n",
    "    grad = g_Log(w, xTrain, yTrain)\n",
    "    gradNorm = np.linalg.norm(grad)\n",
    "    gradientValList.append(gradNorm)\n",
    "    functionValList.append(f_Log(w, xTrain, yTrain))\n",
    "    timeList.append(time.time() - initialTime)\n",
    "    predList.append(classify(w,xTest,yTest))\n",
    "    if timeList[-1] > 30:\n",
    "        break\n",
    "plt.scatter(timeList[- (np.argmax(predList[::-1])+1)], gradientValList[- (np.argmax(predList[::-1])+1)], c= 'r')\n",
    "plt.plot(timeList, gradientValList)\n",
    "plt.yscale('log')\n",
    "plt.show()"
   ]
  },
  {
   "cell_type": "code",
   "execution_count": 150,
   "metadata": {},
   "outputs": [
    {
     "name": "stdout",
     "output_type": "stream",
     "text": [
      "before [-459.         -232.50640282 -258.70035843 -204.66508268 -218.51874829\n",
      " -220.97281317 -177.15550704 -215.74174671 -241.46157705 -218.35098488\n",
      " -318.39269361 -247.75028506 -238.6997652  -210.53874313 -233.85990458\n",
      " -257.29123777 -228.23265289 -204.41599223 -214.28462541 -230.78553086\n",
      " -208.3798006 ]\n",
      "0.05086970900291051\n",
      "after [-459.         -232.50640282 -258.70035843 -204.66508268 -218.51874829\n",
      " -220.97281317 -177.15550704 -215.74174671 -241.46157705 -218.35098488\n",
      " -318.39269361 -247.75028506 -238.6997652  -210.53874313 -233.85990458\n",
      " -257.29123777 -228.23265289 -204.41599223 -214.28462541 -230.78553086\n",
      " -208.3798006 ]\n",
      "before [-459.         -232.50640282 -258.70035843 -204.66508268 -218.51874829\n",
      " -220.97281317 -177.15550704 -215.74174671 -241.46157705 -218.35098488\n",
      " -318.39269361 -247.75028506 -238.6997652  -210.53874313 -233.85990458\n",
      " -257.29123777 -228.23265289 -204.41599223 -214.28462541 -230.78553086\n",
      " -208.3798006 ]\n",
      "nan\n",
      "after [nan nan nan nan nan nan nan nan nan nan nan nan nan nan nan nan nan nan\n",
      " nan nan nan]\n"
     ]
    },
    {
     "name": "stderr",
     "output_type": "stream",
     "text": [
      "<ipython-input-150-359bb2915de9>:18: RuntimeWarning: invalid value encountered in double_scalars\n",
      "  lam = nom/denom\n"
     ]
    },
    {
     "data": {
      "image/png": "[encoded data removed]",
      "text/plain": [
       "<Figure size 432x288 with 1 Axes>"
      ]
     },
     "metadata": {
      "needs_background": "light"
     },
     "output_type": "display_data"
    }
   ],
   "source": [
    "error = 1e-2\n",
    "initialTime = time.time()\n",
    "w = w_copy\n",
    "lam = random.random()+1e-12\n",
    "w0 = w\n",
    "grad = g_Log(w, xTrain, yTrain)\n",
    "grad0 = deepcopy(grad)\n",
    "gradNorm = np.linalg.norm(grad)\n",
    "gradientValList = [gradNorm]\n",
    "functionValList = [f_Log(w, xTrain, yTrain)]\n",
    "timeList = [time.time() - initialTime]\n",
    "predList = [classify(w, xTest, yTest)]\n",
    "w = GD_Log(w, lam, xTrain, yTrain)\n",
    "grad = g_Log(w, xTrain, yTrain)\n",
    "while gradNorm > error:\n",
    "    nom = np.dot(w - w0, grad - grad0 )\n",
    "    denom = np.linalg.norm( grad - grad0 )**2\n",
    "    lam = nom/denom\n",
    "    w0 = w\n",
    "    grad0 = deepcopy(grad)\n",
    "    print(\"before\", g_Log(w, xTrain, yTrain))\n",
    "    print(lam)\n",
    "    w = GD_Log(w, lam, xTrain, yTrain)\n",
    "    print(\"after\", g_Log(w, xTrain, yTrain))\n",
    "    grad = g_Log(w, xTrain, yTrain)\n",
    "    gradNorm = np.linalg.norm(grad)\n",
    "    gradientValList.append(gradNorm)\n",
    "    functionValList.append(f_Log(w, xTrain, yTrain))\n",
    "    timeList.append(time.time() - initialTime)\n",
    "    predList.append(classify(w,xTest,yTest))\n",
    "    if timeList[-1] > 30:\n",
    "        break\n",
    "plt.scatter(timeList[- (np.argmax(predList[::-1])+1)], gradientValList[- (np.argmax(predList[::-1])+1)], c= 'r')\n",
    "plt.plot(timeList, gradientValList)\n",
    "plt.yscale('log')\n",
    "plt.show()"
   ]
  },
  {
   "cell_type": "code",
   "execution_count": 140,
   "metadata": {},
   "outputs": [
    {
     "data": {
      "text/plain": [
       "[0.42, 0.58, 0.58]"
      ]
     },
     "execution_count": 140,
     "metadata": {},
     "output_type": "execute_result"
    }
   ],
   "source": [
    "predList"
   ]
  }
 ],
 "metadata": {
  "kernelspec": {
   "display_name": "Python 3",
   "language": "python",
   "name": "python3"
  },
  "language_info": {
   "codemirror_mode": {
    "name": "ipython",
    "version": 3
   },
   "file_extension": ".py",
   "mimetype": "text/x-python",
   "name": "python",
   "nbconvert_exporter": "python",
   "pygments_lexer": "ipython3",
   "version": "3.8.6"
  }
 },
 "nbformat": 4,
 "nbformat_minor": 4
}
