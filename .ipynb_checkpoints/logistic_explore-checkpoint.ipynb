{
 "cells": [
  {
   "cell_type": "markdown",
   "metadata": {},
   "source": [
    "# Logistic testing"
   ]
  },
  {
   "cell_type": "code",
   "execution_count": 1,
   "metadata": {},
   "outputs": [],
   "source": [
    "import matplotlib.pyplot as plt\n",
    "import random\n",
    "import numpy as np\n",
    "import pandas as pd\n",
    "import time\n",
    "from copy import deepcopy\n",
    "from sklearn.datasets import make_regression as Make_reg # default is 100 samples, 100 features\n",
    "from sklearn.datasets import make_classification as Make_class # default is 100 samples, 20 features, 2 classes\n",
    "from sklearn.model_selection import train_test_split as split"
   ]
  },
  {
   "cell_type": "markdown",
   "metadata": {},
   "source": [
    "$h(w)$: Sigmoid function:\n",
    "\n",
    "$$\\frac{1}{1 + e^{-\\langle x, w \\rangle}}$$\n",
    "\n",
    "$f_{\\text{LOG}}(w)$: negative log liklihood function:\n",
    "\n",
    "$$-\\frac{1}{k}  \\sum_{i=1}^k \\bigg( y_k \\log(h(w)) + (1 - y_k) \\log(1 -h(w))\\bigg) $$\n",
    "\n",
    "Explicitly:\n",
    "\n",
    "$$\\frac{1}{k} \\sum_{i=1}^k \\Bigg( -y_k \\log\\bigg(\\frac{1}{1 + e^{-\\langle x_k, w \\rangle}}\\bigg) - (1 - y_k) \\log\\bigg(1 - \\frac{1}{1 + e^{-\\langle x_k, w \\rangle}}\\bigg) \\Bigg)$$\n",
    "\n",
    "$g_{\\text{LOG}}(w) = f'_{\\text{LOG}}(w)$: gradient function of negative log liklihood:\n",
    "\n",
    "$$ \\langle h(w) - y, x \\rangle $$\n",
    "\n",
    "Explicitly: (fix here - check definition of dot product vs matrix mult.)\n",
    "\n",
    "$$ \\Bigg\\langle \\frac{1}{1 + e^{-\\langle x, w \\rangle}} - y, x \\Bigg\\rangle = \\frac{1}{k} \\sum_{i=1}^k  x_k \\Bigg( \\frac{1}{1 + e^{-\\langle x_k, w \\rangle}} - y_k \\Bigg) $$\n",
    "\n",
    "A note on the data:\n",
    "\n",
    "$x$ is an $m \\times n$ matrix of $m$ samples and $n$ features. So it is a dataset in $\\mathbb{R}^n$.\n",
    "\n",
    "$y$ is a $m \\times 1$ vector with a binary classifier for each sample.\n",
    "\n",
    "$w$ is a $1 \\times n$ array."
   ]
  },
  {
   "cell_type": "markdown",
   "metadata": {},
   "source": [
    "### Defining Functions"
   ]
  },
  {
   "cell_type": "code",
   "execution_count": 2,
   "metadata": {},
   "outputs": [],
   "source": [
    "def ren(x): return range(len(x)) # a function for plotting iterates of a list\n",
    "def sigmoid(w, x): # a basic sigmoid function\n",
    "    denom = 1 + np.exp( - np.dot(x,w) )\n",
    "    return 1 / denom\n",
    "def normalise(x): # normalises the input data to values between 0 and 1\n",
    "    mins = np.min(x, axis = 0)\n",
    "    maxs = np.max(x, axis = 0)\n",
    "    rng = maxs - mins\n",
    "    return  1 - (maxs- x)/rng\n",
    "def f_Log(w, x, y): # neg log likli func: see LaTeX above\n",
    "    sig = sigmoid(w,x)\n",
    "    step1 = y*np.log(sig + 1e-300)\n",
    "    step2 = (1-y)*np.log(1 - sig + 1e-300)\n",
    "    return np.mean(-step1 - step2)\n",
    "def g_Log(w, x, y): # simplified gradient function, essentially just x(h(w) - y): see LaTeX above\n",
    "    sig = sigmoid(w,x)\n",
    "    inner = sig - y\n",
    "    return np.dot(inner, x)\n",
    "def GD_Log(w, lam, x, y):\n",
    "    return w - lam*g_Log(w,x,y)\n",
    "def predict(w, x):\n",
    "    sig = sigmoid(w, x)\n",
    "    return np.squeeze( np.where(sig >= 0.5, 1, 0) )\n",
    "def classify(w, x_Te, y_Te):\n",
    "    return sum( predict(w, x_Te) == y_Te ) / len(x_Te)"
   ]
  },
  {
   "cell_type": "markdown",
   "metadata": {},
   "source": [
    "### Make classification dataset"
   ]
  },
  {
   "cell_type": "markdown",
   "metadata": {},
   "source": [
    "#### For generating new classification dataset"
   ]
  },
  {
   "cell_type": "code",
   "execution_count": 38,
   "metadata": {},
   "outputs": [],
   "source": [
    "my_classes = Make_class(n_samples=10)\n",
    "ones_array = np.array([[1]*len(my_classes[0])])\n",
    "aug_data = np.concatenate((ones_array.T, normalise(my_classes[0])), axis = 1)\n",
    "xTrain, xTest, yTrain, yTest = split( aug_data, my_classes[1], test_size = 0.1)\n",
    "w_copy = np.random.rand(len(xTrain[0]))"
   ]
  },
  {
   "cell_type": "markdown",
   "metadata": {},
   "source": [
    "## Vanilla Gradient Descent"
   ]
  },
  {
   "cell_type": "markdown",
   "metadata": {},
   "source": [
    "Time limit of 30 seconds, error $= 10^{-6}$"
   ]
  },
  {
   "cell_type": "code",
   "execution_count": 39,
   "metadata": {},
   "outputs": [
    {
     "name": "stdout",
     "output_type": "stream",
     "text": [
      "1.44 µs ± 0 ns per loop (mean ± std. dev. of 1 run, 1000000 loops each)\n"
     ]
    }
   ],
   "source": [
    "%timeit -r 1 np.dot( xTrain, w_copy)"
   ]
  },
  {
   "cell_type": "code",
   "execution_count": 40,
   "metadata": {},
   "outputs": [
    {
     "name": "stdout",
     "output_type": "stream",
     "text": [
      "1.37 µs ± 0 ns per loop (mean ± std. dev. of 1 run, 1000000 loops each)\n"
     ]
    }
   ],
   "source": [
    "%timeit -r 1 xTrain@w_copy"
   ]
  },
  {
   "cell_type": "code",
   "execution_count": 24,
   "metadata": {},
   "outputs": [
    {
     "data": {
      "text/plain": [
       "array([4.37866404, 5.03578784, 5.12226692, 4.87820652, 4.86901572,\n",
       "       4.86058285, 4.36408291, 4.68507814, 4.48561452, 5.19963081,\n",
       "       4.48276394, 5.21582641, 4.20816817, 4.45318437, 4.81031687,\n",
       "       4.47684265, 4.34409088, 4.62033791, 5.05069597, 4.75854135,\n",
       "       4.5470596 , 4.75948962, 4.01796204, 5.18910892, 4.78092055,\n",
       "       4.23038061, 4.60103766, 4.98520952, 4.61631916, 4.3534289 ,\n",
       "       5.12934544, 5.01459207, 4.58732411, 5.22974535, 4.76531794,\n",
       "       5.4511899 , 5.14890966, 4.68436089, 3.81657447, 5.15620211,\n",
       "       4.87745003, 5.041151  , 4.64569503, 5.29190659, 4.1039122 ,\n",
       "       4.18769856, 4.92684485, 4.72746045, 5.15015777, 4.42079984,\n",
       "       4.36275103, 5.36635149, 4.84257773, 4.67718097, 4.35369319,\n",
       "       4.55082232, 4.77170429, 5.07078788, 4.32912426, 4.77597908,\n",
       "       5.0757339 , 4.24272058, 4.75257004, 4.6302956 , 4.9032661 ,\n",
       "       4.5971008 , 4.88546446, 4.63669247, 4.7482652 , 4.52002291,\n",
       "       5.39356344, 4.99582798, 4.96995007, 4.35496976, 4.48706716,\n",
       "       4.20147458, 4.86346934, 4.40644185, 4.7295593 , 4.91600846,\n",
       "       4.10572627, 4.54122885, 5.04159632, 4.36746021, 4.55399267,\n",
       "       4.7468958 , 4.83088733, 4.22141154, 4.94724486, 4.16722029,\n",
       "       4.34505202, 5.15132512, 4.79523048, 4.66714867, 4.72276158,\n",
       "       5.17087103, 5.19396354, 4.00245397, 5.05578521, 4.43811106,\n",
       "       4.34759202, 5.45927205, 4.19778324, 4.50252053, 4.98181642,\n",
       "       4.85712466, 4.45034551, 4.45389976, 5.58147618, 4.51752867,\n",
       "       4.64683828, 5.03633729, 4.4320767 , 3.95634498, 4.16666478,\n",
       "       3.93485948, 4.28275634, 4.77922583, 5.26084397, 5.01702235,\n",
       "       5.52707472, 4.32576546, 4.94818569, 4.3567157 , 4.92966112,\n",
       "       4.50057716, 4.71071409, 4.65621498, 5.08600822, 5.10039186,\n",
       "       4.48972233, 5.00091439, 4.74024819, 4.42895322, 4.39863698,\n",
       "       4.36509968, 5.15496929, 4.58700804, 4.54126839, 4.48262468,\n",
       "       4.79026577, 4.65559884, 5.10441141, 4.92722989, 4.9338315 ,\n",
       "       4.75251082, 4.50413606, 4.86233667, 4.9359221 , 4.51046022,\n",
       "       4.5501917 , 4.25898241, 5.31505316, 4.65280122, 4.6905064 ,\n",
       "       4.59295313, 5.06909628, 4.44812153, 4.75985875, 4.70356205,\n",
       "       4.71857864, 3.82472461, 5.49292364, 4.74758681, 4.80264612,\n",
       "       4.69876548, 5.07008733, 4.66941909, 4.83063732, 4.46078968,\n",
       "       3.65015942, 4.68730866, 4.43377   , 4.4998722 , 4.57198909,\n",
       "       4.91069823, 5.42086844, 4.45312786, 4.59220366, 4.02048393,\n",
       "       4.9646267 , 4.774963  , 4.74499939, 4.62868178, 4.95428309,\n",
       "       4.48071029, 4.95972789, 4.13520236, 4.05369709, 5.04393869,\n",
       "       4.17746734, 4.65852213, 4.32849949, 4.94032471, 4.37496476,\n",
       "       4.90336901, 5.11751473, 5.21185411, 4.92259942, 4.54538218,\n",
       "       5.44261366, 5.07589227, 4.63761699, 4.46812629, 3.94917229,\n",
       "       4.54022506, 4.79031256, 4.71275728, 4.46703955, 4.5824186 ,\n",
       "       4.83151125, 5.12802883, 5.32777123, 4.97972757, 4.47923417,\n",
       "       4.5410967 , 5.30976923, 5.20234008, 4.52545964, 4.74255169,\n",
       "       4.95127735, 4.4208304 , 4.55098167, 4.58488454, 4.60658141,\n",
       "       5.00529917, 4.42438841, 4.20557625, 4.36161275, 4.81358064,\n",
       "       4.67717006, 4.72092484, 4.48154641, 4.67560959, 4.79455427,\n",
       "       4.56717275, 4.71742145, 4.62887833, 4.8696018 , 5.14471549,\n",
       "       4.62712915, 4.87198454, 4.95676246, 4.58246257, 4.76973708,\n",
       "       4.92747539, 5.08246847, 4.73249316, 4.52530399, 4.35718194,\n",
       "       4.32808587, 5.05332072, 4.54128484, 5.07742898, 4.68419948,\n",
       "       4.48412018, 4.72542091, 5.07743009, 5.15881193, 3.58117016,\n",
       "       4.21935081, 5.14530257, 4.22768431, 4.74089708, 4.26096474,\n",
       "       4.73631545, 4.94548379, 4.44431622, 4.52195562, 4.46233684,\n",
       "       4.52966871, 4.48111196, 4.55586309, 3.9826801 , 5.04502405,\n",
       "       5.48096526, 4.93574885, 4.52268888, 4.99063711, 4.916079  ,\n",
       "       5.12858035, 4.52488945, 4.43368343, 5.39942707, 4.45449066,\n",
       "       4.50830284, 4.51219581, 4.45664508, 5.05999661, 4.7445603 ,\n",
       "       5.13487961, 4.45748425, 4.03853524, 3.56049055, 5.64628631,\n",
       "       4.38105111, 4.73535812, 4.31325798, 4.02812561, 4.70753336,\n",
       "       4.54675927, 5.32840083, 4.19555013, 4.18699597, 4.76753511,\n",
       "       4.70593342, 4.55996742, 5.22939402, 4.98140769, 4.30981226,\n",
       "       4.45263561, 4.63354756, 4.43353476, 4.85582329, 4.59115565,\n",
       "       4.50947503, 4.63353773, 4.59456681, 4.92192525, 4.08967153,\n",
       "       4.25171041, 4.69911738, 5.07300372, 4.764401  , 4.61926427,\n",
       "       4.64327315, 4.55164556, 4.35659975, 5.07562264, 4.37877304,\n",
       "       4.61755411, 4.22927889, 5.1003181 , 4.25896312, 4.98708413,\n",
       "       4.78775612, 4.22519219, 4.61667713, 5.01043207, 4.99846701,\n",
       "       4.58440441, 4.65891184, 5.05083872, 4.94540733, 4.18393187,\n",
       "       4.7961317 , 5.14366498, 4.330629  , 4.83761866, 4.59409327,\n",
       "       4.76102278, 5.0723887 , 4.2450604 , 4.7020686 , 4.22417871,\n",
       "       4.93892622, 4.54792239, 4.82268866, 4.76054067, 4.89317329,\n",
       "       5.22669035, 4.72428899, 5.30464424, 4.01158144, 4.551672  ,\n",
       "       4.37555211, 4.47123765, 4.71612234, 4.81624821, 4.4915535 ,\n",
       "       4.54400173, 4.45232037, 4.21630995, 4.6633523 , 4.49417558,\n",
       "       4.67547013, 5.49344941, 4.63568145, 4.86855009, 4.79558332,\n",
       "       4.38006828, 4.38963575, 4.65559091, 5.56506772, 4.94685747,\n",
       "       5.16721361, 4.45284977, 5.12073755, 4.31821399, 4.53748486,\n",
       "       4.22927585, 5.23165333, 4.63774247, 4.48956018, 4.96512942,\n",
       "       4.47575206, 4.35218644, 4.33203338, 4.85364053, 4.91555   ,\n",
       "       5.18756302, 5.18850742, 4.46889295, 4.25371857, 4.27422732,\n",
       "       3.44888417, 5.28206178, 4.39644396, 4.97517   , 4.29159834,\n",
       "       5.31304084, 5.10951101, 4.80872032, 4.73718466, 3.99671027,\n",
       "       4.53568482, 5.47259388, 4.98751079, 4.90506016, 4.88529898,\n",
       "       5.18284428, 5.02207889, 4.94214174, 4.81352536, 4.91038467,\n",
       "       4.43021691, 4.50262614, 4.6412988 , 4.5589362 , 5.41393028,\n",
       "       4.54033173, 4.86080601, 4.91609629, 5.01205014, 4.38491042,\n",
       "       4.30798574, 5.05089031, 4.21267112, 4.87545517, 4.69774789,\n",
       "       4.13510276, 4.86081669, 4.69601644, 5.06864504, 4.79362022,\n",
       "       4.45776207, 4.41338803, 4.72773898, 4.47527289, 5.1628336 ,\n",
       "       4.61425057, 4.45464295, 5.44867465, 4.64521276, 4.84103551,\n",
       "       4.76499871, 4.54004013, 4.55977452, 4.49774407, 4.55800557,\n",
       "       4.68128775, 4.8874714 , 4.42696235, 4.19713418, 4.7887613 ,\n",
       "       5.00113662, 4.66302976, 4.52606116, 4.52330613, 4.15040944,\n",
       "       4.26261753, 4.6225131 , 4.21253764, 4.61395585, 4.40254029,\n",
       "       4.23237996, 4.22428556, 4.76036366, 4.70314949, 5.04993217,\n",
       "       4.73164946, 4.86793112, 4.23652383, 4.92052077, 4.36359818,\n",
       "       5.1436822 , 4.89353008, 4.85099359, 4.30430835, 4.0734697 ,\n",
       "       4.04243318, 4.54231025, 4.77383842, 3.9231737 , 4.36101134,\n",
       "       4.91942174, 4.55548049, 4.21249664, 5.09252904, 4.78548815,\n",
       "       4.56036156, 4.76774865, 5.26556922, 3.91058567, 4.98680502,\n",
       "       4.63193965, 4.24076439, 5.44176712, 5.06502373, 4.40756586,\n",
       "       5.31323051, 4.55599242, 4.82932568, 5.10651908, 4.77941145,\n",
       "       4.91127707, 5.07614265, 4.34004039, 5.1049937 , 4.43083525,\n",
       "       4.60042407, 4.82240006, 4.35011816, 4.9728672 , 5.05556383,\n",
       "       5.08787647, 4.41770948, 5.29460989, 4.61206606, 4.7961298 ,\n",
       "       4.71639704, 4.41311107, 4.67280546, 4.19547555, 4.12219781,\n",
       "       4.90408899, 4.60426699, 4.92151111, 4.92760914, 5.05966867,\n",
       "       4.51021968, 5.20250566, 4.6054949 , 4.95755251, 4.60321254,\n",
       "       4.72275628, 4.10167211, 4.61798142, 4.93771211, 4.76441358,\n",
       "       5.31254735, 5.26861062, 4.507335  , 4.43295879, 4.71119176,\n",
       "       4.25490692, 5.14163366, 4.10291089, 4.829772  , 4.05329452,\n",
       "       4.43442864, 5.00242756, 4.83992233, 5.26355211, 5.53217373,\n",
       "       4.98788216, 4.36331594, 4.45958718, 4.77508942, 4.94513934,\n",
       "       4.51952382, 5.07032362, 4.52687475, 4.38619608, 5.40273397,\n",
       "       4.94412931, 4.98730439, 5.19357965, 5.33473504, 5.29552523,\n",
       "       4.37222492, 4.14104902, 4.30690039, 5.37199508, 4.96765053,\n",
       "       4.3409895 , 4.97631203, 4.41972805, 5.04213766, 4.54636   ,\n",
       "       4.64773026, 4.80626169, 4.33964718, 4.85257523, 4.70671226,\n",
       "       4.26183531, 4.26342837, 4.63234447, 4.62677349, 4.86580465,\n",
       "       5.26571958, 4.63157962, 4.76863692, 4.73935599, 4.77004939,\n",
       "       4.98731959, 4.55264051, 4.64441216, 4.11829363, 4.79504762,\n",
       "       5.15136816, 4.72038888, 4.90442979, 4.47254861, 4.70846575,\n",
       "       4.40063489, 4.97335871, 5.17120019, 4.96381743, 4.9197775 ,\n",
       "       3.96600421, 4.04270212, 4.88795083, 5.31355016, 4.18796757,\n",
       "       4.51870954, 5.1794158 , 4.29292714, 5.62439758, 4.95659105,\n",
       "       4.88278707, 5.21614221, 4.9962749 , 4.76164063, 4.67516133,\n",
       "       4.80752285, 4.87992764, 4.60644226, 5.52567363, 4.58859607,\n",
       "       4.87339368, 4.525937  , 5.17108115, 4.80821988, 4.38476923,\n",
       "       4.76739565, 5.30466633, 5.16982041, 5.28227818, 4.32583533,\n",
       "       5.74379304, 4.88840387, 4.8083122 , 4.40109459, 5.29693367,\n",
       "       4.69084883, 4.45943714, 4.63084291, 4.87805151, 5.52523802,\n",
       "       5.1049677 , 4.88207597, 4.30771418, 4.777642  , 4.78362709,\n",
       "       4.25174463, 5.21740017, 5.11539297, 3.99447652, 4.91098093,\n",
       "       4.69544569, 4.93139523, 5.04948297, 4.41458062, 4.35872361,\n",
       "       4.85228073, 4.88041464, 4.23761377, 4.29973206, 5.01849799,\n",
       "       4.74136904, 5.11492616, 4.43355734, 4.22684585, 4.70990437,\n",
       "       4.7368196 , 4.84919066, 5.29129981, 5.17002179, 5.10019043,\n",
       "       4.72472898, 4.51876621, 4.54356335, 4.87686922, 5.02127243,\n",
       "       5.08448621, 5.09338349, 4.08797453, 4.34173263, 4.83829512,\n",
       "       5.03396558, 5.0938819 , 4.6376053 , 4.5693944 , 4.57356941,\n",
       "       5.10314102, 4.84992117, 4.79011896, 4.72827858, 4.76542536,\n",
       "       4.5981864 , 4.67836395, 5.14629574, 4.98129546, 4.41759998,\n",
       "       4.62152448, 5.096213  , 4.36578815, 4.90127438, 4.4074335 ,\n",
       "       4.48500075, 4.77863518, 4.7257776 , 4.80884104, 4.66899382,\n",
       "       4.60400875, 5.119807  , 4.72663524, 5.17918561, 4.44947224,\n",
       "       4.67205156, 4.3747879 , 4.34969329, 4.49036262, 4.58641631,\n",
       "       4.33425078, 4.73396015, 4.40622644, 4.57682822, 4.87024013,\n",
       "       4.77387648, 4.71527013, 4.51291891, 4.70999113, 4.71687997,\n",
       "       4.93383293, 4.63841242, 4.84058593, 4.3390822 , 4.11193498,\n",
       "       4.9397008 , 5.47722702, 4.7289993 , 4.53008024, 4.61752206,\n",
       "       4.84879674, 4.87407003, 4.76603897, 4.56043286, 4.99527144,\n",
       "       4.64958517, 4.75976819, 4.81951275, 4.92730882, 4.55576978,\n",
       "       4.96510379, 4.87293242, 4.2916629 , 4.34668682, 4.57679981,\n",
       "       4.48466008, 4.80068169, 4.98381878, 4.69106346, 4.58340236,\n",
       "       4.63287465, 4.61185052, 4.13368168, 4.47852798, 5.00279304,\n",
       "       4.58968326, 4.78872632, 4.47870002, 4.37964216, 4.92532777,\n",
       "       4.46629735, 4.41622798, 4.51814207, 4.9573736 , 4.027675  ,\n",
       "       5.28089858, 4.83793039, 3.92315847, 4.81941084, 4.5387628 ,\n",
       "       4.90141343, 4.39613361, 4.85503808, 4.29863221, 4.50916707,\n",
       "       4.43779806, 4.76213778, 4.54370563, 5.03460412, 4.397771  ,\n",
       "       4.17412658, 5.1807102 , 5.14089287, 4.97613111, 4.62823991,\n",
       "       4.42253688, 4.82345533, 4.76650557, 4.31112795, 5.39965929,\n",
       "       5.01497282, 4.77821582, 4.31409903, 4.1041908 , 4.65194617,\n",
       "       4.78669662, 4.61318547, 4.04532975, 4.99817254, 4.63837767,\n",
       "       3.90808489, 5.0152263 , 4.21344503, 4.9652962 , 4.62686361,\n",
       "       4.9642439 , 4.95361354, 5.02928262, 4.56116343, 4.05312808,\n",
       "       5.11507959, 4.1577313 , 4.71960163, 5.31287103, 5.15454769,\n",
       "       4.92440691, 4.49845991, 4.62941816, 4.77357258, 4.45884774,\n",
       "       5.2569842 , 4.96269328, 4.52430413, 4.97353836, 5.17773422,\n",
       "       4.46582737, 5.10714423, 5.11439011, 4.84598231, 4.96096947,\n",
       "       5.02130043, 5.48704567, 5.00115927, 4.35867198, 4.25712411,\n",
       "       4.72979024, 4.64580414, 4.74879123, 4.8121294 , 4.71249655,\n",
       "       5.08034066, 4.73250983, 5.09404377, 4.4978171 , 4.38293149,\n",
       "       4.92460133, 5.25668288, 5.44195249, 4.88649999, 4.66964849,\n",
       "       5.00497811, 4.43844312, 4.38693515, 4.18781751, 4.56540101,\n",
       "       4.9401809 , 4.65878267, 4.64515648, 4.90457439, 4.91582155,\n",
       "       4.84938822, 4.1368404 , 5.16840002, 4.58462343, 5.17166583,\n",
       "       4.4425766 , 5.07297621, 4.77071228, 5.13660907, 4.82738825,\n",
       "       4.25773269, 5.35711051, 3.99327168, 4.99394947, 4.69929285])"
      ]
     },
     "execution_count": 24,
     "metadata": {},
     "output_type": "execute_result"
    }
   ],
   "source": [
    "np.dot( xTrain, w_copy)"
   ]
  },
  {
   "cell_type": "code",
   "execution_count": 11,
   "metadata": {
    "scrolled": true
   },
   "outputs": [
    {
     "data": {
      "image/png": "[encoded data removed]",
      "text/plain": [
       "<Figure size 432x288 with 1 Axes>"
      ]
     },
     "metadata": {
      "needs_background": "light"
     },
     "output_type": "display_data"
    }
   ],
   "source": [
    "error = 1e-6\n",
    "initialTime = time.time()\n",
    "w = w_copy\n",
    "lam = 1/np.max( np.linalg.svd(xTrain @ xTrain.T)[1] )\n",
    "grad = g_Log(w, xTrain, yTrain)\n",
    "gradNorm = np.linalg.norm(grad)\n",
    "gradientValList = [gradNorm]\n",
    "functionValList = [f_Log(w, xTrain, yTrain)]\n",
    "timeList = [time.time() - initialTime]\n",
    "predList = [classify(w, xTest, yTest)]\n",
    "while gradNorm > error:\n",
    "    w = GD_Log(w, lam, xTrain, yTrain)\n",
    "    grad = g_Log(w, xTrain, yTrain)\n",
    "    gradNorm = np.linalg.norm(grad)\n",
    "    gradientValList.append(gradNorm)\n",
    "    functionValList.append(f_Log(w, xTrain, yTrain))\n",
    "    timeList.append(time.time() - initialTime)\n",
    "    predList.append(classify(w,xTest,yTest))\n",
    "    if timeList[-1] > 30:\n",
    "        break\n",
    "plt.scatter(timeList[- (np.argmax(predList[::-1])+1)], gradientValList[- (np.argmax(predList[::-1])+1)], c= 'r')\n",
    "plt.plot(timeList, gradientValList)\n",
    "plt.yscale('log')\n",
    "plt.show()"
   ]
  },
  {
   "cell_type": "code",
   "execution_count": 12,
   "metadata": {},
   "outputs": [
    {
     "name": "stdout",
     "output_type": "stream",
     "text": [
      "0.86\n",
      "0.83\n"
     ]
    }
   ],
   "source": [
    "print(np.max(predList))\n",
    "print(predList[-1])"
   ]
  },
  {
   "cell_type": "markdown",
   "metadata": {},
   "source": [
    "Checking that $L$ is a valid approximation (with SVD):"
   ]
  },
  {
   "cell_type": "code",
   "execution_count": 13,
   "metadata": {
    "scrolled": true
   },
   "outputs": [
    {
     "data": {
      "image/png": "[encoded data removed]",
      "text/plain": [
       "<Figure size 432x288 with 1 Axes>"
      ]
     },
     "metadata": {
      "needs_background": "light"
     },
     "output_type": "display_data"
    }
   ],
   "source": [
    "plt.plot(timeList, functionValList)\n",
    "# plt.yscale('log')\n",
    "plt.show()"
   ]
  },
  {
   "cell_type": "code",
   "execution_count": 14,
   "metadata": {},
   "outputs": [
    {
     "data": {
      "image/png": "[encoded data removed]",
      "text/plain": [
       "<Figure size 432x288 with 1 Axes>"
      ]
     },
     "metadata": {
      "needs_background": "light"
     },
     "output_type": "display_data"
    }
   ],
   "source": [
    "plt.plot(timeList[167:], functionValList[167:])\n",
    "plt.yscale('log')\n",
    "plt.show()"
   ]
  },
  {
   "cell_type": "markdown",
   "metadata": {},
   "source": [
    "## Adaptive Gradient Descent"
   ]
  },
  {
   "cell_type": "markdown",
   "metadata": {},
   "source": [
    "Time limit of 30 seconds, error $= 10^{-6}$"
   ]
  },
  {
   "cell_type": "code",
   "execution_count": 15,
   "metadata": {},
   "outputs": [
    {
     "name": "stderr",
     "output_type": "stream",
     "text": [
      "<ipython-input-15-334ff27cfb41>:21: RuntimeWarning: divide by zero encountered in double_scalars\n",
      "  lam = np.min([ min1, min2a/min2b ])\n"
     ]
    },
    {
     "data": {
      "image/png": "[encoded data removed]",
      "text/plain": [
       "<Figure size 432x288 with 1 Axes>"
      ]
     },
     "metadata": {
      "needs_background": "light"
     },
     "output_type": "display_data"
    }
   ],
   "source": [
    "error = 1e-6\n",
    "initialTime = time.time()\n",
    "w = w_copy\n",
    "w0 = w\n",
    "lam = random.random()+1e-12\n",
    "lam0 = lam\n",
    "theta = np.inf\n",
    "grad = g_Log(w, xTrain, yTrain)\n",
    "grad0 = grad\n",
    "gradNorm = np.linalg.norm(grad)\n",
    "gradientValList = [gradNorm]\n",
    "functionValList = [f_Log(w, xTrain, yTrain)]\n",
    "timeList = [time.time() - initialTime]\n",
    "predList = [classify(w, xTest, yTest)]\n",
    "w = GD_Log(w, lam, xTrain, yTrain)\n",
    "grad = g_Log(w, xTrain, yTrain)\n",
    "while gradNorm > error:\n",
    "    min1 = np.sqrt(1 + theta)*lam\n",
    "    min2a = np.linalg.norm( w - w0)\n",
    "    min2b = 2*np.linalg.norm( grad - grad0 )\n",
    "    lam = np.min([ min1, min2a/min2b ])\n",
    "    w0 = w\n",
    "    grad0 = grad\n",
    "    w = GD_Log(w,lam,xTrain,yTrain)\n",
    "    theta = lam / lam0\n",
    "    lam0 = lam\n",
    "    grad = g_Log(w, xTrain, yTrain)\n",
    "    gradNorm = np.linalg.norm(grad)\n",
    "    gradientValList.append(gradNorm)\n",
    "    functionValList.append(f_Log(w, xTrain, yTrain))\n",
    "    timeList.append(time.time() - initialTime)\n",
    "    predList.append(classify(w,xTest,yTest))\n",
    "    if timeList[-1] > 30:\n",
    "        break\n",
    "\n",
    "plt.scatter(timeList[np.argmax(predList)], gradientValList[np.argmax(predList)], c= 'r')\n",
    "plt.scatter(timeList[- (np.argmax(predList[::-1])+1)], gradientValList[- (np.argmax(predList[::-1])+1)], c= 'm')\n",
    "plt.plot(timeList, gradientValList)\n",
    "plt.yscale('log')\n",
    "plt.show()"
   ]
  },
  {
   "cell_type": "code",
   "execution_count": 16,
   "metadata": {},
   "outputs": [
    {
     "name": "stdout",
     "output_type": "stream",
     "text": [
      "0.84\n",
      "0.84\n"
     ]
    }
   ],
   "source": [
    "print(np.max(predList))\n",
    "print(predList[-1])"
   ]
  },
  {
   "cell_type": "markdown",
   "metadata": {},
   "source": [
    "## Gradient Line Search Gradient Descent"
   ]
  },
  {
   "cell_type": "markdown",
   "metadata": {},
   "source": [
    "Time limit of 30 seconds, error $= 10^{-6}$"
   ]
  },
  {
   "cell_type": "code",
   "execution_count": 12,
   "metadata": {},
   "outputs": [],
   "source": [
    "ggg = np.array([-0.00299186,  0.00810018,  0.0452235,  -0.02699031, -0.01452031,  0.04682324, 0.02554355, -0.00854644,\\\n",
    " -0.02409755,  0.03616246, -0.00066234, -0.00994723, -0.00645198,  0.06228161,  0.013186,   -0.0076774, \\\n",
    " -0.01973689, -0.1139096, -0.00068345,  0.01156781,  0.01534754])"
   ]
  },
  {
   "cell_type": "code",
   "execution_count": 13,
   "metadata": {},
   "outputs": [
    {
     "data": {
      "text/plain": [
       "array([-0.00299186,  0.00810018,  0.0452235 , -0.02699031, -0.01452031,\n",
       "        0.04682324,  0.02554355, -0.00854644, -0.02409755,  0.03616246,\n",
       "       -0.00066234, -0.00994723, -0.00645198,  0.06228161,  0.013186  ,\n",
       "       -0.0076774 , -0.01973689, -0.1139096 , -0.00068345,  0.01156781,\n",
       "        0.01534754])"
      ]
     },
     "execution_count": 13,
     "metadata": {},
     "output_type": "execute_result"
    }
   ],
   "source": [
    "ggg"
   ]
  },
  {
   "cell_type": "code",
   "execution_count": 14,
   "metadata": {},
   "outputs": [],
   "source": [
    "lammm = random.randrange(1e6)"
   ]
  },
  {
   "cell_type": "code",
   "execution_count": 15,
   "metadata": {},
   "outputs": [
    {
     "data": {
      "text/plain": [
       "862631"
      ]
     },
     "execution_count": 15,
     "metadata": {},
     "output_type": "execute_result"
    }
   ],
   "source": [
    "lammm"
   ]
  },
  {
   "cell_type": "code",
   "execution_count": 18,
   "metadata": {},
   "outputs": [
    {
     "data": {
      "text/plain": [
       "array([ -1.09612736,  -1.60532502, -12.98126532,   4.53080166,\n",
       "         1.38953592, -10.4137247 ,  -4.16621275,  -0.34652242,\n",
       "         4.50046661,  -5.98645026,   1.43225238,   1.91446916,\n",
       "         0.34208834, -15.80459354,  -5.82492466,   1.78792857,\n",
       "         6.88429692,  28.80191306,   0.67943412,   0.61698341,\n",
       "        -2.28922927])"
      ]
     },
     "execution_count": 18,
     "metadata": {},
     "output_type": "execute_result"
    }
   ],
   "source": [
    "www = np.array([ -1.09612736,  -1.60532502, -12.98126532,   4.53080166,   1.38953592,\\\n",
    "     -10.4137247,   -4.16621275,  -0.34652242,   4.50046661,  -5.98645026,\\\n",
    "       1.43225238,   1.91446916,   0.34208834, -15.80459354,  -5.82492466,\\\n",
    "       1.78792857,   6.88429692,  28.80191306,   0.67943412,   0.61698341,  -2.28922927])\n",
    "www"
   ]
  },
  {
   "cell_type": "code",
   "execution_count": null,
   "metadata": {},
   "outputs": [],
   "source": []
  },
  {
   "cell_type": "code",
   "execution_count": 16,
   "metadata": {},
   "outputs": [
    {
     "data": {
      "text/plain": [
       "138701.26704343574"
      ]
     },
     "execution_count": 16,
     "metadata": {},
     "output_type": "execute_result"
    }
   ],
   "source": [
    "np.linalg.norm(lammm*ggg)"
   ]
  },
  {
   "cell_type": "code",
   "execution_count": 20,
   "metadata": {},
   "outputs": [
    {
     "name": "stderr",
     "output_type": "stream",
     "text": [
      "<ipython-input-2-403024de6bf8>:3: RuntimeWarning: overflow encountered in exp\n",
      "  denom = 1 + np.exp( - np.dot(x,w) )\n"
     ]
    },
    {
     "data": {
      "text/plain": [
       "567.7534175407045"
      ]
     },
     "execution_count": 20,
     "metadata": {},
     "output_type": "execute_result"
    }
   ],
   "source": [
    "np.linalg.norm(lammm*ggg) / np.linalg.norm(g_Log(www - lammm*ggg, xTrain, yTrain) - ggg)"
   ]
  },
  {
   "cell_type": "code",
   "execution_count": 4,
   "metadata": {},
   "outputs": [
    {
     "name": "stderr",
     "output_type": "stream",
     "text": [
      "<ipython-input-2-403024de6bf8>:3: RuntimeWarning: overflow encountered in exp\n",
      "  denom = 1 + np.exp( - np.dot(x,w) )\n"
     ]
    },
    {
     "data": {
      "image/png": "[encoded data removed]",
      "text/plain": [
       "<Figure size 432x288 with 1 Axes>"
      ]
     },
     "metadata": {
      "needs_background": "light"
     },
     "output_type": "display_data"
    }
   ],
   "source": [
    "def BackTrack(w,x,y,grad):\n",
    "    rho = random.random()\n",
    "    lam = random.randrange(1e6)\n",
    "    while lam > ( np.linalg.norm(lam * grad) / np.linalg.norm( g_Log(w - lam*grad, x, y) - grad )):\n",
    "        lam = rho*lam\n",
    "    return lam\n",
    "\n",
    "error = 1e-6\n",
    "initialTime = time.time()\n",
    "w = w_copy\n",
    "grad = g_Log(w, xTrain, yTrain)\n",
    "gradNorm = np.linalg.norm(grad)\n",
    "gradientValList = [gradNorm]\n",
    "functionValList = [f_Log(w, xTrain, yTrain)]\n",
    "timeList = [time.time() - initialTime]\n",
    "predList = [classify(w, xTest, yTest)]\n",
    "while gradNorm > error:\n",
    "    lam = BackTrack(w, xTrain, yTrain, grad)\n",
    "    w = GD_Log(w, lam, xTrain, yTrain)\n",
    "    grad = g_Log(w, xTrain, yTrain)\n",
    "    gradNorm = np.linalg.norm(grad)\n",
    "    gradientValList.append(gradNorm)\n",
    "    functionValList.append(f_Log(w, xTrain, yTrain))\n",
    "    timeList.append(time.time() - initialTime)\n",
    "    predList.append(classify(w,xTest,yTest))\n",
    "    if timeList[-1] > 30:\n",
    "        break\n",
    "plt.scatter(timeList[- (np.argmax(predList[::-1])+1)], gradientValList[- (np.argmax(predList[::-1])+1)], c= 'r')\n",
    "plt.plot(timeList, gradientValList)\n",
    "plt.yscale('log')\n",
    "plt.show()"
   ]
  },
  {
   "cell_type": "code",
   "execution_count": 6,
   "metadata": {},
   "outputs": [
    {
     "data": {
      "text/plain": [
       "0.89"
      ]
     },
     "execution_count": 6,
     "metadata": {},
     "output_type": "execute_result"
    }
   ],
   "source": [
    "max(predList)"
   ]
  },
  {
   "cell_type": "code",
   "execution_count": 5,
   "metadata": {},
   "outputs": [
    {
     "data": {
      "text/plain": [
       "0.88"
      ]
     },
     "execution_count": 5,
     "metadata": {},
     "output_type": "execute_result"
    }
   ],
   "source": [
    "predList[-1]"
   ]
  },
  {
   "cell_type": "markdown",
   "metadata": {},
   "source": [
    "## Barzalai-Borwein Gradient Descent"
   ]
  },
  {
   "cell_type": "code",
   "execution_count": 19,
   "metadata": {
    "scrolled": true
   },
   "outputs": [
    {
     "name": "stderr",
     "output_type": "stream",
     "text": [
      "<ipython-input-9-403024de6bf8>:3: RuntimeWarning: overflow encountered in exp\n",
      "  denom = 1 + np.exp( - np.dot(x,w) )\n"
     ]
    },
    {
     "data": {
      "image/png": "[encoded data removed]",
      "text/plain": [
       "<Figure size 432x288 with 1 Axes>"
      ]
     },
     "metadata": {
      "needs_background": "light"
     },
     "output_type": "display_data"
    }
   ],
   "source": [
    "error = 1e-6\n",
    "initialTime = time.time()\n",
    "w = w_copy\n",
    "lam = random.random()+1e-12\n",
    "w0 = w # try computing lambda by adding some small random amount to w0\n",
    "grad = g_Log(w, xTrain, yTrain)\n",
    "grad0 = deepcopy(grad)\n",
    "gradNorm = np.linalg.norm(grad)\n",
    "gradientValList = [gradNorm]\n",
    "functionValList = [f_Log(w, xTrain, yTrain)]\n",
    "timeList = [time.time() - initialTime]\n",
    "predList = [classify(w, xTest, yTest)]\n",
    "w = GD_Log(w, lam, xTrain, yTrain)\n",
    "grad = g_Log(w, xTrain, yTrain)\n",
    "k = 0\n",
    "while (k < 10 and gradNorm > error):\n",
    "    nom = np.dot(w - w0, grad - grad0 )\n",
    "    denom = np.linalg.norm( grad - grad0 )**2\n",
    "    lam = nom/(denom +1e-300)\n",
    "    w_backup = w\n",
    "#     grad0 = deepcopy(grad)\n",
    "#     print(\"before\", g_Log(w, xTrain, yTrain))\n",
    "#     print(lam)\n",
    "    if lam == 0:\n",
    "        break\n",
    "    w = GD_Log(w, lam, xTrain, yTrain)\n",
    "#     print(\"after\", g_Log(w, xTrain, yTrain))\n",
    "    grad = g_Log(w, xTrain, yTrain)\n",
    "    gradNorm = np.linalg.norm(grad)\n",
    "    gradientValList.append(gradNorm)\n",
    "    functionValList.append(f_Log(w, xTrain, yTrain))\n",
    "    timeList.append(time.time() - initialTime)\n",
    "    predList.append(classify(w,xTest,yTest))\n",
    "    if timeList[-1] > 30:\n",
    "        break\n",
    "    k+= 1\n",
    "w0 = w_backup\n",
    "grad0 = g_Log(w0, xTrain, yTrain)\n",
    "while gradNorm > error:\n",
    "    nom = np.dot(w - w0, grad - grad0 )\n",
    "    denom = np.linalg.norm( grad - grad0 )**2\n",
    "    lam = nom/(denom +1e-300)\n",
    "    w0 = w\n",
    "    grad0 = deepcopy(grad)\n",
    "#     print(\"before\", g_Log(w, xTrain, yTrain))\n",
    "#     print(lam)\n",
    "    if lam == 0:\n",
    "        break\n",
    "    w = GD_Log(w, lam, xTrain, yTrain)\n",
    "#     print(\"after\", g_Log(w, xTrain, yTrain))\n",
    "    grad = g_Log(w, xTrain, yTrain)\n",
    "    gradNorm = np.linalg.norm(grad)\n",
    "    gradientValList.append(gradNorm)\n",
    "    functionValList.append(f_Log(w, xTrain, yTrain))\n",
    "    timeList.append(time.time() - initialTime)\n",
    "    predList.append(classify(w,xTest,yTest))\n",
    "    if timeList[-1] > 30:\n",
    "        break\n",
    "plt.scatter(timeList[- (np.argmax(predList[::-1])+1)], gradientValList[- (np.argmax(predList[::-1])+1)], c= 'r')\n",
    "plt.plot(timeList, gradientValList)\n",
    "plt.yscale('log')\n",
    "plt.show()"
   ]
  },
  {
   "cell_type": "code",
   "execution_count": 20,
   "metadata": {
    "scrolled": true
   },
   "outputs": [
    {
     "data": {
      "text/plain": [
       "0.84"
      ]
     },
     "execution_count": 20,
     "metadata": {},
     "output_type": "execute_result"
    }
   ],
   "source": [
    "predList[-1]"
   ]
  },
  {
   "cell_type": "code",
   "execution_count": 21,
   "metadata": {},
   "outputs": [
    {
     "data": {
      "text/plain": [
       "0.85"
      ]
     },
     "execution_count": 21,
     "metadata": {},
     "output_type": "execute_result"
    }
   ],
   "source": [
    "max(predList)"
   ]
  },
  {
   "cell_type": "markdown",
   "metadata": {},
   "source": [
    "## Nesterov Logistic Regression"
   ]
  },
  {
   "cell_type": "markdown",
   "metadata": {},
   "source": []
  },
  {
   "cell_type": "code",
   "execution_count": 20,
   "metadata": {},
   "outputs": [
    {
     "data": {
      "image/png": "[encoded data removed]",
      "text/plain": [
       "<Figure size 432x288 with 1 Axes>"
      ]
     },
     "metadata": {
      "needs_background": "light"
     },
     "output_type": "display_data"
    }
   ],
   "source": [
    "error = 1e-6\n",
    "initialTime = time.time()\n",
    "w = w_copy\n",
    "grad = g_Log(w, xTrain, yTrain)\n",
    "gradNorm = np.linalg.norm(grad)\n",
    "gradientValList = [gradNorm]\n",
    "functionValList = [f_Log(w, xTrain, yTrain)]\n",
    "timeList = [time.time() - initialTime]\n",
    "predList = [classify(w, xTest, yTest)]\n",
    "lam0 = 1\n",
    "L = np.max( np.linalg.svd(xTrain @ xTrain.T)[1] )\n",
    "y0 = w\n",
    "while gradNorm > error:\n",
    "    lam = 0.5*(1 + np.sqrt(1 + 4*lam0**2))\n",
    "    gamma = (1 - lam0)/lam\n",
    "#     print('gamma', gamma)\n",
    "    y1 = w - grad/L\n",
    "    w = (1 - gamma)*y1 + gamma*y0\n",
    "    y0 = y1\n",
    "    lam0 = lam\n",
    "    grad = g_Log(w, xTrain, yTrain)\n",
    "    gradNorm = np.linalg.norm(grad)\n",
    "    gradientValList.append(gradNorm)\n",
    "    functionValList.append(f_Log(w, xTrain, yTrain))\n",
    "    timeList.append(time.time() - initialTime)\n",
    "    predList.append(classify(w,xTest,yTest))\n",
    "    if timeList[-1] > 10:\n",
    "        break\n",
    "plt.scatter(timeList[- (np.argmax(predList[::-1])+1)], gradientValList[- (np.argmax(predList[::-1])+1)], c= 'r')\n",
    "plt.plot(timeList, gradientValList)\n",
    "plt.yscale('log')\n",
    "plt.show()"
   ]
  },
  {
   "cell_type": "code",
   "execution_count": 21,
   "metadata": {},
   "outputs": [
    {
     "data": {
      "image/png": "[encoded data removed]",
      "text/plain": [
       "<Figure size 432x288 with 1 Axes>"
      ]
     },
     "metadata": {
      "needs_background": "light"
     },
     "output_type": "display_data"
    }
   ],
   "source": [
    "plt.plot(timeList, functionValList)\n",
    "plt.show()"
   ]
  },
  {
   "cell_type": "code",
   "execution_count": 22,
   "metadata": {},
   "outputs": [
    {
     "data": {
      "text/plain": [
       "0.95"
      ]
     },
     "execution_count": 22,
     "metadata": {},
     "output_type": "execute_result"
    }
   ],
   "source": [
    "predList[-1]"
   ]
  },
  {
   "cell_type": "code",
   "execution_count": 23,
   "metadata": {},
   "outputs": [
    {
     "data": {
      "text/plain": [
       "99"
      ]
     },
     "execution_count": 23,
     "metadata": {},
     "output_type": "execute_result"
    }
   ],
   "source": [
    "np.argmax(predList)"
   ]
  },
  {
   "cell_type": "code",
   "execution_count": 24,
   "metadata": {},
   "outputs": [
    {
     "data": {
      "text/plain": [
       "13625"
      ]
     },
     "execution_count": 24,
     "metadata": {},
     "output_type": "execute_result"
    }
   ],
   "source": [
    "len(gradientValList)"
   ]
  }
 ],
 "metadata": {
  "kernelspec": {
   "display_name": "Python 3",
   "language": "python",
   "name": "python3"
  },
  "language_info": {
   "codemirror_mode": {
    "name": "ipython",
    "version": 3
   },
   "file_extension": ".py",
   "mimetype": "text/x-python",
   "name": "python",
   "nbconvert_exporter": "python",
   "pygments_lexer": "ipython3",
   "version": "3.8.6"
  }
 },
 "nbformat": 4,
 "nbformat_minor": 4
}
