{
 "cells": [
  {
   "cell_type": "markdown",
   "metadata": {},
   "source": [
    "# Logistic testing"
   ]
  },
  {
   "cell_type": "code",
   "execution_count": 1,
   "metadata": {},
   "outputs": [],
   "source": [
    "import matplotlib.pyplot as plt\n",
    "import random\n",
    "import numpy as np\n",
    "import pandas as pd\n",
    "import time\n",
    "from copy import deepcopy\n",
    "from sklearn.datasets import make_regression as Make_reg # default is 100 samples, 100 features\n",
    "from sklearn.datasets import make_classification as Make_class # default is 100 samples, 20 features, 2 classes\n",
    "from sklearn.model_selection import train_test_split as split"
   ]
  },
  {
   "cell_type": "markdown",
   "metadata": {},
   "source": [
    "$h(w)$: Sigmoid function:\n",
    "\n",
    "$$\\frac{1}{1 + e^{-\\langle x, w \\rangle}}$$\n",
    "\n",
    "$f_{\\text{LOG}}(w)$: negative log liklihood function:\n",
    "\n",
    "$$-\\frac{1}{k}  \\sum_{i=1}^k \\bigg( y_k \\log(h(w)) + (1 - y_k) \\log(1 -h(w))\\bigg) $$\n",
    "\n",
    "Explicitly:\n",
    "\n",
    "$$\\frac{1}{k} \\sum_{i=1}^k \\Bigg( -y_k \\log\\bigg(\\frac{1}{1 + e^{-\\langle x_k, w \\rangle}}\\bigg) - (1 - y_k) \\log\\bigg(1 - \\frac{1}{1 + e^{-\\langle x_k, w \\rangle}}\\bigg) \\Bigg)$$\n",
    "\n",
    "$g_{\\text{LOG}}(w) = f'_{\\text{LOG}}(w)$: gradient function of negative log liklihood:\n",
    "\n",
    "$$ \\langle h(w) - y, x \\rangle $$\n",
    "\n",
    "Explicitly: (fix here - check definition of dot product vs matrix mult.)\n",
    "\n",
    "$$ \\Bigg\\langle \\frac{1}{1 + e^{-\\langle x, w \\rangle}} - y, x \\Bigg\\rangle = \\frac{1}{k} \\sum_{i=1}^k  x_k \\Bigg( \\frac{1}{1 + e^{-\\langle x_k, w \\rangle}} - y_k \\Bigg) $$\n",
    "\n",
    "A note on the data:\n",
    "\n",
    "$x$ is an $m \\times n$ matrix of $m$ samples and $n$ features. So it is a dataset in $\\mathbb{R}^n$.\n",
    "\n",
    "$y$ is a $m \\times 1$ vector with a binary classifier for each sample.\n",
    "\n",
    "$w$ is a $1 \\times n$ array."
   ]
  },
  {
   "cell_type": "markdown",
   "metadata": {},
   "source": [
    "### Defining Functions"
   ]
  },
  {
   "cell_type": "code",
   "execution_count": 2,
   "metadata": {},
   "outputs": [],
   "source": [
    "def ren(x): return range(len(x)) # a function for plotting iterates of a list\n",
    "def sigmoid(w, x): # a basic sigmoid function\n",
    "    denom = 1 + np.exp( - np.dot(x,w) )\n",
    "    return 1 / denom\n",
    "def normalise(x): # normalises the input data to values between 0 and 1\n",
    "    mins = np.min(x, axis = 0)\n",
    "    maxs = np.max(x, axis = 0)\n",
    "    rng = maxs - mins\n",
    "    return  1 - (maxs- x)/rng\n",
    "def f_Log(w, x, y): # neg log likli func: see LaTeX above\n",
    "    sig = sigmoid(w,x)\n",
    "    step1 = y*np.log(sig + 1e-300)\n",
    "    step2 = (1-y)*np.log(1 - sig + 1e-300)\n",
    "    return np.mean(-step1 - step2)\n",
    "def g_Log(w, x, y): # simplified gradient function, essentially just x(h(w) - y): see LaTeX above\n",
    "    sig = sigmoid(w,x)\n",
    "    inner = sig - y\n",
    "    return np.dot(inner, x)\n",
    "def GD_Log(w, lam, x, y):\n",
    "    return w - lam*g_Log(w,x,y)\n",
    "def predict(w, x):\n",
    "    sig = sigmoid(w, x)\n",
    "    return np.squeeze( np.where(sig >= 0.5, 1, 0) )\n",
    "def classify(w, x_Te, y_Te):\n",
    "    return sum( predict(w, x_Te) == y_Te ) / len(x_Te)"
   ]
  },
  {
   "cell_type": "markdown",
   "metadata": {},
   "source": [
    "### Make classification dataset"
   ]
  },
  {
   "cell_type": "markdown",
   "metadata": {},
   "source": [
    "#### For generating new classification dataset"
   ]
  },
  {
   "cell_type": "code",
   "execution_count": 3,
   "metadata": {},
   "outputs": [],
   "source": [
    "my_classes = Make_class(n_samples=1000)\n",
    "ones_array = np.array([[1]*len(my_classes[0])])\n",
    "aug_data = np.concatenate((ones_array.T, normalise(my_classes[0])), axis = 1)\n",
    "xTrain, xTest, yTrain, yTest = split( aug_data, my_classes[1], test_size = 0.1)\n",
    "w_copy = np.random.rand(len(xTrain[0]))"
   ]
  },
  {
   "cell_type": "markdown",
   "metadata": {},
   "source": [
    "## Vanilla Gradient Descent"
   ]
  },
  {
   "cell_type": "markdown",
   "metadata": {},
   "source": [
    "Time limit of 30 seconds, error $= 10^{-6}$"
   ]
  },
  {
   "cell_type": "code",
   "execution_count": 11,
   "metadata": {
    "scrolled": true
   },
   "outputs": [
    {
     "data": {
      "image/png": "[encoded data removed]",
      "text/plain": [
       "<Figure size 432x288 with 1 Axes>"
      ]
     },
     "metadata": {
      "needs_background": "light"
     },
     "output_type": "display_data"
    }
   ],
   "source": [
    "error = 1e-6\n",
    "initialTime = time.time()\n",
    "w = w_copy\n",
    "lam = 1/np.max( np.linalg.svd(xTrain @ xTrain.T)[1] )\n",
    "grad = g_Log(w, xTrain, yTrain)\n",
    "gradNorm = np.linalg.norm(grad)\n",
    "gradientValList = [gradNorm]\n",
    "functionValList = [f_Log(w, xTrain, yTrain)]\n",
    "timeList = [time.time() - initialTime]\n",
    "predList = [classify(w, xTest, yTest)]\n",
    "while gradNorm > error:\n",
    "    w = GD_Log(w, lam, xTrain, yTrain)\n",
    "    grad = g_Log(w, xTrain, yTrain)\n",
    "    gradNorm = np.linalg.norm(grad)\n",
    "    gradientValList.append(gradNorm)\n",
    "    functionValList.append(f_Log(w, xTrain, yTrain))\n",
    "    timeList.append(time.time() - initialTime)\n",
    "    predList.append(classify(w,xTest,yTest))\n",
    "    if timeList[-1] > 30:\n",
    "        break\n",
    "plt.scatter(timeList[- (np.argmax(predList[::-1])+1)], gradientValList[- (np.argmax(predList[::-1])+1)], c= 'r')\n",
    "plt.plot(timeList, gradientValList)\n",
    "plt.yscale('log')\n",
    "plt.show()"
   ]
  },
  {
   "cell_type": "code",
   "execution_count": 12,
   "metadata": {},
   "outputs": [
    {
     "name": "stdout",
     "output_type": "stream",
     "text": [
      "0.86\n",
      "0.83\n"
     ]
    }
   ],
   "source": [
    "print(np.max(predList))\n",
    "print(predList[-1])"
   ]
  },
  {
   "cell_type": "markdown",
   "metadata": {},
   "source": [
    "Checking that $L$ is a valid approximation (with SVD):"
   ]
  },
  {
   "cell_type": "code",
   "execution_count": 13,
   "metadata": {
    "scrolled": true
   },
   "outputs": [
    {
     "data": {
      "image/png": "[encoded data removed]",
      "text/plain": [
       "<Figure size 432x288 with 1 Axes>"
      ]
     },
     "metadata": {
      "needs_background": "light"
     },
     "output_type": "display_data"
    }
   ],
   "source": [
    "plt.plot(timeList, functionValList)\n",
    "# plt.yscale('log')\n",
    "plt.show()"
   ]
  },
  {
   "cell_type": "code",
   "execution_count": 14,
   "metadata": {},
   "outputs": [
    {
     "data": {
      "image/png": "[encoded data removed]",
      "text/plain": [
       "<Figure size 432x288 with 1 Axes>"
      ]
     },
     "metadata": {
      "needs_background": "light"
     },
     "output_type": "display_data"
    }
   ],
   "source": [
    "plt.plot(timeList[167:], functionValList[167:])\n",
    "plt.yscale('log')\n",
    "plt.show()"
   ]
  },
  {
   "cell_type": "markdown",
   "metadata": {},
   "source": [
    "## Adaptive Gradient Descent"
   ]
  },
  {
   "cell_type": "markdown",
   "metadata": {},
   "source": [
    "Time limit of 30 seconds, error $= 10^{-6}$"
   ]
  },
  {
   "cell_type": "code",
   "execution_count": 15,
   "metadata": {},
   "outputs": [
    {
     "name": "stderr",
     "output_type": "stream",
     "text": [
      "<ipython-input-15-334ff27cfb41>:21: RuntimeWarning: divide by zero encountered in double_scalars\n",
      "  lam = np.min([ min1, min2a/min2b ])\n"
     ]
    },
    {
     "data": {
      "image/png": "[encoded data removed]",
      "text/plain": [
       "<Figure size 432x288 with 1 Axes>"
      ]
     },
     "metadata": {
      "needs_background": "light"
     },
     "output_type": "display_data"
    }
   ],
   "source": [
    "error = 1e-6\n",
    "initialTime = time.time()\n",
    "w = w_copy\n",
    "w0 = w\n",
    "lam = random.random()+1e-12\n",
    "lam0 = lam\n",
    "theta = np.inf\n",
    "grad = g_Log(w, xTrain, yTrain)\n",
    "grad0 = grad\n",
    "gradNorm = np.linalg.norm(grad)\n",
    "gradientValList = [gradNorm]\n",
    "functionValList = [f_Log(w, xTrain, yTrain)]\n",
    "timeList = [time.time() - initialTime]\n",
    "predList = [classify(w, xTest, yTest)]\n",
    "w = GD_Log(w, lam, xTrain, yTrain)\n",
    "grad = g_Log(w, xTrain, yTrain)\n",
    "while gradNorm > error:\n",
    "    min1 = np.sqrt(1 + theta)*lam\n",
    "    min2a = np.linalg.norm( w - w0)\n",
    "    min2b = 2*np.linalg.norm( grad - grad0 )\n",
    "    lam = np.min([ min1, min2a/min2b ])\n",
    "    w0 = w\n",
    "    grad0 = grad\n",
    "    w = GD_Log(w,lam,xTrain,yTrain)\n",
    "    theta = lam / lam0\n",
    "    lam0 = lam\n",
    "    grad = g_Log(w, xTrain, yTrain)\n",
    "    gradNorm = np.linalg.norm(grad)\n",
    "    gradientValList.append(gradNorm)\n",
    "    functionValList.append(f_Log(w, xTrain, yTrain))\n",
    "    timeList.append(time.time() - initialTime)\n",
    "    predList.append(classify(w,xTest,yTest))\n",
    "    if timeList[-1] > 30:\n",
    "        break\n",
    "\n",
    "plt.scatter(timeList[np.argmax(predList)], gradientValList[np.argmax(predList)], c= 'r')\n",
    "plt.scatter(timeList[- (np.argmax(predList[::-1])+1)], gradientValList[- (np.argmax(predList[::-1])+1)], c= 'm')\n",
    "plt.plot(timeList, gradientValList)\n",
    "plt.yscale('log')\n",
    "plt.show()"
   ]
  },
  {
   "cell_type": "code",
   "execution_count": 16,
   "metadata": {},
   "outputs": [
    {
     "name": "stdout",
     "output_type": "stream",
     "text": [
      "0.84\n",
      "0.84\n"
     ]
    }
   ],
   "source": [
    "print(np.max(predList))\n",
    "print(predList[-1])"
   ]
  },
  {
   "cell_type": "markdown",
   "metadata": {},
   "source": [
    "## Gradient Line Search Gradient Descent"
   ]
  },
  {
   "cell_type": "markdown",
   "metadata": {},
   "source": [
    "Time limit of 30 seconds, error $= 10^{-6}$"
   ]
  },
  {
   "cell_type": "code",
   "execution_count": 17,
   "metadata": {},
   "outputs": [
    {
     "name": "stderr",
     "output_type": "stream",
     "text": [
      "<ipython-input-9-403024de6bf8>:3: RuntimeWarning: overflow encountered in exp\n",
      "  denom = 1 + np.exp( - np.dot(x,w) )\n"
     ]
    },
    {
     "data": {
      "image/png": "[encoded data removed]",
      "text/plain": [
       "<Figure size 432x288 with 1 Axes>"
      ]
     },
     "metadata": {
      "needs_background": "light"
     },
     "output_type": "display_data"
    }
   ],
   "source": [
    "def BackTrack(w,x,y,grad):\n",
    "    rho = random.random()\n",
    "    lam = random.randrange(1e6)\n",
    "    while lam > ( np.linalg.norm(lam * grad) / np.linalg.norm( g_Log(w - lam*grad, x, y) - grad )):\n",
    "        lam = rho*lam\n",
    "    return lam\n",
    "\n",
    "error = 1e-6\n",
    "initialTime = time.time()\n",
    "w = w_copy\n",
    "grad = g_Log(w, xTrain, yTrain)\n",
    "gradNorm = np.linalg.norm(grad)\n",
    "gradientValList = [gradNorm]\n",
    "functionValList = [f_Log(w, xTrain, yTrain)]\n",
    "timeList = [time.time() - initialTime]\n",
    "predList = [classify(w, xTest, yTest)]\n",
    "while gradNorm > error:\n",
    "    lam = BackTrack(w, xTrain, yTrain, grad)\n",
    "    w = GD_Log(w, lam, xTrain, yTrain)\n",
    "    grad = g_Log(w, xTrain, yTrain)\n",
    "    gradNorm = np.linalg.norm(grad)\n",
    "    gradientValList.append(gradNorm)\n",
    "    functionValList.append(f_Log(w, xTrain, yTrain))\n",
    "    timeList.append(time.time() - initialTime)\n",
    "    predList.append(classify(w,xTest,yTest))\n",
    "    if timeList[-1] > 30:\n",
    "        break\n",
    "plt.scatter(timeList[- (np.argmax(predList[::-1])+1)], gradientValList[- (np.argmax(predList[::-1])+1)], c= 'r')\n",
    "plt.plot(timeList, gradientValList)\n",
    "plt.yscale('log')\n",
    "plt.show()"
   ]
  },
  {
   "cell_type": "code",
   "execution_count": 18,
   "metadata": {},
   "outputs": [
    {
     "data": {
      "text/plain": [
       "684"
      ]
     },
     "execution_count": 18,
     "metadata": {},
     "output_type": "execute_result"
    }
   ],
   "source": [
    "len(gradientValList)"
   ]
  },
  {
   "cell_type": "markdown",
   "metadata": {},
   "source": [
    "## Barzalai-Borwein Gradient Descent"
   ]
  },
  {
   "cell_type": "code",
   "execution_count": 19,
   "metadata": {
    "scrolled": true
   },
   "outputs": [
    {
     "name": "stderr",
     "output_type": "stream",
     "text": [
      "<ipython-input-9-403024de6bf8>:3: RuntimeWarning: overflow encountered in exp\n",
      "  denom = 1 + np.exp( - np.dot(x,w) )\n"
     ]
    },
    {
     "data": {
      "image/png": "[encoded data removed]",
      "text/plain": [
       "<Figure size 432x288 with 1 Axes>"
      ]
     },
     "metadata": {
      "needs_background": "light"
     },
     "output_type": "display_data"
    }
   ],
   "source": [
    "error = 1e-6\n",
    "initialTime = time.time()\n",
    "w = w_copy\n",
    "lam = random.random()+1e-12\n",
    "w0 = w # try computing lambda by adding some small random amount to w0\n",
    "grad = g_Log(w, xTrain, yTrain)\n",
    "grad0 = deepcopy(grad)\n",
    "gradNorm = np.linalg.norm(grad)\n",
    "gradientValList = [gradNorm]\n",
    "functionValList = [f_Log(w, xTrain, yTrain)]\n",
    "timeList = [time.time() - initialTime]\n",
    "predList = [classify(w, xTest, yTest)]\n",
    "w = GD_Log(w, lam, xTrain, yTrain)\n",
    "grad = g_Log(w, xTrain, yTrain)\n",
    "k = 0\n",
    "while (k < 10 and gradNorm > error):\n",
    "    nom = np.dot(w - w0, grad - grad0 )\n",
    "    denom = np.linalg.norm( grad - grad0 )**2\n",
    "    lam = nom/(denom +1e-300)\n",
    "    w_backup = w\n",
    "#     grad0 = deepcopy(grad)\n",
    "#     print(\"before\", g_Log(w, xTrain, yTrain))\n",
    "#     print(lam)\n",
    "    if lam == 0:\n",
    "        break\n",
    "    w = GD_Log(w, lam, xTrain, yTrain)\n",
    "#     print(\"after\", g_Log(w, xTrain, yTrain))\n",
    "    grad = g_Log(w, xTrain, yTrain)\n",
    "    gradNorm = np.linalg.norm(grad)\n",
    "    gradientValList.append(gradNorm)\n",
    "    functionValList.append(f_Log(w, xTrain, yTrain))\n",
    "    timeList.append(time.time() - initialTime)\n",
    "    predList.append(classify(w,xTest,yTest))\n",
    "    if timeList[-1] > 30:\n",
    "        break\n",
    "    k+= 1\n",
    "w0 = w_backup\n",
    "grad0 = g_Log(w0, xTrain, yTrain)\n",
    "while gradNorm > error:\n",
    "    nom = np.dot(w - w0, grad - grad0 )\n",
    "    denom = np.linalg.norm( grad - grad0 )**2\n",
    "    lam = nom/(denom +1e-300)\n",
    "    w0 = w\n",
    "    grad0 = deepcopy(grad)\n",
    "#     print(\"before\", g_Log(w, xTrain, yTrain))\n",
    "#     print(lam)\n",
    "    if lam == 0:\n",
    "        break\n",
    "    w = GD_Log(w, lam, xTrain, yTrain)\n",
    "#     print(\"after\", g_Log(w, xTrain, yTrain))\n",
    "    grad = g_Log(w, xTrain, yTrain)\n",
    "    gradNorm = np.linalg.norm(grad)\n",
    "    gradientValList.append(gradNorm)\n",
    "    functionValList.append(f_Log(w, xTrain, yTrain))\n",
    "    timeList.append(time.time() - initialTime)\n",
    "    predList.append(classify(w,xTest,yTest))\n",
    "    if timeList[-1] > 30:\n",
    "        break\n",
    "plt.scatter(timeList[- (np.argmax(predList[::-1])+1)], gradientValList[- (np.argmax(predList[::-1])+1)], c= 'r')\n",
    "plt.plot(timeList, gradientValList)\n",
    "plt.yscale('log')\n",
    "plt.show()"
   ]
  },
  {
   "cell_type": "code",
   "execution_count": 20,
   "metadata": {
    "scrolled": true
   },
   "outputs": [
    {
     "data": {
      "text/plain": [
       "0.84"
      ]
     },
     "execution_count": 20,
     "metadata": {},
     "output_type": "execute_result"
    }
   ],
   "source": [
    "predList[-1]"
   ]
  },
  {
   "cell_type": "code",
   "execution_count": 21,
   "metadata": {},
   "outputs": [
    {
     "data": {
      "text/plain": [
       "0.85"
      ]
     },
     "execution_count": 21,
     "metadata": {},
     "output_type": "execute_result"
    }
   ],
   "source": [
    "max(predList)"
   ]
  },
  {
   "cell_type": "markdown",
   "metadata": {},
   "source": [
    "## Nesterov Logistic Regression"
   ]
  },
  {
   "cell_type": "markdown",
   "metadata": {},
   "source": []
  },
  {
   "cell_type": "code",
   "execution_count": 18,
   "metadata": {},
   "outputs": [
    {
     "name": "stderr",
     "output_type": "stream",
     "text": [
      "<ipython-input-2-403024de6bf8>:3: RuntimeWarning: overflow encountered in exp\n",
      "  denom = 1 + np.exp( - np.dot(x,w) )\n"
     ]
    },
    {
     "data": {
      "image/png": "[encoded data removed]",
      "text/plain": [
       "<Figure size 432x288 with 1 Axes>"
      ]
     },
     "metadata": {
      "needs_background": "light"
     },
     "output_type": "display_data"
    }
   ],
   "source": [
    "error = 1e-6\n",
    "initialTime = time.time()\n",
    "w = w_copy\n",
    "grad = g_Log(w, xTrain, yTrain)\n",
    "gradNorm = np.linalg.norm(grad)\n",
    "gradientValList = [gradNorm]\n",
    "functionValList = [f_Log(w, xTrain, yTrain)]\n",
    "timeList = [time.time() - initialTime]\n",
    "predList = [classify(w, xTest, yTest)]\n",
    "lam0 = 1\n",
    "L = np.max( np.linalg.svd(xTrain @ xTrain.T)[1] )\n",
    "y0 = w\n",
    "while gradNorm > error:\n",
    "    lam = 0.5*(1 + np.sqrt(1 + 4*lam0**2))\n",
    "    gamma = (1 - lam0)/lam\n",
    "#     print('gamma', gamma)\n",
    "    y1 = w - grad/L\n",
    "    w = (1 - gamma)*y1 + gamma*y0\n",
    "    y0 = y1\n",
    "    lam0 = lam\n",
    "    w = GD_Log(w, lam, xTrain, yTrain)\n",
    "    grad = g_Log(w, xTrain, yTrain)\n",
    "    gradNorm = np.linalg.norm(grad)\n",
    "    gradientValList.append(gradNorm)\n",
    "    functionValList.append(f_Log(w, xTrain, yTrain))\n",
    "    timeList.append(time.time() - initialTime)\n",
    "    predList.append(classify(w,xTest,yTest))\n",
    "    if timeList[-1] > 10:\n",
    "        break\n",
    "plt.scatter(timeList[- (np.argmax(predList[::-1])+1)], gradientValList[- (np.argmax(predList[::-1])+1)], c= 'r')\n",
    "plt.plot(timeList, gradientValList)\n",
    "plt.yscale('log')\n",
    "plt.show()"
   ]
  },
  {
   "cell_type": "code",
   "execution_count": 19,
   "metadata": {},
   "outputs": [
    {
     "ename": "ValueError",
     "evalue": "x and y must have same first dimension, but have shapes (11711,) and (9559,)",
     "output_type": "error",
     "traceback": [
      "\u001b[1;31m---------------------------------------------------------------------------\u001b[0m",
      "\u001b[1;31mValueError\u001b[0m                                Traceback (most recent call last)",
      "\u001b[1;32m<ipython-input-19-9b7e5b897d71>\u001b[0m in \u001b[0;36m<module>\u001b[1;34m\u001b[0m\n\u001b[1;32m----> 1\u001b[1;33m \u001b[0mplt\u001b[0m\u001b[1;33m.\u001b[0m\u001b[0mplot\u001b[0m\u001b[1;33m(\u001b[0m\u001b[0mtimeList\u001b[0m\u001b[1;33m,\u001b[0m \u001b[0mfunctionValList\u001b[0m\u001b[1;33m)\u001b[0m\u001b[1;33m\u001b[0m\u001b[1;33m\u001b[0m\u001b[0m\n\u001b[0m\u001b[0;32m      2\u001b[0m \u001b[0mplt\u001b[0m\u001b[1;33m.\u001b[0m\u001b[0mshow\u001b[0m\u001b[1;33m(\u001b[0m\u001b[1;33m)\u001b[0m\u001b[1;33m\u001b[0m\u001b[1;33m\u001b[0m\u001b[0m\n",
      "\u001b[1;32mc:\\users\\asus\\appdata\\local\\programs\\python\\python38-32\\lib\\site-packages\\matplotlib\\pyplot.py\u001b[0m in \u001b[0;36mplot\u001b[1;34m(scalex, scaley, data, *args, **kwargs)\u001b[0m\n\u001b[0;32m   2838\u001b[0m \u001b[1;33m@\u001b[0m\u001b[0m_copy_docstring_and_deprecators\u001b[0m\u001b[1;33m(\u001b[0m\u001b[0mAxes\u001b[0m\u001b[1;33m.\u001b[0m\u001b[0mplot\u001b[0m\u001b[1;33m)\u001b[0m\u001b[1;33m\u001b[0m\u001b[1;33m\u001b[0m\u001b[0m\n\u001b[0;32m   2839\u001b[0m \u001b[1;32mdef\u001b[0m \u001b[0mplot\u001b[0m\u001b[1;33m(\u001b[0m\u001b[1;33m*\u001b[0m\u001b[0margs\u001b[0m\u001b[1;33m,\u001b[0m \u001b[0mscalex\u001b[0m\u001b[1;33m=\u001b[0m\u001b[1;32mTrue\u001b[0m\u001b[1;33m,\u001b[0m \u001b[0mscaley\u001b[0m\u001b[1;33m=\u001b[0m\u001b[1;32mTrue\u001b[0m\u001b[1;33m,\u001b[0m \u001b[0mdata\u001b[0m\u001b[1;33m=\u001b[0m\u001b[1;32mNone\u001b[0m\u001b[1;33m,\u001b[0m \u001b[1;33m**\u001b[0m\u001b[0mkwargs\u001b[0m\u001b[1;33m)\u001b[0m\u001b[1;33m:\u001b[0m\u001b[1;33m\u001b[0m\u001b[1;33m\u001b[0m\u001b[0m\n\u001b[1;32m-> 2840\u001b[1;33m     return gca().plot(\n\u001b[0m\u001b[0;32m   2841\u001b[0m         \u001b[1;33m*\u001b[0m\u001b[0margs\u001b[0m\u001b[1;33m,\u001b[0m \u001b[0mscalex\u001b[0m\u001b[1;33m=\u001b[0m\u001b[0mscalex\u001b[0m\u001b[1;33m,\u001b[0m \u001b[0mscaley\u001b[0m\u001b[1;33m=\u001b[0m\u001b[0mscaley\u001b[0m\u001b[1;33m,\u001b[0m\u001b[1;33m\u001b[0m\u001b[1;33m\u001b[0m\u001b[0m\n\u001b[0;32m   2842\u001b[0m         **({\"data\": data} if data is not None else {}), **kwargs)\n",
      "\u001b[1;32mc:\\users\\asus\\appdata\\local\\programs\\python\\python38-32\\lib\\site-packages\\matplotlib\\axes\\_axes.py\u001b[0m in \u001b[0;36mplot\u001b[1;34m(self, scalex, scaley, data, *args, **kwargs)\u001b[0m\n\u001b[0;32m   1741\u001b[0m         \"\"\"\n\u001b[0;32m   1742\u001b[0m         \u001b[0mkwargs\u001b[0m \u001b[1;33m=\u001b[0m \u001b[0mcbook\u001b[0m\u001b[1;33m.\u001b[0m\u001b[0mnormalize_kwargs\u001b[0m\u001b[1;33m(\u001b[0m\u001b[0mkwargs\u001b[0m\u001b[1;33m,\u001b[0m \u001b[0mmlines\u001b[0m\u001b[1;33m.\u001b[0m\u001b[0mLine2D\u001b[0m\u001b[1;33m)\u001b[0m\u001b[1;33m\u001b[0m\u001b[1;33m\u001b[0m\u001b[0m\n\u001b[1;32m-> 1743\u001b[1;33m         \u001b[0mlines\u001b[0m \u001b[1;33m=\u001b[0m \u001b[1;33m[\u001b[0m\u001b[1;33m*\u001b[0m\u001b[0mself\u001b[0m\u001b[1;33m.\u001b[0m\u001b[0m_get_lines\u001b[0m\u001b[1;33m(\u001b[0m\u001b[1;33m*\u001b[0m\u001b[0margs\u001b[0m\u001b[1;33m,\u001b[0m \u001b[0mdata\u001b[0m\u001b[1;33m=\u001b[0m\u001b[0mdata\u001b[0m\u001b[1;33m,\u001b[0m \u001b[1;33m**\u001b[0m\u001b[0mkwargs\u001b[0m\u001b[1;33m)\u001b[0m\u001b[1;33m]\u001b[0m\u001b[1;33m\u001b[0m\u001b[1;33m\u001b[0m\u001b[0m\n\u001b[0m\u001b[0;32m   1744\u001b[0m         \u001b[1;32mfor\u001b[0m \u001b[0mline\u001b[0m \u001b[1;32min\u001b[0m \u001b[0mlines\u001b[0m\u001b[1;33m:\u001b[0m\u001b[1;33m\u001b[0m\u001b[1;33m\u001b[0m\u001b[0m\n\u001b[0;32m   1745\u001b[0m             \u001b[0mself\u001b[0m\u001b[1;33m.\u001b[0m\u001b[0madd_line\u001b[0m\u001b[1;33m(\u001b[0m\u001b[0mline\u001b[0m\u001b[1;33m)\u001b[0m\u001b[1;33m\u001b[0m\u001b[1;33m\u001b[0m\u001b[0m\n",
      "\u001b[1;32mc:\\users\\asus\\appdata\\local\\programs\\python\\python38-32\\lib\\site-packages\\matplotlib\\axes\\_base.py\u001b[0m in \u001b[0;36m__call__\u001b[1;34m(self, data, *args, **kwargs)\u001b[0m\n\u001b[0;32m    271\u001b[0m                 \u001b[0mthis\u001b[0m \u001b[1;33m+=\u001b[0m \u001b[0margs\u001b[0m\u001b[1;33m[\u001b[0m\u001b[1;36m0\u001b[0m\u001b[1;33m]\u001b[0m\u001b[1;33m,\u001b[0m\u001b[1;33m\u001b[0m\u001b[1;33m\u001b[0m\u001b[0m\n\u001b[0;32m    272\u001b[0m                 \u001b[0margs\u001b[0m \u001b[1;33m=\u001b[0m \u001b[0margs\u001b[0m\u001b[1;33m[\u001b[0m\u001b[1;36m1\u001b[0m\u001b[1;33m:\u001b[0m\u001b[1;33m]\u001b[0m\u001b[1;33m\u001b[0m\u001b[1;33m\u001b[0m\u001b[0m\n\u001b[1;32m--> 273\u001b[1;33m             \u001b[1;32myield\u001b[0m \u001b[1;32mfrom\u001b[0m \u001b[0mself\u001b[0m\u001b[1;33m.\u001b[0m\u001b[0m_plot_args\u001b[0m\u001b[1;33m(\u001b[0m\u001b[0mthis\u001b[0m\u001b[1;33m,\u001b[0m \u001b[0mkwargs\u001b[0m\u001b[1;33m)\u001b[0m\u001b[1;33m\u001b[0m\u001b[1;33m\u001b[0m\u001b[0m\n\u001b[0m\u001b[0;32m    274\u001b[0m \u001b[1;33m\u001b[0m\u001b[0m\n\u001b[0;32m    275\u001b[0m     \u001b[1;32mdef\u001b[0m \u001b[0mget_next_color\u001b[0m\u001b[1;33m(\u001b[0m\u001b[0mself\u001b[0m\u001b[1;33m)\u001b[0m\u001b[1;33m:\u001b[0m\u001b[1;33m\u001b[0m\u001b[1;33m\u001b[0m\u001b[0m\n",
      "\u001b[1;32mc:\\users\\asus\\appdata\\local\\programs\\python\\python38-32\\lib\\site-packages\\matplotlib\\axes\\_base.py\u001b[0m in \u001b[0;36m_plot_args\u001b[1;34m(self, tup, kwargs)\u001b[0m\n\u001b[0;32m    397\u001b[0m \u001b[1;33m\u001b[0m\u001b[0m\n\u001b[0;32m    398\u001b[0m         \u001b[1;32mif\u001b[0m \u001b[0mx\u001b[0m\u001b[1;33m.\u001b[0m\u001b[0mshape\u001b[0m\u001b[1;33m[\u001b[0m\u001b[1;36m0\u001b[0m\u001b[1;33m]\u001b[0m \u001b[1;33m!=\u001b[0m \u001b[0my\u001b[0m\u001b[1;33m.\u001b[0m\u001b[0mshape\u001b[0m\u001b[1;33m[\u001b[0m\u001b[1;36m0\u001b[0m\u001b[1;33m]\u001b[0m\u001b[1;33m:\u001b[0m\u001b[1;33m\u001b[0m\u001b[1;33m\u001b[0m\u001b[0m\n\u001b[1;32m--> 399\u001b[1;33m             raise ValueError(f\"x and y must have same first dimension, but \"\n\u001b[0m\u001b[0;32m    400\u001b[0m                              f\"have shapes {x.shape} and {y.shape}\")\n\u001b[0;32m    401\u001b[0m         \u001b[1;32mif\u001b[0m \u001b[0mx\u001b[0m\u001b[1;33m.\u001b[0m\u001b[0mndim\u001b[0m \u001b[1;33m>\u001b[0m \u001b[1;36m2\u001b[0m \u001b[1;32mor\u001b[0m \u001b[0my\u001b[0m\u001b[1;33m.\u001b[0m\u001b[0mndim\u001b[0m \u001b[1;33m>\u001b[0m \u001b[1;36m2\u001b[0m\u001b[1;33m:\u001b[0m\u001b[1;33m\u001b[0m\u001b[1;33m\u001b[0m\u001b[0m\n",
      "\u001b[1;31mValueError\u001b[0m: x and y must have same first dimension, but have shapes (11711,) and (9559,)"
     ]
    },
    {
     "data": {
      "image/png": "[encoded data removed]",
      "text/plain": [
       "<Figure size 432x288 with 1 Axes>"
      ]
     },
     "metadata": {
      "needs_background": "light"
     },
     "output_type": "display_data"
    }
   ],
   "source": [
    "plt.plot(timeList, functionValList)\n",
    "plt.show()"
   ]
  },
  {
   "cell_type": "code",
   "execution_count": 8,
   "metadata": {},
   "outputs": [
    {
     "data": {
      "text/plain": [
       "0.94"
      ]
     },
     "execution_count": 8,
     "metadata": {},
     "output_type": "execute_result"
    }
   ],
   "source": [
    "predList[-1]"
   ]
  },
  {
   "cell_type": "code",
   "execution_count": 7,
   "metadata": {},
   "outputs": [
    {
     "data": {
      "text/plain": [
       "161"
      ]
     },
     "execution_count": 7,
     "metadata": {},
     "output_type": "execute_result"
    }
   ],
   "source": [
    "np.argmax(predList)"
   ]
  }
 ],
 "metadata": {
  "kernelspec": {
   "display_name": "Python 3",
   "language": "python",
   "name": "python3"
  },
  "language_info": {
   "codemirror_mode": {
    "name": "ipython",
    "version": 3
   },
   "file_extension": ".py",
   "mimetype": "text/x-python",
   "name": "python",
   "nbconvert_exporter": "python",
   "pygments_lexer": "ipython3",
   "version": "3.8.6"
  }
 },
 "nbformat": 4,
 "nbformat_minor": 4
}
