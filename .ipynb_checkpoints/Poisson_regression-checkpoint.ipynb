{
 "cells": [
  {
   "cell_type": "markdown",
   "metadata": {},
   "source": [
    "# Poisson Regression"
   ]
  },
  {
   "cell_type": "code",
   "execution_count": 3,
   "metadata": {},
   "outputs": [],
   "source": [
    "import matplotlib.pyplot as plt\n",
    "import numpy as np\n",
    "from scipy.stats import poisson as pois\n",
    "import time\n",
    "from copy import deepcopy\n",
    "import pandas as pd\n",
    "from sklearn.model_selection import train_test_split as split"
   ]
  },
  {
   "cell_type": "code",
   "execution_count": 83,
   "metadata": {},
   "outputs": [],
   "source": [
    "def f_poisson(T,a,b):\n",
    "    '''\n",
    "    T is the weight vector in R^n, a is the regressor matrix in R^{n x m}, b is the count data in R^m\n",
    "    '''\n",
    "    u = a @ T\n",
    "    return np.sum(np.exp(u)) - np.dot(y,u)\n",
    "def g_poisson(T,a,b):\n",
    "    '''\n",
    "    T is the weight vector in R^n, a is the regressor matrix in R^{n x m}, b is the count data in R^m\n",
    "    '''\n",
    "    u = np.exp( a @ T )\n",
    "    return a.T @ u - np.dot(b,a)\n",
    "def GD_poisson(T,grad,LAMBDA):\n",
    "    '''Perform Steepest Gradient Descent'''\n",
    "    return T - LAMBDA*grad\n",
    "def ren(x): return range(len(x))\n",
    "rng = np.random.default_rng()"
   ]
  },
  {
   "cell_type": "code",
   "execution_count": 84,
   "metadata": {},
   "outputs": [],
   "source": [
    "N = 10\n",
    "M = 20000"
   ]
  },
  {
   "cell_type": "code",
   "execution_count": 85,
   "metadata": {},
   "outputs": [],
   "source": [
    "omega = rng.random(N +1)\n",
    "X = rng.random((M,N))\n",
    "x = np.concatenate((np.ones((M,1)),X),axis = 1)\n",
    "lamb = np.dot(x , omega)\n",
    "y = np.array([pois.rvs(i) for i in lamb])\n",
    "th = rng.random(len(x[0]))"
   ]
  },
  {
   "cell_type": "code",
   "execution_count": 86,
   "metadata": {},
   "outputs": [
    {
     "data": {
      "text/plain": [
       "array([[1.        , 0.97890189, 0.91557612, ..., 0.59363236, 0.84708593,\n",
       "        0.06934693],\n",
       "       [1.        , 0.07245649, 0.19375359, ..., 0.68773938, 0.3137442 ,\n",
       "        0.61399831],\n",
       "       [1.        , 0.48635155, 0.56113936, ..., 0.05382064, 0.56466005,\n",
       "        0.14857876],\n",
       "       ...,\n",
       "       [1.        , 0.98495292, 0.13272565, ..., 0.52118821, 0.53764255,\n",
       "        0.9095518 ],\n",
       "       [1.        , 0.669651  , 0.3994787 , ..., 0.12854025, 0.05109209,\n",
       "        0.70942851],\n",
       "       [1.        , 0.42113678, 0.68433774, ..., 0.99761429, 0.82462771,\n",
       "        0.38721531]])"
      ]
     },
     "execution_count": 86,
     "metadata": {},
     "output_type": "execute_result"
    }
   ],
   "source": [
    "x"
   ]
  },
  {
   "cell_type": "code",
   "execution_count": 147,
   "metadata": {},
   "outputs": [
    {
     "data": {
      "text/plain": [
       "(11, 11)"
      ]
     },
     "execution_count": 147,
     "metadata": {},
     "output_type": "execute_result"
    }
   ],
   "source": [
    "np.shape(x.T@x)"
   ]
  },
  {
   "cell_type": "markdown",
   "metadata": {},
   "source": [
    "## Vanilla"
   ]
  },
  {
   "cell_type": "code",
   "execution_count": 87,
   "metadata": {},
   "outputs": [],
   "source": [
    "ERROR = 1e-6"
   ]
  },
  {
   "cell_type": "code",
   "execution_count": null,
   "metadata": {},
   "outputs": [],
   "source": []
  },
  {
   "cell_type": "code",
   "execution_count": 89,
   "metadata": {},
   "outputs": [
    {
     "data": {
      "text/plain": [
       "1.4026895439364385e-05"
      ]
     },
     "execution_count": 89,
     "metadata": {},
     "output_type": "execute_result"
    }
   ],
   "source": [
    "1/np.max( np.linalg.svd( x.T@x )[1] )"
   ]
  },
  {
   "cell_type": "code",
   "execution_count": 150,
   "metadata": {},
   "outputs": [
    {
     "name": "stdout",
     "output_type": "stream",
     "text": [
      "ping! Iteration: 4\n"
     ]
    }
   ],
   "source": [
    "initialTime = time.time()\n",
    "weights = deepcopy(th)\n",
    "# lam = 1\n",
    "lam = 1/np.max( np.linalg.svd( x.T @ x )[1] )\n",
    "lamListVan = []\n",
    "grad = g_poisson(weights,x,y)\n",
    "gradNorm = np.linalg.norm(grad)\n",
    "# print(gradNorm)\n",
    "gradientValueList = [gradNorm]\n",
    "functionVals = [f_poisson(weights,x,y)]\n",
    "timeList = [time.time() - initialTime]\n",
    "while gradNorm > ERROR:\n",
    "    lamListVan.append(lam)\n",
    "    weights = GD_poisson(weights,grad,lam)\n",
    "    grad = g_poisson(weights,x,y)\n",
    "    gradNorm = np.linalg.norm(grad)\n",
    "#     print(gradNorm)\n",
    "    gradientValueList.append(gradNorm)\n",
    "    functionVals.append(f_poisson(weights,x,y))\n",
    "    timeList.append(time.time()-initialTime)\n",
    "    if gradientValueList[-1] >= gradientValueList[-2]:\n",
    "        print('ping! Iteration:', len(gradientValueList))\n",
    "        weights = deepcopy(th)\n",
    "        lam = 0.1*lam\n",
    "        grad = g_poisson(weights,x,y)\n",
    "        gradNorm = np.linalg.norm(grad)\n",
    "        gradientValueList.append(gradNorm)\n",
    "        functionVals.append(f_poisson(weights,x,y))\n",
    "        timeList.append(time.time()-initialTime)"
   ]
  },
  {
   "cell_type": "code",
   "execution_count": 119,
   "metadata": {},
   "outputs": [
    {
     "data": {
      "image/png": "[encoded data removed]",
      "text/plain": [
       "<Figure size 432x288 with 1 Axes>"
      ]
     },
     "metadata": {
      "needs_background": "light"
     },
     "output_type": "display_data"
    }
   ],
   "source": [
    "plt.plot(ren(gradientValueList), gradientValueList)\n",
    "plt.yscale('log')\n",
    "plt.show()"
   ]
  },
  {
   "cell_type": "code",
   "execution_count": 120,
   "metadata": {},
   "outputs": [
    {
     "data": {
      "image/png": "[encoded data removed]",
      "text/plain": [
       "<Figure size 432x288 with 1 Axes>"
      ]
     },
     "metadata": {
      "needs_background": "light"
     },
     "output_type": "display_data"
    }
   ],
   "source": [
    "plt.plot(timeList, gradientValueList)\n",
    "plt.yscale('log')\n",
    "plt.show()"
   ]
  },
  {
   "cell_type": "code",
   "execution_count": 93,
   "metadata": {},
   "outputs": [
    {
     "data": {
      "text/plain": [
       "1.4026895439364386e-06"
      ]
     },
     "execution_count": 93,
     "metadata": {},
     "output_type": "execute_result"
    }
   ],
   "source": [
    "lam"
   ]
  },
  {
   "cell_type": "markdown",
   "metadata": {},
   "source": [
    "## Adaptive"
   ]
  },
  {
   "cell_type": "code",
   "execution_count": 113,
   "metadata": {},
   "outputs": [],
   "source": [
    "initialTime = time.time()\n",
    "weights = deepcopy(th)\n",
    "lam = 1/np.max(np.linalg.svd(x.T @ x)[1]*M*N)\n",
    "lamListAdap = [lam]\n",
    "theta = np.inf\n",
    "weights0 = deepcopy(weights)\n",
    "grad = g_poisson(weights,x,y)\n",
    "gradNorm = np.linalg.norm(grad)\n",
    "gradientValueList = [gradNorm]\n",
    "functionVals = [f_poisson(weights,x,y)]\n",
    "timeList = [time.time() - initialTime]\n",
    "\n",
    "weights = GD_poisson(weights,grad,lam)\n",
    "oldGrad = deepcopy(grad)\n",
    "grad = g_poisson(weights,x,y)\n",
    "gradNorm = np.linalg.norm(grad)\n",
    "gradientValueList.append(gradNorm)\n",
    "functionVals.append(f_poisson(weights,x,y))\n",
    "timeList.append(time.time()-initialTime)\n",
    "while gradNorm > ERROR:\n",
    "    lam0 = deepcopy(lam)\n",
    "    min1 = np.sqrt(1 + theta)*lam\n",
    "    min2_nom = np.linalg.norm(weights - weights0)\n",
    "    min2_denom = 2*np.linalg.norm(grad - oldGrad)\n",
    "    lam = np.min([min1, (min2_nom/min2_denom)])\n",
    "    lamListAdap.append(lam)\n",
    "    weights0 = deepcopy(weights)\n",
    "    weights = GD_poisson(weights,grad,lam)\n",
    "    theta = lam/lam0\n",
    "    oldGrad = grad\n",
    "    grad = g_poisson(weights,x,y)\n",
    "    gradNorm = np.linalg.norm(grad)\n",
    "    gradientValueList.append(gradNorm)\n",
    "    functionVals.append(f_poisson(weights,x,y))\n",
    "    timeList.append(time.time()-initialTime)"
   ]
  },
  {
   "cell_type": "code",
   "execution_count": 114,
   "metadata": {},
   "outputs": [
    {
     "data": {
      "image/png": "[encoded data removed]",
      "text/plain": [
       "<Figure size 432x288 with 1 Axes>"
      ]
     },
     "metadata": {
      "needs_background": "light"
     },
     "output_type": "display_data"
    }
   ],
   "source": [
    "plt.plot(ren(lamListAdap), lamListAdap)\n",
    "plt.yscale('log')\n",
    "plt.show()"
   ]
  },
  {
   "cell_type": "code",
   "execution_count": 100,
   "metadata": {},
   "outputs": [
    {
     "data": {
      "image/png": "[encoded data removed]",
      "text/plain": [
       "<Figure size 432x288 with 1 Axes>"
      ]
     },
     "metadata": {
      "needs_background": "light"
     },
     "output_type": "display_data"
    }
   ],
   "source": [
    "plt.plot(timeList, gradientValueList)\n",
    "plt.yscale('log')\n",
    "plt.show()"
   ]
  },
  {
   "cell_type": "code",
   "execution_count": 101,
   "metadata": {},
   "outputs": [
    {
     "data": {
      "text/plain": [
       "2.485432468894567e-06"
      ]
     },
     "execution_count": 101,
     "metadata": {},
     "output_type": "execute_result"
    }
   ],
   "source": [
    "lam"
   ]
  },
  {
   "cell_type": "markdown",
   "metadata": {},
   "source": [
    "## Gradient-Based Line Search"
   ]
  },
  {
   "cell_type": "code",
   "execution_count": 152,
   "metadata": {},
   "outputs": [
    {
     "data": {
      "text/plain": [
       "5.152580626686573"
      ]
     },
     "execution_count": 152,
     "metadata": {},
     "output_type": "execute_result"
    }
   ],
   "source": [
    "rho = rng.random()\n",
    "rng.uniform(rho,10)"
   ]
  },
  {
   "cell_type": "code",
   "execution_count": 117,
   "metadata": {},
   "outputs": [
    {
     "name": "stderr",
     "output_type": "stream",
     "text": [
      "<ipython-input-83-9594c21dce5e>:11: RuntimeWarning: overflow encountered in exp\n",
      "  u = np.exp( a @ T )\n",
      "<ipython-input-83-9594c21dce5e>:12: RuntimeWarning: overflow encountered in matmul\n",
      "  return a.T @ u - np.dot(b,a)\n"
     ]
    }
   ],
   "source": [
    "def BackTrack(GRAD, GRADNORM, W, X,Y):\n",
    "    rho = rng.random()\n",
    "    LAM = rng.random()*10\n",
    "    while 1 > (GRADNORM/np.linalg.norm( g_poisson(W - LAM*GRAD, X, Y) - GRAD ) ):\n",
    "        LAM = rho*LAM\n",
    "    return LAM\n",
    "initialTime = time.time()\n",
    "weights = deepcopy(th)\n",
    "grad = g_poisson(weights,x,y)\n",
    "gradNorm = np.linalg.norm(grad)\n",
    "lam = BackTrack(grad, gradNorm, weights, x, y)\n",
    "lamListLS = [lam]\n",
    "gradientValueList = [gradNorm]\n",
    "functionVals = [f_poisson(weights,x,y)]\n",
    "timeList = [time.time() - initialTime]\n",
    "while gradNorm > ERROR:\n",
    "    weights = GD_poisson(weights,grad,lam)\n",
    "    grad = g_poisson(weights,x,y)\n",
    "    gradNorm = np.linalg.norm(grad)\n",
    "    lam = BackTrack(grad, gradNorm, weights, x, y)\n",
    "    lamListLS.append(lam)\n",
    "    gradientValueList.append(gradNorm)\n",
    "    functionVals.append(f_poisson(weights,x,y))\n",
    "    timeList.append(time.time()-initialTime)"
   ]
  },
  {
   "cell_type": "code",
   "execution_count": 103,
   "metadata": {},
   "outputs": [
    {
     "data": {
      "image/png": "[encoded data removed]",
      "text/plain": [
       "<Figure size 432x288 with 1 Axes>"
      ]
     },
     "metadata": {
      "needs_background": "light"
     },
     "output_type": "display_data"
    }
   ],
   "source": [
    "plt.plot(ren(gradientValueList), gradientValueList)\n",
    "plt.yscale('log')\n",
    "plt.show()"
   ]
  },
  {
   "cell_type": "code",
   "execution_count": 104,
   "metadata": {},
   "outputs": [
    {
     "data": {
      "image/png": "[encoded data removed]",
      "text/plain": [
       "<Figure size 432x288 with 1 Axes>"
      ]
     },
     "metadata": {
      "needs_background": "light"
     },
     "output_type": "display_data"
    }
   ],
   "source": [
    "plt.plot(timeList, gradientValueList)\n",
    "plt.yscale('log')\n",
    "plt.show()"
   ]
  },
  {
   "cell_type": "code",
   "execution_count": 105,
   "metadata": {},
   "outputs": [
    {
     "data": {
      "text/plain": [
       "4.198896582983982e-06"
      ]
     },
     "execution_count": 105,
     "metadata": {},
     "output_type": "execute_result"
    }
   ],
   "source": [
    "lam"
   ]
  },
  {
   "cell_type": "markdown",
   "metadata": {},
   "source": [
    "## Barzilai-Borwein"
   ]
  },
  {
   "cell_type": "code",
   "execution_count": 111,
   "metadata": {},
   "outputs": [],
   "source": [
    "initialTime = time.time()\n",
    "weights = deepcopy(th)\n",
    "lam = 1/np.max(np.linalg.svd(x.T @ x)[1]*M*N)\n",
    "lamList = [lam]\n",
    "weights0 = deepcopy(weights)\n",
    "grad = g_poisson(weights,x,y)\n",
    "gradNorm = np.linalg.norm(grad)\n",
    "gradientValueList = [gradNorm]\n",
    "functionVals = [f_poisson(weights,x,y)]\n",
    "timeList = [time.time() - initialTime]\n",
    "\n",
    "weights = GD_poisson(weights,grad,lam)\n",
    "oldGrad = deepcopy(grad)\n",
    "grad = g_poisson(weights,x,y)\n",
    "gradNorm = np.linalg.norm(grad)\n",
    "gradientValueList.append(gradNorm)\n",
    "functionVals.append(f_poisson(weights,x,y))\n",
    "timeList.append(time.time()-initialTime)\n",
    "while gradNorm > ERROR:\n",
    "    nom = np.dot(weights - weights0, grad - oldGrad)\n",
    "    denom = np.linalg.norm(grad - oldGrad)**2\n",
    "    lam = nom/denom\n",
    "    lamList.append(lam)\n",
    "    weights0 = deepcopy(weights)\n",
    "    weights = GD_poisson(weights,grad,lam)\n",
    "    oldGrad = deepcopy(grad)\n",
    "    grad = g_poisson(weights,x,y)\n",
    "    gradNorm = np.linalg.norm(grad)\n",
    "    gradientValueList.append(gradNorm)\n",
    "    functionVals.append(f_poisson(weights,x,y))\n",
    "    timeList.append(time.time()-initialTime)"
   ]
  },
  {
   "cell_type": "code",
   "execution_count": 112,
   "metadata": {},
   "outputs": [
    {
     "data": {
      "image/png": "[encoded data removed]",
      "text/plain": [
       "<Figure size 432x288 with 1 Axes>"
      ]
     },
     "metadata": {
      "needs_background": "light"
     },
     "output_type": "display_data"
    }
   ],
   "source": [
    "plt.plot(ren(lamList), lamList)\n",
    "plt.yscale('log')\n",
    "plt.show()"
   ]
  },
  {
   "cell_type": "code",
   "execution_count": 108,
   "metadata": {},
   "outputs": [
    {
     "data": {
      "image/png": "[encoded data removed]",
      "text/plain": [
       "<Figure size 432x288 with 1 Axes>"
      ]
     },
     "metadata": {
      "needs_background": "light"
     },
     "output_type": "display_data"
    }
   ],
   "source": [
    "plt.plot(timeList, gradientValueList)\n",
    "plt.yscale('log')\n",
    "plt.show()"
   ]
  },
  {
   "cell_type": "code",
   "execution_count": 109,
   "metadata": {
    "scrolled": true
   },
   "outputs": [
    {
     "data": {
      "text/plain": [
       "4.001561948790008e-06"
      ]
     },
     "execution_count": 109,
     "metadata": {},
     "output_type": "execute_result"
    }
   ],
   "source": [
    "lam"
   ]
  },
  {
   "cell_type": "markdown",
   "metadata": {},
   "source": [
    "## Nesterov"
   ]
  },
  {
   "cell_type": "code",
   "execution_count": 138,
   "metadata": {},
   "outputs": [
    {
     "name": "stdout",
     "output_type": "stream",
     "text": [
      "ping! Iteration: 6\n"
     ]
    }
   ],
   "source": [
    "initialTime = time.time()\n",
    "weights = deepcopy(th)\n",
    "L = np.max( np.linalg.svd( x.T @ x )[1] )\n",
    "# L = 10\n",
    "grad = g_poisson(weights,x,y)\n",
    "gradNorm = np.linalg.norm(grad)\n",
    "# print(gradNorm)\n",
    "gradientValueList = [gradNorm]\n",
    "functionVals = [f_poisson(weights,x,y)]\n",
    "timeList = [time.time() - initialTime]\n",
    "lam1 = 1\n",
    "y0 = weights\n",
    "while gradNorm > ERROR:\n",
    "    lam = 0.5*(1 + np.sqrt(1 + 4*lam1**2))\n",
    "    gamma = (1 - lam1)/lam\n",
    "    y1 = weights - grad/L\n",
    "    weights = (1 - gamma)*y1 + gamma*y0\n",
    "    lam1 = lam\n",
    "    y0 = y1\n",
    "    grad = g_poisson(weights,x,y)\n",
    "    gradNorm = np.linalg.norm(grad)\n",
    "#     print(gradNorm)\n",
    "    gradientValueList.append(gradNorm)\n",
    "    functionVals.append(f_poisson(weights,x,y))\n",
    "    timeList.append(time.time()-initialTime)\n",
    "    if gradientValueList[-1] == gradientValueList[-2]:\n",
    "        print('ping! Iteration:', len(gradientValueList))\n",
    "        weights = deepcopy(th)\n",
    "        L = L*10\n",
    "        grad = g_poisson(weights,x,y)\n",
    "        gradNorm = np.linalg.norm(grad)\n",
    "        gradientValueList.append(gradNorm)\n",
    "        functionVals.append(f_poisson(weights,x,y))\n",
    "        timeList.append(time.time()-initialTime)\n",
    "        lam1 = 1\n",
    "        y0 = weights"
   ]
  },
  {
   "cell_type": "code",
   "execution_count": 134,
   "metadata": {},
   "outputs": [
    {
     "data": {
      "image/png": "[encoded data removed]",
      "text/plain": [
       "<Figure size 432x288 with 1 Axes>"
      ]
     },
     "metadata": {
      "needs_background": "light"
     },
     "output_type": "display_data"
    }
   ],
   "source": [
    "plt.plot(ren(gradientValueList), gradientValueList)\n",
    "plt.yscale('log')\n",
    "plt.show()"
   ]
  },
  {
   "cell_type": "code",
   "execution_count": 135,
   "metadata": {},
   "outputs": [
    {
     "data": {
      "image/png": "[encoded data removed]",
      "text/plain": [
       "<Figure size 432x288 with 1 Axes>"
      ]
     },
     "metadata": {
      "needs_background": "light"
     },
     "output_type": "display_data"
    }
   ],
   "source": [
    "plt.plot(timeList, gradientValueList)\n",
    "plt.yscale('log')\n",
    "plt.show()"
   ]
  },
  {
   "cell_type": "code",
   "execution_count": 136,
   "metadata": {},
   "outputs": [
    {
     "data": {
      "text/plain": [
       "1.4026895439364386e-06"
      ]
     },
     "execution_count": 136,
     "metadata": {},
     "output_type": "execute_result"
    }
   ],
   "source": [
    "1/L"
   ]
  },
  {
   "cell_type": "markdown",
   "metadata": {},
   "source": [
    "Step Size Comparison"
   ]
  },
  {
   "cell_type": "code",
   "execution_count": 137,
   "metadata": {},
   "outputs": [
    {
     "data": {
      "text/plain": [
       "[0.6180339887498948,\n",
       " 0.7376403052281875,\n",
       " 0.7977067398993897,\n",
       " 0.8345650247944008,\n",
       " 0.8596979789850534,\n",
       " 0.6180339887498948,\n",
       " 0.7376403052281875,\n",
       " 0.7977067398993897,\n",
       " 0.8345650247944008,\n",
       " 0.8596979789850534,\n",
       " 0.8780142692013028,\n",
       " 0.8919934820287628,\n",
       " 0.9030323779083411,\n",
       " 0.9119812486734317,\n",
       " 0.9193888535624439,\n",
       " 0.9256259127933997,\n",
       " 0.9309522636902124,\n",
       " 0.9355556359124805,\n",
       " 0.9395751592114159,\n",
       " 0.9431162051350226,\n",
       " 0.9462600843658513,\n",
       " 0.9490705719305759,\n",
       " 0.9515984114068218,\n",
       " 0.9538844943822767,\n",
       " 0.9559621495910932,\n",
       " 0.9578588203050215,\n",
       " 0.9595973130104514,\n",
       " 0.9611967402660464,\n",
       " 0.9626732418849435,\n",
       " 0.9640405430804297,\n",
       " 0.9653103911015549,\n",
       " 0.9664929002011854,\n",
       " 0.9675968266729594,\n",
       " 0.9686297899866749,\n",
       " 0.9695984519790719,\n",
       " 0.9705086631141445,\n",
       " 0.9713655826758444,\n",
       " 0.9721737781663393,\n",
       " 0.9729373079964179,\n",
       " 0.9736597906605788,\n",
       " 0.9743444629097393,\n",
       " 0.9749942289136232,\n",
       " 0.9756117020025351,\n",
       " 0.9761992402651596,\n",
       " 0.9767589770337219,\n",
       " 0.9772928470943808,\n",
       " 0.9778026093071986,\n",
       " 0.978289866197478,\n",
       " 0.9787560809818724,\n",
       " 0.9792025924132848,\n",
       " 0.9796306277641728,\n",
       " 0.980041314215389,\n",
       " 0.9804356888747132,\n",
       " 0.9808147076138877,\n",
       " 0.9811792528837763,\n",
       " 0.9815301406430679,\n",
       " 0.9818681265157887,\n",
       " 0.982193911276061,\n",
       " 0.9825081457444252,\n",
       " 0.9828114351681652,\n",
       " 0.9831043431480552,\n",
       " 0.9833873951654534,\n",
       " 0.9836610817564543,\n",
       " 0.9839258613736727,\n",
       " 0.9841821629709819,\n",
       " 0.9844303883420303,\n",
       " 0.9846709142395014,\n",
       " 0.9849040942987545,\n",
       " 0.9851302607866171,\n",
       " 0.9853497261936063,\n",
       " 0.9855627846857142,\n",
       " 0.9857697134300087,\n",
       " 0.9859707738066767,\n",
       " 0.9861662125187085,\n",
       " 0.9863562626091775,\n",
       " 0.9865411443949793,\n",
       " 0.9867210663249297,\n",
       " 0.9868962257692849,\n",
       " 0.9870668097469978,\n",
       " 0.9872329955963689,\n",
       " 0.9873949515941737,\n",
       " 0.9875528375278243,\n",
       " 0.9877068052246805,\n",
       " 0.9878569990422055,\n",
       " 0.988003556322309,\n",
       " 0.9881466078128979,\n",
       " 0.9882862780593618,\n",
       " 0.9884226857684706,\n",
       " 0.9885559441469255,\n",
       " 0.988686161216602,\n",
       " 0.9888134401083384,\n",
       " 0.9889378793359527,\n",
       " 0.9890595730520261,\n",
       " 0.9891786112868546,\n",
       " 0.989295080171846,\n",
       " 0.9894090621485322,\n",
       " 0.9895206361642696,\n",
       " 0.9896298778556016,\n",
       " 0.989736859720187,\n",
       " 0.9898416512781153,\n",
       " 0.9899443192233667,\n",
       " 0.9900449275661134,\n",
       " 0.9901435377665009,\n",
       " 0.9902402088604995,\n",
       " 0.9903349975783698,\n",
       " 0.9904279584562443,\n",
       " 0.9905191439412837,\n",
       " 0.9906086044908406,\n",
       " 0.9906963886660228,\n",
       " 0.9907825432200225,\n",
       " 0.990867113181549,\n",
       " 0.9909501419336821,\n",
       " 0.9910316712884333,\n",
       " 0.9911117415572868,\n",
       " 0.9911903916179708,\n",
       " 0.9912676589776933,\n",
       " 0.9913435798330568,\n",
       " 0.9914181891268551,\n",
       " 0.9914915206019408,\n",
       " 0.9915636068523365,\n",
       " 0.9916344793717536,\n",
       " 0.9917041685996725,\n",
       " 0.991772703965123,\n",
       " 0.9918401139283005,\n",
       " 0.9919064260201412,\n",
       " 0.9919716668799708,\n",
       " 0.9920358622913373,\n",
       " 0.9920990372161275,\n",
       " 0.9921612158270643,\n",
       " 0.9922224215386721,\n",
       " 0.9922826770367944,\n",
       " 0.9923420043067434,\n",
       " 0.9924004246601521,\n",
       " 0.9924579587606014,\n",
       " 0.992514626648085,\n",
       " 0.9925704477623736,\n",
       " 0.9926254409653354,\n",
       " 0.9926796245622684,\n",
       " 0.9927330163222932,\n",
       " 0.9927856334978544,\n",
       " 0.9928374928433801,\n",
       " 0.9928886106331324,\n",
       " 0.992939002678301,\n",
       " 0.9929886843433668,\n",
       " 0.9930376705617786,\n",
       " 0.9930859758509735,\n",
       " 0.9931336143267714,\n",
       " 0.9931805997171789,\n",
       " 0.9932269453756242,\n",
       " 0.9932726642936555,\n",
       " 0.9933177691131247,\n",
       " 0.9933622721378826,\n",
       " 0.9934061853450078,\n",
       " 0.9934495203955898,\n",
       " 0.9934922886450887,\n",
       " 0.9935345011532889,\n",
       " 0.9935761686938664,\n",
       " 0.9936173017635876,\n",
       " 0.9936579105911537,\n",
       " 0.9936980051457093,\n",
       " 0.9937375951450287,\n",
       " 0.9937766900633936,\n",
       " 0.9938152991391765,\n",
       " 0.9938534313821429,\n",
       " 0.9938910955804827,\n",
       " 0.9939283003075837,\n",
       " 0.99396505392856,\n",
       " 0.9940013646065402,\n",
       " 0.9940372403087318,\n",
       " 0.9940726888122673,\n",
       " 0.9941077177098421,\n",
       " 0.9941423344151525,\n",
       " 0.9941765461681441,\n",
       " 0.9942103600400727,\n",
       " 0.9942437829383942,\n",
       " 0.9942768216114815,\n",
       " 0.9943094826531805,\n",
       " 0.9943417725072112,\n",
       " 0.9943736974714175,\n",
       " 0.9944052637018747,\n",
       " 0.9944364772168587,\n",
       " 0.9944673439006816,\n",
       " 0.9944978695074015,\n",
       " 0.9945280596644077,\n",
       " 0.9945579198758898,\n",
       " 0.9945874555261922,\n",
       " 0.9946166718830604,\n",
       " 0.9946455741007812,\n",
       " 0.9946741672232237,\n",
       " 0.9947024561867802,\n",
       " 0.994730445823217,\n",
       " 0.9947581408624318,\n",
       " 0.9947855459351265,\n",
       " 0.9948126655753944,\n",
       " 0.994839504223229,\n",
       " 0.9948660662269534,\n",
       " 0.9948923558455739,\n",
       " 0.9949183772510651,\n",
       " 0.9949441345305806,\n",
       " 0.9949696316885999,\n",
       " 0.994994872649009,\n",
       " 0.9950198612571189,\n",
       " 0.9950446012816239,\n",
       " 0.9950690964164999,\n",
       " 0.9950933502828498,\n",
       " 0.9951173664306912,\n",
       " 0.9951411483406932,\n",
       " 0.9951646994258632,\n",
       " 0.9951880230331827,\n",
       " 0.9952111224451976,\n",
       " 0.9952340008815623,\n",
       " 0.995256661500539,\n",
       " 0.9952791074004551,\n",
       " 0.995301341621118,\n",
       " 0.9953233671451927,\n",
       " 0.9953451868995365,\n",
       " 0.9953668037565008,\n",
       " 0.9953882205351933,\n",
       " 0.9954094400027073,\n",
       " 0.9954304648753156,\n",
       " 0.9954512978196337,\n",
       " 0.9954719414537482,\n",
       " 0.9954923983483178,\n",
       " 0.9955126710276417,\n",
       " 0.9955327619707014,\n",
       " 0.9955526736121729,\n",
       " 0.9955724083434129,\n",
       " 0.995591968513418,\n",
       " 0.9956113564297595,\n",
       " 0.9956305743594925,\n",
       " 0.9956496245300418,\n",
       " 0.9956685091300645,\n",
       " 0.9956872303102899,\n",
       " 0.9957057901843385,\n",
       " 0.9957241908295182,\n",
       " 0.9957424342876023,\n",
       " 0.9957605225655857,\n",
       " 0.9957784576364221,\n",
       " 0.9957962414397445,\n",
       " 0.9958138758825644,\n",
       " 0.9958313628399559,\n",
       " 0.9958487041557214,\n",
       " 0.9958659016430411,\n",
       " 0.995882957085107,\n",
       " 0.9958998722357392,\n",
       " 0.99591664881999,\n",
       " 0.99593328853473,\n",
       " 0.9959497930492232,\n",
       " 0.9959661640056847,\n",
       " 0.9959824030198277,\n",
       " 0.9959985116813957,\n",
       " 0.9960144915546828,\n",
       " 0.9960303441790401,\n",
       " 0.9960460710693725,\n",
       " 0.9960616737166214,\n",
       " 0.9960771535882369,\n",
       " 0.9960925121286386,\n",
       " 0.9961077507596666,\n",
       " 0.9961228708810208,\n",
       " 0.9961378738706899,\n",
       " 0.996152761085371,\n",
       " 0.9961675338608803,\n",
       " 0.9961821935125524,\n",
       " 0.9961967413356317,\n",
       " 0.9962111786056551,\n",
       " 0.9962255065788251,\n",
       " 0.9962397264923755,\n",
       " 0.9962538395649265,\n",
       " 0.9962678469968362,\n",
       " 0.9962817499705399,\n",
       " 0.9962955496508829,\n",
       " 0.9963092471854482,\n",
       " 0.996322843704874,\n",
       " 0.9963363403231658,\n",
       " 0.9963497381380013,\n",
       " 0.9963630382310283,\n",
       " 0.9963762416681566,\n",
       " 0.9963893494998434,\n",
       " 0.996402362761372,\n",
       " 0.9964152824731252,\n",
       " 0.9964281096408523,\n",
       " 0.9964408452559307,\n",
       " 0.9964534902956224,\n",
       " 0.996466045723323,\n",
       " 0.9964785124888079,\n",
       " 0.9964908915284726,\n",
       " 0.9965031837655663,\n",
       " 0.9965153901104226,\n",
       " 0.996527511460685,\n",
       " 0.9965395487015265,\n",
       " 0.9965515027058662,\n",
       " 0.9965633743345804,\n",
       " 0.9965751644367093,\n",
       " 0.9965868738496605,\n",
       " 0.9965985033994068,\n",
       " 0.996610053900682,\n",
       " 0.9966215261571696,\n",
       " 0.9966329209616914,\n",
       " 0.9966442390963898,\n",
       " 0.9966554813329062,\n",
       " 0.996666648432558,\n",
       " 0.9966777411465106,\n",
       " 0.9966887602159448,\n",
       " 0.9966997063722236,\n",
       " 0.9967105803370542,\n",
       " 0.9967213828226456,\n",
       " 0.9967321145318657,\n",
       " 0.9967427761583938,\n",
       " 0.9967533683868699,\n",
       " 0.9967638918930414,\n",
       " 0.9967743473439077,\n",
       " 0.9967847353978606,\n",
       " 0.9967950567048236,\n",
       " 0.996805311906387,\n",
       " 0.996815501635941,\n",
       " 0.996825626518807,\n",
       " 0.996835687172365,\n",
       " 0.9968456842061799,\n",
       " 0.9968556182221242,\n",
       " 0.9968654898144997,\n",
       " 0.9968752995701553,\n",
       " 0.9968850480686048,\n",
       " 0.9968947358821396,\n",
       " 0.9969043635759421,\n",
       " 0.9969139317081954,\n",
       " 0.9969234408301915,\n",
       " 0.9969328914864366,\n",
       " 0.9969422842147562,\n",
       " 0.996951619546397,\n",
       " 0.9969608980061269,\n",
       " 0.9969701201123337,\n",
       " 0.9969792863771216,\n",
       " 0.9969883973064068,\n",
       " 0.9969974534000097,\n",
       " 0.9970064551517475,\n",
       " 0.9970154030495232,\n",
       " 0.9970242975754143,\n",
       " 0.9970331392057601,\n",
       " 0.9970419284112453,\n",
       " 0.9970506656569855,\n",
       " 0.997059351402608,\n",
       " 0.997067986102333,\n",
       " 0.9970765702050534,\n",
       " 0.9970851041544113,\n",
       " 0.9970935883888765,\n",
       " 0.9971020233418202,\n",
       " 0.9971104094415891,\n",
       " 0.9971187471115789,\n",
       " 0.9971270367703049,\n",
       " 0.9971352788314718,\n",
       " 0.9971434737040439,\n",
       " 0.9971516217923114,\n",
       " 0.9971597234959579,\n",
       " 0.997167779210126,\n",
       " 0.9971757893254806,\n",
       " 0.997183754228273,\n",
       " 0.9971916743004031,\n",
       " 0.99719954991948,\n",
       " 0.9972073814588828,\n",
       " 0.9972151692878185,\n",
       " 0.997222913771382,\n",
       " 0.9972306152706113,\n",
       " 0.9972382741425445,\n",
       " 0.9972458907402758,\n",
       " 0.9972534654130083,\n",
       " 0.9972609985061086,\n",
       " 0.997268490361159,\n",
       " 0.9972759413160095,\n",
       " 0.9972833517048278,\n",
       " 0.9972907218581505,\n",
       " 0.9972980521029313,\n",
       " 0.9973053427625902,\n",
       " 0.9973125941570603,\n",
       " 0.9973198066028357,\n",
       " 0.9973269804130167,\n",
       " 0.9973341158973557,\n",
       " 0.9973412133623014,\n",
       " 0.9973482731110435,\n",
       " 0.9973552954435547,\n",
       " 0.9973622806566349,\n",
       " 0.9973692290439514,\n",
       " 0.9973761408960814,\n",
       " 0.9973830165005515,\n",
       " 0.9973898561418784,\n",
       " 0.9973966601016082,\n",
       " 0.9974034286583544,\n",
       " 0.9974101620878371,\n",
       " 0.9974168606629188,\n",
       " 0.997423524653643,\n",
       " 0.9974301543272699,\n",
       " 0.997436749948312,\n",
       " 0.9974433117785693,\n",
       " 0.9974498400771641,\n",
       " 0.9974563351005756,\n",
       " 0.9974627971026728,\n",
       " 0.9974692263347482,\n",
       " 0.9974756230455498,\n",
       " 0.9974819874813141,\n",
       " 0.9974883198857967,\n",
       " 0.9974946205003042,\n",
       " 0.9975008895637248,\n",
       " 0.9975071273125588,\n",
       " 0.9975133339809468,\n",
       " 0.9975195098007013,\n",
       " 0.9975256550013342,\n",
       " 0.9975317698100858,\n",
       " 0.9975378544519522,\n",
       " 0.9975439091497135,\n",
       " 0.9975499341239613,\n",
       " 0.9975559295931246,\n",
       " 0.9975618957734971,\n",
       " 0.9975678328792627,\n",
       " 0.9975737411225216,\n",
       " 0.9975796207133152,\n",
       " 0.9975854718596507,\n",
       " 0.9975912947675274,\n",
       " 0.9975970896409582,\n",
       " 0.9976028566819957,\n",
       " 0.997608596090755,\n",
       " 0.9976143080654362,\n",
       " 0.9976199928023483,\n",
       " 0.997625650495931,\n",
       " 0.9976312813387775,\n",
       " 0.9976368855216555,\n",
       " 0.9976424632335297,\n",
       " 0.9976480146615826,\n",
       " 0.9976535399912353,\n",
       " 0.9976590394061684,\n",
       " 0.9976645130883428,\n",
       " 0.9976699612180191,\n",
       " 0.9976753839737774,\n",
       " 0.9976807815325376,\n",
       " 0.9976861540695778,\n",
       " 0.997691501758554,\n",
       " 0.9976968247715181,\n",
       " 0.9977021232789371,\n",
       " 0.9977073974497109,\n",
       " 0.9977126474511905,\n",
       " 0.9977178734491954,\n",
       " 0.9977230756080313,\n",
       " 0.9977282540905075,\n",
       " 0.9977334090579532,\n",
       " 0.9977385406702355,\n",
       " 0.9977436490857746,\n",
       " 0.9977487344615613,\n",
       " 0.9977537969531722,\n",
       " 0.9977588367147862,\n",
       " 0.9977638538991993,\n",
       " 0.9977688486578415,\n",
       " 0.9977738211407907,\n",
       " 0.9977787714967885,\n",
       " 0.9977836998732547,\n",
       " 0.997788606416302,\n",
       " 0.9977934912707506,\n",
       " 0.9977983545801425,\n",
       " 0.9978031964867556,\n",
       " 0.9978080171316169,\n",
       " 0.9978128166545175,\n",
       " 0.9978175951940246,\n",
       " 0.9978223528874963,\n",
       " 0.9978270898710938,\n",
       " 0.9978318062797948,\n",
       " 0.9978365022474065,\n",
       " 0.9978411779065774,\n",
       " 0.997845833388811,\n",
       " 0.9978504688244777,\n",
       " 0.9978550843428262,\n",
       " 0.9978596800719968,\n",
       " 0.9978642561390321,\n",
       " 0.9978688126698898,\n",
       " 0.9978733497894537,\n",
       " 0.9978778676215446,\n",
       " 0.997882366288933,\n",
       " 0.9978868459133488,\n",
       " 0.9978913066154927,\n",
       " 0.9978957485150478,\n",
       " 0.9979001717306896,\n",
       " 0.9979045763800962,\n",
       " 0.9979089625799599,\n",
       " 0.9979133304459967,\n",
       " 0.9979176800929566,\n",
       " 0.9979220116346335,\n",
       " 0.9979263251838759,\n",
       " 0.9979306208525958,\n",
       " 0.9979348987517787,\n",
       " 0.9979391589914934,\n",
       " 0.9979434016809016,\n",
       " 0.9979476269282662,\n",
       " 0.9979518348409617,\n",
       " 0.997956025525483,\n",
       " 0.9979601990874538,\n",
       " 0.9979643556316361,\n",
       " 0.9979684952619389,\n",
       " 0.9979726180814266,\n",
       " 0.9979767241923277,\n",
       " 0.9979808136960437,\n",
       " 0.9979848866931565,\n",
       " 0.9979889432834373,\n",
       " 0.9979929835658551,\n",
       " 0.9979970076385838,\n",
       " 0.9980010155990106,\n",
       " 0.9980050075437444,\n",
       " 0.998008983568623,\n",
       " 0.9980129437687205,\n",
       " 0.9980168882383557,\n",
       " 0.9980208170710986,\n",
       " 0.998024730359779,\n",
       " 0.9980286281964932,\n",
       " 0.9980325106726105,\n",
       " 0.9980363778787816,\n",
       " 0.9980402299049451,\n",
       " 0.9980440668403344,\n",
       " 0.998047888773485,\n",
       " 0.9980516957922401,\n",
       " 0.9980554879837595,\n",
       " 0.9980592654345245,\n",
       " 0.9980630282303445,\n",
       " 0.9980667764563645,\n",
       " 0.9980705101970714,\n",
       " 0.998074229536299,\n",
       " 0.9980779345572363,\n",
       " 0.9980816253424316,\n",
       " 0.9980853019738009,\n",
       " 0.9980889645326317,\n",
       " 0.9980926130995907,\n",
       " 0.998096247754729,\n",
       " 0.9980998685774881,\n",
       " 0.9981034756467054,\n",
       " 0.9981070690406205,\n",
       " 0.9981106488368802,\n",
       " 0.9981142151125446,\n",
       " 0.9981177679440928,\n",
       " 0.9981213074074274,\n",
       " 0.9981248335778811,\n",
       " 0.9981283465302213,\n",
       " 0.9981318463386558,\n",
       " 0.9981353330768375,\n",
       " 0.9981388068178703,\n",
       " 0.998142267634313,\n",
       " 0.9981457155981864,\n",
       " 0.9981491507809763,\n",
       " 0.998152573253639,\n",
       " 0.9981559830866072,\n",
       " 0.9981593803497933,\n",
       " 0.9981627651125954,\n",
       " 0.9981661374439015,\n",
       " 0.9981694974120938,\n",
       " 0.9981728450850544,\n",
       " 0.9981761805301689,\n",
       " 0.9981795038143311,\n",
       " 0.9981828150039482,\n",
       " 0.998186114164944,\n",
       " 0.9981894013627645,\n",
       " 0.9981926766623811,\n",
       " 0.9981959401282962,\n",
       " 0.9981991918245462,\n",
       " 0.9982024318147062,\n",
       " 0.9982056601618943,\n",
       " 0.9982088769287757,\n",
       " 0.9982120821775659,\n",
       " 0.9982152759700363,\n",
       " 0.998218458367517,\n",
       " 0.9982216294309008,\n",
       " 0.9982247892206472,\n",
       " 0.9982279377967866,\n",
       " 0.9982310752189242,\n",
       " 0.9982342015462429,\n",
       " 0.9982373168375076,\n",
       " 0.9982404211510691,\n",
       " 0.9982435145448674,\n",
       " 0.9982465970764351,\n",
       " 0.9982496688029014,\n",
       " 0.998252729780996,\n",
       " 0.9982557800670511,\n",
       " 0.9982588197170067,\n",
       " 0.9982618487864128,\n",
       " 0.9982648673304332,\n",
       " 0.9982678754038489,\n",
       " 0.9982708730610611,\n",
       " 0.9982738603560949,\n",
       " 0.9982768373426023,\n",
       " 0.9982798040738655,\n",
       " 0.9982827606028002,\n",
       " 0.9982857069819578,\n",
       " 0.9982886432635307,\n",
       " 0.9982915694993527,\n",
       " 0.9982944857409043,\n",
       " 0.9982973920393138,\n",
       " 0.9983002884453623,\n",
       " 0.998303175009485,\n",
       " 0.998306051781775,\n",
       " 0.9983089188119856,\n",
       " 0.9983117761495341,\n",
       " 0.9983146238435036,\n",
       " 0.9983174619426465,\n",
       " 0.9983202904953868,\n",
       " 0.9983231095498237,\n",
       " 0.9983259191537334,\n",
       " 0.9983287193545716,\n",
       " 0.9983315101994776,\n",
       " 0.9983342917352757,\n",
       " 0.9983370640084782,\n",
       " 0.9983398270652882,\n",
       " 0.9983425809516017,\n",
       " 0.9983453257130104,\n",
       " 0.9983480613948043,\n",
       " 0.998350788041974,\n",
       " 0.9983535056992137,\n",
       " 0.9983562144109227,\n",
       " 0.9983589142212088,\n",
       " 0.9983616051738897,\n",
       " 0.9983642873124965,\n",
       " 0.9983669606802749,\n",
       " 0.9983696253201887,\n",
       " 0.9983722812749212,\n",
       " 0.9983749285868774,\n",
       " 0.9983775672981873,\n",
       " 0.9983801974507072,\n",
       " 0.9983828190860219,\n",
       " 0.9983854322454474,\n",
       " 0.9983880369700331,\n",
       " 0.9983906333005635,\n",
       " 0.9983932212775602,\n",
       " 0.9983958009412851,\n",
       " 0.998398372331741,\n",
       " 0.9984009354886748,\n",
       " 0.998403490451579,\n",
       " 0.998406037259694,\n",
       " 0.9984085759520096,\n",
       " 0.9984111065672682,\n",
       " 0.9984136291439651,\n",
       " 0.9984161437203519,\n",
       " 0.9984186503344376,\n",
       " 0.9984211490239905,\n",
       " 0.9984236398265409,\n",
       " 0.9984261227793821,\n",
       " 0.9984285979195727,\n",
       " 0.9984310652839383,\n",
       " 0.9984335249090734,\n",
       " 0.9984359768313436,\n",
       " 0.9984384210868859,\n",
       " 0.9984408577116125,\n",
       " 0.9984432867412116,\n",
       " 0.9984457082111485,\n",
       " 0.9984481221566689,\n",
       " 0.9984505286127988,\n",
       " 0.9984529276143476,\n",
       " 0.9984553191959091,\n",
       " 0.9984577033918638,\n",
       " 0.9984600802363792,\n",
       " 0.9984624497634131,\n",
       " 0.9984648120067143,\n",
       " 0.998467166999824,\n",
       " 0.9984695147760779,\n",
       " 0.9984718553686077,\n",
       " 0.9984741888103428,\n",
       " 0.998476515134011,\n",
       " 0.9984788343721411,\n",
       " 0.9984811465570639,\n",
       " 0.9984834517209136,\n",
       " 0.9984857498956294,\n",
       " 0.9984880411129575,\n",
       " 0.9984903254044517,\n",
       " 0.9984926028014753,\n",
       " 0.9984948733352025,\n",
       " 0.9984971370366199,\n",
       " 0.9984993939365274,\n",
       " 0.9985016440655408,\n",
       " 0.9985038874540918,\n",
       " 0.9985061241324298,\n",
       " 0.9985083541306241,\n",
       " 0.9985105774785639,\n",
       " 0.9985127942059611,\n",
       " 0.9985150043423499,\n",
       " 0.9985172079170896,\n",
       " 0.9985194049593655,\n",
       " 0.9985215954981899,\n",
       " 0.9985237795624032,\n",
       " 0.9985259571806756,\n",
       " 0.998528128381509,\n",
       " 0.9985302931932362,\n",
       " 0.9985324516440244,\n",
       " 0.9985346037618751,\n",
       " 0.9985367495746257,\n",
       " 0.9985388891099507,\n",
       " 0.9985410223953627,\n",
       " 0.998543149458214,\n",
       " 0.998545270325697,\n",
       " 0.9985473850248464,\n",
       " 0.9985494935825399,\n",
       " 0.9985515960254984,\n",
       " 0.9985536923802887,\n",
       " 0.9985557826733239,\n",
       " 0.9985578669308641,\n",
       " 0.9985599451790181,\n",
       " 0.9985620174437446,\n",
       " 0.9985640837508525,\n",
       " 0.9985661441260028,\n",
       " 0.9985681985947089,\n",
       " 0.9985702471823387,\n",
       " 0.9985722899141142,\n",
       " 0.9985743268151143,\n",
       " 0.9985763579102741,\n",
       " 0.9985783832243871,\n",
       " 0.9985804027821055,\n",
       " 0.998582416607942,\n",
       " 0.9985844247262697,\n",
       " 0.998586427161324,\n",
       " 0.9985884239372035,\n",
       " 0.9985904150778702,\n",
       " 0.998592400607151,\n",
       " 0.9985943805487395,\n",
       " 0.9985963549261951,\n",
       " 0.9985983237629452,\n",
       " 0.9986002870822861,\n",
       " 0.9986022449073834,\n",
       " 0.998604197261273,\n",
       " 0.9986061441668628,\n",
       " 0.9986080856469324,\n",
       " 0.9986100217241348,\n",
       " 0.9986119524209969,\n",
       " 0.9986138777599207,\n",
       " 0.9986157977631839,\n",
       " 0.9986177124529408,\n",
       " 0.9986196218512233,\n",
       " 0.9986215259799418,\n",
       " 0.9986234248608853,\n",
       " 0.9986253185157232,\n",
       " 0.9986272069660062,\n",
       " 0.9986290902331657,\n",
       " 0.9986309683385162,\n",
       " 0.9986328413032552,\n",
       " 0.9986347091484649,\n",
       " 0.9986365718951112,\n",
       " 0.9986384295640466,\n",
       " 0.9986402821760099,\n",
       " 0.9986421297516265,\n",
       " 0.9986439723114107,\n",
       " 0.9986458098757647,\n",
       " 0.9986476424649806,\n",
       " 0.9986494700992404,\n",
       " 0.9986512927986176,\n",
       " 0.9986531105830772,\n",
       " 0.9986549234724761,\n",
       " 0.9986567314865652,\n",
       " 0.9986585346449887,\n",
       " 0.9986603329672854,\n",
       " 0.9986621264728894,\n",
       " 0.9986639151811315,\n",
       " 0.998665699111238,\n",
       " 0.9986674782823337,\n",
       " 0.9986692527134406,\n",
       " 0.9986710224234799,\n",
       " 0.9986727874312721,\n",
       " 0.9986745477555379,\n",
       " 0.9986763034148982,\n",
       " 0.9986780544278763,\n",
       " 0.9986798008128964,\n",
       " 0.9986815425882863,\n",
       " 0.9986832797722768,\n",
       " 0.9986850123830027,\n",
       " 0.9986867404385033,\n",
       " 0.9986884639567231,\n",
       " 0.9986901829555126,\n",
       " 0.998691897452629,\n",
       " 0.9986936074657361,\n",
       " 0.9986953130124058,\n",
       " 0.9986970141101179,\n",
       " 0.9986987107762615,\n",
       " 0.9987004030281349,\n",
       " 0.9987020908829464,\n",
       " 0.9987037743578153,\n",
       " 0.9987054534697718,\n",
       " 0.9987071282357585,\n",
       " 0.9987087986726293,\n",
       " 0.998710464797152,\n",
       " 0.9987121266260075,\n",
       " 0.9987137841757909,\n",
       " 0.998715437463012,\n",
       " 0.9987170865040954,\n",
       " 0.9987187313153817,\n",
       " 0.9987203719131277,\n",
       " 0.9987220083135071,\n",
       " 0.9987236405326105,\n",
       " 0.998725268586447,\n",
       " 0.9987268924909435,\n",
       " 0.9987285122619458,\n",
       " 0.9987301279152195,\n",
       " 0.9987317394664501,\n",
       " 0.9987333469312428,\n",
       " 0.9987349503251248,\n",
       " 0.998736549663544,\n",
       " 0.9987381449618704,\n",
       " 0.9987397362353962,\n",
       " 0.9987413234993373,\n",
       " 0.9987429067688318,\n",
       " 0.9987444860589426,\n",
       " 0.9987460613846568,\n",
       " 0.9987476327608859,\n",
       " 0.998749200202467,\n",
       " 0.998750763724163,\n",
       " 0.9987523233406631,\n",
       " 0.9987538790665828,\n",
       " 0.9987554309164651,\n",
       " 0.9987569789047805,\n",
       " 0.9987585230459276,\n",
       " 0.9987600633542333,\n",
       " 0.9987615998439536,\n",
       " 0.9987631325292741,\n",
       " 0.9987646614243094,\n",
       " 0.9987661865431056,\n",
       " 0.9987677078996382,\n",
       " 0.9987692255078148,\n",
       " 0.9987707393814739,\n",
       " 0.9987722495343863,\n",
       " 0.9987737559802549,\n",
       " 0.9987752587327158,\n",
       " 0.9987767578053377,\n",
       " 0.9987782532116234,\n",
       " 0.9987797449650095,\n",
       " 0.9987812330788671,\n",
       " 0.998782717566502,\n",
       " 0.9987841984411553,\n",
       " 0.9987856757160036,\n",
       " 0.9987871494041598,\n",
       " 0.9987886195186728,\n",
       " 0.9987900860725282,\n",
       " 0.9987915490786493,\n",
       " 0.9987930085498963,\n",
       " 0.9987944644990678,\n",
       " 0.9987959169389007,\n",
       " 0.9987973658820698,\n",
       " 0.99879881134119,\n",
       " 0.9988002533288145,\n",
       " 0.9988016918574373,\n",
       " 0.9988031269394917,\n",
       " 0.9988045585873518,\n",
       " 0.9988059868133327,\n",
       " 0.9988074116296904,\n",
       " 0.9988088330486224,\n",
       " 0.9988102510822683,\n",
       " 0.99881166574271,\n",
       " 0.9988130770419713,\n",
       " 0.99881448499202,\n",
       " 0.9988158896047661,\n",
       " 0.9988172908920638,\n",
       " 0.9988186888657113,\n",
       " 0.9988200835374503,\n",
       " 0.998821474918968,\n",
       " 0.9988228630218958,\n",
       " 0.9988242478578108,\n",
       " 0.9988256294382353,\n",
       " 0.9988270077746378,\n",
       " 0.998828382878433,\n",
       " 0.9988297547609813,\n",
       " 0.9988311234335914,\n",
       " 0.9988324889075174,\n",
       " 0.9988338511939622,\n",
       " 0.998835210304076,\n",
       " 0.9988365662489567,\n",
       " 0.9988379190396511,\n",
       " 0.9988392686871543,\n",
       " 0.9988406152024105,\n",
       " 0.9988419585963129,\n",
       " 0.9988432988797047,\n",
       " 0.9988446360633784,\n",
       " 0.998845970158077,\n",
       " 0.9988473011744938,\n",
       " 0.9988486291232729,\n",
       " 0.9988499540150089,\n",
       " 0.9988512758602482,\n",
       " 0.9988525946694886,\n",
       " 0.9988539104531797,\n",
       " 0.998855223221723,\n",
       " 0.9988565329854726,\n",
       " 0.9988578397547353,\n",
       " 0.9988591435397706,\n",
       " 0.998860444350791,\n",
       " 0.998861742197963,\n",
       " 0.9988630370914064,\n",
       " 0.9988643290411953,\n",
       " 0.9988656180573574,\n",
       " 0.9988669041498757,\n",
       " 0.9988681873286872,\n",
       " 0.9988694676036846,\n",
       " 0.9988707449847155,\n",
       " 0.998872019481583,\n",
       " 0.998873291104046,\n",
       " 0.9988745598618195,\n",
       " 0.9988758257645746,\n",
       " 0.998877088821939,\n",
       " 0.9988783490434974,\n",
       " 0.998879606438791,\n",
       " 0.9988808610173188,\n",
       " 0.9988821127885366,\n",
       " 0.9988833617618583,\n",
       " 0.9988846079466562,\n",
       " 0.99888585135226,\n",
       " 0.9988870919879583,\n",
       " 0.9988883298629979,\n",
       " 0.998889564986585,\n",
       " 0.9988907973678847,\n",
       " 0.9988920270160213,\n",
       " 0.9988932539400788,\n",
       " 0.998894478149101,\n",
       " 0.9988956996520917,\n",
       " 0.9988969184580148,\n",
       " 0.9988981345757948,\n",
       " 0.9988993480143168,\n",
       " 0.9989005587824267,\n",
       " 0.9989017668889316,\n",
       " 0.9989029723426002,\n",
       " 0.9989041751521619,\n",
       " 0.9989053753263085,\n",
       " 0.9989065728736939,\n",
       " 0.9989077678029334,\n",
       " 0.9989089601226053,\n",
       " 0.9989101498412503,\n",
       " 0.9989113369673717,\n",
       " 0.9989125215094359,\n",
       " 0.9989137034758725,\n",
       " 0.9989148828750746,\n",
       " 0.9989160597153983,\n",
       " 0.9989172340051642,\n",
       " 0.9989184057526562,\n",
       " 0.9989195749661232,\n",
       " 0.9989207416537774,\n",
       " 0.9989219058237964,\n",
       " 0.9989230674843221,\n",
       " 0.9989242266434614,\n",
       " 0.9989253833092864,\n",
       " 0.9989265374898345,\n",
       " 0.9989276891931085,\n",
       " 0.9989288384270768,\n",
       " 0.998929985199674,\n",
       " 0.9989311295188004,\n",
       " 0.9989322713923225,\n",
       " 0.9989334108280736,\n",
       " 0.998934547833853,\n",
       " 0.9989356824174273,\n",
       " 0.9989368145865296,\n",
       " 0.9989379443488605,\n",
       " 0.9989390717120876,\n",
       " 0.9989401966838461,\n",
       " 0.9989413192717389,\n",
       " 0.9989424394833363,\n",
       " 0.9989435573261771,\n",
       " 0.998944672807768,\n",
       " 0.9989457859355839,\n",
       " 0.9989468967170683,\n",
       " 0.9989480051596333,\n",
       " 0.99894911127066,\n",
       " 0.9989502150574984,\n",
       " 0.9989513165274673,\n",
       " 0.9989524156878552,\n",
       " 0.9989535125459198,\n",
       " 0.9989546071088886,\n",
       " 0.9989556993839588,\n",
       " 0.9989567893782976,\n",
       " 0.9989578770990422,\n",
       " 0.9989589625532999,\n",
       " 0.9989600457481488,\n",
       " 0.9989611266906373,\n",
       " 0.9989622053877845,\n",
       " 0.9989632818465805,\n",
       " 0.9989643560739859,\n",
       " 0.9989654280769336,\n",
       " 0.9989664978623264,\n",
       " 0.9989675654370396,\n",
       " 0.9989686308079199,\n",
       " 0.9989696939817853,\n",
       " 0.9989707549654261,\n",
       " 0.9989718137656046,\n",
       " 0.9989728703890552,\n",
       " 0.9989739248424848,\n",
       " 0.9989749771325726,\n",
       " 0.9989760272659701,\n",
       " 0.9989770752493025,\n",
       " 0.9989781210891668,\n",
       " 0.9989791647921339,\n",
       " 0.9989802063647474,\n",
       " 0.9989812458135241,\n",
       " 0.9989822831449546,\n",
       " 0.998983318365503,\n",
       " 0.998984351481607,\n",
       " 0.9989853824996783,\n",
       " 0.9989864114261022,\n",
       " 0.9989874382672386,\n",
       " 0.9989884630294211,\n",
       " 0.9989894857189583,\n",
       " 0.9989905063421329,\n",
       " 0.9989915249052025,\n",
       " 0.9989925414143989,\n",
       " 0.9989935558759292,\n",
       " 0.9989945682959758,\n",
       " 0.9989955786806956,\n",
       " 0.9989965870362212,\n",
       " 0.9989975933686603,\n",
       " 0.9989985976840966,\n",
       " 0.9989995999885887,\n",
       " ...]"
      ]
     },
     "execution_count": 137,
     "metadata": {},
     "output_type": "execute_result"
    }
   ],
   "source": [
    "gamList"
   ]
  },
  {
   "cell_type": "code",
   "execution_count": 127,
   "metadata": {},
   "outputs": [
    {
     "data": {
      "image/png": "[encoded data removed]",
      "text/plain": [
       "<Figure size 432x288 with 1 Axes>"
      ]
     },
     "metadata": {
      "needs_background": "light"
     },
     "output_type": "display_data"
    }
   ],
   "source": [
    "plt.plot(ren(lamList[1:]), lamList[1:], label = 'Barzalai Step Size')\n",
    "plt.plot(ren(lamList[1:]), lamListAdap[1:len(lamList)], c= 'r', label = 'Adaptive Step Size')\n",
    "plt.plot(ren(lamList[1:]), lamListVan[1:len(lamList)], c= 'y', label = 'Vanilla Step Size')\n",
    "plt.plot(ren(lamList[1:]), lamListLS[1:len(lamList)], c= 'g', label = 'Line Search Step Size')\n",
    "plt.plot(ren(lamList[1:]), gamList[1:len(lamList)], c= 'm', label = 'Nesterov Step Size')\n",
    "plt.yscale('log')\n",
    "plt.legend(loc = 'lower right')\n",
    "plt.show()"
   ]
  },
  {
   "cell_type": "code",
   "execution_count": 141,
   "metadata": {},
   "outputs": [],
   "source": [
    "import plotly.express as px"
   ]
  },
  {
   "cell_type": "code",
   "execution_count": 145,
   "metadata": {},
   "outputs": [
    {
     "ename": "ValueError",
     "evalue": "arrays must all be same length",
     "output_type": "error",
     "traceback": [
      "\u001b[1;31m---------------------------------------------------------------------------\u001b[0m",
      "\u001b[1;31mValueError\u001b[0m                                Traceback (most recent call last)",
      "\u001b[1;32m<ipython-input-145-96a68609dabe>\u001b[0m in \u001b[0;36m<module>\u001b[1;34m\u001b[0m\n\u001b[1;32m----> 1\u001b[1;33m Steps = pd.DataFrame(dict(\n\u001b[0m\u001b[0;32m      2\u001b[0m     \u001b[0mbaz\u001b[0m \u001b[1;33m=\u001b[0m \u001b[0mlamList\u001b[0m\u001b[1;33m,\u001b[0m\u001b[1;33m\u001b[0m\u001b[1;33m\u001b[0m\u001b[0m\n\u001b[0;32m      3\u001b[0m     \u001b[0madap\u001b[0m \u001b[1;33m=\u001b[0m \u001b[0mlamListAdap\u001b[0m\u001b[1;33m,\u001b[0m\u001b[1;33m\u001b[0m\u001b[1;33m\u001b[0m\u001b[0m\n\u001b[0;32m      4\u001b[0m     \u001b[0mls\u001b[0m \u001b[1;33m=\u001b[0m \u001b[0mlamListLS\u001b[0m\u001b[1;33m,\u001b[0m\u001b[1;33m\u001b[0m\u001b[1;33m\u001b[0m\u001b[0m\n\u001b[0;32m      5\u001b[0m     \u001b[0mvan\u001b[0m \u001b[1;33m=\u001b[0m \u001b[0mlamListVan\u001b[0m\u001b[1;33m\u001b[0m\u001b[1;33m\u001b[0m\u001b[0m\n",
      "\u001b[1;32mc:\\users\\asus\\appdata\\local\\programs\\python\\python38-32\\lib\\site-packages\\pandas\\core\\frame.py\u001b[0m in \u001b[0;36m__init__\u001b[1;34m(self, data, index, columns, dtype, copy)\u001b[0m\n\u001b[0;32m    527\u001b[0m \u001b[1;33m\u001b[0m\u001b[0m\n\u001b[0;32m    528\u001b[0m         \u001b[1;32melif\u001b[0m \u001b[0misinstance\u001b[0m\u001b[1;33m(\u001b[0m\u001b[0mdata\u001b[0m\u001b[1;33m,\u001b[0m \u001b[0mdict\u001b[0m\u001b[1;33m)\u001b[0m\u001b[1;33m:\u001b[0m\u001b[1;33m\u001b[0m\u001b[1;33m\u001b[0m\u001b[0m\n\u001b[1;32m--> 529\u001b[1;33m             \u001b[0mmgr\u001b[0m \u001b[1;33m=\u001b[0m \u001b[0minit_dict\u001b[0m\u001b[1;33m(\u001b[0m\u001b[0mdata\u001b[0m\u001b[1;33m,\u001b[0m \u001b[0mindex\u001b[0m\u001b[1;33m,\u001b[0m \u001b[0mcolumns\u001b[0m\u001b[1;33m,\u001b[0m \u001b[0mdtype\u001b[0m\u001b[1;33m=\u001b[0m\u001b[0mdtype\u001b[0m\u001b[1;33m)\u001b[0m\u001b[1;33m\u001b[0m\u001b[1;33m\u001b[0m\u001b[0m\n\u001b[0m\u001b[0;32m    530\u001b[0m         \u001b[1;32melif\u001b[0m \u001b[0misinstance\u001b[0m\u001b[1;33m(\u001b[0m\u001b[0mdata\u001b[0m\u001b[1;33m,\u001b[0m \u001b[0mma\u001b[0m\u001b[1;33m.\u001b[0m\u001b[0mMaskedArray\u001b[0m\u001b[1;33m)\u001b[0m\u001b[1;33m:\u001b[0m\u001b[1;33m\u001b[0m\u001b[1;33m\u001b[0m\u001b[0m\n\u001b[0;32m    531\u001b[0m             \u001b[1;32mimport\u001b[0m \u001b[0mnumpy\u001b[0m\u001b[1;33m.\u001b[0m\u001b[0mma\u001b[0m\u001b[1;33m.\u001b[0m\u001b[0mmrecords\u001b[0m \u001b[1;32mas\u001b[0m \u001b[0mmrecords\u001b[0m\u001b[1;33m\u001b[0m\u001b[1;33m\u001b[0m\u001b[0m\n",
      "\u001b[1;32mc:\\users\\asus\\appdata\\local\\programs\\python\\python38-32\\lib\\site-packages\\pandas\\core\\internals\\construction.py\u001b[0m in \u001b[0;36minit_dict\u001b[1;34m(data, index, columns, dtype)\u001b[0m\n\u001b[0;32m    285\u001b[0m             \u001b[0marr\u001b[0m \u001b[1;32mif\u001b[0m \u001b[1;32mnot\u001b[0m \u001b[0mis_datetime64tz_dtype\u001b[0m\u001b[1;33m(\u001b[0m\u001b[0marr\u001b[0m\u001b[1;33m)\u001b[0m \u001b[1;32melse\u001b[0m \u001b[0marr\u001b[0m\u001b[1;33m.\u001b[0m\u001b[0mcopy\u001b[0m\u001b[1;33m(\u001b[0m\u001b[1;33m)\u001b[0m \u001b[1;32mfor\u001b[0m \u001b[0marr\u001b[0m \u001b[1;32min\u001b[0m \u001b[0marrays\u001b[0m\u001b[1;33m\u001b[0m\u001b[1;33m\u001b[0m\u001b[0m\n\u001b[0;32m    286\u001b[0m         ]\n\u001b[1;32m--> 287\u001b[1;33m     \u001b[1;32mreturn\u001b[0m \u001b[0marrays_to_mgr\u001b[0m\u001b[1;33m(\u001b[0m\u001b[0marrays\u001b[0m\u001b[1;33m,\u001b[0m \u001b[0mdata_names\u001b[0m\u001b[1;33m,\u001b[0m \u001b[0mindex\u001b[0m\u001b[1;33m,\u001b[0m \u001b[0mcolumns\u001b[0m\u001b[1;33m,\u001b[0m \u001b[0mdtype\u001b[0m\u001b[1;33m=\u001b[0m\u001b[0mdtype\u001b[0m\u001b[1;33m)\u001b[0m\u001b[1;33m\u001b[0m\u001b[1;33m\u001b[0m\u001b[0m\n\u001b[0m\u001b[0;32m    288\u001b[0m \u001b[1;33m\u001b[0m\u001b[0m\n\u001b[0;32m    289\u001b[0m \u001b[1;33m\u001b[0m\u001b[0m\n",
      "\u001b[1;32mc:\\users\\asus\\appdata\\local\\programs\\python\\python38-32\\lib\\site-packages\\pandas\\core\\internals\\construction.py\u001b[0m in \u001b[0;36marrays_to_mgr\u001b[1;34m(arrays, arr_names, index, columns, dtype, verify_integrity)\u001b[0m\n\u001b[0;32m     78\u001b[0m         \u001b[1;31m# figure out the index, if necessary\u001b[0m\u001b[1;33m\u001b[0m\u001b[1;33m\u001b[0m\u001b[1;33m\u001b[0m\u001b[0m\n\u001b[0;32m     79\u001b[0m         \u001b[1;32mif\u001b[0m \u001b[0mindex\u001b[0m \u001b[1;32mis\u001b[0m \u001b[1;32mNone\u001b[0m\u001b[1;33m:\u001b[0m\u001b[1;33m\u001b[0m\u001b[1;33m\u001b[0m\u001b[0m\n\u001b[1;32m---> 80\u001b[1;33m             \u001b[0mindex\u001b[0m \u001b[1;33m=\u001b[0m \u001b[0mextract_index\u001b[0m\u001b[1;33m(\u001b[0m\u001b[0marrays\u001b[0m\u001b[1;33m)\u001b[0m\u001b[1;33m\u001b[0m\u001b[1;33m\u001b[0m\u001b[0m\n\u001b[0m\u001b[0;32m     81\u001b[0m         \u001b[1;32melse\u001b[0m\u001b[1;33m:\u001b[0m\u001b[1;33m\u001b[0m\u001b[1;33m\u001b[0m\u001b[0m\n\u001b[0;32m     82\u001b[0m             \u001b[0mindex\u001b[0m \u001b[1;33m=\u001b[0m \u001b[0mensure_index\u001b[0m\u001b[1;33m(\u001b[0m\u001b[0mindex\u001b[0m\u001b[1;33m)\u001b[0m\u001b[1;33m\u001b[0m\u001b[1;33m\u001b[0m\u001b[0m\n",
      "\u001b[1;32mc:\\users\\asus\\appdata\\local\\programs\\python\\python38-32\\lib\\site-packages\\pandas\\core\\internals\\construction.py\u001b[0m in \u001b[0;36mextract_index\u001b[1;34m(data)\u001b[0m\n\u001b[0;32m    399\u001b[0m             \u001b[0mlengths\u001b[0m \u001b[1;33m=\u001b[0m \u001b[0mlist\u001b[0m\u001b[1;33m(\u001b[0m\u001b[0mset\u001b[0m\u001b[1;33m(\u001b[0m\u001b[0mraw_lengths\u001b[0m\u001b[1;33m)\u001b[0m\u001b[1;33m)\u001b[0m\u001b[1;33m\u001b[0m\u001b[1;33m\u001b[0m\u001b[0m\n\u001b[0;32m    400\u001b[0m             \u001b[1;32mif\u001b[0m \u001b[0mlen\u001b[0m\u001b[1;33m(\u001b[0m\u001b[0mlengths\u001b[0m\u001b[1;33m)\u001b[0m \u001b[1;33m>\u001b[0m \u001b[1;36m1\u001b[0m\u001b[1;33m:\u001b[0m\u001b[1;33m\u001b[0m\u001b[1;33m\u001b[0m\u001b[0m\n\u001b[1;32m--> 401\u001b[1;33m                 \u001b[1;32mraise\u001b[0m \u001b[0mValueError\u001b[0m\u001b[1;33m(\u001b[0m\u001b[1;34m\"arrays must all be same length\"\u001b[0m\u001b[1;33m)\u001b[0m\u001b[1;33m\u001b[0m\u001b[1;33m\u001b[0m\u001b[0m\n\u001b[0m\u001b[0;32m    402\u001b[0m \u001b[1;33m\u001b[0m\u001b[0m\n\u001b[0;32m    403\u001b[0m             \u001b[1;32mif\u001b[0m \u001b[0mhave_dicts\u001b[0m\u001b[1;33m:\u001b[0m\u001b[1;33m\u001b[0m\u001b[1;33m\u001b[0m\u001b[0m\n",
      "\u001b[1;31mValueError\u001b[0m: arrays must all be same length"
     ]
    }
   ],
   "source": [
    "Steps = pd.DataFrame(dict(\n",
    "    baz = lamList,\n",
    "    adap = lamListAdap,\n",
    "    ls = lamListLS,\n",
    "    van = lamListVan\n",
    "))"
   ]
  },
  {
   "cell_type": "code",
   "execution_count": 144,
   "metadata": {},
   "outputs": [
    {
     "data": {
      "application/vnd.plotly.v1+json": {
       "config": {
        "plotlyServerURL": "https://plot.ly"
       },
       "data": [
        {
         "hovertemplate": "x=%{x}<br>y=%{y}<extra></extra>",
         "legendgroup": "",
         "line": {
          "color": "#636efa",
          "dash": "solid"
         },
         "marker": {
          "symbol": "circle"
         },
         "mode": "lines",
         "name": "",
         "orientation": "v",
         "showlegend": false,
         "type": "scatter",
         "x": [
          0,
          1,
          2,
          3,
          4,
          5,
          6,
          7,
          8,
          9,
          10,
          11,
          12,
          13,
          14,
          15,
          16,
          17,
          18,
          19,
          20,
          21,
          22,
          23,
          24,
          25,
          26,
          27,
          28,
          29,
          30,
          31,
          32,
          33,
          34,
          35,
          36,
          37,
          38,
          39,
          40,
          41,
          42,
          43,
          44,
          45,
          46,
          47,
          48,
          49,
          50,
          51,
          52,
          53,
          54,
          55,
          56,
          57,
          58,
          59,
          60,
          61
         ],
         "xaxis": "x",
         "y": [
          7.013447719682193e-11,
          1.3194166643831337e-06,
          1.8100212629301744e-06,
          2.905073607315483e-06,
          3.5473564408950196e-06,
          3.9316470598082705e-06,
          9.630175467677856e-06,
          0.000182916531402674,
          0.00013672337521533856,
          4.949274727867247e-06,
          4.996393007998245e-06,
          4.008224130929186e-06,
          4.337067070487848e-06,
          0.0005977795218032252,
          0.0006301116117955945,
          4.229852366128061e-06,
          4.211738899364988e-06,
          4.191531209046922e-06,
          5.115483272712178e-05,
          0.0001733530630306779,
          6.983439368575274e-05,
          4.0169554867335e-06,
          4.017966018285937e-06,
          4.745640706351654e-06,
          0.00029674503936555303,
          0.0003025181150080878,
          6.392112190733964e-05,
          4.0067653662037456e-06,
          4.000888225076456e-06,
          1.0136210346739287e-05,
          0.00027722761945239244,
          0.00028454435524273,
          0.0002805880001803869,
          7.595871154315231e-06,
          4.001430437545819e-06,
          4.001463278839483e-06,
          0.00026155148922751424,
          0.00026515683278393665,
          0.00029360106802293174,
          0.0003125910447249315,
          5.961049703717536e-06,
          4.001317345534098e-06,
          4.001769194347117e-06,
          0.00022465937394595012,
          0.0002264314580862794,
          0.00035211559839705946,
          0.0005188570681202118,
          1.2836538221826998e-05,
          4.001947643762349e-06,
          4.0013010204139586e-06,
          0.0001664298654695257,
          0.00017461861218547563,
          0.0005515813946146086,
          0.0005705659944264986,
          4.007153183999228e-06,
          4.00116272341105e-06,
          4.009884551377948e-06,
          0.00021509577737038144,
          0.0002164419523111059,
          0.0003754922085219896,
          1.770080893932392e-05,
          4.001561948790008e-06
         ],
         "yaxis": "y"
        }
       ],
       "layout": {
        "legend": {
         "tracegroupgap": 0
        },
        "margin": {
         "t": 60
        },
        "template": {
         "data": {
          "bar": [
           {
            "error_x": {
             "color": "#2a3f5f"
            },
            "error_y": {
             "color": "#2a3f5f"
            },
            "marker": {
             "line": {
              "color": "#E5ECF6",
              "width": 0.5
             },
             "pattern": {
              "fillmode": "overlay",
              "size": 10,
              "solidity": 0.2
             }
            },
            "type": "bar"
           }
          ],
          "barpolar": [
           {
            "marker": {
             "line": {
              "color": "#E5ECF6",
              "width": 0.5
             },
             "pattern": {
              "fillmode": "overlay",
              "size": 10,
              "solidity": 0.2
             }
            },
            "type": "barpolar"
           }
          ],
          "carpet": [
           {
            "aaxis": {
             "endlinecolor": "#2a3f5f",
             "gridcolor": "white",
             "linecolor": "white",
             "minorgridcolor": "white",
             "startlinecolor": "#2a3f5f"
            },
            "baxis": {
             "endlinecolor": "#2a3f5f",
             "gridcolor": "white",
             "linecolor": "white",
             "minorgridcolor": "white",
             "startlinecolor": "#2a3f5f"
            },
            "type": "carpet"
           }
          ],
          "choropleth": [
           {
            "colorbar": {
             "outlinewidth": 0,
             "ticks": ""
            },
            "type": "choropleth"
           }
          ],
          "contour": [
           {
            "colorbar": {
             "outlinewidth": 0,
             "ticks": ""
            },
            "colorscale": [
             [
              0,
              "#0d0887"
             ],
             [
              0.1111111111111111,
              "#46039f"
             ],
             [
              0.2222222222222222,
              "#7201a8"
             ],
             [
              0.3333333333333333,
              "#9c179e"
             ],
             [
              0.4444444444444444,
              "#bd3786"
             ],
             [
              0.5555555555555556,
              "#d8576b"
             ],
             [
              0.6666666666666666,
              "#ed7953"
             ],
             [
              0.7777777777777778,
              "#fb9f3a"
             ],
             [
              0.8888888888888888,
              "#fdca26"
             ],
             [
              1,
              "#f0f921"
             ]
            ],
            "type": "contour"
           }
          ],
          "contourcarpet": [
           {
            "colorbar": {
             "outlinewidth": 0,
             "ticks": ""
            },
            "type": "contourcarpet"
           }
          ],
          "heatmap": [
           {
            "colorbar": {
             "outlinewidth": 0,
             "ticks": ""
            },
            "colorscale": [
             [
              0,
              "#0d0887"
             ],
             [
              0.1111111111111111,
              "#46039f"
             ],
             [
              0.2222222222222222,
              "#7201a8"
             ],
             [
              0.3333333333333333,
              "#9c179e"
             ],
             [
              0.4444444444444444,
              "#bd3786"
             ],
             [
              0.5555555555555556,
              "#d8576b"
             ],
             [
              0.6666666666666666,
              "#ed7953"
             ],
             [
              0.7777777777777778,
              "#fb9f3a"
             ],
             [
              0.8888888888888888,
              "#fdca26"
             ],
             [
              1,
              "#f0f921"
             ]
            ],
            "type": "heatmap"
           }
          ],
          "heatmapgl": [
           {
            "colorbar": {
             "outlinewidth": 0,
             "ticks": ""
            },
            "colorscale": [
             [
              0,
              "#0d0887"
             ],
             [
              0.1111111111111111,
              "#46039f"
             ],
             [
              0.2222222222222222,
              "#7201a8"
             ],
             [
              0.3333333333333333,
              "#9c179e"
             ],
             [
              0.4444444444444444,
              "#bd3786"
             ],
             [
              0.5555555555555556,
              "#d8576b"
             ],
             [
              0.6666666666666666,
              "#ed7953"
             ],
             [
              0.7777777777777778,
              "#fb9f3a"
             ],
             [
              0.8888888888888888,
              "#fdca26"
             ],
             [
              1,
              "#f0f921"
             ]
            ],
            "type": "heatmapgl"
           }
          ],
          "histogram": [
           {
            "marker": {
             "pattern": {
              "fillmode": "overlay",
              "size": 10,
              "solidity": 0.2
             }
            },
            "type": "histogram"
           }
          ],
          "histogram2d": [
           {
            "colorbar": {
             "outlinewidth": 0,
             "ticks": ""
            },
            "colorscale": [
             [
              0,
              "#0d0887"
             ],
             [
              0.1111111111111111,
              "#46039f"
             ],
             [
              0.2222222222222222,
              "#7201a8"
             ],
             [
              0.3333333333333333,
              "#9c179e"
             ],
             [
              0.4444444444444444,
              "#bd3786"
             ],
             [
              0.5555555555555556,
              "#d8576b"
             ],
             [
              0.6666666666666666,
              "#ed7953"
             ],
             [
              0.7777777777777778,
              "#fb9f3a"
             ],
             [
              0.8888888888888888,
              "#fdca26"
             ],
             [
              1,
              "#f0f921"
             ]
            ],
            "type": "histogram2d"
           }
          ],
          "histogram2dcontour": [
           {
            "colorbar": {
             "outlinewidth": 0,
             "ticks": ""
            },
            "colorscale": [
             [
              0,
              "#0d0887"
             ],
             [
              0.1111111111111111,
              "#46039f"
             ],
             [
              0.2222222222222222,
              "#7201a8"
             ],
             [
              0.3333333333333333,
              "#9c179e"
             ],
             [
              0.4444444444444444,
              "#bd3786"
             ],
             [
              0.5555555555555556,
              "#d8576b"
             ],
             [
              0.6666666666666666,
              "#ed7953"
             ],
             [
              0.7777777777777778,
              "#fb9f3a"
             ],
             [
              0.8888888888888888,
              "#fdca26"
             ],
             [
              1,
              "#f0f921"
             ]
            ],
            "type": "histogram2dcontour"
           }
          ],
          "mesh3d": [
           {
            "colorbar": {
             "outlinewidth": 0,
             "ticks": ""
            },
            "type": "mesh3d"
           }
          ],
          "parcoords": [
           {
            "line": {
             "colorbar": {
              "outlinewidth": 0,
              "ticks": ""
             }
            },
            "type": "parcoords"
           }
          ],
          "pie": [
           {
            "automargin": true,
            "type": "pie"
           }
          ],
          "scatter": [
           {
            "marker": {
             "colorbar": {
              "outlinewidth": 0,
              "ticks": ""
             }
            },
            "type": "scatter"
           }
          ],
          "scatter3d": [
           {
            "line": {
             "colorbar": {
              "outlinewidth": 0,
              "ticks": ""
             }
            },
            "marker": {
             "colorbar": {
              "outlinewidth": 0,
              "ticks": ""
             }
            },
            "type": "scatter3d"
           }
          ],
          "scattercarpet": [
           {
            "marker": {
             "colorbar": {
              "outlinewidth": 0,
              "ticks": ""
             }
            },
            "type": "scattercarpet"
           }
          ],
          "scattergeo": [
           {
            "marker": {
             "colorbar": {
              "outlinewidth": 0,
              "ticks": ""
             }
            },
            "type": "scattergeo"
           }
          ],
          "scattergl": [
           {
            "marker": {
             "colorbar": {
              "outlinewidth": 0,
              "ticks": ""
             }
            },
            "type": "scattergl"
           }
          ],
          "scattermapbox": [
           {
            "marker": {
             "colorbar": {
              "outlinewidth": 0,
              "ticks": ""
             }
            },
            "type": "scattermapbox"
           }
          ],
          "scatterpolar": [
           {
            "marker": {
             "colorbar": {
              "outlinewidth": 0,
              "ticks": ""
             }
            },
            "type": "scatterpolar"
           }
          ],
          "scatterpolargl": [
           {
            "marker": {
             "colorbar": {
              "outlinewidth": 0,
              "ticks": ""
             }
            },
            "type": "scatterpolargl"
           }
          ],
          "scatterternary": [
           {
            "marker": {
             "colorbar": {
              "outlinewidth": 0,
              "ticks": ""
             }
            },
            "type": "scatterternary"
           }
          ],
          "surface": [
           {
            "colorbar": {
             "outlinewidth": 0,
             "ticks": ""
            },
            "colorscale": [
             [
              0,
              "#0d0887"
             ],
             [
              0.1111111111111111,
              "#46039f"
             ],
             [
              0.2222222222222222,
              "#7201a8"
             ],
             [
              0.3333333333333333,
              "#9c179e"
             ],
             [
              0.4444444444444444,
              "#bd3786"
             ],
             [
              0.5555555555555556,
              "#d8576b"
             ],
             [
              0.6666666666666666,
              "#ed7953"
             ],
             [
              0.7777777777777778,
              "#fb9f3a"
             ],
             [
              0.8888888888888888,
              "#fdca26"
             ],
             [
              1,
              "#f0f921"
             ]
            ],
            "type": "surface"
           }
          ],
          "table": [
           {
            "cells": {
             "fill": {
              "color": "#EBF0F8"
             },
             "line": {
              "color": "white"
             }
            },
            "header": {
             "fill": {
              "color": "#C8D4E3"
             },
             "line": {
              "color": "white"
             }
            },
            "type": "table"
           }
          ]
         },
         "layout": {
          "annotationdefaults": {
           "arrowcolor": "#2a3f5f",
           "arrowhead": 0,
           "arrowwidth": 1
          },
          "autotypenumbers": "strict",
          "coloraxis": {
           "colorbar": {
            "outlinewidth": 0,
            "ticks": ""
           }
          },
          "colorscale": {
           "diverging": [
            [
             0,
             "#8e0152"
            ],
            [
             0.1,
             "#c51b7d"
            ],
            [
             0.2,
             "#de77ae"
            ],
            [
             0.3,
             "#f1b6da"
            ],
            [
             0.4,
             "#fde0ef"
            ],
            [
             0.5,
             "#f7f7f7"
            ],
            [
             0.6,
             "#e6f5d0"
            ],
            [
             0.7,
             "#b8e186"
            ],
            [
             0.8,
             "#7fbc41"
            ],
            [
             0.9,
             "#4d9221"
            ],
            [
             1,
             "#276419"
            ]
           ],
           "sequential": [
            [
             0,
             "#0d0887"
            ],
            [
             0.1111111111111111,
             "#46039f"
            ],
            [
             0.2222222222222222,
             "#7201a8"
            ],
            [
             0.3333333333333333,
             "#9c179e"
            ],
            [
             0.4444444444444444,
             "#bd3786"
            ],
            [
             0.5555555555555556,
             "#d8576b"
            ],
            [
             0.6666666666666666,
             "#ed7953"
            ],
            [
             0.7777777777777778,
             "#fb9f3a"
            ],
            [
             0.8888888888888888,
             "#fdca26"
            ],
            [
             1,
             "#f0f921"
            ]
           ],
           "sequentialminus": [
            [
             0,
             "#0d0887"
            ],
            [
             0.1111111111111111,
             "#46039f"
            ],
            [
             0.2222222222222222,
             "#7201a8"
            ],
            [
             0.3333333333333333,
             "#9c179e"
            ],
            [
             0.4444444444444444,
             "#bd3786"
            ],
            [
             0.5555555555555556,
             "#d8576b"
            ],
            [
             0.6666666666666666,
             "#ed7953"
            ],
            [
             0.7777777777777778,
             "#fb9f3a"
            ],
            [
             0.8888888888888888,
             "#fdca26"
            ],
            [
             1,
             "#f0f921"
            ]
           ]
          },
          "colorway": [
           "#636efa",
           "#EF553B",
           "#00cc96",
           "#ab63fa",
           "#FFA15A",
           "#19d3f3",
           "#FF6692",
           "#B6E880",
           "#FF97FF",
           "#FECB52"
          ],
          "font": {
           "color": "#2a3f5f"
          },
          "geo": {
           "bgcolor": "white",
           "lakecolor": "white",
           "landcolor": "#E5ECF6",
           "showlakes": true,
           "showland": true,
           "subunitcolor": "white"
          },
          "hoverlabel": {
           "align": "left"
          },
          "hovermode": "closest",
          "mapbox": {
           "style": "light"
          },
          "paper_bgcolor": "white",
          "plot_bgcolor": "#E5ECF6",
          "polar": {
           "angularaxis": {
            "gridcolor": "white",
            "linecolor": "white",
            "ticks": ""
           },
           "bgcolor": "#E5ECF6",
           "radialaxis": {
            "gridcolor": "white",
            "linecolor": "white",
            "ticks": ""
           }
          },
          "scene": {
           "xaxis": {
            "backgroundcolor": "#E5ECF6",
            "gridcolor": "white",
            "gridwidth": 2,
            "linecolor": "white",
            "showbackground": true,
            "ticks": "",
            "zerolinecolor": "white"
           },
           "yaxis": {
            "backgroundcolor": "#E5ECF6",
            "gridcolor": "white",
            "gridwidth": 2,
            "linecolor": "white",
            "showbackground": true,
            "ticks": "",
            "zerolinecolor": "white"
           },
           "zaxis": {
            "backgroundcolor": "#E5ECF6",
            "gridcolor": "white",
            "gridwidth": 2,
            "linecolor": "white",
            "showbackground": true,
            "ticks": "",
            "zerolinecolor": "white"
           }
          },
          "shapedefaults": {
           "line": {
            "color": "#2a3f5f"
           }
          },
          "ternary": {
           "aaxis": {
            "gridcolor": "white",
            "linecolor": "white",
            "ticks": ""
           },
           "baxis": {
            "gridcolor": "white",
            "linecolor": "white",
            "ticks": ""
           },
           "bgcolor": "#E5ECF6",
           "caxis": {
            "gridcolor": "white",
            "linecolor": "white",
            "ticks": ""
           }
          },
          "title": {
           "x": 0.05
          },
          "xaxis": {
           "automargin": true,
           "gridcolor": "white",
           "linecolor": "white",
           "ticks": "",
           "title": {
            "standoff": 15
           },
           "zerolinecolor": "white",
           "zerolinewidth": 2
          },
          "yaxis": {
           "automargin": true,
           "gridcolor": "white",
           "linecolor": "white",
           "ticks": "",
           "title": {
            "standoff": 15
           },
           "zerolinecolor": "white",
           "zerolinewidth": 2
          }
         }
        },
        "xaxis": {
         "anchor": "y",
         "domain": [
          0,
          1
         ],
         "title": {
          "text": "x"
         }
        },
        "yaxis": {
         "anchor": "x",
         "domain": [
          0,
          1
         ],
         "title": {
          "text": "y"
         },
         "type": "log"
        }
       }
      },
      "text/html": [
       "<div>                            <div id=\"cdd0dc08-af24-477e-a5a0-ca83abec8369\" class=\"plotly-graph-div\" style=\"height:525px; width:100%;\"></div>            <script type=\"text/javascript\">                require([\"plotly\"], function(Plotly) {                    window.PLOTLYENV=window.PLOTLYENV || {};                                    if (document.getElementById(\"cdd0dc08-af24-477e-a5a0-ca83abec8369\")) {                    Plotly.newPlot(                        \"cdd0dc08-af24-477e-a5a0-ca83abec8369\",                        [{\"hovertemplate\":\"x=%{x}<br>y=%{y}<extra></extra>\",\"legendgroup\":\"\",\"line\":{\"color\":\"#636efa\",\"dash\":\"solid\"},\"marker\":{\"symbol\":\"circle\"},\"mode\":\"lines\",\"name\":\"\",\"orientation\":\"v\",\"showlegend\":false,\"type\":\"scatter\",\"x\":[0,1,2,3,4,5,6,7,8,9,10,11,12,13,14,15,16,17,18,19,20,21,22,23,24,25,26,27,28,29,30,31,32,33,34,35,36,37,38,39,40,41,42,43,44,45,46,47,48,49,50,51,52,53,54,55,56,57,58,59,60,61],\"xaxis\":\"x\",\"y\":[7.013447719682193e-11,1.3194166643831337e-06,1.8100212629301744e-06,2.905073607315483e-06,3.5473564408950196e-06,3.9316470598082705e-06,9.630175467677856e-06,0.000182916531402674,0.00013672337521533856,4.949274727867247e-06,4.996393007998245e-06,4.008224130929186e-06,4.337067070487848e-06,0.0005977795218032252,0.0006301116117955945,4.229852366128061e-06,4.211738899364988e-06,4.191531209046922e-06,5.115483272712178e-05,0.0001733530630306779,6.983439368575274e-05,4.0169554867335e-06,4.017966018285937e-06,4.745640706351654e-06,0.00029674503936555303,0.0003025181150080878,6.392112190733964e-05,4.0067653662037456e-06,4.000888225076456e-06,1.0136210346739287e-05,0.00027722761945239244,0.00028454435524273,0.0002805880001803869,7.595871154315231e-06,4.001430437545819e-06,4.001463278839483e-06,0.00026155148922751424,0.00026515683278393665,0.00029360106802293174,0.0003125910447249315,5.961049703717536e-06,4.001317345534098e-06,4.001769194347117e-06,0.00022465937394595012,0.0002264314580862794,0.00035211559839705946,0.0005188570681202118,1.2836538221826998e-05,4.001947643762349e-06,4.0013010204139586e-06,0.0001664298654695257,0.00017461861218547563,0.0005515813946146086,0.0005705659944264986,4.007153183999228e-06,4.00116272341105e-06,4.009884551377948e-06,0.00021509577737038144,0.0002164419523111059,0.0003754922085219896,1.770080893932392e-05,4.001561948790008e-06],\"yaxis\":\"y\"}],                        {\"legend\":{\"tracegroupgap\":0},\"margin\":{\"t\":60},\"template\":{\"data\":{\"bar\":[{\"error_x\":{\"color\":\"#2a3f5f\"},\"error_y\":{\"color\":\"#2a3f5f\"},\"marker\":{\"line\":{\"color\":\"#E5ECF6\",\"width\":0.5},\"pattern\":{\"fillmode\":\"overlay\",\"size\":10,\"solidity\":0.2}},\"type\":\"bar\"}],\"barpolar\":[{\"marker\":{\"line\":{\"color\":\"#E5ECF6\",\"width\":0.5},\"pattern\":{\"fillmode\":\"overlay\",\"size\":10,\"solidity\":0.2}},\"type\":\"barpolar\"}],\"carpet\":[{\"aaxis\":{\"endlinecolor\":\"#2a3f5f\",\"gridcolor\":\"white\",\"linecolor\":\"white\",\"minorgridcolor\":\"white\",\"startlinecolor\":\"#2a3f5f\"},\"baxis\":{\"endlinecolor\":\"#2a3f5f\",\"gridcolor\":\"white\",\"linecolor\":\"white\",\"minorgridcolor\":\"white\",\"startlinecolor\":\"#2a3f5f\"},\"type\":\"carpet\"}],\"choropleth\":[{\"colorbar\":{\"outlinewidth\":0,\"ticks\":\"\"},\"type\":\"choropleth\"}],\"contour\":[{\"colorbar\":{\"outlinewidth\":0,\"ticks\":\"\"},\"colorscale\":[[0.0,\"#0d0887\"],[0.1111111111111111,\"#46039f\"],[0.2222222222222222,\"#7201a8\"],[0.3333333333333333,\"#9c179e\"],[0.4444444444444444,\"#bd3786\"],[0.5555555555555556,\"#d8576b\"],[0.6666666666666666,\"#ed7953\"],[0.7777777777777778,\"#fb9f3a\"],[0.8888888888888888,\"#fdca26\"],[1.0,\"#f0f921\"]],\"type\":\"contour\"}],\"contourcarpet\":[{\"colorbar\":{\"outlinewidth\":0,\"ticks\":\"\"},\"type\":\"contourcarpet\"}],\"heatmap\":[{\"colorbar\":{\"outlinewidth\":0,\"ticks\":\"\"},\"colorscale\":[[0.0,\"#0d0887\"],[0.1111111111111111,\"#46039f\"],[0.2222222222222222,\"#7201a8\"],[0.3333333333333333,\"#9c179e\"],[0.4444444444444444,\"#bd3786\"],[0.5555555555555556,\"#d8576b\"],[0.6666666666666666,\"#ed7953\"],[0.7777777777777778,\"#fb9f3a\"],[0.8888888888888888,\"#fdca26\"],[1.0,\"#f0f921\"]],\"type\":\"heatmap\"}],\"heatmapgl\":[{\"colorbar\":{\"outlinewidth\":0,\"ticks\":\"\"},\"colorscale\":[[0.0,\"#0d0887\"],[0.1111111111111111,\"#46039f\"],[0.2222222222222222,\"#7201a8\"],[0.3333333333333333,\"#9c179e\"],[0.4444444444444444,\"#bd3786\"],[0.5555555555555556,\"#d8576b\"],[0.6666666666666666,\"#ed7953\"],[0.7777777777777778,\"#fb9f3a\"],[0.8888888888888888,\"#fdca26\"],[1.0,\"#f0f921\"]],\"type\":\"heatmapgl\"}],\"histogram\":[{\"marker\":{\"pattern\":{\"fillmode\":\"overlay\",\"size\":10,\"solidity\":0.2}},\"type\":\"histogram\"}],\"histogram2d\":[{\"colorbar\":{\"outlinewidth\":0,\"ticks\":\"\"},\"colorscale\":[[0.0,\"#0d0887\"],[0.1111111111111111,\"#46039f\"],[0.2222222222222222,\"#7201a8\"],[0.3333333333333333,\"#9c179e\"],[0.4444444444444444,\"#bd3786\"],[0.5555555555555556,\"#d8576b\"],[0.6666666666666666,\"#ed7953\"],[0.7777777777777778,\"#fb9f3a\"],[0.8888888888888888,\"#fdca26\"],[1.0,\"#f0f921\"]],\"type\":\"histogram2d\"}],\"histogram2dcontour\":[{\"colorbar\":{\"outlinewidth\":0,\"ticks\":\"\"},\"colorscale\":[[0.0,\"#0d0887\"],[0.1111111111111111,\"#46039f\"],[0.2222222222222222,\"#7201a8\"],[0.3333333333333333,\"#9c179e\"],[0.4444444444444444,\"#bd3786\"],[0.5555555555555556,\"#d8576b\"],[0.6666666666666666,\"#ed7953\"],[0.7777777777777778,\"#fb9f3a\"],[0.8888888888888888,\"#fdca26\"],[1.0,\"#f0f921\"]],\"type\":\"histogram2dcontour\"}],\"mesh3d\":[{\"colorbar\":{\"outlinewidth\":0,\"ticks\":\"\"},\"type\":\"mesh3d\"}],\"parcoords\":[{\"line\":{\"colorbar\":{\"outlinewidth\":0,\"ticks\":\"\"}},\"type\":\"parcoords\"}],\"pie\":[{\"automargin\":true,\"type\":\"pie\"}],\"scatter\":[{\"marker\":{\"colorbar\":{\"outlinewidth\":0,\"ticks\":\"\"}},\"type\":\"scatter\"}],\"scatter3d\":[{\"line\":{\"colorbar\":{\"outlinewidth\":0,\"ticks\":\"\"}},\"marker\":{\"colorbar\":{\"outlinewidth\":0,\"ticks\":\"\"}},\"type\":\"scatter3d\"}],\"scattercarpet\":[{\"marker\":{\"colorbar\":{\"outlinewidth\":0,\"ticks\":\"\"}},\"type\":\"scattercarpet\"}],\"scattergeo\":[{\"marker\":{\"colorbar\":{\"outlinewidth\":0,\"ticks\":\"\"}},\"type\":\"scattergeo\"}],\"scattergl\":[{\"marker\":{\"colorbar\":{\"outlinewidth\":0,\"ticks\":\"\"}},\"type\":\"scattergl\"}],\"scattermapbox\":[{\"marker\":{\"colorbar\":{\"outlinewidth\":0,\"ticks\":\"\"}},\"type\":\"scattermapbox\"}],\"scatterpolar\":[{\"marker\":{\"colorbar\":{\"outlinewidth\":0,\"ticks\":\"\"}},\"type\":\"scatterpolar\"}],\"scatterpolargl\":[{\"marker\":{\"colorbar\":{\"outlinewidth\":0,\"ticks\":\"\"}},\"type\":\"scatterpolargl\"}],\"scatterternary\":[{\"marker\":{\"colorbar\":{\"outlinewidth\":0,\"ticks\":\"\"}},\"type\":\"scatterternary\"}],\"surface\":[{\"colorbar\":{\"outlinewidth\":0,\"ticks\":\"\"},\"colorscale\":[[0.0,\"#0d0887\"],[0.1111111111111111,\"#46039f\"],[0.2222222222222222,\"#7201a8\"],[0.3333333333333333,\"#9c179e\"],[0.4444444444444444,\"#bd3786\"],[0.5555555555555556,\"#d8576b\"],[0.6666666666666666,\"#ed7953\"],[0.7777777777777778,\"#fb9f3a\"],[0.8888888888888888,\"#fdca26\"],[1.0,\"#f0f921\"]],\"type\":\"surface\"}],\"table\":[{\"cells\":{\"fill\":{\"color\":\"#EBF0F8\"},\"line\":{\"color\":\"white\"}},\"header\":{\"fill\":{\"color\":\"#C8D4E3\"},\"line\":{\"color\":\"white\"}},\"type\":\"table\"}]},\"layout\":{\"annotationdefaults\":{\"arrowcolor\":\"#2a3f5f\",\"arrowhead\":0,\"arrowwidth\":1},\"autotypenumbers\":\"strict\",\"coloraxis\":{\"colorbar\":{\"outlinewidth\":0,\"ticks\":\"\"}},\"colorscale\":{\"diverging\":[[0,\"#8e0152\"],[0.1,\"#c51b7d\"],[0.2,\"#de77ae\"],[0.3,\"#f1b6da\"],[0.4,\"#fde0ef\"],[0.5,\"#f7f7f7\"],[0.6,\"#e6f5d0\"],[0.7,\"#b8e186\"],[0.8,\"#7fbc41\"],[0.9,\"#4d9221\"],[1,\"#276419\"]],\"sequential\":[[0.0,\"#0d0887\"],[0.1111111111111111,\"#46039f\"],[0.2222222222222222,\"#7201a8\"],[0.3333333333333333,\"#9c179e\"],[0.4444444444444444,\"#bd3786\"],[0.5555555555555556,\"#d8576b\"],[0.6666666666666666,\"#ed7953\"],[0.7777777777777778,\"#fb9f3a\"],[0.8888888888888888,\"#fdca26\"],[1.0,\"#f0f921\"]],\"sequentialminus\":[[0.0,\"#0d0887\"],[0.1111111111111111,\"#46039f\"],[0.2222222222222222,\"#7201a8\"],[0.3333333333333333,\"#9c179e\"],[0.4444444444444444,\"#bd3786\"],[0.5555555555555556,\"#d8576b\"],[0.6666666666666666,\"#ed7953\"],[0.7777777777777778,\"#fb9f3a\"],[0.8888888888888888,\"#fdca26\"],[1.0,\"#f0f921\"]]},\"colorway\":[\"#636efa\",\"#EF553B\",\"#00cc96\",\"#ab63fa\",\"#FFA15A\",\"#19d3f3\",\"#FF6692\",\"#B6E880\",\"#FF97FF\",\"#FECB52\"],\"font\":{\"color\":\"#2a3f5f\"},\"geo\":{\"bgcolor\":\"white\",\"lakecolor\":\"white\",\"landcolor\":\"#E5ECF6\",\"showlakes\":true,\"showland\":true,\"subunitcolor\":\"white\"},\"hoverlabel\":{\"align\":\"left\"},\"hovermode\":\"closest\",\"mapbox\":{\"style\":\"light\"},\"paper_bgcolor\":\"white\",\"plot_bgcolor\":\"#E5ECF6\",\"polar\":{\"angularaxis\":{\"gridcolor\":\"white\",\"linecolor\":\"white\",\"ticks\":\"\"},\"bgcolor\":\"#E5ECF6\",\"radialaxis\":{\"gridcolor\":\"white\",\"linecolor\":\"white\",\"ticks\":\"\"}},\"scene\":{\"xaxis\":{\"backgroundcolor\":\"#E5ECF6\",\"gridcolor\":\"white\",\"gridwidth\":2,\"linecolor\":\"white\",\"showbackground\":true,\"ticks\":\"\",\"zerolinecolor\":\"white\"},\"yaxis\":{\"backgroundcolor\":\"#E5ECF6\",\"gridcolor\":\"white\",\"gridwidth\":2,\"linecolor\":\"white\",\"showbackground\":true,\"ticks\":\"\",\"zerolinecolor\":\"white\"},\"zaxis\":{\"backgroundcolor\":\"#E5ECF6\",\"gridcolor\":\"white\",\"gridwidth\":2,\"linecolor\":\"white\",\"showbackground\":true,\"ticks\":\"\",\"zerolinecolor\":\"white\"}},\"shapedefaults\":{\"line\":{\"color\":\"#2a3f5f\"}},\"ternary\":{\"aaxis\":{\"gridcolor\":\"white\",\"linecolor\":\"white\",\"ticks\":\"\"},\"baxis\":{\"gridcolor\":\"white\",\"linecolor\":\"white\",\"ticks\":\"\"},\"bgcolor\":\"#E5ECF6\",\"caxis\":{\"gridcolor\":\"white\",\"linecolor\":\"white\",\"ticks\":\"\"}},\"title\":{\"x\":0.05},\"xaxis\":{\"automargin\":true,\"gridcolor\":\"white\",\"linecolor\":\"white\",\"ticks\":\"\",\"title\":{\"standoff\":15},\"zerolinecolor\":\"white\",\"zerolinewidth\":2},\"yaxis\":{\"automargin\":true,\"gridcolor\":\"white\",\"linecolor\":\"white\",\"ticks\":\"\",\"title\":{\"standoff\":15},\"zerolinecolor\":\"white\",\"zerolinewidth\":2}}},\"xaxis\":{\"anchor\":\"y\",\"domain\":[0.0,1.0],\"title\":{\"text\":\"x\"}},\"yaxis\":{\"anchor\":\"x\",\"domain\":[0.0,1.0],\"title\":{\"text\":\"y\"},\"type\":\"log\"}},                        {\"responsive\": true}                    ).then(function(){\n",
       "                            \n",
       "var gd = document.getElementById('cdd0dc08-af24-477e-a5a0-ca83abec8369');\n",
       "var x = new MutationObserver(function (mutations, observer) {{\n",
       "        var display = window.getComputedStyle(gd).display;\n",
       "        if (!display || display === 'none') {{\n",
       "            console.log([gd, 'removed!']);\n",
       "            Plotly.purge(gd);\n",
       "            observer.disconnect();\n",
       "        }}\n",
       "}});\n",
       "\n",
       "// Listen for the removal of the full notebook cells\n",
       "var notebookContainer = gd.closest('#notebook-container');\n",
       "if (notebookContainer) {{\n",
       "    x.observe(notebookContainer, {childList: true});\n",
       "}}\n",
       "\n",
       "// Listen for the clearing of the current output cell\n",
       "var outputEl = gd.closest('.output');\n",
       "if (outputEl) {{\n",
       "    x.observe(outputEl, {childList: true});\n",
       "}}\n",
       "\n",
       "                        })                };                });            </script>        </div>"
      ]
     },
     "metadata": {},
     "output_type": "display_data"
    }
   ],
   "source": [
    "fig = px.line(pd.DataFrame({'x' :ren(lamList),'y':lamList}), x='x', y='y', log_y = True)\n",
    "fig.show()"
   ]
  }
 ],
 "metadata": {
  "kernelspec": {
   "display_name": "Python 3",
   "language": "python",
   "name": "python3"
  },
  "language_info": {
   "codemirror_mode": {
    "name": "ipython",
    "version": 3
   },
   "file_extension": ".py",
   "mimetype": "text/x-python",
   "name": "python",
   "nbconvert_exporter": "python",
   "pygments_lexer": "ipython3",
   "version": "3.8.6"
  }
 },
 "nbformat": 4,
 "nbformat_minor": 4
}
