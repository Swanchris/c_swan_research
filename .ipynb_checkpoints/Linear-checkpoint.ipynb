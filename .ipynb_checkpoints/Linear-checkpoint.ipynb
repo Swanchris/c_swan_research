{
 "cells": [
  {
   "cell_type": "code",
   "execution_count": 1,
   "metadata": {},
   "outputs": [],
   "source": [
    "import matplotlib.pyplot as plt\n",
    "import random\n",
    "import numpy as np\n",
    "import time"
   ]
  },
  {
   "cell_type": "markdown",
   "metadata": {},
   "source": [
    "Generate data based on a linear equation ($y = 2x + 5$) distorted with noise."
   ]
  },
  {
   "cell_type": "code",
   "execution_count": 2,
   "metadata": {
    "scrolled": true
   },
   "outputs": [
    {
     "data": {
      "text/plain": [
       "<function matplotlib.pyplot.show(close=None, block=None)>"
      ]
     },
     "execution_count": 2,
     "metadata": {},
     "output_type": "execute_result"
    },
    {
     "data": {
      "image/png": "[encoded data removed]",
      "text/plain": [
       "<Figure size 432x288 with 1 Axes>"
      ]
     },
     "metadata": {
      "needs_background": "light"
     },
     "output_type": "display_data"
    }
   ],
   "source": [
    "def lin():\n",
    "    \"\"\"\n",
    "    Where A is an array of inputs for 'x'\n",
    "    \"\"\"\n",
    "    li = [0]*100\n",
    "    Y = [0]*100\n",
    "    O = [0]*100\n",
    "    for i in range(100):\n",
    "        li[i] = random.random()*10\n",
    "        y = 2*li[i] + 5\n",
    "        Y[i] = y + np.random.normal(0,3) #adding noise\n",
    "        O[i] = [li[i],Y[i]]\n",
    "    return O\n",
    "\n",
    "A = lin()\n",
    "\n",
    "xVec = np.random.rand(2)*10\n",
    "temp = np.matmul(A,xVec)\n",
    "b = temp + np.random.normal(0,3,temp.shape)\n",
    "\n",
    "def f(X, a=A,B=b):\n",
    "    return 0.5*np.linalg.norm(np.matmul(a,X)-B)**2\n",
    "\n",
    "def f_grad(X,a=A, B=b):\n",
    "    return np.matmul(np.array(a).transpose(),(np.matmul(a,X)-B))\n",
    "\n",
    "def GD(x, lamb, gradient_function):\n",
    "    x1 = x - lamb*gradient_function(x)\n",
    "    return x1\n",
    "\n",
    "aaa = [0]*100\n",
    "bbb = [0]*100\n",
    "ccc = [0]*100\n",
    "for i in range(100):\n",
    "    aaa[i] = A[i][0]\n",
    "    bbb[i] = A[i][1]\n",
    "    ccc[i] = 2*A[i][0] + 5\n",
    "plt.scatter(aaa, bbb)\n",
    "plt.scatter(aaa, b, c = 'r')\n",
    "plt.scatter(xVec[0], xVec[1], c = 'g')\n",
    "plt.plot(aaa, ccc, 'y')\n",
    "plt.show"
   ]
  },
  {
   "cell_type": "markdown",
   "metadata": {},
   "source": [
    "## Nesterov Accelerated"
   ]
  },
  {
   "cell_type": "code",
   "execution_count": 11,
   "metadata": {},
   "outputs": [],
   "source": [
    "lam0 = 0\n",
    "lam1 = 0.5*(1 + np.sqrt( 1 + 4*lam0**2))\n",
    "lam2 = 0.5*(1 + np.sqrt( 1 + 4*lam1**2) )           \n",
    "gam1 = (1 * lam1)/lam2"
   ]
  },
  {
   "cell_type": "code",
   "execution_count": 12,
   "metadata": {
    "scrolled": true
   },
   "outputs": [
    {
     "data": {
      "text/plain": [
       "1.0"
      ]
     },
     "execution_count": 12,
     "metadata": {},
     "output_type": "execute_result"
    }
   ],
   "source": [
    "lam1"
   ]
  },
  {
   "cell_type": "code",
   "execution_count": 13,
   "metadata": {},
   "outputs": [
    {
     "data": {
      "text/plain": [
       "1.618033988749895"
      ]
     },
     "execution_count": 13,
     "metadata": {},
     "output_type": "execute_result"
    }
   ],
   "source": [
    "lam2"
   ]
  },
  {
   "cell_type": "markdown",
   "metadata": {},
   "source": [
    "## Barzilai-Borwein"
   ]
  },
  {
   "cell_type": "code",
   "execution_count": 57,
   "metadata": {},
   "outputs": [],
   "source": [
    "def Lam_func(x2, x1, f_grad):\n",
    "    return np.dot(x2 - x1, f_grad(x2) - f_grad(x1))/np.linalg.norm(f_grad(x2) - f_grad(x1))**2"
   ]
  },
  {
   "cell_type": "code",
   "execution_count": 97,
   "metadata": {},
   "outputs": [
    {
     "name": "stdout",
     "output_type": "stream",
     "text": [
      "----------------------\n"
     ]
    },
    {
     "data": {
      "image/png": "[encoded data removed]",
      "text/plain": [
       "<Figure size 432x288 with 1 Axes>"
      ]
     },
     "metadata": {
      "needs_background": "light"
     },
     "output_type": "display_data"
    },
    {
     "name": "stdout",
     "output_type": "stream",
     "text": [
      "[5.4088674  4.83268915]\n",
      "[-0.00010697 -0.00031364]\n",
      "Iterations: 7\n",
      "Time taken: 0.14020109176635742\n",
      "Lambda:  0.001953125\n"
     ]
    }
   ],
   "source": [
    "current = time.time()\n",
    "X =[]\n",
    "lam = random.random()\n",
    "# print('lambda initial: ',lam)\n",
    "Lambd = [lam]\n",
    "# theta = 100000\n",
    "# print('theta intial:', theta)\n",
    "x = xVec\n",
    "# print('x intial:', x)\n",
    "x1 = GD(x,lam,f_grad)\n",
    "# print('x1 intial:', x1)\n",
    "gr2 = []\n",
    "count =1\n",
    "while np.linalg.norm(f_grad(x1)) > 1e-6:\n",
    "    lam_prev = lam\n",
    "#     min1 = np.sqrt(1 + theta)*lam\n",
    "#     min2 = (np.linalg.norm(x1 - x))/(2*np.linalg.norm(f_grad(x1) - f_grad(x)))\n",
    "#     print('min1:', min1)\n",
    "#     print('min2:', min2)\n",
    "    lam = Lam_func(x1, x, f_grad)\n",
    "#     print('lambda: ',lam)\n",
    "    Lambd.append(lam)\n",
    "    temp = x1\n",
    "    x1 = GD(x1, lam, f_grad)\n",
    "#     print('x1:', x1)\n",
    "    x = temp\n",
    "#     print('x:', x)\n",
    "#     theta = (lam/lam_prev)\n",
    "#     print('theta:', theta)\n",
    "    count += 1\n",
    "    grad = np.linalg.norm(f_grad(x1))\n",
    "#     print('Gradient Norm:', grad)\n",
    "    gr2.append(grad)\n",
    "print('----------------------')\n",
    "plt.plot(range(len(gr2)), gr2, c='g')\n",
    "plt.title(label = 'Norm of Gradient')\n",
    "plt.show()\n",
    "print(x)\n",
    "print(f_grad(x))\n",
    "print('Iterations:', count)\n",
    "print('Time taken:', time.time() - current)\n",
    "print('Lambda: ', lamb)"
   ]
  },
  {
   "cell_type": "markdown",
   "metadata": {},
   "source": [
    "\\begin{align}\n",
    "\\text{min } \\mathbf{x}: \\\\\n",
    "f(\\mathbf{x}) &= \\frac{1}{2} \\|A \\mathbf{x} - b \\|^2\\\\\n",
    "\\nabla f(\\mathbf{\\mathbf{x}}) &= A^T(A \\mathbf{x} -b)\\\\\n",
    "{\\mathbf{x}}_{k+1} &= \\mathbf{x}_k - \\lambda_k \\nabla f(\\mathbf{x}_k)\n",
    "\\end{align}\n"
   ]
  },
  {
   "cell_type": "markdown",
   "metadata": {},
   "source": [
    "## Backtracking Line Search"
   ]
  },
  {
   "cell_type": "code",
   "execution_count": 94,
   "metadata": {},
   "outputs": [],
   "source": [
    "def Line(x,f,f_grad):\n",
    "    alph_prime = 1\n",
    "    rho = 0.5\n",
    "    c = 0.1\n",
    "    alph = alph_prime\n",
    "    while f(x - alph*f_grad(x)) > f(x) - c*alph*np.linalg.norm(f_grad(x))**2:\n",
    "#         print('LHS: ', f(x - alph*f_grad(x)))\n",
    "#         print('RHS: ', f(x) - c*alph*np.linalg.norm(f_grad(x))**2)\n",
    "        ### is norm the right move here?\n",
    "        alph = rho*alph\n",
    "#         print('Alpha:', alph)\n",
    "    return alph"
   ]
  },
  {
   "cell_type": "code",
   "execution_count": 103,
   "metadata": {},
   "outputs": [
    {
     "ename": "KeyboardInterrupt",
     "evalue": "",
     "output_type": "error",
     "traceback": [
      "\u001b[1;31m---------------------------------------------------------------------------\u001b[0m",
      "\u001b[1;31mKeyboardInterrupt\u001b[0m                         Traceback (most recent call last)",
      "\u001b[1;32m<ipython-input-103-322c0dc0a124>\u001b[0m in \u001b[0;36m<module>\u001b[1;34m\u001b[0m\n\u001b[0;32m     13\u001b[0m     \u001b[0mgr\u001b[0m\u001b[1;33m.\u001b[0m\u001b[0mappend\u001b[0m\u001b[1;33m(\u001b[0m\u001b[0mnp\u001b[0m\u001b[1;33m.\u001b[0m\u001b[0mlinalg\u001b[0m\u001b[1;33m.\u001b[0m\u001b[0mnorm\u001b[0m\u001b[1;33m(\u001b[0m\u001b[0mf_grad\u001b[0m\u001b[1;33m(\u001b[0m\u001b[0mx\u001b[0m\u001b[1;33m)\u001b[0m\u001b[1;33m)\u001b[0m\u001b[1;33m)\u001b[0m\u001b[1;33m\u001b[0m\u001b[1;33m\u001b[0m\u001b[0m\n\u001b[0;32m     14\u001b[0m     \u001b[0mcount\u001b[0m \u001b[1;33m+=\u001b[0m \u001b[1;36m1\u001b[0m\u001b[1;33m\u001b[0m\u001b[1;33m\u001b[0m\u001b[0m\n\u001b[1;32m---> 15\u001b[1;33m     \u001b[0mlamb\u001b[0m \u001b[1;33m=\u001b[0m \u001b[0mLine\u001b[0m\u001b[1;33m(\u001b[0m\u001b[0mx\u001b[0m\u001b[1;33m,\u001b[0m\u001b[0mf\u001b[0m\u001b[1;33m,\u001b[0m\u001b[0mf_grad\u001b[0m\u001b[1;33m)\u001b[0m\u001b[1;33m\u001b[0m\u001b[1;33m\u001b[0m\u001b[0m\n\u001b[0m\u001b[0;32m     16\u001b[0m \u001b[1;31m#     print('x= ', x)\u001b[0m\u001b[1;33m\u001b[0m\u001b[1;33m\u001b[0m\u001b[1;33m\u001b[0m\u001b[0m\n\u001b[0;32m     17\u001b[0m \u001b[1;31m#     print('lambda', lamb)\u001b[0m\u001b[1;33m\u001b[0m\u001b[1;33m\u001b[0m\u001b[1;33m\u001b[0m\u001b[0m\n",
      "\u001b[1;32m<ipython-input-94-32e3eb71a7db>\u001b[0m in \u001b[0;36mLine\u001b[1;34m(x, f, f_grad)\u001b[0m\n\u001b[0;32m      4\u001b[0m     \u001b[0mc\u001b[0m \u001b[1;33m=\u001b[0m \u001b[1;36m0.1\u001b[0m\u001b[1;33m\u001b[0m\u001b[1;33m\u001b[0m\u001b[0m\n\u001b[0;32m      5\u001b[0m     \u001b[0malph\u001b[0m \u001b[1;33m=\u001b[0m \u001b[0malph_prime\u001b[0m\u001b[1;33m\u001b[0m\u001b[1;33m\u001b[0m\u001b[0m\n\u001b[1;32m----> 6\u001b[1;33m     \u001b[1;32mwhile\u001b[0m \u001b[0mf\u001b[0m\u001b[1;33m(\u001b[0m\u001b[0mx\u001b[0m \u001b[1;33m-\u001b[0m \u001b[0malph\u001b[0m\u001b[1;33m*\u001b[0m\u001b[0mf_grad\u001b[0m\u001b[1;33m(\u001b[0m\u001b[0mx\u001b[0m\u001b[1;33m)\u001b[0m\u001b[1;33m)\u001b[0m \u001b[1;33m>\u001b[0m \u001b[0mf\u001b[0m\u001b[1;33m(\u001b[0m\u001b[0mx\u001b[0m\u001b[1;33m)\u001b[0m \u001b[1;33m-\u001b[0m \u001b[0mc\u001b[0m\u001b[1;33m*\u001b[0m\u001b[0malph\u001b[0m\u001b[1;33m*\u001b[0m\u001b[0mnp\u001b[0m\u001b[1;33m.\u001b[0m\u001b[0mlinalg\u001b[0m\u001b[1;33m.\u001b[0m\u001b[0mnorm\u001b[0m\u001b[1;33m(\u001b[0m\u001b[0mf_grad\u001b[0m\u001b[1;33m(\u001b[0m\u001b[0mx\u001b[0m\u001b[1;33m)\u001b[0m\u001b[1;33m)\u001b[0m\u001b[1;33m**\u001b[0m\u001b[1;36m2\u001b[0m\u001b[1;33m:\u001b[0m\u001b[1;33m\u001b[0m\u001b[1;33m\u001b[0m\u001b[0m\n\u001b[0m\u001b[0;32m      7\u001b[0m \u001b[1;31m#         print('LHS: ', f(x - alph*f_grad(x)))\u001b[0m\u001b[1;33m\u001b[0m\u001b[1;33m\u001b[0m\u001b[1;33m\u001b[0m\u001b[0m\n\u001b[0;32m      8\u001b[0m \u001b[1;31m#         print('RHS: ', f(x) - c*alph*np.linalg.norm(f_grad(x))**2)\u001b[0m\u001b[1;33m\u001b[0m\u001b[1;33m\u001b[0m\u001b[1;33m\u001b[0m\u001b[0m\n",
      "\u001b[1;32m<ipython-input-89-6ce23ca435e8>\u001b[0m in \u001b[0;36mf\u001b[1;34m(X, a, B)\u001b[0m\n\u001b[0;32m     20\u001b[0m \u001b[1;33m\u001b[0m\u001b[0m\n\u001b[0;32m     21\u001b[0m \u001b[1;32mdef\u001b[0m \u001b[0mf\u001b[0m\u001b[1;33m(\u001b[0m\u001b[0mX\u001b[0m\u001b[1;33m,\u001b[0m \u001b[0ma\u001b[0m\u001b[1;33m=\u001b[0m\u001b[0mA\u001b[0m\u001b[1;33m,\u001b[0m\u001b[0mB\u001b[0m\u001b[1;33m=\u001b[0m\u001b[0mb\u001b[0m\u001b[1;33m)\u001b[0m\u001b[1;33m:\u001b[0m\u001b[1;33m\u001b[0m\u001b[1;33m\u001b[0m\u001b[0m\n\u001b[1;32m---> 22\u001b[1;33m     \u001b[1;32mreturn\u001b[0m \u001b[1;36m0.5\u001b[0m\u001b[1;33m*\u001b[0m\u001b[0mnp\u001b[0m\u001b[1;33m.\u001b[0m\u001b[0mlinalg\u001b[0m\u001b[1;33m.\u001b[0m\u001b[0mnorm\u001b[0m\u001b[1;33m(\u001b[0m\u001b[0mnp\u001b[0m\u001b[1;33m.\u001b[0m\u001b[0mmatmul\u001b[0m\u001b[1;33m(\u001b[0m\u001b[0ma\u001b[0m\u001b[1;33m,\u001b[0m\u001b[0mX\u001b[0m\u001b[1;33m)\u001b[0m\u001b[1;33m-\u001b[0m\u001b[0mB\u001b[0m\u001b[1;33m)\u001b[0m\u001b[1;33m**\u001b[0m\u001b[1;36m2\u001b[0m\u001b[1;33m\u001b[0m\u001b[1;33m\u001b[0m\u001b[0m\n\u001b[0m\u001b[0;32m     23\u001b[0m \u001b[1;33m\u001b[0m\u001b[0m\n\u001b[0;32m     24\u001b[0m \u001b[1;32mdef\u001b[0m \u001b[0mf_grad\u001b[0m\u001b[1;33m(\u001b[0m\u001b[0mX\u001b[0m\u001b[1;33m,\u001b[0m\u001b[0ma\u001b[0m\u001b[1;33m=\u001b[0m\u001b[0mA\u001b[0m\u001b[1;33m,\u001b[0m \u001b[0mB\u001b[0m\u001b[1;33m=\u001b[0m\u001b[0mb\u001b[0m\u001b[1;33m)\u001b[0m\u001b[1;33m:\u001b[0m\u001b[1;33m\u001b[0m\u001b[1;33m\u001b[0m\u001b[0m\n",
      "\u001b[1;32m<__array_function__ internals>\u001b[0m in \u001b[0;36mnorm\u001b[1;34m(*args, **kwargs)\u001b[0m\n",
      "\u001b[1;32md:\\school\\mast of sci\\research\\research-env\\lib\\site-packages\\numpy\\linalg\\linalg.py\u001b[0m in \u001b[0;36mnorm\u001b[1;34m(x, ord, axis, keepdims)\u001b[0m\n\u001b[0;32m   2528\u001b[0m                 \u001b[0msqnorm\u001b[0m \u001b[1;33m=\u001b[0m \u001b[0mdot\u001b[0m\u001b[1;33m(\u001b[0m\u001b[0mx\u001b[0m\u001b[1;33m.\u001b[0m\u001b[0mreal\u001b[0m\u001b[1;33m,\u001b[0m \u001b[0mx\u001b[0m\u001b[1;33m.\u001b[0m\u001b[0mreal\u001b[0m\u001b[1;33m)\u001b[0m \u001b[1;33m+\u001b[0m \u001b[0mdot\u001b[0m\u001b[1;33m(\u001b[0m\u001b[0mx\u001b[0m\u001b[1;33m.\u001b[0m\u001b[0mimag\u001b[0m\u001b[1;33m,\u001b[0m \u001b[0mx\u001b[0m\u001b[1;33m.\u001b[0m\u001b[0mimag\u001b[0m\u001b[1;33m)\u001b[0m\u001b[1;33m\u001b[0m\u001b[1;33m\u001b[0m\u001b[0m\n\u001b[0;32m   2529\u001b[0m             \u001b[1;32melse\u001b[0m\u001b[1;33m:\u001b[0m\u001b[1;33m\u001b[0m\u001b[1;33m\u001b[0m\u001b[0m\n\u001b[1;32m-> 2530\u001b[1;33m                 \u001b[0msqnorm\u001b[0m \u001b[1;33m=\u001b[0m \u001b[0mdot\u001b[0m\u001b[1;33m(\u001b[0m\u001b[0mx\u001b[0m\u001b[1;33m,\u001b[0m \u001b[0mx\u001b[0m\u001b[1;33m)\u001b[0m\u001b[1;33m\u001b[0m\u001b[1;33m\u001b[0m\u001b[0m\n\u001b[0m\u001b[0;32m   2531\u001b[0m             \u001b[0mret\u001b[0m \u001b[1;33m=\u001b[0m \u001b[0msqrt\u001b[0m\u001b[1;33m(\u001b[0m\u001b[0msqnorm\u001b[0m\u001b[1;33m)\u001b[0m\u001b[1;33m\u001b[0m\u001b[1;33m\u001b[0m\u001b[0m\n\u001b[0;32m   2532\u001b[0m             \u001b[1;32mif\u001b[0m \u001b[0mkeepdims\u001b[0m\u001b[1;33m:\u001b[0m\u001b[1;33m\u001b[0m\u001b[1;33m\u001b[0m\u001b[0m\n",
      "\u001b[1;32m<__array_function__ internals>\u001b[0m in \u001b[0;36mdot\u001b[1;34m(*args, **kwargs)\u001b[0m\n",
      "\u001b[1;31mKeyboardInterrupt\u001b[0m: "
     ]
    }
   ],
   "source": [
    "\n",
    "current = time.time()\n",
    "X = []\n",
    "# L = np.max(np.linalg.svd(np.matmul(A,np.array(A).transpose()))[1])\n",
    "# lamb = 1/L\n",
    "x = xVec\n",
    "lamb = Line(x,f,f_grad)\n",
    "gr = []\n",
    "count = 1\n",
    "while np.linalg.norm(f_grad(x)) > 1e-6:\n",
    "    x1 = GD(x,lamb,f_grad)\n",
    "    x = x1\n",
    "    X.append(f(x))\n",
    "    gr.append(np.linalg.norm(f_grad(x)))\n",
    "    count += 1\n",
    "    lamb = Line(x,f,f_grad)\n",
    "#     print('x= ', x)\n",
    "#     print('lambda', lamb)\n",
    "print('----------------------')\n",
    "plt.plot(range(10), gr2[:10], c='g')\n",
    "plt.title(label = 'Norm of Gradient: [0,10]')\n",
    "plt.show()\n",
    "plt.plot(range(11,50), gr2[11:50], c='g')\n",
    "plt.title(label = 'Norm of Gradient: [11,50]')\n",
    "plt.show()\n",
    "plt.plot(range(51,100), gr2[51:100], c='g')\n",
    "plt.title(label = 'Norm of Gradient: [51,100]')\n",
    "plt.show()\n",
    "plt.plot(range(101,len(gr2)), gr2[101:len(gr2)], c='g')\n",
    "plt.title(label = 'Norm of Gradient: [101,600]')\n",
    "plt.show()\n",
    "print('X:', x)\n",
    "print('Gradient:', f_grad(x))\n",
    "print('Iterations:', count)\n",
    "print('Time taken:', time.time() - current)\n",
    "print('Lambda: ', lamb)"
   ]
  },
  {
   "cell_type": "markdown",
   "metadata": {},
   "source": [
    "### Vanilla Gradient Descent"
   ]
  },
  {
   "cell_type": "code",
   "execution_count": 99,
   "metadata": {
    "scrolled": true
   },
   "outputs": [
    {
     "name": "stdout",
     "output_type": "stream",
     "text": [
      "----------------------\n"
     ]
    },
    {
     "data": {
      "image/png": "[encoded data removed]",
      "text/plain": [
       "<Figure size 432x288 with 1 Axes>"
      ]
     },
     "metadata": {
      "needs_background": "light"
     },
     "output_type": "display_data"
    },
    {
     "name": "stdout",
     "output_type": "stream",
     "text": [
      "X: [5.40886741 4.83268916]\n",
      "Gradient: [ 9.45146322e-07 -3.22357984e-07]\n",
      "Iterations: 3112\n",
      "Time taken: 2.4273183345794678\n",
      "Lambda:  3.0702222272352486e-05\n"
     ]
    }
   ],
   "source": [
    "current = time.time()\n",
    "X = []\n",
    "L = np.max(np.linalg.svd(np.matmul(A,np.array(A).transpose()))[1])\n",
    "lamb = 1/L\n",
    "x = xVec\n",
    "gr = []\n",
    "count = 1\n",
    "while np.linalg.norm(f_grad(x)) > 1e-6:\n",
    "    x1 = GD(x,lamb,f_grad)\n",
    "    x = x1\n",
    "    X.append(f(x))\n",
    "    gr.append(np.linalg.norm(f_grad(x)))\n",
    "    count += 1\n",
    "print('----------------------')\n",
    "plt.plot(range(len(gr)), gr, c='g')\n",
    "plt.title(label = 'Norm of Gradient')\n",
    "plt.show()\n",
    "print('X:', x)\n",
    "print('Gradient:', f_grad(x))\n",
    "print('Iterations:', count)\n",
    "print('Time taken:', time.time() - current)\n",
    "print('Lambda: ', lamb)"
   ]
  },
  {
   "cell_type": "markdown",
   "metadata": {},
   "source": [
    "Adaptive Gradient Descent"
   ]
  },
  {
   "cell_type": "code",
   "execution_count": 100,
   "metadata": {},
   "outputs": [
    {
     "name": "stdout",
     "output_type": "stream",
     "text": [
      "----------------------\n"
     ]
    },
    {
     "data": {
      "image/png": "[encoded data removed]",
      "text/plain": [
       "<Figure size 432x288 with 1 Axes>"
      ]
     },
     "metadata": {
      "needs_background": "light"
     },
     "output_type": "display_data"
    },
    {
     "data": {
      "image/png": "[encoded data removed]",
      "text/plain": [
       "<Figure size 432x288 with 1 Axes>"
      ]
     },
     "metadata": {
      "needs_background": "light"
     },
     "output_type": "display_data"
    },
    {
     "data": {
      "image/png": "[encoded data removed]",
      "text/plain": [
       "<Figure size 432x288 with 1 Axes>"
      ]
     },
     "metadata": {
      "needs_background": "light"
     },
     "output_type": "display_data"
    },
    {
     "data": {
      "image/png": "[encoded data removed]",
      "text/plain": [
       "<Figure size 432x288 with 1 Axes>"
      ]
     },
     "metadata": {
      "needs_background": "light"
     },
     "output_type": "display_data"
    },
    {
     "data": {
      "image/png": "[encoded data removed]",
      "text/plain": [
       "<Figure size 432x288 with 1 Axes>"
      ]
     },
     "metadata": {
      "needs_background": "light"
     },
     "output_type": "display_data"
    },
    {
     "name": "stdout",
     "output_type": "stream",
     "text": [
      "x value [5.4088674  4.83268916]\n",
      "Gradient [-9.39085691e-07  3.28593963e-07]\n",
      "Iterations: 1172\n",
      "Time taken: 2.0348708629608154\n",
      "Lambda:  [0.05901447154432504, 1.535264589699797e-05, 1.5351111168974646e-05, 2.316722190195769e-05, 9.4556169538747e-05, 0.0001163983036789627, 2.852003642953125e-05, 1.8329873781584407e-05, 0.00018819252026508056, 4.493796745674464e-05, 1.605006914503182e-05, 0.00030442825345794065]\n"
     ]
    }
   ],
   "source": [
    "current = time.time()\n",
    "X =[]\n",
    "lam = random.random()\n",
    "# print('lambda initial: ',lam)\n",
    "Lambd = [lam]\n",
    "theta = 100000\n",
    "# print('theta intial:', theta)\n",
    "x = xVec\n",
    "# print('x intial:', x)\n",
    "x1 = GD(x,lam,f_grad)\n",
    "# print('x1 intial:', x1)\n",
    "gr2 = []\n",
    "count =1\n",
    "while np.linalg.norm(f_grad(x1)) > 1e-6:\n",
    "    lam_prev = lam\n",
    "    min1 = np.sqrt(1 + theta)*lam\n",
    "    min2 = (np.linalg.norm(x1 - x))/(2*np.linalg.norm(f_grad(x1) - f_grad(x)))\n",
    "#     print('min1:', min1)\n",
    "#     print('min2:', min2)\n",
    "    lam = np.min([min1, min2])\n",
    "#     print('lambda: ',lam)\n",
    "    Lambd.append(lam)\n",
    "    temp = x1\n",
    "    x1 = GD(x1, lam, f_grad)\n",
    "#     print('x1:', x1)\n",
    "    x = temp\n",
    "#     print('x:', x)\n",
    "    theta = (lam/lam_prev)\n",
    "#     print('theta:', theta)\n",
    "    count += 1\n",
    "    grad = np.linalg.norm(f_grad(x1))\n",
    "#     print('Gradient Norm:', grad)\n",
    "    gr2.append(grad)\n",
    "print('----------------------')\n",
    "plt.plot(range(10), gr2[:10], c='g')\n",
    "plt.title(label = 'Norm of Gradient: [0,10]')\n",
    "plt.show()\n",
    "plt.plot(range(11,50), gr2[11:50], c='g')\n",
    "plt.title(label = 'Norm of Gradient: [11,50]')\n",
    "plt.show()\n",
    "plt.plot(range(51,100), gr2[51:100], c='g')\n",
    "plt.title(label = 'Norm of Gradient: [51,100]')\n",
    "plt.show()\n",
    "plt.plot(range(101,600), gr2[101:600], c='g')\n",
    "plt.title(label = 'Norm of Gradient: [101,600]')\n",
    "plt.show()\n",
    "plt.plot(range(601,len(gr2)), gr2[601:], c='g')\n",
    "plt.title(label = 'Norm of Gradient: [601, end]')\n",
    "plt.show()\n",
    "\n",
    "print('x value', x1)\n",
    "print('Gradient', f_grad(x1))\n",
    "print('Iterations:', count)\n",
    "print('Time taken:', time.time() - current)\n",
    "La = [Lambd[0], Lambd[1]]\n",
    "for i in range(2,len(Lambd), int(np.floor(len(Lambd)/10))):\n",
    "    La.append(Lambd[i])\n",
    "print('Lambda: ', La)"
   ]
  },
  {
   "cell_type": "markdown",
   "metadata": {},
   "source": [
    "Generating data"
   ]
  },
  {
   "cell_type": "code",
   "execution_count": null,
   "metadata": {},
   "outputs": [],
   "source": [
    "k = 5\n",
    "for i in range(100):\n",
    "    globals()['x'+str(i)] = k\n",
    "    k = k*2"
   ]
  },
  {
   "cell_type": "code",
   "execution_count": null,
   "metadata": {},
   "outputs": [],
   "source": [
    "for i in range(10):\n",
    "    globals()['X'+str(i)] = [0]*10\n",
    "for j in range(10):\n",
    "    globals()['X'+str(0)][j] = (random.random()+1e-12)*10\n",
    "    y = 2*globals()['X'+str(0)][j] + 5\n",
    "    noiz = 3\n",
    "    for k in range(10):\n",
    "        globals()['X'+str(k)][j] = y + np.random.normal(0,noiz)\n",
    "        noiz += 3\n",
    "A = [globals()['X'+str(i)] for i in range(10)]"
   ]
  },
  {
   "cell_type": "code",
   "execution_count": null,
   "metadata": {},
   "outputs": [],
   "source": [
    "def linFunc(x):\n",
    "    return 2*x + 5"
   ]
  },
  {
   "cell_type": "code",
   "execution_count": null,
   "metadata": {},
   "outputs": [],
   "source": [
    "def generate(function, dim, vec_len, scale):\n",
    "    \"\"\"\n",
    "    Where A is an array of inputs for 'x'\n",
    "    \"\"\"\n",
    "    for i in range(dim):\n",
    "        globals()['X'+str(i)] = [0]*vec_len\n",
    "    for j in range(vec_len):\n",
    "        globals()['X'+str(0)][j] = (random.random()+1e-12)*scale\n",
    "        y = function(globals()['X'+str(0)][j])\n",
    "        noiz = 3\n",
    "        for k in range(dim):\n",
    "            globals()['X'+str(k)][j] = y + np.random.normal(0,noiz)\n",
    "            noiz += 3\n",
    "    A = [globals()['X'+str(i)] for i in range(dim)]\n",
    "    return(A)"
   ]
  },
  {
   "cell_type": "code",
   "execution_count": null,
   "metadata": {},
   "outputs": [],
   "source": []
  },
  {
   "cell_type": "code",
   "execution_count": null,
   "metadata": {},
   "outputs": [],
   "source": []
  },
  {
   "cell_type": "code",
   "execution_count": null,
   "metadata": {},
   "outputs": [],
   "source": []
  },
  {
   "cell_type": "code",
   "execution_count": null,
   "metadata": {},
   "outputs": [],
   "source": []
  },
  {
   "cell_type": "code",
   "execution_count": null,
   "metadata": {},
   "outputs": [],
   "source": []
  },
  {
   "cell_type": "code",
   "execution_count": null,
   "metadata": {},
   "outputs": [],
   "source": []
  },
  {
   "cell_type": "code",
   "execution_count": null,
   "metadata": {},
   "outputs": [],
   "source": []
  },
  {
   "cell_type": "code",
   "execution_count": null,
   "metadata": {},
   "outputs": [],
   "source": []
  }
 ],
 "metadata": {
  "kernelspec": {
   "display_name": "Python 3",
   "language": "python",
   "name": "python3"
  },
  "language_info": {
   "codemirror_mode": {
    "name": "ipython",
    "version": 3
   },
   "file_extension": ".py",
   "mimetype": "text/x-python",
   "name": "python",
   "nbconvert_exporter": "python",
   "pygments_lexer": "ipython3",
   "version": "3.8.6"
  }
 },
 "nbformat": 4,
 "nbformat_minor": 4
}
