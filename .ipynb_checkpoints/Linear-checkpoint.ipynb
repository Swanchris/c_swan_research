{
 "cells": [
  {
   "cell_type": "code",
   "execution_count": 1,
   "metadata": {},
   "outputs": [],
   "source": [
    "import matplotlib.pyplot as plt\n",
    "import random\n",
    "import numpy as np\n",
    "import time"
   ]
  },
  {
   "cell_type": "markdown",
   "metadata": {},
   "source": [
    "Generate data based on a linear equation ($y = 2x + 5$) distorted with noise."
   ]
  },
  {
   "cell_type": "code",
   "execution_count": 2,
   "metadata": {
    "scrolled": true
   },
   "outputs": [
    {
     "data": {
      "text/plain": [
       "<function matplotlib.pyplot.show(close=None, block=None)>"
      ]
     },
     "execution_count": 2,
     "metadata": {},
     "output_type": "execute_result"
    },
    {
     "data": {
      "image/png": "[encoded data removed]",
      "text/plain": [
       "<Figure size 432x288 with 1 Axes>"
      ]
     },
     "metadata": {
      "needs_background": "light"
     },
     "output_type": "display_data"
    }
   ],
   "source": [
    "def lin():\n",
    "    \"\"\"\n",
    "    Where A is an array of inputs for 'x'\n",
    "    \"\"\"\n",
    "    li = [0]*100\n",
    "    Y = [0]*100\n",
    "    O = [0]*100\n",
    "    for i in range(100):\n",
    "        li[i] = random.random()*10\n",
    "        y = 2*li[i] + 5\n",
    "        Y[i] = y + np.random.normal(0,3) #adding noise\n",
    "        O[i] = [li[i],Y[i]]\n",
    "    return O\n",
    "\n",
    "A = lin()\n",
    "\n",
    "xVec = np.random.rand(2)*10\n",
    "temp = np.matmul(A,xVec)\n",
    "b = temp + np.random.normal(0,3,temp.shape)\n",
    "\n",
    "def f(X, a=A,B=b):\n",
    "    return 0.5*np.linalg.norm(np.matmul(a,X)-B)**2\n",
    "\n",
    "def f_grad(X,a=A, B=b):\n",
    "    return np.matmul(np.array(a).transpose(),(np.matmul(a,X)-B))\n",
    "\n",
    "def GD(x, lamb, gradient_function):\n",
    "    x1 = x - lamb*gradient_function(x)\n",
    "    return x1\n",
    "\n",
    "aaa = [0]*100\n",
    "bbb = [0]*100\n",
    "ccc = [0]*100\n",
    "for i in range(100):\n",
    "    aaa[i] = A[i][0]\n",
    "    bbb[i] = A[i][1]\n",
    "    ccc[i] = 2*A[i][0] + 5\n",
    "plt.scatter(aaa, bbb, label = 'A')\n",
    "plt.scatter(aaa, b, c = 'r', label = 'b')\n",
    "plt.scatter(xVec[0], xVec[1], c = 'g', label = 'x')\n",
    "plt.plot(aaa, ccc, 'y')\n",
    "plt.legend(loc = 'best')\n",
    "plt.show"
   ]
  },
  {
   "cell_type": "code",
   "execution_count": 3,
   "metadata": {},
   "outputs": [
    {
     "data": {
      "text/plain": [
       "array([9.6626223 , 3.93748348])"
      ]
     },
     "execution_count": 3,
     "metadata": {},
     "output_type": "execute_result"
    }
   ],
   "source": [
    "xVec"
   ]
  },
  {
   "cell_type": "code",
   "execution_count": 4,
   "metadata": {},
   "outputs": [
    {
     "data": {
      "text/plain": [
       "array([ 4296.04675201, 12464.60880398])"
      ]
     },
     "execution_count": 4,
     "metadata": {},
     "output_type": "execute_result"
    }
   ],
   "source": [
    "f_grad(xVec+random.random())"
   ]
  },
  {
   "cell_type": "code",
   "execution_count": 5,
   "metadata": {},
   "outputs": [
    {
     "data": {
      "text/plain": [
       "6556.18567721217"
      ]
     },
     "execution_count": 5,
     "metadata": {},
     "output_type": "execute_result"
    }
   ],
   "source": [
    "f(xVec + random.random())"
   ]
  },
  {
   "cell_type": "markdown",
   "metadata": {},
   "source": [
    "## Nesterov Accelerated"
   ]
  },
  {
   "cell_type": "code",
   "execution_count": 27,
   "metadata": {},
   "outputs": [
    {
     "data": {
      "text/plain": [
       "array([9.6626223 , 3.93748348])"
      ]
     },
     "execution_count": 27,
     "metadata": {},
     "output_type": "execute_result"
    }
   ],
   "source": [
    "xVec"
   ]
  },
  {
   "cell_type": "code",
   "execution_count": 8,
   "metadata": {},
   "outputs": [],
   "source": [
    "a = np.array(A)"
   ]
  },
  {
   "cell_type": "code",
   "execution_count": 15,
   "metadata": {},
   "outputs": [],
   "source": [
    "L = np.max(np.linalg.svd( a@a.T )[1] )"
   ]
  },
  {
   "cell_type": "code",
   "execution_count": 16,
   "metadata": {},
   "outputs": [],
   "source": [
    "y1 = xVec - (1/L) * f_grad(xVec)"
   ]
  },
  {
   "cell_type": "code",
   "execution_count": 17,
   "metadata": {},
   "outputs": [
    {
     "data": {
      "text/plain": [
       "array([9.6682339 , 3.94823238])"
      ]
     },
     "execution_count": 17,
     "metadata": {},
     "output_type": "execute_result"
    }
   ],
   "source": [
    "y1"
   ]
  },
  {
   "cell_type": "code",
   "execution_count": 19,
   "metadata": {},
   "outputs": [],
   "source": [
    "x1 = GD(xVec, random.random(), f_grad )"
   ]
  },
  {
   "cell_type": "code",
   "execution_count": 20,
   "metadata": {},
   "outputs": [
    {
     "data": {
      "text/plain": [
       "array([51.70917594, 84.47668371])"
      ]
     },
     "execution_count": 20,
     "metadata": {},
     "output_type": "execute_result"
    }
   ],
   "source": [
    "x1"
   ]
  },
  {
   "cell_type": "markdown",
   "metadata": {},
   "source": [
    "My fractured interpretation at estimating $\\mu$:\n",
    "$$ \\mu \\leq \\frac{ \\langle \\nabla f_{x_k} - \\nabla f_{x_{k-1}} , x_k - x_{k-1} \\rangle } { \\| x_k - x_{k-1} \\|^2 } $$\n",
    "\n",
    "Nesterov pg 63"
   ]
  },
  {
   "cell_type": "code",
   "execution_count": 21,
   "metadata": {},
   "outputs": [],
   "source": [
    "mu_nom = np.dot(f_grad(x1) - f_grad(xVec), x1 - xVec)\n",
    "mu_dom = np.linalg.norm(x1 - xVec)**2\n",
    "mu = mu_nom/mu_dom"
   ]
  },
  {
   "cell_type": "code",
   "execution_count": 22,
   "metadata": {},
   "outputs": [
    {
     "data": {
      "text/plain": [
       "29872.531052520502"
      ]
     },
     "execution_count": 22,
     "metadata": {},
     "output_type": "execute_result"
    }
   ],
   "source": [
    "mu"
   ]
  },
  {
   "cell_type": "code",
   "execution_count": 23,
   "metadata": {},
   "outputs": [
    {
     "data": {
      "text/plain": [
       "0.005444766629921423"
      ]
     },
     "execution_count": 23,
     "metadata": {},
     "output_type": "execute_result"
    }
   ],
   "source": [
    "beta_nom = np.sqrt(L) - np.sqrt(mu)\n",
    "beta_dom = np.sqrt(L) + np.sqrt(mu)\n",
    "beta = beta_nom/beta_dom\n",
    "beta"
   ]
  },
  {
   "cell_type": "code",
   "execution_count": 24,
   "metadata": {},
   "outputs": [],
   "source": [
    "y2 = x1 - (1/L)* f_grad(x1)"
   ]
  },
  {
   "cell_type": "code",
   "execution_count": 25,
   "metadata": {},
   "outputs": [],
   "source": [
    "x2 = y2 + beta*(y2 - y1)"
   ]
  },
  {
   "cell_type": "code",
   "execution_count": 26,
   "metadata": {},
   "outputs": [
    {
     "data": {
      "text/plain": [
       "array([22.30472013, -0.4287599 ])"
      ]
     },
     "execution_count": 26,
     "metadata": {},
     "output_type": "execute_result"
    }
   ],
   "source": [
    "x2"
   ]
  },
  {
   "cell_type": "code",
   "execution_count": null,
   "metadata": {},
   "outputs": [],
   "source": []
  },
  {
   "cell_type": "code",
   "execution_count": null,
   "metadata": {},
   "outputs": [],
   "source": []
  },
  {
   "cell_type": "code",
   "execution_count": null,
   "metadata": {},
   "outputs": [],
   "source": []
  },
  {
   "cell_type": "code",
   "execution_count": null,
   "metadata": {},
   "outputs": [],
   "source": []
  },
  {
   "cell_type": "code",
   "execution_count": null,
   "metadata": {},
   "outputs": [],
   "source": []
  },
  {
   "cell_type": "code",
   "execution_count": 7,
   "metadata": {},
   "outputs": [],
   "source": [
    "lam0 = 0\n",
    "lam1 = 0.5*(1 + np.sqrt( 1 + 4*lam0**2))\n",
    "lam2 = 0.5*(1 + np.sqrt( 1 + 4*lam1**2) )           \n",
    "gam1 = (1 * lam1)/lam2"
   ]
  },
  {
   "cell_type": "code",
   "execution_count": 10,
   "metadata": {
    "scrolled": true
   },
   "outputs": [
    {
     "data": {
      "text/plain": [
       "0.6180339887498948"
      ]
     },
     "execution_count": 10,
     "metadata": {},
     "output_type": "execute_result"
    }
   ],
   "source": [
    "gam1"
   ]
  },
  {
   "cell_type": "code",
   "execution_count": 9,
   "metadata": {},
   "outputs": [
    {
     "data": {
      "text/plain": [
       "1.618033988749895"
      ]
     },
     "execution_count": 9,
     "metadata": {},
     "output_type": "execute_result"
    }
   ],
   "source": [
    "lam2"
   ]
  },
  {
   "cell_type": "markdown",
   "metadata": {},
   "source": [
    "## Barzilai-Borwein"
   ]
  },
  {
   "cell_type": "code",
   "execution_count": 11,
   "metadata": {},
   "outputs": [],
   "source": [
    "def Lam_func(x2, x1, f_grad):\n",
    "    return np.dot(x2 - x1, f_grad(x2) - f_grad(x1))/np.linalg.norm(f_grad(x2) - f_grad(x1))**2"
   ]
  },
  {
   "cell_type": "code",
   "execution_count": 13,
   "metadata": {},
   "outputs": [
    {
     "name": "stdout",
     "output_type": "stream",
     "text": [
      "----------------------\n"
     ]
    },
    {
     "data": {
      "image/png": "[encoded data removed]",
      "text/plain": [
       "<Figure size 432x288 with 1 Axes>"
      ]
     },
     "metadata": {
      "needs_background": "light"
     },
     "output_type": "display_data"
    },
    {
     "name": "stdout",
     "output_type": "stream",
     "text": [
      "[6.40333338 0.78616679]\n",
      "[0.00731949 0.02166254]\n",
      "Iterations: 7\n",
      "Time taken: 0.3625764846801758\n",
      "Lambda:  3.813663730105004e-05\n"
     ]
    }
   ],
   "source": [
    "current = time.time()\n",
    "X =[]\n",
    "lam = random.random()\n",
    "# print('lambda initial: ',lam)\n",
    "Lambd = [lam]\n",
    "# theta = 100000\n",
    "# print('theta intial:', theta)\n",
    "x = xVec\n",
    "# print('x intial:', x)\n",
    "x1 = GD(x,lam,f_grad)\n",
    "# print('x1 intial:', x1)\n",
    "gr2 = []\n",
    "count =1\n",
    "while np.linalg.norm(f_grad(x1)) > 1e-6:\n",
    "    lam_prev = lam\n",
    "#     min1 = np.sqrt(1 + theta)*lam\n",
    "#     min2 = (np.linalg.norm(x1 - x))/(2*np.linalg.norm(f_grad(x1) - f_grad(x)))\n",
    "#     print('min1:', min1)\n",
    "#     print('min2:', min2)\n",
    "    lam = Lam_func(x1, x, f_grad)\n",
    "#     print('lambda: ',lam)\n",
    "    Lambd.append(lam)\n",
    "    temp = x1\n",
    "    x1 = GD(x1, lam, f_grad)\n",
    "#     print('x1:', x1)\n",
    "    x = temp\n",
    "#     print('x:', x)\n",
    "#     theta = (lam/lam_prev)\n",
    "#     print('theta:', theta)\n",
    "    count += 1\n",
    "    grad = np.linalg.norm(f_grad(x1))\n",
    "#     print('Gradient Norm:', grad)\n",
    "    gr2.append(grad)\n",
    "print('----------------------')\n",
    "plt.plot(range(len(gr2)), gr2, c='g')\n",
    "plt.yscale('log')\n",
    "plt.title(label = 'Norm of Gradient')\n",
    "plt.show()\n",
    "print(x)\n",
    "print(f_grad(x))\n",
    "print('Iterations:', count)\n",
    "print('Time taken:', time.time() - current)\n",
    "print('Lambda: ', lam)"
   ]
  },
  {
   "cell_type": "markdown",
   "metadata": {},
   "source": [
    "\\begin{align}\n",
    "\\text{min } \\mathbf{x}: \\\\\n",
    "f(\\mathbf{x}) &= \\frac{1}{2} \\|A \\mathbf{x} - b \\|^2\\\\\n",
    "\\nabla f(\\mathbf{\\mathbf{x}}) &= A^T(A \\mathbf{x} -b)\\\\\n",
    "{\\mathbf{x}}_{k+1} &= \\mathbf{x}_k - \\lambda_k \\nabla f(\\mathbf{x}_k)\n",
    "\\end{align}\n"
   ]
  },
  {
   "cell_type": "markdown",
   "metadata": {},
   "source": [
    "## Backtracking Line Search"
   ]
  },
  {
   "cell_type": "code",
   "execution_count": 16,
   "metadata": {},
   "outputs": [],
   "source": [
    "def Line(x,f,f_grad):\n",
    "    alph_prime = 1\n",
    "    rho = 0.5\n",
    "    c = 0.1\n",
    "    alph = alph_prime\n",
    "    while f(x - alph*f_grad(x)) > f(x) - c*alph*np.linalg.norm(f_grad(x))**2:\n",
    "#         print('LHS: ', f(x - alph*f_grad(x)))\n",
    "#         print('RHS: ', f(x) - c*alph*np.linalg.norm(f_grad(x))**2)\n",
    "        ## is norm the right move here?\n",
    "        alph = rho*alph\n",
    "#     print('Alpha:', alph)\n",
    "    return alph"
   ]
  },
  {
   "cell_type": "code",
   "execution_count": 17,
   "metadata": {},
   "outputs": [
    {
     "data": {
      "text/plain": [
       "6.103515625e-05"
      ]
     },
     "execution_count": 17,
     "metadata": {},
     "output_type": "execute_result"
    }
   ],
   "source": [
    "Line(xVec,f, f_grad)"
   ]
  },
  {
   "cell_type": "code",
   "execution_count": 18,
   "metadata": {},
   "outputs": [
    {
     "name": "stdout",
     "output_type": "stream",
     "text": [
      "----------------------\n",
      "X: [6.40333329 0.7861659 ]\n",
      "Gradient: [4.60633934e-05 2.98024023e-05]\n",
      "Iterations: 2944\n",
      "Time taken: 60.03535866737366\n",
      "Lambda:  1.8189894035458565e-12\n"
     ]
    },
    {
     "data": {
      "image/png": "[encoded data removed]",
      "text/plain": [
       "<Figure size 432x288 with 1 Axes>"
      ]
     },
     "metadata": {
      "needs_background": "light"
     },
     "output_type": "display_data"
    }
   ],
   "source": [
    "\n",
    "current = time.time()\n",
    "X = []\n",
    "# L = np.max(np.linalg.svd(np.matmul(A,np.array(A).transpose()))[1])\n",
    "# lamb = 1/L\n",
    "x = xVec\n",
    "lamb = Line(x,f,f_grad)\n",
    "step_size_list = [lamb]\n",
    "gr2 = []\n",
    "count = 1\n",
    "while np.linalg.norm(f_grad(x)) > 1e-6:\n",
    "    x1 = GD(x,lamb,f_grad)\n",
    "    x = x1\n",
    "    X.append(f(x))\n",
    "    gr2.append(np.linalg.norm(f_grad(x)))\n",
    "    count += 1\n",
    "    lamb = Line(x,f,f_grad)\n",
    "    step_size_list.append(lamb)\n",
    "    if time.time() - current > 60:\n",
    "        break\n",
    "#     print('x= ', x)\n",
    "#     print('lambda', lamb)\n",
    "print('----------------------')\n",
    "# plt.plot(range(len(gr2)), gr2)\n",
    "plt.plot(range(len(step_size_list)), step_size_list)\n",
    "plt.yscale('log')\n",
    "\n",
    "print('X:', x)\n",
    "print('Gradient:', f_grad(x))\n",
    "print('Iterations:', count)\n",
    "print('Time taken:', time.time() - current)\n",
    "print('Lambda: ', lamb)"
   ]
  },
  {
   "cell_type": "markdown",
   "metadata": {},
   "source": [
    "### Vanilla Gradient Descent"
   ]
  },
  {
   "cell_type": "code",
   "execution_count": 26,
   "metadata": {},
   "outputs": [
    {
     "data": {
      "text/plain": [
       "[0.000244140625,\n",
       " 6.103515625e-05,\n",
       " 6.103515625e-05,\n",
       " 1.4901161193847656e-08,\n",
       " 1.8189894035458565e-12]"
      ]
     },
     "execution_count": 26,
     "metadata": {},
     "output_type": "execute_result"
    }
   ],
   "source": [
    "alph_list[980:985]"
   ]
  },
  {
   "cell_type": "code",
   "execution_count": 27,
   "metadata": {},
   "outputs": [
    {
     "data": {
      "image/png": "[encoded data removed]",
      "text/plain": [
       "<Figure size 432x288 with 1 Axes>"
      ]
     },
     "metadata": {
      "needs_background": "light"
     },
     "output_type": "display_data"
    }
   ],
   "source": [
    "plt.plot(range(len(alph_list[980:985])), alph_list[980:985])\n",
    "plt.yscale('log')\n",
    "plt.show()"
   ]
  },
  {
   "cell_type": "code",
   "execution_count": 28,
   "metadata": {},
   "outputs": [
    {
     "data": {
      "text/plain": [
       "[0.000124243498823773,\n",
       " 7.947003602983226e-05,\n",
       " 5.4876861112153264e-05,\n",
       " 5.486364366084622e-05,\n",
       " 5.486364366084622e-05]"
      ]
     },
     "execution_count": 28,
     "metadata": {},
     "output_type": "execute_result"
    }
   ],
   "source": [
    "gr2[980:985]"
   ]
  },
  {
   "cell_type": "code",
   "execution_count": null,
   "metadata": {},
   "outputs": [],
   "source": [
    "gr2[980:985]"
   ]
  },
  {
   "cell_type": "code",
   "execution_count": 13,
   "metadata": {},
   "outputs": [],
   "source": [
    "L = np.max(np.linalg.svd(np.matmul(A,np.array(A).transpose()))[1])"
   ]
  },
  {
   "cell_type": "code",
   "execution_count": 14,
   "metadata": {},
   "outputs": [
    {
     "data": {
      "text/plain": [
       "30530.2698630936"
      ]
     },
     "execution_count": 14,
     "metadata": {},
     "output_type": "execute_result"
    }
   ],
   "source": [
    "L"
   ]
  },
  {
   "cell_type": "code",
   "execution_count": 25,
   "metadata": {
    "scrolled": true
   },
   "outputs": [
    {
     "name": "stdout",
     "output_type": "stream",
     "text": [
      "----------------------\n"
     ]
    },
    {
     "data": {
      "image/png": "[encoded data removed]",
      "text/plain": [
       "<Figure size 432x288 with 1 Axes>"
      ]
     },
     "metadata": {
      "needs_background": "light"
     },
     "output_type": "display_data"
    },
    {
     "name": "stdout",
     "output_type": "stream",
     "text": [
      "X: [2.97696038 8.03044321]\n",
      "Gradient: [-9.42288779e-07  3.21379105e-07]\n",
      "Iterations: 2523\n",
      "Time taken: 2.5663037300109863\n",
      "Lambda:  3.3275964350033194e-05\n"
     ]
    }
   ],
   "source": [
    "current = time.time()\n",
    "X = []\n",
    "L = np.max(np.linalg.svd(np.matmul(A,np.array(A).transpose()))[1])\n",
    "lamb = 1/L\n",
    "x = xVec\n",
    "gr = []\n",
    "count = 1\n",
    "while np.linalg.norm(f_grad(x)) > 1e-6:\n",
    "    x1 = GD(x,lamb,f_grad)\n",
    "    x = x1\n",
    "    X.append(f(x))\n",
    "    gr.append(np.linalg.norm(f_grad(x)))\n",
    "    count += 1\n",
    "print('----------------------')\n",
    "plt.plot(range(len(gr)), gr, c='g')\n",
    "plt.yscale('log')\n",
    "plt.title(label = 'Norm of Gradient')\n",
    "plt.show()\n",
    "print('X:', x)\n",
    "print('Gradient:', f_grad(x))\n",
    "print('Iterations:', count)\n",
    "print('Time taken:', time.time() - current)\n",
    "print('Lambda: ', lamb)"
   ]
  },
  {
   "cell_type": "markdown",
   "metadata": {},
   "source": [
    "Adaptive Gradient Descent"
   ]
  },
  {
   "cell_type": "code",
   "execution_count": 28,
   "metadata": {},
   "outputs": [
    {
     "name": "stdout",
     "output_type": "stream",
     "text": [
      "----------------------\n",
      "x value [2.97696039 8.03044321]\n",
      "Gradient [ 8.43805026e-11 -4.51336746e-11]\n",
      "Iterations: 1492\n",
      "Time taken: 1.6229116916656494\n",
      "Lambda:  [0.14662867626418408, 1.676633104211331e-05, 1.6637987374467706e-05, 1.7202211627091162e-05, 1.92114811118082e-05, 0.00011819078521288929, 0.0003205181531516811, 0.00020902364502613807, 0.00012146543096276834, 7.928894413074248e-05, 4.665966855210577e-05, 6.468348740012828e-05]\n"
     ]
    },
    {
     "data": {
      "image/png": "[encoded data removed]",
      "text/plain": [
       "<Figure size 432x288 with 1 Axes>"
      ]
     },
     "metadata": {
      "needs_background": "light"
     },
     "output_type": "display_data"
    }
   ],
   "source": [
    "current = time.time()\n",
    "X =[]\n",
    "lam = random.random()\n",
    "# print('lambda initial: ',lam)\n",
    "Lambd = [lam]\n",
    "theta = 100000\n",
    "# print('theta intial:', theta)\n",
    "x = xVec\n",
    "# print('x intial:', x)\n",
    "x1 = GD(x,lam,f_grad)\n",
    "# print('x1 intial:', x1)\n",
    "gr2 = []\n",
    "count =1\n",
    "while np.linalg.norm(f_grad(x1)) > 1e-10:\n",
    "    lam_prev = lam\n",
    "    min1 = np.sqrt(1 + theta)*lam\n",
    "    min2 = (np.linalg.norm(x1 - x))/(2*np.linalg.norm(f_grad(x1) - f_grad(x)))\n",
    "#     print('min1:', min1)\n",
    "#     print('min2:', min2)\n",
    "    lam = np.min([min1, min2])\n",
    "#     print('lambda: ',lam)\n",
    "    Lambd.append(lam)\n",
    "    temp = x1\n",
    "    x1 = GD(x1, lam, f_grad)\n",
    "#     print('x1:', x1)\n",
    "    x = temp\n",
    "#     print('x:', x)\n",
    "    theta = (lam/lam_prev)\n",
    "#     print('theta:', theta)\n",
    "    count += 1\n",
    "    grad = np.linalg.norm(f_grad(x1))\n",
    "#     print('Gradient Norm:', grad)\n",
    "    gr2.append(grad)\n",
    "print('----------------------')\n",
    "plt.plot(range(len(gr2)) , gr2)\n",
    "plt.yscale('log')\n",
    "# plt.plot(range(10), gr2[:10], c='g')\n",
    "# plt.title(label = 'Norm of Gradient: [0,10]')\n",
    "# plt.show()\n",
    "# plt.plot(range(11,50), gr2[11:50], c='g')\n",
    "# plt.title(label = 'Norm of Gradient: [11,50]')\n",
    "# plt.show()\n",
    "# plt.plot(range(51,100), gr2[51:100], c='g')\n",
    "# plt.title(label = 'Norm of Gradient: [51,100]')\n",
    "# plt.show()\n",
    "# plt.plot(range(101,600), gr2[101:600], c='g')\n",
    "# plt.title(label = 'Norm of Gradient: [101,600]')\n",
    "# plt.show()\n",
    "# plt.plot(range(601,len(gr2)), gr2[601:], c='g')\n",
    "# plt.title(label = 'Norm of Gradient: [601, end]')\n",
    "# plt.show()\n",
    "\n",
    "print('x value', x1)\n",
    "print('Gradient', f_grad(x1))\n",
    "print('Iterations:', count)\n",
    "print('Time taken:', time.time() - current)\n",
    "La = [Lambd[0], Lambd[1]]\n",
    "for i in range(2,len(Lambd), int(np.floor(len(Lambd)/10))):\n",
    "    La.append(Lambd[i])\n",
    "print('Lambda: ', La)"
   ]
  },
  {
   "cell_type": "markdown",
   "metadata": {},
   "source": [
    "Generating data"
   ]
  },
  {
   "cell_type": "code",
   "execution_count": null,
   "metadata": {},
   "outputs": [],
   "source": [
    "k = 5\n",
    "for i in range(100):\n",
    "    globals()['x'+str(i)] = k\n",
    "    k = k*2"
   ]
  },
  {
   "cell_type": "code",
   "execution_count": null,
   "metadata": {},
   "outputs": [],
   "source": [
    "for i in range(10):\n",
    "    globals()['X'+str(i)] = [0]*10\n",
    "for j in range(10):\n",
    "    globals()['X'+str(0)][j] = (random.random()+1e-12)*10\n",
    "    y = 2*globals()['X'+str(0)][j] + 5\n",
    "    noiz = 3\n",
    "    for k in range(10):\n",
    "        globals()['X'+str(k)][j] = y + np.random.normal(0,noiz)\n",
    "        noiz += 3\n",
    "A = [globals()['X'+str(i)] for i in range(10)]"
   ]
  },
  {
   "cell_type": "code",
   "execution_count": null,
   "metadata": {},
   "outputs": [],
   "source": [
    "def linFunc(x):\n",
    "    return 2*x + 5"
   ]
  },
  {
   "cell_type": "code",
   "execution_count": null,
   "metadata": {},
   "outputs": [],
   "source": [
    "def generate(function, dim, vec_len, scale):\n",
    "    \"\"\"\n",
    "    Where A is an array of inputs for 'x'\n",
    "    \"\"\"\n",
    "    for i in range(dim):\n",
    "        globals()['X'+str(i)] = [0]*vec_len\n",
    "    for j in range(vec_len):\n",
    "        globals()['X'+str(0)][j] = (random.random()+1e-12)*scale\n",
    "        y = function(globals()['X'+str(0)][j])\n",
    "        noiz = 3\n",
    "        for k in range(dim):\n",
    "            globals()['X'+str(k)][j] = y + np.random.normal(0,noiz)\n",
    "            noiz += 3\n",
    "    A = [globals()['X'+str(i)] for i in range(dim)]\n",
    "    return(A)"
   ]
  },
  {
   "cell_type": "code",
   "execution_count": null,
   "metadata": {},
   "outputs": [],
   "source": []
  },
  {
   "cell_type": "code",
   "execution_count": null,
   "metadata": {},
   "outputs": [],
   "source": []
  },
  {
   "cell_type": "code",
   "execution_count": null,
   "metadata": {},
   "outputs": [],
   "source": []
  },
  {
   "cell_type": "code",
   "execution_count": null,
   "metadata": {},
   "outputs": [],
   "source": []
  },
  {
   "cell_type": "code",
   "execution_count": null,
   "metadata": {},
   "outputs": [],
   "source": []
  },
  {
   "cell_type": "code",
   "execution_count": null,
   "metadata": {},
   "outputs": [],
   "source": []
  },
  {
   "cell_type": "code",
   "execution_count": null,
   "metadata": {},
   "outputs": [],
   "source": []
  },
  {
   "cell_type": "code",
   "execution_count": null,
   "metadata": {},
   "outputs": [],
   "source": []
  }
 ],
 "metadata": {
  "kernelspec": {
   "display_name": "Python 3",
   "language": "python",
   "name": "python3"
  },
  "language_info": {
   "codemirror_mode": {
    "name": "ipython",
    "version": 3
   },
   "file_extension": ".py",
   "mimetype": "text/x-python",
   "name": "python",
   "nbconvert_exporter": "python",
   "pygments_lexer": "ipython3",
   "version": "3.8.6"
  }
 },
 "nbformat": 4,
 "nbformat_minor": 4
}
