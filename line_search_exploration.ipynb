{
 "cells": [
  {
   "cell_type": "code",
   "execution_count": 1,
   "metadata": {},
   "outputs": [],
   "source": [
    "import matplotlib.pyplot as plt\n",
    "import random\n",
    "import numpy as np\n",
    "import time"
   ]
  },
  {
   "cell_type": "markdown",
   "metadata": {},
   "source": [
    "Generate data based on a linear equation ($y = 2x + 5$) distorted with noise."
   ]
  },
  {
   "cell_type": "code",
   "execution_count": 2,
   "metadata": {
    "scrolled": true
   },
   "outputs": [
    {
     "data": {
      "text/plain": [
       "<function matplotlib.pyplot.show(close=None, block=None)>"
      ]
     },
     "execution_count": 2,
     "metadata": {},
     "output_type": "execute_result"
    },
    {
     "data": {
      "image/png": "[encoded data removed]",
      "text/plain": [
       "<Figure size 432x288 with 1 Axes>"
      ]
     },
     "metadata": {
      "needs_background": "light"
     },
     "output_type": "display_data"
    }
   ],
   "source": [
    "def lin():\n",
    "    \"\"\"\n",
    "    Where A is an array of inputs for 'x'\n",
    "    \"\"\"\n",
    "    li = [0]*100\n",
    "    Y = [0]*100\n",
    "    O = [0]*100\n",
    "    for i in range(100):\n",
    "        li[i] = random.random()*10\n",
    "        y = 2*li[i] + 5\n",
    "        Y[i] = y + np.random.normal(0,3) #adding noise\n",
    "        O[i] = [li[i],Y[i]]\n",
    "    return O\n",
    "\n",
    "A = lin()\n",
    "\n",
    "xVec = np.random.rand(2)*10\n",
    "temp = np.matmul(A,xVec)\n",
    "b = temp + np.random.normal(0,3,temp.shape)\n",
    "\n",
    "def f(X, a=A,B=b):\n",
    "    return 0.5*np.linalg.norm(np.matmul(a,X)-B)**2\n",
    "\n",
    "def f_grad(X,a=A, B=b):\n",
    "    return np.matmul(np.array(a).transpose(),(np.matmul(a,X)-B))\n",
    "\n",
    "def GD(x, lamb, gradient_function):\n",
    "    x1 = x - lamb*gradient_function(x)\n",
    "    return x1\n",
    "\n",
    "aaa = [0]*100\n",
    "bbb = [0]*100\n",
    "ccc = [0]*100\n",
    "for i in range(100):\n",
    "    aaa[i] = A[i][0]\n",
    "    bbb[i] = A[i][1]\n",
    "    ccc[i] = 2*A[i][0] + 5\n",
    "plt.scatter(aaa, bbb, label = 'A')\n",
    "plt.scatter(aaa, b, c = 'r', label = 'b')\n",
    "plt.scatter(xVec[0], xVec[1], c = 'g', label = 'x')\n",
    "plt.plot(aaa, ccc, 'y')\n",
    "plt.legend(loc = 'best')\n",
    "plt.show"
   ]
  },
  {
   "cell_type": "markdown",
   "metadata": {},
   "source": [
    "\\begin{align}\n",
    "\\text{min } \\mathbf{x}: \\\\\n",
    "f(\\mathbf{x}) &= \\frac{1}{2} \\|A \\mathbf{x} - b \\|^2\\\\\n",
    "\\nabla f(\\mathbf{\\mathbf{x}}) &= A^T(A \\mathbf{x} -b)\\\\\n",
    "{\\mathbf{x}}_{k+1} &= \\mathbf{x}_k - \\lambda_k \\nabla f(\\mathbf{x}_k)\n",
    "\\end{align}\n"
   ]
  },
  {
   "cell_type": "markdown",
   "metadata": {},
   "source": [
    "## Backtracking Line Search"
   ]
  },
  {
   "cell_type": "code",
   "execution_count": 3,
   "metadata": {},
   "outputs": [],
   "source": [
    "def Line(x,f,f_grad):\n",
    "    line_time = time.time()\n",
    "    rho = random.random() + 1e-20\n",
    "    c = random.random() + 1e-20\n",
    "    alph = 1\n",
    "    p = np.linalg.norm(f_grad(x))**2\n",
    "    while ((f(x - alph*f_grad(x)) > f(x) - c*alph*p) and \\\n",
    "           (np.linalg.norm(f_grad(x - alph*f_grad(x)))**2 > p)):\n",
    "#         print('LHS: ', f(x - alph*f_grad(x)))\n",
    "#         print('RHS: ', f(x) - c*alph*np.linalg.norm(f_grad(x))**2)\n",
    "        ## is norm the right move here?\n",
    "        alph = rho*alph\n",
    "#     print('Alpha:', alph)\n",
    "    print('At iteration ', count, 'The line search took ', \\\n",
    "          time.time() - line_time , 'to produce a step size of ', alph)    \n",
    "    return alph\n",
    "    "
   ]
  },
  {
   "cell_type": "code",
   "execution_count": 4,
   "metadata": {},
   "outputs": [
    {
     "ename": "NameError",
     "evalue": "name 'x' is not defined",
     "output_type": "error",
     "traceback": [
      "\u001b[1;31m---------------------------------------------------------------------------\u001b[0m",
      "\u001b[1;31mNameError\u001b[0m                                 Traceback (most recent call last)",
      "\u001b[1;32m<ipython-input-4-ce093b33a857>\u001b[0m in \u001b[0;36m<module>\u001b[1;34m\u001b[0m\n\u001b[1;32m----> 1\u001b[1;33m \u001b[0mnp\u001b[0m\u001b[1;33m.\u001b[0m\u001b[0mlinalg\u001b[0m\u001b[1;33m.\u001b[0m\u001b[0mnorm\u001b[0m\u001b[1;33m(\u001b[0m\u001b[0mf_grad\u001b[0m\u001b[1;33m(\u001b[0m\u001b[0mx\u001b[0m\u001b[1;33m)\u001b[0m\u001b[1;33m)\u001b[0m\u001b[1;33m**\u001b[0m\u001b[1;36m2\u001b[0m\u001b[1;33m\u001b[0m\u001b[1;33m\u001b[0m\u001b[0m\n\u001b[0m",
      "\u001b[1;31mNameError\u001b[0m: name 'x' is not defined"
     ]
    }
   ],
   "source": [
    "np.linalg.norm(f_grad(x))**2"
   ]
  },
  {
   "cell_type": "code",
   "execution_count": 41,
   "metadata": {},
   "outputs": [
    {
     "data": {
      "text/plain": [
       "4.080141054844047e-09"
      ]
     },
     "execution_count": 41,
     "metadata": {},
     "output_type": "execute_result"
    }
   ],
   "source": [
    "np.linalg.norm(f_grad(x - 1e-5*f_grad(x)))**2"
   ]
  },
  {
   "cell_type": "code",
   "execution_count": 5,
   "metadata": {},
   "outputs": [],
   "source": [
    "x = xVec"
   ]
  },
  {
   "cell_type": "code",
   "execution_count": 39,
   "metadata": {},
   "outputs": [
    {
     "data": {
      "text/plain": [
       "array([5.76387469e-05, 5.65763452e-05])"
      ]
     },
     "execution_count": 39,
     "metadata": {},
     "output_type": "execute_result"
    }
   ],
   "source": [
    "f_grad(x)"
   ]
  },
  {
   "cell_type": "code",
   "execution_count": 6,
   "metadata": {},
   "outputs": [
    {
     "name": "stdout",
     "output_type": "stream",
     "text": [
      "At iteration  1 The line search took  0.00892782211303711 to produce a step size of  4.037958183978017e-05\n",
      "At iteration  2 The line search took  0.007440328598022461 to produce a step size of  3.0020723500080505e-05\n",
      "At iteration  3 The line search took  0.00745701789855957 to produce a step size of  0.0004280338724598558\n",
      "At iteration  4 The line search took  0.009445428848266602 to produce a step size of  2.4025326557865182e-05\n",
      "At iteration  5 The line search took  0.018845081329345703 to produce a step size of  5.7339502295169265e-05\n",
      "At iteration  6 The line search took  0.002480030059814453 to produce a step size of  9.525346601673614e-05\n",
      "At iteration  7 The line search took  0.24055862426757812 to produce a step size of  7.303210792267159e-05\n",
      "At iteration  8 The line search took  0.006447792053222656 to produce a step size of  8.643067409065588e-05\n",
      "At iteration  9 The line search took  0.009916067123413086 to produce a step size of  6.406730251053345e-05\n",
      "At iteration  10 The line search took  0.0838625431060791 to produce a step size of  7.130919341536942e-05\n",
      "At iteration  11 The line search took  0.1646716594696045 to produce a step size of  7.30692498302553e-05\n",
      "At iteration  12 The line search took  0.003471851348876953 to produce a step size of  4.894417524434784e-05\n",
      "At iteration  13 The line search took  0.011407852172851562 to produce a step size of  0.00020537884831952643\n",
      "At iteration  14 The line search took  0.005455970764160156 to produce a step size of  3.3462101138740014e-05\n",
      "At iteration  15 The line search took  0.0034856796264648438 to produce a step size of  0.0006861346329826082\n",
      "At iteration  16 The line search took  0.006943702697753906 to produce a step size of  3.556980626477117e-05\n",
      "At iteration  17 The line search took  0.019344091415405273 to produce a step size of  0.0028245377873006754\n",
      "At iteration  18 The line search took  0.46425533294677734 to produce a step size of  7.234327033975927e-05\n",
      "At iteration  19 The line search took  0.02429986000061035 to produce a step size of  6.197952266873233e-05\n",
      "At iteration  20 The line search took  0.0034720897674560547 to produce a step size of  1.182769548428829e-05\n",
      "At iteration  21 The line search took  0.008928060531616211 to produce a step size of  4.368842729040413e-05\n",
      "At iteration  22 The line search took  0.06200003623962402 to produce a step size of  8.28150466777558e-05\n",
      "At iteration  23 The line search took  0.004463911056518555 to produce a step size of  3.822697059914165e-05\n",
      "At iteration  24 The line search took  0.006943941116333008 to produce a step size of  0.002649875415324153\n",
      "At iteration  25 The line search took  0.007935047149658203 to produce a step size of  2.352151212169643e-05\n",
      "At iteration  26 The line search took  0.18996810913085938 to produce a step size of  7.272961695835675e-05\n",
      "At iteration  27 The line search took  0.015367746353149414 to produce a step size of  5.900286730502818e-05\n",
      "At iteration  28 The line search took  0.02777576446533203 to produce a step size of  5.891610613603439e-05\n",
      "At iteration  29 The line search took  0.006943941116333008 to produce a step size of  6.501207431254214e-05\n",
      "At iteration  30 The line search took  0.0029757022857666016 to produce a step size of  6.76295720679008e-05\n",
      "At iteration  31 The line search took  0.006943702697753906 to produce a step size of  3.916960460990474e-05\n",
      "At iteration  32 The line search took  0.022320270538330078 to produce a step size of  0.0022724337813555817\n",
      "At iteration  33 The line search took  0.003968477249145508 to produce a step size of  5.3579595019599345e-06\n",
      "At iteration  34 The line search took  0.005455970764160156 to produce a step size of  1.5332796849138335e-05\n",
      "At iteration  35 The line search took  0.003471851348876953 to produce a step size of  3.473320233129376e-05\n",
      "At iteration  36 The line search took  0.005951881408691406 to produce a step size of  0.00034243187472134096\n",
      "At iteration  37 The line search took  0.004959821701049805 to produce a step size of  1.59752684673771e-05\n",
      "At iteration  38 The line search took  0.015375852584838867 to produce a step size of  0.0001283914542619074\n",
      "At iteration  39 The line search took  0.04563188552856445 to produce a step size of  6.643306082186711e-05\n",
      "At iteration  40 The line search took  0.004463911056518555 to produce a step size of  9.6386776417242e-06\n",
      "At iteration  41 The line search took  0.05406379699707031 to produce a step size of  9.141519631468434e-05\n",
      "At iteration  42 The line search took  0.009920120239257812 to produce a step size of  3.400930605787167e-05\n",
      "At iteration  43 The line search took  0.007936477661132812 to produce a step size of  0.000321432063688981\n",
      "At iteration  44 The line search took  0.00892782211303711 to produce a step size of  6.532466465644495e-05\n",
      "At iteration  45 The line search took  0.008431434631347656 to produce a step size of  3.320948007335639e-05\n",
      "At iteration  46 The line search took  0.003471851348876953 to produce a step size of  0.0030324584525314186\n",
      "At iteration  47 The line search took  0.005952119827270508 to produce a step size of  6.967545470354021e-05\n",
      "At iteration  48 The line search took  0.01388859748840332 to produce a step size of  5.507693738364993e-05\n",
      "At iteration  49 The line search took  0.028272151947021484 to produce a step size of  5.501331898671962e-05\n",
      "At iteration  50 The line search took  0.030751705169677734 to produce a step size of  7.42360638776565e-05\n",
      "At iteration  51 The line search took  0.014383316040039062 to produce a step size of  5.4121017416694686e-05\n",
      "At iteration  52 The line search took  0.005456447601318359 to produce a step size of  9.312733897933629e-06\n",
      "At iteration  53 The line search took  0.02628946304321289 to produce a step size of  0.00010756007212715774\n",
      "At iteration  54 The line search took  0.004472970962524414 to produce a step size of  2.5411860777827442e-05\n",
      "At iteration  55 The line search took  0.006357908248901367 to produce a step size of  9.42429584875715e-05\n",
      "At iteration  56 The line search took  0.026831865310668945 to produce a step size of  6.77643585638364e-05\n",
      "At iteration  57 The line search took  0.01686382293701172 to produce a step size of  0.00012375071813621374\n",
      "At iteration  58 The line search took  0.0054590702056884766 to produce a step size of  7.255882815912731e-05\n",
      "At iteration  59 The line search took  0.009919166564941406 to produce a step size of  4.22548125738477e-05\n",
      "At iteration  60 The line search took  0.03227877616882324 to produce a step size of  0.0005357190464460532\n",
      "At iteration  61 The line search took  0.01884770393371582 to produce a step size of  5.148906038861757e-05\n",
      "At iteration  62 The line search took  0.028768062591552734 to produce a step size of  7.032190103422872e-05\n",
      "At iteration  63 The line search took  0.0029757022857666016 to produce a step size of  2.131359756285127e-06\n",
      "At iteration  64 The line search took  0.05459403991699219 to produce a step size of  6.636280878208566e-05\n",
      "At iteration  65 The line search took  0.01189422607421875 to produce a step size of  3.358805972498645e-05\n",
      "At iteration  66 The line search took  0.005457401275634766 to produce a step size of  0.0011345957000114847\n",
      "At iteration  67 The line search took  0.009924650192260742 to produce a step size of  3.545121609158544e-05\n",
      "At iteration  68 The line search took  0.005457162857055664 to produce a step size of  0.0013319196926862822\n",
      "At iteration  69 The line search took  0.0381777286529541 to produce a step size of  5.912399101637518e-05\n",
      "At iteration  70 The line search took  0.002975940704345703 to produce a step size of  4.452677881017703e-05\n",
      "At iteration  71 The line search took  0.05158400535583496 to produce a step size of  7.764811935107325e-05\n",
      "At iteration  72 The line search took  0.007439851760864258 to produce a step size of  3.74365924624232e-05\n",
      "At iteration  73 The line search took  0.02728724479675293 to produce a step size of  0.003703301973933672\n",
      "At iteration  74 The line search took  0.01091146469116211 to produce a step size of  6.58030725169171e-05\n",
      "At iteration  75 The line search took  0.05109000205993652 to produce a step size of  6.948295196773317e-05\n",
      "At iteration  76 The line search took  0.02331256866455078 to produce a step size of  5.559919299322173e-05\n"
     ]
    },
    {
     "name": "stdout",
     "output_type": "stream",
     "text": [
      "At iteration  77 The line search took  0.010912895202636719 to produce a step size of  6.197101859068605e-05\n",
      "At iteration  78 The line search took  0.010415792465209961 to produce a step size of  7.334648498361727e-05\n",
      "At iteration  79 The line search took  0.01587200164794922 to produce a step size of  7.318967902516104e-05\n",
      "At iteration  80 The line search took  0.004463911056518555 to produce a step size of  7.297698586230739e-05\n",
      "At iteration  81 The line search took  0.015871763229370117 to produce a step size of  6.628542132924879e-05\n",
      "At iteration  82 The line search took  0.005951881408691406 to produce a step size of  2.2350601796502657e-05\n",
      "At iteration  83 The line search took  0.004463672637939453 to produce a step size of  1.5456542439689085e-05\n",
      "At iteration  84 The line search took  0.035218000411987305 to produce a step size of  0.000273090740065619\n",
      "At iteration  85 The line search took  0.0060007572174072266 to produce a step size of  5.298166098659452e-05\n",
      "At iteration  86 The line search took  0.005949497222900391 to produce a step size of  3.452711573846438e-05\n",
      "At iteration  87 The line search took  0.013869524002075195 to produce a step size of  0.00026017897416934747\n",
      "At iteration  88 The line search took  0.029214859008789062 to produce a step size of  0.00017050707619290775\n",
      "At iteration  89 The line search took  0.0753931999206543 to produce a step size of  6.922636048783247e-05\n",
      "At iteration  90 The line search took  0.010947227478027344 to produce a step size of  5.716577488622937e-05\n",
      "At iteration  91 The line search took  0.005455732345581055 to produce a step size of  4.747987935236563e-05\n",
      "At iteration  92 The line search took  0.03323650360107422 to produce a step size of  0.0020152292301403533\n",
      "At iteration  93 The line search took  0.005455732345581055 to produce a step size of  3.7183309892666215e-05\n",
      "At iteration  94 The line search took  0.7598721981048584 to produce a step size of  0.0005115515533219825\n",
      "At iteration  95 The line search took  0.0481114387512207 to produce a step size of  6.496479121783508e-05\n",
      "At iteration  96 The line search took  0.020335674285888672 to produce a step size of  5.136407902870588e-05\n",
      "At iteration  97 The line search took  0.017856121063232422 to produce a step size of  0.00011565196311678345\n",
      "At iteration  98 The line search took  0.016369342803955078 to produce a step size of  4.298301148484014e-05\n",
      "At iteration  99 The line search took  0.03822898864746094 to produce a step size of  0.0005190231735579788\n",
      "At iteration  100 The line search took  0.3854176998138428 to produce a step size of  7.284837497560745e-05\n",
      "At iteration  101 The line search took  0.029263734817504883 to produce a step size of  6.572185165907108e-05\n",
      "At iteration  102 The line search took  0.02331233024597168 to produce a step size of  6.258971872266349e-05\n",
      "At iteration  103 The line search took  0.028766870498657227 to produce a step size of  6.59399421483709e-05\n",
      "At iteration  104 The line search took  0.011360406875610352 to produce a step size of  3.860970900529166e-05\n",
      "At iteration  105 The line search took  0.013446331024169922 to produce a step size of  0.0011124865939688621\n",
      "At iteration  106 The line search took  0.05158400535583496 to produce a step size of  6.72321777874807e-05\n",
      "At iteration  107 The line search took  0.006943941116333008 to produce a step size of  4.934462541220896e-05\n",
      "At iteration  108 The line search took  0.822368860244751 to produce a step size of  7.330083685744066e-05\n",
      "At iteration  109 The line search took  0.009955406188964844 to produce a step size of  2.9432576827660912e-05\n",
      "At iteration  110 The line search took  0.00793600082397461 to produce a step size of  0.00023498930104098143\n",
      "At iteration  111 The line search took  0.012400388717651367 to produce a step size of  5.1312092020283835e-05\n",
      "At iteration  112 The line search took  0.017396926879882812 to produce a step size of  0.00018593040301087739\n",
      "At iteration  113 The line search took  0.006934404373168945 to produce a step size of  2.0366746184712883e-05\n",
      "At iteration  114 The line search took  0.0034720897674560547 to produce a step size of  5.3700195862339474e-05\n",
      "At iteration  115 The line search took  0.004951953887939453 to produce a step size of  3.665436977921186e-05\n",
      "At iteration  116 The line search took  0.0029754638671875 to produce a step size of  0.004550057987543857\n",
      "At iteration  117 The line search took  0.0014874935150146484 to produce a step size of  1.4889244444371573e-05\n",
      "At iteration  118 The line search took  0.05604720115661621 to produce a step size of  0.00028506333841330585\n",
      "At iteration  119 The line search took  0.013888359069824219 to produce a step size of  6.154045716539545e-05\n",
      "At iteration  120 The line search took  0.0034723281860351562 to produce a step size of  1.5282712803129977e-05\n",
      "At iteration  121 The line search took  0.04364800453186035 to produce a step size of  0.00014466455999355201\n",
      "At iteration  122 The line search took  0.006943702697753906 to produce a step size of  6.198103115395947e-05\n",
      "At iteration  123 The line search took  0.15326356887817383 to produce a step size of  7.02777060523835e-05\n",
      "At iteration  124 The line search took  0.1344163417816162 to produce a step size of  6.9390613194714e-05\n",
      "At iteration  125 The line search took  0.04368472099304199 to produce a step size of  7.25780863886015e-05\n",
      "At iteration  126 The line search took  0.025791645050048828 to produce a step size of  6.705354630032871e-05\n",
      "At iteration  127 The line search took  0.009919881820678711 to produce a step size of  4.759150669856997e-05\n",
      "At iteration  128 The line search took  0.010415792465209961 to produce a step size of  4.8587917551408165e-05\n",
      "At iteration  129 The line search took  0.007933616638183594 to produce a step size of  0.0004543365511872622\n",
      "At iteration  130 The line search took  0.01686382293701172 to produce a step size of  8.877424351260961e-05\n",
      "At iteration  131 The line search took  0.014383554458618164 to produce a step size of  6.492708110062974e-05\n",
      "At iteration  132 The line search took  0.01636815071105957 to produce a step size of  6.184288684338277e-05\n",
      "At iteration  133 The line search took  0.024294137954711914 to produce a step size of  6.407925124018776e-05\n",
      "At iteration  134 The line search took  0.0034716129302978516 to produce a step size of  4.64951046620926e-05\n",
      "At iteration  135 The line search took  0.012895822525024414 to produce a step size of  0.0008010233793443034\n",
      "At iteration  136 The line search took  0.01488041877746582 to produce a step size of  5.200756193712898e-05\n",
      "At iteration  137 The line search took  0.05059218406677246 to produce a step size of  6.829724614885445e-05\n",
      "At iteration  138 The line search took  0.002974987030029297 to produce a step size of  7.530799527923268e-06\n",
      "At iteration  139 The line search took  0.0059528350830078125 to produce a step size of  3.3261327776493914e-05\n",
      "At iteration  140 The line search took  0.00793600082397461 to produce a step size of  0.00032655560695263726\n",
      "At iteration  141 The line search took  0.004463911056518555 to produce a step size of  1.2241154439265823e-05\n",
      "At iteration  142 The line search took  1.0555241107940674 to produce a step size of  0.00015042463632614303\n",
      "At iteration  143 The line search took  0.002975940704345703 to produce a step size of  1.8814785311684417e-06\n",
      "At iteration  144 The line search took  0.011956930160522461 to produce a step size of  7.181058557791043e-05\n",
      "At iteration  145 The line search took  0.2325761318206787 to produce a step size of  7.151113015160907e-05\n",
      "At iteration  146 The line search took  0.003972053527832031 to produce a step size of  3.115483422902382e-06\n",
      "At iteration  147 The line search took  0.020302534103393555 to produce a step size of  6.563081295091758e-05\n",
      "At iteration  148 The line search took  0.009423017501831055 to produce a step size of  6.0134957868733276e-05\n",
      "At iteration  149 The line search took  0.01045989990234375 to produce a step size of  5.133185084498932e-05\n",
      "At iteration  150 The line search took  0.012931108474731445 to produce a step size of  0.00012940880502164507\n",
      "At iteration  151 The line search took  0.0476527214050293 to produce a step size of  7.292741911285959e-05\n",
      "At iteration  152 The line search took  0.005953550338745117 to produce a step size of  6.922452779928914e-05\n",
      "At iteration  153 The line search took  0.026327133178710938 to produce a step size of  6.61134199624897e-05\n",
      "At iteration  154 The line search took  0.008432149887084961 to produce a step size of  5.356847987939639e-05\n",
      "At iteration  155 The line search took  0.002967357635498047 to produce a step size of  0.00011024195190472443\n",
      "At iteration  156 The line search took  0.004960775375366211 to produce a step size of  1.643647234883682e-05\n",
      "At iteration  157 The line search took  0.006484270095825195 to produce a step size of  6.407095597682295e-05\n",
      "At iteration  158 The line search took  0.014879941940307617 to produce a step size of  0.0002783552889242147\n",
      "At iteration  159 The line search took  0.004463911056518555 to produce a step size of  1.2462609961870692e-05\n",
      "At iteration  160 The line search took  0.012400150299072266 to produce a step size of  4.0399609304227445e-05\n"
     ]
    },
    {
     "name": "stdout",
     "output_type": "stream",
     "text": [
      "At iteration  161 The line search took  0.011446714401245117 to produce a step size of  0.0006877343842014776\n",
      "At iteration  162 The line search took  0.004959821701049805 to produce a step size of  3.2298365937483476e-05\n",
      "At iteration  163 The line search took  0.006448030471801758 to produce a step size of  0.00013173628781858353\n",
      "At iteration  164 The line search took  0.003968000411987305 to produce a step size of  3.173203147513461e-05\n",
      "At iteration  165 The line search took  0.10663986206054688 to produce a step size of  0.0015914097245585375\n",
      "At iteration  166 The line search took  0.03273630142211914 to produce a step size of  6.923500974471935e-05\n",
      "At iteration  167 The line search took  0.09030914306640625 to produce a step size of  6.825673035461751e-05\n",
      "At iteration  168 The line search took  0.008433103561401367 to produce a step size of  4.131242045748576e-05\n",
      "At iteration  169 The line search took  0.0074727535247802734 to produce a step size of  7.052775189115978e-05\n",
      "At iteration  170 The line search took  0.017882108688354492 to produce a step size of  7.142585955448266e-05\n",
      "At iteration  171 The line search took  0.0044651031494140625 to produce a step size of  6.467380518429131e-05\n",
      "At iteration  172 The line search took  0.008442163467407227 to produce a step size of  3.134335700118271e-05\n",
      "At iteration  173 The line search took  0.015373706817626953 to produce a step size of  0.002102399093084945\n",
      "At iteration  174 The line search took  0.004960298538208008 to produce a step size of  4.205137633707921e-05\n",
      "At iteration  175 The line search took  0.004464387893676758 to produce a step size of  7.019719344320524e-05\n",
      "At iteration  176 The line search took  0.008928060531616211 to produce a step size of  8.368396152320199e-05\n",
      "At iteration  177 The line search took  0.0024690628051757812 to produce a step size of  2.20051812089317e-06\n",
      "At iteration  178 The line search took  0.007439851760864258 to produce a step size of  4.8025742081161096e-05\n",
      "At iteration  179 The line search took  0.0024797916412353516 to produce a step size of  7.894821680088626e-07\n",
      "At iteration  180 The line search took  0.10316896438598633 to produce a step size of  0.00019981636490503301\n",
      "At iteration  181 The line search took  0.009954690933227539 to produce a step size of  8.43918570914131e-05\n",
      "At iteration  182 The line search took  0.22964978218078613 to produce a step size of  7.310002375712532e-05\n",
      "At iteration  183 The line search took  0.01686382293701172 to produce a step size of  7.561518946101605e-05\n",
      "At iteration  184 The line search took  0.004960060119628906 to produce a step size of  7.351063050997394e-06\n",
      "At iteration  185 The line search took  0.004959821701049805 to produce a step size of  2.1645621641487862e-05\n",
      "At iteration  186 The line search took  0.022359848022460938 to produce a step size of  6.383730373678231e-05\n",
      "At iteration  187 The line search took  0.08583331108093262 to produce a step size of  7.375995424943187e-05\n",
      "At iteration  188 The line search took  0.003967761993408203 to produce a step size of  5.1254047826084734e-05\n",
      "At iteration  189 The line search took  0.005951881408691406 to produce a step size of  0.00018203178990032788\n",
      "At iteration  190 The line search took  0.007440090179443359 to produce a step size of  4.0920678338964394e-05\n",
      "At iteration  191 The line search took  0.01093602180480957 to produce a step size of  0.002160335526511457\n",
      "At iteration  192 The line search took  0.02727985382080078 to produce a step size of  5.902644992070449e-05\n",
      "At iteration  193 The line search took  0.050592660903930664 to produce a step size of  6.877948660286565e-05\n",
      "At iteration  194 The line search took  0.12896156311035156 to produce a step size of  7.040676926581403e-05\n",
      "At iteration  195 The line search took  0.003967761993408203 to produce a step size of  4.546417932250487e-05\n",
      "At iteration  196 The line search took  0.007439851760864258 to produce a step size of  7.143743778957582e-05\n",
      "At iteration  197 The line search took  0.011407852172851562 to produce a step size of  6.688359719442705e-05\n",
      "At iteration  198 The line search took  0.012399911880493164 to produce a step size of  9.179640724493291e-05\n",
      "At iteration  199 The line search took  0.0536196231842041 to produce a step size of  7.077621781781943e-05\n",
      "At iteration  200 The line search took  0.005455970764160156 to produce a step size of  2.188248170924562e-05\n",
      "At iteration  201 The line search took  0.006944179534912109 to produce a step size of  0.00011656843546481751\n",
      "At iteration  202 The line search took  0.005951881408691406 to produce a step size of  5.66689884460558e-05\n",
      "At iteration  203 The line search took  0.023311853408813477 to produce a step size of  0.00010000357674998798\n",
      "At iteration  204 The line search took  0.009919881820678711 to produce a step size of  4.591007677971368e-05\n",
      "At iteration  205 The line search took  0.00942373275756836 to produce a step size of  0.0001879404525441738\n",
      "At iteration  206 The line search took  0.01735997200012207 to produce a step size of  4.944189006477228e-05\n",
      "At iteration  207 The line search took  0.024799585342407227 to produce a step size of  0.00019365934702734726\n",
      "At iteration  208 The line search took  0.007439851760864258 to produce a step size of  2.9257666082201257e-05\n",
      "At iteration  209 The line search took  0.023807525634765625 to produce a step size of  8.686502051896201e-05\n",
      "At iteration  210 The line search took  0.03224039077758789 to produce a step size of  6.848561098667546e-05\n",
      "At iteration  211 The line search took  0.015375375747680664 to produce a step size of  0.0001653191207330359\n",
      "At iteration  212 The line search took  0.02281332015991211 to produce a step size of  6.266438202038673e-05\n",
      "At iteration  213 The line search took  0.011441230773925781 to produce a step size of  3.547495141424579e-05\n",
      "At iteration  214 The line search took  0.10908746719360352 to produce a step size of  0.0031845908850329312\n",
      "At iteration  215 The line search took  0.011905431747436523 to produce a step size of  6.460945544048001e-05\n",
      "At iteration  216 The line search took  0.009424924850463867 to produce a step size of  2.578635658952589e-05\n",
      "At iteration  217 The line search took  0.009414196014404297 to produce a step size of  7.909937750116495e-05\n",
      "At iteration  218 The line search took  0.02332592010498047 to produce a step size of  6.74963818808395e-05\n",
      "At iteration  219 The line search took  0.023807525634765625 to produce a step size of  8.052903688521433e-05\n",
      "At iteration  220 The line search took  0.06348991394042969 to produce a step size of  7.158119084850791e-05\n",
      "At iteration  221 The line search took  0.013887882232666016 to produce a step size of  5.139710671000007e-05\n",
      "At iteration  222 The line search took  0.002975940704345703 to produce a step size of  1.8058349646554344e-05\n",
      "At iteration  223 The line search took  0.005451202392578125 to produce a step size of  2.40062189602038e-05\n",
      "At iteration  224 The line search took  0.003471851348876953 to produce a step size of  0.0015210393544672206\n",
      "At iteration  225 The line search took  0.006447553634643555 to produce a step size of  2.5641899606944995e-05\n",
      "At iteration  226 The line search took  0.05159354209899902 to produce a step size of  6.300491674328175e-05\n",
      "At iteration  227 The line search took  0.008963346481323242 to produce a step size of  5.5326148569151493e-05\n",
      "At iteration  228 The line search took  0.01339101791381836 to produce a step size of  8.831683778370221e-05\n",
      "At iteration  229 The line search took  0.0466618537902832 to produce a step size of  7.019485161395984e-05\n",
      "At iteration  230 The line search took  0.011440038681030273 to produce a step size of  3.451460803381124e-05\n",
      "At iteration  231 The line search took  0.004463911056518555 to produce a step size of  0.0031082240565970176\n",
      "At iteration  232 The line search took  0.003471851348876953 to produce a step size of  5.213411079230487e-05\n",
      "At iteration  233 The line search took  0.003967761993408203 to produce a step size of  3.8602434091538506e-05\n",
      "At iteration  234 The line search took  0.01194143295288086 to produce a step size of  0.0004224541278261024\n",
      "At iteration  235 The line search took  0.013391733169555664 to produce a step size of  7.476040668200756e-05\n",
      "At iteration  236 The line search took  0.031743526458740234 to produce a step size of  7.049364003767308e-05\n",
      "At iteration  237 The line search took  0.024304866790771484 to produce a step size of  6.82911644605005e-05\n"
     ]
    },
    {
     "name": "stdout",
     "output_type": "stream",
     "text": [
      "At iteration  238 The line search took  0.11507248878479004 to produce a step size of  7.272854196724861e-05\n",
      "At iteration  239 The line search took  0.024801015853881836 to produce a step size of  6.748499551474211e-05\n",
      "At iteration  240 The line search took  0.014880180358886719 to produce a step size of  6.944492460165972e-05\n",
      "At iteration  241 The line search took  0.030752182006835938 to produce a step size of  7.03005199634605e-05\n",
      "At iteration  242 The line search took  0.3497049808502197 to produce a step size of  7.191927325145963e-05\n",
      "At iteration  243 The line search took  0.014408349990844727 to produce a step size of  4.673324047196134e-05\n",
      "At iteration  244 The line search took  0.003967761993408203 to produce a step size of  6.546680062732273e-05\n",
      "At iteration  245 The line search took  0.028767824172973633 to produce a step size of  0.000223469761112182\n",
      "At iteration  246 The line search took  0.014358282089233398 to produce a step size of  4.781260168445542e-05\n",
      "At iteration  247 The line search took  0.03277111053466797 to produce a step size of  7.200846703359984e-05\n",
      "At iteration  248 The line search took  0.01884770393371582 to produce a step size of  0.00014632778707415726\n",
      "At iteration  249 The line search took  0.04613518714904785 to produce a step size of  7.127157834084401e-05\n",
      "At iteration  250 The line search took  0.325899600982666 to produce a step size of  7.199593359231965e-05\n",
      "At iteration  251 The line search took  0.006430864334106445 to produce a step size of  4.791566743987732e-05\n",
      "At iteration  252 The line search took  0.14532876014709473 to produce a step size of  0.00010457179347376807\n",
      "At iteration  253 The line search took  0.029791593551635742 to produce a step size of  7.107705775353642e-05\n",
      "At iteration  254 The line search took  0.006943702697753906 to produce a step size of  2.0645675155233732e-05\n",
      "At iteration  255 The line search took  0.004960536956787109 to produce a step size of  2.6240345893431684e-05\n",
      "At iteration  256 The line search took  0.01888298988342285 to produce a step size of  0.0010355031677455786\n",
      "At iteration  257 The line search took  0.01983952522277832 to produce a step size of  5.833874165799839e-05\n",
      "At iteration  258 The line search took  0.004953145980834961 to produce a step size of  9.747667453862645e-06\n",
      "At iteration  259 The line search took  0.02483654022216797 to produce a step size of  7.123597151166341e-05\n",
      "At iteration  260 The line search took  0.022815942764282227 to produce a step size of  7.787486369644968e-05\n",
      "At iteration  261 The line search took  0.05706477165222168 to produce a step size of  6.488829492126306e-05\n",
      "At iteration  262 The line search took  0.0064737796783447266 to produce a step size of  5.759259270972487e-05\n",
      "At iteration  263 The line search took  0.0049953460693359375 to produce a step size of  1.386532292453809e-05\n",
      "At iteration  264 The line search took  0.017855405807495117 to produce a step size of  0.00011396960024222086\n",
      "At iteration  265 The line search took  0.023807764053344727 to produce a step size of  8.42661995953573e-05\n",
      "At iteration  266 The line search took  0.4444162845611572 to produce a step size of  7.311984360486555e-05\n",
      "At iteration  267 The line search took  0.01790642738342285 to produce a step size of  4.558337424651344e-05\n",
      "At iteration  268 The line search took  0.0034716129302978516 to produce a step size of  0.00024131215205203124\n",
      "At iteration  269 The line search took  0.021364688873291016 to produce a step size of  6.224189825733832e-05\n",
      "At iteration  270 The line search took  0.018352508544921875 to produce a step size of  5.905608391262993e-05\n",
      "At iteration  271 The line search took  0.005456686019897461 to produce a step size of  5.1072250718095395e-05\n",
      "At iteration  272 The line search took  0.016865253448486328 to produce a step size of  0.0002063056075955735\n",
      "At iteration  273 The line search took  0.4880638122558594 to produce a step size of  7.35880213573706e-05\n",
      "At iteration  274 The line search took  0.018354415893554688 to produce a step size of  5.0599163904294916e-05\n",
      "At iteration  275 The line search took  0.009423255920410156 to produce a step size of  6.805139406567426e-05\n",
      "At iteration  276 The line search took  0.10666537284851074 to produce a step size of  0.00017785877011592535\n",
      "At iteration  277 The line search took  0.03177952766418457 to produce a step size of  6.342636794078452e-05\n",
      "At iteration  278 The line search took  0.003472566604614258 to produce a step size of  4.4155182218917045e-05\n",
      "At iteration  279 The line search took  0.013869047164916992 to produce a step size of  6.0955667519482535e-05\n",
      "At iteration  280 The line search took  0.03124690055847168 to produce a step size of  0.000347967249281191\n",
      "At iteration  281 The line search took  0.023311376571655273 to produce a step size of  5.153508586957756e-05\n",
      "At iteration  282 The line search took  0.020322322845458984 to produce a step size of  6.384831391082209e-05\n",
      "At iteration  283 The line search took  0.014383554458618164 to produce a step size of  4.598403640439646e-05\n",
      "At iteration  284 The line search took  0.010911703109741211 to produce a step size of  0.0007239145679846351\n",
      "At iteration  285 The line search took  0.005951881408691406 to produce a step size of  1.7066530487809576e-05\n",
      "At iteration  286 The line search took  0.014381647109985352 to produce a step size of  5.165057887430038e-05\n",
      "At iteration  287 The line search took  0.011904001235961914 to produce a step size of  3.589952256527292e-05\n",
      "At iteration  288 The line search took  0.0441441535949707 to produce a step size of  0.004986189419044898\n",
      "At iteration  289 The line search took  0.10564875602722168 to produce a step size of  6.898534791213833e-05\n",
      "At iteration  290 The line search took  0.012895584106445312 to produce a step size of  4.171180431916413e-05\n",
      "At iteration  291 The line search took  0.06348752975463867 to produce a step size of  0.00011449577792351264\n",
      "At iteration  292 The line search took  0.005455970764160156 to produce a step size of  2.2657775612667083e-05\n",
      "At iteration  293 The line search took  0.00846719741821289 to produce a step size of  5.5435887815162174e-05\n",
      "At iteration  294 The line search took  0.06150364875793457 to produce a step size of  0.00013651921798539412\n",
      "At iteration  295 The line search took  0.10019207000732422 to produce a step size of  7.143066296169227e-05\n",
      "At iteration  296 The line search took  0.006447553634643555 to produce a step size of  1.135138042366783e-05\n",
      "At iteration  297 The line search took  0.011904001235961914 to produce a step size of  2.7439280614621776e-05\n",
      "At iteration  298 The line search took  0.028271198272705078 to produce a step size of  0.00015354027083163088\n",
      "At iteration  299 The line search took  0.011407613754272461 to produce a step size of  0.00010849239049055706\n",
      "At iteration  300 The line search took  0.023808002471923828 to produce a step size of  5.965837662896962e-05\n",
      "At iteration  301 The line search took  0.008431434631347656 to produce a step size of  0.00010021249539274234\n",
      "At iteration  302 The line search took  0.04265737533569336 to produce a step size of  6.674177036154456e-05\n",
      "At iteration  303 The line search took  0.013888120651245117 to produce a step size of  6.1159905090278e-05\n",
      "At iteration  304 The line search took  0.011407852172851562 to produce a step size of  0.00010589795670265173\n",
      "At iteration  305 The line search took  0.014385461807250977 to produce a step size of  4.8988633282716054e-05\n",
      "At iteration  306 The line search took  0.019345521926879883 to produce a step size of  8.469270279744838e-05\n",
      "At iteration  307 The line search took  0.023348569869995117 to produce a step size of  0.00010143611031168285\n",
      "At iteration  308 The line search took  0.0049610137939453125 to produce a step size of  2.719177954941004e-05\n",
      "At iteration  309 The line search took  0.005951881408691406 to produce a step size of  5.004604993811225e-05\n",
      "At iteration  310 The line search took  0.02827906608581543 to produce a step size of  0.0011343476519573043\n",
      "At iteration  311 The line search took  0.12499189376831055 to produce a step size of  7.172827735766314e-05\n",
      "At iteration  312 The line search took  0.012896060943603516 to produce a step size of  7.136287536695932e-05\n",
      "At iteration  313 The line search took  0.021823883056640625 to produce a step size of  6.94942011041926e-05\n",
      "At iteration  314 The line search took  0.011407852172851562 to produce a step size of  5.1860808991120826e-05\n"
     ]
    },
    {
     "name": "stdout",
     "output_type": "stream",
     "text": [
      "At iteration  315 The line search took  0.012400150299072266 to produce a step size of  4.7868938876199675e-05\n",
      "At iteration  316 The line search took  0.003968000411987305 to produce a step size of  1.5415085906604405e-05\n",
      "At iteration  317 The line search took  0.004959821701049805 to produce a step size of  0.00032365735756576284\n",
      "At iteration  318 The line search took  0.01041555404663086 to produce a step size of  6.272055086136024e-05\n",
      "At iteration  319 The line search took  0.00892782211303711 to produce a step size of  3.1233076179729114e-05\n",
      "At iteration  320 The line search took  0.007935762405395508 to produce a step size of  5.834817562965111e-05\n",
      "At iteration  321 The line search took  0.01686382293701172 to produce a step size of  0.00025840395276333403\n",
      "At iteration  322 The line search took  0.008928060531616211 to produce a step size of  4.2056727889095825e-05\n",
      "At iteration  323 The line search took  0.0039675235748291016 to produce a step size of  0.00010170014377637975\n",
      "At iteration  324 The line search took  0.006448030471801758 to produce a step size of  3.505411980000951e-05\n",
      "At iteration  325 The line search took  0.0029761791229248047 to produce a step size of  0.0011532148967615264\n",
      "At iteration  326 The line search took  0.017347097396850586 to produce a step size of  6.943790562906896e-05\n",
      "At iteration  327 The line search took  0.006447315216064453 to produce a step size of  0.0003724599795726842\n",
      "At iteration  328 The line search took  0.020335912704467773 to produce a step size of  5.027052077210803e-05\n",
      "At iteration  329 The line search took  0.015376091003417969 to produce a step size of  8.654047286749032e-05\n",
      "At iteration  330 The line search took  0.011904001235961914 to produce a step size of  5.786462796999269e-05\n",
      "At iteration  331 The line search took  0.005952119827270508 to produce a step size of  0.00018558820284021802\n",
      "At iteration  332 The line search took  0.00347137451171875 to produce a step size of  1.530258742718716e-05\n",
      "At iteration  333 The line search took  0.057039737701416016 to produce a step size of  6.573223675041512e-05\n",
      "At iteration  334 The line search took  0.039183855056762695 to produce a step size of  0.00010894658771793435\n",
      "At iteration  335 The line search took  0.04364776611328125 to produce a step size of  7.08624821343373e-05\n",
      "At iteration  336 The line search took  0.24849605560302734 to produce a step size of  7.80954161101235e-05\n",
      "At iteration  337 The line search took  0.014859676361083984 to produce a step size of  4.8088134605668806e-05\n",
      "At iteration  338 The line search took  0.020832538604736328 to produce a step size of  7.224034799741178e-05\n",
      "At iteration  339 The line search took  0.01491546630859375 to produce a step size of  4.367695496149932e-05\n",
      "At iteration  340 The line search took  0.15622282028198242 to produce a step size of  0.0008997094272485277\n",
      "At iteration  341 The line search took  0.013391733169555664 to produce a step size of  5.080677586433293e-05\n",
      "At iteration  342 The line search took  0.03372931480407715 to produce a step size of  7.600595128790238e-05\n",
      "At iteration  343 The line search took  0.006447792053222656 to produce a step size of  5.64981496071473e-05\n",
      "At iteration  344 The line search took  0.007935762405395508 to produce a step size of  7.487385218431739e-05\n",
      "At iteration  345 The line search took  0.041663408279418945 to produce a step size of  0.00011598744468373108\n",
      "At iteration  346 The line search took  0.004959821701049805 to produce a step size of  7.2937758892724e-05\n",
      "At iteration  347 The line search took  0.007439613342285156 to produce a step size of  6.561184247058047e-05\n",
      "At iteration  348 The line search took  0.02480006217956543 to produce a step size of  6.8293257816066e-05\n",
      "At iteration  349 The line search took  0.00942373275756836 to produce a step size of  4.727210900548334e-05\n",
      "At iteration  350 The line search took  0.06844758987426758 to produce a step size of  0.00029332678187425827\n",
      "At iteration  351 The line search took  0.003471851348876953 to produce a step size of  4.411454077308767e-05\n",
      "At iteration  352 The line search took  0.007935762405395508 to produce a step size of  5.0957385653536036e-05\n",
      "At iteration  353 The line search took  0.0034720897674560547 to produce a step size of  2.1180882296824925e-05\n",
      "At iteration  354 The line search took  0.012398958206176758 to produce a step size of  0.0007804414821536076\n",
      "At iteration  355 The line search took  0.0059392452239990234 to produce a step size of  4.84401769130318e-05\n",
      "At iteration  356 The line search took  0.00991964340209961 to produce a step size of  3.726039249386412e-05\n",
      "At iteration  357 The line search took  0.010415792465209961 to produce a step size of  0.00027453010729535656\n",
      "At iteration  358 The line search took  0.0034720897674560547 to produce a step size of  0.00010432249315645565\n",
      "At iteration  359 The line search took  0.00843191146850586 to produce a step size of  9.666578025482368e-05\n",
      "At iteration  360 The line search took  0.01686382293701172 to produce a step size of  4.586817456961539e-05\n",
      "At iteration  361 The line search took  0.03471970558166504 to produce a step size of  0.0008858494484011632\n",
      "At iteration  362 The line search took  0.011407852172851562 to produce a step size of  5.154385458811628e-05\n",
      "At iteration  363 The line search took  0.0029757022857666016 to produce a step size of  9.110419337898705e-05\n",
      "At iteration  364 The line search took  0.00793600082397461 to produce a step size of  6.333550144620264e-05\n",
      "At iteration  365 The line search took  0.003968000411987305 to produce a step size of  0.0002377107981579517\n",
      "At iteration  366 The line search took  0.006448030471801758 to produce a step size of  4.292746926877404e-05\n",
      "At iteration  367 The line search took  0.0044634342193603516 to produce a step size of  6.536434234481041e-05\n",
      "At iteration  368 The line search took  0.0441436767578125 to produce a step size of  9.599678588046859e-05\n",
      "At iteration  369 The line search took  0.06745600700378418 to produce a step size of  7.0392026430922e-05\n",
      "At iteration  370 The line search took  0.005456209182739258 to produce a step size of  0.00014981616370220876\n",
      "At iteration  371 The line search took  0.03625750541687012 to produce a step size of  6.456637091132045e-05\n",
      "At iteration  372 The line search took  0.011407136917114258 to produce a step size of  6.719288038837135e-05\n",
      "At iteration  373 The line search took  0.013887405395507812 to produce a step size of  6.437788217253264e-05\n",
      "At iteration  374 The line search took  0.004960060119628906 to produce a step size of  0.00013664642510471443\n",
      "At iteration  375 The line search took  0.004450321197509766 to produce a step size of  3.6368006754233045e-05\n",
      "At iteration  376 The line search took  0.20187163352966309 to produce a step size of  0.01019360723512041\n",
      "At iteration  377 The line search took  0.025296449661254883 to produce a step size of  6.77415486198923e-05\n",
      "At iteration  378 The line search took  0.01785588264465332 to produce a step size of  4.661544420183877e-05\n",
      "At iteration  379 The line search took  0.023311853408813477 to produce a step size of  6.944178461099698e-05\n",
      "At iteration  380 The line search took  0.07291531562805176 to produce a step size of  6.630213695802457e-05\n",
      "At iteration  381 The line search took  0.005455493927001953 to produce a step size of  6.324656489448409e-05\n",
      "At iteration  382 The line search took  0.006947040557861328 to produce a step size of  3.0287963519059856e-05\n",
      "At iteration  383 The line search took  0.01091146469116211 to produce a step size of  0.0012785289210559218\n",
      "At iteration  384 The line search took  0.06001567840576172 to produce a step size of  6.657500157000378e-05\n",
      "At iteration  385 The line search took  0.011904001235961914 to produce a step size of  4.589221667895997e-05\n",
      "At iteration  386 The line search took  0.05059242248535156 to produce a step size of  7.251786110654804e-05\n",
      "At iteration  387 The line search took  0.004961729049682617 to produce a step size of  9.22417089744749e-05\n",
      "At iteration  388 The line search took  0.010911941528320312 to produce a step size of  4.3475720907668576e-05\n",
      "At iteration  389 The line search took  0.06249594688415527 to produce a step size of  0.0006681463508845517\n",
      "At iteration  390 The line search took  0.0813438892364502 to produce a step size of  6.73485672170127e-05\n"
     ]
    },
    {
     "name": "stdout",
     "output_type": "stream",
     "text": [
      "At iteration  391 The line search took  0.020882606506347656 to produce a step size of  5.425094004128446e-05\n",
      "At iteration  392 The line search took  0.006447792053222656 to produce a step size of  6.200779025246816e-05\n",
      "At iteration  393 The line search took  0.0054473876953125 to produce a step size of  0.00015041721632606047\n",
      "At iteration  394 The line search took  0.004463672637939453 to produce a step size of  3.51180408884685e-05\n",
      "At iteration  395 The line search took  0.04364776611328125 to produce a step size of  0.0005852412184064437\n",
      "At iteration  396 The line search took  0.047617435455322266 to produce a step size of  6.85827533934133e-05\n",
      "At iteration  397 The line search took  0.029786109924316406 to produce a step size of  7.947288724206483e-05\n",
      "At iteration  398 The line search took  0.013939857482910156 to produce a step size of  6.17178472675659e-05\n",
      "At iteration  399 The line search took  0.02475142478942871 to produce a step size of  6.811605796449088e-05\n",
      "At iteration  400 The line search took  0.05208158493041992 to produce a step size of  0.00015005787812286283\n",
      "At iteration  401 The line search took  0.06844758987426758 to produce a step size of  7.266596737889621e-05\n",
      "At iteration  402 The line search took  0.019840478897094727 to produce a step size of  6.351965092455284e-05\n",
      "At iteration  403 The line search took  0.022815465927124023 to produce a step size of  5.0028628624171776e-05\n",
      "At iteration  404 The line search took  0.007439851760864258 to produce a step size of  4.679111571797862e-05\n",
      "At iteration  405 The line search took  0.004463911056518555 to produce a step size of  0.00014003170754324143\n",
      "At iteration  406 The line search took  0.011903762817382812 to produce a step size of  5.397379543043841e-05\n",
      "At iteration  407 The line search took  0.011408329010009766 to produce a step size of  6.53166463847155e-05\n",
      "At iteration  408 The line search took  0.04910469055175781 to produce a step size of  0.00026617831546876195\n",
      "At iteration  409 The line search took  0.006447792053222656 to produce a step size of  6.992525804655409e-05\n",
      "At iteration  410 The line search took  0.0391843318939209 to produce a step size of  6.774466705026429e-05\n",
      "At iteration  411 The line search took  0.07092761993408203 to produce a step size of  6.751201288069258e-05\n",
      "At iteration  412 The line search took  0.015375852584838867 to produce a step size of  7.707902302603713e-05\n",
      "At iteration  413 The line search took  0.005456209182739258 to produce a step size of  3.1298348055144985e-05\n",
      "At iteration  414 The line search took  0.12796759605407715 to produce a step size of  0.0005189743612707847\n",
      "At iteration  415 The line search took  0.0461277961730957 to produce a step size of  6.336784562044967e-05\n",
      "At iteration  416 The line search took  0.006943941116333008 to produce a step size of  3.3383595111567076e-05\n",
      "At iteration  417 The line search took  0.004463672637939453 to produce a step size of  0.0006491210219457523\n",
      "At iteration  418 The line search took  0.01884770393371582 to produce a step size of  4.673222029672738e-05\n",
      "At iteration  419 The line search took  0.005951642990112305 to produce a step size of  5.218047014449068e-05\n",
      "At iteration  420 The line search took  0.011903762817382812 to produce a step size of  7.189943845613723e-05\n",
      "At iteration  421 The line search took  0.06348896026611328 to produce a step size of  6.886849641340259e-05\n",
      "At iteration  422 The line search took  0.3883676528930664 to produce a step size of  0.0006155055547443292\n",
      "At iteration  423 The line search took  0.03471994400024414 to produce a step size of  7.196819557102671e-05\n",
      "At iteration  424 The line search took  0.01884770393371582 to produce a step size of  5.9431224605638275e-05\n",
      "At iteration  425 The line search took  0.003958463668823242 to produce a step size of  7.059284720612233e-05\n",
      "At iteration  426 The line search took  0.004463672637939453 to produce a step size of  3.052252418357465e-05\n",
      "At iteration  427 The line search took  0.00892782211303711 to produce a step size of  0.00018262720611560837\n",
      "At iteration  428 The line search took  0.007439851760864258 to produce a step size of  4.330295082576814e-05\n",
      "At iteration  429 The line search took  0.06447982788085938 to produce a step size of  0.0006144949048819139\n",
      "At iteration  430 The line search took  0.9180974960327148 to produce a step size of  7.300060621450454e-05\n",
      "At iteration  431 The line search took  0.01636958122253418 to produce a step size of  6.702529047749047e-05\n",
      "At iteration  432 The line search took  0.005939960479736328 to produce a step size of  2.03591446946054e-05\n",
      "At iteration  433 The line search took  0.026822566986083984 to produce a step size of  6.216388130531897e-05\n",
      "At iteration  434 The line search took  0.012400150299072266 to produce a step size of  5.720369440668851e-05\n",
      "At iteration  435 The line search took  0.011407852172851562 to produce a step size of  0.0001483958795427656\n",
      "At iteration  436 The line search took  0.002511739730834961 to produce a step size of  2.495219372021492e-05\n",
      "At iteration  437 The line search took  0.06596803665161133 to produce a step size of  0.00033988020234893213\n",
      "At iteration  438 The line search took  0.01143503189086914 to produce a step size of  5.95669349246807e-05\n",
      "At iteration  439 The line search took  0.00545501708984375 to produce a step size of  6.430516424880439e-05\n",
      "At iteration  440 The line search took  0.006943464279174805 to produce a step size of  1.4404209558260531e-05\n",
      "At iteration  441 The line search took  0.05406379699707031 to produce a step size of  6.947217398124146e-05\n",
      "At iteration  442 The line search took  0.003967761993408203 to produce a step size of  2.1303807428354563e-05\n",
      "At iteration  443 The line search took  0.002988100051879883 to produce a step size of  4.704133763888778e-05\n",
      "At iteration  444 The line search took  0.0029757022857666016 to produce a step size of  8.127352606905986e-05\n",
      "At iteration  445 The line search took  0.005455732345581055 to produce a step size of  5.2249439098863065e-05\n",
      "At iteration  446 The line search took  0.009920120239257812 to produce a step size of  0.0007540017440539671\n",
      "At iteration  447 The line search took  0.011904001235961914 to produce a step size of  4.2310735253969104e-05\n",
      "At iteration  448 The line search took  0.011903762817382812 to produce a step size of  0.0002215994053380986\n",
      "At iteration  449 The line search took  0.012895822525024414 to produce a step size of  4.478635299851063e-05\n",
      "At iteration  450 The line search took  0.0034716129302978516 to produce a step size of  0.00032636850491858053\n",
      "At iteration  451 The line search took  0.008927583694458008 to produce a step size of  7.188704520902344e-05\n",
      "At iteration  452 The line search took  0.08333134651184082 to produce a step size of  7.043292722083042e-05\n",
      "At iteration  453 The line search took  0.0069463253021240234 to produce a step size of  4.837560075630921e-05\n",
      "At iteration  454 The line search took  0.01934504508972168 to produce a step size of  0.00016345759661935726\n",
      "At iteration  455 The line search took  0.009919404983520508 to produce a step size of  5.4864150945685315e-05\n",
      "At iteration  456 The line search took  0.013391971588134766 to produce a step size of  0.00017736980086385215\n",
      "At iteration  457 The line search took  0.008968591690063477 to produce a step size of  5.9184746919574294e-05\n",
      "At iteration  458 The line search took  0.007439613342285156 to produce a step size of  4.6667654669971777e-05\n",
      "At iteration  459 The line search took  0.02827286720275879 to produce a step size of  6.869506864711184e-05\n",
      "At iteration  460 The line search took  0.011903762817382812 to produce a step size of  6.63548597985082e-05\n",
      "At iteration  461 The line search took  0.44739246368408203 to produce a step size of  0.0003480185701765176\n",
      "At iteration  462 The line search took  0.004463911056518555 to produce a step size of  3.9771210483130616e-05\n",
      "At iteration  463 The line search took  0.014383554458618164 to produce a step size of  0.00035841858176512565\n",
      "At iteration  464 The line search took  0.00942373275756836 to produce a step size of  3.132085820852127e-05\n",
      "At iteration  465 The line search took  0.2559678554534912 to produce a step size of  0.00029894716224763144\n"
     ]
    },
    {
     "name": "stdout",
     "output_type": "stream",
     "text": [
      "At iteration  466 The line search took  0.015378713607788086 to produce a step size of  4.2867648008047485e-05\n",
      "At iteration  467 The line search took  0.00942373275756836 to produce a step size of  6.00304958067353e-05\n",
      "At iteration  468 The line search took  0.01289510726928711 to produce a step size of  3.313393418367416e-05\n",
      "At iteration  469 The line search took  0.006007194519042969 to produce a step size of  0.0006135041119615683\n",
      "At iteration  470 The line search took  0.25690364837646484 to produce a step size of  0.00015462331868535222\n",
      "At iteration  471 The line search took  0.46128153800964355 to produce a step size of  7.403018237425595e-05\n",
      "At iteration  472 The line search took  0.03273630142211914 to produce a step size of  6.0652195582952396e-05\n",
      "At iteration  473 The line search took  0.023311376571655273 to produce a step size of  0.00012032275624305965\n",
      "At iteration  474 The line search took  0.14190006256103516 to produce a step size of  6.991656900762854e-05\n",
      "At iteration  475 The line search took  0.0049593448638916016 to produce a step size of  6.167429664881193e-05\n",
      "At iteration  476 The line search took  0.00991964340209961 to produce a step size of  4.102538437875344e-05\n",
      "At iteration  477 The line search took  0.003471851348876953 to produce a step size of  0.0002017741626009439\n",
      "At iteration  478 The line search took  0.005959033966064453 to produce a step size of  7.486692774769227e-05\n",
      "At iteration  479 The line search took  0.010895729064941406 to produce a step size of  4.897582376716454e-05\n",
      "At iteration  480 The line search took  0.017358064651489258 to produce a step size of  6.404185238318199e-05\n",
      "At iteration  481 The line search took  0.0019838809967041016 to produce a step size of  8.651749224938767e-05\n",
      "At iteration  482 The line search took  0.03670358657836914 to produce a step size of  0.00018704910474640852\n",
      "At iteration  483 The line search took  0.012400150299072266 to produce a step size of  5.6503004976391855e-05\n",
      "At iteration  484 The line search took  0.00843191146850586 to produce a step size of  0.0001738273508808552\n",
      "At iteration  485 The line search took  0.005456209182739258 to produce a step size of  1.1365773722971384e-05\n",
      "At iteration  486 The line search took  0.04417610168457031 to produce a step size of  7.096370893811533e-05\n",
      "At iteration  487 The line search took  0.004463911056518555 to produce a step size of  4.715331663989844e-05\n",
      "At iteration  488 The line search took  0.008429527282714844 to produce a step size of  0.00014983942345940792\n",
      "At iteration  489 The line search took  0.051584482192993164 to produce a step size of  7.784394858118515e-05\n",
      "At iteration  490 The line search took  0.003471851348876953 to produce a step size of  1.6678742435239418e-05\n",
      "At iteration  491 The line search took  0.1081552505493164 to produce a step size of  0.00016047979897721698\n",
      "At iteration  492 The line search took  0.15425610542297363 to produce a step size of  7.31135328950381e-05\n",
      "At iteration  493 The line search took  0.006447553634643555 to produce a step size of  2.2788435219161443e-05\n",
      "At iteration  494 The line search took  0.028768062591552734 to produce a step size of  6.341406644652335e-05\n",
      "At iteration  495 The line search took  0.003967761993408203 to produce a step size of  1.5042948004155333e-05\n",
      "At iteration  496 The line search took  0.015381336212158203 to produce a step size of  0.00014033919804261582\n",
      "At iteration  497 The line search took  0.010912656784057617 to produce a step size of  6.749581123886106e-05\n",
      "At iteration  498 The line search took  0.0029757022857666016 to produce a step size of  3.8625692194961414e-05\n",
      "At iteration  499 The line search took  0.024303913116455078 to produce a step size of  0.0006992123090433749\n",
      "At iteration  500 The line search took  1.1675853729248047 to produce a step size of  7.647604551351161e-05\n",
      "At iteration  501 The line search took  0.008431673049926758 to produce a step size of  4.987969355105129e-05\n",
      "At iteration  502 The line search took  0.004464149475097656 to produce a step size of  5.7835151752412094e-05\n",
      "At iteration  503 The line search took  0.0034716129302978516 to produce a step size of  5.2434182689039386e-05\n",
      "At iteration  504 The line search took  0.02876758575439453 to produce a step size of  0.0007838523858231681\n",
      "At iteration  505 The line search took  0.009921550750732422 to produce a step size of  3.691157639333251e-05\n",
      "At iteration  506 The line search took  0.00247955322265625 to produce a step size of  0.0006302947172305412\n",
      "At iteration  507 The line search took  0.007439613342285156 to produce a step size of  5.9877598333202885e-05\n",
      "At iteration  508 The line search took  0.005978822708129883 to produce a step size of  0.00012706469560764397\n",
      "At iteration  509 The line search took  0.03363490104675293 to produce a step size of  0.0001620586883060797\n",
      "At iteration  510 The line search took  0.05006051063537598 to produce a step size of  6.328060693365288e-05\n",
      "At iteration  511 The line search took  0.0029761791229248047 to produce a step size of  7.179148040417736e-06\n",
      "At iteration  512 The line search took  0.00596165657043457 to produce a step size of  2.658463497137907e-05\n",
      "At iteration  513 The line search took  0.015372514724731445 to produce a step size of  0.00025455305116402254\n",
      "At iteration  514 The line search took  0.013391733169555664 to produce a step size of  7.106490282989034e-05\n",
      "At iteration  515 The line search took  0.01686406135559082 to produce a step size of  0.00012190031363373373\n",
      "At iteration  516 The line search took  0.003968000411987305 to produce a step size of  9.571360675305847e-06\n",
      "At iteration  517 The line search took  0.006943941116333008 to produce a step size of  2.0823173942390802e-05\n",
      "At iteration  518 The line search took  0.014879941940307617 to produce a step size of  7.517777699443485e-05\n",
      "At iteration  519 The line search took  0.01835155487060547 to produce a step size of  4.79816993824935e-05\n",
      "At iteration  520 The line search took  0.03422403335571289 to produce a step size of  0.0002054838124314557\n",
      "At iteration  521 The line search took  0.011407613754272461 to produce a step size of  3.869583986785282e-05\n",
      "At iteration  522 The line search took  0.019865989685058594 to produce a step size of  0.0007435582268654356\n",
      "At iteration  523 The line search took  0.00497746467590332 to produce a step size of  7.281661670682855e-05\n",
      "At iteration  524 The line search took  0.009423971176147461 to produce a step size of  4.0673483890307044e-05\n",
      "At iteration  525 The line search took  0.07539153099060059 to produce a step size of  7.263398293417713e-05\n",
      "At iteration  526 The line search took  0.005455970764160156 to produce a step size of  0.00011749097363536028\n",
      "At iteration  527 The line search took  0.027280330657958984 to produce a step size of  0.00011822946443513738\n",
      "At iteration  528 The line search took  0.010911703109741211 to produce a step size of  7.061530170645823e-05\n",
      "At iteration  529 The line search took  0.021327733993530273 to produce a step size of  6.953454515202037e-05\n",
      "At iteration  530 The line search took  0.05852699279785156 to produce a step size of  9.752949183240204e-05\n",
      "At iteration  531 The line search took  0.005952119827270508 to produce a step size of  2.48926322726154e-05\n",
      "At iteration  532 The line search took  0.013887166976928711 to produce a step size of  4.096435339602848e-05\n",
      "At iteration  533 The line search took  0.013391971588134766 to produce a step size of  5.010055962801106e-05\n",
      "At iteration  534 The line search took  0.008430957794189453 to produce a step size of  0.00010090123965577129\n",
      "At iteration  535 The line search took  0.00843191146850586 to produce a step size of  8.038004431980641e-05\n",
      "At iteration  536 The line search took  0.004934072494506836 to produce a step size of  1.497138535545668e-05\n",
      "At iteration  537 The line search took  0.002975940704345703 to produce a step size of  0.0004901562039645663\n",
      "At iteration  538 The line search took  0.004463672637939453 to produce a step size of  2.5592525816055165e-05\n",
      "At iteration  539 The line search took  0.013876914978027344 to produce a step size of  0.0006067824462576222\n",
      "At iteration  540 The line search took  0.1383833885192871 to produce a step size of  7.155102962319614e-05\n",
      "At iteration  541 The line search took  0.02480006217956543 to produce a step size of  8.369773969218742e-05\n",
      "At iteration  542 The line search took  0.004463911056518555 to produce a step size of  5.1523420593819295e-05\n",
      "At iteration  543 The line search took  0.007439851760864258 to produce a step size of  6.168450564708677e-05\n",
      "At iteration  544 The line search took  0.015872955322265625 to produce a step size of  6.545457802685056e-05\n",
      "At iteration  545 The line search took  0.09572792053222656 to produce a step size of  0.00020044729076897164\n",
      "At iteration  546 The line search took  0.005951881408691406 to produce a step size of  2.782564574411318e-05\n",
      "At iteration  547 The line search took  0.314960241317749 to produce a step size of  0.00016700834500061066\n",
      "At iteration  548 The line search took  0.03273606300354004 to produce a step size of  5.9399692693049166e-05\n",
      "At iteration  549 The line search took  0.021332263946533203 to produce a step size of  4.9569457760671815e-05\n",
      "At iteration  550 The line search took  0.025297164916992188 to produce a step size of  6.302205433312473e-05\n",
      "At iteration  551 The line search took  0.06743454933166504 to produce a step size of  0.0002292704859095568\n"
     ]
    },
    {
     "name": "stdout",
     "output_type": "stream",
     "text": [
      "At iteration  552 The line search took  0.02185511589050293 to produce a step size of  6.265964154539503e-05\n",
      "At iteration  553 The line search took  0.009423494338989258 to produce a step size of  6.964827936912551e-05\n",
      "At iteration  554 The line search took  0.02529597282409668 to produce a step size of  0.00013194042313684055\n",
      "At iteration  555 The line search took  0.02829766273498535 to produce a step size of  6.749549228974982e-05\n",
      "At iteration  556 The line search took  0.005455493927001953 to produce a step size of  7.25557736505005e-05\n",
      "At iteration  557 The line search took  0.021327972412109375 to produce a step size of  5.762332247247117e-05\n",
      "At iteration  558 The line search took  0.010415792465209961 to produce a step size of  5.2895333068637247e-05\n",
      "At iteration  559 The line search took  0.022319793701171875 to produce a step size of  0.00026565808581923415\n",
      "At iteration  560 The line search took  0.2038559913635254 to produce a step size of  7.167077221519718e-05\n",
      "At iteration  561 The line search took  0.011904478073120117 to produce a step size of  3.571445135797875e-05\n",
      "At iteration  562 The line search took  0.007428646087646484 to produce a step size of  2.770648386324172e-05\n",
      "At iteration  563 The line search took  0.004463911056518555 to produce a step size of  0.0015583872121952705\n",
      "At iteration  564 The line search took  0.00793600082397461 to produce a step size of  6.748235209056665e-05\n",
      "At iteration  565 The line search took  0.05257606506347656 to produce a step size of  0.00010182669360769485\n",
      "At iteration  566 The line search took  0.032239437103271484 to produce a step size of  0.00011091163515660022\n",
      "At iteration  567 The line search took  0.014879703521728516 to produce a step size of  5.272807019212734e-05\n",
      "At iteration  568 The line search took  0.007439851760864258 to produce a step size of  3.92938096661895e-05\n",
      "At iteration  569 The line search took  0.019840002059936523 to produce a step size of  0.0017915328088843178\n",
      "At iteration  570 The line search took  0.03422379493713379 to produce a step size of  7.253491496700642e-05\n",
      "At iteration  571 The line search took  0.013391733169555664 to produce a step size of  6.180581555942828e-05\n",
      "At iteration  572 The line search took  0.003968000411987305 to produce a step size of  4.255271475219894e-05\n",
      "At iteration  573 The line search took  0.00991964340209961 to produce a step size of  5.717729534860017e-05\n",
      "At iteration  574 The line search took  0.016377925872802734 to produce a step size of  0.00020554887933515447\n",
      "At iteration  575 The line search took  0.031247615814208984 to produce a step size of  6.876490006387668e-05\n",
      "At iteration  576 The line search took  0.016367673873901367 to produce a step size of  6.814684496899239e-05\n",
      "At iteration  577 The line search took  0.012400150299072266 to produce a step size of  0.00010028279352874894\n",
      "At iteration  578 The line search took  0.003471851348876953 to produce a step size of  2.2019684971502902e-05\n",
      "At iteration  579 The line search took  0.029264211654663086 to produce a step size of  7.20726218278969e-05\n",
      "At iteration  580 The line search took  0.012399673461914062 to produce a step size of  9.019077474231047e-05\n",
      "At iteration  581 The line search took  0.023311853408813477 to produce a step size of  5.0805564537181704e-05\n",
      "At iteration  582 The line search took  0.012896060943603516 to produce a step size of  0.00023706304809949995\n",
      "At iteration  583 The line search took  0.038687705993652344 to produce a step size of  6.406342294488098e-05\n",
      "At iteration  584 The line search took  0.012399673461914062 to produce a step size of  6.452888885304464e-05\n",
      "At iteration  585 The line search took  0.003471851348876953 to produce a step size of  2.0801728037038292e-05\n",
      "At iteration  586 The line search took  0.023311853408813477 to produce a step size of  6.352329733488276e-05\n",
      "At iteration  587 The line search took  0.005455732345581055 to produce a step size of  0.0001185228603040456\n",
      "At iteration  588 The line search took  0.016864299774169922 to produce a step size of  5.138982091533008e-05\n",
      "At iteration  589 The line search took  0.020831584930419922 to produce a step size of  0.000175893992450859\n",
      "At iteration  590 The line search took  0.03224015235900879 to produce a step size of  7.027219549944098e-05\n",
      "At iteration  591 The line search took  0.028768062591552734 to produce a step size of  8.81689399987205e-05\n",
      "At iteration  592 The line search took  0.002975940704345703 to produce a step size of  1.1006799053374726e-05\n",
      "At iteration  593 The line search took  0.004463911056518555 to produce a step size of  2.9597454021235458e-05\n",
      "At iteration  594 The line search took  0.004959821701049805 to produce a step size of  0.00025725263771036614\n",
      "At iteration  595 The line search took  0.010416030883789062 to produce a step size of  4.0859618294697874e-05\n",
      "At iteration  596 The line search took  0.16962385177612305 to produce a step size of  0.0005500033038837804\n",
      "At iteration  597 The line search took  0.014384031295776367 to produce a step size of  7.144195877721823e-05\n",
      "At iteration  598 The line search took  0.009423971176147461 to produce a step size of  3.2346827634257736e-05\n",
      "At iteration  599 The line search took  0.005951642990112305 to produce a step size of  0.0002153837492997854\n",
      "At iteration  600 The line search took  0.005952119827270508 to produce a step size of  3.1342768209803515e-05\n",
      "At iteration  601 The line search took  0.010911703109741211 to produce a step size of  0.00041518446642177124\n",
      "At iteration  602 The line search took  0.004959583282470703 to produce a step size of  4.80933273278435e-05\n",
      "At iteration  603 The line search took  0.007439613342285156 to produce a step size of  7.290969492122715e-05\n",
      "At iteration  604 The line search took  0.15276765823364258 to produce a step size of  0.00021119590752788188\n",
      "At iteration  605 The line search took  0.006944894790649414 to produce a step size of  2.6400921493773344e-05\n",
      "At iteration  606 The line search took  0.0054552555084228516 to produce a step size of  2.4780312950597772e-05\n",
      "At iteration  607 The line search took  0.003968000411987305 to produce a step size of  1.4993518357998117e-05\n",
      "At iteration  608 The line search took  0.004463672637939453 to produce a step size of  1.3130042281835046e-05\n",
      "At iteration  609 The line search took  0.05059218406677246 to produce a step size of  0.0014407688653709587\n",
      "At iteration  610 The line search took  0.02281665802001953 to produce a step size of  6.154330023311726e-05\n",
      "At iteration  611 The line search took  0.005456209182739258 to produce a step size of  3.9751169971005016e-05\n",
      "At iteration  612 The line search took  0.006448030471801758 to produce a step size of  5.206109038580184e-05\n",
      "At iteration  613 The line search took  0.004962921142578125 to produce a step size of  7.0508842068581776e-06\n",
      "At iteration  614 The line search took  0.02528858184814453 to produce a step size of  0.0012913240299617236\n",
      "At iteration  615 The line search took  0.00942373275756836 to produce a step size of  2.9022666451199648e-05\n",
      "At iteration  616 The line search took  0.005456209182739258 to produce a step size of  1.8077969642833677e-05\n",
      "At iteration  617 The line search took  0.007935523986816406 to produce a step size of  9.067639188037815e-05\n",
      "At iteration  618 The line search took  0.022815704345703125 to produce a step size of  0.00021713354178833178\n",
      "At iteration  619 The line search took  0.013877391815185547 to produce a step size of  6.76311234436312e-05\n",
      "At iteration  620 The line search took  0.012895584106445312 to produce a step size of  4.8828220896860896e-05\n",
      "At iteration  621 The line search took  0.029760122299194336 to produce a step size of  0.0001238505975612325\n",
      "At iteration  622 The line search took  0.11160087585449219 to produce a step size of  6.90128300116681e-05\n",
      "At iteration  623 The line search took  0.005455970764160156 to produce a step size of  5.335647162205632e-05\n",
      "At iteration  624 The line search took  0.005952358245849609 to produce a step size of  0.00015734541676582292\n",
      "At iteration  625 The line search took  0.06348848342895508 to produce a step size of  6.446847438865899e-05\n",
      "At iteration  626 The line search took  0.013912200927734375 to produce a step size of  4.5125349522338324e-05\n",
      "At iteration  627 The line search took  0.7216799259185791 to produce a step size of  0.0002681860909313247\n",
      "At iteration  628 The line search took  0.00793600082397461 to produce a step size of  5.9932940403111687e-05\n",
      "At iteration  629 The line search took  0.01686406135559082 to produce a step size of  0.00010140107274005833\n",
      "At iteration  630 The line search took  0.008966922760009766 to produce a step size of  4.2107882524165605e-05\n",
      "At iteration  631 The line search took  0.011903524398803711 to produce a step size of  3.932277683379994e-05\n",
      "At iteration  632 The line search took  0.026784420013427734 to produce a step size of  0.0013549361744555474\n",
      "At iteration  633 The line search took  0.01686382293701172 to produce a step size of  5.5762979545288e-05\n",
      "At iteration  634 The line search took  0.006943702697753906 to produce a step size of  2.81092947364895e-05\n",
      "At iteration  635 The line search took  0.02380824089050293 to produce a step size of  0.000771808588577717\n"
     ]
    },
    {
     "name": "stdout",
     "output_type": "stream",
     "text": [
      "At iteration  636 The line search took  0.03323221206665039 to produce a step size of  6.723789524092269e-05\n",
      "At iteration  637 The line search took  0.009919881820678711 to produce a step size of  3.707942059889296e-05\n",
      "At iteration  638 The line search took  0.035712480545043945 to produce a step size of  0.005231223087288877\n",
      "At iteration  639 The line search took  1.128401279449463 to produce a step size of  7.280181032265366e-05\n",
      "At iteration  640 The line search took  0.039183855056762695 to produce a step size of  6.896257730180113e-05\n",
      "At iteration  641 The line search took  0.1696333885192871 to produce a step size of  7.185753168717637e-05\n",
      "At iteration  642 The line search took  0.022816181182861328 to produce a step size of  7.136317985721499e-05\n",
      "At iteration  643 The line search took  0.021849393844604492 to produce a step size of  5.5801036002121074e-05\n",
      "At iteration  644 The line search took  0.003471851348876953 to produce a step size of  7.059798649233305e-05\n",
      "At iteration  645 The line search took  0.004959821701049805 to produce a step size of  2.5711209085796133e-05\n",
      "At iteration  646 The line search took  0.0049593448638916016 to produce a step size of  0.00029866475349688937\n",
      "At iteration  647 The line search took  0.01636815071105957 to produce a step size of  7.059305232167295e-05\n",
      "At iteration  648 The line search took  0.011415958404541016 to produce a step size of  4.959339969063335e-05\n",
      "At iteration  649 The line search took  0.03372788429260254 to produce a step size of  0.0001466410310561912\n",
      "At iteration  650 The line search took  0.014384746551513672 to produce a step size of  4.93382070469512e-05\n",
      "At iteration  651 The line search took  0.02132725715637207 to produce a step size of  6.164308990652552e-05\n",
      "At iteration  652 The line search took  0.2118237018585205 to produce a step size of  0.0002548797985440197\n",
      "At iteration  653 The line search took  0.01785731315612793 to produce a step size of  5.6050956755104735e-05\n",
      "At iteration  654 The line search took  0.03472137451171875 to produce a step size of  6.0283894528240094e-05\n",
      "At iteration  655 The line search took  0.07345223426818848 to produce a step size of  0.00013495310552188015\n",
      "At iteration  656 The line search took  0.02928948402404785 to produce a step size of  7.03082526743782e-05\n",
      "At iteration  657 The line search took  0.007440090179443359 to produce a step size of  4.678821149731604e-05\n",
      "At iteration  658 The line search took  0.09076762199401855 to produce a step size of  0.00021482134040268067\n",
      "At iteration  659 The line search took  0.0064983367919921875 to produce a step size of  6.021994807998311e-05\n",
      "At iteration  660 The line search took  0.010415792465209961 to produce a step size of  4.3988061358670945e-05\n",
      "At iteration  661 The line search took  0.11660456657409668 to produce a step size of  6.839431984431497e-05\n",
      "At iteration  662 The line search took  0.022815704345703125 to produce a step size of  0.00021655992110191597\n",
      "At iteration  663 The line search took  0.0421600341796875 to produce a step size of  7.006900417481401e-05\n",
      "At iteration  664 The line search took  0.00793600082397461 to produce a step size of  6.521008245676026e-05\n",
      "At iteration  665 The line search took  0.0029757022857666016 to produce a step size of  4.150328637743975e-05\n",
      "At iteration  666 The line search took  0.008432149887084961 to produce a step size of  0.00037426144318289845\n",
      "At iteration  667 The line search took  0.003471851348876953 to produce a step size of  1.154828464210535e-05\n",
      "At iteration  668 The line search took  0.013391733169555664 to produce a step size of  4.612876569409187e-05\n",
      "At iteration  669 The line search took  0.005455732345581055 to produce a step size of  7.499566321147385e-05\n",
      "At iteration  670 The line search took  0.014879941940307617 to produce a step size of  0.00012625984165234345\n",
      "At iteration  671 The line search took  0.03571176528930664 to produce a step size of  6.948108429636292e-05\n",
      "At iteration  672 The line search took  0.029263973236083984 to produce a step size of  0.00011806846227120362\n",
      "At iteration  673 The line search took  0.006943464279174805 to produce a step size of  4.892019416339982e-05\n",
      "At iteration  674 The line search took  0.005951881408691406 to produce a step size of  7.43526322450093e-05\n",
      "At iteration  675 The line search took  0.3214080333709717 to produce a step size of  0.00014264887691011046\n",
      "At iteration  676 The line search took  0.0431520938873291 to produce a step size of  6.316199017332591e-05\n",
      "At iteration  677 The line search took  0.013391733169555664 to produce a step size of  4.915596724648267e-05\n",
      "At iteration  678 The line search took  0.009424209594726562 to produce a step size of  5.657121164935223e-05\n",
      "At iteration  679 The line search took  0.008927583694458008 to produce a step size of  9.778852127539961e-05\n",
      "At iteration  680 The line search took  0.005452632904052734 to produce a step size of  4.033234538151933e-05\n",
      "At iteration  681 The line search took  0.006447553634643555 to produce a step size of  5.033729259887773e-05\n",
      "At iteration  682 The line search took  0.007439851760864258 to produce a step size of  0.0028032564354633564\n"
     ]
    }
   ],
   "source": [
    "\n",
    "current = time.time()\n",
    "X = []\n",
    "# L = np.max(np.linalg.svd(np.matmul(A,np.array(A).transpose()))[1])\n",
    "# lamb = 1/L\n",
    "x = xVec\n",
    "count = 1\n",
    "lamb = Line(x,f,f_grad)\n",
    "step_size_list = [lamb]\n",
    "gr2 = []\n",
    "\n",
    "while np.linalg.norm(f_grad(x)) > 1e-6:\n",
    "    x1 = GD(x,lamb,f_grad)\n",
    "    x = x1\n",
    "    X.append(f(x))\n",
    "    gr2.append(np.linalg.norm(f_grad(x)))\n",
    "    count += 1\n",
    "    lamb = Line(x,f,f_grad)\n",
    "    step_size_list.append(lamb)\n",
    "#     if time.time() - current > 30:\n",
    "#         break\n",
    "#     print('x= ', x)\n",
    "#     print('lambda', lamb)\n"
   ]
  },
  {
   "cell_type": "code",
   "execution_count": 7,
   "metadata": {},
   "outputs": [
    {
     "name": "stdout",
     "output_type": "stream",
     "text": [
      "----------------------\n"
     ]
    },
    {
     "data": {
      "image/png": "[encoded data removed]",
      "text/plain": [
       "<Figure size 432x288 with 1 Axes>"
      ]
     },
     "metadata": {
      "needs_background": "light"
     },
     "output_type": "display_data"
    },
    {
     "name": "stdout",
     "output_type": "stream",
     "text": [
      "X: [7.97007324 6.03850012]\n",
      "Gradient: [3.11194516e-07 8.72930682e-07]\n",
      "Iterations: 682\n",
      "Time taken: 29.235970735549927\n",
      "Lambda:  0.0028032564354633564\n"
     ]
    }
   ],
   "source": [
    "print('----------------------')\n",
    "# plt.plot(range(len(gr2)), gr2)\n",
    "plt.plot(range(len(step_size_list)), step_size_list)\n",
    "plt.yscale('log')\n",
    "plt.show()\n",
    "print('X:', x)\n",
    "print('Gradient:', f_grad(x))\n",
    "print('Iterations:', count)\n",
    "print('Time taken:', time.time() - current)\n",
    "print('Lambda: ', lamb)"
   ]
  },
  {
   "cell_type": "code",
   "execution_count": 8,
   "metadata": {},
   "outputs": [
    {
     "data": {
      "image/png": "[encoded data removed]",
      "text/plain": [
       "<Figure size 432x288 with 1 Axes>"
      ]
     },
     "metadata": {
      "needs_background": "light"
     },
     "output_type": "display_data"
    }
   ],
   "source": [
    "plt.plot(range(len(gr2)), gr2)\n",
    "plt.yscale('log')\n",
    "plt.show()"
   ]
  },
  {
   "cell_type": "code",
   "execution_count": 52,
   "metadata": {},
   "outputs": [
    {
     "data": {
      "text/plain": [
       "6.320558439496658e-07"
      ]
     },
     "execution_count": 52,
     "metadata": {},
     "output_type": "execute_result"
    }
   ],
   "source": [
    "gr2[-1]"
   ]
  },
  {
   "cell_type": "code",
   "execution_count": 10,
   "metadata": {},
   "outputs": [
    {
     "data": {
      "image/png": "[encoded data removed]",
      "text/plain": [
       "<Figure size 432x288 with 1 Axes>"
      ]
     },
     "metadata": {
      "needs_background": "light"
     },
     "output_type": "display_data"
    }
   ],
   "source": [
    "plt.plot(range(len(X)), X)\n",
    "# plt.yscale('log')\n",
    "plt.show()"
   ]
  },
  {
   "cell_type": "code",
   "execution_count": null,
   "metadata": {},
   "outputs": [],
   "source": []
  },
  {
   "cell_type": "code",
   "execution_count": null,
   "metadata": {},
   "outputs": [],
   "source": []
  },
  {
   "cell_type": "code",
   "execution_count": null,
   "metadata": {},
   "outputs": [],
   "source": []
  },
  {
   "cell_type": "code",
   "execution_count": null,
   "metadata": {},
   "outputs": [],
   "source": []
  },
  {
   "cell_type": "markdown",
   "metadata": {},
   "source": [
    "Previous version"
   ]
  },
  {
   "cell_type": "code",
   "execution_count": null,
   "metadata": {},
   "outputs": [],
   "source": []
  },
  {
   "cell_type": "markdown",
   "metadata": {},
   "source": [
    "## Backtracking Line Search"
   ]
  },
  {
   "cell_type": "code",
   "execution_count": 13,
   "metadata": {},
   "outputs": [],
   "source": [
    "def Line(x,f,f_grad):\n",
    "    line_time = time.time()\n",
    "    rho = random.random() + 1e-20\n",
    "    c = random.random() + 1e-20\n",
    "    alph = 1\n",
    "#     gold_1 = \n",
    "#     gold_2\n",
    "    while f(x - alph*f_grad(x)) > f(x) - c*alph*np.linalg.norm(f_grad(x))**2:\n",
    "#         print('LHS: ', f(x - alph*f_grad(x)))\n",
    "#         print('RHS: ', f(x) - c*alph*np.linalg.norm(f_grad(x))**2)\n",
    "        ## is norm the right move here?\n",
    "        alph = rho*alph\n",
    "#     print('Alpha:', alph)\n",
    "    print('At iteration ', count, 'The line search took ', \\\n",
    "          time.time() - line_time , 'to produce a step size of ', alph)    \n",
    "    return alph\n",
    "    "
   ]
  },
  {
   "cell_type": "code",
   "execution_count": 14,
   "metadata": {},
   "outputs": [
    {
     "name": "stdout",
     "output_type": "stream",
     "text": [
      "At iteration  1 The line search took  0.006941795349121094 to produce a step size of  3.420440928848516e-05\n",
      "At iteration  2 The line search took  0.006448030471801758 to produce a step size of  5.277655214384802e-05\n",
      "At iteration  3 The line search took  0.023311614990234375 to produce a step size of  0.0002556200354366343\n",
      "At iteration  4 The line search took  0.03571677207946777 to produce a step size of  3.226821620119023e-05\n",
      "At iteration  5 The line search took  0.008437633514404297 to produce a step size of  0.0001295298474362168\n",
      "At iteration  6 The line search took  0.002477884292602539 to produce a step size of  6.157910105486619e-05\n",
      "At iteration  7 The line search took  0.005918025970458984 to produce a step size of  5.1747571397454645e-05\n",
      "At iteration  8 The line search took  0.0059680938720703125 to produce a step size of  0.0005781165555180079\n",
      "At iteration  9 The line search took  0.003471851348876953 to produce a step size of  4.944005591310247e-06\n",
      "At iteration  10 The line search took  0.021821975708007812 to produce a step size of  2.3548704582223788e-05\n",
      "At iteration  11 The line search took  0.007976293563842773 to produce a step size of  1.967269511368289e-05\n",
      "At iteration  12 The line search took  0.00644683837890625 to produce a step size of  9.351344348881605e-05\n",
      "At iteration  13 The line search took  0.003965616226196289 to produce a step size of  7.740162826414316e-06\n",
      "At iteration  14 The line search took  0.03075385093688965 to produce a step size of  8.920641456449527e-05\n",
      "At iteration  15 The line search took  0.00739741325378418 to produce a step size of  6.932780410429892e-05\n",
      "At iteration  16 The line search took  0.0069942474365234375 to produce a step size of  7.814283356971155e-05\n",
      "At iteration  17 The line search took  0.009377479553222656 to produce a step size of  5.315711299014954e-07\n",
      "At iteration  18 The line search took  0.24604082107543945 to produce a step size of  2.111877546362255e-05\n",
      "At iteration  19 The line search took  0.00446319580078125 to produce a step size of  4.4495491941651254e-05\n",
      "At iteration  20 The line search took  0.030231952667236328 to produce a step size of  0.0003388195321595467\n",
      "At iteration  21 The line search took  0.007970333099365234 to produce a step size of  3.249835689778071e-05\n",
      "At iteration  22 The line search took  0.002975940704345703 to produce a step size of  0.001190218331261796\n",
      "At iteration  23 The line search took  0.007431507110595703 to produce a step size of  2.7087371810068485e-05\n",
      "At iteration  24 The line search took  0.020335912704467773 to produce a step size of  9.474017572761878e-05\n",
      "At iteration  25 The line search took  0.002974987030029297 to produce a step size of  2.2274709480659593e-05\n",
      "At iteration  26 The line search took  0.002969980239868164 to produce a step size of  9.266388551028534e-06\n",
      "At iteration  27 The line search took  0.0029273033142089844 to produce a step size of  0.00014377640928042433\n",
      "At iteration  28 The line search took  0.0024814605712890625 to produce a step size of  8.39556306450999e-05\n",
      "At iteration  29 The line search took  0.005456209182739258 to produce a step size of  4.221233722716914e-05\n",
      "At iteration  30 The line search took  0.014393091201782227 to produce a step size of  0.0005550048228767381\n",
      "At iteration  31 The line search took  0.024799585342407227 to produce a step size of  1.9058156503814234e-05\n",
      "At iteration  32 The line search took  0.00396728515625 to produce a step size of  5.606968577999781e-05\n",
      "At iteration  33 The line search took  0.015902280807495117 to produce a step size of  0.0001129085303021169\n",
      "At iteration  34 The line search took  0.00940251350402832 to produce a step size of  2.00303722809604e-06\n",
      "At iteration  35 The line search took  0.0030052661895751953 to produce a step size of  2.6721330373677367e-05\n",
      "At iteration  36 The line search took  0.011905431747436523 to produce a step size of  0.00016729318670296654\n",
      "At iteration  37 The line search took  0.02974987030029297 to produce a step size of  1.843319321883183e-05\n",
      "At iteration  38 The line search took  0.003000497817993164 to produce a step size of  1.6559412839447156e-05\n",
      "At iteration  39 The line search took  0.019822359085083008 to produce a step size of  0.00011692700110560216\n",
      "At iteration  40 The line search took  0.017377853393554688 to produce a step size of  5.3155341450115905e-05\n",
      "At iteration  41 The line search took  0.060538291931152344 to produce a step size of  0.00025082137967599456\n",
      "At iteration  42 The line search took  0.08627939224243164 to produce a step size of  2.7413697885619035e-05\n",
      "At iteration  43 The line search took  0.004464864730834961 to produce a step size of  4.701283898564183e-05\n",
      "At iteration  44 The line search took  0.0044651031494140625 to produce a step size of  0.0005271234262254821\n",
      "At iteration  45 The line search took  0.005456447601318359 to produce a step size of  6.192289141195274e-05\n",
      "At iteration  46 The line search took  0.004479169845581055 to produce a step size of  2.581554660786818e-05\n",
      "At iteration  47 The line search took  0.037195444107055664 to produce a step size of  0.00018305824237487814\n",
      "At iteration  48 The line search took  0.003471851348876953 to produce a step size of  4.150059472655522e-05\n",
      "At iteration  49 The line search took  0.05355978012084961 to produce a step size of  8.128014845699903e-06\n",
      "At iteration  50 The line search took  0.009423255920410156 to produce a step size of  0.00045168869358531164\n",
      "At iteration  51 The line search took  0.017333507537841797 to produce a step size of  5.926074264226471e-05\n",
      "At iteration  52 The line search took  0.02926325798034668 to produce a step size of  7.459203231417337e-05\n",
      "At iteration  53 The line search took  0.07591414451599121 to produce a step size of  4.2878797754855155e-05\n",
      "At iteration  54 The line search took  0.014882087707519531 to produce a step size of  0.000363156826938708\n",
      "At iteration  55 The line search took  0.003968000411987305 to produce a step size of  3.586000310193066e-05\n",
      "At iteration  56 The line search took  0.0074405670166015625 to produce a step size of  0.0026035876721730903\n",
      "At iteration  57 The line search took  0.0034720897674560547 to produce a step size of  3.124497553313286e-07\n",
      "At iteration  58 The line search took  0.11904096603393555 to produce a step size of  3.891266930752768e-05\n",
      "At iteration  59 The line search took  0.013888835906982422 to produce a step size of  8.740265716448588e-05\n",
      "At iteration  60 The line search took  0.043622493743896484 to produce a step size of  7.724556525503605e-05\n",
      "At iteration  61 The line search took  0.036221981048583984 to produce a step size of  5.718283364092979e-05\n",
      "At iteration  62 The line search took  0.006447315216064453 to produce a step size of  5.8997524945945136e-05\n",
      "At iteration  63 The line search took  0.014400959014892578 to produce a step size of  0.0002822911533953273\n",
      "At iteration  64 The line search took  0.0461273193359375 to produce a step size of  6.630337270669348e-05\n",
      "At iteration  65 The line search took  0.010416269302368164 to produce a step size of  1.2113002261448682e-05\n",
      "At iteration  66 The line search took  0.10809206962585449 to produce a step size of  8.914461879671774e-05\n",
      "At iteration  67 The line search took  0.0039424896240234375 to produce a step size of  1.3071371679174883e-06\n",
      "At iteration  68 The line search took  0.008432388305664062 to produce a step size of  2.1339702217732987e-05\n",
      "At iteration  69 The line search took  0.07588052749633789 to produce a step size of  6.0623363901781334e-05\n",
      "At iteration  70 The line search took  0.0029761791229248047 to produce a step size of  8.269180324643984e-06\n",
      "At iteration  71 The line search took  0.008959531784057617 to produce a step size of  1.1084339555670626e-06\n",
      "At iteration  72 The line search took  0.0023818016052246094 to produce a step size of  6.768070444372914e-05\n",
      "At iteration  73 The line search took  0.004465579986572266 to produce a step size of  0.00023074767789983146\n",
      "At iteration  74 The line search took  0.00843191146850586 to produce a step size of  3.2370304952974334e-05\n",
      "At iteration  75 The line search took  0.09722423553466797 to produce a step size of  0.00036290832765968075\n",
      "At iteration  76 The line search took  39.93801307678223 to produce a step size of  1.4527785798554467e-05\n"
     ]
    }
   ],
   "source": [
    "\n",
    "current = time.time()\n",
    "X = []\n",
    "# L = np.max(np.linalg.svd(np.matmul(A,np.array(A).transpose()))[1])\n",
    "# lamb = 1/L\n",
    "x = xVec\n",
    "count = 1\n",
    "lamb = Line(x,f,f_grad)\n",
    "step_size_list = [lamb]\n",
    "gr2 = []\n",
    "\n",
    "while np.linalg.norm(f_grad(x)) > 1e-6:\n",
    "    x1 = GD(x,lamb,f_grad)\n",
    "    x = x1\n",
    "    X.append(f(x))\n",
    "    gr2.append(np.linalg.norm(f_grad(x)))\n",
    "    count += 1\n",
    "    lamb = Line(x,f,f_grad)\n",
    "    step_size_list.append(lamb)\n",
    "    if time.time() - current > 15:\n",
    "        break\n",
    "#     print('x= ', x)\n",
    "#     print('lambda', lamb)\n"
   ]
  },
  {
   "cell_type": "code",
   "execution_count": 15,
   "metadata": {},
   "outputs": [
    {
     "name": "stdout",
     "output_type": "stream",
     "text": [
      "----------------------\n"
     ]
    },
    {
     "data": {
      "image/png": "[encoded data removed]",
      "text/plain": [
       "<Figure size 432x288 with 1 Axes>"
      ]
     },
     "metadata": {
      "needs_background": "light"
     },
     "output_type": "display_data"
    },
    {
     "name": "stdout",
     "output_type": "stream",
     "text": [
      "X: [1.52069362 8.79922846]\n",
      "Gradient: [ 1.32563934 -7.33779044]\n",
      "Iterations: 76\n",
      "Time taken: 66.88159251213074\n",
      "Lambda:  1.4527785798554467e-05\n"
     ]
    }
   ],
   "source": [
    "print('----------------------')\n",
    "# plt.plot(range(len(gr2)), gr2)\n",
    "plt.plot(range(len(step_size_list)), step_size_list)\n",
    "plt.yscale('log')\n",
    "plt.show()\n",
    "print('X:', x)\n",
    "print('Gradient:', f_grad(x))\n",
    "print('Iterations:', count)\n",
    "print('Time taken:', time.time() - current)\n",
    "print('Lambda: ', lamb)"
   ]
  },
  {
   "cell_type": "code",
   "execution_count": 16,
   "metadata": {},
   "outputs": [
    {
     "data": {
      "image/png": "[encoded data removed]",
      "text/plain": [
       "<Figure size 432x288 with 1 Axes>"
      ]
     },
     "metadata": {
      "needs_background": "light"
     },
     "output_type": "display_data"
    }
   ],
   "source": [
    "plt.plot(range(len(gr2)), gr2)\n",
    "plt.yscale('log')\n",
    "plt.show()"
   ]
  },
  {
   "cell_type": "code",
   "execution_count": null,
   "metadata": {},
   "outputs": [],
   "source": []
  },
  {
   "cell_type": "code",
   "execution_count": null,
   "metadata": {},
   "outputs": [],
   "source": []
  },
  {
   "cell_type": "code",
   "execution_count": null,
   "metadata": {},
   "outputs": [],
   "source": []
  },
  {
   "cell_type": "code",
   "execution_count": null,
   "metadata": {},
   "outputs": [],
   "source": []
  },
  {
   "cell_type": "code",
   "execution_count": null,
   "metadata": {},
   "outputs": [],
   "source": []
  },
  {
   "cell_type": "code",
   "execution_count": null,
   "metadata": {},
   "outputs": [],
   "source": []
  },
  {
   "cell_type": "code",
   "execution_count": 27,
   "metadata": {},
   "outputs": [
    {
     "data": {
      "image/png": "[encoded data removed]",
      "text/plain": [
       "<Figure size 432x288 with 1 Axes>"
      ]
     },
     "metadata": {
      "needs_background": "light"
     },
     "output_type": "display_data"
    }
   ],
   "source": [
    "plt.plot(range(len(alph_list[980:985])), alph_list[980:985])\n",
    "plt.yscale('log')\n",
    "plt.show()"
   ]
  },
  {
   "cell_type": "code",
   "execution_count": 28,
   "metadata": {},
   "outputs": [
    {
     "data": {
      "text/plain": [
       "[0.000124243498823773,\n",
       " 7.947003602983226e-05,\n",
       " 5.4876861112153264e-05,\n",
       " 5.486364366084622e-05,\n",
       " 5.486364366084622e-05]"
      ]
     },
     "execution_count": 28,
     "metadata": {},
     "output_type": "execute_result"
    }
   ],
   "source": [
    "gr2[980:985]"
   ]
  },
  {
   "cell_type": "code",
   "execution_count": 29,
   "metadata": {},
   "outputs": [
    {
     "data": {
      "text/plain": [
       "[572.460347914123,\n",
       " 572.4603479141225,\n",
       " 572.4603479141222,\n",
       " 572.4603479141222,\n",
       " 572.4603479141222]"
      ]
     },
     "execution_count": 29,
     "metadata": {},
     "output_type": "execute_result"
    }
   ],
   "source": [
    "X[980:985]"
   ]
  },
  {
   "cell_type": "code",
   "execution_count": 32,
   "metadata": {},
   "outputs": [
    {
     "data": {
      "image/png": "[encoded data removed]",
      "text/plain": [
       "<Figure size 432x288 with 1 Axes>"
      ]
     },
     "metadata": {
      "needs_background": "light"
     },
     "output_type": "display_data"
    }
   ],
   "source": [
    "plt.plot(range(len(X[:500])), X[:500])\n",
    "plt.yscale('log')\n",
    "plt.show()"
   ]
  },
  {
   "cell_type": "code",
   "execution_count": null,
   "metadata": {},
   "outputs": [],
   "source": []
  },
  {
   "cell_type": "code",
   "execution_count": null,
   "metadata": {},
   "outputs": [],
   "source": []
  },
  {
   "cell_type": "code",
   "execution_count": null,
   "metadata": {},
   "outputs": [],
   "source": []
  },
  {
   "cell_type": "code",
   "execution_count": null,
   "metadata": {},
   "outputs": [],
   "source": []
  },
  {
   "cell_type": "code",
   "execution_count": null,
   "metadata": {},
   "outputs": [],
   "source": []
  },
  {
   "cell_type": "code",
   "execution_count": null,
   "metadata": {},
   "outputs": [],
   "source": []
  },
  {
   "cell_type": "code",
   "execution_count": null,
   "metadata": {},
   "outputs": [],
   "source": []
  },
  {
   "cell_type": "code",
   "execution_count": null,
   "metadata": {},
   "outputs": [],
   "source": []
  },
  {
   "cell_type": "code",
   "execution_count": null,
   "metadata": {},
   "outputs": [],
   "source": []
  },
  {
   "cell_type": "code",
   "execution_count": null,
   "metadata": {},
   "outputs": [],
   "source": []
  },
  {
   "cell_type": "markdown",
   "metadata": {},
   "source": [
    "### Vanilla Gradient Descent"
   ]
  },
  {
   "cell_type": "code",
   "execution_count": 22,
   "metadata": {},
   "outputs": [],
   "source": [
    "L = np.max(np.linalg.svd(np.matmul(A,np.array(A).transpose()))[1])"
   ]
  },
  {
   "cell_type": "code",
   "execution_count": 23,
   "metadata": {},
   "outputs": [
    {
     "data": {
      "text/plain": [
       "30051.721100578787"
      ]
     },
     "execution_count": 23,
     "metadata": {},
     "output_type": "execute_result"
    }
   ],
   "source": [
    "L"
   ]
  },
  {
   "cell_type": "code",
   "execution_count": 25,
   "metadata": {
    "scrolled": true
   },
   "outputs": [
    {
     "name": "stdout",
     "output_type": "stream",
     "text": [
      "----------------------\n"
     ]
    },
    {
     "data": {
      "image/png": "[encoded data removed]",
      "text/plain": [
       "<Figure size 432x288 with 1 Axes>"
      ]
     },
     "metadata": {
      "needs_background": "light"
     },
     "output_type": "display_data"
    },
    {
     "name": "stdout",
     "output_type": "stream",
     "text": [
      "X: [2.97696038 8.03044321]\n",
      "Gradient: [-9.42288779e-07  3.21379105e-07]\n",
      "Iterations: 2523\n",
      "Time taken: 2.5663037300109863\n",
      "Lambda:  3.3275964350033194e-05\n"
     ]
    }
   ],
   "source": [
    "current = time.time()\n",
    "X = []\n",
    "L = np.max(np.linalg.svd(np.matmul(A,np.array(A).transpose()))[1])\n",
    "lamb = 1/L\n",
    "x = xVec\n",
    "gr = []\n",
    "count = 1\n",
    "while np.linalg.norm(f_grad(x)) > 1e-6:\n",
    "    x1 = GD(x,lamb,f_grad)\n",
    "    x = x1\n",
    "    X.append(f(x))\n",
    "    gr.append(np.linalg.norm(f_grad(x)))\n",
    "    count += 1\n",
    "print('----------------------')\n",
    "plt.plot(range(len(gr)), gr, c='g')\n",
    "plt.yscale('log')\n",
    "plt.title(label = 'Norm of Gradient')\n",
    "plt.show()\n",
    "print('X:', x)\n",
    "print('Gradient:', f_grad(x))\n",
    "print('Iterations:', count)\n",
    "print('Time taken:', time.time() - current)\n",
    "print('Lambda: ', lamb)"
   ]
  },
  {
   "cell_type": "markdown",
   "metadata": {},
   "source": [
    "Adaptive Gradient Descent"
   ]
  },
  {
   "cell_type": "code",
   "execution_count": 28,
   "metadata": {},
   "outputs": [
    {
     "name": "stdout",
     "output_type": "stream",
     "text": [
      "----------------------\n",
      "x value [2.97696039 8.03044321]\n",
      "Gradient [ 8.43805026e-11 -4.51336746e-11]\n",
      "Iterations: 1492\n",
      "Time taken: 1.6229116916656494\n",
      "Lambda:  [0.14662867626418408, 1.676633104211331e-05, 1.6637987374467706e-05, 1.7202211627091162e-05, 1.92114811118082e-05, 0.00011819078521288929, 0.0003205181531516811, 0.00020902364502613807, 0.00012146543096276834, 7.928894413074248e-05, 4.665966855210577e-05, 6.468348740012828e-05]\n"
     ]
    },
    {
     "data": {
      "image/png": "[encoded data removed]",
      "text/plain": [
       "<Figure size 432x288 with 1 Axes>"
      ]
     },
     "metadata": {
      "needs_background": "light"
     },
     "output_type": "display_data"
    }
   ],
   "source": [
    "current = time.time()\n",
    "X =[]\n",
    "lam = random.random()\n",
    "# print('lambda initial: ',lam)\n",
    "Lambd = [lam]\n",
    "theta = 100000\n",
    "# print('theta intial:', theta)\n",
    "x = xVec\n",
    "# print('x intial:', x)\n",
    "x1 = GD(x,lam,f_grad)\n",
    "# print('x1 intial:', x1)\n",
    "gr2 = []\n",
    "count =1\n",
    "while np.linalg.norm(f_grad(x1)) > 1e-10:\n",
    "    lam_prev = lam\n",
    "    min1 = np.sqrt(1 + theta)*lam\n",
    "    min2 = (np.linalg.norm(x1 - x))/(2*np.linalg.norm(f_grad(x1) - f_grad(x)))\n",
    "#     print('min1:', min1)\n",
    "#     print('min2:', min2)\n",
    "    lam = np.min([min1, min2])\n",
    "#     print('lambda: ',lam)\n",
    "    Lambd.append(lam)\n",
    "    temp = x1\n",
    "    x1 = GD(x1, lam, f_grad)\n",
    "#     print('x1:', x1)\n",
    "    x = temp\n",
    "#     print('x:', x)\n",
    "    theta = (lam/lam_prev)\n",
    "#     print('theta:', theta)\n",
    "    count += 1\n",
    "    grad = np.linalg.norm(f_grad(x1))\n",
    "#     print('Gradient Norm:', grad)\n",
    "    gr2.append(grad)\n",
    "print('----------------------')\n",
    "plt.plot(range(len(gr2)) , gr2)\n",
    "plt.yscale('log')\n",
    "# plt.plot(range(10), gr2[:10], c='g')\n",
    "# plt.title(label = 'Norm of Gradient: [0,10]')\n",
    "# plt.show()\n",
    "# plt.plot(range(11,50), gr2[11:50], c='g')\n",
    "# plt.title(label = 'Norm of Gradient: [11,50]')\n",
    "# plt.show()\n",
    "# plt.plot(range(51,100), gr2[51:100], c='g')\n",
    "# plt.title(label = 'Norm of Gradient: [51,100]')\n",
    "# plt.show()\n",
    "# plt.plot(range(101,600), gr2[101:600], c='g')\n",
    "# plt.title(label = 'Norm of Gradient: [101,600]')\n",
    "# plt.show()\n",
    "# plt.plot(range(601,len(gr2)), gr2[601:], c='g')\n",
    "# plt.title(label = 'Norm of Gradient: [601, end]')\n",
    "# plt.show()\n",
    "\n",
    "print('x value', x1)\n",
    "print('Gradient', f_grad(x1))\n",
    "print('Iterations:', count)\n",
    "print('Time taken:', time.time() - current)\n",
    "La = [Lambd[0], Lambd[1]]\n",
    "for i in range(2,len(Lambd), int(np.floor(len(Lambd)/10))):\n",
    "    La.append(Lambd[i])\n",
    "print('Lambda: ', La)"
   ]
  },
  {
   "cell_type": "markdown",
   "metadata": {},
   "source": [
    "Generating data"
   ]
  },
  {
   "cell_type": "code",
   "execution_count": null,
   "metadata": {},
   "outputs": [],
   "source": [
    "k = 5\n",
    "for i in range(100):\n",
    "    globals()['x'+str(i)] = k\n",
    "    k = k*2"
   ]
  },
  {
   "cell_type": "code",
   "execution_count": null,
   "metadata": {},
   "outputs": [],
   "source": [
    "for i in range(10):\n",
    "    globals()['X'+str(i)] = [0]*10\n",
    "for j in range(10):\n",
    "    globals()['X'+str(0)][j] = (random.random()+1e-12)*10\n",
    "    y = 2*globals()['X'+str(0)][j] + 5\n",
    "    noiz = 3\n",
    "    for k in range(10):\n",
    "        globals()['X'+str(k)][j] = y + np.random.normal(0,noiz)\n",
    "        noiz += 3\n",
    "A = [globals()['X'+str(i)] for i in range(10)]"
   ]
  },
  {
   "cell_type": "code",
   "execution_count": null,
   "metadata": {},
   "outputs": [],
   "source": [
    "def linFunc(x):\n",
    "    return 2*x + 5"
   ]
  },
  {
   "cell_type": "code",
   "execution_count": null,
   "metadata": {},
   "outputs": [],
   "source": [
    "def generate(function, dim, vec_len, scale):\n",
    "    \"\"\"\n",
    "    Where A is an array of inputs for 'x'\n",
    "    \"\"\"\n",
    "    for i in range(dim):\n",
    "        globals()['X'+str(i)] = [0]*vec_len\n",
    "    for j in range(vec_len):\n",
    "        globals()['X'+str(0)][j] = (random.random()+1e-12)*scale\n",
    "        y = function(globals()['X'+str(0)][j])\n",
    "        noiz = 3\n",
    "        for k in range(dim):\n",
    "            globals()['X'+str(k)][j] = y + np.random.normal(0,noiz)\n",
    "            noiz += 3\n",
    "    A = [globals()['X'+str(i)] for i in range(dim)]\n",
    "    return(A)"
   ]
  },
  {
   "cell_type": "code",
   "execution_count": null,
   "metadata": {},
   "outputs": [],
   "source": []
  },
  {
   "cell_type": "code",
   "execution_count": null,
   "metadata": {},
   "outputs": [],
   "source": []
  },
  {
   "cell_type": "code",
   "execution_count": null,
   "metadata": {},
   "outputs": [],
   "source": []
  },
  {
   "cell_type": "code",
   "execution_count": null,
   "metadata": {},
   "outputs": [],
   "source": []
  },
  {
   "cell_type": "code",
   "execution_count": null,
   "metadata": {},
   "outputs": [],
   "source": []
  },
  {
   "cell_type": "code",
   "execution_count": null,
   "metadata": {},
   "outputs": [],
   "source": []
  },
  {
   "cell_type": "code",
   "execution_count": null,
   "metadata": {},
   "outputs": [],
   "source": []
  },
  {
   "cell_type": "code",
   "execution_count": null,
   "metadata": {},
   "outputs": [],
   "source": []
  }
 ],
 "metadata": {
  "kernelspec": {
   "display_name": "Python 3",
   "language": "python",
   "name": "python3"
  },
  "language_info": {
   "codemirror_mode": {
    "name": "ipython",
    "version": 3
   },
   "file_extension": ".py",
   "mimetype": "text/x-python",
   "name": "python",
   "nbconvert_exporter": "python",
   "pygments_lexer": "ipython3",
   "version": "3.8.6"
  }
 },
 "nbformat": 4,
 "nbformat_minor": 4
}
