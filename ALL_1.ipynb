{
 "cells": [
  {
   "cell_type": "markdown",
   "metadata": {},
   "source": [
    "# ALL REGRESSIONS"
   ]
  },
  {
   "cell_type": "markdown",
   "metadata": {},
   "source": [
    "In this version, all plotting will take place separately. We will save data to a csv and then plot from there. In doing so, we will be able save results."
   ]
  },
  {
   "cell_type": "code",
   "execution_count": 1,
   "metadata": {},
   "outputs": [],
   "source": [
    "import matplotlib.pyplot as plt\n",
    "import random\n",
    "import numpy as np\n",
    "import pandas as pd\n",
    "import time\n",
    "from copy import deepcopy\n",
    "from sklearn.datasets import make_regression as Make_reg # default is 100 samples, 100 features\n",
    "from sklearn.datasets import make_classification as Make_class # default is 100 samples, 20 features, 2 classes\n",
    "from sklearn.model_selection import train_test_split as split\n",
    "def ren(x): return range(len(x))\n",
    "\n",
    "class Regression:\n",
    "    def __init__(self, error, time_limit):\n",
    "        self.time_limit = time_limit\n",
    "        self.error = error # epsilon/tolerence\n",
    "            \n",
    "    def makeLinearRegressionDataset(self): # make a dataset using sklearn's Make Regression\n",
    "        dataset = Make_reg()\n",
    "        self.a_copy = dataset[0]\n",
    "        self.b_copy = dataset[1]\n",
    "        self.x_copy = np.random.rand(len(self.a_copy[0]))\n",
    "    \n",
    "    def importLinearRegressionDataset(self, dataset): # import a regression dataset from sklearn\n",
    "        dataset = dataset(return_X_y=True)\n",
    "        self.a_copy = dataset[0]\n",
    "        self.b_copy = dataset[1]\n",
    "        self.x_copy = np.random.rand(len(self.a_copy[0]))\n",
    "        \n",
    "    def f_Lin(self, X): # linear Regression Function\n",
    "        return 0.5 * np.linalg.norm(self.a @ X - self.b)**2\n",
    "    def g_Lin(self, X): # linearRegressionFunctionGradient\n",
    "        return self.a.T @ (self.a @ X - self.b)\n",
    "    def GD_Lin(self): # Linear Regression gradient descent\n",
    "        self.x = self.x - self.lam*self.grad\n",
    "    \n",
    "    def Vanilla_Linear_Reg(self, directory): # using a fixed step size of 1/L\n",
    "        # set up\n",
    "        self.initialTime = time.time() # start the clock\n",
    "        self.x = deepcopy(self.x_copy) # make copies to use\n",
    "        self.a = deepcopy(self.a_copy)\n",
    "        self.b = deepcopy(self.b_copy)\n",
    "        self.lam = 1/np.max( np.linalg.svd( self.a @ self.a.T ) [1] ) # find step size\n",
    "        self.grad = self.g_Lin(self.x) # calculate gradient\n",
    "        self.gradNorm = np.linalg.norm(self.grad) # calc the l2 norm of the gradient\n",
    "        self.gradientValuesList = [self.gradNorm] # initialise ...\n",
    "        self.functionVals = [self.f_Lin(self.x)] # to show function value convergence\n",
    "        self.timeList = [time.time() - self.initialTime]\n",
    "        # loop\n",
    "        while self.gradNorm > self.error:\n",
    "            self.GD_Lin()\n",
    "            self.grad = self.g_Lin(self.x)\n",
    "            self.gradNorm = np.linalg.norm(self.grad)\n",
    "            self.gradientValuesList.append(self.gradNorm)\n",
    "            self.functionVals.append(self.f_Lin(self.x))\n",
    "            self.timeList.append(time.time() - self.initialTime)\n",
    "            if self.time_limit > 0:\n",
    "                if (time.time() - self.initialTime) > self.time_limit:\n",
    "                    break\n",
    "        self.LinearVanDF = pd.DataFrame(\n",
    "            {'GradientNorms': self.gradientValuesList , \n",
    "             'TimeTaken': self.timeList, 'FunctionValues': self.functionVals})\n",
    "        self.LinearVanDF.to_csv(directory, index = False)\n",
    "    \n",
    "    def Adaptive_Linear_Reg(self, directory): # in which the step size adapts to local curvature\n",
    "        #set up\n",
    "        self.initialTime = time.time() # start the clock\n",
    "        self.x = deepcopy(self.x_copy) # make copies to use\n",
    "        self.a = deepcopy(self.a_copy)\n",
    "        self.b = deepcopy(self.b_copy)\n",
    "        self.lam = random.random()+1e-12 # initialise step size > 0\n",
    "        self.theta = np.inf # initialise theta = infty\n",
    "        x0 = deepcopy(self.x) # make a coopy of x to preserve previous x\n",
    "        self.grad = self.g_Lin(self.x) # calculate gradient\n",
    "        self.gradNorm = np.linalg.norm(self.grad) # calc the l2 norm of the gradient\n",
    "        self.gradientValuesList = [self.gradNorm] # initialise ...\n",
    "        self.functionVals = [self.f_Lin(self.x)] # to show function value convergence\n",
    "        self.timeList = [time.time() - self.initialTime] # to show time taken\n",
    "        self.GD_Lin()\n",
    "        # loop\n",
    "        while self.gradNorm > self.error:\n",
    "            lam0 = deepcopy(self.lam) # copy initial step size\n",
    "            min1 = np.sqrt(1 + self.theta)*self.lam # 1st part of step size calc\n",
    "            min2_nom = np.linalg.norm(self.x - x0) # 2nd part of step size calc\n",
    "            min2_denom = 2*np.linalg.norm(self.g_Lin(self.x) - self.g_Lin(x0)) # as above\n",
    "            self.lam = np.min([min1, (min2_nom / min2_denom) ]) # calc new step size\n",
    "            x0 = deepcopy(self.x) # make a coopy of x to preserve previous x\n",
    "            self.GD_Lin() # steepest descent\n",
    "            self.theta = self.lam / lam0 # calc theta\n",
    "            self.grad = self.g_Lin(self.x)\n",
    "            self.gradNorm = np.linalg.norm(self.grad)\n",
    "            self.gradientValuesList.append(self.gradNorm)\n",
    "            self.functionVals.append(self.f_Lin(self.x))\n",
    "            self.timeList.append(time.time() - self.initialTime)\n",
    "            if self.time_limit > 0:\n",
    "                if (time.time() - self.initialTime) > self.time_limit:\n",
    "                    break\n",
    "        self.LinearAdapDF = pd.DataFrame(\n",
    "            {'GradientNorms': self.gradientValuesList , \n",
    "             'TimeTaken': self.timeList, 'FunctionValues': self.functionVals})\n",
    "        self.LinearAdapDF.to_csv(directory, index = False)\n",
    "    \n",
    "    def Grad_LineSearch_Linear_Reg(self, directory): # using a line search\n",
    "        def BackTrack():\n",
    "            rho = random.random()\n",
    "            lam = random.randrange(1e6)\n",
    "            while lam > ( np.linalg.norm(lam * self.grad) / \\\n",
    "                         np.linalg.norm(self.g_Lin(self.x - lam*self.grad) - self.grad) ):\n",
    "                lam = rho * lam\n",
    "            self.lam = lam\n",
    "        #set up\n",
    "        self.initialTime = time.time() # start the clock\n",
    "        self.x = deepcopy(self.x_copy) # make copies to use\n",
    "        self.a = deepcopy(self.a_copy)\n",
    "        self.b = deepcopy(self.b_copy)\n",
    "        self.grad = self.g_Lin(self.x) # calculate gradient\n",
    "        self.gradNorm = np.linalg.norm(self.grad) # calc the l2 norm of the gradient\n",
    "        self.gradientValuesList = [self.gradNorm] # initialise ...\n",
    "        self.functionVals = [self.f_Lin(self.x)] # to show function value convergence\n",
    "        self.timeList = [time.time() - self.initialTime]\n",
    "        # loop\n",
    "        while self.gradNorm > self.error:\n",
    "            BackTrack()\n",
    "            self.GD_Lin()\n",
    "            self.grad = self.g_Lin(self.x)\n",
    "            self.gradNorm = np.linalg.norm(self.grad)\n",
    "            self.gradientValuesList.append(self.gradNorm)\n",
    "            self.functionVals.append(self.f_Lin(self.x))\n",
    "            self.timeList.append(time.time() - self.initialTime)\n",
    "            if self.time_limit > 0:\n",
    "                if (time.time() - self.initialTime) > self.time_limit:\n",
    "                    break\n",
    "        self.LinearLineSearchDF = pd.DataFrame(\n",
    "            {'GradientNorms': self.gradientValuesList , \n",
    "             'TimeTaken': self.timeList, 'FunctionValues': self.functionVals})\n",
    "        self.LinearLineSearchDF.to_csv(directory, index = False)\n",
    "            \n",
    "    def Barzilai_Linear_Reg(self, directory):\n",
    "        #set up\n",
    "        self.initialTime = time.time() # start the clock\n",
    "        self.x = deepcopy(self.x_copy) # make copies to use\n",
    "        self.a = deepcopy(self.a_copy)\n",
    "        self.b = deepcopy(self.b_copy)\n",
    "        self.lam = random.random()+1e-12 # initialise step size > 0\n",
    "        x0 = deepcopy(self.x) # make a coopy of x to preserve previous x\n",
    "        self.grad = self.g_Lin(self.x) # calculate gradient\n",
    "        self.gradNorm = np.linalg.norm(self.grad) # calc the l2 norm of the gradient\n",
    "        self.gradientValuesList = [self.gradNorm] # initialise ...\n",
    "        self.functionVals = [self.f_Lin(self.x)] # to show function value convergence\n",
    "        self.timeList = [time.time() - self.initialTime] # to show time taken\n",
    "        self.GD_Lin()\n",
    "        # loop\n",
    "        while self.gradNorm > self.error:\n",
    "            nom = np.dot(self.x - x0, self.g_Lin(self.x) - self.g_Lin(x0) )\n",
    "            denom = np.linalg.norm(self.g_Lin(self.x) - self.g_Lin(x0))**2\n",
    "            self.lam = nom / denom            \n",
    "            x0 = deepcopy(self.x) # make a coopy of x to preserve previous x\n",
    "            self.GD_Lin() # steepest descent\n",
    "            self.grad = self.g_Lin(self.x)\n",
    "            self.gradNorm = np.linalg.norm(self.grad)\n",
    "            self.gradientValuesList.append(self.gradNorm)\n",
    "            self.functionVals.append(self.f_Lin(self.x))\n",
    "            self.timeList.append(time.time() - self.initialTime)\n",
    "            if self.time_limit > 0:\n",
    "                if (time.time() - self.initialTime) > self.time_limit:\n",
    "                    break\n",
    "        self.LinearBarzDF = pd.DataFrame(\n",
    "            {'GradientNorms': self.gradientValuesList , \n",
    "             'TimeTaken': self.timeList, 'FunctionValues': self.functionVals})\n",
    "        self.LinearBarzDF.to_csv(directory, index = False)\n",
    "        \n",
    "    def Nesterov_Linear_Reg(self, directory):\n",
    "        #set up\n",
    "        self.initialTime = time.time() # start the clock\n",
    "        self.x = deepcopy(self.x_copy) # make copies to use\n",
    "        self.a = deepcopy(self.a_copy)\n",
    "        self.b = deepcopy(self.b_copy)\n",
    "        self.grad = self.g_Lin(self.x) # calculate gradient\n",
    "        self.gradNorm = np.linalg.norm(self.grad) # calc the l2 norm of the gradient\n",
    "        self.gradientValuesList = [self.gradNorm] # initialise ...\n",
    "        self.functionVals = [self.f_Lin(self.x)] # to show function value convergence\n",
    "        self.timeList = [time.time() - self.initialTime]\n",
    "        lam0 = 0\n",
    "        lam1 = 1\n",
    "        L = np.max( np.linalg.svd( self.a @ self.a.T ) [1] )\n",
    "        y0 = deepcopy(self.x)\n",
    "        while self.gradNorm > self.error:\n",
    "            self.lam = 0.5*(1 + np.sqrt(1 + 4*lam1**2))\n",
    "            self.gamma = (1 - lam1)/self.lam\n",
    "            y1 = self.x - self.grad/L\n",
    "            self.x = (1 - self.gamma)*y1 + self.gamma*y0\n",
    "            lam0 = deepcopy(self.lam)\n",
    "            y0 = deepcopy(y1)\n",
    "            self.grad = self.g_Lin(self.x)\n",
    "            self.gradNorm = np.linalg.norm(self.grad)\n",
    "            self.gradientValuesList.append(self.gradNorm)\n",
    "            self.functionVals.append(self.f_Lin(self.x))\n",
    "            self.timeList.append(time.time() - self.initialTime)\n",
    "            if self.time_limit > 0:\n",
    "                if (time.time() - self.initialTime) > self.time_limit:\n",
    "                    break\n",
    "        self.LinearNestDF = pd.DataFrame(\n",
    "            {'GradientNorms': self.gradientValuesList , \n",
    "             'TimeTaken': self.timeList, 'FunctionValues': self.functionVals})\n",
    "        self.LinearNestDF.to_csv(directory, index = False)\n",
    "    \n",
    "    #-------------------------------------------------------------------------------------------\n",
    "    \n",
    "    def makeLogisticRegressionDataset(self):\n",
    "        sample_data = Make_class()\n",
    "        ones = np.array([[1]*len(sample_data[0])])\n",
    "        augmented_data = np.concatenate((ones.T, self.normalise(sample_data[0])), axis =1) # add a 1 to the start of each feature\n",
    "        self.xTrain, self.xTest, self.yTrain, self.yTest = split( augmented_data, sample_data[1], \\\n",
    "                                                                 test_size = 0.1)\n",
    "        self.weights_copy = np.random.rand( len(self.xTrain[0]) )\n",
    "    \n",
    "    def sigmoid(self, beta, X): return 1.0/(1 + np.exp(-np.dot(X, beta))) # sigmoid function\n",
    "    \n",
    "    def normalise(self, X): # normalises the input data to values between 0 and 1\n",
    "        mins = np.min(X, axis = 0) \n",
    "        maxs = np.max(X, axis = 0) \n",
    "        rng = maxs - mins \n",
    "        norm_X = 1 - ((maxs - X)/rng) \n",
    "        return norm_X\n",
    "    \n",
    "    def f_Log(self, W): # function f: the inverse of the log likelihood function, modelling the probability of the data xTrain and xTest\n",
    "        sig = self.sigmoid(W, self.xTrain)\n",
    "        step1 = self.yTrain * np.log(sig + 1e-300) # returns an array with log(sig) values where yTrain =1, else 0\n",
    "        step2 = (1 - self.yTrain) * np.log(1 - sig + 1e-300 )\n",
    "        final = -step1 - step2 \n",
    "        return np.mean(final)\n",
    "    \n",
    "#     def g_Log(self, W): # the gradient function of f, simply (h(w) - y) * x\n",
    "#         sig = self.sigmoid(W, self.xTrain)\n",
    "#         inner_expr = sig - np.squeeze(self.yTrain.reshape(self.xTrain.shape[0],-1))\n",
    "#         return np.dot(inner_expr.T, self.xTrain )\n",
    "    \n",
    "    def g_Log(self, W): # the gradient function of f, simply (h(w) - y) * x\n",
    "        sig = self.sigmoid(W, self.xTrain)\n",
    "        inner_expr = sig - self.yTrain\n",
    "        return np.dot(inner_expr.T, self.xTrain )\n",
    "    \n",
    "    def GD_Log(self): # Step size calculator - w_1 = w_0 - lam* gradient(w)\n",
    "        self.weights = self.weights - self.lam * self.g_Log(self.weights)\n",
    "    \n",
    "    def predict(self, beta, X):\n",
    "        predP = self.sigmoid(beta, X) # predict classification probability \n",
    "        predVal = np.where(predP >= 0.5 , 1 , 0) # allocate most likely classifier\n",
    "        self.preds = np.squeeze(predVal)\n",
    "    \n",
    "    def Vanilla_Logistic_Reg(self, directory):\n",
    "        self.initialTime= time.time() # start the clock\n",
    "        self.weights = deepcopy(self.weights_copy) # make a copy of the weights\n",
    "        self.lam = 1/np.max(np.linalg.svd( self.xTrain @ self.xTrain.T )[1]) # find step size\n",
    "        self.grad = self.g_Log(self.weights) # calculate gradient\n",
    "        self.gradNorm = np.linalg.norm(self.grad) # calc the l2 norm of the gradient\n",
    "        self.gradientValuesList = [self.gradNorm] # initialise ...\n",
    "        self.functionVals = [self.f_Log(self.weights)] # to show function value convergence\n",
    "        self.timeList = [time.time() - self.initialTime]\n",
    "        while self.gradNorm > self.error:\n",
    "            self.GD_Log()\n",
    "            self.grad = self.g_Log(self.weights)\n",
    "            self.gradNorm = np.linalg.norm(self.grad)\n",
    "            self.gradientValuesList.append(self.gradNorm)\n",
    "            self.functionVals.append(self.f_Log(self.weights))\n",
    "            self.timeList.append(time.time() - self.initialTime)\n",
    "            if self.time_limit > 0:\n",
    "                if (time.time() - self.initialTime) > self.time_limit:\n",
    "                    break\n",
    "        self.predict(self.weights, self.xTest)\n",
    "        self.classi = sum( self.preds == self.yTest )/len(self.xTest)\n",
    "        print(self.classi)\n",
    "        class_list = [np.nan]*len(self.timeList)\n",
    "        class_list[0] = self.classi\n",
    "        self.LogisticVanDF = pd.DataFrame(\n",
    "            {'GradientNorms': self.gradientValuesList , \n",
    "             'TimeTaken': self.timeList, 'FunctionValues': self.functionVals, 'Accuracy': class_list})\n",
    "        self.LogisticVanDF.to_csv(directory, index = False)\n",
    "    \n",
    "    def Adaptive_Logistic_Reg(self, directory):\n",
    "        self.initialTime= time.time() # start the clock\n",
    "        self.weights = deepcopy(self.weights_copy) # make a copy of the weights\n",
    "        self.lam = random.random()+1e-12 # initialise step size > 0\n",
    "        self.theta = np.inf # initialise theta = infty\n",
    "        weights0 = deepcopy(self.weights) # make a coopy of weights to preserve previous weights\n",
    "        self.grad = self.g_Log(self.weights) # calculate gradient\n",
    "        self.gradNorm = np.linalg.norm(self.grad) # calc the l2 norm of the gradient\n",
    "        self.gradientValuesList = [self.gradNorm] # initialise ...\n",
    "        self.functionVals = [self.f_Log(self.weights)] # to show function value convergence\n",
    "        self.timeList = [time.time() - self.initialTime]\n",
    "        self.GD_Log()\n",
    "        while self.gradNorm > self.error:\n",
    "            lam0 = deepcopy(self.lam)\n",
    "            min1 = np.sqrt(1 + self.theta)*self.lam # 1st part of step size calc\n",
    "            min2_nom = np.linalg.norm(self.weights - weights0) # 2nd part of step size calc\n",
    "            min2_denom = 2*np.linalg.norm(self.g_Log(self.weights) - self.g_Log(weights0)) # as above\n",
    "            self.lam = np.min([min1, (min2_nom / min2_denom) ]) # calc new step size\n",
    "            weights0 = deepcopy(self.weights) # make a coopy of x to preserve previous x\n",
    "            self.GD_Log() # steepest descent\n",
    "            self.theta = self.lam / lam0 # calc theta\n",
    "            self.grad = self.g_Log(self.weights)\n",
    "            self.gradNorm = np.linalg.norm(self.grad)\n",
    "            self.gradientValuesList.append(self.gradNorm)\n",
    "            self.functionVals.append(self.f_Log(self.weights))\n",
    "            self.timeList.append(time.time() - self.initialTime)\n",
    "            if self.time_limit > 0:\n",
    "                if (time.time() - self.initialTime) > self.time_limit:\n",
    "                    break\n",
    "        self.predict(self.weights, self.xTest)\n",
    "        self.classi = sum( self.preds == self.yTest )/len(self.xTest)\n",
    "        print(self.classi)\n",
    "        class_list = [np.nan]*len(self.timeList)\n",
    "        class_list[0] = self.classi\n",
    "        self.LogisticAdapDF = pd.DataFrame(\n",
    "            {'GradientNorms': self.gradientValuesList , \n",
    "             'TimeTaken': self.timeList, 'FunctionValues': self.functionVals, 'Accuracy': class_list})\n",
    "        self.LogisticAdapDF.to_csv(directory, index = False)\n",
    "        \n",
    "    def Grad_LineSearch_Logistic_Reg(self, directory): # using a line search\n",
    "        def BackTrack():\n",
    "            rho = random.random()\n",
    "            lam = random.randrange(1e6)\n",
    "            while lam > ( np.linalg.norm(lam * self.grad) / \\\n",
    "                         np.linalg.norm(self.g_Log(self.weights - lam*self.grad) - self.grad) ):\n",
    "                lam = rho * lam\n",
    "            self.lam = lam\n",
    "        #set up\n",
    "        self.initialTime = time.time() # start the clock\n",
    "        self.weights = deepcopy(self.weights_copy)\n",
    "        self.grad = self.g_Log(self.weights) # calculate gradient\n",
    "        self.gradNorm = np.linalg.norm(self.grad) # calc the l2 norm of the gradient\n",
    "        self.gradientValuesList = [self.gradNorm] # initialise ...\n",
    "        self.functionVals = [self.f_Log(self.weights)] # to show function value convergence\n",
    "        self.timeList = [time.time() - self.initialTime]\n",
    "        # loop\n",
    "        while self.gradNorm > self.error:\n",
    "            BackTrack()\n",
    "            self.GD_Log()\n",
    "            self.grad = self.g_Log(self.weights)\n",
    "            self.gradNorm = np.linalg.norm(self.grad)\n",
    "            self.gradientValuesList.append(self.gradNorm)\n",
    "            self.functionVals.append(self.f_Log(self.weights))\n",
    "            self.timeList.append(time.time() - self.initialTime)\n",
    "            if self.time_limit > 0:\n",
    "                if (time.time() - self.initialTime) > self.time_limit:\n",
    "                    break\n",
    "        self.predict(self.weights, self.xTest)\n",
    "        self.classi = sum( self.preds == self.yTest )/len(self.xTest)\n",
    "        print(self.classi)\n",
    "        class_list = [np.nan]*len(self.timeList)\n",
    "        class_list[0] = self.classi\n",
    "        self.LogisticLineDF = pd.DataFrame(\n",
    "            {'GradientNorms': self.gradientValuesList , \n",
    "             'TimeTaken': self.timeList, 'FunctionValues': self.functionVals, 'Accuracy': class_list})\n",
    "        self.LogisticLineDF.to_csv(directory, index = False)\n",
    "    \n",
    "    def Barzilai_Logistic_Reg(self, directory):\n",
    "        #set up\n",
    "        self.initialTime = time.time() # start the clock\n",
    "        self.weights = deepcopy(self.weights_copy) # make copies to use\n",
    "        self.lam = random.random()+1e-12 # initialise step size > 0\n",
    "        weights0 = deepcopy(self.weights) # make a copy of weughts to preserve previous weights\n",
    "        self.grad = self.g_Log(self.weights) # calculate gradient\n",
    "        self.gradNorm = np.linalg.norm(self.grad) # calc the l2 norm of the gradient\n",
    "        self.gradientValuesList = [self.gradNorm] # initialise ...\n",
    "        self.functionVals = [self.f_Log(self.weights)] # to show function value convergence\n",
    "        self.timeList = [time.time() - self.initialTime] # to show time taken\n",
    "        self.GD_Log()\n",
    "        # loop\n",
    "        while self.gradNorm > self.error:\n",
    "            nom = np.dot(self.weights - weights0, self.g_Log(self.weights) - self.g_Log(weights0) )\n",
    "            denom = np.linalg.norm(self.g_Log(self.weights) - self.g_Log(weights0))**2\n",
    "            self.lam = nom / denom            \n",
    "            weights0 = deepcopy(self.weights) # make a coopy of x to preserve previous x\n",
    "            self.GD_Log() # steepest descent\n",
    "            self.grad = self.g_Log(self.weights)\n",
    "            self.gradNorm = np.linalg.norm(self.grad)\n",
    "            self.gradientValuesList.append(self.gradNorm)\n",
    "            self.functionVals.append(self.f_Log(self.weights))\n",
    "            self.timeList.append(time.time() - self.initialTime)\n",
    "            if self.time_limit > 0:\n",
    "                if (time.time() - self.initialTime) > self.time_limit:\n",
    "                    break\n",
    "        self.predict(self.weights, self.xTest)\n",
    "        self.classi = sum( self.preds == self.yTest )/len(self.xTest)\n",
    "        print(self.classi)\n",
    "        class_list = [np.nan]*len(self.timeList)\n",
    "        class_list[0] = self.classi\n",
    "        self.LogisticBarzDF = pd.DataFrame(\n",
    "            {'GradientNorms': self.gradientValuesList , \n",
    "             'TimeTaken': self.timeList, 'FunctionValues': self.functionVals, 'Accuracy': class_list})\n",
    "        self.LogisticBarzDF.to_csv(directory, index = False)\n",
    "        \n",
    "    def Nesterov_Logistic_Reg(self, directory):\n",
    "        #set up\n",
    "        self.initialTime = time.time() # start the clock\n",
    "        self.weights = deepcopy(self.weights_copy) # make copies to use\n",
    "        self.grad = self.g_Log(self.weights) # calculate gradient\n",
    "        self.gradNorm = np.linalg.norm(self.grad) # calc the l2 norm of the gradient\n",
    "        self.gradientValuesList = [self.gradNorm] # initialise ...\n",
    "        self.functionVals = [self.f_Log(self.weights)] # to show function value convergence\n",
    "        self.timeList = [time.time() - self.initialTime]\n",
    "        lam0 = 0\n",
    "        lam1 = 1\n",
    "        L = 1/np.max(np.linalg.svd( self.xTrain @ self.xTrain.T )[1]) # find step size\n",
    "        y0 = deepcopy(self.weights)\n",
    "        while self.gradNorm > self.error:\n",
    "            self.lam = 0.5*(1 + np.sqrt(1 + 4*lam1**2))\n",
    "            self.gamma = (1 - lam1)/self.lam\n",
    "            y1 = self.weights - self.grad/L\n",
    "            self.weights = (1 - self.gamma)*y1 + self.gamma*y0\n",
    "            lam0 = deepcopy(self.lam)\n",
    "            y0 = deepcopy(y1)\n",
    "            self.grad = self.g_Log(self.weights)\n",
    "            self.gradNorm = np.linalg.norm(self.grad)\n",
    "            self.gradientValuesList.append(self.gradNorm)\n",
    "            self.functionVals.append(self.f_Log(self.weights))\n",
    "            self.timeList.append(time.time() - self.initialTime)\n",
    "            if self.time_limit > 0:\n",
    "                if (time.time() - self.initialTime) > self.time_limit:\n",
    "                    break\n",
    "        self.predict(self.weights, self.xTest)\n",
    "        self.classi = sum( self.preds == self.yTest )/len(self.xTest)\n",
    "        print(self.classi)\n",
    "        class_list = [np.nan]*len(self.timeList)\n",
    "        class_list[0] = self.classi\n",
    "        self.LogisticNestDF = pd.DataFrame(\n",
    "            {'GradientNorms': self.gradientValuesList , \n",
    "             'TimeTaken': self.timeList, 'FunctionValues': self.functionVals, 'Accuracy': class_list})\n",
    "        self.LogisticNestDF.to_csv(directory, index = False)"
   ]
  },
  {
   "cell_type": "code",
   "execution_count": 2,
   "metadata": {},
   "outputs": [],
   "source": [
    "H = Regression(1e-6,10)"
   ]
  },
  {
   "cell_type": "markdown",
   "metadata": {},
   "source": [
    "# Linear Regression Output"
   ]
  },
  {
   "cell_type": "code",
   "execution_count": 3,
   "metadata": {
    "scrolled": true
   },
   "outputs": [],
   "source": [
    "H.makeLinearRegressionDataset()\n",
    "H.Adaptive_Linear_Reg(\"output/Lin_Test_Adap.csv\")\n",
    "H.Grad_LineSearch_Linear_Reg(\"output/Lin_Test_LS.csv\")\n",
    "H.Barzilai_Linear_Reg(\"output/Lin_Test_Baz.csv\")\n",
    "H.Vanilla_Linear_Reg(\"output/Lin_Test_Van.csv\")\n",
    "H.Nesterov_Linear_Reg(\"output/Lin_Test_Nest.csv\")"
   ]
  },
  {
   "cell_type": "code",
   "execution_count": 4,
   "metadata": {},
   "outputs": [],
   "source": [
    "Lin_vanilla_out = pd.read_csv(\"output/Lin_Test_Van.csv\")\n",
    "Lin_adap_out = pd.read_csv(\"output/Lin_Test_Adap.csv\")\n",
    "Lin_line_out = pd.read_csv(\"output/Lin_Test_LS.csv\")\n",
    "Lin_barz_out = pd.read_csv(\"output/Lin_Test_Baz.csv\") \n",
    "Lin_nest_out = pd.read_csv(\"output/Lin_Test_Nest.csv\")"
   ]
  },
  {
   "cell_type": "code",
   "execution_count": 8,
   "metadata": {
    "scrolled": true
   },
   "outputs": [
    {
     "name": "stdout",
     "output_type": "stream",
     "text": [
      "Van final        GradientNorms  TimeTaken  FunctionValues\n",
      "40413       0.023227   9.999205        0.133222\n",
      "40414       0.023227   9.999205        0.133220\n",
      "40415       0.023227   9.999701        0.133219\n",
      "40416       0.023227   9.999701        0.133217\n",
      "40417       0.023227  10.000196        0.133216\n",
      "Adap final        GradientNorms  TimeTaken  FunctionValues\n",
      "16958       0.020967   9.997989        0.108939\n",
      "16959       0.020967   9.998981        0.108936\n",
      "16960       0.020976   9.999477        0.108932\n",
      "16961       0.021238   9.999973        0.108925\n",
      "16962       0.035857  10.000469        0.108914\n",
      "LS final      GradientNorms  TimeTaken  FunctionValues\n",
      "416       1.483923   9.962120       10.083823\n",
      "417       1.577636   9.964103       10.070098\n",
      "418       1.414275   9.966088       10.062745\n",
      "419       1.738394   9.977000       10.017409\n",
      "420       1.537098  10.016680       10.007540\n",
      "Baz final       GradientNorms  TimeTaken  FunctionValues\n",
      "8837   1.011185e-06   7.372520    2.470596e-10\n",
      "8838   4.582444e-06   7.373513    2.470015e-10\n",
      "8839   1.076173e-06   7.374505    2.469681e-10\n",
      "8840   1.002841e-06   7.375000    2.469648e-10\n",
      "8841   9.983389e-07   7.375993    2.469612e-10\n",
      "Nest final        GradientNorms  TimeTaken  FunctionValues\n",
      "37111       0.023711   9.998827        0.138341\n",
      "37112       0.023710   9.999381        0.138340\n",
      "37113       0.023710   9.999381        0.138338\n",
      "37114       0.023710   9.999818        0.138337\n",
      "37115       0.023710  10.000313        0.138335\n"
     ]
    }
   ],
   "source": [
    "print(\"Van final\", Lin_vanilla_out.tail())\n",
    "print(\"Adap final\", Lin_adap_out.tail())\n",
    "print(\"LS final\", Lin_line_out.tail())\n",
    "print(\"Baz final\", Lin_barz_out.tail())\n",
    "print(\"Nest final\", Lin_nest_out.tail())"
   ]
  },
  {
   "cell_type": "code",
   "execution_count": null,
   "metadata": {},
   "outputs": [],
   "source": []
  },
  {
   "cell_type": "markdown",
   "metadata": {},
   "source": [
    "Oscilation in Gradient values (last 200 iterations)"
   ]
  },
  {
   "cell_type": "code",
   "execution_count": 15,
   "metadata": {},
   "outputs": [
    {
     "data": {
      "image/png": "[encoded data removed]",
      "text/plain": [
       "<Figure size 432x288 with 1 Axes>"
      ]
     },
     "metadata": {
      "needs_background": "light"
     },
     "output_type": "display_data"
    }
   ],
   "source": [
    "plt.plot(Lin_adap_out.TimeTaken.iloc[-200:-1], Lin_adap_out.GradientNorms.iloc[-200:-1], c = 'g')\n",
    "plt.yscale('log')\n",
    "plt.xlabel('Time in seconds')\n",
    "plt.show()"
   ]
  },
  {
   "cell_type": "markdown",
   "metadata": {},
   "source": [
    "Oscilation in Function values (last 200 iterations)"
   ]
  },
  {
   "cell_type": "code",
   "execution_count": 14,
   "metadata": {},
   "outputs": [
    {
     "data": {
      "image/png": "[encoded data removed]",
      "text/plain": [
       "<Figure size 432x288 with 1 Axes>"
      ]
     },
     "metadata": {
      "needs_background": "light"
     },
     "output_type": "display_data"
    }
   ],
   "source": [
    "plt.plot(Lin_adap_out.TimeTaken.iloc[-200:-1], Lin_adap_out.FunctionValues.iloc[-200:-1], c = 'g')\n",
    "plt.yscale('log')\n",
    "plt.xlabel('Time in seconds')\n",
    "plt.show()"
   ]
  },
  {
   "cell_type": "code",
   "execution_count": 16,
   "metadata": {},
   "outputs": [
    {
     "data": {
      "image/png": "[encoded data removed]",
      "text/plain": [
       "<Figure size 432x288 with 1 Axes>"
      ]
     },
     "metadata": {
      "needs_background": "light"
     },
     "output_type": "display_data"
    }
   ],
   "source": [
    "plt.plot(Lin_barz_out.TimeTaken, Lin_barz_out.GradientNorms, c = 'm')\n",
    "plt.plot(Lin_adap_out.TimeTaken, Lin_adap_out.GradientNorms, c = 'g')\n",
    "plt.plot(Lin_line_out.TimeTaken, Lin_line_out.GradientNorms, c = 'r')\n",
    "plt.plot(Lin_nest_out.TimeTaken, Lin_nest_out.GradientNorms, c = 'b')\n",
    "plt.plot(Lin_vanilla_out.TimeTaken, Lin_vanilla_out.GradientNorms, c = 'y')\n",
    "plt.yscale('log')\n",
    "plt.xlabel('Time in seconds')\n",
    "plt.show()"
   ]
  },
  {
   "cell_type": "markdown",
   "metadata": {},
   "source": [
    "# Logistic Regression"
   ]
  },
  {
   "cell_type": "code",
   "execution_count": 10,
   "metadata": {},
   "outputs": [],
   "source": [
    "def run_log(date_time):\n",
    "    H.makeLogisticRegressionDataset()\n",
    "    H.Adaptive_Logistic_Reg(\"output/Log_Test_Adap_{}.csv\".format(date_time))\n",
    "    H.Grad_LineSearch_Logistic_Reg(\"output/Log_Test_LS_{}.csv\".format(date_time))\n",
    "    H.Vanilla_Logistic_Reg(\"output/Log_Test_Van_{}.csv\".format(date_time))\n",
    "    H.Barzilai_Logistic_Reg(\"output/Log_Test_Baz_{}.csv\".format(date_time))\n",
    "    H.Nesterov_Logistic_Reg(\"output/Log_Test_Nest_{}.csv\".format(date_time))\n",
    "def read_log(date_time):\n",
    "    global Log_vanilla_out\n",
    "    Log_vanilla_out = pd.read_csv(\"output/Log_Test_Van_{}.csv\".format(date_time))\n",
    "    global Log_adap_out\n",
    "    Log_adap_out = pd.read_csv(\"output/Log_Test_Adap_{}.csv\".format(date_time))\n",
    "    global Log_line_out\n",
    "    Log_line_out = pd.read_csv(\"output/Log_Test_LS_{}.csv\".format(date_time))\n",
    "    global Log_baz_out\n",
    "    Log_baz_out = pd.read_csv(\"output/Log_Test_Baz_{}.csv\".format(date_time))\n",
    "    global Log_nest_out\n",
    "    Log_nest_out = pd.read_csv(\"output/Log_Test_Nest_{}.csv\".format(date_time))"
   ]
  },
  {
   "cell_type": "code",
   "execution_count": 3,
   "metadata": {},
   "outputs": [],
   "source": [
    "H.makeLogisticRegressionDataset()"
   ]
  },
  {
   "cell_type": "code",
   "execution_count": 11,
   "metadata": {},
   "outputs": [
    {
     "name": "stderr",
     "output_type": "stream",
     "text": [
      "<ipython-input-1-67801816124b>:299: RuntimeWarning: divide by zero encountered in double_scalars\n",
      "  self.lam = np.min([min1, (min2_nom / min2_denom) ]) # calc new step size\n"
     ]
    },
    {
     "name": "stdout",
     "output_type": "stream",
     "text": [
      "0.9\n"
     ]
    },
    {
     "name": "stderr",
     "output_type": "stream",
     "text": [
      "<ipython-input-1-67801816124b>:219: RuntimeWarning: overflow encountered in exp\n",
      "  def sigmoid(self, beta, X): return 1.0/(1 + np.exp(-np.dot(X, beta))) # sigmoid function\n"
     ]
    },
    {
     "name": "stdout",
     "output_type": "stream",
     "text": [
      "0.9\n",
      "0.9\n"
     ]
    },
    {
     "name": "stderr",
     "output_type": "stream",
     "text": [
      "<ipython-input-1-67801816124b>:376: RuntimeWarning: invalid value encountered in double_scalars\n",
      "  self.lam = nom / denom\n"
     ]
    },
    {
     "name": "stdout",
     "output_type": "stream",
     "text": [
      "0.7\n",
      "0.9\n"
     ]
    }
   ],
   "source": [
    "run_log(27071219)"
   ]
  },
  {
   "cell_type": "code",
   "execution_count": 13,
   "metadata": {},
   "outputs": [],
   "source": []
  },
  {
   "cell_type": "code",
   "execution_count": 15,
   "metadata": {},
   "outputs": [],
   "source": [
    "read_log(27071219)"
   ]
  },
  {
   "cell_type": "code",
   "execution_count": 16,
   "metadata": {},
   "outputs": [
    {
     "name": "stdout",
     "output_type": "stream",
     "text": [
      "Van final         GradientNorms  TimeTaken  FunctionValues  Accuracy\n",
      "140213       0.003181   9.999866        0.214378       NaN\n",
      "140214       0.003181   9.999866        0.214378       NaN\n",
      "140215       0.003181   9.999866        0.214378       NaN\n",
      "140216       0.003181   9.999866        0.214378       NaN\n",
      "140217       0.003181  10.000361        0.214378       NaN\n",
      "Adap final       GradientNorms  TimeTaken  FunctionValues  Accuracy\n",
      "8528   1.018025e-06   1.218272        0.214374       NaN\n",
      "8529   1.002673e-06   1.218272        0.214374       NaN\n",
      "8530   1.002048e-06   1.218272        0.214374       NaN\n",
      "8531   1.001047e-06   1.218768        0.214374       NaN\n",
      "8532   9.994388e-07   1.218768        0.214374       NaN\n",
      "LS final       GradientNorms  TimeTaken  FunctionValues  Accuracy\n",
      "1736       0.000405   9.834747        0.214374       NaN\n",
      "1737       0.000390   9.835243        0.214374       NaN\n",
      "1738       0.000516   9.837672        0.214374       NaN\n",
      "1739       0.000423   9.838665        0.214374       NaN\n",
      "1740       0.000461  10.284073        0.214374       NaN\n",
      "Baz final    GradientNorms  TimeTaken  FunctionValues  Accuracy\n",
      "0     106.697881   0.021837        2.586587       0.7\n",
      "1     114.096700   0.024334       33.497233       NaN\n",
      "2            NaN   0.024812             NaN       NaN\n",
      "Nest final         GradientNorms  TimeTaken  FunctionValues  Accuracy\n",
      "108134       1.316091   9.999608       61.402269       NaN\n",
      "108135       1.316091   9.999608       60.301226       NaN\n",
      "108136       1.316091   9.999608       58.813199       NaN\n",
      "108137       7.529042   9.999608       80.351026       NaN\n",
      "108138       7.919502  10.000122       69.077553       NaN\n"
     ]
    }
   ],
   "source": [
    "print(\"Van final\", Log_vanilla_out.tail())\n",
    "print(\"Adap final\", Log_adap_out.tail())\n",
    "print(\"LS final\", Log_line_out.tail())\n",
    "print(\"Baz final\", Log_baz_out.tail())\n",
    "print(\"Nest final\", Log_nest_out.tail())"
   ]
  },
  {
   "cell_type": "markdown",
   "metadata": {},
   "source": [
    "Check Lipschitz approx with SVD holds..."
   ]
  },
  {
   "cell_type": "code",
   "execution_count": 37,
   "metadata": {},
   "outputs": [
    {
     "data": {
      "image/png": "[encoded data removed]",
      "text/plain": [
       "<Figure size 432x288 with 1 Axes>"
      ]
     },
     "metadata": {
      "needs_background": "light"
     },
     "output_type": "display_data"
    }
   ],
   "source": [
    "plt.plot(Log_vanilla_out.TimeTaken.iloc[0:50], Log_vanilla_out.FunctionValues.iloc[0:50], c = 'g')\n",
    "plt.yscale('log')\n",
    "plt.xlabel('Time in seconds')\n",
    "plt.show()"
   ]
  },
  {
   "cell_type": "code",
   "execution_count": 38,
   "metadata": {},
   "outputs": [
    {
     "data": {
      "text/html": [
       "<div>\n",
       "<style scoped>\n",
       "    .dataframe tbody tr th:only-of-type {\n",
       "        vertical-align: middle;\n",
       "    }\n",
       "\n",
       "    .dataframe tbody tr th {\n",
       "        vertical-align: top;\n",
       "    }\n",
       "\n",
       "    .dataframe thead th {\n",
       "        text-align: right;\n",
       "    }\n",
       "</style>\n",
       "<table border=\"1\" class=\"dataframe\">\n",
       "  <thead>\n",
       "    <tr style=\"text-align: right;\">\n",
       "      <th></th>\n",
       "      <th>GradientNorms</th>\n",
       "      <th>TimeTaken</th>\n",
       "      <th>FunctionValues</th>\n",
       "      <th>Accuracy</th>\n",
       "    </tr>\n",
       "  </thead>\n",
       "  <tbody>\n",
       "    <tr>\n",
       "      <th>0</th>\n",
       "      <td>108.509913</td>\n",
       "      <td>0.00695</td>\n",
       "      <td>2.667474</td>\n",
       "      <td>0.9</td>\n",
       "    </tr>\n",
       "    <tr>\n",
       "      <th>1</th>\n",
       "      <td>107.888883</td>\n",
       "      <td>0.00695</td>\n",
       "      <td>2.429384</td>\n",
       "      <td>NaN</td>\n",
       "    </tr>\n",
       "    <tr>\n",
       "      <th>2</th>\n",
       "      <td>106.905527</td>\n",
       "      <td>0.00695</td>\n",
       "      <td>2.194382</td>\n",
       "      <td>NaN</td>\n",
       "    </tr>\n",
       "    <tr>\n",
       "      <th>3</th>\n",
       "      <td>105.363969</td>\n",
       "      <td>0.00695</td>\n",
       "      <td>1.964215</td>\n",
       "      <td>NaN</td>\n",
       "    </tr>\n",
       "    <tr>\n",
       "      <th>4</th>\n",
       "      <td>102.986761</td>\n",
       "      <td>0.00695</td>\n",
       "      <td>1.741490</td>\n",
       "      <td>NaN</td>\n",
       "    </tr>\n",
       "  </tbody>\n",
       "</table>\n",
       "</div>"
      ],
      "text/plain": [
       "   GradientNorms  TimeTaken  FunctionValues  Accuracy\n",
       "0     108.509913    0.00695        2.667474       0.9\n",
       "1     107.888883    0.00695        2.429384       NaN\n",
       "2     106.905527    0.00695        2.194382       NaN\n",
       "3     105.363969    0.00695        1.964215       NaN\n",
       "4     102.986761    0.00695        1.741490       NaN"
      ]
     },
     "execution_count": 38,
     "metadata": {},
     "output_type": "execute_result"
    }
   ],
   "source": [
    "Log_vanilla_out.head()"
   ]
  },
  {
   "cell_type": "markdown",
   "metadata": {},
   "source": [
    "Seems to be ok"
   ]
  },
  {
   "cell_type": "code",
   "execution_count": null,
   "metadata": {},
   "outputs": [],
   "source": []
  }
 ],
 "metadata": {
  "kernelspec": {
   "display_name": "Python 3",
   "language": "python",
   "name": "python3"
  },
  "language_info": {
   "codemirror_mode": {
    "name": "ipython",
    "version": 3
   },
   "file_extension": ".py",
   "mimetype": "text/x-python",
   "name": "python",
   "nbconvert_exporter": "python",
   "pygments_lexer": "ipython3",
   "version": "3.8.6"
  }
 },
 "nbformat": 4,
 "nbformat_minor": 4
}
