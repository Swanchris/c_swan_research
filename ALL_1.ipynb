{
 "cells": [
  {
   "cell_type": "markdown",
   "metadata": {},
   "source": [
    "# ALL REGRESSIONS"
   ]
  },
  {
   "cell_type": "markdown",
   "metadata": {},
   "source": [
    "In this version, all plotting will take place separately. We will save data to a csv and then plot from there. In doing so, we will be able save results."
   ]
  },
  {
   "cell_type": "markdown",
   "metadata": {},
   "source": [
    "Still need to implement the idea of train/test for linear regression: seeing how well our model works"
   ]
  },
  {
   "cell_type": "code",
   "execution_count": null,
   "metadata": {},
   "outputs": [],
   "source": []
  },
  {
   "cell_type": "code",
   "execution_count": 9,
   "metadata": {},
   "outputs": [],
   "source": [
    "Checker = Make_reg(n_samples=10, n_features=5)"
   ]
  },
  {
   "cell_type": "code",
   "execution_count": 15,
   "metadata": {},
   "outputs": [
    {
     "data": {
      "text/plain": [
       "(array([[-0.69325999, -0.57850812,  1.05883398, -1.96671766,  0.74450776],\n",
       "        [ 0.66620342, -0.31744134,  0.28456364,  0.85099734,  0.1808318 ],\n",
       "        [ 0.66369485, -0.31077032,  0.05207546,  0.66587232, -0.76439418],\n",
       "        [ 0.22462066,  1.7296847 , -0.74572062, -1.2959899 , -0.26976383],\n",
       "        [ 0.42225446,  0.57522894, -0.53372058, -0.9450512 ,  0.57463013],\n",
       "        [ 1.00892554, -0.51319643,  1.29206199,  1.035759  , -0.1654116 ],\n",
       "        [ 0.43862165, -0.44596295, -0.45442499, -0.86615865,  1.85496471],\n",
       "        [-0.13801344, -1.03461046,  1.2002471 ,  0.21371354, -1.12226979],\n",
       "        [ 0.44274389,  0.6892487 ,  2.14470037,  0.86979428, -1.9031582 ],\n",
       "        [-1.54754235,  1.25879998, -0.37891756, -3.13108704, -1.47633346]]),\n",
       " array([  64.81490649,   76.04999013,  -11.49008353,  -45.76939564,\n",
       "          33.90984356,  137.86796829,  125.77308318,  -22.0982314 ,\n",
       "          41.07382355, -238.59149595]))"
      ]
     },
     "execution_count": 15,
     "metadata": {},
     "output_type": "execute_result"
    }
   ],
   "source": [
    "Checker"
   ]
  },
  {
   "cell_type": "code",
   "execution_count": 1,
   "metadata": {},
   "outputs": [],
   "source": [
    "import matplotlib.pyplot as plt\n",
    "import random\n",
    "import numpy as np\n",
    "import pandas as pd\n",
    "import time\n",
    "from copy import deepcopy\n",
    "from sklearn.datasets import make_regression as Make_reg # default is 100 samples, 100 features\n",
    "from sklearn.datasets import make_classification as Make_class # default is 100 samples, 20 features, 2 classes\n",
    "from sklearn.model_selection import train_test_split as split\n",
    "def ren(x): return range(len(x))\n",
    "\n",
    "class Regression:\n",
    "    def __init__(self, error, time_limit):\n",
    "        self.time_limit = time_limit\n",
    "        self.error = error # epsilon/tolerence\n",
    "            \n",
    "    def makeLinearRegressionDataset(self): # make a dataset using sklearn's Make Regression\n",
    "        dataset = Make_reg()\n",
    "        self.a_copy = dataset[0]\n",
    "        self.b_copy = dataset[1]\n",
    "        self.x_copy = np.random.rand(len(self.a_copy[0]))\n",
    "    \n",
    "    def importLinearRegressionDataset(self, dataset): # import a regression dataset from sklearn\n",
    "        dataset = dataset(return_X_y=True)\n",
    "        self.a_copy = dataset[0]\n",
    "        self.b_copy = dataset[1]\n",
    "        self.x_copy = np.random.rand(len(self.a_copy[0]))\n",
    "        \n",
    "    def f_Lin(self, X): # linear Regression Function\n",
    "        return 0.5 * np.linalg.norm(self.a @ X - self.b)**2\n",
    "    def g_Lin(self, X): # linearRegressionFunctionGradient\n",
    "        return self.a.T @ (self.a @ X - self.b)\n",
    "    def GD_Lin(self): # Linear Regression gradient descent\n",
    "        self.x = self.x - self.lam*self.grad\n",
    "    \n",
    "    def Vanilla_Linear_Reg(self, directory): # using a fixed step size of 1/L\n",
    "        # set up\n",
    "        self.initialTime = time.time() # start the clock\n",
    "        self.x = deepcopy(self.x_copy) # make copies to use\n",
    "        self.a = deepcopy(self.a_copy)\n",
    "        self.b = deepcopy(self.b_copy)\n",
    "        self.lam = 1/np.max( np.linalg.svd( self.a @ self.a.T ) [1] ) # find step size\n",
    "        self.grad = self.g_Lin(self.x) # calculate gradient\n",
    "        self.gradNorm = np.linalg.norm(self.grad) # calc the l2 norm of the gradient\n",
    "        self.gradientValuesList = [self.gradNorm] # initialise ...\n",
    "        self.functionVals = [self.f_Lin(self.x)] # to show function value convergence\n",
    "        self.timeList = [time.time() - self.initialTime]\n",
    "        # loop\n",
    "        while self.gradNorm > self.error:\n",
    "            self.GD_Lin()\n",
    "            self.grad = self.g_Lin(self.x)\n",
    "            self.gradNorm = np.linalg.norm(self.grad)\n",
    "            self.gradientValuesList.append(self.gradNorm)\n",
    "            self.functionVals.append(self.f_Lin(self.x))\n",
    "            self.timeList.append(time.time() - self.initialTime)\n",
    "            if self.time_limit > 0:\n",
    "                if (time.time() - self.initialTime) > self.time_limit:\n",
    "                    break\n",
    "        self.LinearVanDF = pd.DataFrame(\n",
    "            {'GradientNorms': self.gradientValuesList , \n",
    "             'TimeTaken': self.timeList, 'FunctionValues': self.functionVals})\n",
    "        self.LinearVanDF.to_csv(directory, index = False)\n",
    "    \n",
    "    def Adaptive_Linear_Reg(self, directory): # in which the step size adapts to local curvature\n",
    "        #set up\n",
    "        self.initialTime = time.time() # start the clock\n",
    "        self.x = deepcopy(self.x_copy) # make copies to use\n",
    "        self.a = deepcopy(self.a_copy)\n",
    "        self.b = deepcopy(self.b_copy)\n",
    "        self.lam = random.random()+1e-12 # initialise step size > 0\n",
    "        self.theta = np.inf # initialise theta = infty\n",
    "        x0 = deepcopy(self.x) # make a coopy of x to preserve previous x\n",
    "        self.grad = self.g_Lin(self.x) # calculate gradient\n",
    "        self.gradNorm = np.linalg.norm(self.grad) # calc the l2 norm of the gradient\n",
    "        self.gradientValuesList = [self.gradNorm] # initialise ...\n",
    "        self.functionVals = [self.f_Lin(self.x)] # to show function value convergence\n",
    "        self.timeList = [time.time() - self.initialTime] # to show time taken\n",
    "        \n",
    "        self.GD_Lin()\n",
    "        self.oldGrad = deepcopy(self.grad)\n",
    "        self.grad = self.g_Lin(self.x)\n",
    "        self.gradNorm = np.linalg.norm(self.grad)\n",
    "        self.gradientValuesList.append(self.gradNorm)\n",
    "        self.functionVals.append(self.f_Lin(self.x))\n",
    "        self.timeList.append(time.time() - self.initialTime)\n",
    "        # loop\n",
    "        while self.gradNorm > self.error:\n",
    "            lam0 = deepcopy(self.lam) # copy initial step size\n",
    "            min1 = np.sqrt(1 + self.theta)*self.lam # 1st part of step size calc\n",
    "            min2_nom = np.linalg.norm(self.x - x0) # 2nd part of step size calc\n",
    "            min2_denom = 2*np.linalg.norm(self.grad - self.oldGrad) # as above\n",
    "            self.lam = np.min([min1, (min2_nom / min2_denom) ]) # calc new step size\n",
    "            x0 = deepcopy(self.x) # make a coopy of x to preserve previous x\n",
    "            self.GD_Lin() # steepest descent\n",
    "            self.theta = self.lam / lam0 # calc theta\n",
    "            self.oldGrad = deepcopy(self.grad)\n",
    "            self.grad = self.g_Lin(self.x)\n",
    "            self.gradNorm = np.linalg.norm(self.grad)\n",
    "            self.gradientValuesList.append(self.gradNorm)\n",
    "            self.functionVals.append(self.f_Lin(self.x))\n",
    "            self.timeList.append(time.time() - self.initialTime)\n",
    "            if self.time_limit > 0:\n",
    "                if (time.time() - self.initialTime) > self.time_limit:\n",
    "                    break\n",
    "        self.LinearAdapDF = pd.DataFrame(\n",
    "            {'GradientNorms': self.gradientValuesList , \n",
    "             'TimeTaken': self.timeList, 'FunctionValues': self.functionVals})\n",
    "        self.LinearAdapDF.to_csv(directory, index = False)\n",
    "    \n",
    "    def Grad_LineSearch_Linear_Reg(self, directory): # using a line search\n",
    "        def BackTrack():\n",
    "            rho = random.random()\n",
    "            lam = random.randrange(10)\n",
    "            while 1 > ( self.gradNorm/np.linalg.norm(self.g_Lin(self.x - lam*self.grad) - self.grad) ):\n",
    "                lam = rho * lam\n",
    "                if self.time_limit > 0:\n",
    "                    if (time.time() - self.initialTime) > self.time_limit:\n",
    "                        return None\n",
    "            self.lam = lam\n",
    "            \n",
    "        #set up\n",
    "        self.initialTime = time.time() # start the clock\n",
    "        self.x = deepcopy(self.x_copy) # make copies to use\n",
    "        self.a = deepcopy(self.a_copy)\n",
    "        self.b = deepcopy(self.b_copy)\n",
    "        self.grad = self.g_Lin(self.x) # calculate gradient\n",
    "        self.gradNorm = np.linalg.norm(self.grad) # calc the l2 norm of the gradient\n",
    "        self.gradientValuesList = [self.gradNorm] # initialise ...\n",
    "        self.functionVals = [self.f_Lin(self.x)] # to show function value convergence\n",
    "        self.timeList = [time.time() - self.initialTime]\n",
    "        # loop\n",
    "        while self.gradNorm > self.error:\n",
    "            BackTrack()\n",
    "            self.GD_Lin()\n",
    "            self.grad = self.g_Lin(self.x)\n",
    "            self.gradNorm = np.linalg.norm(self.grad)\n",
    "            self.gradientValuesList.append(self.gradNorm)\n",
    "            self.functionVals.append(self.f_Lin(self.x))\n",
    "            self.timeList.append(time.time() - self.initialTime)\n",
    "            if self.time_limit > 0:\n",
    "                if (time.time() - self.initialTime) > self.time_limit:\n",
    "                    break\n",
    "        self.LinearLineSearchDF = pd.DataFrame(\n",
    "            {'GradientNorms': self.gradientValuesList , \n",
    "             'TimeTaken': self.timeList, 'FunctionValues': self.functionVals})\n",
    "        self.LinearLineSearchDF.to_csv(directory, index = False)\n",
    "            \n",
    "    def Barzilai_Linear_Reg(self, directory):\n",
    "        #set up\n",
    "        self.initialTime = time.time() # start the clock\n",
    "        self.x = deepcopy(self.x_copy) # make copies to use\n",
    "        self.a = deepcopy(self.a_copy)\n",
    "        self.b = deepcopy(self.b_copy)\n",
    "        self.lam = random.random()+1e-12 # initialise step size > 0\n",
    "        x0 = deepcopy(self.x) # make a coopy of x to preserve previous x\n",
    "        self.grad = self.g_Lin(self.x) # calculate gradient\n",
    "        self.gradNorm = np.linalg.norm(self.grad) # calc the l2 norm of the gradient\n",
    "        self.gradientValuesList = [self.gradNorm] # initialise ...\n",
    "        self.functionVals = [self.f_Lin(self.x)] # to show function value convergence\n",
    "        self.timeList = [time.time() - self.initialTime] # to show time taken\n",
    "        self.GD_Lin()\n",
    "        self.oldGrad = deepcopy(self.grad)\n",
    "        self.grad = self.g_Lin(self.x) # calculate gradient\n",
    "        self.gradNorm = np.linalg.norm(self.grad) # calc the l2 norm of the gradient\n",
    "        self.gradientValuesList.append(self.gradNorm)\n",
    "        self.functionVals.append(self.f_Lin(self.x))\n",
    "        self.timeList.append(time.time() - self.initialTime)\n",
    "        # loop\n",
    "        while self.gradNorm > self.error:\n",
    "            nom = np.dot(self.x - x0, self.grad - self.oldGrad )\n",
    "            denom = np.linalg.norm(self.grad - self.oldGrad)**2\n",
    "            self.lam = nom / denom            \n",
    "            x0 = deepcopy(self.x) # make a coopy of x to preserve previous x\n",
    "            self.GD_Lin() # steepest descent\n",
    "            self.oldGrad = deepcopy(self.grad)\n",
    "            self.grad = self.g_Lin(self.x)\n",
    "            self.gradNorm = np.linalg.norm(self.grad)\n",
    "            self.gradientValuesList.append(self.gradNorm)\n",
    "            self.functionVals.append(self.f_Lin(self.x))\n",
    "            self.timeList.append(time.time() - self.initialTime)\n",
    "            if self.time_limit > 0:\n",
    "                if (time.time() - self.initialTime) > self.time_limit:\n",
    "                    break\n",
    "        self.LinearBarzDF = pd.DataFrame(\n",
    "            {'GradientNorms': self.gradientValuesList , \n",
    "             'TimeTaken': self.timeList, 'FunctionValues': self.functionVals})\n",
    "        self.LinearBarzDF.to_csv(directory, index = False)\n",
    "        \n",
    "    def Nesterov_Linear_Reg(self, directory):\n",
    "        #set up\n",
    "        self.initialTime = time.time() # start the clock\n",
    "        self.x = deepcopy(self.x_copy) # make copies to use\n",
    "        self.a = deepcopy(self.a_copy)\n",
    "        self.b = deepcopy(self.b_copy)\n",
    "        L = np.max( np.linalg.svd( self.a @ self.a.T ) [1] )\n",
    "        self.grad = self.g_Lin(self.x) # calculate gradient\n",
    "        self.gradNorm = np.linalg.norm(self.grad) # calc the l2 norm of the gradient\n",
    "        self.gradientValuesList = [self.gradNorm] # initialise ...\n",
    "        self.functionVals = [self.f_Lin(self.x)] # to show function value convergence\n",
    "        self.timeList = [time.time() - self.initialTime]\n",
    "        lam1 = 1\n",
    "        y0 = deepcopy(self.x)\n",
    "        while self.gradNorm > self.error:\n",
    "            self.lam = 0.5*(1 + np.sqrt(1 + 4*lam1**2))\n",
    "            self.gamma = (1 - lam1)/self.lam\n",
    "            y1 = self.x - self.grad/L\n",
    "            self.x = (1 - self.gamma)*y1 + self.gamma*y0\n",
    "            lam1 = deepcopy(self.lam)\n",
    "            y0 = deepcopy(y1)\n",
    "            self.grad = self.g_Lin(self.x)\n",
    "            self.gradNorm = np.linalg.norm(self.grad)\n",
    "            self.gradientValuesList.append(self.gradNorm)\n",
    "            self.functionVals.append(self.f_Lin(self.x))\n",
    "            self.timeList.append(time.time() - self.initialTime)\n",
    "            if self.time_limit > 0:\n",
    "                if (time.time() - self.initialTime) > self.time_limit:\n",
    "                    break\n",
    "        self.LinearNestDF = pd.DataFrame(\n",
    "            {'GradientNorms': self.gradientValuesList , \n",
    "             'TimeTaken': self.timeList, 'FunctionValues': self.functionVals})\n",
    "        self.LinearNestDF.to_csv(directory, index = False)\n",
    "    \n",
    "    #-------------------------------------------------------------------------------------------\n",
    "    \n",
    "    def makeLogisticRegressionDataset(self):\n",
    "        sample_data = Make_class()\n",
    "        ones = np.array([[1]*len(sample_data[0])])\n",
    "        augmented_data = np.concatenate((ones.T, self.normalise(sample_data[0])), axis =1) # add a 1 to the start of each feature\n",
    "        self.xTrain, self.xTest, self.yTrain, self.yTest = split( augmented_data, sample_data[1], \\\n",
    "                                                                 test_size = 0.1)\n",
    "        self.weights_copy = np.random.rand( len(self.xTrain[0]) )\n",
    "        \n",
    "    def importLogisticRegressionDataset(self, dataset, multi = False):\n",
    "        if multi == True:\n",
    "            sample_data = dataset(return_X_y=True, n_class = 2)\n",
    "        else:\n",
    "            sample_data = dataset(return_X_y=True)\n",
    "        ones = np.array([[1]*len(sample_data[0])])\n",
    "        augmented_data = np.concatenate((ones.T, self.normalise(sample_data[0])), axis =1) # add a 1 to the start of each feature\n",
    "        self.xTrain, self.xTest, self.yTrain, self.yTest = split( augmented_data, sample_data[1], \\\n",
    "                                                                 test_size = 0.1)\n",
    "        self.weights_copy = np.random.rand( len(self.xTrain[0]) )\n",
    "    \n",
    "    def sigmoid(self, w, X): return 1.0/(1 + np.exp(-(X @ w))) # sigmoid function\n",
    "    \n",
    "    def normalise(self, X): # normalises the input data to values between 0 and 1\n",
    "        mins = np.min(X, axis = 0) \n",
    "        maxs = np.max(X, axis = 0) \n",
    "        rng = maxs - mins \n",
    "        norm_X = 1 - ((maxs - X)/rng) \n",
    "        return norm_X\n",
    "    \n",
    "    def f_Log(self, W): # function f: the inverse of the log likelihood function, modelling the probability of the data xTrain and xTest\n",
    "        sig = self.sigmoid(W, self.xTrain)\n",
    "        step1 = self.yTrain * np.log(sig + 1e-300) # returns an array with log(sig) values where yTrain =1, else 0\n",
    "        step2 = (1 - self.yTrain) * np.log(1 - sig + 1e-300 )\n",
    "        final = -step1 - step2 \n",
    "        return np.mean(final)\n",
    "    \n",
    "    def g_Log(self, W): # the gradient function of f, simply (h(w) - y) * x\n",
    "        sig = self.sigmoid(W, self.xTrain)\n",
    "        inner_expr = sig - self.yTrain\n",
    "        return inner_expr.T @ self.xTrain\n",
    "    \n",
    "    def GD_Log(self): # Step size calculator - w_1 = w_0 - lam* gradient(w)\n",
    "        self.weights = self.weights - self.lam * self.g_Log(self.weights)\n",
    "        \n",
    "    def classify(self):\n",
    "        sig = self.sigmoid(self.weights, self.xTest)\n",
    "        predict = np.squeeze( np.where( sig >= 0.5, 1, 0 ) )\n",
    "        self.preds = sum( predict == self.yTest ) / len(self.xTest)\n",
    "    \n",
    "    def Vanilla_Logistic_Reg(self, directory):\n",
    "        self.initialTime= time.time() # start the clock\n",
    "        self.weights = deepcopy(self.weights_copy) # make a copy of the weights\n",
    "        self.lam = 1/np.max(np.linalg.svd( self.xTrain @ self.xTrain.T )[1]) # find step size\n",
    "        self.grad = self.g_Log(self.weights) # calculate gradient\n",
    "        self.gradNorm = np.linalg.norm(self.grad) # calc the l2 norm of the gradient\n",
    "        self.gradientValuesList = [self.gradNorm] # initialise ...\n",
    "        self.functionVals = [self.f_Log(self.weights)] # to show function value convergence\n",
    "        self.classify()\n",
    "        self.predList = [self.preds]\n",
    "        self.timeList = [time.time() - self.initialTime]\n",
    "        while self.gradNorm > self.error:\n",
    "            self.GD_Log()\n",
    "            self.grad = self.g_Log(self.weights)\n",
    "            self.gradNorm = np.linalg.norm(self.grad)\n",
    "            self.gradientValuesList.append(self.gradNorm)\n",
    "            self.functionVals.append(self.f_Log(self.weights))\n",
    "            self.classify()\n",
    "            self.predList.append(self.preds)\n",
    "            self.timeList.append(time.time() - self.initialTime)\n",
    "            if self.time_limit > 0:\n",
    "                if (time.time() - self.initialTime) > self.time_limit:\n",
    "                    break\n",
    "        self.LogisticVanDF = pd.DataFrame(\n",
    "            {'GradientNorms': self.gradientValuesList , \n",
    "             'TimeTaken': self.timeList, 'FunctionValues': self.functionVals, 'Accuracy': self.predList})\n",
    "        self.LogisticVanDF.to_csv(directory, index = False)\n",
    "    \n",
    "    def Adaptive_Logistic_Reg(self, directory):\n",
    "        self.initialTime= time.time() # start the clock\n",
    "        self.weights = deepcopy(self.weights_copy) # make a copy of the weights\n",
    "        self.lam = random.random()+1e-12 # initialise step size > 0\n",
    "        self.theta = np.inf # initialise theta = infty\n",
    "        weights0 = deepcopy(self.weights) # make a coopy of weights to preserve previous weights\n",
    "        self.grad = self.g_Log(self.weights) # calculate gradient\n",
    "        self.gradNorm = np.linalg.norm(self.grad) # calc the l2 norm of the gradient\n",
    "        self.gradientValuesList = [self.gradNorm] # initialise ...\n",
    "        self.functionVals = [self.f_Log(self.weights)] # to show function value convergence\n",
    "        self.classify()\n",
    "        self.predList = [self.preds]\n",
    "        self.timeList = [time.time() - self.initialTime]\n",
    "        \n",
    "        self.GD_Log()\n",
    "        self.oldGrad = deepcopy(self.grad)\n",
    "        self.grad = self.g_Log(self.weights) # calculate gradient\n",
    "        self.gradNorm = np.linalg.norm(self.grad) # calc the l2 norm of the gradient\n",
    "        self.gradientValuesList.append(self.gradNorm)\n",
    "        self.functionVals.append(self.f_Log(self.weights))\n",
    "        self.classify()\n",
    "        self.predList.append(self.preds)\n",
    "        self.timeList.append(time.time() - self.initialTime)\n",
    "        while self.gradNorm > self.error:\n",
    "            lam0 = deepcopy(self.lam)\n",
    "            min1 = np.sqrt(1 + self.theta)*self.lam # 1st part of step size calc\n",
    "            min2_nom = np.linalg.norm(self.weights - weights0) # 2nd part of step size calc\n",
    "            min2_denom = 2*np.linalg.norm(self.grad - self.oldGrad) # as above\n",
    "            self.lam = np.min([min1, (min2_nom / min2_denom) ]) # calc new step size\n",
    "            weights0 = deepcopy(self.weights) # make a coopy of x to preserve previous x\n",
    "            self.GD_Log() # steepest descent\n",
    "            self.theta = self.lam / lam0 # calc theta\n",
    "            self.oldGrad = deepcopy(self.grad)\n",
    "            self.grad = self.g_Log(self.weights)\n",
    "            self.gradNorm = np.linalg.norm(self.grad)\n",
    "            self.gradientValuesList.append(self.gradNorm)\n",
    "            self.functionVals.append(self.f_Log(self.weights))\n",
    "            self.classify()\n",
    "            self.predList.append(self.preds)\n",
    "            self.timeList.append(time.time() - self.initialTime)\n",
    "            if self.time_limit > 0:\n",
    "                if (time.time() - self.initialTime) > self.time_limit:\n",
    "                    break\n",
    "        self.LogisticAdapDF = pd.DataFrame(\n",
    "            {'GradientNorms': self.gradientValuesList , \n",
    "             'TimeTaken': self.timeList, 'FunctionValues': self.functionVals, 'Accuracy': self.predList})\n",
    "        self.LogisticAdapDF.to_csv(directory, index = False)\n",
    "        \n",
    "    def Grad_LineSearch_Logistic_Reg(self, directory): # using a line search\n",
    "        def BackTrack():\n",
    "            rho = random.random()\n",
    "            lam = random.randrange(10) # try using a less stupid number\n",
    "            while 1>(self.gradNorm/np.linalg.norm(self.g_Log(self.weights - lam*self.grad) - self.grad)):\n",
    "                lam = rho * lam\n",
    "                if self.time_limit > 0:\n",
    "                    if (time.time() - self.initialTime) > self.time_limit:\n",
    "                        return None\n",
    "            self.lam = lam\n",
    "        #set up\n",
    "        self.initialTime = time.time() # start the clock\n",
    "        self.weights = deepcopy(self.weights_copy)\n",
    "        self.grad = self.g_Log(self.weights) # calculate gradient\n",
    "        self.gradNorm = np.linalg.norm(self.grad) # calc the l2 norm of the gradient\n",
    "        self.gradientValuesList = [self.gradNorm] # initialise ...\n",
    "        self.functionVals = [self.f_Log(self.weights)] # to show function value convergence\n",
    "        self.classify()\n",
    "        self.predList = [self.preds]\n",
    "        self.timeList = [time.time() - self.initialTime]\n",
    "        # loop\n",
    "        while self.gradNorm > self.error:\n",
    "            BackTrack()\n",
    "            self.GD_Log()\n",
    "            self.grad = self.g_Log(self.weights)\n",
    "            self.gradNorm = np.linalg.norm(self.grad)\n",
    "            self.gradientValuesList.append(self.gradNorm)\n",
    "            self.functionVals.append(self.f_Log(self.weights))\n",
    "            self.classify()\n",
    "            self.predList.append(self.preds)\n",
    "            self.timeList.append(time.time() - self.initialTime)\n",
    "            if self.time_limit > 0:\n",
    "                if (time.time() - self.initialTime) > self.time_limit:\n",
    "                    break\n",
    "#             k+=1\n",
    "        self.LogisticLineDF = pd.DataFrame(\n",
    "            {'GradientNorms': self.gradientValuesList , \n",
    "             'TimeTaken': self.timeList, 'FunctionValues': self.functionVals, 'Accuracy': self.predList})\n",
    "        self.LogisticLineDF.to_csv(directory, index = False)\n",
    "    \n",
    "    def Barzilai_Logistic_Reg(self, directory):\n",
    "        #set up\n",
    "        self.initialTime = time.time() # start the clock\n",
    "        self.weights = deepcopy(self.weights_copy) # make copies to use\n",
    "        self.lam = random.random()+1e-12 # initialise step size > 0\n",
    "        weights0 = deepcopy(self.weights) # make a copy of weughts to preserve previous weights\n",
    "        self.grad = self.g_Log(self.weights) # calculate gradient\n",
    "        self.gradNorm = np.linalg.norm(self.grad) # calc the l2 norm of the gradient\n",
    "        self.gradientValuesList = [self.gradNorm] # initialise ...\n",
    "        self.functionVals = [self.f_Log(self.weights)] # to show function value convergence\n",
    "        self.classify()\n",
    "        self.predList = [self.preds]\n",
    "        self.timeList = [time.time() - self.initialTime] # to show time taken\n",
    "        \n",
    "        self.GD_Log()\n",
    "        self.oldGrad = deepcopy(self.grad)\n",
    "        self.grad = self.g_Log(self.weights) # calculate gradient\n",
    "        self.gradNorm = np.linalg.norm(self.grad) # calc the l2 norm of the gradient\n",
    "        self.gradientValuesList.append(self.gradNorm)\n",
    "        self.functionVals.append(self.f_Log(self.weights))\n",
    "        self.classify()\n",
    "        self.predList.append(self.preds)\n",
    "        self.timeList.append(time.time() - self.initialTime)\n",
    "        # loop\n",
    "        k = 0\n",
    "        while (self.gradNorm > self.error and k <10):\n",
    "            nom = np.dot(self.weights - weights0, self.grad - self.oldGrad )\n",
    "            denom = np.linalg.norm(self.grad - self.oldGrad)**2\n",
    "            self.lam = nom / (denom +1e-300)           \n",
    "            weight_backup = deepcopy(self.weights)\n",
    "            self.GD_Log() # steepest descent\n",
    "            # we don't update oldGrad in this loop\n",
    "            self.grad = self.g_Log(self.weights)\n",
    "            self.gradNorm = np.linalg.norm(self.grad)\n",
    "            self.gradientValuesList.append(self.gradNorm)\n",
    "            self.functionVals.append(self.f_Log(self.weights))\n",
    "            self.classify()\n",
    "            self.predList.append(self.preds)\n",
    "            self.timeList.append(time.time() - self.initialTime)\n",
    "            if self.time_limit > 0:\n",
    "                if (time.time() - self.initialTime) > self.time_limit:\n",
    "                    break\n",
    "            k=k+1\n",
    "        weights0 = weight_backup\n",
    "        self.oldGrad = self.g_Log(weights0)\n",
    "        while self.gradNorm > self.error:\n",
    "            nom = np.dot(self.weights - weights0, self.grad - self.oldGrad )\n",
    "            denom = np.linalg.norm(self.grad - self.oldGrad)**2\n",
    "            self.lam = nom / (denom +1e-300)          \n",
    "            weights0 = deepcopy(self.weights) # make a coopy of x to preserve previous x\n",
    "            self.GD_Log() # steepest descent\n",
    "            self.oldGrad = deepcopy(self.grad)\n",
    "            self.grad = self.g_Log(self.weights)\n",
    "            self.gradNorm = np.linalg.norm(self.grad)\n",
    "            self.gradientValuesList.append(self.gradNorm)\n",
    "            self.functionVals.append(self.f_Log(self.weights))\n",
    "            self.classify()\n",
    "            self.predList.append(self.preds)\n",
    "            self.timeList.append(time.time() - self.initialTime)\n",
    "            if self.time_limit > 0:\n",
    "                if (time.time() - self.initialTime) > self.time_limit:\n",
    "                    break\n",
    "        self.LogisticBarzDF = pd.DataFrame(\n",
    "            {'GradientNorms': self.gradientValuesList , \n",
    "             'TimeTaken': self.timeList, 'FunctionValues': self.functionVals, 'Accuracy': self.predList})\n",
    "        self.LogisticBarzDF.to_csv(directory, index = False)\n",
    "        \n",
    "    def Nesterov_Logistic_Reg(self, directory):\n",
    "        #set up\n",
    "        self.initialTime = time.time() # start the clock\n",
    "        L = np.max(np.linalg.svd( self.xTrain @ self.xTrain.T )[1]) # find L\n",
    "        self.weights = deepcopy(self.weights_copy) # make copies to use\n",
    "        self.grad = self.g_Log(self.weights) # calculate gradient\n",
    "        self.gradNorm = np.linalg.norm(self.grad) # calc the l2 norm of the gradient\n",
    "        self.gradientValuesList = [self.gradNorm] # initialise ...\n",
    "        self.functionVals = [self.f_Log(self.weights)] # to show function value convergence\n",
    "        self.classify()\n",
    "        self.predList = [self.preds]\n",
    "        lam1 = 1\n",
    "        y0 = deepcopy(self.weights)\n",
    "        self.timeList = [time.time() - self.initialTime]\n",
    "        while self.gradNorm > self.error:\n",
    "            self.lam = 0.5*(1 + np.sqrt(1 + 4*lam1**2))\n",
    "            self.gamma = (1 - lam1)/self.lam \n",
    "            y1 = self.weights - self.grad/L\n",
    "            self.weights = (1 - self.gamma)*y1 + self.gamma*y0\n",
    "            lam1 = deepcopy(self.lam)\n",
    "            y0 = deepcopy(y1)\n",
    "            self.grad = self.g_Log(self.weights)\n",
    "            self.gradNorm = np.linalg.norm(self.grad)\n",
    "            self.gradientValuesList.append(self.gradNorm)\n",
    "            self.functionVals.append(self.f_Log(self.weights))\n",
    "            self.classify()\n",
    "            self.predList.append(self.preds)\n",
    "            self.timeList.append(time.time() - self.initialTime)\n",
    "            if self.time_limit > 0:\n",
    "                if (time.time() - self.initialTime) > self.time_limit:\n",
    "                    break\n",
    "        self.LogisticNestDF = pd.DataFrame(\n",
    "            {'GradientNorms': self.gradientValuesList , \n",
    "             'TimeTaken': self.timeList, 'FunctionValues': self.functionVals, 'Accuracy': self.predList})\n",
    "        self.LogisticNestDF.to_csv(directory, index = False)\n",
    "\n",
    "def RunAll(error, runtime, date_time):\n",
    "    global H\n",
    "    H = Regression(error, runtime)\n",
    "    run_lin(date_time)\n",
    "    print('Linear Regression complete')\n",
    "    run_log(date_time)\n",
    "    print('Logistic Regression complete')\n",
    "    read_lin(date_time)\n",
    "    read_log(date_time)\n",
    "\n",
    "def run_lin(date_time):\n",
    "    H.makeLinearRegressionDataset()\n",
    "    H.Adaptive_Linear_Reg(\"output/Lin_Test_Adap_{}.csv\".format(date_time))\n",
    "    H.Grad_LineSearch_Linear_Reg(\"output/Lin_Test_LS_{}.csv\".format(date_time))\n",
    "    H.Vanilla_Linear_Reg(\"output/Lin_Test_Van_{}.csv\".format(date_time))\n",
    "    H.Barzilai_Linear_Reg(\"output/Lin_Test_Baz_{}.csv\".format(date_time))\n",
    "    H.Nesterov_Linear_Reg(\"output/Lin_Test_Nest_{}.csv\".format(date_time))\n",
    "def read_lin(date_time):\n",
    "    global Lin_vanilla_out\n",
    "    Lin_vanilla_out = pd.read_csv(\"output/Lin_Test_Van_{}.csv\".format(date_time))\n",
    "    global Lin_adap_out\n",
    "    Lin_adap_out = pd.read_csv(\"output/Lin_Test_Adap_{}.csv\".format(date_time))\n",
    "    global Lin_line_out\n",
    "    Lin_line_out = pd.read_csv(\"output/Lin_Test_LS_{}.csv\".format(date_time))\n",
    "    global Lin_baz_out\n",
    "    Lin_baz_out = pd.read_csv(\"output/Lin_Test_Baz_{}.csv\".format(date_time))\n",
    "    global Lin_nest_out\n",
    "    Lin_nest_out = pd.read_csv(\"output/Lin_Test_Nest_{}.csv\".format(date_time))\n",
    "\n",
    "def run_log(date_time):\n",
    "    H.makeLogisticRegressionDataset()\n",
    "    H.Adaptive_Logistic_Reg(\"output/Log_Test_Adap_{}.csv\".format(date_time))\n",
    "    H.Grad_LineSearch_Logistic_Reg(\"output/Log_Test_LS_{}.csv\".format(date_time))\n",
    "    H.Vanilla_Logistic_Reg(\"output/Log_Test_Van_{}.csv\".format(date_time))\n",
    "    H.Barzilai_Logistic_Reg(\"output/Log_Test_Baz_{}.csv\".format(date_time))\n",
    "    H.Nesterov_Logistic_Reg(\"output/Log_Test_Nest_{}.csv\".format(date_time))\n",
    "def read_log(date_time):\n",
    "    global Log_vanilla_out\n",
    "    Log_vanilla_out = pd.read_csv(\"output/Log_Test_Van_{}.csv\".format(date_time))\n",
    "    global Log_adap_out\n",
    "    Log_adap_out = pd.read_csv(\"output/Log_Test_Adap_{}.csv\".format(date_time))\n",
    "    global Log_line_out\n",
    "    Log_line_out = pd.read_csv(\"output/Log_Test_LS_{}.csv\".format(date_time))\n",
    "    global Log_baz_out\n",
    "    Log_baz_out = pd.read_csv(\"output/Log_Test_Baz_{}.csv\".format(date_time))\n",
    "    global Log_nest_out\n",
    "    Log_nest_out = pd.read_csv(\"output/Log_Test_Nest_{}.csv\".format(date_time))"
   ]
  },
  {
   "cell_type": "code",
   "execution_count": 12,
   "metadata": {},
   "outputs": [],
   "source": [
    "def endpoint(source, target):\n",
    "    return np.argmax(np.where(target.TimeTaken > source.TimeTaken.iloc[-1],1,0))"
   ]
  },
  {
   "cell_type": "code",
   "execution_count": 2,
   "metadata": {},
   "outputs": [
    {
     "name": "stderr",
     "output_type": "stream",
     "text": [
      "<ipython-input-1-cf99a8526701>:114: RuntimeWarning: divide by zero encountered in double_scalars\n",
      "  while 1 > ( self.gradNorm/np.linalg.norm(self.g_Lin(self.x - lam*self.grad) - self.grad) ):\n"
     ]
    },
    {
     "name": "stdout",
     "output_type": "stream",
     "text": [
      "Linear Regression complete\n"
     ]
    },
    {
     "name": "stderr",
     "output_type": "stream",
     "text": [
      "<ipython-input-1-cf99a8526701>:244: RuntimeWarning: overflow encountered in exp\n",
      "  def sigmoid(self, w, X): return 1.0/(1 + np.exp(-(X @ w))) # sigmoid function\n",
      "<ipython-input-1-cf99a8526701>:353: RuntimeWarning: divide by zero encountered in double_scalars\n",
      "  while 1>(self.gradNorm/np.linalg.norm(self.g_Log(self.weights - lam*self.grad) - self.grad)):\n"
     ]
    },
    {
     "name": "stdout",
     "output_type": "stream",
     "text": [
      "Logistic Regression complete\n"
     ]
    }
   ],
   "source": [
    "RunAll(1e-6,60,\"16.08.21_12.14\")"
   ]
  },
  {
   "cell_type": "markdown",
   "metadata": {},
   "source": [
    "# Linear Regression Output"
   ]
  },
  {
   "cell_type": "markdown",
   "metadata": {},
   "source": [
    "Full plot"
   ]
  },
  {
   "cell_type": "code",
   "execution_count": 10,
   "metadata": {
    "scrolled": true
   },
   "outputs": [
    {
     "data": {
      "image/png": "[encoded data removed]",
      "text/plain": [
       "<Figure size 432x288 with 1 Axes>"
      ]
     },
     "metadata": {
      "needs_background": "light"
     },
     "output_type": "display_data"
    }
   ],
   "source": [
    "plt.plot(Lin_baz_out.TimeTaken, Lin_baz_out.GradientNorms, c = 'm')\n",
    "plt.plot(Lin_adap_out.TimeTaken, Lin_adap_out.GradientNorms, c = 'g')\n",
    "plt.plot(Lin_line_out.TimeTaken.iloc[:-1], Lin_line_out.GradientNorms.iloc[:-1], c = 'r')\n",
    "plt.plot(Lin_nest_out.TimeTaken, Lin_nest_out.GradientNorms, c = 'b')\n",
    "plt.plot(Lin_vanilla_out.TimeTaken, Lin_vanilla_out.GradientNorms, c = 'y')\n",
    "plt.yscale('log')\n",
    "plt.xlabel('Time in seconds')\n",
    "plt.show()"
   ]
  },
  {
   "cell_type": "code",
   "execution_count": 13,
   "metadata": {
    "scrolled": false
   },
   "outputs": [
    {
     "data": {
      "image/png": "[encoded data removed]",
      "text/plain": [
       "<Figure size 432x288 with 1 Axes>"
      ]
     },
     "metadata": {
      "needs_background": "light"
     },
     "output_type": "display_data"
    }
   ],
   "source": [
    "plt.plot(Lin_baz_out.TimeTaken, Lin_baz_out.GradientNorms, c = 'm')\n",
    "plt.plot(Lin_adap_out.TimeTaken, Lin_adap_out.GradientNorms, c = 'g')\n",
    "plt.plot(Lin_line_out.TimeTaken.iloc[:endpoint(Lin_adap_out, Lin_line_out)], Lin_line_out.GradientNorms.iloc[:endpoint(Lin_adap_out, Lin_line_out)], c = 'r')\n",
    "plt.plot(Lin_nest_out.TimeTaken, Lin_nest_out.GradientNorms, c = 'b')\n",
    "plt.plot(Lin_vanilla_out.TimeTaken.iloc[:endpoint(Lin_adap_out, Lin_vanilla_out)], Lin_vanilla_out.GradientNorms.iloc[:endpoint(Lin_adap_out, Lin_vanilla_out)], c = 'y')\n",
    "plt.yscale('log')\n",
    "plt.xlabel('Time in seconds')\n",
    "plt.show()"
   ]
  },
  {
   "cell_type": "code",
   "execution_count": 6,
   "metadata": {},
   "outputs": [
    {
     "data": {
      "text/plain": [
       "26.989213705062863"
      ]
     },
     "execution_count": 6,
     "metadata": {},
     "output_type": "execute_result"
    }
   ],
   "source": [
    "Lin_adap_out.TimeTaken.iloc[-1]"
   ]
  },
  {
   "cell_type": "code",
   "execution_count": 4,
   "metadata": {},
   "outputs": [
    {
     "name": "stdout",
     "output_type": "stream",
     "text": [
      "Van final         GradientNorms  TimeTaken  FunctionValues\n",
      "214744       0.000011  59.998933    3.316261e-09\n",
      "214745       0.000011  59.999428    3.315925e-09\n",
      "214746       0.000011  59.999428    3.315589e-09\n",
      "214747       0.000011  59.999926    3.315254e-09\n",
      "214748       0.000011  60.000422    3.314918e-09\n",
      "Adap final        GradientNorms  TimeTaken  FunctionValues\n",
      "76864   2.869535e-06  26.987726    2.658376e-11\n",
      "76865   1.447956e-06  26.988222    2.657386e-11\n",
      "76866   1.112890e-06  26.988719    2.657127e-11\n",
      "76867   1.011171e-06  26.989214    2.656911e-11\n",
      "76868   9.998316e-07  26.989214    2.656627e-11\n",
      "LS final       GradientNorms  TimeTaken  FunctionValues\n",
      "8105       0.049054  59.497582        0.059966\n",
      "8106       0.059569  59.512958        0.059943\n",
      "8107       0.052579  59.571981        0.059933\n",
      "8108       0.049808  59.572973        0.059922\n",
      "8109       0.048525  60.000028        0.059912\n",
      "Baz final       GradientNorms  TimeTaken  FunctionValues\n",
      "1514   6.289344e-05   0.508399    2.334474e-11\n",
      "1515   1.210568e-05   0.508895    1.769407e-11\n",
      "1516   4.165945e-06   0.508895    1.744187e-11\n",
      "1517   1.774681e-06   0.509392    1.740208e-11\n",
      "1518   9.393220e-07   0.509392    1.739160e-11\n",
      "Nest final        GradientNorms  TimeTaken  FunctionValues\n",
      "32330   3.683912e-06   9.695787    3.590015e-10\n",
      "32331   2.838658e-06   9.696284    2.121434e-10\n",
      "32332   1.998619e-06   9.696284    1.037794e-10\n",
      "32333   1.175110e-06   9.696778    3.391470e-11\n",
      "32334   4.659170e-07   9.697276    2.546866e-12\n"
     ]
    }
   ],
   "source": [
    "print(\"Van final\", Lin_vanilla_out.tail())\n",
    "print(\"Adap final\", Lin_adap_out.tail())\n",
    "print(\"LS final\", Lin_line_out.tail())\n",
    "print(\"Baz final\", Lin_baz_out.tail())\n",
    "print(\"Nest final\", Lin_nest_out.tail())"
   ]
  },
  {
   "cell_type": "markdown",
   "metadata": {},
   "source": [
    "# Logistic Regression output"
   ]
  },
  {
   "cell_type": "code",
   "execution_count": 5,
   "metadata": {},
   "outputs": [
    {
     "data": {
      "image/png": "[encoded data removed]",
      "text/plain": [
       "<Figure size 432x288 with 1 Axes>"
      ]
     },
     "metadata": {
      "needs_background": "light"
     },
     "output_type": "display_data"
    }
   ],
   "source": [
    "plt.plot(Log_baz_out.TimeTaken, Log_baz_out.GradientNorms, c = 'm')\n",
    "plt.plot(Log_adap_out.TimeTaken, Log_adap_out.GradientNorms, c = 'g')\n",
    "plt.plot(Log_line_out.TimeTaken, Log_line_out.GradientNorms, c = 'r')\n",
    "plt.plot(Log_nest_out.TimeTaken, Log_nest_out.GradientNorms, c = 'b')\n",
    "plt.plot(Log_vanilla_out.TimeTaken, Log_vanilla_out.GradientNorms, c = 'y')\n",
    "plt.yscale('log')\n",
    "plt.xlabel('Time in seconds')\n",
    "plt.show()"
   ]
  },
  {
   "cell_type": "code",
   "execution_count": 16,
   "metadata": {},
   "outputs": [
    {
     "data": {
      "image/png": "[encoded data removed]",
      "text/plain": [
       "<Figure size 432x288 with 1 Axes>"
      ]
     },
     "metadata": {
      "needs_background": "light"
     },
     "output_type": "display_data"
    }
   ],
   "source": [
    "plt.plot(Log_baz_out.TimeTaken, Log_baz_out.GradientNorms, c = 'm')\n",
    "plt.plot(Log_adap_out.TimeTaken, Log_adap_out.GradientNorms, c = 'g')\n",
    "plt.plot(Log_line_out.TimeTaken.iloc[:endpoint(Log_adap_out,Log_line_out)], Log_line_out.GradientNorms.iloc[:endpoint(Log_adap_out,Log_line_out)], c = 'r')\n",
    "plt.plot(Log_nest_out.TimeTaken.iloc[:endpoint(Log_adap_out,Log_nest_out)], Log_nest_out.GradientNorms.iloc[:endpoint(Log_adap_out,Log_nest_out)], c = 'b')\n",
    "plt.plot(Log_vanilla_out.TimeTaken.iloc[:endpoint(Log_adap_out,Log_vanilla_out)], Log_vanilla_out.GradientNorms.iloc[:endpoint(Log_adap_out,Log_vanilla_out)], c = 'y')\n",
    "plt.yscale('log')\n",
    "plt.xlabel('Time in seconds')\n",
    "plt.show()"
   ]
  },
  {
   "cell_type": "code",
   "execution_count": 17,
   "metadata": {},
   "outputs": [
    {
     "name": "stdout",
     "output_type": "stream",
     "text": [
      "Van final         GradientNorms  TimeTaken  FunctionValues  Accuracy\n",
      "447218       0.019449  59.999996        0.003451       0.9\n",
      "447219       0.019449  59.999996        0.003451       0.9\n",
      "447220       0.019449  59.999996        0.003451       0.9\n",
      "447221       0.019449  59.999996        0.003451       0.9\n",
      "447222       0.019449  60.000492        0.003451       0.9\n",
      "Adap final       GradientNorms  TimeTaken  FunctionValues  Accuracy\n",
      "5727   1.018332e-06   1.030190    1.816979e-07       0.9\n",
      "5728   1.003778e-06   1.030190    1.815790e-07       0.9\n",
      "5729   1.002748e-06   1.030685    1.813936e-07       0.9\n",
      "5730   1.001106e-06   1.030685    1.810962e-07       0.9\n",
      "5731   9.985088e-07   1.030685    1.806178e-07       0.9\n",
      "LS final         GradientNorms  TimeTaken  FunctionValues  Accuracy\n",
      "388273       0.000009  59.999501        0.000002       0.9\n",
      "388274       0.000009  59.999996        0.000002       0.9\n",
      "388275       0.000009  59.999996        0.000002       0.9\n",
      "388276       0.000009  59.999996        0.000002       0.9\n",
      "388277       0.000009  60.000491        0.000002       0.9\n",
      "Baz final      GradientNorms  TimeTaken  FunctionValues  Accuracy\n",
      "299   1.637230e-05   0.144832    2.496295e-07       0.9\n",
      "300   1.317846e-06   0.145328    2.380707e-07       0.9\n",
      "301   1.316143e-06   0.145328    2.379212e-07       0.9\n",
      "302   1.314862e-06   0.145328    2.376954e-07       0.9\n",
      "303   8.551836e-07   0.145328    1.432316e-07       0.9\n",
      "Nest final         GradientNorms  TimeTaken  FunctionValues  Accuracy\n",
      "192054   1.000040e-06  26.223463    1.809052e-07       0.9\n",
      "192055   1.000029e-06  26.223463    1.809034e-07       0.9\n",
      "192056   1.000019e-06  26.223463    1.809015e-07       0.9\n",
      "192057   1.000008e-06  26.223463    1.808996e-07       0.9\n",
      "192058   9.999981e-07  26.223463    1.808977e-07       0.9\n"
     ]
    }
   ],
   "source": [
    "print(\"Van final\", Log_vanilla_out.tail())\n",
    "print(\"Adap final\", Log_adap_out.tail())\n",
    "print(\"LS final\", Log_line_out.tail())\n",
    "print(\"Baz final\", Log_baz_out.tail())\n",
    "print(\"Nest final\", Log_nest_out.tail())"
   ]
  },
  {
   "cell_type": "markdown",
   "metadata": {},
   "source": [
    "# Real data"
   ]
  },
  {
   "cell_type": "markdown",
   "metadata": {},
   "source": [
    "We'll look at two datasets for each type (initally):\n",
    "\n",
    "Linear Regression:\n",
    "- Diabetes https://scikit-learn.org/stable/modules/generated/sklearn.datasets.load_diabetes.html#sklearn.datasets.load_diabetes\n",
    "- Boston Housing: https://scikit-learn.org/stable/modules/generated/sklearn.datasets.load_boston.html#sklearn.datasets.load_boston\n",
    "\n",
    "Logistic Regression:\n",
    "- Digits https://scikit-learn.org/stable/modules/generated/sklearn.datasets.load_digits.html#sklearn.datasets.load_digits\n",
    "- Breast Cancer https://scikit-learn.org/stable/modules/generated/sklearn.datasets.load_breast_cancer.html#sklearn.datasets.load_breast_cancer"
   ]
  },
  {
   "cell_type": "markdown",
   "metadata": {},
   "source": [
    "## Diabetes"
   ]
  },
  {
   "cell_type": "code",
   "execution_count": 18,
   "metadata": {},
   "outputs": [],
   "source": [
    "from sklearn.datasets import load_diabetes as diabetes"
   ]
  },
  {
   "cell_type": "code",
   "execution_count": 19,
   "metadata": {},
   "outputs": [
    {
     "name": "stderr",
     "output_type": "stream",
     "text": [
      "<ipython-input-1-cf99a8526701>:114: RuntimeWarning: divide by zero encountered in double_scalars\n",
      "  while 1 > ( self.gradNorm/np.linalg.norm(self.g_Lin(self.x - lam*self.grad) - self.grad) ):\n"
     ]
    }
   ],
   "source": [
    "G = Regression(1e-6, 60)\n",
    "G.importLinearRegressionDataset(diabetes)\n",
    "G.Adaptive_Linear_Reg(\"output/Lin_Test_Adap_diabetes.csv\")\n",
    "G.Grad_LineSearch_Linear_Reg(\"output/Lin_Test_LS_diabetes.csv\".format(diabetes))\n",
    "G.Vanilla_Linear_Reg(\"output/Lin_Test_Van_diabetes.csv\".format(diabetes))\n",
    "G.Barzilai_Linear_Reg(\"output/Lin_Test_Baz_diabetes.csv\".format(diabetes))\n",
    "G.Nesterov_Linear_Reg(\"output/Lin_Test_Nest_diabetes.csv\".format(diabetes))"
   ]
  },
  {
   "cell_type": "code",
   "execution_count": 20,
   "metadata": {},
   "outputs": [],
   "source": [
    "read_lin(\"diabetes\")"
   ]
  },
  {
   "cell_type": "code",
   "execution_count": 21,
   "metadata": {
    "scrolled": true
   },
   "outputs": [
    {
     "name": "stdout",
     "output_type": "stream",
     "text": [
      "Van final       GradientNorms  TimeTaken  FunctionValues\n",
      "7526   1.008405e-06   0.458009    5.746948e+06\n",
      "7527   1.006260e-06   0.458009    5.746948e+06\n",
      "7528   1.004119e-06   0.458009    5.746948e+06\n",
      "7529   1.001984e-06   0.458009    5.746948e+06\n",
      "7530   9.998519e-07   0.458504    5.746948e+06\n",
      "Adap final       GradientNorms  TimeTaken  FunctionValues\n",
      "2118   1.020050e-06   0.190961    5.746948e+06\n",
      "2119   1.013863e-06   0.190961    5.746948e+06\n",
      "2120   1.010563e-06   0.191456    5.746948e+06\n",
      "2121   1.005286e-06   0.191456    5.746948e+06\n",
      "2122   9.968303e-07   0.191456    5.746948e+06\n",
      "LS final       GradientNorms  TimeTaken  FunctionValues\n",
      "2368   1.158930e-06   0.734080    5.746948e+06\n",
      "2369   1.011804e-06   0.734080    5.746948e+06\n",
      "2370   1.011804e-06   0.734080    5.746948e+06\n",
      "2371   1.241315e-06   0.734576    5.746948e+06\n",
      "2372   9.891141e-07   0.734576    5.746948e+06\n",
      "Baz final      GradientNorms  TimeTaken  FunctionValues\n",
      "116   3.549988e-06   0.009920    5.746948e+06\n",
      "117   1.491875e-06   0.009920    5.746948e+06\n",
      "118   1.458337e-06   0.009920    5.746948e+06\n",
      "119   1.438320e-06   0.009920    5.746948e+06\n",
      "120   9.531013e-07   0.010417    5.746948e+06\n",
      "Nest final       GradientNorms  TimeTaken  FunctionValues\n",
      "2938   7.674539e-05    0.30101    5.746948e+06\n",
      "2939   5.749886e-05    0.30101    5.746948e+06\n",
      "2940   3.819052e-05    0.30101    5.746948e+06\n",
      "2941   1.886164e-05    0.30101    5.746948e+06\n",
      "2942   4.466246e-07    0.30101    5.746948e+06\n"
     ]
    }
   ],
   "source": [
    "print(\"Van final\", Lin_vanilla_out.tail())\n",
    "print(\"Adap final\", Lin_adap_out.tail())\n",
    "print(\"LS final\", Lin_line_out.tail())\n",
    "print(\"Baz final\", Lin_baz_out.tail())\n",
    "print(\"Nest final\", Lin_nest_out.tail())"
   ]
  },
  {
   "cell_type": "code",
   "execution_count": 22,
   "metadata": {},
   "outputs": [
    {
     "data": {
      "text/plain": [
       "1519"
      ]
     },
     "execution_count": 22,
     "metadata": {},
     "output_type": "execute_result"
    }
   ],
   "source": [
    "np.argmax(np.where(Lin_line_out.TimeTaken >0.5, 1, 0))"
   ]
  },
  {
   "cell_type": "code",
   "execution_count": 23,
   "metadata": {},
   "outputs": [
    {
     "data": {
      "image/png": "[encoded data removed]",
      "text/plain": [
       "<Figure size 432x288 with 1 Axes>"
      ]
     },
     "metadata": {
      "needs_background": "light"
     },
     "output_type": "display_data"
    }
   ],
   "source": [
    "plt.plot(Lin_baz_out.TimeTaken, Lin_baz_out.GradientNorms, c = 'm')\n",
    "plt.plot(Lin_adap_out.TimeTaken, Lin_adap_out.GradientNorms, c = 'g')\n",
    "plt.plot(Lin_line_out.TimeTaken, Lin_line_out.GradientNorms, c = 'r')\n",
    "plt.plot(Lin_nest_out.TimeTaken, Lin_nest_out.GradientNorms, c = 'b')\n",
    "plt.plot(Lin_vanilla_out.TimeTaken, Lin_vanilla_out.GradientNorms, c = 'y')\n",
    "plt.yscale('log')\n",
    "plt.xlabel('Time in seconds')\n",
    "plt.show()"
   ]
  },
  {
   "cell_type": "markdown",
   "metadata": {},
   "source": [
    "## Boston Housing"
   ]
  },
  {
   "cell_type": "code",
   "execution_count": 24,
   "metadata": {},
   "outputs": [],
   "source": [
    "from sklearn.datasets import load_boston as boston"
   ]
  },
  {
   "cell_type": "code",
   "execution_count": 25,
   "metadata": {},
   "outputs": [
    {
     "name": "stderr",
     "output_type": "stream",
     "text": [
      "<ipython-input-1-cf99a8526701>:114: RuntimeWarning: divide by zero encountered in double_scalars\n",
      "  while 1 > ( self.gradNorm/np.linalg.norm(self.g_Lin(self.x - lam*self.grad) - self.grad) ):\n"
     ]
    }
   ],
   "source": [
    "I = Regression(1e-6, 60)\n",
    "I.importLinearRegressionDataset(diabetes)\n",
    "I.Adaptive_Linear_Reg(\"output/Lin_Test_Adap_boston.csv\")\n",
    "I.Grad_LineSearch_Linear_Reg(\"output/Lin_Test_LS_boston.csv\")\n",
    "I.Vanilla_Linear_Reg(\"output/Lin_Test_Van_boston.csv\")\n",
    "I.Barzilai_Linear_Reg(\"output/Lin_Test_Baz_boston.csv\")\n",
    "I.Nesterov_Linear_Reg(\"output/Lin_Test_Nest_boston.csv\")"
   ]
  },
  {
   "cell_type": "code",
   "execution_count": 26,
   "metadata": {},
   "outputs": [],
   "source": [
    "read_lin(\"boston\")"
   ]
  },
  {
   "cell_type": "code",
   "execution_count": 27,
   "metadata": {},
   "outputs": [
    {
     "name": "stdout",
     "output_type": "stream",
     "text": [
      "Van final       GradientNorms  TimeTaken  FunctionValues\n",
      "7526   1.008335e-06   0.466159    5.746948e+06\n",
      "7527   1.006190e-06   0.466159    5.746948e+06\n",
      "7528   1.004049e-06   0.466159    5.746948e+06\n",
      "7529   1.001913e-06   0.466159    5.746948e+06\n",
      "7530   9.997821e-07   0.466159    5.746948e+06\n",
      "Adap final       GradientNorms  TimeTaken  FunctionValues\n",
      "2109   3.066264e-06   0.177603    5.746948e+06\n",
      "2110   2.742780e-06   0.177603    5.746948e+06\n",
      "2111   1.554906e-06   0.177603    5.746948e+06\n",
      "2112   1.125788e-06   0.177603    5.746948e+06\n",
      "2113   9.943583e-07   0.177603    5.746948e+06\n",
      "LS final       GradientNorms  TimeTaken  FunctionValues\n",
      "2358   1.116126e-06   1.343125    5.746948e+06\n",
      "2359   1.058286e-06   1.343125    5.746948e+06\n",
      "2360   1.007163e-06   1.343125    5.746948e+06\n",
      "2361   1.297089e-06   1.363955    5.746948e+06\n",
      "2362   9.963301e-07   1.364452    5.746948e+06\n",
      "Baz final      GradientNorms  TimeTaken  FunctionValues\n",
      "197   9.459663e-06   0.013354    5.746948e+06\n",
      "198   4.254824e-06   0.013354    5.746948e+06\n",
      "199   5.740956e-06   0.013354    5.746948e+06\n",
      "200   1.253489e-06   0.013354    5.746948e+06\n",
      "201   9.343079e-07   0.013354    5.746948e+06\n",
      "Nest final       GradientNorms  TimeTaken  FunctionValues\n",
      "2938   7.674003e-05    0.32942    5.746948e+06\n",
      "2939   5.749485e-05    0.32942    5.746948e+06\n",
      "2940   3.818786e-05    0.32942    5.746948e+06\n",
      "2941   1.886032e-05    0.32942    5.746948e+06\n",
      "2942   4.465936e-07    0.32942    5.746948e+06\n"
     ]
    }
   ],
   "source": [
    "print(\"Van final\", Lin_vanilla_out.tail())\n",
    "print(\"Adap final\", Lin_adap_out.tail())\n",
    "print(\"LS final\", Lin_line_out.tail())\n",
    "print(\"Baz final\", Lin_baz_out.tail())\n",
    "print(\"Nest final\", Lin_nest_out.tail())"
   ]
  },
  {
   "cell_type": "code",
   "execution_count": 28,
   "metadata": {},
   "outputs": [
    {
     "name": "stdout",
     "output_type": "stream",
     "text": [
      "Van final    GradientNorms  TimeTaken  FunctionValues\n",
      "0    1949.096921   0.160623    6.422558e+06\n",
      "1     548.196690   0.160623    5.899257e+06\n",
      "2     403.269105   0.160623    5.834541e+06\n",
      "3     300.400305   0.160623    5.799328e+06\n",
      "4     226.288533   0.160623    5.779692e+06\n",
      "Adap final    GradientNorms  TimeTaken  FunctionValues\n",
      "0    1949.096921        0.0    6.422558e+06\n",
      "1    2418.216599        0.0    6.513601e+06\n",
      "2    1135.984056        0.0    5.939425e+06\n",
      "3     593.217566        0.0    5.817109e+06\n",
      "4     332.201650        0.0    5.782568e+06\n",
      "LS final    GradientNorms  TimeTaken  FunctionValues\n",
      "0    1949.096921   0.000455    6.422558e+06\n",
      "1     546.680448   0.000977    5.898422e+06\n",
      "2     126.675611   0.001447    5.760372e+06\n",
      "3      76.018658   0.001944    5.754373e+06\n",
      "4      44.418675   0.001944    5.753279e+06\n",
      "Baz final    GradientNorms  TimeTaken  FunctionValues\n",
      "0    1949.096921   0.001449    6.422558e+06\n",
      "1    1491.672665   0.001945    6.200631e+06\n",
      "2     504.823364   0.001945    5.877288e+06\n",
      "3     364.104325   0.001945    5.820043e+06\n",
      "4      87.704224   0.001945    5.756726e+06\n",
      "Nest final    GradientNorms  TimeTaken  FunctionValues\n",
      "0    1949.096921   0.156282    6.422558e+06\n",
      "1     548.196690   0.156282    5.899257e+06\n",
      "2     363.165434   0.156282    5.819905e+06\n",
      "3     216.740813   0.156282    5.777825e+06\n",
      "4     113.316444   0.156282    5.759717e+06\n"
     ]
    }
   ],
   "source": [
    "print(\"Van final\", Lin_vanilla_out.head())\n",
    "print(\"Adap final\", Lin_adap_out.head())\n",
    "print(\"LS final\", Lin_line_out.head())\n",
    "print(\"Baz final\", Lin_baz_out.head())\n",
    "print(\"Nest final\", Lin_nest_out.head())"
   ]
  },
  {
   "cell_type": "code",
   "execution_count": 29,
   "metadata": {},
   "outputs": [
    {
     "data": {
      "text/plain": [
       "1180"
      ]
     },
     "execution_count": 29,
     "metadata": {},
     "output_type": "execute_result"
    }
   ],
   "source": [
    "np.argmax(np.where(Lin_line_out.TimeTaken >0.5, 1, 0))"
   ]
  },
  {
   "cell_type": "code",
   "execution_count": 30,
   "metadata": {},
   "outputs": [
    {
     "data": {
      "image/png": "[encoded data removed]",
      "text/plain": [
       "<Figure size 432x288 with 1 Axes>"
      ]
     },
     "metadata": {
      "needs_background": "light"
     },
     "output_type": "display_data"
    }
   ],
   "source": [
    "plt.plot(Lin_baz_out.TimeTaken, Lin_baz_out.GradientNorms, c = 'm')\n",
    "plt.plot(Lin_adap_out.TimeTaken, Lin_adap_out.GradientNorms, c = 'g')\n",
    "plt.plot(Lin_line_out.TimeTaken, Lin_line_out.GradientNorms, c = 'r')\n",
    "plt.plot(Lin_nest_out.TimeTaken, Lin_nest_out.GradientNorms, c = 'b')\n",
    "plt.plot(Lin_vanilla_out.TimeTaken, Lin_vanilla_out.GradientNorms, c = 'y')\n",
    "plt.yscale('log')\n",
    "plt.xlabel('Time in seconds')\n",
    "plt.show()"
   ]
  },
  {
   "cell_type": "markdown",
   "metadata": {},
   "source": [
    "## Breast Cancer"
   ]
  },
  {
   "cell_type": "code",
   "execution_count": 31,
   "metadata": {},
   "outputs": [],
   "source": [
    "from sklearn.datasets import load_breast_cancer as cancer"
   ]
  },
  {
   "cell_type": "code",
   "execution_count": 32,
   "metadata": {},
   "outputs": [
    {
     "name": "stderr",
     "output_type": "stream",
     "text": [
      "<ipython-input-1-cf99a8526701>:244: RuntimeWarning: overflow encountered in exp\n",
      "  def sigmoid(self, w, X): return 1.0/(1 + np.exp(-(X @ w))) # sigmoid function\n",
      "<ipython-input-1-cf99a8526701>:329: RuntimeWarning: divide by zero encountered in double_scalars\n",
      "  self.lam = np.min([min1, (min2_nom / min2_denom) ]) # calc new step size\n",
      "<ipython-input-1-cf99a8526701>:353: RuntimeWarning: divide by zero encountered in double_scalars\n",
      "  while 1>(self.gradNorm/np.linalg.norm(self.g_Log(self.weights - lam*self.grad) - self.grad)):\n"
     ]
    }
   ],
   "source": [
    "K = Regression(1e-6, 60)\n",
    "K.importLogisticRegressionDataset(cancer)\n",
    "K.Adaptive_Logistic_Reg(\"output/Log_Test_Adap_cancer.csv\")\n",
    "K.Grad_LineSearch_Logistic_Reg(\"output/Log_Test_LS_cancer.csv\")\n",
    "K.Vanilla_Logistic_Reg(\"output/Log_Test_Van_cancer.csv\")\n",
    "K.Barzilai_Logistic_Reg(\"output/Log_Test_Baz_cancer.csv\")\n",
    "K.Nesterov_Logistic_Reg(\"output/Log_Test_Nest_cancer.csv\")"
   ]
  },
  {
   "cell_type": "code",
   "execution_count": 33,
   "metadata": {},
   "outputs": [],
   "source": [
    "read_log(\"cancer\")"
   ]
  },
  {
   "cell_type": "code",
   "execution_count": 34,
   "metadata": {},
   "outputs": [
    {
     "name": "stdout",
     "output_type": "stream",
     "text": [
      "Van final        GradientNorms  TimeTaken  FunctionValues  Accuracy\n",
      "83200       0.254534  59.997850        0.053539       1.0\n",
      "83201       0.254532  59.998346        0.053539       1.0\n",
      "83202       0.254530  59.998841        0.053539       1.0\n",
      "83203       0.254528  59.999834        0.053539       1.0\n",
      "83204       0.254526  60.000330        0.053539       1.0\n",
      "Adap final        GradientNorms  TimeTaken  FunctionValues  Accuracy\n",
      "73045       0.008448  59.996518        0.026533  0.982456\n",
      "73046       0.008453  59.997510        0.026533  0.982456\n",
      "73047       0.008575  59.998502        0.026533  0.982456\n",
      "73048       0.014652  59.999493        0.026533  0.982456\n",
      "73049       0.024310  60.000486        0.026533  0.982456\n",
      "LS final        GradientNorms  TimeTaken  FunctionValues  Accuracy\n",
      "11105       0.043580  59.975336        0.032633  0.982456\n",
      "11106       0.040199  59.986248        0.032633  0.982456\n",
      "11107       0.040832  59.993192        0.032633  0.982456\n",
      "11108       0.041035  59.998152        0.032632  0.982456\n",
      "11109       0.041246  60.000631        0.032632  0.982456\n",
      "Baz final        GradientNorms  TimeTaken  FunctionValues  Accuracy\n",
      "37619   1.739837e-06  30.792099        0.000003  0.964912\n",
      "37620   1.168110e-06  30.793092        0.000003  0.964912\n",
      "37621   1.063156e-06  30.793589        0.000003  0.964912\n",
      "37622   1.063147e-06  30.794578        0.000003  0.964912\n",
      "37623   9.999440e-07  30.795571        0.000003  0.964912\n",
      "Nest final         GradientNorms  TimeTaken  FunctionValues  Accuracy\n",
      "104263        0.00152  59.998055        0.006531  0.964912\n",
      "104264        0.00152  59.998551        0.006531  0.964912\n",
      "104265        0.00152  59.999047        0.006531  0.964912\n",
      "104266        0.00152  59.999543        0.006531  0.964912\n",
      "104267        0.00152  60.000039        0.006531  0.964912\n"
     ]
    }
   ],
   "source": [
    "print(\"Van final\", Log_vanilla_out.tail())\n",
    "print(\"Adap final\", Log_adap_out.tail())\n",
    "print(\"LS final\", Log_line_out.tail())\n",
    "print(\"Baz final\", Log_baz_out.tail())\n",
    "print(\"Nest final\", Log_nest_out.tail())"
   ]
  },
  {
   "cell_type": "code",
   "execution_count": 35,
   "metadata": {
    "scrolled": true
   },
   "outputs": [
    {
     "data": {
      "image/png": "[encoded data removed]",
      "text/plain": [
       "<Figure size 432x288 with 1 Axes>"
      ]
     },
     "metadata": {
      "needs_background": "light"
     },
     "output_type": "display_data"
    }
   ],
   "source": [
    "plt.plot(Log_baz_out.TimeTaken, Log_baz_out.GradientNorms, c = 'm')\n",
    "plt.plot(Log_adap_out.TimeTaken, Log_adap_out.GradientNorms, c = 'g')\n",
    "plt.plot(Log_line_out.TimeTaken, Log_line_out.GradientNorms, c = 'r')\n",
    "plt.plot(Log_nest_out.TimeTaken, Log_nest_out.GradientNorms, c = 'b')\n",
    "plt.plot(Log_vanilla_out.TimeTaken, Log_vanilla_out.GradientNorms, c = 'y')\n",
    "plt.yscale('log')\n",
    "plt.xlabel('Time in seconds')\n",
    "plt.show()"
   ]
  },
  {
   "cell_type": "markdown",
   "metadata": {},
   "source": [
    "## Digits"
   ]
  },
  {
   "cell_type": "code",
   "execution_count": 38,
   "metadata": {},
   "outputs": [],
   "source": [
    "from sklearn.datasets import load_digits as digits"
   ]
  },
  {
   "cell_type": "code",
   "execution_count": null,
   "metadata": {},
   "outputs": [],
   "source": []
  },
  {
   "cell_type": "code",
   "execution_count": 39,
   "metadata": {},
   "outputs": [],
   "source": [
    "dig = digits(n_class=2, return_X_y=True)"
   ]
  },
  {
   "cell_type": "code",
   "execution_count": 40,
   "metadata": {},
   "outputs": [
    {
     "name": "stderr",
     "output_type": "stream",
     "text": [
      "<ipython-input-1-cf99a8526701>:250: RuntimeWarning: invalid value encountered in true_divide\n",
      "  norm_X = 1 - ((maxs - X)/rng)\n"
     ]
    },
    {
     "ename": "LinAlgError",
     "evalue": "SVD did not converge",
     "output_type": "error",
     "traceback": [
      "\u001b[1;31m---------------------------------------------------------------------------\u001b[0m",
      "\u001b[1;31mLinAlgError\u001b[0m                               Traceback (most recent call last)",
      "\u001b[1;32m<ipython-input-40-e217ea8d5aa0>\u001b[0m in \u001b[0;36m<module>\u001b[1;34m\u001b[0m\n\u001b[0;32m      3\u001b[0m \u001b[0mD\u001b[0m\u001b[1;33m.\u001b[0m\u001b[0mAdaptive_Logistic_Reg\u001b[0m\u001b[1;33m(\u001b[0m\u001b[1;34m\"output/Log_Test_Adap_digits.csv\"\u001b[0m\u001b[1;33m)\u001b[0m\u001b[1;33m\u001b[0m\u001b[1;33m\u001b[0m\u001b[0m\n\u001b[0;32m      4\u001b[0m \u001b[0mD\u001b[0m\u001b[1;33m.\u001b[0m\u001b[0mGrad_LineSearch_Logistic_Reg\u001b[0m\u001b[1;33m(\u001b[0m\u001b[1;34m\"output/Log_Test_LS_digits.csv\"\u001b[0m\u001b[1;33m)\u001b[0m\u001b[1;33m\u001b[0m\u001b[1;33m\u001b[0m\u001b[0m\n\u001b[1;32m----> 5\u001b[1;33m \u001b[0mD\u001b[0m\u001b[1;33m.\u001b[0m\u001b[0mVanilla_Logistic_Reg\u001b[0m\u001b[1;33m(\u001b[0m\u001b[1;34m\"output/Log_Test_Van_digits.csv\"\u001b[0m\u001b[1;33m)\u001b[0m\u001b[1;33m\u001b[0m\u001b[1;33m\u001b[0m\u001b[0m\n\u001b[0m\u001b[0;32m      6\u001b[0m \u001b[0mD\u001b[0m\u001b[1;33m.\u001b[0m\u001b[0mBarzilai_Logistic_Reg\u001b[0m\u001b[1;33m(\u001b[0m\u001b[1;34m\"output/Log_Test_Baz_digits.csv\"\u001b[0m\u001b[1;33m)\u001b[0m\u001b[1;33m\u001b[0m\u001b[1;33m\u001b[0m\u001b[0m\n\u001b[0;32m      7\u001b[0m \u001b[0mD\u001b[0m\u001b[1;33m.\u001b[0m\u001b[0mNesterov_Logistic_Reg\u001b[0m\u001b[1;33m(\u001b[0m\u001b[1;34m\"output/Log_Test_Nest_digits.csv\"\u001b[0m\u001b[1;33m)\u001b[0m\u001b[1;33m\u001b[0m\u001b[1;33m\u001b[0m\u001b[0m\n",
      "\u001b[1;32m<ipython-input-1-cf99a8526701>\u001b[0m in \u001b[0;36mVanilla_Logistic_Reg\u001b[1;34m(self, directory)\u001b[0m\n\u001b[0;32m    274\u001b[0m         \u001b[0mself\u001b[0m\u001b[1;33m.\u001b[0m\u001b[0minitialTime\u001b[0m\u001b[1;33m=\u001b[0m \u001b[0mtime\u001b[0m\u001b[1;33m.\u001b[0m\u001b[0mtime\u001b[0m\u001b[1;33m(\u001b[0m\u001b[1;33m)\u001b[0m \u001b[1;31m# start the clock\u001b[0m\u001b[1;33m\u001b[0m\u001b[1;33m\u001b[0m\u001b[0m\n\u001b[0;32m    275\u001b[0m         \u001b[0mself\u001b[0m\u001b[1;33m.\u001b[0m\u001b[0mweights\u001b[0m \u001b[1;33m=\u001b[0m \u001b[0mdeepcopy\u001b[0m\u001b[1;33m(\u001b[0m\u001b[0mself\u001b[0m\u001b[1;33m.\u001b[0m\u001b[0mweights_copy\u001b[0m\u001b[1;33m)\u001b[0m \u001b[1;31m# make a copy of the weights\u001b[0m\u001b[1;33m\u001b[0m\u001b[1;33m\u001b[0m\u001b[0m\n\u001b[1;32m--> 276\u001b[1;33m         \u001b[0mself\u001b[0m\u001b[1;33m.\u001b[0m\u001b[0mlam\u001b[0m \u001b[1;33m=\u001b[0m \u001b[1;36m1\u001b[0m\u001b[1;33m/\u001b[0m\u001b[0mnp\u001b[0m\u001b[1;33m.\u001b[0m\u001b[0mmax\u001b[0m\u001b[1;33m(\u001b[0m\u001b[0mnp\u001b[0m\u001b[1;33m.\u001b[0m\u001b[0mlinalg\u001b[0m\u001b[1;33m.\u001b[0m\u001b[0msvd\u001b[0m\u001b[1;33m(\u001b[0m \u001b[0mself\u001b[0m\u001b[1;33m.\u001b[0m\u001b[0mxTrain\u001b[0m \u001b[1;33m@\u001b[0m \u001b[0mself\u001b[0m\u001b[1;33m.\u001b[0m\u001b[0mxTrain\u001b[0m\u001b[1;33m.\u001b[0m\u001b[0mT\u001b[0m \u001b[1;33m)\u001b[0m\u001b[1;33m[\u001b[0m\u001b[1;36m1\u001b[0m\u001b[1;33m]\u001b[0m\u001b[1;33m)\u001b[0m \u001b[1;31m# find step size\u001b[0m\u001b[1;33m\u001b[0m\u001b[1;33m\u001b[0m\u001b[0m\n\u001b[0m\u001b[0;32m    277\u001b[0m         \u001b[0mself\u001b[0m\u001b[1;33m.\u001b[0m\u001b[0mgrad\u001b[0m \u001b[1;33m=\u001b[0m \u001b[0mself\u001b[0m\u001b[1;33m.\u001b[0m\u001b[0mg_Log\u001b[0m\u001b[1;33m(\u001b[0m\u001b[0mself\u001b[0m\u001b[1;33m.\u001b[0m\u001b[0mweights\u001b[0m\u001b[1;33m)\u001b[0m \u001b[1;31m# calculate gradient\u001b[0m\u001b[1;33m\u001b[0m\u001b[1;33m\u001b[0m\u001b[0m\n\u001b[0;32m    278\u001b[0m         \u001b[0mself\u001b[0m\u001b[1;33m.\u001b[0m\u001b[0mgradNorm\u001b[0m \u001b[1;33m=\u001b[0m \u001b[0mnp\u001b[0m\u001b[1;33m.\u001b[0m\u001b[0mlinalg\u001b[0m\u001b[1;33m.\u001b[0m\u001b[0mnorm\u001b[0m\u001b[1;33m(\u001b[0m\u001b[0mself\u001b[0m\u001b[1;33m.\u001b[0m\u001b[0mgrad\u001b[0m\u001b[1;33m)\u001b[0m \u001b[1;31m# calc the l2 norm of the gradient\u001b[0m\u001b[1;33m\u001b[0m\u001b[1;33m\u001b[0m\u001b[0m\n",
      "\u001b[1;32m<__array_function__ internals>\u001b[0m in \u001b[0;36msvd\u001b[1;34m(*args, **kwargs)\u001b[0m\n",
      "\u001b[1;32mc:\\users\\asus\\appdata\\local\\programs\\python\\python38-32\\lib\\site-packages\\numpy\\linalg\\linalg.py\u001b[0m in \u001b[0;36msvd\u001b[1;34m(a, full_matrices, compute_uv, hermitian)\u001b[0m\n\u001b[0;32m   1659\u001b[0m \u001b[1;33m\u001b[0m\u001b[0m\n\u001b[0;32m   1660\u001b[0m         \u001b[0msignature\u001b[0m \u001b[1;33m=\u001b[0m \u001b[1;34m'D->DdD'\u001b[0m \u001b[1;32mif\u001b[0m \u001b[0misComplexType\u001b[0m\u001b[1;33m(\u001b[0m\u001b[0mt\u001b[0m\u001b[1;33m)\u001b[0m \u001b[1;32melse\u001b[0m \u001b[1;34m'd->ddd'\u001b[0m\u001b[1;33m\u001b[0m\u001b[1;33m\u001b[0m\u001b[0m\n\u001b[1;32m-> 1661\u001b[1;33m         \u001b[0mu\u001b[0m\u001b[1;33m,\u001b[0m \u001b[0ms\u001b[0m\u001b[1;33m,\u001b[0m \u001b[0mvh\u001b[0m \u001b[1;33m=\u001b[0m \u001b[0mgufunc\u001b[0m\u001b[1;33m(\u001b[0m\u001b[0ma\u001b[0m\u001b[1;33m,\u001b[0m \u001b[0msignature\u001b[0m\u001b[1;33m=\u001b[0m\u001b[0msignature\u001b[0m\u001b[1;33m,\u001b[0m \u001b[0mextobj\u001b[0m\u001b[1;33m=\u001b[0m\u001b[0mextobj\u001b[0m\u001b[1;33m)\u001b[0m\u001b[1;33m\u001b[0m\u001b[1;33m\u001b[0m\u001b[0m\n\u001b[0m\u001b[0;32m   1662\u001b[0m         \u001b[0mu\u001b[0m \u001b[1;33m=\u001b[0m \u001b[0mu\u001b[0m\u001b[1;33m.\u001b[0m\u001b[0mastype\u001b[0m\u001b[1;33m(\u001b[0m\u001b[0mresult_t\u001b[0m\u001b[1;33m,\u001b[0m \u001b[0mcopy\u001b[0m\u001b[1;33m=\u001b[0m\u001b[1;32mFalse\u001b[0m\u001b[1;33m)\u001b[0m\u001b[1;33m\u001b[0m\u001b[1;33m\u001b[0m\u001b[0m\n\u001b[0;32m   1663\u001b[0m         \u001b[0ms\u001b[0m \u001b[1;33m=\u001b[0m \u001b[0ms\u001b[0m\u001b[1;33m.\u001b[0m\u001b[0mastype\u001b[0m\u001b[1;33m(\u001b[0m\u001b[0m_realType\u001b[0m\u001b[1;33m(\u001b[0m\u001b[0mresult_t\u001b[0m\u001b[1;33m)\u001b[0m\u001b[1;33m,\u001b[0m \u001b[0mcopy\u001b[0m\u001b[1;33m=\u001b[0m\u001b[1;32mFalse\u001b[0m\u001b[1;33m)\u001b[0m\u001b[1;33m\u001b[0m\u001b[1;33m\u001b[0m\u001b[0m\n",
      "\u001b[1;32mc:\\users\\asus\\appdata\\local\\programs\\python\\python38-32\\lib\\site-packages\\numpy\\linalg\\linalg.py\u001b[0m in \u001b[0;36m_raise_linalgerror_svd_nonconvergence\u001b[1;34m(err, flag)\u001b[0m\n\u001b[0;32m     95\u001b[0m \u001b[1;33m\u001b[0m\u001b[0m\n\u001b[0;32m     96\u001b[0m \u001b[1;32mdef\u001b[0m \u001b[0m_raise_linalgerror_svd_nonconvergence\u001b[0m\u001b[1;33m(\u001b[0m\u001b[0merr\u001b[0m\u001b[1;33m,\u001b[0m \u001b[0mflag\u001b[0m\u001b[1;33m)\u001b[0m\u001b[1;33m:\u001b[0m\u001b[1;33m\u001b[0m\u001b[1;33m\u001b[0m\u001b[0m\n\u001b[1;32m---> 97\u001b[1;33m     \u001b[1;32mraise\u001b[0m \u001b[0mLinAlgError\u001b[0m\u001b[1;33m(\u001b[0m\u001b[1;34m\"SVD did not converge\"\u001b[0m\u001b[1;33m)\u001b[0m\u001b[1;33m\u001b[0m\u001b[1;33m\u001b[0m\u001b[0m\n\u001b[0m\u001b[0;32m     98\u001b[0m \u001b[1;33m\u001b[0m\u001b[0m\n\u001b[0;32m     99\u001b[0m \u001b[1;32mdef\u001b[0m \u001b[0m_raise_linalgerror_lstsq\u001b[0m\u001b[1;33m(\u001b[0m\u001b[0merr\u001b[0m\u001b[1;33m,\u001b[0m \u001b[0mflag\u001b[0m\u001b[1;33m)\u001b[0m\u001b[1;33m:\u001b[0m\u001b[1;33m\u001b[0m\u001b[1;33m\u001b[0m\u001b[0m\n",
      "\u001b[1;31mLinAlgError\u001b[0m: SVD did not converge"
     ]
    }
   ],
   "source": [
    "D = Regression(1e-6, 60)\n",
    "D.importLogisticRegressionDataset(digits, multi=True)\n",
    "D.Adaptive_Logistic_Reg(\"output/Log_Test_Adap_digits.csv\")\n",
    "D.Grad_LineSearch_Logistic_Reg(\"output/Log_Test_LS_digits.csv\")\n",
    "D.Vanilla_Logistic_Reg(\"output/Log_Test_Van_digits.csv\")\n",
    "D.Barzilai_Logistic_Reg(\"output/Log_Test_Baz_digits.csv\")\n",
    "D.Nesterov_Logistic_Reg(\"output/Log_Test_Nest_digits.csv\")"
   ]
  },
  {
   "cell_type": "code",
   "execution_count": 27,
   "metadata": {},
   "outputs": [
    {
     "name": "stderr",
     "output_type": "stream",
     "text": [
      "<ipython-input-1-cf99a8526701>:250: RuntimeWarning: invalid value encountered in true_divide\n",
      "  norm_X = 1 - ((maxs - X)/rng)\n"
     ]
    }
   ],
   "source": [
    "D = Regression(1e-12, 60)\n",
    "D.importLogisticRegressionDataset(digits, multi=True)"
   ]
  },
  {
   "cell_type": "code",
   "execution_count": 33,
   "metadata": {},
   "outputs": [
    {
     "data": {
      "text/plain": [
       "array([0.        , 0.        , 0.33333333, 0.86666667, 0.6       ,\n",
       "       0.06666667, 0.        , 0.        , 0.        , 0.        ,\n",
       "       0.86666667, 1.        , 0.66666667, 1.        , 0.33333333,\n",
       "       0.        , 0.        , 0.2       , 1.        , 0.13333333,\n",
       "       0.        , 0.73333333, 0.53333333, 0.        , 0.        ,\n",
       "       0.26666667, 0.8       , 0.        , 0.        , 0.53333333,\n",
       "       0.53333333, 0.        , 0.        , 0.33333333, 0.53333333,\n",
       "       0.        , 0.        , 0.6       , 0.53333333, 0.        ,\n",
       "       0.        , 0.26666667, 0.73333333, 0.        , 0.06666667,\n",
       "       0.8       , 0.46666667, 0.        , 0.        , 0.13333333,\n",
       "       0.93333333, 0.33333333, 0.66666667, 0.8       , 0.        ,\n",
       "       0.        , 0.        , 0.        , 0.4       , 0.86666667,\n",
       "       0.66666667, 0.        , 0.        , 0.        ])"
      ]
     },
     "execution_count": 33,
     "metadata": {},
     "output_type": "execute_result"
    }
   ],
   "source": [
    "H.normalise(dig[0][0])"
   ]
  },
  {
   "cell_type": "code",
   "execution_count": 28,
   "metadata": {},
   "outputs": [
    {
     "data": {
      "text/plain": [
       "array([1.        ,        nan, 0.        , 0.        , 0.5       ,\n",
       "       0.75      , 0.5625    , 0.18181818,        nan,        nan,\n",
       "       0.        , 0.3125    , 1.        , 1.        , 1.        ,\n",
       "       0.36363636,        nan, 0.        , 0.        , 0.5625    ,\n",
       "       1.        , 1.        , 0.6875    , 0.        ,        nan,\n",
       "       0.        , 0.21428571, 1.        , 1.        , 1.        ,\n",
       "       0.3125    , 0.        ,        nan,        nan, 0.36363636,\n",
       "       1.        , 1.        , 1.        , 0.25      , 0.        ,\n",
       "              nan,        nan, 0.125     , 0.9375    , 1.        ,\n",
       "       1.        , 0.1875    , 0.        ,        nan,        nan,\n",
       "       0.        , 0.5       , 1.        , 1.        , 0.5625    ,\n",
       "       0.        , 0.        ,        nan, 0.        , 0.        ,\n",
       "       0.5625    , 0.73333333, 0.375     , 0.        , 0.        ])"
      ]
     },
     "execution_count": 28,
     "metadata": {},
     "output_type": "execute_result"
    }
   ],
   "source": [
    "D.xTrain[0]"
   ]
  },
  {
   "cell_type": "code",
   "execution_count": 37,
   "metadata": {},
   "outputs": [
    {
     "ename": "NameError",
     "evalue": "name 'digits' is not defined",
     "output_type": "error",
     "traceback": [
      "\u001b[1;31m---------------------------------------------------------------------------\u001b[0m",
      "\u001b[1;31mNameError\u001b[0m                                 Traceback (most recent call last)",
      "\u001b[1;32m<ipython-input-37-c6f128219338>\u001b[0m in \u001b[0;36m<module>\u001b[1;34m\u001b[0m\n\u001b[0;32m      1\u001b[0m \u001b[0mD\u001b[0m \u001b[1;33m=\u001b[0m \u001b[0mRegression\u001b[0m\u001b[1;33m(\u001b[0m\u001b[1;36m1e-12\u001b[0m\u001b[1;33m,\u001b[0m \u001b[1;36m60\u001b[0m\u001b[1;33m)\u001b[0m\u001b[1;33m\u001b[0m\u001b[1;33m\u001b[0m\u001b[0m\n\u001b[1;32m----> 2\u001b[1;33m \u001b[0mD\u001b[0m\u001b[1;33m.\u001b[0m\u001b[0mimportLogisticRegressionDataset\u001b[0m\u001b[1;33m(\u001b[0m\u001b[0mdigits\u001b[0m\u001b[1;33m,\u001b[0m \u001b[0mmulti\u001b[0m\u001b[1;33m=\u001b[0m\u001b[1;32mTrue\u001b[0m\u001b[1;33m)\u001b[0m\u001b[1;33m\u001b[0m\u001b[1;33m\u001b[0m\u001b[0m\n\u001b[0m\u001b[0;32m      3\u001b[0m \u001b[0mD\u001b[0m\u001b[1;33m.\u001b[0m\u001b[0mAdaptive_Logistic_Reg\u001b[0m\u001b[1;33m(\u001b[0m\u001b[1;34m\"output/Log_Test_Adap_digits.csv\"\u001b[0m\u001b[1;33m)\u001b[0m\u001b[1;33m\u001b[0m\u001b[1;33m\u001b[0m\u001b[0m\n\u001b[0;32m      4\u001b[0m \u001b[0mD\u001b[0m\u001b[1;33m.\u001b[0m\u001b[0mGrad_LineSearch_Logistic_Reg\u001b[0m\u001b[1;33m(\u001b[0m\u001b[1;34m\"output/Log_Test_LS_digits.csv\"\u001b[0m\u001b[1;33m)\u001b[0m\u001b[1;33m\u001b[0m\u001b[1;33m\u001b[0m\u001b[0m\n\u001b[0;32m      5\u001b[0m \u001b[1;31m# D.Vanilla_Logistic_Reg(\"output/Log_Test_Van_digits.csv\")\u001b[0m\u001b[1;33m\u001b[0m\u001b[1;33m\u001b[0m\u001b[1;33m\u001b[0m\u001b[0m\n",
      "\u001b[1;31mNameError\u001b[0m: name 'digits' is not defined"
     ]
    }
   ],
   "source": [
    "D = Regression(1e-12, 60)\n",
    "D.importLogisticRegressionDataset(digits, multi=True)\n",
    "D.Adaptive_Logistic_Reg(\"output/Log_Test_Adap_digits.csv\")\n",
    "D.Grad_LineSearch_Logistic_Reg(\"output/Log_Test_LS_digits.csv\")\n",
    "# D.Vanilla_Logistic_Reg(\"output/Log_Test_Van_digits.csv\")\n",
    "D.Barzilai_Logistic_Reg(\"output/Log_Test_Baz_digits.csv\")\n",
    "# D.Nesterov_Logistic_Reg(\"output/Log_Test_Nest_digits.csv\")"
   ]
  },
  {
   "cell_type": "code",
   "execution_count": 12,
   "metadata": {},
   "outputs": [
    {
     "ename": "KeyError",
     "evalue": "0",
     "output_type": "error",
     "traceback": [
      "\u001b[1;31m---------------------------------------------------------------------------\u001b[0m",
      "\u001b[1;31mKeyError\u001b[0m                                  Traceback (most recent call last)",
      "\u001b[1;32m<ipython-input-12-50637221f990>\u001b[0m in \u001b[0;36m<module>\u001b[1;34m\u001b[0m\n\u001b[1;32m----> 1\u001b[1;33m \u001b[0mnp\u001b[0m\u001b[1;33m.\u001b[0m\u001b[0mshape\u001b[0m\u001b[1;33m(\u001b[0m\u001b[0mdigits\u001b[0m\u001b[1;33m(\u001b[0m\u001b[0mn_class\u001b[0m\u001b[1;33m=\u001b[0m\u001b[1;36m2\u001b[0m\u001b[1;33m)\u001b[0m\u001b[1;33m[\u001b[0m\u001b[1;36m0\u001b[0m\u001b[1;33m]\u001b[0m\u001b[1;33m)\u001b[0m\u001b[1;33m\u001b[0m\u001b[1;33m\u001b[0m\u001b[0m\n\u001b[0m",
      "\u001b[1;31mKeyError\u001b[0m: 0"
     ]
    }
   ],
   "source": []
  },
  {
   "cell_type": "code",
   "execution_count": null,
   "metadata": {},
   "outputs": [],
   "source": []
  },
  {
   "cell_type": "code",
   "execution_count": null,
   "metadata": {},
   "outputs": [],
   "source": []
  },
  {
   "cell_type": "markdown",
   "metadata": {},
   "source": [
    "# Other stuff"
   ]
  },
  {
   "cell_type": "code",
   "execution_count": null,
   "metadata": {},
   "outputs": [],
   "source": []
  },
  {
   "cell_type": "markdown",
   "metadata": {},
   "source": [
    "Oscilation in Gradient values (last 200 iterations)"
   ]
  },
  {
   "cell_type": "code",
   "execution_count": 47,
   "metadata": {},
   "outputs": [
    {
     "data": {
      "image/png": "[encoded data removed]",
      "text/plain": [
       "<Figure size 432x288 with 1 Axes>"
      ]
     },
     "metadata": {
      "needs_background": "light"
     },
     "output_type": "display_data"
    }
   ],
   "source": [
    "plt.plot(Lin_adap_out.TimeTaken.iloc[-200:-1], Lin_adap_out.GradientNorms.iloc[-200:-1], c = 'g')\n",
    "plt.yscale('log')\n",
    "plt.xlabel('Time in seconds')\n",
    "plt.show()"
   ]
  },
  {
   "cell_type": "markdown",
   "metadata": {},
   "source": [
    "non-monotone method"
   ]
  },
  {
   "cell_type": "markdown",
   "metadata": {},
   "source": [
    "Oscilation in Function values (last 200 iterations)"
   ]
  },
  {
   "cell_type": "code",
   "execution_count": 48,
   "metadata": {},
   "outputs": [
    {
     "data": {
      "image/png": "[encoded data removed]",
      "text/plain": [
       "<Figure size 432x288 with 1 Axes>"
      ]
     },
     "metadata": {
      "needs_background": "light"
     },
     "output_type": "display_data"
    }
   ],
   "source": [
    "plt.plot(Lin_adap_out.TimeTaken.iloc[-200:-1], Lin_adap_out.FunctionValues.iloc[-200:-1], c = 'g')\n",
    "plt.yscale('log')\n",
    "plt.xlabel('Time in seconds')\n",
    "plt.show()"
   ]
  },
  {
   "cell_type": "code",
   "execution_count": 50,
   "metadata": {},
   "outputs": [
    {
     "name": "stdout",
     "output_type": "stream",
     "text": [
      "Van final        GradientNorms  TimeTaken  FunctionValues  Accuracy\n",
      "40901       0.169685   4.999646        0.103069       0.9\n",
      "40902       0.169682   4.999646        0.103069       0.9\n",
      "40903       0.169680   4.999646        0.103068       0.9\n",
      "40904       0.169678   4.999646        0.103067       0.9\n",
      "40905       0.169675   5.000142        0.103067       0.9\n",
      "Adap final        GradientNorms  TimeTaken  FunctionValues  Accuracy\n",
      "25862       0.010151   4.999189        0.006087       0.9\n",
      "25863       0.007823   4.999684        0.006087       0.9\n",
      "25864       0.007117   4.999684        0.006087       0.9\n",
      "25865       0.007040   4.999684        0.006087       0.9\n",
      "25866       0.007039   5.000223        0.006086       0.9\n",
      "LS final      GradientNorms  TimeTaken  FunctionValues  Accuracy\n",
      "306       0.420536   1.953322        0.137341       0.9\n",
      "307       0.370990   1.957789        0.137280       0.9\n",
      "308       0.456602   1.966725        0.137101       0.9\n",
      "309       0.365408   1.971178        0.137042       0.9\n",
      "310       0.361427   5.001759        0.136994       0.9\n",
      "Baz final       GradientNorms  TimeTaken  FunctionValues  Accuracy\n",
      "9901   1.369913e-06   2.092110    8.562923e-07       0.9\n",
      "9902   1.002406e-06   2.092606    8.562604e-07       0.9\n",
      "9903   1.002348e-06   2.093102    8.562382e-07       0.9\n",
      "9904   1.000690e-06   2.093601    8.550837e-07       0.9\n",
      "9905   9.990881e-07   2.094095    8.537489e-07       0.9\n",
      "Nest final        GradientNorms  TimeTaken  FunctionValues  Accuracy\n",
      "39200       0.000106   4.999750         0.00009  4.999750\n",
      "39201       0.000106   4.999750         0.00009  4.999750\n",
      "39202       0.000106   4.999750         0.00009  4.999750\n",
      "39203       0.000106   4.999750         0.00009  4.999750\n",
      "39204       0.000106   5.000245         0.00009  5.000245\n"
     ]
    }
   ],
   "source": [
    "print(\"Van final\", Log_vanilla_out.tail())\n",
    "print(\"Adap final\", Log_adap_out.tail())\n",
    "print(\"LS final\", Log_line_out.tail())\n",
    "print(\"Baz final\", Log_baz_out.tail())\n",
    "print(\"Nest final\", Log_nest_out.tail())"
   ]
  },
  {
   "cell_type": "code",
   "execution_count": 51,
   "metadata": {},
   "outputs": [
    {
     "data": {
      "text/plain": [
       "0        0.009953\n",
       "1        0.010453\n",
       "2        0.010453\n",
       "3        0.010947\n",
       "4        0.010947\n",
       "           ...   \n",
       "39200    4.999750\n",
       "39201    4.999750\n",
       "39202    4.999750\n",
       "39203    4.999750\n",
       "39204    5.000245\n",
       "Name: Accuracy, Length: 39205, dtype: float64"
      ]
     },
     "execution_count": 51,
     "metadata": {},
     "output_type": "execute_result"
    }
   ],
   "source": [
    "Log_nest_out.Accuracy"
   ]
  },
  {
   "cell_type": "markdown",
   "metadata": {},
   "source": [
    "Check Lipschitz approx with SVD holds..."
   ]
  },
  {
   "cell_type": "code",
   "execution_count": 36,
   "metadata": {},
   "outputs": [
    {
     "data": {
      "image/png": "[encoded data removed]",
      "text/plain": [
       "<Figure size 432x288 with 1 Axes>"
      ]
     },
     "metadata": {
      "needs_background": "light"
     },
     "output_type": "display_data"
    }
   ],
   "source": [
    "plt.plot(Log_nest_out.TimeTaken, Log_nest_out.FunctionValues, c = 'g')\n",
    "plt.yscale('log')\n",
    "plt.xlabel('Time in seconds')\n",
    "plt.show()"
   ]
  },
  {
   "cell_type": "code",
   "execution_count": null,
   "metadata": {},
   "outputs": [],
   "source": []
  }
 ],
 "metadata": {
  "kernelspec": {
   "display_name": "Python 3",
   "language": "python",
   "name": "python3"
  },
  "language_info": {
   "codemirror_mode": {
    "name": "ipython",
    "version": 3
   },
   "file_extension": ".py",
   "mimetype": "text/x-python",
   "name": "python",
   "nbconvert_exporter": "python",
   "pygments_lexer": "ipython3",
   "version": "3.8.6"
  }
 },
 "nbformat": 4,
 "nbformat_minor": 4
}
