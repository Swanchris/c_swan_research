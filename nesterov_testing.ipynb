{
 "cells": [
  {
   "cell_type": "markdown",
   "metadata": {},
   "source": [
    "# Nesterov testing"
   ]
  },
  {
   "cell_type": "code",
   "execution_count": 1,
   "metadata": {},
   "outputs": [],
   "source": [
    "from scipy.linalg import svd as SCIPYsvd"
   ]
  },
  {
   "cell_type": "code",
   "execution_count": null,
   "metadata": {},
   "outputs": [],
   "source": []
  },
  {
   "cell_type": "code",
   "execution_count": null,
   "metadata": {},
   "outputs": [],
   "source": []
  },
  {
   "cell_type": "code",
   "execution_count": null,
   "metadata": {},
   "outputs": [],
   "source": []
  },
  {
   "cell_type": "code",
   "execution_count": 2,
   "metadata": {},
   "outputs": [],
   "source": [
    "import matplotlib.pyplot as plt\n",
    "import random\n",
    "import numpy as np\n",
    "import pandas as pd\n",
    "import time\n",
    "from copy import deepcopy\n",
    "from sklearn.datasets import make_regression as Make_reg # default is 100 samples, 100 features\n",
    "from sklearn.datasets import make_classification as Make_class # default is 100 samples, 20 features, 2 classes\n",
    "from sklearn.model_selection import train_test_split as split"
   ]
  },
  {
   "cell_type": "code",
   "execution_count": 4,
   "metadata": {},
   "outputs": [],
   "source": [
    "rng = np.random.default_rng()"
   ]
  },
  {
   "cell_type": "code",
   "execution_count": 21,
   "metadata": {},
   "outputs": [],
   "source": [
    "p = int(1e3)\n",
    "q = p+50"
   ]
  },
  {
   "cell_type": "code",
   "execution_count": 22,
   "metadata": {},
   "outputs": [],
   "source": [
    "A = rng.random((q,p))"
   ]
  },
  {
   "cell_type": "code",
   "execution_count": 23,
   "metadata": {},
   "outputs": [
    {
     "data": {
      "text/plain": [
       "(1050, 1000)"
      ]
     },
     "execution_count": 23,
     "metadata": {},
     "output_type": "execute_result"
    }
   ],
   "source": [
    "np.shape(A)"
   ]
  },
  {
   "cell_type": "code",
   "execution_count": 25,
   "metadata": {},
   "outputs": [
    {
     "data": {
      "text/plain": [
       "263454.93862925435"
      ]
     },
     "execution_count": 25,
     "metadata": {},
     "output_type": "execute_result"
    }
   ],
   "source": [
    "np.max(np.linalg.svd(A@A.T)[1])"
   ]
  },
  {
   "cell_type": "markdown",
   "metadata": {},
   "source": [
    "$h(w)$: Sigmoid function:\n",
    "\n",
    "$$\\frac{1}{1 + e^{-\\langle x, w \\rangle}}$$\n",
    "\n",
    "$f_{\\text{LOG}}(w)$: negative log liklihood function:\n",
    "\n",
    "$$-\\frac{1}{k}  \\sum_{i=1}^k \\bigg( y_k \\log(h(w)) + (1 - y_k) \\log(1 -h(w))\\bigg) $$\n",
    "\n",
    "Explicitly:\n",
    "\n",
    "$$\\frac{1}{k} \\sum_{i=1}^k \\Bigg( -y_k \\log\\bigg(\\frac{1}{1 + e^{-\\langle x_k, w \\rangle}}\\bigg) - (1 - y_k) \\log\\bigg(1 - \\frac{1}{1 + e^{-\\langle x_k, w \\rangle}}\\bigg) \\Bigg)$$\n",
    "\n",
    "$g_{\\text{LOG}}(w) = f'_{\\text{LOG}}(w)$: gradient function of negative log liklihood:\n",
    "\n",
    "$$ \\langle h(w) - y, x \\rangle $$\n",
    "\n",
    "Explicitly: (fix here - check definition of dot product vs matrix mult.)\n",
    "\n",
    "$$ \\Bigg\\langle \\frac{1}{1 + e^{-\\langle x, w \\rangle}} - y, x \\Bigg\\rangle = \\frac{1}{k} \\sum_{i=1}^k  x_k \\Bigg( \\frac{1}{1 + e^{-\\langle x_k, w \\rangle}} - y_k \\Bigg) $$\n",
    "\n",
    "A note on the data:\n",
    "\n",
    "$x$ is an $m \\times n$ matrix of $m$ samples and $n$ features. So it is a dataset in $\\mathbb{R}^n$.\n",
    "\n",
    "$y$ is a $m \\times 1$ vector with a binary classifier for each sample.\n",
    "\n",
    "$w$ is a $1 \\times n$ array."
   ]
  },
  {
   "cell_type": "markdown",
   "metadata": {},
   "source": [
    "### Defining Functions"
   ]
  },
  {
   "cell_type": "code",
   "execution_count": 1,
   "metadata": {},
   "outputs": [],
   "source": [
    "def ren(x): return range(len(x)) # a function for plotting iterates of a list\n",
    "def sigmoid(w, x): # a basic sigmoid function\n",
    "    denom = 1 + np.exp( - np.dot(x,w) )\n",
    "    return 1 / denom\n",
    "def normalise(x): # normalises the input data to values between 0 and 1\n",
    "    mins = np.min(x, axis = 0)\n",
    "    maxs = np.max(x, axis = 0)\n",
    "    rng = maxs - mins\n",
    "    return  1 - (maxs- x)/rng\n",
    "def f_Log(w, x, y): # neg log likli func: see LaTeX above\n",
    "    sig = sigmoid(w,x)\n",
    "    step1 = y*np.log(sig + 1e-300)\n",
    "    step2 = (1-y)*np.log(1 - sig + 1e-300)\n",
    "    return np.mean(-step1 - step2)\n",
    "def g_Log(w, x, y): # simplified gradient function, essentially just x(h(w) - y): see LaTeX above\n",
    "    sig = sigmoid(w,x)\n",
    "    inner = sig - y\n",
    "    return np.dot(inner, x)\n",
    "def GD_Log(w, lam, x, y):\n",
    "    return w - lam*g_Log(w,x,y)\n",
    "def predict(w, x):\n",
    "    sig = sigmoid(w, x)\n",
    "    return np.squeeze( np.where(sig >= 0.5, 1, 0) )\n",
    "def classify(w, x_Te, y_Te):\n",
    "    return sum( predict(w, x_Te) == y_Te ) / len(x_Te)"
   ]
  },
  {
   "cell_type": "markdown",
   "metadata": {},
   "source": [
    "### Make classification dataset"
   ]
  },
  {
   "cell_type": "markdown",
   "metadata": {},
   "source": [
    "#### For generating new classification dataset"
   ]
  },
  {
   "cell_type": "code",
   "execution_count": 3,
   "metadata": {},
   "outputs": [],
   "source": [
    "my_classes = Make_class(n_samples=1000)\n",
    "ones_array = np.array([[1]*len(my_classes[0])])\n",
    "aug_data = np.concatenate((ones_array.T, normalise(my_classes[0])), axis = 1)\n",
    "xTrain, xTest, yTrain, yTest = split( aug_data, my_classes[1], test_size = 0.1)\n",
    "w_copy = np.random.rand(len(xTrain[0]))"
   ]
  },
  {
   "cell_type": "code",
   "execution_count": 7,
   "metadata": {},
   "outputs": [
    {
     "data": {
      "text/plain": [
       "array([ 0.61803399,  0.        , -0.22475669, -0.36223693, -0.45655448,\n",
       "       -0.52573615, -0.57883538, -0.62096647, -0.65525839, -0.68374126,\n",
       "       -0.70779348, -0.72838566, -0.74622198, -0.76182632, -0.77559673,\n",
       "       -0.78784137, -0.79880255, -0.80867359, -0.8176106 , -0.8257411 ,\n",
       "       -0.8331703 , -0.83998575, -0.84626098, -0.85205815, -0.8574302 ,\n",
       "       -0.8624225 , -0.86707417, -0.87141908, -0.87548678, -0.8793031 ,\n",
       "       -0.88289076, -0.88626981, -0.889458  , -0.89247114, -0.89532332,\n",
       "       -0.89802716, -0.90059397, -0.90303397, -0.90535636, -0.90756947,\n",
       "       -0.90968087, -0.91169744, -0.91362545, -0.91547062, -0.91723821,\n",
       "       -0.91893302, -0.92055947, -0.92212162])"
      ]
     },
     "execution_count": 7,
     "metadata": {},
     "output_type": "execute_result"
    }
   ],
   "source": [
    "v = np.zeros(len(u)-2)\n",
    "for i in range(len(v)):\n",
    "    v[i] = (1-u[i])/u[i+2]\n",
    "v"
   ]
  },
  {
   "cell_type": "code",
   "execution_count": 4,
   "metadata": {},
   "outputs": [],
   "source": [
    "error = 1e-6\n",
    "initialTime = time.time()\n",
    "w = w_copy\n",
    "grad = g_Log(w, xTrain, yTrain)\n",
    "gradNorm = np.linalg.norm(grad)\n",
    "gradientValList = [gradNorm]\n",
    "functionValList = [f_Log(w, xTrain, yTrain)]\n",
    "timeList = [time.time() - initialTime]\n",
    "predList = [classify(w, xTest, yTest)]\n",
    "lam0 = 1\n",
    "L = np.max( np.linalg.svd(xTrain @ xTrain.T)[1] )\n",
    "y0 = w"
   ]
  },
  {
   "cell_type": "code",
   "execution_count": 14,
   "metadata": {},
   "outputs": [
    {
     "data": {
      "text/plain": [
       "array([0.17781865, 0.90718842, 0.37323973, 0.09072745, 0.15057946,\n",
       "       0.89318578, 0.2128802 , 0.32075733, 0.61203396, 0.04821536,\n",
       "       0.80712189, 0.49297295, 0.99324479, 0.43965218, 0.09629294,\n",
       "       0.33619584, 0.90060585, 0.05046557, 0.72088914, 0.8734027 ,\n",
       "       0.47901898])"
      ]
     },
     "execution_count": 14,
     "metadata": {},
     "output_type": "execute_result"
    }
   ],
   "source": [
    "w"
   ]
  },
  {
   "cell_type": "code",
   "execution_count": 11,
   "metadata": {},
   "outputs": [
    {
     "data": {
      "text/plain": [
       "1.618033988749895"
      ]
     },
     "execution_count": 11,
     "metadata": {},
     "output_type": "execute_result"
    }
   ],
   "source": [
    "lam = 0.5*(1 + np.sqrt(1 + 4*lam0**2))\n",
    "lam"
   ]
  },
  {
   "cell_type": "code",
   "execution_count": 12,
   "metadata": {},
   "outputs": [
    {
     "data": {
      "text/plain": [
       "0.0"
      ]
     },
     "execution_count": 12,
     "metadata": {},
     "output_type": "execute_result"
    }
   ],
   "source": [
    "gamma = (1 - lam0)/lam\n",
    "gamma"
   ]
  },
  {
   "cell_type": "code",
   "execution_count": 13,
   "metadata": {},
   "outputs": [
    {
     "data": {
      "text/plain": [
       "array([0.0919681 , 0.86731428, 0.32676137, 0.03951221, 0.10720757,\n",
       "       0.85156937, 0.18204921, 0.2839014 , 0.56775651, 0.01111193,\n",
       "       0.75416381, 0.45537999, 0.95493025, 0.40017689, 0.05972466,\n",
       "       0.29474969, 0.86704518, 0.01015134, 0.67552072, 0.83277728,\n",
       "       0.43691401])"
      ]
     },
     "execution_count": 13,
     "metadata": {},
     "output_type": "execute_result"
    }
   ],
   "source": [
    "y1 = w - grad/L\n",
    "y1"
   ]
  },
  {
   "cell_type": "code",
   "execution_count": 15,
   "metadata": {},
   "outputs": [
    {
     "data": {
      "text/plain": [
       "array([0.0919681 , 0.86731428, 0.32676137, 0.03951221, 0.10720757,\n",
       "       0.85156937, 0.18204921, 0.2839014 , 0.56775651, 0.01111193,\n",
       "       0.75416381, 0.45537999, 0.95493025, 0.40017689, 0.05972466,\n",
       "       0.29474969, 0.86704518, 0.01015134, 0.67552072, 0.83277728,\n",
       "       0.43691401])"
      ]
     },
     "execution_count": 15,
     "metadata": {},
     "output_type": "execute_result"
    }
   ],
   "source": [
    "w = (1 - gamma)*y1 + gamma*y0\n",
    "w"
   ]
  },
  {
   "cell_type": "code",
   "execution_count": null,
   "metadata": {},
   "outputs": [],
   "source": [
    "y0 = y1"
   ]
  },
  {
   "cell_type": "code",
   "execution_count": 18,
   "metadata": {},
   "outputs": [
    {
     "name": "stderr",
     "output_type": "stream",
     "text": [
      "<ipython-input-2-403024de6bf8>:3: RuntimeWarning: overflow encountered in exp\n",
      "  denom = 1 + np.exp( - np.dot(x,w) )\n"
     ]
    },
    {
     "data": {
      "image/png": "[encoded data removed]",
      "text/plain": [
       "<Figure size 432x288 with 1 Axes>"
      ]
     },
     "metadata": {
      "needs_background": "light"
     },
     "output_type": "display_data"
    }
   ],
   "source": [
    "\n",
    "while gradNorm > error:\n",
    "    lam = 0.5*(1 + np.sqrt(1 + 4*lam0**2))\n",
    "    gamma = (1 - lam0)/lam\n",
    "#     print('gamma', gamma)\n",
    "    y1 = w - grad/L\n",
    "    w = (1 - gamma)*y1 + gamma*y0\n",
    "    y0 = y1\n",
    "    lam0 = lam\n",
    "    w = GD_Log(w, lam, xTrain, yTrain)\n",
    "    grad = g_Log(w, xTrain, yTrain)\n",
    "    gradNorm = np.linalg.norm(grad)\n",
    "    gradientValList.append(gradNorm)\n",
    "    functionValList.append(f_Log(w, xTrain, yTrain))\n",
    "    timeList.append(time.time() - initialTime)\n",
    "    predList.append(classify(w,xTest,yTest))\n",
    "    if timeList[-1] > 10:\n",
    "        break\n",
    "plt.scatter(timeList[- (np.argmax(predList[::-1])+1)], gradientValList[- (np.argmax(predList[::-1])+1)], c= 'r')\n",
    "plt.plot(timeList, gradientValList)\n",
    "plt.yscale('log')\n",
    "plt.show()"
   ]
  },
  {
   "cell_type": "code",
   "execution_count": 19,
   "metadata": {},
   "outputs": [
    {
     "ename": "ValueError",
     "evalue": "x and y must have same first dimension, but have shapes (11711,) and (9559,)",
     "output_type": "error",
     "traceback": [
      "\u001b[1;31m---------------------------------------------------------------------------\u001b[0m",
      "\u001b[1;31mValueError\u001b[0m                                Traceback (most recent call last)",
      "\u001b[1;32m<ipython-input-19-9b7e5b897d71>\u001b[0m in \u001b[0;36m<module>\u001b[1;34m\u001b[0m\n\u001b[1;32m----> 1\u001b[1;33m \u001b[0mplt\u001b[0m\u001b[1;33m.\u001b[0m\u001b[0mplot\u001b[0m\u001b[1;33m(\u001b[0m\u001b[0mtimeList\u001b[0m\u001b[1;33m,\u001b[0m \u001b[0mfunctionValList\u001b[0m\u001b[1;33m)\u001b[0m\u001b[1;33m\u001b[0m\u001b[1;33m\u001b[0m\u001b[0m\n\u001b[0m\u001b[0;32m      2\u001b[0m \u001b[0mplt\u001b[0m\u001b[1;33m.\u001b[0m\u001b[0mshow\u001b[0m\u001b[1;33m(\u001b[0m\u001b[1;33m)\u001b[0m\u001b[1;33m\u001b[0m\u001b[1;33m\u001b[0m\u001b[0m\n",
      "\u001b[1;32mc:\\users\\asus\\appdata\\local\\programs\\python\\python38-32\\lib\\site-packages\\matplotlib\\pyplot.py\u001b[0m in \u001b[0;36mplot\u001b[1;34m(scalex, scaley, data, *args, **kwargs)\u001b[0m\n\u001b[0;32m   2838\u001b[0m \u001b[1;33m@\u001b[0m\u001b[0m_copy_docstring_and_deprecators\u001b[0m\u001b[1;33m(\u001b[0m\u001b[0mAxes\u001b[0m\u001b[1;33m.\u001b[0m\u001b[0mplot\u001b[0m\u001b[1;33m)\u001b[0m\u001b[1;33m\u001b[0m\u001b[1;33m\u001b[0m\u001b[0m\n\u001b[0;32m   2839\u001b[0m \u001b[1;32mdef\u001b[0m \u001b[0mplot\u001b[0m\u001b[1;33m(\u001b[0m\u001b[1;33m*\u001b[0m\u001b[0margs\u001b[0m\u001b[1;33m,\u001b[0m \u001b[0mscalex\u001b[0m\u001b[1;33m=\u001b[0m\u001b[1;32mTrue\u001b[0m\u001b[1;33m,\u001b[0m \u001b[0mscaley\u001b[0m\u001b[1;33m=\u001b[0m\u001b[1;32mTrue\u001b[0m\u001b[1;33m,\u001b[0m \u001b[0mdata\u001b[0m\u001b[1;33m=\u001b[0m\u001b[1;32mNone\u001b[0m\u001b[1;33m,\u001b[0m \u001b[1;33m**\u001b[0m\u001b[0mkwargs\u001b[0m\u001b[1;33m)\u001b[0m\u001b[1;33m:\u001b[0m\u001b[1;33m\u001b[0m\u001b[1;33m\u001b[0m\u001b[0m\n\u001b[1;32m-> 2840\u001b[1;33m     return gca().plot(\n\u001b[0m\u001b[0;32m   2841\u001b[0m         \u001b[1;33m*\u001b[0m\u001b[0margs\u001b[0m\u001b[1;33m,\u001b[0m \u001b[0mscalex\u001b[0m\u001b[1;33m=\u001b[0m\u001b[0mscalex\u001b[0m\u001b[1;33m,\u001b[0m \u001b[0mscaley\u001b[0m\u001b[1;33m=\u001b[0m\u001b[0mscaley\u001b[0m\u001b[1;33m,\u001b[0m\u001b[1;33m\u001b[0m\u001b[1;33m\u001b[0m\u001b[0m\n\u001b[0;32m   2842\u001b[0m         **({\"data\": data} if data is not None else {}), **kwargs)\n",
      "\u001b[1;32mc:\\users\\asus\\appdata\\local\\programs\\python\\python38-32\\lib\\site-packages\\matplotlib\\axes\\_axes.py\u001b[0m in \u001b[0;36mplot\u001b[1;34m(self, scalex, scaley, data, *args, **kwargs)\u001b[0m\n\u001b[0;32m   1741\u001b[0m         \"\"\"\n\u001b[0;32m   1742\u001b[0m         \u001b[0mkwargs\u001b[0m \u001b[1;33m=\u001b[0m \u001b[0mcbook\u001b[0m\u001b[1;33m.\u001b[0m\u001b[0mnormalize_kwargs\u001b[0m\u001b[1;33m(\u001b[0m\u001b[0mkwargs\u001b[0m\u001b[1;33m,\u001b[0m \u001b[0mmlines\u001b[0m\u001b[1;33m.\u001b[0m\u001b[0mLine2D\u001b[0m\u001b[1;33m)\u001b[0m\u001b[1;33m\u001b[0m\u001b[1;33m\u001b[0m\u001b[0m\n\u001b[1;32m-> 1743\u001b[1;33m         \u001b[0mlines\u001b[0m \u001b[1;33m=\u001b[0m \u001b[1;33m[\u001b[0m\u001b[1;33m*\u001b[0m\u001b[0mself\u001b[0m\u001b[1;33m.\u001b[0m\u001b[0m_get_lines\u001b[0m\u001b[1;33m(\u001b[0m\u001b[1;33m*\u001b[0m\u001b[0margs\u001b[0m\u001b[1;33m,\u001b[0m \u001b[0mdata\u001b[0m\u001b[1;33m=\u001b[0m\u001b[0mdata\u001b[0m\u001b[1;33m,\u001b[0m \u001b[1;33m**\u001b[0m\u001b[0mkwargs\u001b[0m\u001b[1;33m)\u001b[0m\u001b[1;33m]\u001b[0m\u001b[1;33m\u001b[0m\u001b[1;33m\u001b[0m\u001b[0m\n\u001b[0m\u001b[0;32m   1744\u001b[0m         \u001b[1;32mfor\u001b[0m \u001b[0mline\u001b[0m \u001b[1;32min\u001b[0m \u001b[0mlines\u001b[0m\u001b[1;33m:\u001b[0m\u001b[1;33m\u001b[0m\u001b[1;33m\u001b[0m\u001b[0m\n\u001b[0;32m   1745\u001b[0m             \u001b[0mself\u001b[0m\u001b[1;33m.\u001b[0m\u001b[0madd_line\u001b[0m\u001b[1;33m(\u001b[0m\u001b[0mline\u001b[0m\u001b[1;33m)\u001b[0m\u001b[1;33m\u001b[0m\u001b[1;33m\u001b[0m\u001b[0m\n",
      "\u001b[1;32mc:\\users\\asus\\appdata\\local\\programs\\python\\python38-32\\lib\\site-packages\\matplotlib\\axes\\_base.py\u001b[0m in \u001b[0;36m__call__\u001b[1;34m(self, data, *args, **kwargs)\u001b[0m\n\u001b[0;32m    271\u001b[0m                 \u001b[0mthis\u001b[0m \u001b[1;33m+=\u001b[0m \u001b[0margs\u001b[0m\u001b[1;33m[\u001b[0m\u001b[1;36m0\u001b[0m\u001b[1;33m]\u001b[0m\u001b[1;33m,\u001b[0m\u001b[1;33m\u001b[0m\u001b[1;33m\u001b[0m\u001b[0m\n\u001b[0;32m    272\u001b[0m                 \u001b[0margs\u001b[0m \u001b[1;33m=\u001b[0m \u001b[0margs\u001b[0m\u001b[1;33m[\u001b[0m\u001b[1;36m1\u001b[0m\u001b[1;33m:\u001b[0m\u001b[1;33m]\u001b[0m\u001b[1;33m\u001b[0m\u001b[1;33m\u001b[0m\u001b[0m\n\u001b[1;32m--> 273\u001b[1;33m             \u001b[1;32myield\u001b[0m \u001b[1;32mfrom\u001b[0m \u001b[0mself\u001b[0m\u001b[1;33m.\u001b[0m\u001b[0m_plot_args\u001b[0m\u001b[1;33m(\u001b[0m\u001b[0mthis\u001b[0m\u001b[1;33m,\u001b[0m \u001b[0mkwargs\u001b[0m\u001b[1;33m)\u001b[0m\u001b[1;33m\u001b[0m\u001b[1;33m\u001b[0m\u001b[0m\n\u001b[0m\u001b[0;32m    274\u001b[0m \u001b[1;33m\u001b[0m\u001b[0m\n\u001b[0;32m    275\u001b[0m     \u001b[1;32mdef\u001b[0m \u001b[0mget_next_color\u001b[0m\u001b[1;33m(\u001b[0m\u001b[0mself\u001b[0m\u001b[1;33m)\u001b[0m\u001b[1;33m:\u001b[0m\u001b[1;33m\u001b[0m\u001b[1;33m\u001b[0m\u001b[0m\n",
      "\u001b[1;32mc:\\users\\asus\\appdata\\local\\programs\\python\\python38-32\\lib\\site-packages\\matplotlib\\axes\\_base.py\u001b[0m in \u001b[0;36m_plot_args\u001b[1;34m(self, tup, kwargs)\u001b[0m\n\u001b[0;32m    397\u001b[0m \u001b[1;33m\u001b[0m\u001b[0m\n\u001b[0;32m    398\u001b[0m         \u001b[1;32mif\u001b[0m \u001b[0mx\u001b[0m\u001b[1;33m.\u001b[0m\u001b[0mshape\u001b[0m\u001b[1;33m[\u001b[0m\u001b[1;36m0\u001b[0m\u001b[1;33m]\u001b[0m \u001b[1;33m!=\u001b[0m \u001b[0my\u001b[0m\u001b[1;33m.\u001b[0m\u001b[0mshape\u001b[0m\u001b[1;33m[\u001b[0m\u001b[1;36m0\u001b[0m\u001b[1;33m]\u001b[0m\u001b[1;33m:\u001b[0m\u001b[1;33m\u001b[0m\u001b[1;33m\u001b[0m\u001b[0m\n\u001b[1;32m--> 399\u001b[1;33m             raise ValueError(f\"x and y must have same first dimension, but \"\n\u001b[0m\u001b[0;32m    400\u001b[0m                              f\"have shapes {x.shape} and {y.shape}\")\n\u001b[0;32m    401\u001b[0m         \u001b[1;32mif\u001b[0m \u001b[0mx\u001b[0m\u001b[1;33m.\u001b[0m\u001b[0mndim\u001b[0m \u001b[1;33m>\u001b[0m \u001b[1;36m2\u001b[0m \u001b[1;32mor\u001b[0m \u001b[0my\u001b[0m\u001b[1;33m.\u001b[0m\u001b[0mndim\u001b[0m \u001b[1;33m>\u001b[0m \u001b[1;36m2\u001b[0m\u001b[1;33m:\u001b[0m\u001b[1;33m\u001b[0m\u001b[1;33m\u001b[0m\u001b[0m\n",
      "\u001b[1;31mValueError\u001b[0m: x and y must have same first dimension, but have shapes (11711,) and (9559,)"
     ]
    },
    {
     "data": {
      "image/png": "[encoded data removed]",
      "text/plain": [
       "<Figure size 432x288 with 1 Axes>"
      ]
     },
     "metadata": {
      "needs_background": "light"
     },
     "output_type": "display_data"
    }
   ],
   "source": [
    "plt.plot(timeList, functionValList)\n",
    "plt.show()"
   ]
  },
  {
   "cell_type": "code",
   "execution_count": 8,
   "metadata": {},
   "outputs": [
    {
     "data": {
      "text/plain": [
       "0.94"
      ]
     },
     "execution_count": 8,
     "metadata": {},
     "output_type": "execute_result"
    }
   ],
   "source": [
    "predList[-1]"
   ]
  },
  {
   "cell_type": "code",
   "execution_count": 7,
   "metadata": {},
   "outputs": [
    {
     "data": {
      "text/plain": [
       "161"
      ]
     },
     "execution_count": 7,
     "metadata": {},
     "output_type": "execute_result"
    }
   ],
   "source": [
    "np.argmax(predList)"
   ]
  }
 ],
 "metadata": {
  "kernelspec": {
   "display_name": "Python 3",
   "language": "python",
   "name": "python3"
  },
  "language_info": {
   "codemirror_mode": {
    "name": "ipython",
    "version": 3
   },
   "file_extension": ".py",
   "mimetype": "text/x-python",
   "name": "python",
   "nbconvert_exporter": "python",
   "pygments_lexer": "ipython3",
   "version": "3.8.6"
  }
 },
 "nbformat": 4,
 "nbformat_minor": 4
}
