{
 "cells": [
  {
   "cell_type": "code",
   "execution_count": 1,
   "metadata": {},
   "outputs": [],
   "source": [
    "import matplotlib.pyplot as plt\n",
    "import random\n",
    "import numpy as np\n",
    "import time"
   ]
  },
  {
   "cell_type": "code",
   "execution_count": null,
   "metadata": {},
   "outputs": [],
   "source": [
    "def lin_funct(x):\n",
    "    return 2*x + 5"
   ]
  },
  {
   "cell_type": "code",
   "execution_count": null,
   "metadata": {},
   "outputs": [],
   "source": [
    "class gradient_descent:\n",
    "    def __init__(self):\n",
    "        self.XVec = None\n",
    "        self.temp = None\n",
    "        self.b = None\n",
    "        self.li = None\n",
    "        self.Y = None\n",
    "        self.O = None\n",
    "    def linear_data_gen(self, num_points, function):\n",
    "        self.li = [0]*num_points\n",
    "        self.Y = [0]*num_points\n",
    "        self.O = [0]*num_points\n",
    "        for i in range(num_points):\n",
    "            self.li[i] = random.random()*(np.ceil(np.sqrt(num_points)))\n",
    "            y = function(self.li[i])\n",
    "            "
   ]
  }
 ],
 "metadata": {
  "kernelspec": {
   "display_name": "Python 3",
   "language": "python",
   "name": "python3"
  },
  "language_info": {
   "codemirror_mode": {
    "name": "ipython",
    "version": 3
   },
   "file_extension": ".py",
   "mimetype": "text/x-python",
   "name": "python",
   "nbconvert_exporter": "python",
   "pygments_lexer": "ipython3",
   "version": "3.8.6"
  }
 },
 "nbformat": 4,
 "nbformat_minor": 4
}
