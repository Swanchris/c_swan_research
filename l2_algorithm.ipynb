{
 "cells": [
  {
   "cell_type": "markdown",
   "metadata": {},
   "source": [
    "# $\\mathcal{l}_2$ penalty method algorithm"
   ]
  },
  {
   "cell_type": "code",
   "execution_count": 1,
   "metadata": {},
   "outputs": [
    {
     "data": {
      "image/png": "[encoded data removed]",
      "text/plain": [
       "<Figure size 432x288 with 1 Axes>"
      ]
     },
     "metadata": {
      "needs_background": "light"
     },
     "output_type": "display_data"
    }
   ],
   "source": [
    "import matplotlib.pyplot as plt\n",
    "import random\n",
    "import numpy as np\n",
    "import time\n",
    "import sklearn.datasets\n",
    "from math import pi, sin, cos\n",
    "def ren(x): return range(len(x))\n",
    "#no. of sensors\n",
    "FIELDSIZE = 100\n",
    "#sensor location range\n",
    "SCALE = 100\n",
    "S = np.array([random.random()*SCALE, random.random()*SCALE])\n",
    "X = np.array([ [ random.random()*SCALE, random.random()*SCALE ] for i in range(FIELDSIZE) ])\n",
    "x0 = [X[i][0] for i in range(FIELDSIZE)]\n",
    "x1 = [X[i][1] for i in range(FIELDSIZE)]\n",
    "plt.scatter(x0,x1, c = 'k')\n",
    "plt.scatter(S[0], S[1], c = 'y')\n",
    "plt.show()\n",
    "def s_x_list(s,x):\n",
    "    arr1 = []\n",
    "    for i in range(FIELDSIZE):\n",
    "        t1 = s - x[i]\n",
    "        arr1.append(t1)\n",
    "    return np.array(arr1)\n",
    "def norms_sqrd(s,x):\n",
    "    arr1 = []\n",
    "    for i in range(FIELDSIZE):\n",
    "        t1 = s - x[i]\n",
    "        t2 = np.array(t1)\n",
    "        t3 = np.linalg.norm(t2)**2\n",
    "        arr1.append(t3)\n",
    "    return np.array(arr1)\n",
    "def gradient_function(s,x,k,b):\n",
    "    N = norms_sqrd(s,x)\n",
    "    s_minus_x = s_x_list(s,x)\n",
    "    g_max = []\n",
    "    if  max(norms_sqrd(s,x)) < b: #update beta if its closer\n",
    "        b = max(norms_sqrd(s,x))\n",
    "    for i in range(FIELDSIZE):\n",
    "        g = N[i] - b\n",
    "        g_plus = max(0,g)\n",
    "        g_max.append(s_minus_x[i]*g_plus)\n",
    "    grad = 2*sum(s_minus_x) + 2*(k**2)*sum(g_max)\n",
    "    return grad"
   ]
  },
  {
   "cell_type": "markdown",
   "metadata": {},
   "source": [
    "# Adaptive GD, Steepest Descent"
   ]
  },
  {
   "cell_type": "code",
   "execution_count": 2,
   "metadata": {},
   "outputs": [],
   "source": [
    "# Adaptive GD, Steepest Descent\n",
    "def GD(s,x,k,b, step): return s - step*gradient_function(s,x,k,b)\n",
    "def Descent(s,x, EPSILON):\n",
    "    t_start = time.time()\n",
    "    s0 = s\n",
    "    k=1\n",
    "    beta = max(norms_sqrd(s0,x))\n",
    "    s_list_adaptive = [s0]\n",
    "    grad_norm = np.linalg.norm(gradient_function(s0,x,k,beta))\n",
    "    norm_list_adaptive = [grad_norm]\n",
    "    time_list_adaptive =[time.time() - t_start]\n",
    "    lam = 1 / np.max( np.linalg.svd( x @ x.T ) [1] ) # approximating Lipschitz constant with SVD (MATLAB ok)\n",
    "    theta = float(random.getrandbits(128)) # this should essentially be infinity\n",
    "    s1 = GD(s0,x,k,beta,lam)\n",
    "    s_list_adaptive.append(s1)\n",
    "    grad_norm = np.linalg.norm(gradient_function(s1,x,k,beta))\n",
    "    norm_list_adaptive.append(grad_norm)\n",
    "    time_list_adaptive.append(time.time() - t_start)\n",
    "    k=2\n",
    "    while grad_norm > EPSILON:\n",
    "        old_lam = lam\n",
    "        min1 = np.sqrt(1 + theta)*old_lam\n",
    "        min2 = np.linalg.norm(s1-s0)/(2*np.linalg.norm(gradient_function(s1, x, k, beta) - gradient_function(s0, x, k, beta) ))\n",
    "        lam = np.min([min1, min2])\n",
    "        theta = lam/old_lam\n",
    "        s0 = s1\n",
    "        s1 = GD(s0, x, k, beta, lam )\n",
    "        s_list_adaptive.append(s1)\n",
    "        grad_norm = np.linalg.norm(gradient_function(s1,x,k,beta))\n",
    "        norm_list_adaptive.append(grad_norm)\n",
    "        time_list_adaptive.append(time.time() - t_start)\n",
    "        k+=1\n",
    "    return np.array([s_list_adaptive, norm_list_adaptive, time_list_adaptive])"
   ]
  },
  {
   "cell_type": "code",
   "execution_count": 3,
   "metadata": {
    "scrolled": false
   },
   "outputs": [
    {
     "name": "stderr",
     "output_type": "stream",
     "text": [
      "<ipython-input-2-7cdcab5c5f48>:33: VisibleDeprecationWarning: Creating an ndarray from ragged nested sequences (which is a list-or-tuple of lists-or-tuples-or ndarrays with different lengths or shapes) is deprecated. If you meant to do this, you must specify 'dtype=object' when creating the ndarray\n",
      "  return np.array([s_list_adaptive, norm_list_adaptive, time_list_adaptive])\n"
     ]
    }
   ],
   "source": [
    "TEST = Descent(S,X,1e-6)"
   ]
  },
  {
   "cell_type": "code",
   "execution_count": 4,
   "metadata": {},
   "outputs": [],
   "source": [
    "s_x_axis_adaptive = [TEST[0][i][0] for i in ren(TEST[0])]\n",
    "s_y_axis_adaptive = [TEST[0][i][1] for i in ren(TEST[0])]\n",
    "norm_adaptive = TEST[1]\n",
    "time_adaptive = TEST[2]"
   ]
  },
  {
   "cell_type": "markdown",
   "metadata": {},
   "source": [
    "# Barzalai Borwein, BFGS"
   ]
  },
  {
   "cell_type": "code",
   "execution_count": 5,
   "metadata": {},
   "outputs": [],
   "source": [
    "# Barzalai Borwein, BFGS\n",
    "def GD(s,direction, step): return s + step*direction\n",
    "def Descent(s,x, EPSILON):\n",
    "    H0 = np.array([[1,0],[0,1]])\n",
    "    t_start = time.time()\n",
    "    s0 = s\n",
    "    k=1\n",
    "    beta = max(norms_sqrd(s0,x))\n",
    "    s_list_baz = [s0]\n",
    "    grad_norm = np.linalg.norm(gradient_function(s0,x,k,beta))\n",
    "    norm_list_baz = [grad_norm]\n",
    "    time_list_baz =[time.time() - t_start]\n",
    "    lam = 1 / np.max( np.linalg.svd( x @ x.T ) [1] )\n",
    "    d = -H0@gradient_function(s0,x,k,beta).T\n",
    "    s1 = GD(s0,d,lam)\n",
    "    s_list_baz.append(s1)\n",
    "    grad_norm = np.linalg.norm(gradient_function(s1,x,k,beta))\n",
    "    norm_list_baz.append(grad_norm)\n",
    "    time_list_baz.append(time.time() - t_start)\n",
    "    k=2\n",
    "    \n",
    "    while grad_norm > EPSILON:\n",
    "        sigma = s1 - s0\n",
    "        g = gradient_function(s1,x,k,beta) - gradient_function(s0,x,k,beta)\n",
    "        r = (H0@g.T)/np.dot(sigma,g)\n",
    "        H1 = H0 + ((1 + np.dot(r,g))/np.dot(sigma,g))*sigma.T@sigma - ( sigma.T@r - r.T@sigma )\n",
    "        d = - H1@gradient_function(s1,x,k,beta).T\n",
    "        nom = np.dot(s1 - s0, gradient_function(s1,x,k,beta) - gradient_function(s0,x,k,beta))\n",
    "        denom = np.linalg.norm(gradient_function(s1,x,k,beta) - gradient_function(s0,x,k,beta))**2\n",
    "        lam = nom/denom\n",
    "        s0 = s1\n",
    "        s1 = GD(s0, d , lam )\n",
    "        s_list_baz.append(s1)\n",
    "        grad_norm = np.linalg.norm(gradient_function(s1,x,k,beta))\n",
    "        norm_list_baz.append(grad_norm)\n",
    "        time_list_baz.append(time.time() - t_start)\n",
    "        H0 = H1\n",
    "        k+=1\n",
    "    return np.array([s_list_baz, norm_list_baz, time_list_baz])"
   ]
  },
  {
   "cell_type": "code",
   "execution_count": 6,
   "metadata": {},
   "outputs": [
    {
     "name": "stderr",
     "output_type": "stream",
     "text": [
      "<ipython-input-5-d09f2c7a6e0b>:25: RuntimeWarning: invalid value encountered in true_divide\n",
      "  r = (H0@g.T)/np.dot(sigma,g)\n",
      "<ipython-input-5-d09f2c7a6e0b>:30: RuntimeWarning: invalid value encountered in double_scalars\n",
      "  lam = nom/denom\n",
      "<ipython-input-5-d09f2c7a6e0b>:39: VisibleDeprecationWarning: Creating an ndarray from ragged nested sequences (which is a list-or-tuple of lists-or-tuples-or ndarrays with different lengths or shapes) is deprecated. If you meant to do this, you must specify 'dtype=object' when creating the ndarray\n",
      "  return np.array([s_list_baz, norm_list_baz, time_list_baz])\n"
     ]
    }
   ],
   "source": [
    "TEST2 = Descent(S,X,1e-6)"
   ]
  },
  {
   "cell_type": "code",
   "execution_count": 7,
   "metadata": {},
   "outputs": [
    {
     "data": {
      "text/plain": [
       "array([[array([14.1639626, 80.2590255]),\n",
       "        array([14.17657031, 80.24882482]),\n",
       "        array([58.18517618, 57.45900206]),\n",
       "        array([20.00971072, 19.2835366 ]),\n",
       "        array([522.91461344, 522.18843932]),\n",
       "        array([-23881.12238943, -23881.80091585]),\n",
       "        array([3528787.03066454, 3528786.30268908]),\n",
       "        array([-1.54804487e+09, -1.54804488e+09]),\n",
       "        array([2.03133102e+12, 2.03133102e+12]),\n",
       "        array([-7.9884317e+15, -7.9884317e+15]),\n",
       "        array([9.42142907e+19, 9.42142907e+19]),\n",
       "        array([-3.33306852e+24, -3.33306852e+24]),\n",
       "        array([3.53733828e+29, 3.53733828e+29]),\n",
       "        array([-1.12622391e+35, -1.12622391e+35]),\n",
       "        array([1.07570288e+41, 1.07570288e+41]),\n",
       "        array([-3.08234018e+47, -3.08234018e+47]),\n",
       "        array([2.6496582e+54, 2.6496582e+54]),\n",
       "        array([2.6496582e+54, 2.6496582e+54]), array([nan, nan])],\n",
       "       [9502.42718093213, 9499.183675277414, 2003.8491895965196,\n",
       "        8793.80301067905, 928602111319.6193, 1.9384692156354058e+17,\n",
       "        8.948185280965393e+23, 1.0283045320049456e+32,\n",
       "        3.034569321556509e+41, 2.3358480444960822e+52,\n",
       "        4.730699230722956e+64, 2.5345046175560205e+78,\n",
       "        3.605514642677003e+93, 1.365639055509031e+110,\n",
       "        1.380092055096528e+128, 3.727341702649526e+147, inf, inf, nan],\n",
       "       [0.006448507308959961, 0.021823883056640625, 0.0461277961730957,\n",
       "        0.07147479057312012, 0.09329748153686523, 0.11559295654296875,\n",
       "        0.13391995429992676, 0.15276885032653809, 0.1735987663269043,\n",
       "        0.1919875144958496, 0.20984435081481934, 0.22968721389770508,\n",
       "        0.2524988651275635, 0.2718186378479004, 0.29065561294555664,\n",
       "        0.30950307846069336, 0.32884669303894043, 0.3477327823638916,\n",
       "        0.36954450607299805]], dtype=object)"
      ]
     },
     "execution_count": 7,
     "metadata": {},
     "output_type": "execute_result"
    }
   ],
   "source": [
    "TEST2"
   ]
  },
  {
   "cell_type": "code",
   "execution_count": 8,
   "metadata": {},
   "outputs": [],
   "source": [
    "s_x_axis_bad_baz = [TEST2[0][i][0] for i in range(len(TEST2[0])-1)]\n",
    "s_y_axis_bad_baz = [TEST[0][i][1] for i in range(len(TEST2[0])-1)]\n",
    "norm_bad_baz = TEST2[1][0:-1]\n",
    "time_bad_baz = TEST2[2][0:-1]"
   ]
  },
  {
   "cell_type": "markdown",
   "metadata": {},
   "source": [
    "# Barzilai-Borwein GD, Steepest Descent"
   ]
  },
  {
   "cell_type": "code",
   "execution_count": 9,
   "metadata": {},
   "outputs": [],
   "source": [
    "# Barzilai-Borwein GD, Steepest Descent\n",
    "def GD(s,x,k,b, step): return s - step*gradient_function(s,x,k,b)\n",
    "def Descent(s,x, EPSILON):\n",
    "    t_start = time.time()\n",
    "    s0 = s\n",
    "    k=1\n",
    "    beta = max(norms_sqrd(s0,x))\n",
    "    s_list_baz = [s0]\n",
    "    grad_norm = np.linalg.norm(gradient_function(s0,x,k,beta))\n",
    "    norm_list_baz = [grad_norm]\n",
    "    time_list_baz =[time.time() - t_start]\n",
    "    lam = 1 / np.max( np.linalg.svd( x @ x.T ) [1] ) # approximating Lipschitz constant with SVD (MATLAB ok)\n",
    "    s1 = GD(s0,x,k,beta,lam)\n",
    "    s_list_baz.append(s1)\n",
    "    grad_norm = np.linalg.norm(gradient_function(s1,x,k,beta))\n",
    "    norm_list_baz.append(grad_norm)\n",
    "    time_list_baz.append(time.time() - t_start)\n",
    "    k=2\n",
    "    while grad_norm > EPSILON:\n",
    "        nom = np.dot(s1 - s0, gradient_function(s1,x,k,beta) - gradient_function(s0,x,k,beta))\n",
    "        denom = np.linalg.norm(gradient_function(s1,x,k,beta) - gradient_function(s0,x,k,beta))**2\n",
    "        lam = nom/denom\n",
    "        s0 = s1\n",
    "        s1 = GD(s0, x, k, beta, lam )\n",
    "        s_list_baz.append(s1)\n",
    "        grad_norm = np.linalg.norm(gradient_function(s1,x,k,beta))\n",
    "        norm_list_baz.append(grad_norm)\n",
    "        time_list_baz.append(time.time() - t_start)\n",
    "        k+=1\n",
    "    return np.array([s_list_baz, norm_list_baz, time_list_baz])"
   ]
  },
  {
   "cell_type": "code",
   "execution_count": 10,
   "metadata": {},
   "outputs": [
    {
     "name": "stderr",
     "output_type": "stream",
     "text": [
      "<ipython-input-9-aee50c3f59ce>:30: VisibleDeprecationWarning: Creating an ndarray from ragged nested sequences (which is a list-or-tuple of lists-or-tuples-or ndarrays with different lengths or shapes) is deprecated. If you meant to do this, you must specify 'dtype=object' when creating the ndarray\n",
      "  return np.array([s_list_baz, norm_list_baz, time_list_baz])\n"
     ]
    }
   ],
   "source": [
    "TEST3 = Descent(S,X,1e-6)"
   ]
  },
  {
   "cell_type": "code",
   "execution_count": 11,
   "metadata": {},
   "outputs": [
    {
     "data": {
      "text/plain": [
       "array([[array([14.1639626, 80.2590255]),\n",
       "        array([14.17657031, 80.24882482]),\n",
       "        array([51.10049943, 50.37432531])],\n",
       "       [9502.42718093213, 9499.183675277414, 1.2391809430644094e-09],\n",
       "       [0.007937192916870117, 0.021293163299560547, 0.038202762603759766]],\n",
       "      dtype=object)"
      ]
     },
     "execution_count": 11,
     "metadata": {},
     "output_type": "execute_result"
    }
   ],
   "source": [
    "TEST3"
   ]
  },
  {
   "cell_type": "code",
   "execution_count": 12,
   "metadata": {},
   "outputs": [],
   "source": [
    "s_x_axis_baz = [round(TEST3[0][i][0],4) for i in ren(TEST3[0])]\n",
    "s_y_axis_baz = [round(TEST3[0][i][1],4) for i in ren(TEST3[0])]\n",
    "norm_baz = TEST3[1]\n",
    "time_baz = TEST3[2]"
   ]
  },
  {
   "cell_type": "markdown",
   "metadata": {},
   "source": [
    "# Line Search, Steepest Descent"
   ]
  },
  {
   "cell_type": "code",
   "execution_count": 13,
   "metadata": {},
   "outputs": [],
   "source": [
    "def BackTrack(s, x, k, beta):\n",
    "    rho = random.random()\n",
    "    lam = random.randrange(1e6)\n",
    "    grad_s = gradient_function(s,x,k,beta)\n",
    "    while lam > ( np.linalg.norm(lam*grad_s ) / \\\n",
    "                 np.linalg.norm( gradient_function(s - lam*grad_s, x, k, beta ) - grad_s )  ):\n",
    "        lam = rho * lam\n",
    "    return lam\n",
    "def GD(s,x,k,b, step): return s - step*gradient_function(s,x,k,b)\n",
    "def Descent(s,x, EPSILON):\n",
    "    t_start = time.time()\n",
    "    s0 = s\n",
    "    k=1\n",
    "    beta = max(norms_sqrd(s0,x))\n",
    "    s_list_baz = [s0]\n",
    "    grad_norm = np.linalg.norm(gradient_function(s0,x,k,beta))\n",
    "    norm_list_baz = [grad_norm]\n",
    "    time_list_baz =[time.time() - t_start]\n",
    "    lam = BackTrack(s0, x, k, beta)\n",
    "    s1 = GD(s0,x,k,beta,lam)\n",
    "    s_list_baz.append(s1)\n",
    "    grad_norm = np.linalg.norm(gradient_function(s1,x,k,beta))\n",
    "    norm_list_baz.append(grad_norm)\n",
    "    time_list_baz.append(time.time() - t_start)\n",
    "    k=2\n",
    "    while grad_norm > EPSILON:\n",
    "        lam = BackTrack(s1, x, k, beta)\n",
    "        s0 = s1\n",
    "        s1 = GD(s0, x, k, beta, lam )\n",
    "        s_list_baz.append(s1)\n",
    "        grad_norm = np.linalg.norm(gradient_function(s1,x,k,beta))\n",
    "        norm_list_baz.append(grad_norm)\n",
    "        time_list_baz.append(time.time() - t_start)\n",
    "        k+=1\n",
    "    return np.array([s_list_baz, norm_list_baz, time_list_baz])"
   ]
  },
  {
   "cell_type": "code",
   "execution_count": 14,
   "metadata": {},
   "outputs": [
    {
     "name": "stderr",
     "output_type": "stream",
     "text": [
      "<ipython-input-13-f42036dc2d54>:35: VisibleDeprecationWarning: Creating an ndarray from ragged nested sequences (which is a list-or-tuple of lists-or-tuples-or ndarrays with different lengths or shapes) is deprecated. If you meant to do this, you must specify 'dtype=object' when creating the ndarray\n",
      "  return np.array([s_list_baz, norm_list_baz, time_list_baz])\n"
     ]
    }
   ],
   "source": [
    "TEST4 = Descent(S,X,1e-6)"
   ]
  },
  {
   "cell_type": "code",
   "execution_count": 15,
   "metadata": {},
   "outputs": [],
   "source": [
    "s_x_axis_line = [round(TEST4[0][i][0],4) for i in ren(TEST4[0])]\n",
    "s_y_axis_line = [round(TEST4[0][i][1],4) for i in ren(TEST4[0])]\n",
    "norm_line = TEST4[1]\n",
    "time_line = TEST4[2]"
   ]
  },
  {
   "cell_type": "code",
   "execution_count": 53,
   "metadata": {},
   "outputs": [
    {
     "data": {
      "text/plain": [
       "14"
      ]
     },
     "execution_count": 53,
     "metadata": {},
     "output_type": "execute_result"
    }
   ],
   "source": [
    "len(TEST4[0])"
   ]
  },
  {
   "cell_type": "code",
   "execution_count": 54,
   "metadata": {},
   "outputs": [
    {
     "data": {
      "text/plain": [
       "36"
      ]
     },
     "execution_count": 54,
     "metadata": {},
     "output_type": "execute_result"
    }
   ],
   "source": [
    "len(TEST[0])"
   ]
  },
  {
   "cell_type": "markdown",
   "metadata": {},
   "source": [
    "# Tests"
   ]
  },
  {
   "cell_type": "code",
   "execution_count": 17,
   "metadata": {},
   "outputs": [
    {
     "data": {
      "image/png": "[encoded data removed]",
      "text/plain": [
       "<Figure size 432x288 with 1 Axes>"
      ]
     },
     "metadata": {
      "needs_background": "light"
     },
     "output_type": "display_data"
    }
   ],
   "source": [
    "x0 = [X[i][0] for i in range(FIELDSIZE)]\n",
    "x1 = [X[i][1] for i in range(FIELDSIZE)]\n",
    "plt.scatter(x0,x1, c = 'k')\n",
    "plt.scatter(S[0], S[1], c = 'y')\n",
    "plt.plot(s_x_axis_adaptive, s_y_axis_adaptive, 'r', label = 'Adaptive')\n",
    "plt.plot(s_x_axis_bad_baz[0:5], s_y_axis_bad_baz[0:5], 'b', label = 'Barzilai/BFGS')\n",
    "plt.legend(loc='best')\n",
    "plt.savefig('Adap_vs_Baz_steps3.png')\n",
    "plt.show()"
   ]
  },
  {
   "cell_type": "code",
   "execution_count": 18,
   "metadata": {},
   "outputs": [
    {
     "data": {
      "image/png": "[encoded data removed]",
      "text/plain": [
       "<Figure size 432x288 with 1 Axes>"
      ]
     },
     "metadata": {
      "needs_background": "light"
     },
     "output_type": "display_data"
    }
   ],
   "source": [
    "plt.plot(ren(norm_adaptive), norm_adaptive, 'r', label = 'Adaptive')\n",
    "plt.plot(ren(norm_bad_baz), norm_bad_baz, 'b', label = 'Barzilai/BFGS')\n",
    "plt.plot(ren(norm_line), norm_line, 'g', label = 'Line Search')\n",
    "plt.legend(loc='best')\n",
    "plt.xlabel('Iteration')\n",
    "plt.ylabel('Gradient Norm')\n",
    "plt.yscale('log')\n",
    "plt.savefig('Adap_vs_Baz_norms3.png')\n",
    "plt.show()"
   ]
  },
  {
   "cell_type": "markdown",
   "metadata": {},
   "source": [
    "## Nice Bas"
   ]
  },
  {
   "cell_type": "code",
   "execution_count": 19,
   "metadata": {
    "scrolled": true
   },
   "outputs": [
    {
     "data": {
      "image/png": "[encoded data removed]",
      "text/plain": [
       "<Figure size 432x288 with 1 Axes>"
      ]
     },
     "metadata": {
      "needs_background": "light"
     },
     "output_type": "display_data"
    }
   ],
   "source": [
    "# Full plot\n",
    "x0 = [X[i][0] for i in range(FIELDSIZE)]\n",
    "x1 = [X[i][1] for i in range(FIELDSIZE)]\n",
    "plt.scatter(x0,x1, c = 'k')\n",
    "plt.scatter(S[0], S[1], c = 'y')\n",
    "plt.scatter(s_x_axis_adaptive, s_y_axis_adaptive, c ='r', label = 'Adaptive')\n",
    "plt.scatter(s_x_axis_baz, s_y_axis_baz, c ='b', label = 'Barzilai')\n",
    "plt.scatter(s_x_axis_line, s_y_axis_line, c = 'g', label = 'Line Search')\n",
    "plt.plot(s_x_axis_adaptive, s_y_axis_adaptive, c ='r', label = 'Adaptive')\n",
    "plt.plot(s_x_axis_baz, s_y_axis_baz, c ='b', label = 'Barzilai')\n",
    "plt.plot(s_x_axis_line, s_y_axis_line, c = 'g', label = 'Line Search')\n",
    "plt.legend(loc='best')\n",
    "plt.savefig('Adap_vs_Pure_Baz_steps3.png')\n",
    "plt.show()"
   ]
  },
  {
   "cell_type": "code",
   "execution_count": 20,
   "metadata": {},
   "outputs": [
    {
     "data": {
      "text/plain": [
       "array([14.1639626, 80.2590255])"
      ]
     },
     "execution_count": 20,
     "metadata": {},
     "output_type": "execute_result"
    }
   ],
   "source": [
    "TEST[0][0]"
   ]
  },
  {
   "cell_type": "code",
   "execution_count": 21,
   "metadata": {},
   "outputs": [
    {
     "data": {
      "text/plain": [
       "array([51.10049942, 50.37432531])"
      ]
     },
     "execution_count": 21,
     "metadata": {},
     "output_type": "execute_result"
    }
   ],
   "source": [
    "TEST[0][-1]"
   ]
  },
  {
   "cell_type": "code",
   "execution_count": 22,
   "metadata": {},
   "outputs": [
    {
     "data": {
      "image/png": "[encoded data removed]",
      "text/plain": [
       "<Figure size 432x288 with 1 Axes>"
      ]
     },
     "metadata": {
      "needs_background": "light"
     },
     "output_type": "display_data"
    }
   ],
   "source": [
    "# small plot\n",
    "x0 = [X[i][0] for i in range(FIELDSIZE)]\n",
    "x1 = [X[i][1] for i in range(FIELDSIZE)]\n",
    "plt.xlim(min(TEST[0][0][0], TEST[0][-1][0]), max(TEST[0][0][0], TEST[0][-1][0]))\n",
    "plt.ylim(min(TEST[0][0][1], TEST[0][-1][1]), max(TEST[0][0][1], TEST[0][-1][1]))\n",
    "plt.scatter(x0,x1, c = 'k')\n",
    "plt.scatter(S[0], S[1], c = 'y')\n",
    "plt.scatter(s_x_axis_adaptive, s_y_axis_adaptive, c ='r', label = 'Adaptive')\n",
    "plt.scatter(s_x_axis_baz, s_y_axis_baz, c ='b', label = 'Barzilai')\n",
    "plt.scatter(s_x_axis_line, s_y_axis_line, c = 'g', label = 'Line Search')\n",
    "plt.plot(s_x_axis_adaptive, s_y_axis_adaptive, c ='r', label = 'Adaptive')\n",
    "plt.plot(s_x_axis_baz, s_y_axis_baz, c ='b', label = 'Barzilai')\n",
    "plt.plot(s_x_axis_line, s_y_axis_line, c = 'g', label = 'Line Search')\n",
    "plt.legend(loc='best')\n",
    "plt.savefig('Adap_vs_Pure_Baz_steps3_small.png')\n",
    "plt.show()"
   ]
  },
  {
   "cell_type": "code",
   "execution_count": 23,
   "metadata": {},
   "outputs": [
    {
     "data": {
      "image/png": "[encoded data removed]",
      "text/plain": [
       "<Figure size 432x288 with 1 Axes>"
      ]
     },
     "metadata": {
      "needs_background": "light"
     },
     "output_type": "display_data"
    }
   ],
   "source": [
    "plt.plot(ren(norm_adaptive), norm_adaptive, 'r', label = 'Adaptive')\n",
    "plt.plot(ren(norm_baz), norm_baz, 'b', label = 'Barzilai')\n",
    "plt.plot(ren(norm_line), norm_line, 'g', label = 'Line Search')\n",
    "plt.legend(loc='best')\n",
    "plt.xlabel('Iteration')\n",
    "plt.ylabel('Gradient Norm')\n",
    "plt.yscale('log')\n",
    "plt.savefig('Adap_vs_Pure_Baz_norms3.png')\n",
    "plt.show()"
   ]
  },
  {
   "cell_type": "code",
   "execution_count": 24,
   "metadata": {},
   "outputs": [
    {
     "data": {
      "text/plain": [
       "0.4657"
      ]
     },
     "execution_count": 24,
     "metadata": {},
     "output_type": "execute_result"
    }
   ],
   "source": [
    "round(time_adaptive[-1],4)"
   ]
  },
  {
   "cell_type": "code",
   "execution_count": 25,
   "metadata": {},
   "outputs": [
    {
     "data": {
      "image/png": "[encoded data removed]",
      "text/plain": [
       "<Figure size 432x288 with 1 Axes>"
      ]
     },
     "metadata": {
      "needs_background": "light"
     },
     "output_type": "display_data"
    }
   ],
   "source": [
    "plt.plot(time_adaptive, norm_adaptive, 'r', label = 'Adaptive {} sec'.format(round(time_adaptive[-1],4)))\n",
    "plt.plot(time_baz, norm_baz, 'b', label = 'Barzilai {} sec'.format(round(time_baz[-1],4)))\n",
    "plt.plot(time_line, norm_line, 'g', label = 'Line Search {} sec'.format(round(time_line[-1],4)))\n",
    "plt.legend(loc='best')\n",
    "plt.xlabel('Time Taken')\n",
    "plt.ylabel('Gradient Norm')\n",
    "plt.yscale('log')\n",
    "plt.savefig('Adap_vs_Pute_Baz_norms_vs_time3.png')\n",
    "plt.show()"
   ]
  },
  {
   "cell_type": "markdown",
   "metadata": {},
   "source": [
    "# BFGS with Line Search"
   ]
  },
  {
   "cell_type": "code",
   "execution_count": 26,
   "metadata": {},
   "outputs": [],
   "source": [
    "# Barzalai Borwein, BFGS\n",
    "def GD(s,direction, step): return s + step*direction\n",
    "def Descent(s,x, EPSILON):\n",
    "    H0 = np.array([[1,0],[0,1]])\n",
    "    t_start = time.time()\n",
    "    s0 = s\n",
    "    k=1\n",
    "    beta = max(norms_sqrd(s0,x))\n",
    "    s_list_baz = [s0]\n",
    "    grad_norm = np.linalg.norm(gradient_function(s0,x,k,beta))\n",
    "    norm_list_baz = [grad_norm]\n",
    "    time_list_baz =[time.time() - t_start]\n",
    "    lam = BackTrack(s0, x, k, beta)\n",
    "    d = -H0@gradient_function(s0,x,k,beta).T\n",
    "    s1 = GD(s0,d,lam)\n",
    "    s_list_baz.append(s1)\n",
    "    grad_norm = np.linalg.norm(gradient_function(s1,x,k,beta))\n",
    "    norm_list_baz.append(grad_norm)\n",
    "    time_list_baz.append(time.time() - t_start)\n",
    "    k=2\n",
    "    \n",
    "    while grad_norm > EPSILON:\n",
    "        sigma = s1 - s0\n",
    "        g = gradient_function(s1,x,k,beta) - gradient_function(s0,x,k,beta)\n",
    "        r = (H0@g.T)/np.dot(sigma,g)\n",
    "        H1 = H0 + ((1 + np.dot(r,g))/np.dot(sigma,g))*sigma.T@sigma - ( sigma.T@r - r.T@sigma )\n",
    "        d = - H1@gradient_function(s1,x,k,beta).T\n",
    "        lam = BackTrack(s0, x, k, beta)\n",
    "        s0 = s1\n",
    "        s1 = GD(s0, d , lam )\n",
    "        s_list_baz.append(s1)\n",
    "        grad_norm = np.linalg.norm(gradient_function(s1,x,k,beta))\n",
    "        norm_list_baz.append(grad_norm)\n",
    "        time_list_baz.append(time.time() - t_start)\n",
    "        H0 = H1\n",
    "        k+=1\n",
    "    return np.array([s_list_baz, norm_list_baz, time_list_baz])"
   ]
  },
  {
   "cell_type": "code",
   "execution_count": 27,
   "metadata": {},
   "outputs": [
    {
     "name": "stderr",
     "output_type": "stream",
     "text": [
      "<ipython-input-1-98638bb5c502>:42: RuntimeWarning: overflow encountered in multiply\n",
      "  g_max.append(s_minus_x[i]*g_plus)\n",
      "<ipython-input-1-98638bb5c502>:43: RuntimeWarning: overflow encountered in add\n",
      "  grad = 2*sum(s_minus_x) + 2*(k**2)*sum(g_max)\n",
      "<ipython-input-1-98638bb5c502>:43: RuntimeWarning: overflow encountered in multiply\n",
      "  grad = 2*sum(s_minus_x) + 2*(k**2)*sum(g_max)\n",
      "<ipython-input-26-1bda38ace76d>:25: RuntimeWarning: invalid value encountered in true_divide\n",
      "  r = (H0@g.T)/np.dot(sigma,g)\n",
      "<ipython-input-13-f42036dc2d54>:5: RuntimeWarning: invalid value encountered in double_scalars\n",
      "  while lam > ( np.linalg.norm(lam*grad_s ) / \\\n",
      "<ipython-input-26-1bda38ace76d>:37: VisibleDeprecationWarning: Creating an ndarray from ragged nested sequences (which is a list-or-tuple of lists-or-tuples-or ndarrays with different lengths or shapes) is deprecated. If you meant to do this, you must specify 'dtype=object' when creating the ndarray\n",
      "  return np.array([s_list_baz, norm_list_baz, time_list_baz])\n"
     ]
    }
   ],
   "source": [
    "TEST5 = Descent(S, X, 1e-6)"
   ]
  },
  {
   "cell_type": "code",
   "execution_count": 40,
   "metadata": {},
   "outputs": [
    {
     "data": {
      "text/plain": [
       "array([[array([14.1639626, 80.2590255]),\n",
       "        array([38.36905473, 60.67511256]),\n",
       "        array([50.77725279, 54.24953672]),\n",
       "        array([47.97227851, 49.8681684 ]),\n",
       "        array([71.33320333, 71.18542538]),\n",
       "        array([-807.36069006, -808.03258704]),\n",
       "        array([6.02990521e+12, 6.02990135e+12]),\n",
       "        array([-1.26798448e+35, -1.26798448e+35]),\n",
       "        array([5.23703741e+82, 5.23703741e+82]),\n",
       "        array([-5.96378177e+180, -5.96378177e+180]), array([nan, nan])],\n",
       "       [9502.42718093213, 3275.33755112814, 777.7339358694171,\n",
       "        633.7810632815673, 5805.046747730426, 8883562207603.646,\n",
       "        4.4648670149321485e+42, 5.650838281808644e+109, inf, inf, nan],\n",
       "       [0.0054547786712646484, 0.07390260696411133, 0.18354368209838867,\n",
       "        0.23708796501159668, 0.27878379821777344, 0.43303370475769043,\n",
       "        0.5198078155517578, 1.5078649520874023, 2.0460352897644043,\n",
       "        2.5028469562530518, 2.5187244415283203]], dtype=object)"
      ]
     },
     "execution_count": 40,
     "metadata": {},
     "output_type": "execute_result"
    }
   ],
   "source": [
    "TEST5"
   ]
  },
  {
   "cell_type": "code",
   "execution_count": 41,
   "metadata": {},
   "outputs": [],
   "source": [
    "s_x_axis_bfgs = [round(TEST5[0][i][0],4) for i in ren(TEST5[0])]\n",
    "s_y_axis_bfgs = [round(TEST5[0][i][1],4) for i in ren(TEST5[0])]\n",
    "norm_bfgs = TEST5[1]\n",
    "time_bfgs = TEST5[2]"
   ]
  },
  {
   "cell_type": "code",
   "execution_count": 52,
   "metadata": {},
   "outputs": [
    {
     "data": {
      "image/png": "[encoded data removed]",
      "text/plain": [
       "<Figure size 432x288 with 1 Axes>"
      ]
     },
     "metadata": {
      "needs_background": "light"
     },
     "output_type": "display_data"
    }
   ],
   "source": [
    "x0 = [X[i][0] for i in range(FIELDSIZE)]\n",
    "x1 = [X[i][1] for i in range(FIELDSIZE)]\n",
    "plt.xlim(min(TEST[0][0][0], TEST[0][-1][0])-5, max(TEST[0][0][0], TEST[0][-1][0])+5)\n",
    "plt.ylim(min(TEST[0][0][1], TEST[0][-1][1])-5, max(TEST[0][0][1], TEST[0][-1][1])+5)\n",
    "plt.scatter(x0,x1, c = 'k')\n",
    "plt.plot(s_x_axis_adaptive, s_y_axis_adaptive, 'r', label = 'Adaptive')\n",
    "plt.plot(s_x_axis_bfgs, s_y_axis_bfgs, 'b', label = 'Line Search/BFGS')\n",
    "plt.scatter(s_x_axis_adaptive[1:], s_y_axis_adaptive[1:], c ='r', label = 'Adaptive steps')\n",
    "plt.scatter(s_x_axis_bfgs[1:], s_y_axis_bfgs[1:], c ='b', label = 'Barzilai steps')\n",
    "plt.scatter(S[0], S[1], c = 'y')\n",
    "plt.legend(loc='best')\n",
    "plt.savefig('crazy.png')\n",
    "plt.show()"
   ]
  },
  {
   "cell_type": "code",
   "execution_count": null,
   "metadata": {},
   "outputs": [],
   "source": []
  },
  {
   "cell_type": "code",
   "execution_count": null,
   "metadata": {},
   "outputs": [],
   "source": []
  },
  {
   "cell_type": "code",
   "execution_count": null,
   "metadata": {},
   "outputs": [],
   "source": []
  },
  {
   "cell_type": "code",
   "execution_count": null,
   "metadata": {},
   "outputs": [],
   "source": []
  },
  {
   "cell_type": "code",
   "execution_count": null,
   "metadata": {},
   "outputs": [],
   "source": []
  },
  {
   "cell_type": "code",
   "execution_count": null,
   "metadata": {},
   "outputs": [],
   "source": []
  },
  {
   "cell_type": "code",
   "execution_count": null,
   "metadata": {},
   "outputs": [],
   "source": []
  },
  {
   "cell_type": "code",
   "execution_count": null,
   "metadata": {},
   "outputs": [],
   "source": []
  },
  {
   "cell_type": "code",
   "execution_count": null,
   "metadata": {},
   "outputs": [],
   "source": []
  },
  {
   "cell_type": "code",
   "execution_count": null,
   "metadata": {},
   "outputs": [],
   "source": []
  },
  {
   "cell_type": "code",
   "execution_count": null,
   "metadata": {},
   "outputs": [],
   "source": []
  },
  {
   "cell_type": "code",
   "execution_count": null,
   "metadata": {},
   "outputs": [],
   "source": []
  },
  {
   "cell_type": "code",
   "execution_count": null,
   "metadata": {},
   "outputs": [],
   "source": []
  },
  {
   "cell_type": "code",
   "execution_count": null,
   "metadata": {},
   "outputs": [],
   "source": []
  },
  {
   "cell_type": "markdown",
   "metadata": {},
   "source": [
    "# BFGS Test"
   ]
  },
  {
   "cell_type": "code",
   "execution_count": 28,
   "metadata": {},
   "outputs": [],
   "source": [
    "def f(x): return x[0]**2 + x[1]**2 +x[2]**2 -4*x[0] +x[1]*x[2]"
   ]
  },
  {
   "cell_type": "code",
   "execution_count": 29,
   "metadata": {},
   "outputs": [],
   "source": [
    "def f_grad(x):\n",
    "    l1 = 2*x[0] - 4\n",
    "    l2 = 2*x[1] + x[2]\n",
    "    l3 = 2*x[2] + x[1]\n",
    "    return np.array([l1, l2 ,l3])"
   ]
  },
  {
   "cell_type": "code",
   "execution_count": 30,
   "metadata": {},
   "outputs": [],
   "source": [
    "x_0 = np.array([1,1,1])"
   ]
  },
  {
   "cell_type": "code",
   "execution_count": 31,
   "metadata": {},
   "outputs": [],
   "source": [
    "x_1 = np.array([17/7, 2/7, 2/7])"
   ]
  },
  {
   "cell_type": "code",
   "execution_count": 32,
   "metadata": {},
   "outputs": [
    {
     "data": {
      "text/plain": [
       "array([-2,  3,  3])"
      ]
     },
     "execution_count": 32,
     "metadata": {},
     "output_type": "execute_result"
    }
   ],
   "source": [
    "f_grad(x_0)"
   ]
  },
  {
   "cell_type": "code",
   "execution_count": 33,
   "metadata": {},
   "outputs": [],
   "source": [
    "def BFGS(H0,x1,x0):\n",
    "    s = x1 - x0\n",
    "    g = f_grad(x1) - f_grad(x0)\n",
    "    r = (H0@g.T)/np.dot(s,g)\n",
    "    print('r', r)\n",
    "    H1 = H0 + ((1 + np.dot(r,g))/np.dot(s,g))*s@s.T - ( s@r.T - r@s.T)\n",
    "    print('H1', H1)\n",
    "    d = - H1@f_grad(x1).T\n",
    "    return d"
   ]
  },
  {
   "cell_type": "code",
   "execution_count": 34,
   "metadata": {},
   "outputs": [],
   "source": [
    "H0 = np.array([[1,0,0],[0,1/3,0],[0,0,1/3]])"
   ]
  },
  {
   "cell_type": "code",
   "execution_count": 35,
   "metadata": {},
   "outputs": [
    {
     "name": "stdout",
     "output_type": "stream",
     "text": [
      "r [ 0.4 -0.1 -0.1]\n",
      "H1 [[2.10204082 1.10204082 1.10204082]\n",
      " [1.10204082 1.43537415 1.10204082]\n",
      " [1.10204082 1.10204082 1.43537415]]\n"
     ]
    },
    {
     "data": {
      "text/plain": [
       "array([-3.6909621 , -3.11953353, -3.11953353])"
      ]
     },
     "execution_count": 35,
     "metadata": {},
     "output_type": "execute_result"
    }
   ],
   "source": [
    "BFGS(H0, x_1, x_0)"
   ]
  },
  {
   "cell_type": "code",
   "execution_count": 36,
   "metadata": {},
   "outputs": [
    {
     "data": {
      "text/plain": [
       "array([ 1.42857143, -0.71428571, -0.71428571])"
      ]
     },
     "execution_count": 36,
     "metadata": {},
     "output_type": "execute_result"
    }
   ],
   "source": [
    "s = x_1 - x_0\n",
    "s"
   ]
  },
  {
   "cell_type": "code",
   "execution_count": 37,
   "metadata": {},
   "outputs": [],
   "source": [
    "g = f_grad(x_1) - f_grad(x_0)"
   ]
  },
  {
   "cell_type": "code",
   "execution_count": 38,
   "metadata": {},
   "outputs": [
    {
     "data": {
      "text/plain": [
       "array([ 2.85714286, -2.14285714, -2.14285714])"
      ]
     },
     "execution_count": 38,
     "metadata": {},
     "output_type": "execute_result"
    }
   ],
   "source": [
    "g"
   ]
  },
  {
   "cell_type": "code",
   "execution_count": 39,
   "metadata": {},
   "outputs": [
    {
     "data": {
      "text/plain": [
       "-2.142857142857143"
      ]
     },
     "execution_count": 39,
     "metadata": {},
     "output_type": "execute_result"
    }
   ],
   "source": [
    "-15/7"
   ]
  }
 ],
 "metadata": {
  "kernelspec": {
   "display_name": "Python 3",
   "language": "python",
   "name": "python3"
  },
  "language_info": {
   "codemirror_mode": {
    "name": "ipython",
    "version": 3
   },
   "file_extension": ".py",
   "mimetype": "text/x-python",
   "name": "python",
   "nbconvert_exporter": "python",
   "pygments_lexer": "ipython3",
   "version": "3.8.6"
  }
 },
 "nbformat": 4,
 "nbformat_minor": 4
}
