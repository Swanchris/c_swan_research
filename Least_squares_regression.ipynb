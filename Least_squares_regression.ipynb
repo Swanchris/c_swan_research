{
 "cells": [
  {
   "cell_type": "code",
   "execution_count": 5,
   "metadata": {},
   "outputs": [],
   "source": [
    "import matplotlib.pyplot as plt\n",
    "import random\n",
    "import numpy as np\n",
    "import time\n",
    "from copy import deepcopy"
   ]
  },
  {
   "cell_type": "code",
   "execution_count": 26,
   "metadata": {},
   "outputs": [],
   "source": [
    "class leastSquaresGD:\n",
    "    def __init__(self, error):\n",
    "        self.x_original = None  \n",
    "        self.a_original = None\n",
    "        self.b_original = None\n",
    "        self.x = None      # weights\n",
    "        self.a = None      # xTrain\n",
    "        self.b = None\n",
    "        self.initialTime = None\n",
    "        self.error = error\n",
    "        self.grad = None  \n",
    "        self.norm = None\n",
    "        self.lam = None\n",
    "        self.gr = None    # gr_list\n",
    "        self.theta = None\n",
    "        self.vanPlt = None\n",
    "        self.AdapPlt = None\n",
    "        self.LSPlt = None\n",
    "        self.BazPlt = None\n",
    "        self.Max = 0\n",
    "#         self.back_hi = 10**6\n",
    "#         self.back_lo = 0\n",
    "#         self.lam_list = None\n",
    "        \n",
    "    \n",
    "    def generate(self, function, dim, vec_len, scale):\n",
    "        for i in range(dim):\n",
    "            globals()['X'+str(i)] = [0]*vec_len\n",
    "        for j in range(vec_len):\n",
    "            globals()['X'+str(0)][j] = (random.random()+1e-12)*scale\n",
    "            y = function(globals()['X'+str(0)][j])\n",
    "            noiz = 3\n",
    "            for k in range(dim):\n",
    "                globals()['X'+str(k)][j] = y + np.random.normal(0,noiz)\n",
    "                noiz += 3\n",
    "        A = np.array([globals()['X'+str(i)] for i in range(dim)]).T\n",
    "        self.a_original = A\n",
    "        self.x_original = np.random.rand(len(A[0]))*scale\n",
    "        self.b_original = A @ self.x_original + np.random.normal(0,3,(A @ self.x_original).shape)\n",
    "        \n",
    "    def f(self, X):\n",
    "        return 0.5 * np.linalg.norm(self.a @ X - self.b)**2\n",
    "    def g(self, X):\n",
    "        return self.a.T @ (self.a @ X - self.b)\n",
    "    def Step(self):\n",
    "        self.x = self.x - self.lam*self.grad\n",
    "    \n",
    "    \n",
    "    def Vanilla(self):\n",
    "        self.initialTime = time.time()\n",
    "        self.x = deepcopy(self.x_original)\n",
    "        self.a = deepcopy(self.a_original)\n",
    "        self.b = deepcopy(self.b_original)\n",
    "        self.gr = []\n",
    "        L = np.max( np.linalg.svd( self.a @ self.a.T ) [1] )\n",
    "        self.lam = 1/L\n",
    "        self.grad = self.g(self.x)\n",
    "        self.norm = np.linalg.norm(self.grad)\n",
    "        while self.norm > self.error:\n",
    "            self.Step()\n",
    "            self.grad = self.g(self.x)\n",
    "            self.norm = np.linalg.norm(self.grad)\n",
    "            self.gr.append(self.norm)\n",
    "        print(' \\n Vanilla Gradient Descent:')\n",
    "        print('_____________________________________________')\n",
    "        if len(self.gr) > self.Max:\n",
    "            self.Max = deepcopy(len(self.gr))\n",
    "        self.SetPlots(0, min(len(self.gr),600) , 'g', self.vanPlt, 'Vanilla') # replaced len(self.gr) with 600\n",
    "        self.PrintResults()\n",
    "    \n",
    "    def Adaptive(self):\n",
    "        self.initialTime = time.time()\n",
    "        self.x = deepcopy(self.x_original)\n",
    "        self.a = deepcopy(self.a_original)\n",
    "        self.b = deepcopy(self.b_original)\n",
    "        self.gr = []\n",
    "        self.lam = random.random()+1e-12\n",
    "        self.theta = float(random.getrandbits(128))\n",
    "        oldX = deepcopy(self.x)\n",
    "        self.grad = self.g(self.x)\n",
    "        self.Step()\n",
    "        self.norm = np.linalg.norm(self.grad)\n",
    "        while self.norm > self.error:\n",
    "            oldLam = deepcopy(self.lam)\n",
    "            min1 = np.sqrt(1 + self.theta)*self.lam\n",
    "            min2 = ( np.linalg.norm( self.x - oldX ) ) \\\n",
    "                / ( 2 * np.linalg.norm(self.g(self.x) - self.g(oldX) ) )\n",
    "            self.lam = np.min([min1,min2])\n",
    "            oldX = deepcopy(self.x)\n",
    "            self.Step() # update x\n",
    "            self.theta = self.lam/oldLam\n",
    "            self.grad = self.g(self.x)\n",
    "            self.norm = np.linalg.norm(self.grad)\n",
    "            self.gr.append(self.norm)\n",
    "        print('\\n Adaptive Gradient Descent:')\n",
    "        print('_____________________________________________')\n",
    "        if len(self.gr) > self.Max:\n",
    "            self.Max = deepcopy(len(self.gr))\n",
    "        self.SetPlots(0, min(len(self.gr),600) , 'y', self.AdapPlt, 'Adaptive')\n",
    "        self.PrintResults()\n",
    "    \n",
    "    def BackTrack(self):\n",
    "#         print('NEW BACKTRACK')\n",
    "        alpha = 1\n",
    "        rho = random.random() + 1e-20\n",
    "        c = random.random() + 1e-20\n",
    "        while ( (self.f(self.x - alpha*self.grad) > self.f(self.x) - c*alpha*self.norm**2) \\\n",
    "               and ( np.linalg.norm(self.g( self.x - alpha*self.grad ))**2 > self.norm**2 )):\n",
    "            alpha = rho * alpha\n",
    "        self.lam = alpha\n",
    "\n",
    "    def LineSearch(self):\n",
    "        self.initialTime = time.time()\n",
    "#         self.lam_list = []\n",
    "        self.x = deepcopy(self.x_original)\n",
    "        self.a = deepcopy(self.a_original)\n",
    "        self.b = deepcopy(self.b_original)\n",
    "        self.gr = []\n",
    "        self.grad = self.g(self.x)\n",
    "        self.norm = np.linalg.norm(self.grad)\n",
    "        self.BackTrack()\n",
    "        while self.norm > self.error:\n",
    "            self.Step()\n",
    "            self.grad =  self.g(self.x)\n",
    "            self.norm = np.linalg.norm(self.grad)\n",
    "            self.gr.append(self.norm)\n",
    "            self.BackTrack()\n",
    "        print('\\n Line Search Gradient Descent:')\n",
    "        print('_____________________________________________')\n",
    "        if len(self.gr) > self.Max:\n",
    "            self.Max = deepcopy(len(self.gr))\n",
    "        self.SetPlots(0, min(len(self.gr),600) , 'b', self.LSPlt, 'LineSearch')\n",
    "        self.PrintResults()\n",
    "    \n",
    "    def Barzilai(self):\n",
    "        self.initialTime = time.time()\n",
    "        self.x = deepcopy(self.x_original)\n",
    "        self.a = deepcopy(self.a_original)\n",
    "        self.b = deepcopy(self.b_original)\n",
    "        self.gr = []\n",
    "        self.grad = self.g(self.x)\n",
    "        self.lam = random.random()+1e-12\n",
    "        oldX = deepcopy(self.x)\n",
    "        self.Step()\n",
    "        self.norm = np.linalg.norm(self.grad)\n",
    "        while self.norm > self.error:\n",
    "            oldLam = deepcopy(self.lam)\n",
    "            self.lam = np.dot( self.x - oldX, self.g(self.x) - self.g(oldX) ) \\\n",
    "                        / np.linalg.norm(self.g(self.x) - self.g(oldX))**2\n",
    "            oldX = deepcopy(self.x)\n",
    "            self.Step()\n",
    "            self.grad = self.g(self.x)\n",
    "            self.norm =  np.linalg.norm(self.grad)\n",
    "            self.gr.append( self.norm)\n",
    "        print('\\n Barzilai-Borwein Gradient Descent:')\n",
    "        print('_____________________________________________')\n",
    "        if len(self.gr) > self.Max:\n",
    "            self.Max = deepcopy(len(self.gr))\n",
    "        self.SetPlots(0, min(len(self.gr),600) , 'r', self.BazPlt, 'Barzilai')\n",
    "        self.PrintResults()\n",
    "    \n",
    "    def SetPlots(self, Min, Max, colour, name, label):\n",
    "        name = plt.plot( range( Min, Max ) , self.gr[Min:Max] , c = colour , label = label)\n",
    "    def PrintPlots(self):\n",
    "        self.vanPlt\n",
    "        self.AdapPlt\n",
    "        self.LSPlt\n",
    "        self.BazPlt\n",
    "        plt.yscale('log')\n",
    "        plt.xlabel('Iteration')\n",
    "        plt.legend(loc='best')\n",
    "        plt.title(label = 'Norm of Gradient in domain [{}, {}]'.format(0,self.Max) )\n",
    "        plt.show()\n",
    "    def PrintResults(self):\n",
    "        print('At final iteration k =', len(self.gr), ':')\n",
    "        print('x vector is:', self.x)\n",
    "        print('Gradient Norm is:', self.norm)\n",
    "        print('Time taken:', time.time() - self.initialTime)\n",
    "        print('Final Lambda value: ', self.lam)"
   ]
  },
  {
   "cell_type": "code",
   "execution_count": 27,
   "metadata": {},
   "outputs": [],
   "source": [
    "def linFunc(x):\n",
    "    return 2*x + 5"
   ]
  },
  {
   "cell_type": "code",
   "execution_count": 28,
   "metadata": {
    "scrolled": false
   },
   "outputs": [
    {
     "name": "stdout",
     "output_type": "stream",
     "text": [
      " \n",
      " Vanilla Gradient Descent:\n",
      "_____________________________________________\n",
      "At final iteration k = 866 :\n",
      "x vector is: [0.93462519 0.82654253 0.48975728 0.31486204 0.59309141 0.861755\n",
      " 0.81873013 0.52412478 0.46290048 0.11205466]\n",
      "Gradient Norm is: 9.931689188874851e-07\n",
      "Time taken: 0.04120230674743652\n",
      "Final Lambda value:  9.81728425598279e-06\n",
      "\n",
      " Line Search Gradient Descent:\n",
      "_____________________________________________\n",
      "At final iteration k = 140 :\n",
      "x vector is: [0.93462519 0.82654253 0.48975728 0.31486204 0.59309141 0.861755\n",
      " 0.81873013 0.52412478 0.46290048 0.11205466]\n",
      "Gradient Norm is: 9.297443701656657e-07\n",
      "Time taken: 0.3541085720062256\n",
      "Final Lambda value:  0.02285388750999982\n",
      "\n",
      " Adaptive Gradient Descent:\n",
      "_____________________________________________\n",
      "At final iteration k = 381 :\n",
      "x vector is: [0.93462519 0.82654253 0.48975728 0.31486204 0.59309141 0.861755\n",
      " 0.81873013 0.52412478 0.46290048 0.11205466]\n",
      "Gradient Norm is: 9.949515837615714e-07\n",
      "Time taken: 0.033231258392333984\n",
      "Final Lambda value:  6.339647772246495e-06\n",
      "\n",
      " Barzilai-Borwein Gradient Descent:\n",
      "_____________________________________________\n",
      "At final iteration k = 106 :\n",
      "x vector is: [0.93462519 0.82654253 0.48975728 0.31486204 0.59309141 0.861755\n",
      " 0.81873013 0.52412478 0.46290048 0.11205466]\n",
      "Gradient Norm is: 2.834426166783138e-07\n",
      "Time taken: 0.010937690734863281\n",
      "Final Lambda value:  0.00043608724841211395\n"
     ]
    },
    {
     "data": {
      "image/png": "[encoded data removed]",
      "text/plain": [
       "<Figure size 432x288 with 1 Axes>"
      ]
     },
     "metadata": {
      "needs_background": "light"
     },
     "output_type": "display_data"
    }
   ],
   "source": [
    "G = leastSquaresGD(1e-6)\n",
    "G.generate(linFunc,10,100, 1)\n",
    "G.Vanilla()\n",
    "G.LineSearch()\n",
    "G.Adaptive()\n",
    "G.Barzilai()\n",
    "G.PrintPlots()"
   ]
  },
  {
   "cell_type": "code",
   "execution_count": null,
   "metadata": {},
   "outputs": [],
   "source": []
  },
  {
   "cell_type": "code",
   "execution_count": 19,
   "metadata": {},
   "outputs": [
    {
     "data": {
      "text/plain": [
       "4.4413506614586287e-10"
      ]
     },
     "execution_count": 19,
     "metadata": {},
     "output_type": "execute_result"
    }
   ],
   "source": [
    "np.linalg.norm(G.g(G.x))"
   ]
  },
  {
   "cell_type": "code",
   "execution_count": 18,
   "metadata": {},
   "outputs": [
    {
     "data": {
      "text/plain": [
       "48022.38066921063"
      ]
     },
     "execution_count": 18,
     "metadata": {},
     "output_type": "execute_result"
    }
   ],
   "source": [
    "np.linalg.norm(G.g([0.3358123 , 0.29323831, 0.7683404,  0.99823757, 0.64899765, 0.20282443,\n",
    " 0.92795908, 0.36652317, 0.30067024 ,0.05922356]))"
   ]
  },
  {
   "cell_type": "code",
   "execution_count": 11,
   "metadata": {},
   "outputs": [
    {
     "name": "stdout",
     "output_type": "stream",
     "text": [
      "\n",
      " Line Search Gradient Descent:\n",
      "_____________________________________________\n",
      "At final iteration k = 7484 :\n",
      "x vector is: [0.73868331 0.9014408  0.45572107 0.92923635 0.37598777 0.19815818\n",
      " 0.64171194 0.04077453 0.73783744 0.30993475]\n",
      "Gradient Norm is: 4.4413506614586287e-10\n",
      "Time taken: 21.6036217212677\n",
      "Final Lambda value:  0.0009879351850049511\n"
     ]
    },
    {
     "data": {
      "image/png": "[encoded data removed]",
      "text/plain": [
       "<Figure size 432x288 with 1 Axes>"
      ]
     },
     "metadata": {
      "needs_background": "light"
     },
     "output_type": "display_data"
    }
   ],
   "source": [
    "G = leastSquaresGD(1e-8)\n",
    "G.generate(linFunc,10,100, 1)\n",
    "G.LineSearch()\n",
    "G.PrintPlots()"
   ]
  },
  {
   "cell_type": "code",
   "execution_count": null,
   "metadata": {},
   "outputs": [],
   "source": []
  },
  {
   "cell_type": "code",
   "execution_count": null,
   "metadata": {},
   "outputs": [],
   "source": []
  },
  {
   "cell_type": "code",
   "execution_count": null,
   "metadata": {},
   "outputs": [],
   "source": []
  },
  {
   "cell_type": "code",
   "execution_count": null,
   "metadata": {},
   "outputs": [],
   "source": []
  },
  {
   "cell_type": "code",
   "execution_count": null,
   "metadata": {},
   "outputs": [],
   "source": []
  },
  {
   "cell_type": "code",
   "execution_count": null,
   "metadata": {},
   "outputs": [],
   "source": []
  },
  {
   "cell_type": "code",
   "execution_count": null,
   "metadata": {},
   "outputs": [],
   "source": []
  },
  {
   "cell_type": "code",
   "execution_count": null,
   "metadata": {},
   "outputs": [],
   "source": []
  },
  {
   "cell_type": "code",
   "execution_count": 23,
   "metadata": {},
   "outputs": [
    {
     "name": "stdout",
     "output_type": "stream",
     "text": [
      " \n",
      " Vanilla Gradient Descent:\n",
      "_____________________________________________\n",
      "At final iteration k = 117029 :\n",
      "x vector is: [1.50247598 3.22438961 4.13564111 3.09076269 3.79547147 8.18463182\n",
      " 6.87657931 4.88158754 4.35962825 6.747912   2.25488024 0.44517342\n",
      " 9.50996088 6.00418347 5.73264878 8.82929558 6.12434503 3.59469119\n",
      " 5.43760263 2.2771975  2.90768964 4.1944005  3.27137367 0.55224305\n",
      " 2.05476249 4.51615608 3.2596148  2.71207107 7.50468836 2.90674596\n",
      " 7.29805693 4.17826228 5.07600889 7.83252513 8.15309756 8.73238915\n",
      " 3.96241129 7.08311278 8.26951979 3.2840348  8.86432838 1.89067636\n",
      " 4.19960364 8.31592321 3.7248556  9.10436967 2.17990421 8.27587319\n",
      " 8.43337868 6.44883872 7.67277682 0.2637033  5.04407738 4.19887695\n",
      " 0.19376249 9.23489955 9.81715642 3.19654151 2.80378087 1.59860927\n",
      " 4.52040889 9.9089658  1.56646513 8.70605546 8.35648295 7.19112072\n",
      " 2.36106289 1.68129946 1.83396748 1.62590814 1.60028269 2.56218428\n",
      " 3.78191949 2.70067041 8.58300284 2.48051617 2.65205024 5.15365766\n",
      " 4.62852489 8.21160235 2.74716263 8.32170109 3.69623955 2.88564851\n",
      " 7.24680769 2.75257236 4.23573936 4.41671931 0.58580339 8.49794314\n",
      " 5.08875302 2.40956269 4.0166027  1.77141429 0.66982111 7.03354586\n",
      " 8.87542728 4.45050084 4.67581488 2.16750079]\n",
      "Gradient Norm is: 9.999796731536225e-06\n",
      "Time taken: 24.38477063179016\n",
      "Final Lambda value:  8.928681661595779e-09\n",
      "\n",
      " Adaptive Gradient Descent:\n",
      "_____________________________________________\n",
      "At final iteration k = 51595 :\n",
      "x vector is: [1.50247598 3.22438961 4.13564111 3.09076269 3.79547147 8.18463182\n",
      " 6.87657931 4.88158754 4.35962825 6.747912   2.25488024 0.44517342\n",
      " 9.50996088 6.00418347 5.73264878 8.82929558 6.12434503 3.59469119\n",
      " 5.43760263 2.2771975  2.90768964 4.1944005  3.27137367 0.55224305\n",
      " 2.05476249 4.51615608 3.2596148  2.71207107 7.50468836 2.90674596\n",
      " 7.29805693 4.17826228 5.07600889 7.83252513 8.15309756 8.73238915\n",
      " 3.96241129 7.08311278 8.26951979 3.2840348  8.86432838 1.89067636\n",
      " 4.19960364 8.31592321 3.7248556  9.10436967 2.17990421 8.27587319\n",
      " 8.43337868 6.44883872 7.67277682 0.2637033  5.04407738 4.19887695\n",
      " 0.19376249 9.23489955 9.81715642 3.19654151 2.80378087 1.59860927\n",
      " 4.52040889 9.9089658  1.56646513 8.70605546 8.35648295 7.19112072\n",
      " 2.36106289 1.68129946 1.83396748 1.62590814 1.60028269 2.56218428\n",
      " 3.78191949 2.70067041 8.58300284 2.48051617 2.65205024 5.15365766\n",
      " 4.62852489 8.21160235 2.74716263 8.32170109 3.69623955 2.88564851\n",
      " 7.24680769 2.75257236 4.23573936 4.41671931 0.58580339 8.49794314\n",
      " 5.08875302 2.40956269 4.0166027  1.77141429 0.66982111 7.03354586\n",
      " 8.87542728 4.45050084 4.67581488 2.16750079]\n",
      "Gradient Norm is: 9.991277885643988e-06\n",
      "Time taken: 31.756826877593994\n",
      "Final Lambda value:  1.2001877971351693e-08\n",
      "\n",
      " Barzilai-Borwein Gradient Descent:\n",
      "_____________________________________________\n",
      "At final iteration k = 7632 :\n",
      "x vector is: [1.50247598 3.22438961 4.13564111 3.09076269 3.79547147 8.18463182\n",
      " 6.87657931 4.88158754 4.35962825 6.747912   2.25488024 0.44517342\n",
      " 9.50996088 6.00418347 5.73264878 8.82929558 6.12434503 3.59469119\n",
      " 5.43760263 2.2771975  2.90768964 4.1944005  3.27137367 0.55224305\n",
      " 2.05476249 4.51615608 3.2596148  2.71207107 7.50468836 2.90674596\n",
      " 7.29805693 4.17826228 5.07600889 7.83252513 8.15309756 8.73238915\n",
      " 3.96241129 7.08311278 8.26951979 3.2840348  8.86432838 1.89067636\n",
      " 4.19960364 8.31592321 3.7248556  9.10436967 2.17990421 8.27587319\n",
      " 8.43337868 6.44883872 7.67277682 0.2637033  5.04407738 4.19887695\n",
      " 0.19376249 9.23489955 9.81715642 3.19654151 2.80378087 1.59860927\n",
      " 4.52040889 9.9089658  1.56646513 8.70605546 8.35648295 7.19112072\n",
      " 2.36106289 1.68129946 1.83396748 1.62590814 1.60028269 2.56218428\n",
      " 3.78191949 2.70067041 8.58300284 2.48051617 2.65205024 5.15365766\n",
      " 4.62852489 8.21160235 2.74716263 8.32170109 3.69623955 2.88564851\n",
      " 7.24680769 2.75257236 4.23573936 4.41671931 0.58580339 8.49794314\n",
      " 5.08875302 2.40956269 4.0166027  1.77141429 0.66982111 7.03354586\n",
      " 8.87542728 4.45050084 4.67581488 2.16750079]\n",
      "Gradient Norm is: 9.999664203181468e-06\n",
      "Time taken: 7.1653687953948975\n",
      "Final Lambda value:  1.670395567950154e-08\n"
     ]
    },
    {
     "data": {
      "image/png": "[encoded data removed]",
      "text/plain": [
       "<Figure size 432x288 with 1 Axes>"
      ]
     },
     "metadata": {
      "needs_background": "light"
     },
     "output_type": "display_data"
    }
   ],
   "source": [
    "G = leastSquaresGD(1e-5)\n",
    "G.generate(linFunc,100,1000, 10)\n",
    "G.Vanilla()\n",
    "# G.LineSearch()\n",
    "G.Adaptive()\n",
    "G.Barzilai()\n",
    "G.PrintPlots()"
   ]
  },
  {
   "cell_type": "code",
   "execution_count": 5,
   "metadata": {},
   "outputs": [
    {
     "name": "stderr",
     "output_type": "stream",
     "text": [
      "<ipython-input-2-ee0c423419d2>:141: RuntimeWarning: invalid value encountered in double_scalars\n",
      "  self.lam = np.dot( self.x - oldX, self.LinRegGrad(self.x) - self.LinRegGrad(oldX) ) \\\n"
     ]
    },
    {
     "name": "stdout",
     "output_type": "stream",
     "text": [
      "\n",
      " Barzilai-Borwein Gradient Descent:\n",
      "_____________________________________________\n",
      "At final iteration k = 11721 :\n",
      "x vector is: [nan nan nan nan nan nan nan nan nan nan nan nan nan nan nan nan nan nan\n",
      " nan nan nan nan nan nan nan nan nan nan nan nan nan nan nan nan nan nan\n",
      " nan nan nan nan nan nan nan nan nan nan nan nan nan nan nan nan nan nan\n",
      " nan nan nan nan nan nan nan nan nan nan nan nan nan nan nan nan nan nan\n",
      " nan nan nan nan nan nan nan nan nan nan nan nan nan nan nan nan nan nan\n",
      " nan nan nan nan nan nan nan nan nan nan]\n",
      "Gradient Norm is: nan\n",
      "Time taken: 12.256787776947021\n",
      "Final Lambda value:  nan\n"
     ]
    },
    {
     "data": {
      "image/png": "[encoded data removed]",
      "text/plain": [
       "<Figure size 432x288 with 1 Axes>"
      ]
     },
     "metadata": {
      "needs_background": "light"
     },
     "output_type": "display_data"
    }
   ],
   "source": [
    "G = leastSquaresGD(1e-8)\n",
    "G.generate(linFunc,100,1000, 10)\n",
    "G.Barzilai()\n",
    "G.PrintPlots()"
   ]
  },
  {
   "cell_type": "code",
   "execution_count": null,
   "metadata": {},
   "outputs": [],
   "source": []
  }
 ],
 "metadata": {
  "kernelspec": {
   "display_name": "Python 3",
   "language": "python",
   "name": "python3"
  },
  "language_info": {
   "codemirror_mode": {
    "name": "ipython",
    "version": 3
   },
   "file_extension": ".py",
   "mimetype": "text/x-python",
   "name": "python",
   "nbconvert_exporter": "python",
   "pygments_lexer": "ipython3",
   "version": "3.8.6"
  }
 },
 "nbformat": 4,
 "nbformat_minor": 4
}
